{
 "cells": [
  {
   "cell_type": "code",
   "execution_count": 1,
   "metadata": {
    "_cell_guid": "b1076dfc-b9ad-4769-8c92-a6c4dae69d19",
    "_kg_hide-input": true,
    "_uuid": "8f2839f25d086af736a60e9eeb907d3b93b6e0e5",
    "scrolled": true
   },
   "outputs": [
    {
     "name": "stderr",
     "output_type": "stream",
     "text": [
      "C:\\Users\\chrun\\Anaconda3\\envs\\fastai\\lib\\site-packages\\sklearn\\ensemble\\weight_boosting.py:29: DeprecationWarning: numpy.core.umath_tests is an internal NumPy module and should not be imported. It will be removed in a future NumPy release.\n",
      "  from numpy.core.umath_tests import inner1d\n"
     ]
    }
   ],
   "source": [
    "import os\n",
    "\n",
    "import doctest\n",
    "import numpy as np\n",
    "import pandas as pd\n",
    "  \n",
    "from sklearn import metrics\n",
    "from sklearn.metrics import mean_squared_error\n",
    "#from sklearn.model_selection import KFold, GroupKFold, StratifiedKFold\n",
    "\n",
    "from fastai.structured import *\n",
    "from fastai.column_data import *\n",
    "PATH = 'data/'"
   ]
  },
  {
   "cell_type": "code",
   "execution_count": 2,
   "metadata": {},
   "outputs": [],
   "source": [
    "#torch.backends.cudnn.deterministic = True\n",
    "#torch.manual_seed(999)"
   ]
  },
  {
   "cell_type": "markdown",
   "metadata": {},
   "source": [
    "# Get Data"
   ]
  },
  {
   "cell_type": "code",
   "execution_count": 3,
   "metadata": {},
   "outputs": [
    {
     "data": {
      "text/plain": [
       "((903653, 30), (804684, 30))"
      ]
     },
     "execution_count": 3,
     "metadata": {},
     "output_type": "execute_result"
    }
   ],
   "source": [
    "train = pd.read_csv('data/extracted_fields_train.gz', dtype={'date': str, 'fullVisitorId': str, 'sessionId':str}, nrows=None)\n",
    "test = pd.read_csv('data/extracted_fields_test.gz', dtype={'date': str, 'fullVisitorId': str, 'sessionId':str}, nrows=None)\n",
    "train.shape, test.shape"
   ]
  },
  {
   "cell_type": "markdown",
   "metadata": {},
   "source": [
    "# Folding"
   ]
  },
  {
   "cell_type": "markdown",
   "metadata": {
    "_uuid": "6be7ebd7776a156b7db885fa7697ca0dd4e5c68f"
   },
   "source": [
    "# Feature engineering"
   ]
  },
  {
   "cell_type": "code",
   "execution_count": 4,
   "metadata": {},
   "outputs": [],
   "source": [
    "train['totals.transactionRevenue'].fillna(0, inplace = True)\n",
    "for df in [train, test]:\n",
    "    df['date'] = pd.to_datetime(df['visitStartTime'], unit='s')\n",
    "    df['sess_date_dow'] = df['date'].dt.dayofweek\n",
    "    df['sess_date_hours'] = df['date'].dt.hour\n",
    "    df['sess_date_dom'] = df['date'].dt.day\n",
    "    df.sort_values(['fullVisitorId', 'date'], ascending=True, inplace=True)\n",
    "    df['next_session_1'] = (\n",
    "        df['date'] - df[['fullVisitorId', 'date']].groupby('fullVisitorId')['date'].shift(1)\n",
    "    ).astype(np.int64) // 1e9 // 60 // 60\n",
    "    df['next_session_2'] = (\n",
    "        df['date'] - df[['fullVisitorId', 'date']].groupby('fullVisitorId')['date'].shift(-1)\n",
    "    ).astype(np.int64) // 1e9 // 60 // 60\n",
    "    \n",
    "    df['time'] = df.visitStartTime.apply(lambda x: datetime.datetime.utcfromtimestamp(float(x)))"
   ]
  },
  {
   "cell_type": "markdown",
   "metadata": {
    "_uuid": "e07ce3724c9c6bb66f4839204f54f59c5826bf53"
   },
   "source": [
    "# Prepare data for deep-learning regression model"
   ]
  },
  {
   "cell_type": "code",
   "execution_count": 76,
   "metadata": {},
   "outputs": [],
   "source": [
    "excluded_features = [\n",
    "    'sessionId', 'totals.transactionRevenue', \n",
    "    'visitId', 'visitStartTime', 'date', 'time']\n",
    "\n",
    "cat_cols = [\n",
    "    _f for _f in train.columns\n",
    "    if (_f not in excluded_features) & (train[_f].dtype == 'object' or train[_f].dtype == 'int64' or _f == 'visitNumber')\n",
    "]\n",
    "\n",
    "num_cols = [c for c in train.columns if c not in cat_cols and c not in excluded_features]"
   ]
  },
  {
   "cell_type": "code",
   "execution_count": 77,
   "metadata": {},
   "outputs": [
    {
     "data": {
      "text/plain": [
       "['device.isMobile',\n",
       " 'totals.bounces',\n",
       " 'totals.hits',\n",
       " 'totals.newVisits',\n",
       " 'totals.pageviews',\n",
       " 'trafficSource.isTrueDirect']"
      ]
     },
     "execution_count": 77,
     "metadata": {},
     "output_type": "execute_result"
    }
   ],
   "source": [
    "num_cols"
   ]
  },
  {
   "cell_type": "code",
   "execution_count": 78,
   "metadata": {
    "scrolled": true
   },
   "outputs": [],
   "source": [
    "dep = 'totals.transactionRevenue'\n",
    "test[dep] = 0"
   ]
  },
  {
   "cell_type": "code",
   "execution_count": 79,
   "metadata": {
    "_uuid": "00b3c090da16bd8c60d33186345486bcef9244c3",
    "scrolled": true
   },
   "outputs": [
    {
     "name": "stdout",
     "output_type": "stream",
     "text": [
      "prepare model ...\n"
     ]
    }
   ],
   "source": [
    "# Model\n",
    "print(\"prepare model ...\")\n",
    "X = train[cat_cols + num_cols + [dep, 'time']].copy()\n",
    "X_test = test[cat_cols + num_cols + [dep, 'time']].copy()"
   ]
  },
  {
   "cell_type": "code",
   "execution_count": 80,
   "metadata": {
    "scrolled": true
   },
   "outputs": [
    {
     "name": "stdout",
     "output_type": "stream",
     "text": [
      "channelGrouping\n",
      "fullVisitorId\n",
      "visitNumber\n",
      "device.browser\n",
      "device.deviceCategory\n",
      "device.operatingSystem\n",
      "geoNetwork.city\n",
      "geoNetwork.continent\n",
      "geoNetwork.country\n",
      "geoNetwork.metro\n",
      "geoNetwork.networkDomain\n",
      "geoNetwork.region\n",
      "geoNetwork.subContinent\n",
      "trafficSource.adContent\n",
      "trafficSource.campaign\n",
      "trafficSource.keyword\n",
      "trafficSource.medium\n",
      "trafficSource.referralPath\n",
      "trafficSource.source\n",
      "sess_date_dow\n",
      "sess_date_hours\n",
      "sess_date_dom\n",
      "next_session_1\n",
      "next_session_2\n"
     ]
    }
   ],
   "source": [
    "for v in cat_cols:\n",
    "    print(v)\n",
    "    X[v] = X[v].astype('category').cat.as_ordered()"
   ]
  },
  {
   "cell_type": "code",
   "execution_count": 81,
   "metadata": {},
   "outputs": [
    {
     "data": {
      "text/plain": [
       "(32, 32, set())"
      ]
     },
     "execution_count": 81,
     "metadata": {},
     "output_type": "execute_result"
    }
   ],
   "source": [
    "len(X.columns), len(X_test.columns), set(X_test.columns).difference(set(X.columns))"
   ]
  },
  {
   "cell_type": "code",
   "execution_count": 82,
   "metadata": {
    "scrolled": true
   },
   "outputs": [],
   "source": [
    "apply_cats(X_test, X)\n",
    "#if this does not work it is probably because of a duplicated column name ( throws dataframe has no attribute dtype error)"
   ]
  },
  {
   "cell_type": "code",
   "execution_count": 83,
   "metadata": {
    "scrolled": true
   },
   "outputs": [],
   "source": [
    "for v in num_cols:\n",
    "    X[v] = X[v].astype('float32')\n",
    "    X_test[v] = X_test[v].astype('float32')\n",
    "    \n",
    "\n",
    "X[dep] = X[dep].astype('float32')\n",
    "X[dep] = X[dep].fillna(0)\n",
    "X_test[dep] = X_test[dep].astype('float32')"
   ]
  },
  {
   "cell_type": "markdown",
   "metadata": {},
   "source": [
    "## Create Dataframes for deep-learning"
   ]
  },
  {
   "cell_type": "code",
   "execution_count": 84,
   "metadata": {},
   "outputs": [
    {
     "data": {
      "text/plain": [
       "[('channelGrouping', 9),\n",
       " ('fullVisitorId', 714168),\n",
       " ('visitNumber', 385),\n",
       " ('device.browser', 55),\n",
       " ('device.deviceCategory', 4),\n",
       " ('device.operatingSystem', 21),\n",
       " ('geoNetwork.city', 650),\n",
       " ('geoNetwork.continent', 7),\n",
       " ('geoNetwork.country', 223),\n",
       " ('geoNetwork.metro', 95),\n",
       " ('geoNetwork.networkDomain', 28065),\n",
       " ('geoNetwork.region', 377),\n",
       " ('geoNetwork.subContinent', 24),\n",
       " ('trafficSource.adContent', 45),\n",
       " ('trafficSource.campaign', 11),\n",
       " ('trafficSource.keyword', 3659),\n",
       " ('trafficSource.medium', 8),\n",
       " ('trafficSource.referralPath', 1476),\n",
       " ('trafficSource.source', 381),\n",
       " ('sess_date_dow', 8),\n",
       " ('sess_date_hours', 25),\n",
       " ('sess_date_dom', 32),\n",
       " ('next_session_1', 4023),\n",
       " ('next_session_2', 4023)]"
      ]
     },
     "execution_count": 84,
     "metadata": {},
     "output_type": "execute_result"
    }
   ],
   "source": [
    "cat_sz = [(c, len(X[c].cat.categories)+1) for c in cat_cols]\n",
    "cat_sz"
   ]
  },
  {
   "cell_type": "code",
   "execution_count": 85,
   "metadata": {},
   "outputs": [
    {
     "data": {
      "text/plain": [
       "[(9, 10),\n",
       " (714168, 50),\n",
       " (385, 50),\n",
       " (55, 28),\n",
       " (4, 10),\n",
       " (21, 11),\n",
       " (650, 50),\n",
       " (7, 10),\n",
       " (223, 50),\n",
       " (95, 48),\n",
       " (28065, 50),\n",
       " (377, 50),\n",
       " (24, 12),\n",
       " (45, 23),\n",
       " (11, 10),\n",
       " (3659, 50),\n",
       " (8, 10),\n",
       " (1476, 50),\n",
       " (381, 50),\n",
       " (8, 10),\n",
       " (25, 13),\n",
       " (32, 16),\n",
       " (4023, 50),\n",
       " (4023, 50)]"
      ]
     },
     "execution_count": 85,
     "metadata": {},
     "output_type": "execute_result"
    }
   ],
   "source": [
    "emb_szs = [(c, max(10, min(50, (c+1)//2))) for _,c in cat_sz]\n",
    "emb_szs"
   ]
  },
  {
   "cell_type": "code",
   "execution_count": 86,
   "metadata": {},
   "outputs": [],
   "source": [
    "import warnings; warnings.simplefilter('ignore')"
   ]
  },
  {
   "cell_type": "code",
   "execution_count": 87,
   "metadata": {},
   "outputs": [],
   "source": [
    "def exp_rmse(y_pred, targ):\n",
    "    return math.sqrt(mean_squared_error(targ, y_pred))"
   ]
  },
  {
   "cell_type": "markdown",
   "metadata": {},
   "source": [
    "## Learning Visitor Level"
   ]
  },
  {
   "cell_type": "code",
   "execution_count": 88,
   "metadata": {},
   "outputs": [],
   "source": [
    "X.sort_values(['time'], inplace = True)\n",
    "X_test.sort_values(['time'], inplace = True)"
   ]
  },
  {
   "cell_type": "code",
   "execution_count": 89,
   "metadata": {},
   "outputs": [],
   "source": [
    "X_indexed = X.set_index(['time'])\n",
    "X_test_indexed = X_test.set_index(['time'])"
   ]
  },
  {
   "cell_type": "code",
   "execution_count": 90,
   "metadata": {},
   "outputs": [
    {
     "data": {
      "text/plain": [
       "<matplotlib.axes._subplots.AxesSubplot at 0x1d423211358>"
      ]
     },
     "execution_count": 90,
     "metadata": {},
     "output_type": "execute_result"
    },
    {
     "data": {
      "image/png": "[encoded data removed]",
      "text/plain": [
       "<Figure size 432x288 with 1 Axes>"
      ]
     },
     "metadata": {
      "needs_background": "light"
     },
     "output_type": "display_data"
    }
   ],
   "source": [
    "X_indexed['totals.transactionRevenue'].plot()\n",
    "X_test_indexed['totals.transactionRevenue'].plot()"
   ]
  },
  {
   "cell_type": "code",
   "execution_count": 91,
   "metadata": {},
   "outputs": [
    {
     "data": {
      "text/plain": [
       "Timedelta('365 days 23:59:41')"
      ]
     },
     "execution_count": 91,
     "metadata": {},
     "output_type": "execute_result"
    }
   ],
   "source": [
    "X_indexed.index.get_level_values(0).min(), X_indexed.index.get_level_values(0).max(), \n",
    "X_indexed.index.get_level_values(0).max() - X_indexed.index.get_level_values(0).min()"
   ]
  },
  {
   "cell_type": "code",
   "execution_count": 92,
   "metadata": {},
   "outputs": [
    {
     "data": {
      "text/plain": [
       "Timedelta('271 days 23:56:55')"
      ]
     },
     "execution_count": 92,
     "metadata": {},
     "output_type": "execute_result"
    }
   ],
   "source": [
    "X_test_indexed.index.get_level_values(0).min(), X_test_indexed.index.get_level_values(0).max(), \n",
    "X_test_indexed.index.get_level_values(0).max() - X_test_indexed.index.get_level_values(0).min()"
   ]
  },
  {
   "cell_type": "code",
   "execution_count": 93,
   "metadata": {},
   "outputs": [],
   "source": [
    "val_idx = len(X_indexed[X_indexed.index.get_level_values(0) >= '2017-06-01'])"
   ]
  },
  {
   "cell_type": "code",
   "execution_count": 94,
   "metadata": {},
   "outputs": [],
   "source": [
    "val_idx = list(range(len(X_indexed) - len(X_indexed[X_indexed.index.get_level_values(0) >= '2017-06-01']), len(X_indexed)))"
   ]
  },
  {
   "cell_type": "code",
   "execution_count": 95,
   "metadata": {},
   "outputs": [
    {
     "data": {
      "text/plain": [
       "(138443, 0.1532037186840524)"
      ]
     },
     "execution_count": 95,
     "metadata": {},
     "output_type": "execute_result"
    }
   ],
   "source": [
    "len(val_idx), len(val_idx) / len(X_indexed)"
   ]
  },
  {
   "cell_type": "code",
   "execution_count": null,
   "metadata": {},
   "outputs": [],
   "source": []
  },
  {
   "cell_type": "code",
   "execution_count": 113,
   "metadata": {},
   "outputs": [],
   "source": [
    "df, y, nas_, mapper_ = proc_df(X_indexed, 'totals.transactionRevenue', do_scale=True)\n",
    "\n",
    "df_test, _, nas_, mapper_ = proc_df(X_test_indexed, 'totals.transactionRevenue', do_scale=True,\n",
    "                                    mapper=mapper_, na_dict=nas_)\n",
    "yl = np.log1p(y)\n",
    "max_y = np.max(yl)\n",
    "y_range = (0, max_y*1.2)\n",
    "\n",
    "md = ColumnarModelData.from_data_frame(PATH, val_idx, df, yl, cat_flds=cat_cols, bs=512, test_df=df_test)\n",
    "m = md.get_learner(emb_szs, len(df.columns)-len(cat_cols),\n",
    "               0.04, 1, [1000,500], [0.001, 0.01], y_range=y_range)"
   ]
  },
  {
   "cell_type": "code",
   "execution_count": 114,
   "metadata": {},
   "outputs": [
    {
     "data": {
      "application/vnd.jupyter.widget-view+json": {
       "model_id": "8b6049fe3cfd4944be2cb583495fa80e",
       "version_major": 2,
       "version_minor": 0
      },
      "text/plain": [
       "HBox(children=(IntProgress(value=0, description='Epoch', max=1), HTML(value='')))"
      ]
     },
     "metadata": {},
     "output_type": "display_data"
    },
    {
     "name": "stdout",
     "output_type": "stream",
     "text": [
      "epoch      trn_loss   val_loss                                                                                         \n",
      "    0      3.941409   4.621917  \n"
     ]
    }
   ],
   "source": [
    "m.lr_find()"
   ]
  },
  {
   "cell_type": "code",
   "execution_count": 115,
   "metadata": {},
   "outputs": [
    {
     "data": {
      "image/png": "[encoded data removed]",
      "text/plain": [
       "<Figure size 432x288 with 1 Axes>"
      ]
     },
     "metadata": {
      "needs_background": "light"
     },
     "output_type": "display_data"
    }
   ],
   "source": [
    "m.sched.plot()"
   ]
  },
  {
   "cell_type": "code",
   "execution_count": 116,
   "metadata": {},
   "outputs": [],
   "source": [
    "loss_lrs = pd.DataFrame(list(zip(m.sched.losses, m.sched.lrs)), columns=['loss', 'lr'])"
   ]
  },
  {
   "cell_type": "code",
   "execution_count": 117,
   "metadata": {},
   "outputs": [
    {
     "data": {
      "text/plain": [
       "0.006506956844648881"
      ]
     },
     "execution_count": 117,
     "metadata": {},
     "output_type": "execute_result"
    }
   ],
   "source": [
    "best = loss_lrs[loss_lrs['loss'] == m.sched.best]['lr'].values[0]\n",
    "best"
   ]
  },
  {
   "cell_type": "code",
   "execution_count": 118,
   "metadata": {},
   "outputs": [
    {
     "data": {
      "application/vnd.jupyter.widget-view+json": {
       "model_id": "b78479c0120049d7928fc2538b566574",
       "version_major": 2,
       "version_minor": 0
      },
      "text/plain": [
       "HBox(children=(IntProgress(value=0, description='Epoch', max=7), HTML(value='')))"
      ]
     },
     "metadata": {},
     "output_type": "display_data"
    },
    {
     "name": "stdout",
     "output_type": "stream",
     "text": [
      "epoch      trn_loss   val_loss   exp_rmse                                                                              \n",
      "    0      4.101118   4.702824   2.110798  \n",
      "    1      2.993215   3.375254   1.785847                                                                              \n",
      "    2      2.913964   3.310864   1.767934                                                                              \n",
      "    3      2.842841   3.046188   1.695158                                                                              \n",
      "    4      2.578391   2.974066   1.673801                                                                              \n",
      "    5      2.678424   2.924331   1.660338                                                                              \n",
      "    6      2.564853   2.92647    1.660759                                                                              \n"
     ]
    },
    {
     "data": {
      "text/plain": [
       "[2.92646978936475, 1.6607585108554386]"
      ]
     },
     "execution_count": 118,
     "metadata": {},
     "output_type": "execute_result"
    }
   ],
   "source": [
    "m.fit(2e-5, 3, cycle_len = 1, cycle_mult = 2, metrics=[exp_rmse])"
   ]
  },
  {
   "cell_type": "code",
   "execution_count": 119,
   "metadata": {},
   "outputs": [],
   "source": [
    "m.save('fastai4E')"
   ]
  },
  {
   "cell_type": "code",
   "execution_count": 62,
   "metadata": {},
   "outputs": [],
   "source": [
    "m.load('fastai4E')"
   ]
  },
  {
   "cell_type": "code",
   "execution_count": 63,
   "metadata": {},
   "outputs": [
    {
     "data": {
      "application/vnd.jupyter.widget-view+json": {
       "model_id": "cfc4ccf58b4d48f0b88624fa29567a07",
       "version_major": 2,
       "version_minor": 0
      },
      "text/plain": [
       "HBox(children=(IntProgress(value=0, description='Epoch', max=1), HTML(value='')))"
      ]
     },
     "metadata": {},
     "output_type": "display_data"
    },
    {
     "name": "stdout",
     "output_type": "stream",
     "text": [
      "epoch      trn_loss   val_loss   exp_rmse                                                                              \n",
      "    0      2.447957   2.865611   1.640875  \n"
     ]
    },
    {
     "data": {
      "text/plain": [
       "[2.8656112139787098, 1.6408754544598003]"
      ]
     },
     "execution_count": 63,
     "metadata": {},
     "output_type": "execute_result"
    }
   ],
   "source": [
    "m.fit(1e-4, 1, cycle_len = 1, cycle_mult = 1, metrics=[exp_rmse])"
   ]
  },
  {
   "cell_type": "code",
   "execution_count": 64,
   "metadata": {},
   "outputs": [],
   "source": [
    "m.save('fastai5E')"
   ]
  },
  {
   "cell_type": "code",
   "execution_count": 34,
   "metadata": {},
   "outputs": [
    {
     "data": {
      "application/vnd.jupyter.widget-view+json": {
       "model_id": "e7543f6e278e44bdbd1592663344339d",
       "version_major": 2,
       "version_minor": 0
      },
      "text/plain": [
       "HBox(children=(IntProgress(value=0, description='Epoch', max=3), HTML(value='')))"
      ]
     },
     "metadata": {},
     "output_type": "display_data"
    },
    {
     "name": "stdout",
     "output_type": "stream",
     "text": [
      "epoch      trn_loss   val_loss   exp_rmse                                                                              \n",
      "    0      2.552183   2.993483   1.676786  \n",
      "    1      2.322141   2.97691    1.67147                                                                               \n",
      "    2      2.274471   2.968242   1.669349                                                                              \n",
      "\n"
     ]
    },
    {
     "data": {
      "text/plain": [
       "[2.9682424762207438, 1.6693489125501073]"
      ]
     },
     "execution_count": 34,
     "metadata": {},
     "output_type": "execute_result"
    }
   ],
   "source": [
    "m.fit(1e-4, 1, cycle_len = 3, cycle_mult = 1, metrics=[exp_rmse])"
   ]
  },
  {
   "cell_type": "code",
   "execution_count": 120,
   "metadata": {},
   "outputs": [
    {
     "data": {
      "text/plain": [
       "<matplotlib.axes._subplots.AxesSubplot at 0x1d41fa03470>"
      ]
     },
     "execution_count": 120,
     "metadata": {},
     "output_type": "execute_result"
    },
    {
     "data": {
      "image/png": "[encoded data removed]",
      "text/plain": [
       "<Figure size 864x1440 with 1 Axes>"
      ]
     },
     "metadata": {
      "needs_background": "light"
     },
     "output_type": "display_data"
    }
   ],
   "source": [
    "fi = nn_feat_importance(m, md, cat_cols, num_cols)\n",
    "fi.plot('cols', 'imp', 'barh', figsize=(12,20), legend=False)"
   ]
  },
  {
   "cell_type": "code",
   "execution_count": 123,
   "metadata": {},
   "outputs": [],
   "source": [
    "log_preds_train = m.predict_dl(m.data.trn_dl)\n",
    "log_preds_val = m.predict_dl(m.data.val_dl)\n",
    "\n",
    "log_preds_test = m.predict(True)"
   ]
  },
  {
   "cell_type": "code",
   "execution_count": 124,
   "metadata": {},
   "outputs": [
    {
     "data": {
      "text/plain": [
       "(0.2145227, 0.28266373, 0.2796201)"
      ]
     },
     "execution_count": 124,
     "metadata": {},
     "output_type": "execute_result"
    }
   ],
   "source": [
    "log_preds_test.mean(), log_preds_train.mean(), log_preds_val.mean()"
   ]
  },
  {
   "cell_type": "markdown",
   "metadata": {},
   "source": [
    "# Results"
   ]
  },
  {
   "cell_type": "code",
   "execution_count": 125,
   "metadata": {
    "colab": {},
    "colab_type": "code",
    "id": "rpM6EzpbbB77"
   },
   "outputs": [],
   "source": [
    "test['PredictedLogRevenue'] = np.expm1(log_preds_test)"
   ]
  },
  {
   "cell_type": "code",
   "execution_count": 126,
   "metadata": {},
   "outputs": [],
   "source": [
    "test_grouped = test.groupby(['fullVisitorId'], as_index=False).agg({'PredictedLogRevenue':'sum'})"
   ]
  },
  {
   "cell_type": "code",
   "execution_count": 127,
   "metadata": {},
   "outputs": [],
   "source": [
    "test_grouped['PredictedLogRevenue'] = np.log1p(test_grouped['PredictedLogRevenue'])"
   ]
  },
  {
   "cell_type": "code",
   "execution_count": 128,
   "metadata": {
    "colab": {},
    "colab_type": "code",
    "id": "x6zxzLF4bB8D"
   },
   "outputs": [],
   "source": [
    "csv_fn=f'{PATH}submission.csv'\n",
    "\n",
    "test_grouped[['fullVisitorId','PredictedLogRevenue']].to_csv(csv_fn, index=False)"
   ]
  },
  {
   "cell_type": "code",
   "execution_count": null,
   "metadata": {},
   "outputs": [],
   "source": []
  }
 ],
 "metadata": {
  "kernelspec": {
   "display_name": "Python 3",
   "language": "python",
   "name": "python3"
  },
  "language_info": {
   "codemirror_mode": {
    "name": "ipython",
    "version": 3
   },
   "file_extension": ".py",
   "mimetype": "text/x-python",
   "name": "python",
   "nbconvert_exporter": "python",
   "pygments_lexer": "ipython3",
   "version": "3.6.6"
  }
 },
 "nbformat": 4,
 "nbformat_minor": 1
}
