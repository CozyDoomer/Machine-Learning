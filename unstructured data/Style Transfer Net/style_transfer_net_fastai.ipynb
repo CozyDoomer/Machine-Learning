{
 "cells": [
  {
   "cell_type": "code",
   "execution_count": null,
   "metadata": {
    "colab": {},
    "colab_type": "code",
    "id": "JvfrDVoMDRGn"
   },
   "outputs": [],
   "source": [
    "%matplotlib inline\n",
    "%reload_ext autoreload\n",
    "%autoreload 2"
   ]
  },
  {
   "cell_type": "markdown",
   "metadata": {
    "colab_type": "text",
    "id": "2ml3ND3RDRGs"
   },
   "source": [
    "## Style transfer net"
   ]
  },
  {
   "cell_type": "code",
   "execution_count": null,
   "metadata": {
    "colab": {},
    "colab_type": "code",
    "id": "lFI5LgrVDRGt"
   },
   "outputs": [],
   "source": [
    "from fastai.conv_learner import *\n",
    "from pathlib import Path\n",
    "torch.cuda.set_device(0)\n",
    "\n",
    "import cv2\n",
    "\n",
    "torch.backends.cudnn.benchmark=True"
   ]
  },
  {
   "cell_type": "code",
   "execution_count": null,
   "metadata": {
    "colab": {},
    "colab_type": "code",
    "id": "p_s4_zcaDRGw"
   },
   "outputs": [],
   "source": [
    "PATH = Path('data')"
   ]
  },
  {
   "cell_type": "code",
   "execution_count": null,
   "metadata": {
    "colab": {},
    "colab_type": "code",
    "id": "EZDnUwwfDRGy",
    "outputId": "4fe897ac-57d2-4e03-963f-0172301a9310"
   },
   "outputs": [],
   "source": [
    "fnames_full,label_arr_full,all_labels = folder_source(PATH, 'train/imagenet')\n",
    "fnames_full = ['/'.join(Path(fn).parts[-2:]) for fn in fnames_full]\n",
    "list(zip(fnames_full[:5],label_arr_full[:5]))"
   ]
  },
  {
   "cell_type": "code",
   "execution_count": null,
   "metadata": {
    "colab": {},
    "colab_type": "code",
    "id": "d2Wf8vv8DRG3",
    "outputId": "a00ad5dc-5c93-449a-98af-03ab891618db"
   },
   "outputs": [],
   "source": [
    "all_labels[:5]"
   ]
  },
  {
   "cell_type": "code",
   "execution_count": null,
   "metadata": {
    "colab": {},
    "colab_type": "code",
    "id": "osnavrPVDRG6"
   },
   "outputs": [],
   "source": [
    "np.random.seed(42)\n",
    "keep_pct = 0.1\n",
    "keeps = np.random.rand(len(fnames_full)) < keep_pct\n",
    "fnames = np.array(fnames_full, copy=False)[keeps]\n",
    "label_arr = np.array(label_arr_full, copy=False)[keeps]"
   ]
  },
  {
   "cell_type": "markdown",
   "metadata": {},
   "source": [
    "## test case"
   ]
  },
  {
   "cell_type": "code",
   "execution_count": null,
   "metadata": {},
   "outputs": [],
   "source": [
    "PATH = 'data/train/lena/'\n",
    "PATH_TRN = f'{PATH}converted'\n",
    "os.listdir(PATH)[:4]"
   ]
  },
  {
   "cell_type": "code",
   "execution_count": null,
   "metadata": {},
   "outputs": [],
   "source": [
    "arch = vgg16\n",
    "# sz,bs = 96,32\n",
    "MAX_SZ,bs = 512,1\n",
    "# sz,bs = 128,32"
   ]
  },
  {
   "cell_type": "code",
   "execution_count": null,
   "metadata": {
    "colab": {},
    "colab_type": "code",
    "id": "hIzBrHwuwenC"
   },
   "outputs": [],
   "source": [
    "def scale_match(h, w, targ):\n",
    "    sh,sw,_ = targ.shape\n",
    "    rat = max(h/sh,w/sw); rat\n",
    "    res = cv2.resize(targ, (int(sw*rat), int(sh*rat)))\n",
    "    return res[:h,:w]"
   ]
  },
  {
   "cell_type": "code",
   "execution_count": null,
   "metadata": {},
   "outputs": [],
   "source": [
    "def get_shape_mean(path):\n",
    "    sumx = 0\n",
    "    sumy = 0\n",
    "    count = 0\n",
    "    \n",
    "    for fname in os.listdir(path):\n",
    "        if fname[-4:] == 'jpeg':\n",
    "            style_img = open_image(path + fname)\n",
    "            style_img\n",
    "            sumx += style_img.shape[0]\n",
    "            sumy += style_img.shape[1]\n",
    "            count += 1\n",
    "\n",
    "    return sumx/count, sumy/count "
   ]
  },
  {
   "cell_type": "code",
   "execution_count": null,
   "metadata": {
    "colab": {},
    "colab_type": "code",
    "id": "W5W3aL-WwenE"
   },
   "outputs": [],
   "source": [
    "def set_shape_mean(path):\n",
    "    mean_h, mean_w = get_shape_mean(path) #224,224\n",
    "\n",
    "    for fname in os.listdir(path):\n",
    "        if fname[-4:] == 'jpeg':\n",
    "            style_img = open_image(path + fname)\n",
    "            size = min(int(mean_h), int(mean_w))\n",
    "            size = size if size <= MAX_SZ else MAX_SZ\n",
    "            style = scale_match(size, size, style_img)\n",
    "            cv2.imwrite(f'{path}/converted/converted_{fname}',cv2.cvtColor(style[:, :, :]*255, cv2.COLOR_BGR2RGB))"
   ]
  },
  {
   "cell_type": "code",
   "execution_count": null,
   "metadata": {},
   "outputs": [],
   "source": [
    "set_shape_mean(PATH)"
   ]
  },
  {
   "cell_type": "code",
   "execution_count": null,
   "metadata": {},
   "outputs": [],
   "source": [
    "fnames = np.array(os.listdir('data/train/lena/converted'))\n",
    "fnames[:5]"
   ]
  },
  {
   "cell_type": "code",
   "execution_count": null,
   "metadata": {},
   "outputs": [],
   "source": [
    "label_arr = np.array(list(range(0, len(fnames))))\n",
    "label_arr[:5]"
   ]
  },
  {
   "cell_type": "code",
   "execution_count": null,
   "metadata": {},
   "outputs": [],
   "source": [
    "keeps = np.array(np.full((len(label_arr)), 1))\n",
    "keeps"
   ]
  },
  {
   "cell_type": "code",
   "execution_count": null,
   "metadata": {
    "colab": {},
    "colab_type": "code",
    "id": "z1Mb_raVDRG_"
   },
   "outputs": [],
   "source": [
    "class MatchedFilesDataset(FilesDataset):\n",
    "    def __init__(self, fnames, y, transform, path):\n",
    "        self.y=y\n",
    "        assert(len(fnames)==len(y))\n",
    "        super().__init__(fnames, transform, path)\n",
    "    def get_y(self, i): return open_image(os.path.join(self.path, self.y[i]))\n",
    "    def get_c(self): return 0"
   ]
  },
  {
   "cell_type": "code",
   "execution_count": null,
   "metadata": {
    "colab": {},
    "colab_type": "code",
    "id": "NEh1EB92DRHC",
    "outputId": "57d890fe-1d79-4d39-dc1a-2c541ad202f5"
   },
   "outputs": [],
   "source": [
    "val_idxs = get_cv_idxs(len(fnames), val_pct=0.2) #min(0.01/keep_pct, 0.1)\n",
    "((val_x,trn_x),(val_y,trn_y)) = split_by_idx(val_idxs, np.array(fnames), np.array(fnames))\n",
    "len(val_x),len(trn_x)"
   ]
  },
  {
   "cell_type": "code",
   "execution_count": null,
   "metadata": {
    "colab": {},
    "colab_type": "code",
    "id": "sBXnVAuEDRHI"
   },
   "outputs": [],
   "source": [
    "tfms = tfms_from_model(arch, MAX_SZ, tfm_y=TfmType.PIXEL)\n",
    "datasets = ImageData.get_ds(MatchedFilesDataset, (trn_x,trn_y), (val_x,val_y), tfms, path=PATH_TRN)\n",
    "md = ImageData(PATH, datasets, bs, num_workers=8, classes=None)"
   ]
  },
  {
   "cell_type": "code",
   "execution_count": null,
   "metadata": {
    "colab": {},
    "colab_type": "code",
    "id": "JUNuQzRXDRHK"
   },
   "outputs": [],
   "source": [
    "denorm = md.val_ds.denorm"
   ]
  },
  {
   "cell_type": "code",
   "execution_count": null,
   "metadata": {
    "colab": {},
    "colab_type": "code",
    "id": "j4TxsoS8DRHL"
   },
   "outputs": [],
   "source": [
    "def show_img(ims, idx, figsize=(5,5), normed=True, ax=None):\n",
    "    if ax is None: fig,ax = plt.subplots(figsize=figsize)\n",
    "    if normed: ims = denorm(ims)\n",
    "    else:      ims = np.rollaxis(to_np(ims),1,4)\n",
    "    ax.imshow(np.clip(ims,0,1)[idx])\n",
    "    ax.axis('off')"
   ]
  },
  {
   "cell_type": "markdown",
   "metadata": {
    "colab_type": "text",
    "id": "ADMLM2LRDRHO"
   },
   "source": [
    "## Model"
   ]
  },
  {
   "cell_type": "code",
   "execution_count": null,
   "metadata": {
    "colab": {},
    "colab_type": "code",
    "id": "VnrJC00zDRHP"
   },
   "outputs": [],
   "source": [
    "def conv(ni, nf, kernel_size=3, stride=1, actn=True, pad=None, bn=True):\n",
    "    if pad is None: pad = kernel_size//2\n",
    "    layers = [nn.Conv2d(ni, nf, kernel_size, stride=stride, padding=pad, bias=not bn)]\n",
    "    if actn: layers.append(nn.ReLU(inplace=True))\n",
    "    if bn: layers.append(nn.BatchNorm2d(nf))\n",
    "    return nn.Sequential(*layers)"
   ]
  },
  {
   "cell_type": "code",
   "execution_count": null,
   "metadata": {
    "colab": {},
    "colab_type": "code",
    "id": "pI9J7y_ZDRHQ"
   },
   "outputs": [],
   "source": [
    "class ResSequentialCenter(nn.Module):\n",
    "    def __init__(self, layers):\n",
    "        super().__init__()\n",
    "        self.m = nn.Sequential(*layers)\n",
    "\n",
    "    def forward(self, x): return x[:, :, 2:-2, 2:-2] + self.m(x)"
   ]
  },
  {
   "cell_type": "code",
   "execution_count": null,
   "metadata": {
    "colab": {},
    "colab_type": "code",
    "id": "pGllFO1rDRHU"
   },
   "outputs": [],
   "source": [
    "def res_block(nf):\n",
    "    return ResSequentialCenter([conv(nf, nf, actn=True, pad=0), conv(nf, nf, pad=0)])"
   ]
  },
  {
   "cell_type": "code",
   "execution_count": null,
   "metadata": {
    "colab": {},
    "colab_type": "code",
    "id": "5M8CHF5ODRHX"
   },
   "outputs": [],
   "source": [
    "def upsample(ni, nf):\n",
    "    return nn.Sequential(nn.Upsample(scale_factor=2), conv(ni, nf))"
   ]
  },
  {
   "cell_type": "code",
   "execution_count": null,
   "metadata": {
    "colab": {},
    "colab_type": "code",
    "id": "kf8ydt20DRHa"
   },
   "outputs": [],
   "source": [
    "class StyleResnet(nn.Module):\n",
    "    def __init__(self):\n",
    "        super().__init__()\n",
    "        features = [nn.ReflectionPad2d(40),\n",
    "                    conv(3, 32, 9),\n",
    "                    conv(32, 64, stride=2), conv(64, 128, stride=2)]\n",
    "        for i in range(5): features.append(res_block(128))\n",
    "        features += [upsample(128, 64), upsample(64, 32),\n",
    "                     conv(32, 3, 9, actn=False)]\n",
    "        self.features = nn.Sequential(*features)\n",
    "        \n",
    "    def forward(self, x): return self.features(x)"
   ]
  },
  {
   "cell_type": "markdown",
   "metadata": {
    "colab_type": "text",
    "id": "8bPwS6nfDRHe"
   },
   "source": [
    "## Style Image"
   ]
  },
  {
   "cell_type": "code",
   "execution_count": null,
   "metadata": {
    "colab": {},
    "colab_type": "code",
    "id": "WIKnR5N_DRHe",
    "outputId": "ba947926-41b0-4eb1-dbb6-1ec0f96e84dd"
   },
   "outputs": [],
   "source": [
    "style_fn = 'data/style/impressionism/original/23. signac-saint-tropez-fontaine-des-lices-1895-copy.jpeg'\n",
    "style_img = open_image(style_fn)\n",
    "style_img.shape"
   ]
  },
  {
   "cell_type": "code",
   "execution_count": null,
   "metadata": {
    "colab": {},
    "colab_type": "code",
    "id": "_L-GlSOODRHh",
    "outputId": "9ef3888f-ce27-4670-ea9a-8d3059a454b7"
   },
   "outputs": [],
   "source": [
    "plt.imshow(style_img);"
   ]
  },
  {
   "cell_type": "code",
   "execution_count": null,
   "metadata": {
    "colab": {},
    "colab_type": "code",
    "id": "Lcwj-KrQDRHk"
   },
   "outputs": [],
   "source": [
    "h,w,_ = style_img.shape\n",
    "rat = max(MAX_SZ/h,MAX_SZ/h)\n",
    "res = cv2.resize(style_img, (int(w*rat), int(h*rat)), interpolation=cv2.INTER_AREA)\n",
    "resz_style = res[:MAX_SZ,-MAX_SZ:]"
   ]
  },
  {
   "cell_type": "code",
   "execution_count": null,
   "metadata": {
    "colab": {},
    "colab_type": "code",
    "id": "w2FLCbduDRHm",
    "outputId": "a251387f-186a-4411-f2f2-a9d60ab12f85"
   },
   "outputs": [],
   "source": [
    "plt.imshow(resz_style);"
   ]
  },
  {
   "cell_type": "code",
   "execution_count": null,
   "metadata": {
    "colab": {},
    "colab_type": "code",
    "id": "iyAtdSU7DRHr"
   },
   "outputs": [],
   "source": [
    "style_tfm,_ = tfms[1](resz_style,resz_style)"
   ]
  },
  {
   "cell_type": "code",
   "execution_count": null,
   "metadata": {
    "colab": {},
    "colab_type": "code",
    "id": "aBd0lV9GDRHt"
   },
   "outputs": [],
   "source": [
    "style_tfm = np.broadcast_to(style_tfm[None], (bs,)+style_tfm.shape)"
   ]
  },
  {
   "cell_type": "code",
   "execution_count": null,
   "metadata": {
    "colab": {},
    "colab_type": "code",
    "id": "zoSuu5EUDRHu",
    "outputId": "37fa5364-0973-4c2c-b3e2-477b1079874a"
   },
   "outputs": [],
   "source": [
    "style_tfm.shape"
   ]
  },
  {
   "cell_type": "markdown",
   "metadata": {
    "colab_type": "text",
    "id": "G91duESMDRHx"
   },
   "source": [
    "## Perceptual loss"
   ]
  },
  {
   "cell_type": "code",
   "execution_count": null,
   "metadata": {
    "colab": {},
    "colab_type": "code",
    "id": "BIcpCfnLDRHy"
   },
   "outputs": [],
   "source": [
    "m_vgg = vgg16(True)"
   ]
  },
  {
   "cell_type": "code",
   "execution_count": null,
   "metadata": {
    "colab": {},
    "colab_type": "code",
    "id": "wOw4I8rzDRH0",
    "outputId": "cca27aec-0e71-4604-cb78-371009b7c9eb"
   },
   "outputs": [],
   "source": [
    "blocks = [i-1 for i,o in enumerate(children(m_vgg))\n",
    "              if isinstance(o,nn.MaxPool2d)]\n",
    "blocks, [m_vgg[i] for i in blocks[1:]]"
   ]
  },
  {
   "cell_type": "code",
   "execution_count": null,
   "metadata": {
    "colab": {},
    "colab_type": "code",
    "id": "RNYPCWQBDRH2"
   },
   "outputs": [],
   "source": [
    "vgg_layers = children(m_vgg)[:43]\n",
    "m_vgg = nn.Sequential(*vgg_layers).cuda().eval()\n",
    "set_trainable(m_vgg, False)"
   ]
  },
  {
   "cell_type": "code",
   "execution_count": null,
   "metadata": {
    "colab": {},
    "colab_type": "code",
    "id": "QUG4HrG0DRH4"
   },
   "outputs": [],
   "source": [
    "def flatten(x): return x.view(x.size(0), -1)"
   ]
  },
  {
   "cell_type": "code",
   "execution_count": null,
   "metadata": {
    "colab": {},
    "colab_type": "code",
    "id": "MCG7i7NUDRH6"
   },
   "outputs": [],
   "source": [
    "class SaveFeatures():\n",
    "    features=None\n",
    "    def __init__(self, m): self.hook = m.register_forward_hook(self.hook_fn)\n",
    "    def hook_fn(self, module, input, output): self.features = output\n",
    "    def remove(self): self.hook.remove()        "
   ]
  },
  {
   "cell_type": "code",
   "execution_count": null,
   "metadata": {
    "colab": {},
    "colab_type": "code",
    "id": "JvNO3CemDRH8"
   },
   "outputs": [],
   "source": [
    "def ct_loss(input, target): return F.mse_loss(input,target)\n",
    "\n",
    "def gram(input):\n",
    "        b,c,h,w = input.size()\n",
    "        x = input.view(b, c, -1)\n",
    "        return torch.bmm(x, x.transpose(1,2))/(c*h*w)*1e6\n",
    "\n",
    "def gram_loss(input, target):\n",
    "    return F.mse_loss(gram(input), gram(target[:input.size(0)]))"
   ]
  },
  {
   "cell_type": "code",
   "execution_count": null,
   "metadata": {
    "colab": {},
    "colab_type": "code",
    "id": "GpCcACMSDRH-"
   },
   "outputs": [],
   "source": [
    "class CombinedLoss(nn.Module):\n",
    "    def __init__(self, m, layer_ids, style_im, ct_wgt, style_wgts):\n",
    "        super().__init__()\n",
    "        self.m,self.ct_wgt,self.style_wgts = m,ct_wgt,style_wgts\n",
    "        self.sfs = [SaveFeatures(m[i]) for i in layer_ids]\n",
    "        m(VV(style_im))\n",
    "        self.style_feat = [V(o.features.data.clone()) for o in self.sfs]\n",
    "\n",
    "    def forward(self, input, target, sum_layers=True):\n",
    "        self.m(VV(target.data))\n",
    "        targ_feat = self.sfs[2].features.data.clone()\n",
    "        self.m(input)\n",
    "        inp_feat = [o.features for o in self.sfs]\n",
    "        \n",
    "        res = [ct_loss(inp_feat[2],V(targ_feat)) * self.ct_wgt]\n",
    "        res += [gram_loss(inp,targ)*wgt for inp,targ,wgt\n",
    "                in zip(inp_feat, self.style_feat, self.style_wgts)]\n",
    "        \n",
    "        if sum_layers: res = sum(res)\n",
    "        return res\n",
    "    \n",
    "    def close(self):\n",
    "        for o in self.sfs: o.remove()"
   ]
  },
  {
   "cell_type": "code",
   "execution_count": null,
   "metadata": {
    "colab": {},
    "colab_type": "code",
    "id": "BEMLgut4DRH_"
   },
   "outputs": [],
   "source": [
    "m = StyleResnet()\n",
    "m = to_gpu(m)"
   ]
  },
  {
   "cell_type": "code",
   "execution_count": null,
   "metadata": {
    "colab": {},
    "colab_type": "code",
    "id": "_3ppS9nIDRIB"
   },
   "outputs": [],
   "source": [
    "learn = Learner(md, SingleModel(m), opt_fn=optim.Adam)"
   ]
  },
  {
   "cell_type": "code",
   "execution_count": null,
   "metadata": {
    "colab": {},
    "colab_type": "code",
    "id": "k6hseJ3oDRIE"
   },
   "outputs": [],
   "source": [
    "learn.crit = CombinedLoss(m_vgg, blocks[1:], style_tfm, 1e5, [0.025,0.275,5.,0.2])"
   ]
  },
  {
   "cell_type": "code",
   "execution_count": null,
   "metadata": {
    "colab": {},
    "colab_type": "code",
    "id": "VGu6PRtMDRIF"
   },
   "outputs": [],
   "source": [
    "wd=1e-7"
   ]
  },
  {
   "cell_type": "code",
   "execution_count": null,
   "metadata": {
    "colab": {},
    "colab_type": "code",
    "id": "ynQADVuQDRIJ",
    "outputId": "d14c812e-7364-4526-afc7-9a9198076b79",
    "scrolled": true
   },
   "outputs": [],
   "source": [
    "learn.lr_find() #wds=wd\n",
    "learn.sched.plot() #n_skip_end=1"
   ]
  },
  {
   "cell_type": "code",
   "execution_count": null,
   "metadata": {
    "colab": {},
    "colab_type": "code",
    "id": "ktneq7yJDRIK"
   },
   "outputs": [],
   "source": [
    "lr=1e-3"
   ]
  },
  {
   "cell_type": "code",
   "execution_count": null,
   "metadata": {
    "colab": {},
    "colab_type": "code",
    "id": "iyr10x3DDRIO",
    "outputId": "5a8207fb-8524-4b85-810d-4dfe68901864"
   },
   "outputs": [],
   "source": [
    "learn.fit(lr, 5, cycle_len=1) #, wds=wd, use_clr=(20,10)"
   ]
  },
  {
   "cell_type": "code",
   "execution_count": null,
   "metadata": {
    "colab": {},
    "colab_type": "code",
    "id": "wW-bC0nyDRIR"
   },
   "outputs": [],
   "source": [
    "learn.save('impressionism_20e')"
   ]
  },
  {
   "cell_type": "code",
   "execution_count": null,
   "metadata": {
    "colab": {},
    "colab_type": "code",
    "id": "GU5hsSE7DRIT"
   },
   "outputs": [],
   "source": [
    "learn.fit(lr, 5, cycle_len=2, wds=wd, use_clr=(20,10))"
   ]
  },
  {
   "cell_type": "code",
   "execution_count": null,
   "metadata": {},
   "outputs": [],
   "source": [
    "learn.save('impressionism_20e10ER')"
   ]
  },
  {
   "cell_type": "code",
   "execution_count": null,
   "metadata": {},
   "outputs": [],
   "source": [
    "learn.fit(lr, 3, cycle_len=1, cycle_mult=2, wds=wd, use_clr=(20,10))"
   ]
  },
  {
   "cell_type": "code",
   "execution_count": null,
   "metadata": {},
   "outputs": [],
   "source": [
    "learn.save('impressionism_20e10er7erm')"
   ]
  },
  {
   "cell_type": "code",
   "execution_count": null,
   "metadata": {
    "scrolled": true
   },
   "outputs": [],
   "source": [
    "learn.fit(lr, 50, cycle_len=1, cycle_mult=1, wds=wd, use_clr=(20,10))"
   ]
  },
  {
   "cell_type": "markdown",
   "metadata": {},
   "source": [
    "## Look at the image and save it"
   ]
  },
  {
   "cell_type": "code",
   "execution_count": null,
   "metadata": {
    "colab": {},
    "colab_type": "code",
    "id": "N50ZkR8pDRIU"
   },
   "outputs": [],
   "source": [
    "x,y=md.val_ds[len(val_x)-12]"
   ]
  },
  {
   "cell_type": "code",
   "execution_count": null,
   "metadata": {
    "colab": {},
    "colab_type": "code",
    "id": "RCwC6InHDRIW",
    "outputId": "13824ac3-3f66-44fb-d3cc-2ba7082d1ab6"
   },
   "outputs": [],
   "source": [
    "learn.model.eval()\n",
    "preds = learn.model(VV(x[None]))\n",
    "x.shape,y.shape,preds.shape"
   ]
  },
  {
   "cell_type": "code",
   "execution_count": null,
   "metadata": {},
   "outputs": [],
   "source": [
    "learn.crit(preds, VV(y[None]), sum_layers=False)"
   ]
  },
  {
   "cell_type": "code",
   "execution_count": null,
   "metadata": {
    "colab": {},
    "colab_type": "code",
    "id": "j1rS2pagDRIY",
    "outputId": "174876c4-97f6-4382-e4d5-d3407c9d9fc7"
   },
   "outputs": [],
   "source": [
    "#learn.crit(preds, VV(y[None]), sum_layers=False)"
   ]
  },
  {
   "cell_type": "code",
   "execution_count": null,
   "metadata": {
    "colab": {},
    "colab_type": "code",
    "id": "fzzacxfrDRIb"
   },
   "outputs": [],
   "source": [
    "#learn.crit.close()"
   ]
  },
  {
   "cell_type": "code",
   "execution_count": null,
   "metadata": {
    "colab": {},
    "colab_type": "code",
    "id": "zEeBCaB3DRIg",
    "outputId": "69617bf1-b71d-4427-bd38-2c192eb5e522"
   },
   "outputs": [],
   "source": [
    "_,axes=plt.subplots(1,2,figsize=(14,7))\n",
    "show_img(x[None], 0, ax=axes[0])\n",
    "show_img(preds, 0, ax=axes[1])"
   ]
  },
  {
   "cell_type": "code",
   "execution_count": null,
   "metadata": {},
   "outputs": [],
   "source": [
    "im = np.clip(denorm(preds),0,1)[0]"
   ]
  },
  {
   "cell_type": "code",
   "execution_count": null,
   "metadata": {},
   "outputs": [],
   "source": [
    "cv2.imwrite(f'{PATH}/result.jpeg', im*255)"
   ]
  }
 ],
 "metadata": {
  "colab": {
   "name": "style-transfer-net.ipynb",
   "provenance": [],
   "version": "0.3.2"
  },
  "kernelspec": {
   "display_name": "Python 3",
   "language": "python",
   "name": "python3"
  },
  "language_info": {
   "codemirror_mode": {
    "name": "ipython",
    "version": 3
   },
   "file_extension": ".py",
   "mimetype": "text/x-python",
   "name": "python",
   "nbconvert_exporter": "python",
   "pygments_lexer": "ipython3",
   "version": "3.6.6"
  }
 },
 "nbformat": 4,
 "nbformat_minor": 1
}
