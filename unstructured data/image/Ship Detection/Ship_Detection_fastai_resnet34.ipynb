{
 "cells": [
  {
   "cell_type": "code",
   "execution_count": 1,
   "metadata": {
    "_uuid": "66f1a6a2a44231a6b8e16478d5bd8cc1dddc5398"
   },
   "outputs": [],
   "source": [
    "%load_ext autoreload\n",
    "%autoreload 2"
   ]
  },
  {
   "cell_type": "code",
   "execution_count": 2,
   "metadata": {},
   "outputs": [
    {
     "name": "stderr",
     "output_type": "stream",
     "text": [
      "C:\\Users\\chrun\\Anaconda3\\envs\\fastai\\lib\\site-packages\\sklearn\\ensemble\\weight_boosting.py:29: DeprecationWarning: numpy.core.umath_tests is an internal NumPy module and should not be imported. It will be removed in a future NumPy release.\n",
      "  from numpy.core.umath_tests import inner1d\n"
     ]
    }
   ],
   "source": [
    "from fastai.conv_learner import *\n",
    "from fastai.plots import *\n",
    "\n",
    "from fastprogress import master_bar, progress_bar\n",
    "\n",
    "from matplotlib import patches, patheffects\n",
    "\n",
    "from pathlib import Path\n",
    "\n",
    "from skimage.io import imread\n",
    "from skimage.segmentation import mark_boundaries\n",
    "from skimage.measure import label, regionprops\n",
    "\n",
    "from scipy import ndimage\n",
    "\n",
    "import cv2\n",
    "\n",
    "cuda.set_device(0)"
   ]
  },
  {
   "cell_type": "markdown",
   "metadata": {
    "_cell_guid": "b1076dfc-b9ad-4769-8c92-a6c4dae69d19",
    "_uuid": "8f2839f25d086af736a60e9eeb907d3b93b6e0e5"
   },
   "source": [
    "## Stage 1 Dataset"
   ]
  },
  {
   "cell_type": "code",
   "execution_count": 3,
   "metadata": {},
   "outputs": [],
   "source": [
    "PATH = Path('data')\n",
    "TMP_PATH = \"tmp/tmp\"\n",
    "MODEL_PATH = \"tmp/model/\"\n",
    "sz = 128\n",
    "arch = resnet34\n",
    "bs = 128"
   ]
  },
  {
   "cell_type": "code",
   "execution_count": 4,
   "metadata": {},
   "outputs": [],
   "source": [
    "train_masks_fn = f'{PATH}/train_ship_segmentations_v2.csv'\n",
    "train_masks_path = Path(PATH/'train_ship_segmentations_v2.csv')\n",
    "\n",
    "images_path = Path(PATH/'train_v2')\n",
    "\n",
    "masks_path = Path(PATH/'train_masks_sampled')\n",
    "\n",
    "images_test_path = Path(PATH/'test_v2')\n",
    "\n",
    "masks_test_path = Path(PATH/'test_masks')"
   ]
  },
  {
   "cell_type": "code",
   "execution_count": null,
   "metadata": {},
   "outputs": [],
   "source": [
    "masks = pd.read_csv(train_masks_fn)\n",
    "masks.head()"
   ]
  },
  {
   "cell_type": "code",
   "execution_count": 5,
   "metadata": {},
   "outputs": [],
   "source": [
    "def multi_rle_encode(img):\n",
    "    labels = label(img[:, :, 0])\n",
    "    return [rle_encode(labels==k) for k in np.unique(labels[labels>0])]\n",
    "\n",
    "# ref: https://www.kaggle.com/paulorzp/run-length-encode-and-decode\n",
    "def rle_encode(img):\n",
    "    '''\n",
    "    img: numpy array, 1 - mask, 0 - background\n",
    "    Returns run length as string formated\n",
    "    '''\n",
    "    pixels = img.T.flatten()\n",
    "    pixels = np.concatenate([[0], pixels, [0]])\n",
    "    runs = np.where(pixels[1:] != pixels[:-1])[0] + 1\n",
    "    runs[1::2] -= runs[::2]\n",
    "    return ' '.join(str(x) for x in runs)\n",
    "\n",
    "def rle_decode(mask_rle, shape=(768, 768)):\n",
    "    '''\n",
    "    mask_rle: run-length as string formated (start length)\n",
    "    shape: (height,width) of array to return \n",
    "    Returns numpy array, 1 - mask, 0 - background\n",
    "    '''\n",
    "    s = mask_rle.split()\n",
    "    starts, lengths = [np.asarray(x, dtype=int) for x in (s[0:][::2], s[1:][::2])]\n",
    "    starts -= 1\n",
    "    ends = starts + lengths\n",
    "    img = np.zeros(shape[0]*shape[1], dtype=np.uint8)\n",
    "    for lo, hi in zip(starts, ends):\n",
    "        img[lo:hi] = 1\n",
    "    return img.reshape(shape).T  # Needed to align to RLE direction\n",
    "\n",
    "def masks_as_image(in_mask_list):\n",
    "    # Take the individual ship masks and create a single mask array for all ships\n",
    "    all_masks = np.zeros((768, 768), dtype = np.int16)\n",
    "    #if isinstance(in_mask_list, list):\n",
    "    for mask in in_mask_list:\n",
    "        if isinstance(mask, str):\n",
    "            all_masks += rle_decode(mask)\n",
    "    return np.expand_dims(all_masks, -1)"
   ]
  },
  {
   "cell_type": "code",
   "execution_count": 6,
   "metadata": {},
   "outputs": [],
   "source": [
    "def show_img(im, figsize=None, ax=None, alpha=None):\n",
    "    if not ax: fig,ax = plt.subplots(figsize=figsize)\n",
    "    ax.imshow(im, alpha=alpha)\n",
    "    ax.set_axis_off()\n",
    "    return ax"
   ]
  },
  {
   "cell_type": "code",
   "execution_count": null,
   "metadata": {},
   "outputs": [],
   "source": [
    "first_image = '000155de5.jpg'"
   ]
  },
  {
   "cell_type": "code",
   "execution_count": null,
   "metadata": {
    "scrolled": true
   },
   "outputs": [],
   "source": [
    "fig, (ax1, ax2, ax3) = plt.subplots(1, 3, figsize = (10, 10))\n",
    "rle_0 = masks.query(f'ImageId==\"{first_image}\"')['EncodedPixels']\n",
    "img_0 = masks_as_image(rle_0)\n",
    "ax1.imshow(img_0[:, :, 0])\n",
    "ax1.set_title('Image$_0$')\n",
    "rle_1 = multi_rle_encode(img_0)\n",
    "img_1 = masks_as_image(rle_1)\n",
    "ax2.imshow(img_1[:, :, 0])\n",
    "ax2.set_title('Image$_1$')\n",
    "print('Check Decoding->Encoding',\n",
    "      'RLE_0:', len(rle_0), '->',\n",
    "      'RLE_1:', len(rle_1))\n",
    "show_img(Image.open(images_path/'000155de5.jpg'), ax=ax3)"
   ]
  },
  {
   "cell_type": "code",
   "execution_count": null,
   "metadata": {},
   "outputs": [],
   "source": [
    "images_with_ship = masks.ImageId[masks.EncodedPixels.isnull()==False]\n",
    "images_with_ship = np.unique(images_with_ship.values)\n",
    "print('There are ' +str(len(images_with_ship)) + ' image files with masks')"
   ]
  },
  {
   "cell_type": "markdown",
   "metadata": {
    "heading_collapsed": true
   },
   "source": [
    "## Undersampling the empty masks (only needed once)"
   ]
  },
  {
   "cell_type": "code",
   "execution_count": null,
   "metadata": {
    "hidden": true
   },
   "outputs": [],
   "source": [
    "grouped_masks = masks.groupby('ImageId', as_index=False).count()"
   ]
  },
  {
   "cell_type": "code",
   "execution_count": null,
   "metadata": {
    "hidden": true,
    "scrolled": true
   },
   "outputs": [],
   "source": [
    "len(grouped_masks[grouped_masks.EncodedPixels==0]), len(grouped_masks[grouped_masks.EncodedPixels>0])"
   ]
  },
  {
   "cell_type": "code",
   "execution_count": null,
   "metadata": {
    "hidden": true
   },
   "outputs": [],
   "source": [
    "empty_masks = grouped_masks[grouped_masks.EncodedPixels==0]"
   ]
  },
  {
   "cell_type": "code",
   "execution_count": null,
   "metadata": {
    "hidden": true
   },
   "outputs": [],
   "source": [
    "undersampled_masks = empty_masks.ImageId.sample(n=len(grouped_masks[grouped_masks.EncodedPixels>0]))"
   ]
  },
  {
   "cell_type": "code",
   "execution_count": null,
   "metadata": {
    "hidden": true
   },
   "outputs": [],
   "source": [
    "sample_ids = undersampled_masks.append(grouped_masks[grouped_masks.EncodedPixels>0].ImageId)"
   ]
  },
  {
   "cell_type": "code",
   "execution_count": null,
   "metadata": {
    "hidden": true,
    "scrolled": true
   },
   "outputs": [],
   "source": [
    "sampled_masks = masks.set_index('ImageId').loc[sample_ids]"
   ]
  },
  {
   "cell_type": "code",
   "execution_count": null,
   "metadata": {
    "hidden": true
   },
   "outputs": [],
   "source": [
    "sampled_masks.reset_index(inplace=True)"
   ]
  },
  {
   "cell_type": "code",
   "execution_count": null,
   "metadata": {
    "hidden": true
   },
   "outputs": [],
   "source": [
    "len(sampled_masks['ImageId'].unique()), len(sampled_masks[sampled_masks.EncodedPixels.isnull()]['ImageId'].unique())"
   ]
  },
  {
   "cell_type": "code",
   "execution_count": null,
   "metadata": {
    "hidden": true
   },
   "outputs": [],
   "source": [
    "'''# this is for converting the masks to images\n",
    "#%%time\n",
    "for image_id in sampled_masks.ImageId.unique():\n",
    "    rle_0 = sampled_masks.query(f'ImageId==\"{image_id}\"')['EncodedPixels']\n",
    "    img_0 = masks_as_image(rle_0)\n",
    "    \n",
    "    rle_1 = multi_rle_encode(img_0)\n",
    "    img_1 = masks_as_image(rle_1)\n",
    "    \n",
    "    cv2.imwrite(f'data/train_masks_sampled/mask_{image_id}', img_1[:, :, 0]*255)'''"
   ]
  },
  {
   "cell_type": "markdown",
   "metadata": {},
   "source": [
    "## When undersampling is done:"
   ]
  },
  {
   "cell_type": "code",
   "execution_count": 7,
   "metadata": {},
   "outputs": [],
   "source": [
    "sampled_images = [w[5:] for w in os.listdir(masks_path)] "
   ]
  },
  {
   "cell_type": "code",
   "execution_count": 8,
   "metadata": {},
   "outputs": [],
   "source": [
    "class MatchedFilesDataset(FilesDataset):\n",
    "    def __init__(self, fnames, y, transform, path):\n",
    "        self.y=y\n",
    "        assert(len(fnames)==len(y))\n",
    "        super().__init__(fnames, transform, path)\n",
    "    def get_y(self, i): return open_image(os.path.join(self.path, self.y[i]))\n",
    "    def get_c(self): return 0"
   ]
  },
  {
   "cell_type": "markdown",
   "metadata": {},
   "source": [
    "## Splitting into training and validation set"
   ]
  },
  {
   "cell_type": "code",
   "execution_count": 15,
   "metadata": {},
   "outputs": [
    {
     "data": {
      "text/plain": [
       "['000155de5.jpg',\n",
       " '000194a2d.jpg',\n",
       " '00021ddc3.jpg',\n",
       " '0002756f7.jpg',\n",
       " '000303d4d.jpg',\n",
       " '00031f145.jpg',\n",
       " '000532683.jpg',\n",
       " '00053c6ba.jpg',\n",
       " '00057a50d.jpg',\n",
       " '0005d01c8.jpg',\n",
       " '0005d6d95.jpg',\n",
       " '0006c52e8.jpg',\n",
       " '0008d6216.jpg',\n",
       " '000913daf.jpg',\n",
       " '000952d51.jpg',\n",
       " '0009a46e1.jpg',\n",
       " '000a4d4fd.jpg',\n",
       " '000baef0c.jpg',\n",
       " '000bd9ac4.jpg',\n",
       " '000d26c17.jpg',\n",
       " '000d42241.jpg',\n",
       " '000e37fc6.jpg',\n",
       " '000e6378b.jpg',\n",
       " '000f1f959.jpg',\n",
       " '000f7e728.jpg',\n",
       " '000fd9827.jpg',\n",
       " '0010eefb1.jpg',\n",
       " '00113a75c.jpg',\n",
       " '0011a9ccb.jpg',\n",
       " '0011c31b7.jpg',\n",
       " '001234638.jpg',\n",
       " '0013b2222.jpg',\n",
       " '00140e597.jpg',\n",
       " '001566f7c.jpg',\n",
       " '00160335a.jpg',\n",
       " '0016c1d02.jpg',\n",
       " '001739657.jpg',\n",
       " '001768e84.jpg',\n",
       " '0017c19d6.jpg',\n",
       " '0018e5d6c.jpg',\n",
       " '001948368.jpg',\n",
       " '0019880c1.jpg',\n",
       " '0019fc4d8.jpg',\n",
       " '001ac9fa5.jpg',\n",
       " '001aee007.jpg',\n",
       " '001bcf222.jpg',\n",
       " '001db5968.jpg',\n",
       " '001e418bc.jpg',\n",
       " '001eb2794.jpg',\n",
       " '001ed8b9b.jpg',\n",
       " '001eda01f.jpg',\n",
       " '001f04ca3.jpg',\n",
       " '00207e662.jpg',\n",
       " '00220176b.jpg',\n",
       " '002237256.jpg',\n",
       " '0022f64e5.jpg',\n",
       " '00269a792.jpg',\n",
       " '0027854cc.jpg',\n",
       " '002868a5c.jpg',\n",
       " '00286e8b9.jpg',\n",
       " '002943412.jpg',\n",
       " '0029673da.jpg',\n",
       " '002a4ab34.jpg',\n",
       " '002ac662a.jpg',\n",
       " '002bd6bc7.jpg',\n",
       " '002c62c03.jpg',\n",
       " '002c78530.jpg',\n",
       " '002c872c1.jpg',\n",
       " '002d56570.jpg',\n",
       " '002deeb16.jpg',\n",
       " '002e42551.jpg',\n",
       " '002e85393.jpg',\n",
       " '002e8a977.jpg',\n",
       " '002eba124.jpg',\n",
       " '002fdcf51.jpg',\n",
       " '002febce2.jpg',\n",
       " '00319c32d.jpg',\n",
       " '003520305.jpg',\n",
       " '00371aa92.jpg',\n",
       " '00374ccfa.jpg',\n",
       " '0037dda6b.jpg',\n",
       " '00383c855.jpg',\n",
       " '00387da9b.jpg',\n",
       " '0038cbe45.jpg',\n",
       " '0038fa4c9.jpg',\n",
       " '0039b40ac.jpg',\n",
       " '0039c67c1.jpg',\n",
       " '003a7bb0b.jpg',\n",
       " '003aef141.jpg',\n",
       " '003b48a9e.jpg',\n",
       " '003d0a956.jpg',\n",
       " '003d43308.jpg',\n",
       " '003dd3638.jpg',\n",
       " '003e2c95d.jpg',\n",
       " '003f4c640.jpg',\n",
       " '00400ca9c.jpg',\n",
       " '00406d1b3.jpg',\n",
       " '0040cf4e9.jpg',\n",
       " '004141855.jpg',\n",
       " '0041d7084.jpg',\n",
       " '004331bef.jpg',\n",
       " '00458f435.jpg',\n",
       " '00466744e.jpg',\n",
       " '0046d5d83.jpg',\n",
       " '00497c23d.jpg',\n",
       " '004bc7ae6.jpg',\n",
       " '004d7c73a.jpg',\n",
       " '004db8c97.jpg',\n",
       " '004e68ede.jpg',\n",
       " '004e94ecb.jpg',\n",
       " '004f97cfb.jpg',\n",
       " '0052f82c6.jpg',\n",
       " '00552a73d.jpg',\n",
       " '00558fb2a.jpg',\n",
       " '0056d301c.jpg',\n",
       " '0056fbc62.jpg',\n",
       " '00578738f.jpg',\n",
       " '005883874.jpg',\n",
       " '005883911.jpg',\n",
       " '0058896c8.jpg',\n",
       " '005a65e0d.jpg',\n",
       " '005a7670a.jpg',\n",
       " '005bc2261.jpg',\n",
       " '005c8e121.jpg',\n",
       " '005d6a820.jpg',\n",
       " '005f02549.jpg',\n",
       " '005f161e5.jpg',\n",
       " '005faf88a.jpg',\n",
       " '0060ef048.jpg',\n",
       " '0060f6de0.jpg',\n",
       " '00610229c.jpg',\n",
       " '006188aec.jpg',\n",
       " '00624c7d6.jpg',\n",
       " '0062ad143.jpg',\n",
       " '0062ae3db.jpg',\n",
       " '0062e4cf1.jpg',\n",
       " '00640a1af.jpg',\n",
       " '0064320fe.jpg',\n",
       " '006481d12.jpg',\n",
       " '0064956d4.jpg',\n",
       " '0065ad081.jpg',\n",
       " '0067a8e04.jpg',\n",
       " '0068b3804.jpg',\n",
       " '0069e6715.jpg',\n",
       " '006a5835a.jpg',\n",
       " '006afd8f9.jpg',\n",
       " '006d6bc79.jpg',\n",
       " '006da0c7b.jpg',\n",
       " '006f392d7.jpg',\n",
       " '0070fe317.jpg',\n",
       " '0073fda18.jpg',\n",
       " '0074d6c72.jpg',\n",
       " '007534159.jpg',\n",
       " '00761707d.jpg',\n",
       " '007638694.jpg',\n",
       " '00767e7c2.jpg',\n",
       " '0076e2074.jpg',\n",
       " '007886537.jpg',\n",
       " '0079bd312.jpg',\n",
       " '007abacf8.jpg',\n",
       " '007b25c03.jpg',\n",
       " '007b39d27.jpg',\n",
       " '007ce759d.jpg',\n",
       " '00800bc58.jpg',\n",
       " '008028110.jpg',\n",
       " '00804c4d8.jpg',\n",
       " '008127d89.jpg',\n",
       " '008129422.jpg',\n",
       " '00837bf48.jpg',\n",
       " '008401010.jpg',\n",
       " '0085e527a.jpg',\n",
       " '008605bcf.jpg',\n",
       " '00862fc1d.jpg',\n",
       " '0086bf67c.jpg',\n",
       " '0086f828b.jpg',\n",
       " '00875a44f.jpg',\n",
       " '008863fe8.jpg',\n",
       " '0089c7bf1.jpg',\n",
       " '0089fe989.jpg',\n",
       " '008aafbd4.jpg',\n",
       " '008b94a8a.jpg',\n",
       " '008bc8983.jpg',\n",
       " '008be7e31.jpg',\n",
       " '008be8252.jpg',\n",
       " '008c8a442.jpg',\n",
       " '008cd37c7.jpg',\n",
       " '008d2170e.jpg',\n",
       " '008fd2b42.jpg',\n",
       " '009315aad.jpg',\n",
       " '0093754d4.jpg',\n",
       " '009385621.jpg',\n",
       " '00944a000.jpg',\n",
       " '009751652.jpg',\n",
       " '00975abe1.jpg',\n",
       " '0098456ff.jpg',\n",
       " '0098652ab.jpg',\n",
       " '00990fe74.jpg',\n",
       " '009a7f5e8.jpg',\n",
       " '009c1116c.jpg',\n",
       " '009d02050.jpg',\n",
       " '009e22bfb.jpg',\n",
       " '009eb0e0c.jpg',\n",
       " '009f13556.jpg',\n",
       " '009fcd170.jpg',\n",
       " '009ff1a8e.jpg',\n",
       " '00a1aab5b.jpg',\n",
       " '00a3780b5.jpg',\n",
       " '00a3e57fe.jpg',\n",
       " '00a52cd2a.jpg',\n",
       " '00a5a195b.jpg',\n",
       " '00a5ebe44.jpg',\n",
       " '00a6fef47.jpg',\n",
       " '00a9adaa4.jpg',\n",
       " '00a9be085.jpg',\n",
       " '00a9e2ec9.jpg',\n",
       " '00aa60389.jpg',\n",
       " '00aa8bc42.jpg',\n",
       " '00ab42add.jpg',\n",
       " '00ab5f960.jpg',\n",
       " '00abc623a.jpg',\n",
       " '00ad1b99d.jpg',\n",
       " '00af75a14.jpg',\n",
       " '00b0fa633.jpg',\n",
       " '00b101ed7.jpg',\n",
       " '00b107acf.jpg',\n",
       " '00b111ae4.jpg',\n",
       " '00b1bf1a2.jpg',\n",
       " '00b21150c.jpg',\n",
       " '00b23ba7b.jpg',\n",
       " '00b281ca9.jpg',\n",
       " '00b3e6991.jpg',\n",
       " '00b50648d.jpg',\n",
       " '00b547054.jpg',\n",
       " '00b575504.jpg',\n",
       " '00b6a447c.jpg',\n",
       " '00b71d048.jpg',\n",
       " '00b8679e1.jpg',\n",
       " '00b872d8e.jpg',\n",
       " '00b8b6f4a.jpg',\n",
       " '00b942b4d.jpg',\n",
       " '00b9c1695.jpg',\n",
       " '00b9c4491.jpg',\n",
       " '00ba1e4dd.jpg',\n",
       " '00bc02187.jpg',\n",
       " '00bc708e0.jpg',\n",
       " '00bd1820a.jpg',\n",
       " '00be4edfb.jpg',\n",
       " '00c1ea1a8.jpg',\n",
       " '00c2c8539.jpg',\n",
       " '00c3aee3d.jpg',\n",
       " '00c3bafa8.jpg',\n",
       " '00c3e1386.jpg',\n",
       " '00c498ef4.jpg',\n",
       " '00c4a90d2.jpg',\n",
       " '00c4b4f62.jpg',\n",
       " '00c4be6fa.jpg',\n",
       " '00c5152fc.jpg',\n",
       " '00c54cf6e.jpg',\n",
       " '00c571edd.jpg',\n",
       " '00c81c432.jpg',\n",
       " '00c885f4f.jpg',\n",
       " '00c996565.jpg',\n",
       " '00c9a7ed3.jpg',\n",
       " '00cad4541.jpg',\n",
       " '00cb64f0b.jpg',\n",
       " '00ce2c1c0.jpg',\n",
       " '00cfe6c74.jpg',\n",
       " '00d0a646b.jpg',\n",
       " '00d35510d.jpg',\n",
       " '00d412548.jpg',\n",
       " '00d8c745b.jpg',\n",
       " '00db890ad.jpg',\n",
       " '00dbe507d.jpg',\n",
       " '00dd2a895.jpg',\n",
       " '00dd81ff6.jpg',\n",
       " '00ddb1020.jpg',\n",
       " '00df647a8.jpg',\n",
       " '00dfa2e78.jpg',\n",
       " '00dffdc42.jpg',\n",
       " '00e05ac7b.jpg',\n",
       " '00e0b6dc0.jpg',\n",
       " '00e0d2251.jpg',\n",
       " '00e36ca6b.jpg',\n",
       " '00e44fa55.jpg',\n",
       " '00e4b52b2.jpg',\n",
       " '00e56cc3c.jpg',\n",
       " '00e58cfc2.jpg',\n",
       " '00e603959.jpg',\n",
       " '00ea572a2.jpg',\n",
       " '00ead99e2.jpg',\n",
       " '00ece0a62.jpg',\n",
       " '00eda2ebe.jpg',\n",
       " '00ee04562.jpg',\n",
       " '00ef1bc5c.jpg',\n",
       " '00ef28664.jpg',\n",
       " '00f0068db.jpg',\n",
       " '00f103c9b.jpg',\n",
       " '00f18fac6.jpg',\n",
       " '00f19e6bc.jpg',\n",
       " '00f28b9db.jpg',\n",
       " '00f34434e.jpg',\n",
       " '00f3a34d7.jpg',\n",
       " '00f3b3424.jpg',\n",
       " '00f400aaf.jpg',\n",
       " '00f4494b4.jpg',\n",
       " '00f4cfc00.jpg',\n",
       " '00f708175.jpg',\n",
       " '00f7eb6a6.jpg',\n",
       " '00f86959f.jpg',\n",
       " '00f89a059.jpg',\n",
       " '00fa27dcf.jpg',\n",
       " '00fba1ce7.jpg',\n",
       " '00fc51232.jpg',\n",
       " '00fd8e126.jpg',\n",
       " '00fed32a5.jpg',\n",
       " '00fef1178.jpg',\n",
       " '00ff06a1f.jpg',\n",
       " '01000f132.jpg',\n",
       " '0100e8d86.jpg',\n",
       " '01031cea7.jpg',\n",
       " '010396a0e.jpg',\n",
       " '0103e6841.jpg',\n",
       " '0104b9b90.jpg',\n",
       " '0104e9f46.jpg',\n",
       " '0104ed53e.jpg',\n",
       " '0106d2433.jpg',\n",
       " '010b1e6aa.jpg',\n",
       " '010c876a9.jpg',\n",
       " '010cbbfa0.jpg',\n",
       " '010d15752.jpg',\n",
       " '010e15afe.jpg',\n",
       " '010ed806d.jpg',\n",
       " '01109440b.jpg',\n",
       " '0113c917b.jpg',\n",
       " '011426d17.jpg',\n",
       " '0114cb925.jpg',\n",
       " '01152a5d6.jpg',\n",
       " '01178499a.jpg',\n",
       " '0117bc68d.jpg',\n",
       " '01184bcb5.jpg',\n",
       " '01184d414.jpg',\n",
       " '0118f7c76.jpg',\n",
       " '01193c983.jpg',\n",
       " '011a24ce7.jpg',\n",
       " '011a32d23.jpg',\n",
       " '011b4269f.jpg',\n",
       " '011e85e74.jpg',\n",
       " '0121138f0.jpg',\n",
       " '012178464.jpg',\n",
       " '01227fd61.jpg',\n",
       " '0123813cf.jpg',\n",
       " '0123af2ee.jpg',\n",
       " '0123b84ee.jpg',\n",
       " '012413c23.jpg',\n",
       " '012635ffd.jpg',\n",
       " '012735107.jpg',\n",
       " '0127f4737.jpg',\n",
       " '0129c0880.jpg',\n",
       " '012a79ead.jpg',\n",
       " '012b28358.jpg',\n",
       " '012c055e7.jpg',\n",
       " '012c9f428.jpg',\n",
       " '012d50c04.jpg',\n",
       " '012d8cca1.jpg',\n",
       " '012d9c145.jpg',\n",
       " '012eae5d8.jpg',\n",
       " '012ec00aa.jpg',\n",
       " '012efb010.jpg',\n",
       " '013048d62.jpg',\n",
       " '01305423f.jpg',\n",
       " '013239316.jpg',\n",
       " '013241413.jpg',\n",
       " '01330de35.jpg',\n",
       " '0135aa332.jpg',\n",
       " '01365c2c6.jpg',\n",
       " '013690101.jpg',\n",
       " '01379d23e.jpg',\n",
       " '0137e0c97.jpg',\n",
       " '0137ee2df.jpg',\n",
       " '013853365.jpg',\n",
       " '013894817.jpg',\n",
       " '013b9540b.jpg',\n",
       " '013c67417.jpg',\n",
       " '013eb008f.jpg',\n",
       " '013ebe2c7.jpg',\n",
       " '013fb4633.jpg',\n",
       " '0140787ec.jpg',\n",
       " '0140b622f.jpg',\n",
       " '0140f5bef.jpg',\n",
       " '0142b90f6.jpg',\n",
       " '01431af84.jpg',\n",
       " '014374e14.jpg',\n",
       " '01437aea5.jpg',\n",
       " '0143da271.jpg',\n",
       " '014448bec.jpg',\n",
       " '0144d4786.jpg',\n",
       " '014586e74.jpg',\n",
       " '014624873.jpg',\n",
       " '01465ca54.jpg',\n",
       " '01473660c.jpg',\n",
       " '014773cfa.jpg',\n",
       " '0148abbd1.jpg',\n",
       " '0148e8c38.jpg',\n",
       " '014ae9b69.jpg',\n",
       " '014af5d8a.jpg',\n",
       " '014bbaa2a.jpg',\n",
       " '014bdd89c.jpg',\n",
       " '014bf2cb5.jpg',\n",
       " '014c589c5.jpg',\n",
       " '014c906b1.jpg',\n",
       " '014f2454d.jpg',\n",
       " '014f42813.jpg',\n",
       " '014fcdd11.jpg',\n",
       " '0150b2c24.jpg',\n",
       " '01512537a.jpg',\n",
       " '015160ad1.jpg',\n",
       " '01517ad9d.jpg',\n",
       " '015190caa.jpg',\n",
       " '0152a6885.jpg',\n",
       " '0152abc49.jpg',\n",
       " '0152f58b6.jpg',\n",
       " '01530ba04.jpg',\n",
       " '015369fd9.jpg',\n",
       " '015399ad1.jpg',\n",
       " '0153aaea8.jpg',\n",
       " '0153b1dd3.jpg',\n",
       " '01541263e.jpg',\n",
       " '01545b14c.jpg',\n",
       " '0154d8e2d.jpg',\n",
       " '01574d5c1.jpg',\n",
       " '0157d3298.jpg',\n",
       " '0157f296b.jpg',\n",
       " '01584f24a.jpg',\n",
       " '015861bab.jpg',\n",
       " '01589db09.jpg',\n",
       " '0158c7349.jpg',\n",
       " '0159daa06.jpg',\n",
       " '015ac431d.jpg',\n",
       " '015b0907b.jpg',\n",
       " '015b2962a.jpg',\n",
       " '015b4aaf1.jpg',\n",
       " '015d225be.jpg',\n",
       " '015d9f6b2.jpg',\n",
       " '015da1585.jpg',\n",
       " '015e0504c.jpg',\n",
       " '015e56b00.jpg',\n",
       " '015fb893d.jpg',\n",
       " '016017695.jpg',\n",
       " '0160a797d.jpg',\n",
       " '0160ece45.jpg',\n",
       " '0161faf00.jpg',\n",
       " '0162c9ef9.jpg',\n",
       " '0162cf3dc.jpg',\n",
       " '0163a734e.jpg',\n",
       " '0163c7069.jpg',\n",
       " '01648de59.jpg',\n",
       " '01655b455.jpg',\n",
       " '0166012e5.jpg',\n",
       " '0166f83f1.jpg',\n",
       " '016765ab2.jpg',\n",
       " '0168136f5.jpg',\n",
       " '016b30735.jpg',\n",
       " '016b781a9.jpg',\n",
       " '016bb0883.jpg',\n",
       " '016bb0df6.jpg',\n",
       " '016c0da98.jpg',\n",
       " '016ca71c9.jpg',\n",
       " '016dcd260.jpg',\n",
       " '016e595f3.jpg',\n",
       " '016ea4dbf.jpg',\n",
       " '016ec07ac.jpg',\n",
       " '016eef9de.jpg',\n",
       " '0170d5be7.jpg',\n",
       " '0170e87c8.jpg',\n",
       " '01712474d.jpg',\n",
       " '0171499be.jpg',\n",
       " '01715451e.jpg',\n",
       " '0172ba95b.jpg',\n",
       " '0172c7d99.jpg',\n",
       " '0174eff5b.jpg',\n",
       " '01757275a.jpg',\n",
       " '0175ceae6.jpg',\n",
       " '0176ce7b1.jpg',\n",
       " '0177b7a2f.jpg',\n",
       " '0177df615.jpg',\n",
       " '0178084d0.jpg',\n",
       " '017826c29.jpg',\n",
       " '0178a78ec.jpg',\n",
       " '0178c2489.jpg',\n",
       " '01796b428.jpg',\n",
       " '017a2a2a2.jpg',\n",
       " '017a3a722.jpg',\n",
       " '017b8be5a.jpg',\n",
       " '017d242a2.jpg',\n",
       " '017e71075.jpg',\n",
       " '017edc6f0.jpg',\n",
       " '017f86fa2.jpg',\n",
       " '018054283.jpg',\n",
       " '018098688.jpg',\n",
       " '01834cb80.jpg',\n",
       " '018358bc3.jpg',\n",
       " '0183d3b45.jpg',\n",
       " '0184228e0.jpg',\n",
       " '01843a5ec.jpg',\n",
       " '0185015c1.jpg',\n",
       " '01851fccf.jpg',\n",
       " '0185abb5b.jpg',\n",
       " '0185b1bc5.jpg',\n",
       " '0185f1bec.jpg',\n",
       " '01868e730.jpg',\n",
       " '01873dc60.jpg',\n",
       " '01874d60b.jpg',\n",
       " '0187b087a.jpg',\n",
       " '01884e3ef.jpg',\n",
       " '018977b8c.jpg',\n",
       " '018b5ba5b.jpg',\n",
       " '018b8ef33.jpg',\n",
       " '018bdb40b.jpg',\n",
       " '018c1ff4d.jpg',\n",
       " '018c4ba23.jpg',\n",
       " '018d6daa2.jpg',\n",
       " '018e3e878.jpg',\n",
       " '018e8bf12.jpg',\n",
       " '018ecdfbc.jpg',\n",
       " '018f88616.jpg',\n",
       " '0190215b2.jpg',\n",
       " '01914baf2.jpg',\n",
       " '0191d6ae7.jpg',\n",
       " '01920b170.jpg',\n",
       " '01924b710.jpg',\n",
       " '019336267.jpg',\n",
       " '01933be65.jpg',\n",
       " '0193ae5c1.jpg',\n",
       " '0193c0713.jpg',\n",
       " '01953adb5.jpg',\n",
       " '019545871.jpg',\n",
       " '0195bed5f.jpg',\n",
       " '019637cee.jpg',\n",
       " '019762ab7.jpg',\n",
       " '0197eac3f.jpg',\n",
       " '0198534d2.jpg',\n",
       " '0198713b4.jpg',\n",
       " '0198728be.jpg',\n",
       " '0199876d1.jpg',\n",
       " '0199abc4f.jpg',\n",
       " '019c45bdf.jpg',\n",
       " '019da3e0f.jpg',\n",
       " '019ea06c8.jpg',\n",
       " '019f68974.jpg',\n",
       " '01a0c450b.jpg',\n",
       " '01a1e6260.jpg',\n",
       " '01a26b0b2.jpg',\n",
       " '01a3f56a2.jpg',\n",
       " '01a441c31.jpg',\n",
       " '01a4552ee.jpg',\n",
       " '01a4b42b1.jpg',\n",
       " '01a5e1c3f.jpg',\n",
       " '01a6dbc4e.jpg',\n",
       " '01a7af49c.jpg',\n",
       " '01a8c8bff.jpg',\n",
       " '01a90519e.jpg',\n",
       " '01a9daf54.jpg',\n",
       " '01aa2bb58.jpg',\n",
       " '01aaa7cb9.jpg',\n",
       " '01ab7ccf3.jpg',\n",
       " '01abe8621.jpg',\n",
       " '01acf3a1a.jpg',\n",
       " '01ad3292b.jpg',\n",
       " '01ad35fcb.jpg',\n",
       " '01ad7bca7.jpg',\n",
       " '01ade0c01.jpg',\n",
       " '01ade5c96.jpg',\n",
       " '01aed7da3.jpg',\n",
       " '01b030c4b.jpg',\n",
       " '01b04ce8d.jpg',\n",
       " '01b132e78.jpg',\n",
       " '01b189662.jpg',\n",
       " '01b19502c.jpg',\n",
       " '01b24c781.jpg',\n",
       " '01b267948.jpg',\n",
       " '01b2b29c7.jpg',\n",
       " '01b3ac383.jpg',\n",
       " '01b3c3cab.jpg',\n",
       " '01b524ff3.jpg',\n",
       " '01b57e020.jpg',\n",
       " '01b674372.jpg',\n",
       " '01b6d88ec.jpg',\n",
       " '01b70334e.jpg',\n",
       " '01b733ffd.jpg',\n",
       " '01b7347a6.jpg',\n",
       " '01b87d3d6.jpg',\n",
       " '01b88e0da.jpg',\n",
       " '01b96ba8f.jpg',\n",
       " '01bb07c7d.jpg',\n",
       " '01bc89e10.jpg',\n",
       " '01bc908db.jpg',\n",
       " '01bcbc67d.jpg',\n",
       " '01bcd7b61.jpg',\n",
       " '01bd540db.jpg',\n",
       " '01bdfc055.jpg',\n",
       " '01be82522.jpg',\n",
       " '01bead3dd.jpg',\n",
       " '01bf9ea23.jpg',\n",
       " '01c084bc3.jpg',\n",
       " '01c11fdcf.jpg',\n",
       " '01c13a478.jpg',\n",
       " '01c35c219.jpg',\n",
       " '01c38e384.jpg',\n",
       " '01c559b28.jpg',\n",
       " '01c5e7262.jpg',\n",
       " '01c630212.jpg',\n",
       " '01c6da630.jpg',\n",
       " '01c73738b.jpg',\n",
       " '01c78e866.jpg',\n",
       " '01c8395ef.jpg',\n",
       " '01c934c85.jpg',\n",
       " '01c99b29b.jpg',\n",
       " '01c99f2f5.jpg',\n",
       " '01c9a4743.jpg',\n",
       " '01ca03158.jpg',\n",
       " '01ca6f780.jpg',\n",
       " '01caa731a.jpg',\n",
       " '01cd433c0.jpg',\n",
       " '01cecb9b6.jpg',\n",
       " '01cf421d5.jpg',\n",
       " '01d175183.jpg',\n",
       " '01d18136d.jpg',\n",
       " '01d1b6e1b.jpg',\n",
       " '01d2a4440.jpg',\n",
       " '01d2aadfa.jpg',\n",
       " '01d53cfe0.jpg',\n",
       " '01d607a82.jpg',\n",
       " '01d6b0dda.jpg',\n",
       " '01d6ba227.jpg',\n",
       " '01d6c0ada.jpg',\n",
       " '01d7041bb.jpg',\n",
       " '01d83dd8a.jpg',\n",
       " '01d85d282.jpg',\n",
       " '01d8d0ef7.jpg',\n",
       " '01d9459a7.jpg',\n",
       " '01d98a868.jpg',\n",
       " '01da5a2de.jpg',\n",
       " '01da9c2df.jpg',\n",
       " '01dbc47bb.jpg',\n",
       " '01de1273b.jpg',\n",
       " '01de2fc25.jpg',\n",
       " '01e06a4c8.jpg',\n",
       " '01e0fce2c.jpg',\n",
       " '01e33f740.jpg',\n",
       " '01e34d51f.jpg',\n",
       " '01e4019bc.jpg',\n",
       " '01e44cff9.jpg',\n",
       " '01e4fdbed.jpg',\n",
       " '01e53d284.jpg',\n",
       " '01e583366.jpg',\n",
       " '01e744922.jpg',\n",
       " '01e78a5d3.jpg',\n",
       " '01e8037b5.jpg',\n",
       " '01e8e51ec.jpg',\n",
       " '01ea6e925.jpg',\n",
       " '01ec3ac77.jpg',\n",
       " '01ecad2c6.jpg',\n",
       " '01ecba9b4.jpg',\n",
       " '01ed38a14.jpg',\n",
       " '01edf4e56.jpg',\n",
       " '01ef10853.jpg',\n",
       " '01eff2f3e.jpg',\n",
       " '01f0f8691.jpg',\n",
       " '01f276783.jpg',\n",
       " '01f286825.jpg',\n",
       " '01f4debc0.jpg',\n",
       " '01f7d537e.jpg',\n",
       " '01f8d9946.jpg',\n",
       " '01fb4fd02.jpg',\n",
       " '01fb92c91.jpg',\n",
       " '01fbf3945.jpg',\n",
       " '01fc324bf.jpg',\n",
       " '01fc8ccf6.jpg',\n",
       " '01fd967f2.jpg',\n",
       " '01fdb9246.jpg',\n",
       " '01fdbadc8.jpg',\n",
       " '01fe0cf6a.jpg',\n",
       " '0200505ee.jpg',\n",
       " '0200612e9.jpg',\n",
       " '0200e3e24.jpg',\n",
       " '020128a8d.jpg',\n",
       " '02021c2f9.jpg',\n",
       " '020323dde.jpg',\n",
       " '02033af48.jpg',\n",
       " '020364a0c.jpg',\n",
       " '0204536e9.jpg',\n",
       " '0206d5f07.jpg',\n",
       " '0206db0da.jpg',\n",
       " '020988a92.jpg',\n",
       " '0209f50e1.jpg',\n",
       " '020a2bace.jpg',\n",
       " '020aa1a39.jpg',\n",
       " '020b6a9f0.jpg',\n",
       " '020da2aa6.jpg',\n",
       " '020eb3654.jpg',\n",
       " '020f1afe8.jpg',\n",
       " '0210c65fa.jpg',\n",
       " '0210dc4fb.jpg',\n",
       " '021163e69.jpg',\n",
       " '0211c0c59.jpg',\n",
       " '0213b298f.jpg',\n",
       " '0213ddbed.jpg',\n",
       " '021565350.jpg',\n",
       " '0216c8e5d.jpg',\n",
       " '021726b60.jpg',\n",
       " '0217ae7c8.jpg',\n",
       " '02192e46a.jpg',\n",
       " '0219dec84.jpg',\n",
       " '021c8200e.jpg',\n",
       " '021ded580.jpg',\n",
       " '021e2b4dd.jpg',\n",
       " '021f5a5c2.jpg',\n",
       " '0220a05f4.jpg',\n",
       " '02213ec5c.jpg',\n",
       " '0221587f9.jpg',\n",
       " '02224f66f.jpg',\n",
       " '022395edf.jpg',\n",
       " '02254cac5.jpg',\n",
       " '0225e1c57.jpg',\n",
       " '02277803f.jpg',\n",
       " '0227e4755.jpg',\n",
       " '0228180b5.jpg',\n",
       " '0228b1fbf.jpg',\n",
       " '0229121ce.jpg',\n",
       " '022abde58.jpg',\n",
       " '022af9c92.jpg',\n",
       " '022bfc827.jpg',\n",
       " '022c0e756.jpg',\n",
       " '022d62754.jpg',\n",
       " '022eac631.jpg',\n",
       " '022ecd2ce.jpg',\n",
       " '0230623b4.jpg',\n",
       " '023240c31.jpg',\n",
       " '02329b747.jpg',\n",
       " '02352c626.jpg',\n",
       " '02353a857.jpg',\n",
       " '02356a37c.jpg',\n",
       " '0235db857.jpg',\n",
       " '023612ad4.jpg',\n",
       " '0237edbd8.jpg',\n",
       " '02381372d.jpg',\n",
       " '023881a49.jpg',\n",
       " '0238a3610.jpg',\n",
       " '0238e14b8.jpg',\n",
       " '023a8c6b4.jpg',\n",
       " '023aec5ee.jpg',\n",
       " '023f6f2f9.jpg',\n",
       " '023f822d0.jpg',\n",
       " '0240a0c8b.jpg',\n",
       " '0240fc4b8.jpg',\n",
       " '02417a036.jpg',\n",
       " '0241f860a.jpg',\n",
       " '02421d07b.jpg',\n",
       " '02422697a.jpg',\n",
       " '024248678.jpg',\n",
       " '024370643.jpg',\n",
       " '0246ed76e.jpg',\n",
       " '024742e5d.jpg',\n",
       " '0248aee06.jpg',\n",
       " '0249b30e0.jpg',\n",
       " '024a707bf.jpg',\n",
       " '024a9c3f4.jpg',\n",
       " '024d1a276.jpg',\n",
       " '024da9e52.jpg',\n",
       " '024ddc457.jpg',\n",
       " '024f1ef39.jpg',\n",
       " '024f3db31.jpg',\n",
       " '024ff1d87.jpg',\n",
       " '02502a347.jpg',\n",
       " '025085ccc.jpg',\n",
       " '0253c3406.jpg',\n",
       " '02552caf3.jpg',\n",
       " '0256b65a4.jpg',\n",
       " '0256ef90d.jpg',\n",
       " '02574d707.jpg',\n",
       " '025788e32.jpg',\n",
       " '02583d516.jpg',\n",
       " '0259a850b.jpg',\n",
       " '0259de307.jpg',\n",
       " '025b0b457.jpg',\n",
       " '025b52a2b.jpg',\n",
       " '025b9f505.jpg',\n",
       " '025baec78.jpg',\n",
       " '025c5c279.jpg',\n",
       " '025c5fdca.jpg',\n",
       " '025c70b1c.jpg',\n",
       " '025cf3713.jpg',\n",
       " '025e39c16.jpg',\n",
       " '025e5dc14.jpg',\n",
       " '025ee157d.jpg',\n",
       " '025fbc9dd.jpg',\n",
       " '02600c932.jpg',\n",
       " '026151534.jpg',\n",
       " '02619f457.jpg',\n",
       " '026214cfe.jpg',\n",
       " '0262aaa0d.jpg',\n",
       " '02630ea38.jpg',\n",
       " '02641ca93.jpg',\n",
       " '02644ef05.jpg',\n",
       " '02646214e.jpg',\n",
       " '0265c08f0.jpg',\n",
       " '0266d432e.jpg',\n",
       " '02680b31f.jpg',\n",
       " '0268a89cf.jpg',\n",
       " '026a33fbd.jpg',\n",
       " '026a4c17a.jpg',\n",
       " '026bb1723.jpg',\n",
       " '026be75a5.jpg',\n",
       " '026c6e9bf.jpg',\n",
       " '026da90a6.jpg',\n",
       " '026dae336.jpg',\n",
       " '026dbd337.jpg',\n",
       " '026e583a0.jpg',\n",
       " '026f743ca.jpg',\n",
       " '026f813c9.jpg',\n",
       " '0270d7317.jpg',\n",
       " '0272026b4.jpg',\n",
       " '02726f31a.jpg',\n",
       " '0272a80e1.jpg',\n",
       " '0272ff983.jpg',\n",
       " '0273953cd.jpg',\n",
       " '0273fb076.jpg',\n",
       " '027483868.jpg',\n",
       " '02748d80d.jpg',\n",
       " '0274d3627.jpg',\n",
       " '0275eea3c.jpg',\n",
       " '02765ce9b.jpg',\n",
       " '02766c52b.jpg',\n",
       " '0276904be.jpg',\n",
       " '02776139a.jpg',\n",
       " '0277825a8.jpg',\n",
       " '027a3b929.jpg',\n",
       " '027a9ce9c.jpg',\n",
       " '027b2269a.jpg',\n",
       " '027b381f0.jpg',\n",
       " '027c349e9.jpg',\n",
       " '027dd0b76.jpg',\n",
       " '027e16aac.jpg',\n",
       " '027e8d30e.jpg',\n",
       " '02800da9a.jpg',\n",
       " '02810dc63.jpg',\n",
       " '0282961c2.jpg',\n",
       " '0282ae761.jpg',\n",
       " '0282e6975.jpg',\n",
       " '0284c1225.jpg',\n",
       " '02854fb17.jpg',\n",
       " '028592ebf.jpg',\n",
       " '028622be9.jpg',\n",
       " '0286357db.jpg',\n",
       " '0287753fa.jpg',\n",
       " '02880bd6e.jpg',\n",
       " '02884baad.jpg',\n",
       " '02885724d.jpg',\n",
       " '028b0ee48.jpg',\n",
       " '028b87b13.jpg',\n",
       " '028c9d202.jpg',\n",
       " '028e081d0.jpg',\n",
       " '028eaba1a.jpg',\n",
       " '028f41948.jpg',\n",
       " '028ffda46.jpg',\n",
       " '02925fd61.jpg',\n",
       " '0292a0504.jpg',\n",
       " '0292e23be.jpg',\n",
       " '0292e9584.jpg',\n",
       " '0292f1509.jpg',\n",
       " '029377b79.jpg',\n",
       " '02953c55a.jpg',\n",
       " '0295a0ca2.jpg',\n",
       " '0296a13f9.jpg',\n",
       " '0296e8724.jpg',\n",
       " '0297c2f2a.jpg',\n",
       " '029883ddf.jpg',\n",
       " '0299e7726.jpg',\n",
       " '029a8f777.jpg',\n",
       " '029b05d40.jpg',\n",
       " '029b5a2d7.jpg',\n",
       " '029bda170.jpg',\n",
       " '029c0a0de.jpg',\n",
       " '029c2a08f.jpg',\n",
       " '029e2db23.jpg',\n",
       " '029e59628.jpg',\n",
       " '029e9626f.jpg',\n",
       " '029f377cb.jpg',\n",
       " '029f4d87e.jpg',\n",
       " '02a07c453.jpg',\n",
       " '02a09371f.jpg',\n",
       " '02a13fb8a.jpg',\n",
       " '02a3646da.jpg',\n",
       " '02a441fbf.jpg',\n",
       " '02a608cf8.jpg',\n",
       " '02a608d41.jpg',\n",
       " '02a7340ab.jpg',\n",
       " '02a80f00c.jpg',\n",
       " '02a823e11.jpg',\n",
       " '02a8d4b4c.jpg',\n",
       " '02a9756b9.jpg',\n",
       " '02aab9aba.jpg',\n",
       " '02ab81b43.jpg',\n",
       " '02abd67a3.jpg',\n",
       " '02abe9456.jpg',\n",
       " '02ac49c46.jpg',\n",
       " '02ac55493.jpg',\n",
       " '02ad2129b.jpg',\n",
       " '02ada244c.jpg',\n",
       " '02adb030b.jpg',\n",
       " '02ae3af19.jpg',\n",
       " '02ae62f2c.jpg',\n",
       " '02b0692d0.jpg',\n",
       " '02b094408.jpg',\n",
       " '02b2b3f30.jpg',\n",
       " '02b30cdbb.jpg',\n",
       " '02b3abcc1.jpg',\n",
       " '02b4b1f6c.jpg',\n",
       " '02b53be98.jpg',\n",
       " '02b609dce.jpg',\n",
       " '02b6f4dc6.jpg',\n",
       " '02b8ad48c.jpg',\n",
       " '02b945641.jpg',\n",
       " '02ba2ecfe.jpg',\n",
       " '02ba5b2c2.jpg',\n",
       " '02ba6c476.jpg',\n",
       " '02ba774d1.jpg',\n",
       " '02bb26bc4.jpg',\n",
       " '02bbac109.jpg',\n",
       " '02bc480c5.jpg',\n",
       " '02bcca2d6.jpg',\n",
       " '02bd1f2f0.jpg',\n",
       " '02bd7e3d1.jpg',\n",
       " '02be1b83c.jpg',\n",
       " '02bf88414.jpg',\n",
       " '02bfb39e6.jpg',\n",
       " '02c025c7d.jpg',\n",
       " '02c086331.jpg',\n",
       " '02c14d65d.jpg',\n",
       " '02c1ef055.jpg',\n",
       " '02c26d6f7.jpg',\n",
       " '02c297bdc.jpg',\n",
       " '02c2c6c7e.jpg',\n",
       " '02c314fd7.jpg',\n",
       " '02c3568a7.jpg',\n",
       " '02c371954.jpg',\n",
       " '02c429cad.jpg',\n",
       " '02c4cbff8.jpg',\n",
       " '02c66b95d.jpg',\n",
       " '02c781d8a.jpg',\n",
       " '02c89ebc8.jpg',\n",
       " '02c935211.jpg',\n",
       " '02c976c09.jpg',\n",
       " '02cb62c23.jpg',\n",
       " '02cb8b07c.jpg',\n",
       " '02cbeb068.jpg',\n",
       " '02cddb0f3.jpg',\n",
       " '02ceea31e.jpg',\n",
       " '02cf4176d.jpg',\n",
       " '02cfb3c9d.jpg',\n",
       " '02cfbf9e0.jpg',\n",
       " '02d0a4912.jpg',\n",
       " '02d15f352.jpg',\n",
       " '02d218ff4.jpg',\n",
       " '02d2863b8.jpg',\n",
       " '02d35ca31.jpg',\n",
       " '02d385f81.jpg',\n",
       " '02d43555f.jpg',\n",
       " '02d49dfcc.jpg',\n",
       " '02d565e9e.jpg',\n",
       " '02d584240.jpg',\n",
       " '02d5a8cc1.jpg',\n",
       " '02d5afc38.jpg',\n",
       " '02d5f31fd.jpg',\n",
       " '02d67cdab.jpg',\n",
       " '02d6c28bf.jpg',\n",
       " '02d6d3aba.jpg',\n",
       " '02d772058.jpg',\n",
       " '02d7e346f.jpg',\n",
       " '02d886255.jpg',\n",
       " '02d958534.jpg',\n",
       " '02d9c899b.jpg',\n",
       " '02dacd74e.jpg',\n",
       " '02ddb350f.jpg',\n",
       " '02de1b37d.jpg',\n",
       " '02de2c3a6.jpg',\n",
       " '02df7aa11.jpg',\n",
       " '02dfa1392.jpg',\n",
       " '02e18ce1d.jpg',\n",
       " '02e304324.jpg',\n",
       " '02e35cc36.jpg',\n",
       " '02e39612d.jpg',\n",
       " '02e434433.jpg',\n",
       " '02e440917.jpg',\n",
       " '02e5e9199.jpg',\n",
       " '02e5fad41.jpg',\n",
       " '02e6a2a59.jpg',\n",
       " '02ea71d21.jpg',\n",
       " '02ea753ea.jpg',\n",
       " '02eaafa40.jpg',\n",
       " ...]"
      ]
     },
     "execution_count": 15,
     "metadata": {},
     "output_type": "execute_result"
    }
   ],
   "source": [
    "sampled_images"
   ]
  },
  {
   "cell_type": "code",
   "execution_count": 16,
   "metadata": {},
   "outputs": [],
   "source": [
    "x_names = np.array([Path(images_path/f'{image_id}') for image_id in sampled_images])\n",
    "y_names = np.array([Path(masks_path/f'{mask_id}') for mask_id in os.listdir(masks_path)])\n",
    "x_test_names = np.array([Path(images_test_path/f'{image_id}') for image_id in os.listdir(images_test_path)])\n",
    "y_test_names = np.array([Path(images_test_path/f'{mask_id}') for mask_id in os.listdir(images_test_path)])"
   ]
  },
  {
   "cell_type": "code",
   "execution_count": 17,
   "metadata": {},
   "outputs": [
    {
     "data": {
      "text/plain": [
       "(89125, 17825)"
      ]
     },
     "execution_count": 17,
     "metadata": {},
     "output_type": "execute_result"
    }
   ],
   "source": [
    "val_idxs = get_cv_idxs(len(x_names))\n",
    "len(x_names), len(val_idxs)"
   ]
  },
  {
   "cell_type": "code",
   "execution_count": 18,
   "metadata": {},
   "outputs": [],
   "source": [
    "((val_x,trn_x),(val_y,trn_y)) = split_by_idx(val_idxs, x_names, y_names)"
   ]
  },
  {
   "cell_type": "markdown",
   "metadata": {},
   "source": [
    "## Transformations"
   ]
  },
  {
   "cell_type": "code",
   "execution_count": 19,
   "metadata": {},
   "outputs": [],
   "source": [
    "aug_tfms = [RandomRotate(10, tfm_y=TfmType.CLASS),\n",
    "            RandomDihedral(tfm_y=TfmType.CLASS),\n",
    "            RandomLighting(0.05, 0.05)]"
   ]
  },
  {
   "cell_type": "markdown",
   "metadata": {},
   "source": [
    "## Upsample head (basic)"
   ]
  },
  {
   "cell_type": "code",
   "execution_count": 20,
   "metadata": {},
   "outputs": [],
   "source": [
    "class StdUpsample(nn.Module):\n",
    "    def __init__(self, nin, nout):\n",
    "        super().__init__()\n",
    "        self.conv = nn.ConvTranspose2d(nin, nout, 2, stride=2)\n",
    "        self.bn = nn.BatchNorm2d(nout)\n",
    "        \n",
    "    def forward(self, x): return self.bn(F.relu(self.conv(x)))"
   ]
  },
  {
   "cell_type": "code",
   "execution_count": 21,
   "metadata": {},
   "outputs": [],
   "source": [
    "flatten_channel = Lambda(lambda x: x[:,0])"
   ]
  },
  {
   "cell_type": "code",
   "execution_count": 22,
   "metadata": {},
   "outputs": [],
   "source": [
    "simple_up = nn.Sequential(\n",
    "    nn.ReLU(),\n",
    "    StdUpsample(512,256),\n",
    "    StdUpsample(256,256),\n",
    "    StdUpsample(256,256),\n",
    "    StdUpsample(256,256),\n",
    "    nn.ConvTranspose2d(256, 1, 2, stride=2),\n",
    "    flatten_channel\n",
    ")"
   ]
  },
  {
   "cell_type": "markdown",
   "metadata": {},
   "source": [
    "## Feeding everything into pytorch using fastai"
   ]
  },
  {
   "cell_type": "code",
   "execution_count": null,
   "metadata": {},
   "outputs": [],
   "source": [
    "ims = [open_image(images_path/f'{image_id}') for image_id in sampled_images[:9]]\n",
    "im_masks = [open_image(masks_path/f'mask_{image_id}') for image_id in sampled_images[:9]]"
   ]
  },
  {
   "cell_type": "code",
   "execution_count": null,
   "metadata": {},
   "outputs": [],
   "source": [
    "fig, axes = plt.subplots(3, 3, figsize=(10, 10))\n",
    "for i,ax in enumerate(axes.flat):\n",
    "    ax = show_img(ims[i], ax=ax)\n",
    "    show_img(im_masks[i][...,0], ax=ax, alpha=0.7)\n",
    "plt.tight_layout(pad=0.1)"
   ]
  },
  {
   "cell_type": "code",
   "execution_count": 23,
   "metadata": {},
   "outputs": [],
   "source": [
    "tfms = tfms_from_model(arch, sz, crop_type=CropType.NO, tfm_y=TfmType.CLASS, aug_tfms=aug_tfms)\n",
    "datasets = ImageData.get_ds(MatchedFilesDataset, (trn_x,trn_y), (val_x,val_y), tfms, test=(x_test_names, y_test_names), path='')\n",
    "data = ImageData(PATH, datasets, bs, num_workers=4, classes=None)"
   ]
  },
  {
   "cell_type": "code",
   "execution_count": null,
   "metadata": {},
   "outputs": [],
   "source": [
    "denorm = data.trn_ds.denorm\n",
    "x,y = next(iter(data.aug_dl))\n",
    "x = denorm(x)"
   ]
  },
  {
   "cell_type": "code",
   "execution_count": null,
   "metadata": {},
   "outputs": [],
   "source": [
    "fig, axes = plt.subplots(5, 6, figsize=(12, 10))\n",
    "for i,ax in enumerate(axes.flat):\n",
    "    ax=show_img(x[i], ax=ax)\n",
    "    show_img(y[i], ax=ax, alpha=0.5)\n",
    "plt.tight_layout(pad=0.1)"
   ]
  },
  {
   "cell_type": "code",
   "execution_count": null,
   "metadata": {},
   "outputs": [],
   "source": [
    "models = ConvnetBuilder(arch, 0, 0, 0, custom_head=simple_up)\n",
    "learn = ConvLearner(data, models)\n",
    "learn.opt_fn=optim.Adam\n",
    "learn.crit=nn.BCEWithLogitsLoss()\n",
    "learn.metrics=[accuracy_thresh(0.5)]"
   ]
  },
  {
   "cell_type": "code",
   "execution_count": null,
   "metadata": {},
   "outputs": [],
   "source": [
    "learn.lr_find()\n",
    "learn.sched.plot()"
   ]
  },
  {
   "cell_type": "code",
   "execution_count": null,
   "metadata": {},
   "outputs": [],
   "source": [
    "lr = 4e-3"
   ]
  },
  {
   "cell_type": "code",
   "execution_count": null,
   "metadata": {
    "scrolled": true
   },
   "outputs": [],
   "source": [
    "learn.fit(lr, 1, cycle_len=3, use_clr=(20,5))"
   ]
  },
  {
   "cell_type": "code",
   "execution_count": null,
   "metadata": {},
   "outputs": [],
   "source": [
    "learn.save('ship_detection_3e')"
   ]
  },
  {
   "cell_type": "code",
   "execution_count": null,
   "metadata": {},
   "outputs": [],
   "source": [
    "learn.load('ship_detection_3e')"
   ]
  },
  {
   "cell_type": "code",
   "execution_count": null,
   "metadata": {},
   "outputs": [],
   "source": [
    "learn.fit(lr, 1, cycle_len=2, cycle_mult=1, use_clr=(20,5))"
   ]
  },
  {
   "cell_type": "code",
   "execution_count": null,
   "metadata": {},
   "outputs": [],
   "source": [
    "learn.save('ship_detection_6e')"
   ]
  },
  {
   "cell_type": "code",
   "execution_count": null,
   "metadata": {},
   "outputs": [],
   "source": [
    "learn.load('ship_detection_6e')"
   ]
  },
  {
   "cell_type": "markdown",
   "metadata": {},
   "source": [
    "## first evaluation with size 64"
   ]
  },
  {
   "cell_type": "code",
   "execution_count": null,
   "metadata": {},
   "outputs": [],
   "source": [
    "x,y = next(iter(data.test_dl))\n",
    "py = to_np(learn.model(V(x)))\n",
    "\n",
    "#x,y = next(iter(data.val_dl))\n",
    "#py = to_np(learn.model(V(x)))"
   ]
  },
  {
   "cell_type": "code",
   "execution_count": null,
   "metadata": {
    "scrolled": true
   },
   "outputs": [],
   "source": [
    "ax = show_img(denorm(x)[idx])\n",
    "show_img(y[idx], ax=ax, alpha=0.5);"
   ]
  },
  {
   "cell_type": "code",
   "execution_count": null,
   "metadata": {},
   "outputs": [],
   "source": [
    "ax = show_img(denorm(x)[idx])\n",
    "show_img(py[idx]>0, ax=ax, alpha=0.5);"
   ]
  },
  {
   "cell_type": "markdown",
   "metadata": {},
   "source": [
    "## unfreezing to train resnet layers"
   ]
  },
  {
   "cell_type": "code",
   "execution_count": null,
   "metadata": {},
   "outputs": [],
   "source": [
    "learn.unfreeze()"
   ]
  },
  {
   "cell_type": "code",
   "execution_count": null,
   "metadata": {},
   "outputs": [],
   "source": [
    "lrs = np.array([lr/9,lr/3,lr])"
   ]
  },
  {
   "cell_type": "code",
   "execution_count": null,
   "metadata": {},
   "outputs": [],
   "source": [
    "learn.fit(lrs, 1, cycle_len=3, use_clr=(20,10))"
   ]
  },
  {
   "cell_type": "code",
   "execution_count": null,
   "metadata": {},
   "outputs": [],
   "source": [
    "learn.save('ship_detection_3e_unfrozen')"
   ]
  },
  {
   "cell_type": "code",
   "execution_count": null,
   "metadata": {},
   "outputs": [],
   "source": [
    "learn.load('ship_detection_3e_unfrozen')"
   ]
  },
  {
   "cell_type": "code",
   "execution_count": null,
   "metadata": {},
   "outputs": [],
   "source": [
    "learn.fit(lrs, 1, cycle_len=3, use_clr=(20,10))"
   ]
  },
  {
   "cell_type": "code",
   "execution_count": null,
   "metadata": {},
   "outputs": [],
   "source": [
    "learn.save('ship_detection_6e_unfrozen')"
   ]
  },
  {
   "cell_type": "code",
   "execution_count": null,
   "metadata": {},
   "outputs": [],
   "source": [
    "learn.load('ship_detection_6e_unfrozen')"
   ]
  },
  {
   "cell_type": "code",
   "execution_count": null,
   "metadata": {},
   "outputs": [],
   "source": [
    "learn.fit(lrs, 1, cycle_len=5, use_clr=(20,10))"
   ]
  },
  {
   "cell_type": "code",
   "execution_count": null,
   "metadata": {},
   "outputs": [],
   "source": [
    "learn.save('ship_detection_11e_unfrozen')"
   ]
  },
  {
   "cell_type": "code",
   "execution_count": null,
   "metadata": {},
   "outputs": [],
   "source": [
    "learn.load('ship_detection_11e_unfrozen')"
   ]
  },
  {
   "cell_type": "code",
   "execution_count": null,
   "metadata": {},
   "outputs": [],
   "source": [
    "learn.fit(lrs, 1, cycle_len=4, use_clr=(20,10))"
   ]
  },
  {
   "cell_type": "code",
   "execution_count": null,
   "metadata": {},
   "outputs": [],
   "source": [
    "learn.save('ship_detection_15e_unfrozen')"
   ]
  },
  {
   "cell_type": "code",
   "execution_count": null,
   "metadata": {},
   "outputs": [],
   "source": [
    "learn.fit(lrs, 1, cycle_len=5, use_clr=(20,10))"
   ]
  },
  {
   "cell_type": "code",
   "execution_count": null,
   "metadata": {},
   "outputs": [],
   "source": [
    "learn.save('ship_detection_20e_unfrozen')"
   ]
  },
  {
   "cell_type": "markdown",
   "metadata": {},
   "source": [
    "## evaluation with trained resnet layers size 64"
   ]
  },
  {
   "cell_type": "code",
   "execution_count": null,
   "metadata": {},
   "outputs": [],
   "source": [
    "x,y = next(iter(data.test_dl))\n",
    "py = to_np(learn.model(V(x)))\n",
    "\n",
    "#x,y = next(iter(data.val_dl))\n",
    "#py = to_np(learn.model(V(x)))"
   ]
  },
  {
   "cell_type": "code",
   "execution_count": null,
   "metadata": {},
   "outputs": [],
   "source": [
    "for i in range(0, 63):\n",
    "    if len(py[i][py[i]>0]):\n",
    "        print(i)"
   ]
  },
  {
   "cell_type": "code",
   "execution_count": null,
   "metadata": {},
   "outputs": [],
   "source": [
    "idx = 50"
   ]
  },
  {
   "cell_type": "code",
   "execution_count": null,
   "metadata": {},
   "outputs": [],
   "source": [
    "ax = show_img(denorm(x)[idx])\n",
    "show_img(y[idx], ax=ax, alpha=0.5);"
   ]
  },
  {
   "cell_type": "code",
   "execution_count": null,
   "metadata": {
    "scrolled": true
   },
   "outputs": [],
   "source": [
    "ax = show_img(denorm(x)[idx])\n",
    "show_img(py[idx]>0, ax=ax, alpha=0.5);"
   ]
  },
  {
   "cell_type": "markdown",
   "metadata": {},
   "source": [
    "## size 128"
   ]
  },
  {
   "cell_type": "code",
   "execution_count": null,
   "metadata": {},
   "outputs": [],
   "source": [
    "bs = 128\n",
    "sz = 128"
   ]
  },
  {
   "cell_type": "code",
   "execution_count": null,
   "metadata": {},
   "outputs": [],
   "source": [
    "tfms = tfms_from_model(arch, sz, crop_type=CropType.NO, tfm_y=TfmType.CLASS, aug_tfms=aug_tfms)\n",
    "datasets = ImageData.get_ds(MatchedFilesDataset, (trn_x,trn_y), (val_x,val_y), tfms, test=(x_test_names, y_test_names), path='')\n",
    "data = ImageData(PATH, datasets, bs, num_workers=4, classes=None)"
   ]
  },
  {
   "cell_type": "code",
   "execution_count": null,
   "metadata": {},
   "outputs": [],
   "source": [
    "denorm = data.trn_ds.denorm\n",
    "x,y = next(iter(data.aug_dl))\n",
    "x = denorm(x)"
   ]
  },
  {
   "cell_type": "code",
   "execution_count": null,
   "metadata": {},
   "outputs": [],
   "source": [
    "fig, axes = plt.subplots(5, 6, figsize=(12, 10))\n",
    "for i,ax in enumerate(axes.flat):\n",
    "    ax=show_img(x[i], ax=ax)\n",
    "    show_img(y[i], ax=ax, alpha=0.5)\n",
    "plt.tight_layout(pad=0.1)"
   ]
  },
  {
   "cell_type": "code",
   "execution_count": null,
   "metadata": {},
   "outputs": [],
   "source": [
    "models = ConvnetBuilder(arch, 0, 0, 0, custom_head=simple_up)\n",
    "learn = ConvLearner(data, models)\n",
    "learn.opt_fn=optim.Adam\n",
    "learn.crit=nn.BCEWithLogitsLoss()\n",
    "learn.metrics=[accuracy_thresh(0.5)]"
   ]
  },
  {
   "cell_type": "code",
   "execution_count": null,
   "metadata": {},
   "outputs": [],
   "source": [
    "learn.load('ship_detection_20e_unfrozen')"
   ]
  },
  {
   "cell_type": "code",
   "execution_count": null,
   "metadata": {},
   "outputs": [],
   "source": [
    "learn.lr_find(start_lr=1e-8)\n",
    "learn.sched.plot()"
   ]
  },
  {
   "cell_type": "code",
   "execution_count": null,
   "metadata": {},
   "outputs": [],
   "source": [
    "lr=1e-3"
   ]
  },
  {
   "cell_type": "code",
   "execution_count": null,
   "metadata": {},
   "outputs": [],
   "source": [
    "learn.fit(lr,1,cycle_len=3,use_clr=(20,5))"
   ]
  },
  {
   "cell_type": "code",
   "execution_count": null,
   "metadata": {},
   "outputs": [],
   "source": [
    "learn.save('ship_detection_128_3e')"
   ]
  },
  {
   "cell_type": "code",
   "execution_count": null,
   "metadata": {},
   "outputs": [],
   "source": [
    "learn.fit(lr,1,cycle_len=5,use_clr=(20,5))"
   ]
  },
  {
   "cell_type": "code",
   "execution_count": null,
   "metadata": {},
   "outputs": [],
   "source": [
    "learn.save('ship_detection_128_8e')"
   ]
  },
  {
   "cell_type": "code",
   "execution_count": null,
   "metadata": {},
   "outputs": [],
   "source": [
    "learn.load('ship_detection_128_8e')"
   ]
  },
  {
   "cell_type": "code",
   "execution_count": null,
   "metadata": {},
   "outputs": [],
   "source": [
    "learn.unfreeze()"
   ]
  },
  {
   "cell_type": "code",
   "execution_count": null,
   "metadata": {},
   "outputs": [],
   "source": [
    "lrs = np.array([lr/9,lr/3,lr])"
   ]
  },
  {
   "cell_type": "code",
   "execution_count": null,
   "metadata": {},
   "outputs": [],
   "source": [
    "learn.fit(lrs,1,cycle_len=5,use_clr=(20,5))"
   ]
  },
  {
   "cell_type": "code",
   "execution_count": null,
   "metadata": {},
   "outputs": [],
   "source": [
    "learn.save('ship_detection_128_5e_unfrozen')"
   ]
  },
  {
   "cell_type": "code",
   "execution_count": null,
   "metadata": {},
   "outputs": [],
   "source": [
    "learn.fit(lrs,1,cycle_len=8,use_clr=(20,5))"
   ]
  },
  {
   "cell_type": "code",
   "execution_count": null,
   "metadata": {},
   "outputs": [],
   "source": [
    "learn.save('ship_detection_128_13e_unfrozen')"
   ]
  },
  {
   "cell_type": "markdown",
   "metadata": {},
   "source": [
    "## evaluation with trained resnet layers size 128"
   ]
  },
  {
   "cell_type": "code",
   "execution_count": null,
   "metadata": {},
   "outputs": [],
   "source": [
    "x,y = next(iter(data.test_dl))\n",
    "py = to_np(learn.model(V(x)))\n",
    "\n",
    "#x,y = next(iter(data.val_dl))\n",
    "#py = to_np(learn.model(V(x)))"
   ]
  },
  {
   "cell_type": "code",
   "execution_count": null,
   "metadata": {},
   "outputs": [],
   "source": [
    "for i in range(0, 63):\n",
    "    if len(py[i][py[i]>0]):\n",
    "        print(i)"
   ]
  },
  {
   "cell_type": "code",
   "execution_count": null,
   "metadata": {},
   "outputs": [],
   "source": [
    "idx = 50"
   ]
  },
  {
   "cell_type": "code",
   "execution_count": null,
   "metadata": {},
   "outputs": [],
   "source": [
    "ax = show_img(denorm(x)[idx])\n",
    "show_img(y[idx], ax=ax, alpha=0.5);"
   ]
  },
  {
   "cell_type": "code",
   "execution_count": null,
   "metadata": {
    "scrolled": true
   },
   "outputs": [],
   "source": [
    "ax = show_img(denorm(x)[idx])\n",
    "show_img(py[idx]>0, ax=ax, alpha=0.5);"
   ]
  },
  {
   "cell_type": "markdown",
   "metadata": {},
   "source": [
    "## size 256"
   ]
  },
  {
   "cell_type": "code",
   "execution_count": null,
   "metadata": {},
   "outputs": [],
   "source": [
    "bs = 32\n",
    "sz = 256"
   ]
  },
  {
   "cell_type": "code",
   "execution_count": null,
   "metadata": {},
   "outputs": [],
   "source": [
    "tfms = tfms_from_model(arch, sz, crop_type=CropType.NO, tfm_y=TfmType.CLASS, aug_tfms=aug_tfms)\n",
    "datasets = ImageData.get_ds(MatchedFilesDataset, (trn_x,trn_y), (val_x,val_y), tfms, test=(x_test_names, y_test_names), path='')\n",
    "data = ImageData(PATH, datasets, bs, num_workers=4, classes=None)"
   ]
  },
  {
   "cell_type": "code",
   "execution_count": null,
   "metadata": {},
   "outputs": [],
   "source": [
    "denorm = data.trn_ds.denorm\n",
    "x,y = next(iter(data.aug_dl))\n",
    "x = denorm(x)"
   ]
  },
  {
   "cell_type": "code",
   "execution_count": null,
   "metadata": {},
   "outputs": [],
   "source": [
    "fig, axes = plt.subplots(5, 6, figsize=(12, 10))\n",
    "for i,ax in enumerate(axes.flat):\n",
    "    ax=show_img(x[i], ax=ax)\n",
    "    show_img(y[i], ax=ax, alpha=0.5)\n",
    "plt.tight_layout(pad=0.1)"
   ]
  },
  {
   "cell_type": "code",
   "execution_count": null,
   "metadata": {},
   "outputs": [],
   "source": [
    "models = ConvnetBuilder(arch, 0, 0, 0, custom_head=simple_up)\n",
    "learn = ConvLearner(data, models)\n",
    "learn.opt_fn=optim.Adam\n",
    "learn.crit=nn.BCEWithLogitsLoss()\n",
    "learn.metrics=[accuracy_thresh(0.5)]"
   ]
  },
  {
   "cell_type": "code",
   "execution_count": null,
   "metadata": {},
   "outputs": [],
   "source": [
    "learn.load('ship_detection_128_13e_unfrozen')"
   ]
  },
  {
   "cell_type": "code",
   "execution_count": null,
   "metadata": {},
   "outputs": [],
   "source": [
    "learn.lr_find(start_lr=1e-8)\n",
    "learn.sched.plot()"
   ]
  },
  {
   "cell_type": "code",
   "execution_count": null,
   "metadata": {},
   "outputs": [],
   "source": [
    "lr=1e-3"
   ]
  },
  {
   "cell_type": "code",
   "execution_count": null,
   "metadata": {},
   "outputs": [],
   "source": [
    "learn.fit(lr,1,cycle_len=3,use_clr=(20,5))"
   ]
  },
  {
   "cell_type": "code",
   "execution_count": null,
   "metadata": {},
   "outputs": [],
   "source": [
    "learn.save('ship_detection_256_3e')"
   ]
  },
  {
   "cell_type": "code",
   "execution_count": null,
   "metadata": {},
   "outputs": [],
   "source": [
    "learn.fit(lr,1,cycle_len=5,use_clr=(20,5))"
   ]
  },
  {
   "cell_type": "code",
   "execution_count": null,
   "metadata": {},
   "outputs": [],
   "source": [
    "learn.save('ship_detection_256_8e')"
   ]
  },
  {
   "cell_type": "code",
   "execution_count": null,
   "metadata": {},
   "outputs": [],
   "source": [
    "learn.load('ship_detection_256_8e')"
   ]
  },
  {
   "cell_type": "code",
   "execution_count": null,
   "metadata": {},
   "outputs": [],
   "source": [
    "learn.unfreeze()"
   ]
  },
  {
   "cell_type": "code",
   "execution_count": null,
   "metadata": {},
   "outputs": [],
   "source": [
    "lrs = np.array([lr/9,lr/3,lr])"
   ]
  },
  {
   "cell_type": "code",
   "execution_count": null,
   "metadata": {},
   "outputs": [],
   "source": [
    "learn.fit(lrs,1,cycle_len=3,use_clr=(20,5))"
   ]
  },
  {
   "cell_type": "code",
   "execution_count": null,
   "metadata": {},
   "outputs": [],
   "source": [
    "learn.save('ship_detection_256_3e_unfrozen')"
   ]
  },
  {
   "cell_type": "code",
   "execution_count": null,
   "metadata": {},
   "outputs": [],
   "source": [
    "learn.fit(lrs,1,cycle_len=5,use_clr=(20,5))"
   ]
  },
  {
   "cell_type": "code",
   "execution_count": null,
   "metadata": {},
   "outputs": [],
   "source": [
    "learn.save('ship_detection_256_8e_unfrozen')"
   ]
  },
  {
   "cell_type": "markdown",
   "metadata": {},
   "source": [
    "## evaluation with trained resnet layers size 256"
   ]
  },
  {
   "cell_type": "code",
   "execution_count": null,
   "metadata": {},
   "outputs": [],
   "source": [
    "x,y = next(iter(data.test_dl))\n",
    "py = to_np(learn.model(V(x)))\n",
    "\n",
    "#x,y = next(iter(data.val_dl))\n",
    "#py = to_np(learn.model(V(x)))"
   ]
  },
  {
   "cell_type": "code",
   "execution_count": null,
   "metadata": {},
   "outputs": [],
   "source": [
    "for i in range(0, 31):\n",
    "    if len(py[i][py[i]>0]):\n",
    "        print(i)"
   ]
  },
  {
   "cell_type": "code",
   "execution_count": null,
   "metadata": {},
   "outputs": [],
   "source": [
    "idx = 10"
   ]
  },
  {
   "cell_type": "code",
   "execution_count": null,
   "metadata": {},
   "outputs": [],
   "source": [
    "ax = show_img(denorm(x)[idx])\n",
    "show_img(y[idx], ax=ax, alpha=0.5);"
   ]
  },
  {
   "cell_type": "code",
   "execution_count": null,
   "metadata": {
    "scrolled": true
   },
   "outputs": [],
   "source": [
    "ax = show_img(denorm(x)[idx])\n",
    "show_img(py[idx]>0, ax=ax, alpha=1);"
   ]
  },
  {
   "cell_type": "markdown",
   "metadata": {},
   "source": [
    "## size 512"
   ]
  },
  {
   "cell_type": "code",
   "execution_count": null,
   "metadata": {},
   "outputs": [],
   "source": [
    "bs = 11\n",
    "sz = 512"
   ]
  },
  {
   "cell_type": "code",
   "execution_count": null,
   "metadata": {},
   "outputs": [],
   "source": [
    "tfms = tfms_from_model(arch, sz, crop_type=CropType.NO, tfm_y=TfmType.CLASS, aug_tfms=aug_tfms)\n",
    "datasets = ImageData.get_ds(MatchedFilesDataset, (trn_x,trn_y), (val_x,val_y), tfms, test=(x_test_names, y_test_names), path='')\n",
    "data = ImageData(PATH, datasets, bs, num_workers=8, classes=None)"
   ]
  },
  {
   "cell_type": "code",
   "execution_count": null,
   "metadata": {},
   "outputs": [],
   "source": [
    "denorm = data.trn_ds.denorm\n",
    "x,y = next(iter(data.aug_dl))\n",
    "x = denorm(x)"
   ]
  },
  {
   "cell_type": "code",
   "execution_count": null,
   "metadata": {
    "scrolled": false
   },
   "outputs": [],
   "source": [
    "fig, axes = plt.subplots(2, 4, figsize=(12, 10))\n",
    "for i,ax in enumerate(axes.flat):\n",
    "    ax=show_img(x[i], ax=ax)\n",
    "    show_img(y[i], ax=ax, alpha=0.5)\n",
    "plt.tight_layout(pad=0.1)"
   ]
  },
  {
   "cell_type": "code",
   "execution_count": null,
   "metadata": {},
   "outputs": [],
   "source": [
    "models = ConvnetBuilder(arch, 0, 0, 0, custom_head=simple_up)\n",
    "learn = ConvLearner(data, models)\n",
    "learn.opt_fn=optim.Adam\n",
    "learn.crit=nn.BCEWithLogitsLoss()\n",
    "learn.metrics=[accuracy_thresh(0.5)]"
   ]
  },
  {
   "cell_type": "code",
   "execution_count": null,
   "metadata": {},
   "outputs": [],
   "source": [
    "learn.load('ship_detection_256_8e_unfrozen')"
   ]
  },
  {
   "cell_type": "code",
   "execution_count": null,
   "metadata": {},
   "outputs": [],
   "source": [
    "learn.lr_find(start_lr=1e-8)\n",
    "learn.sched.plot()"
   ]
  },
  {
   "cell_type": "code",
   "execution_count": null,
   "metadata": {},
   "outputs": [],
   "source": [
    "lr=1e-3"
   ]
  },
  {
   "cell_type": "code",
   "execution_count": null,
   "metadata": {},
   "outputs": [],
   "source": [
    "learn.fit(lr,1,cycle_len=3,use_clr=(20,5))"
   ]
  },
  {
   "cell_type": "code",
   "execution_count": null,
   "metadata": {},
   "outputs": [],
   "source": [
    "learn.save('ship_detection_512_3e')"
   ]
  },
  {
   "cell_type": "code",
   "execution_count": null,
   "metadata": {},
   "outputs": [],
   "source": [
    "learn.fit(lr,1,cycle_len=5,use_clr=(20,5))"
   ]
  },
  {
   "cell_type": "code",
   "execution_count": null,
   "metadata": {},
   "outputs": [],
   "source": [
    "learn.save('ship_detection_512_8e')"
   ]
  },
  {
   "cell_type": "code",
   "execution_count": null,
   "metadata": {},
   "outputs": [],
   "source": [
    "learn.load('ship_detection_512_8e')"
   ]
  },
  {
   "cell_type": "code",
   "execution_count": null,
   "metadata": {},
   "outputs": [],
   "source": [
    "learn.unfreeze()"
   ]
  },
  {
   "cell_type": "code",
   "execution_count": null,
   "metadata": {},
   "outputs": [],
   "source": [
    "lrs = np.array([lr/9,lr/3,lr])"
   ]
  },
  {
   "cell_type": "code",
   "execution_count": null,
   "metadata": {},
   "outputs": [],
   "source": [
    "learn.fit(lrs,1,cycle_len=3,use_clr=(20,5))"
   ]
  },
  {
   "cell_type": "code",
   "execution_count": null,
   "metadata": {},
   "outputs": [],
   "source": [
    "learn.save('ship_detection_512_3e_unfrozen')"
   ]
  },
  {
   "cell_type": "code",
   "execution_count": null,
   "metadata": {},
   "outputs": [],
   "source": [
    "learn.load('ship_detection_512_3e_unfrozen')"
   ]
  },
  {
   "cell_type": "code",
   "execution_count": null,
   "metadata": {},
   "outputs": [],
   "source": [
    "#learn.summary()\n",
    "#learn.get_layer_groups"
   ]
  },
  {
   "cell_type": "code",
   "execution_count": null,
   "metadata": {},
   "outputs": [],
   "source": [
    "learn.fit(lrs,1,cycle_len=5,use_clr=(20,5))"
   ]
  },
  {
   "cell_type": "code",
   "execution_count": null,
   "metadata": {},
   "outputs": [],
   "source": [
    "learn.save('ship_detection_512_8e_unfrozen')"
   ]
  },
  {
   "cell_type": "markdown",
   "metadata": {},
   "source": [
    "## evaluation with trained resnet layers size 512"
   ]
  },
  {
   "cell_type": "code",
   "execution_count": null,
   "metadata": {},
   "outputs": [],
   "source": [
    "learn.model.eval()"
   ]
  },
  {
   "cell_type": "code",
   "execution_count": null,
   "metadata": {
    "scrolled": false
   },
   "outputs": [],
   "source": [
    "x,y = next(iter(data.test_dl))\n",
    "py = to_np(learn.model(V(x)))\n",
    "\n",
    "#x,y = next(iter(data.val_dl))\n",
    "#py = to_np(learn.model(V(x)))"
   ]
  },
  {
   "cell_type": "code",
   "execution_count": null,
   "metadata": {},
   "outputs": [],
   "source": [
    "py.shape"
   ]
  },
  {
   "cell_type": "code",
   "execution_count": null,
   "metadata": {},
   "outputs": [],
   "source": [
    "for i in range(0, 11):\n",
    "    if len(py[i][py[i]>0]):\n",
    "        print(i)"
   ]
  },
  {
   "cell_type": "code",
   "execution_count": null,
   "metadata": {},
   "outputs": [],
   "source": [
    "idx = 10"
   ]
  },
  {
   "cell_type": "code",
   "execution_count": null,
   "metadata": {},
   "outputs": [],
   "source": [
    "ax = show_img(denorm(x)[idx])\n",
    "show_img(y[idx], ax=ax, alpha=0.5);"
   ]
  },
  {
   "cell_type": "code",
   "execution_count": null,
   "metadata": {},
   "outputs": [],
   "source": [
    "ax = show_img(denorm(x)[idx])\n",
    "show_img(py[idx]>0, ax=ax, alpha=0.5);"
   ]
  },
  {
   "cell_type": "markdown",
   "metadata": {},
   "source": [
    "## size 768"
   ]
  },
  {
   "cell_type": "code",
   "execution_count": null,
   "metadata": {},
   "outputs": [],
   "source": [
    "bs = 4\n",
    "sz = 768"
   ]
  },
  {
   "cell_type": "code",
   "execution_count": null,
   "metadata": {},
   "outputs": [],
   "source": [
    "tfms = tfms_from_model(arch, sz, crop_type=CropType.NO, tfm_y=TfmType.CLASS, aug_tfms=aug_tfms)\n",
    "datasets = ImageData.get_ds(MatchedFilesDataset, (trn_x,trn_y), (val_x,val_y), tfms, test=(x_test_names, y_test_names), path='')\n",
    "data = ImageData(PATH, datasets, bs, num_workers=8, classes=None)"
   ]
  },
  {
   "cell_type": "code",
   "execution_count": null,
   "metadata": {},
   "outputs": [],
   "source": [
    "denorm = data.trn_ds.denorm\n",
    "x,y = next(iter(data.aug_dl))\n",
    "x = denorm(x)"
   ]
  },
  {
   "cell_type": "code",
   "execution_count": null,
   "metadata": {},
   "outputs": [],
   "source": [
    "fig, axes = plt.subplots(2, 2, figsize=(12, 10))\n",
    "for i,ax in enumerate(axes.flat):\n",
    "    ax=show_img(x[i], ax=ax)\n",
    "    show_img(y[i], ax=ax, alpha=0.5)\n",
    "plt.tight_layout(pad=0.1)"
   ]
  },
  {
   "cell_type": "code",
   "execution_count": null,
   "metadata": {},
   "outputs": [],
   "source": [
    "'''def IoU(pred, targs):\n",
    "    pred = (pred > 0).astype(float)\n",
    "    intersection = (pred*targs).sum()\n",
    "    return intersection / ((pred+targs).sum() - intersection + 1.0)\n",
    "'''"
   ]
  },
  {
   "cell_type": "code",
   "execution_count": null,
   "metadata": {},
   "outputs": [],
   "source": [
    "models = ConvnetBuilder(arch, 0, 0, 0, custom_head=simple_up)\n",
    "learn = ConvLearner(data, models)\n",
    "learn.opt_fn=optim.Adam\n",
    "learn.crit=nn.BCEWithLogitsLoss()\n",
    "learn.metrics=[accuracy_thresh(0.5)]"
   ]
  },
  {
   "cell_type": "code",
   "execution_count": null,
   "metadata": {},
   "outputs": [],
   "source": [
    "learn.load('ship_detection_512_8e_unfrozen')"
   ]
  },
  {
   "cell_type": "code",
   "execution_count": null,
   "metadata": {},
   "outputs": [],
   "source": [
    "learn.lr_find(start_lr=1e-8)\n",
    "learn.sched.plot()"
   ]
  },
  {
   "cell_type": "code",
   "execution_count": null,
   "metadata": {},
   "outputs": [],
   "source": [
    "lr=1e-3"
   ]
  },
  {
   "cell_type": "code",
   "execution_count": null,
   "metadata": {
    "scrolled": false
   },
   "outputs": [],
   "source": [
    "learn.fit(lr,1,cycle_len=2,use_clr=(20,5))"
   ]
  },
  {
   "cell_type": "code",
   "execution_count": null,
   "metadata": {},
   "outputs": [],
   "source": [
    "learn.save('ship_detection_768_2e')"
   ]
  },
  {
   "cell_type": "code",
   "execution_count": null,
   "metadata": {},
   "outputs": [],
   "source": [
    "learn.fit(lrs,1,cycle_len=3,use_clr=(20,5))"
   ]
  },
  {
   "cell_type": "code",
   "execution_count": null,
   "metadata": {},
   "outputs": [],
   "source": [
    "learn.save('ship_detection_768_3e_unfrozen')"
   ]
  },
  {
   "cell_type": "code",
   "execution_count": null,
   "metadata": {},
   "outputs": [],
   "source": [
    "learn.load('ship_detection_768_3e_unfrozen')"
   ]
  },
  {
   "cell_type": "code",
   "execution_count": null,
   "metadata": {},
   "outputs": [],
   "source": [
    "learn.unfreeze()"
   ]
  },
  {
   "cell_type": "code",
   "execution_count": null,
   "metadata": {},
   "outputs": [],
   "source": [
    "lr=1e-3"
   ]
  },
  {
   "cell_type": "code",
   "execution_count": null,
   "metadata": {},
   "outputs": [],
   "source": [
    "lrs = np.array([lr/9,lr/3,lr])"
   ]
  },
  {
   "cell_type": "code",
   "execution_count": null,
   "metadata": {},
   "outputs": [],
   "source": [
    "#learn.lr_find(start_lr=1e-8)"
   ]
  },
  {
   "cell_type": "code",
   "execution_count": null,
   "metadata": {},
   "outputs": [],
   "source": [
    "learn.fit(lrs,1,cycle_len=3,use_clr=(20,5), best_save_name='ship_detection_768_xe_best_unfrozen')"
   ]
  },
  {
   "cell_type": "code",
   "execution_count": null,
   "metadata": {},
   "outputs": [],
   "source": [
    "learn.save('ship_detection_768_6e_unfrozen')"
   ]
  },
  {
   "cell_type": "code",
   "execution_count": null,
   "metadata": {},
   "outputs": [],
   "source": [
    "learn.fit(lrs,1,cycle_len=3,use_clr=(20,5), best_save_name='ship_detection_768_xe_best2_unfrozen')"
   ]
  },
  {
   "cell_type": "code",
   "execution_count": null,
   "metadata": {},
   "outputs": [],
   "source": [
    "learn.save('ship_detection_768_9e_unfrozen')"
   ]
  },
  {
   "cell_type": "markdown",
   "metadata": {},
   "source": [
    "## evaluation with trained resnet layers size 768"
   ]
  },
  {
   "cell_type": "code",
   "execution_count": null,
   "metadata": {},
   "outputs": [],
   "source": [
    "learn.load('ship_detection_768_3e_unfrozen')"
   ]
  },
  {
   "cell_type": "code",
   "execution_count": null,
   "metadata": {},
   "outputs": [],
   "source": [
    "learn.model.eval()"
   ]
  },
  {
   "cell_type": "code",
   "execution_count": null,
   "metadata": {
    "scrolled": false
   },
   "outputs": [],
   "source": [
    "x,y = next(iter(data.test_dl))\n",
    "py = to_np(learn.model(V(x)))\n",
    "\n",
    "#x,y = next(iter(data.val_dl))\n",
    "#py = to_np(learn.model(V(x)))"
   ]
  },
  {
   "cell_type": "code",
   "execution_count": null,
   "metadata": {},
   "outputs": [],
   "source": [
    "py.shape"
   ]
  },
  {
   "cell_type": "code",
   "execution_count": null,
   "metadata": {},
   "outputs": [],
   "source": [
    "for i in range(0, 8):\n",
    "    if len(py[i][py[i]>0]):\n",
    "        print(i)"
   ]
  },
  {
   "cell_type": "code",
   "execution_count": null,
   "metadata": {},
   "outputs": [],
   "source": [
    "idx = 3"
   ]
  },
  {
   "cell_type": "code",
   "execution_count": null,
   "metadata": {},
   "outputs": [],
   "source": [
    "ax = show_img(denorm(x)[idx])\n",
    "show_img(y[idx], ax=ax, alpha=0.5);"
   ]
  },
  {
   "cell_type": "code",
   "execution_count": null,
   "metadata": {},
   "outputs": [],
   "source": [
    "ax = show_img(denorm(x)[idx])\n",
    "show_img(py[idx]>0, ax=ax, alpha=0.5);"
   ]
  },
  {
   "cell_type": "code",
   "execution_count": null,
   "metadata": {},
   "outputs": [],
   "source": [
    "'''# TODO: refacter with this function\n",
    "\n",
    "def get_learner(sz=128, bs=128):\n",
    "    tfms = tfms_from_model(arch, sz, crop_type=CropType.NO, tfm_y=TfmType.CLASS, aug_tfms=aug_tfms)\n",
    "    datasets = ImageData.get_ds(MatchedFilesDataset, (trn_x,trn_y), (val_x,val_y), tfms, test=(x_test_names, y_test_names), path='')\n",
    "    data = ImageData(PATH, datasets, bs, num_workers=4, classes=None)\n",
    "    \n",
    "    models = ConvnetBuilder(arch, 0, 0, 0, custom_head=simple_up)\n",
    "    learn = ConvLearner(data, models)\n",
    "    learn.opt_fn=optim.Adam\n",
    "    learn.crit=nn.BCEWithLogitsLoss()\n",
    "    learn.metrics=[accuracy_thresh(0.5)]\n",
    "\n",
    "    return learn'''"
   ]
  },
  {
   "cell_type": "markdown",
   "metadata": {},
   "source": [
    "### Prediction for each ship so we have to split (thanks Iafoss for these convenient functions!)"
   ]
  },
  {
   "cell_type": "code",
   "execution_count": null,
   "metadata": {},
   "outputs": [],
   "source": [
    "def enc_test(yps, names):\n",
    "    for i in range(len(yps)):\n",
    "        if len(yps[i][yps[i]>0]) > 0:\n",
    "            masks = split_mask(yps[i])\n",
    "            if len(masks) == 0:\n",
    "                print('no mask returned!')\n",
    "                ship_list_dict.append({'ImageId':names[i],'EncodedPixels':''})\n",
    "            for mask in masks:\n",
    "                ship_list_dict.append({'ImageId':names[i],'EncodedPixels':rle_encode(mask)})\n",
    "        else: \n",
    "            ship_list_dict.append({'ImageId':names[i],'EncodedPixels':''})"
   ]
  },
  {
   "cell_type": "code",
   "execution_count": null,
   "metadata": {},
   "outputs": [],
   "source": [
    "def split_mask(mask):\n",
    "    threshold = 0\n",
    "    threshold_obj = 0 #ignore predictions composed of \"threshold_obj\" pixels or less\n",
    "    labled,n_objs = ndimage.label(mask > threshold)\n",
    "    result = []\n",
    "    for i in range(n_objs):\n",
    "        obj = (labled == i + 1).astype(int)\n",
    "        #if(obj.sum() > threshold_obj): \n",
    "        result.append(obj)\n",
    "    return result"
   ]
  },
  {
   "cell_type": "markdown",
   "metadata": {},
   "source": [
    "## create submission"
   ]
  },
  {
   "cell_type": "code",
   "execution_count": null,
   "metadata": {},
   "outputs": [],
   "source": [
    "learn.load('ship_detection_768_3e_unfrozen')"
   ]
  },
  {
   "cell_type": "code",
   "execution_count": null,
   "metadata": {},
   "outputs": [],
   "source": [
    "learn.model.eval()"
   ]
  },
  {
   "cell_type": "code",
   "execution_count": null,
   "metadata": {},
   "outputs": [],
   "source": [
    "batch_length = int(math.ceil((len(data.test_ds)/bs)/30)) #split into 30 batches because of ram limitation\n",
    "\n",
    "mb = master_bar(range(30))\n",
    "mb.first_bar.comment = f'progress on test-set'\n",
    "\n",
    "test_iter = iter(data.test_dl)\n",
    "\n",
    "ship_list_dict = []\n",
    "py = np.empty((0, 768, 768), float)"
   ]
  },
  {
   "cell_type": "code",
   "execution_count": null,
   "metadata": {},
   "outputs": [],
   "source": [
    "'''try:\n",
    "    for i in mb:\n",
    "        for j in progress_bar(range(batch_length), parent=mb):\n",
    "            x,y = next(test_iter)\n",
    "            py = np.append(py, to_np(learn.model(V(x))), axis=0)\n",
    "        f_names = data.test_ds.fnames[batch_length * bs * i:batch_length * bs * (i+1)]\n",
    "        enc_test(py, f_names)\n",
    "        py = np.empty((0, 768, 768), float)\n",
    "except StopIteration:\n",
    "    pass'''"
   ]
  },
  {
   "cell_type": "code",
   "execution_count": null,
   "metadata": {
    "scrolled": true
   },
   "outputs": [],
   "source": [
    "i = 0\n",
    "while True:\n",
    "    print(i)\n",
    "    x,y = next(test_iter)\n",
    "    py = np.append(py, to_np(learn.model(V(x))), axis=0)\n",
    "    \n",
    "    f_names = data.test_ds.fnames[i:i+bs]\n",
    "    enc_test(py, f_names)\n",
    "    py = np.empty((0, 768, 768), float)\n",
    "    i += bs"
   ]
  },
  {
   "cell_type": "code",
   "execution_count": null,
   "metadata": {},
   "outputs": [],
   "source": [
    "len(ship_list_dict)"
   ]
  },
  {
   "cell_type": "code",
   "execution_count": null,
   "metadata": {},
   "outputs": [],
   "source": [
    "pred_df = pd.DataFrame(ship_list_dict)"
   ]
  },
  {
   "cell_type": "code",
   "execution_count": null,
   "metadata": {},
   "outputs": [],
   "source": [
    "pred_df.ImageId.nunique()"
   ]
  },
  {
   "cell_type": "code",
   "execution_count": null,
   "metadata": {},
   "outputs": [],
   "source": [
    "len(np.unique(data.test_ds.fnames)) - pred_df.ImageId.nunique()"
   ]
  },
  {
   "cell_type": "code",
   "execution_count": null,
   "metadata": {},
   "outputs": [],
   "source": [
    "len(pred_df), len(pred_df.groupby('ImageId', axis=0))"
   ]
  },
  {
   "cell_type": "code",
   "execution_count": null,
   "metadata": {},
   "outputs": [],
   "source": [
    "len(os.listdir(images_test_path))"
   ]
  },
  {
   "cell_type": "code",
   "execution_count": null,
   "metadata": {},
   "outputs": [],
   "source": [
    "len(set(os.listdir(images_test_path)))"
   ]
  },
  {
   "cell_type": "code",
   "execution_count": null,
   "metadata": {},
   "outputs": [],
   "source": [
    "len(set(pred_df.ImageId.astype(str)))"
   ]
  },
  {
   "cell_type": "code",
   "execution_count": null,
   "metadata": {},
   "outputs": [],
   "source": [
    "len(set(os.listdir(images_test_path)).difference(set(data.test_ds.fnames)))"
   ]
  },
  {
   "cell_type": "code",
   "execution_count": null,
   "metadata": {},
   "outputs": [],
   "source": [
    "pred_df.ImageId = pred_df.ImageId.apply(lambda x: str(x).split('\\\\')[-1])"
   ]
  },
  {
   "cell_type": "code",
   "execution_count": null,
   "metadata": {
    "scrolled": true
   },
   "outputs": [],
   "source": [
    "pred_df.to_csv('submission.csv',index=False)"
   ]
  },
  {
   "cell_type": "code",
   "execution_count": null,
   "metadata": {},
   "outputs": [],
   "source": []
  }
 ],
 "metadata": {
  "kernelspec": {
   "display_name": "Python 3",
   "language": "python",
   "name": "python3"
  },
  "language_info": {
   "codemirror_mode": {
    "name": "ipython",
    "version": 3
   },
   "file_extension": ".py",
   "mimetype": "text/x-python",
   "name": "python",
   "nbconvert_exporter": "python",
   "pygments_lexer": "ipython3",
   "version": "3.6.6"
  }
 },
 "nbformat": 4,
 "nbformat_minor": 1
}
