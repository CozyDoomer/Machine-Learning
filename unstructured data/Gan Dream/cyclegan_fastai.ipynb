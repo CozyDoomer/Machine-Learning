{
 "cells": [
  {
   "cell_type": "code",
   "execution_count": null,
   "metadata": {
    "colab": {},
    "colab_type": "code",
    "id": "aPaSaED1bvYw"
   },
   "outputs": [],
   "source": [
    "%matplotlib inline\n",
    "%reload_ext autoreload\n",
    "%autoreload 2"
   ]
  },
  {
   "cell_type": "markdown",
   "metadata": {
    "colab_type": "text",
    "id": "hlN4kQpAbvY0"
   },
   "source": [
    "## Cyclegan"
   ]
  },
  {
   "cell_type": "code",
   "execution_count": null,
   "metadata": {
    "colab": {},
    "colab_type": "code",
    "id": "BlkPR2urbvY1"
   },
   "outputs": [],
   "source": [
    "from fastai.conv_learner import *\n",
    "from fastai.dataset import *"
   ]
  },
  {
   "cell_type": "code",
   "execution_count": null,
   "metadata": {
    "colab": {},
    "colab_type": "code",
    "id": "4I_jtRExbvY3"
   },
   "outputs": [],
   "source": [
    "from cgan.options.train_options import *\n",
    "\n",
    "from cgan.data.data_loader import CreateDataLoader\n",
    "from cgan.models.models import create_model\n",
    "import cv2"
   ]
  },
  {
   "cell_type": "code",
   "execution_count": null,
   "metadata": {},
   "outputs": [],
   "source": [
    "import warnings\n",
    "warnings.simplefilter(\"ignore\")"
   ]
  },
  {
   "cell_type": "code",
   "execution_count": null,
   "metadata": {},
   "outputs": [],
   "source": [
    "torch.cuda.set_device(0)"
   ]
  },
  {
   "cell_type": "code",
   "execution_count": null,
   "metadata": {
    "scrolled": true
   },
   "outputs": [],
   "source": [
    "'''from google_images_download import google_images_download   #importing the library\n",
    "\n",
    "response = google_images_download.googleimagesdownload()   #class instantiation\n",
    "\n",
    "arguments = {\"keywords\":\"Squidward\",\"limit\":100,\"print_urls\":True}   #creating list of arguments\n",
    "paths = response.download(arguments)   #passing the arguments to the function\n",
    "print(paths)   #printing absolute paths of the downloaded images'''"
   ]
  },
  {
   "cell_type": "code",
   "execution_count": null,
   "metadata": {},
   "outputs": [],
   "source": [
    "'''import requests\n",
    "\n",
    "url = 'https://people.eecs.berkeley.edu/~taesung_park/CycleGAN/datasets/horse2zebra.zip'\n",
    "r = requests.get(url, allow_redirects=True)\n",
    "open('horse2zebra.zip', 'wb').write(r.content)'''"
   ]
  },
  {
   "cell_type": "code",
   "execution_count": null,
   "metadata": {
    "colab": {},
    "colab_type": "code",
    "id": "hIzBrHwuwenC"
   },
   "outputs": [],
   "source": [
    "def scale_match(h, w, targ):\n",
    "    sh,sw,_ = targ.shape\n",
    "    rat = max(h/sh,w/sw); rat\n",
    "    res = cv2.resize(targ, (int(sw*rat), int(sh*rat)))\n",
    "    return res[:h,:w]"
   ]
  },
  {
   "cell_type": "code",
   "execution_count": null,
   "metadata": {},
   "outputs": [],
   "source": [
    "path1 = 'data/downloads/squidward/'\n",
    "os.listdir(path1)[:4]"
   ]
  },
  {
   "cell_type": "code",
   "execution_count": null,
   "metadata": {},
   "outputs": [],
   "source": [
    "def get_shape_mean(path):\n",
    "    sumx = 0\n",
    "    sumy = 0\n",
    "    count = 0\n",
    "    \n",
    "    for fname in os.listdir(path):\n",
    "        if fname[-3:] == 'jpg':\n",
    "            style_img = open_image(path + fname)\n",
    "            style_img\n",
    "            sumx += style_img.shape[0]\n",
    "            sumy += style_img.shape[1]\n",
    "            count += 1\n",
    "\n",
    "    return sumx/count, sumy/count "
   ]
  },
  {
   "cell_type": "code",
   "execution_count": null,
   "metadata": {
    "colab": {},
    "colab_type": "code",
    "id": "W5W3aL-WwenE"
   },
   "outputs": [],
   "source": [
    "def set_shape_mean(path):\n",
    "    mean_h, mean_w = 224,224#get_shape_mean(path1)\n",
    "\n",
    "    for fname in os.listdir(path):\n",
    "        if fname[-3:] == 'jpg':\n",
    "            style_img = open_image(path + fname)\n",
    "            style = scale_match(int(mean_h), int(mean_w), style_img)\n",
    "            cv2.imwrite(f'{path}/converted/converted_{fname}',cv2.cvtColor(style[:, :, :]*255, cv2.COLOR_BGR2RGB))"
   ]
  },
  {
   "cell_type": "code",
   "execution_count": null,
   "metadata": {
    "scrolled": true
   },
   "outputs": [],
   "source": [
    "#set_shape_mean(path1)"
   ]
  },
  {
   "cell_type": "code",
   "execution_count": null,
   "metadata": {
    "colab": {},
    "colab_type": "code",
    "id": "GzK9ba59bvY7",
    "outputId": "5983da24-a6be-4cdb-9acb-d03cfcdeb195",
    "scrolled": true
   },
   "outputs": [],
   "source": [
    "opt = TrainOptions().parse(['--dataroot', '/data/shapiro2squidward', '--nThreads', '8', '--no_dropout',\n",
    "                           '--niter', '100', '--niter_decay', '100', '--name', 'nodrop', '--gpu_ids', '0'])"
   ]
  },
  {
   "cell_type": "code",
   "execution_count": null,
   "metadata": {
    "colab": {},
    "colab_type": "code",
    "id": "7tZIkbFcbvZC",
    "outputId": "c97530d2-b69c-4e88-9042-670667bc1f02"
   },
   "outputs": [],
   "source": [
    "data_loader = CreateDataLoader(opt)\n",
    "dataset = data_loader.load_data()\n",
    "dataset_size = len(data_loader)\n",
    "dataset_size"
   ]
  },
  {
   "cell_type": "code",
   "execution_count": null,
   "metadata": {
    "colab": {},
    "colab_type": "code",
    "id": "1W2n3zlVbvZG",
    "outputId": "f124047b-79fd-437b-dd2a-f9c90f0c5fbc"
   },
   "outputs": [],
   "source": [
    "model = create_model(opt)"
   ]
  },
  {
   "cell_type": "code",
   "execution_count": null,
   "metadata": {},
   "outputs": [],
   "source": [
    "opt.niter, opt.niter_decay"
   ]
  },
  {
   "cell_type": "code",
   "execution_count": null,
   "metadata": {
    "colab": {},
    "colab_type": "code",
    "id": "k-4I1dW6bvZJ"
   },
   "outputs": [],
   "source": [
    "opt.niter=20\n",
    "opt.niter_decay=10"
   ]
  },
  {
   "cell_type": "code",
   "execution_count": null,
   "metadata": {
    "colab": {},
    "colab_type": "code",
    "id": "UViLHnEEbvZM",
    "outputId": "fde3685f-4194-4bff-b13b-a24e3d27c846"
   },
   "outputs": [],
   "source": [
    "total_steps = 0\n",
    "\n",
    "for epoch in range(opt.epoch_count, opt.niter + opt.niter_decay + 1):\n",
    "    epoch_start_time = time.time()\n",
    "    iter_data_time = time.time()\n",
    "    epoch_iter = 0\n",
    "\n",
    "    for i, data in tqdm(enumerate(dataset)):\n",
    "        iter_start_time = time.time()\n",
    "        if total_steps % opt.print_freq == 0: t_data = iter_start_time - iter_data_time\n",
    "        total_steps += opt.batchSize\n",
    "        epoch_iter += opt.batchSize\n",
    "        model.set_input(data)\n",
    "        model.optimize_parameters()\n",
    "\n",
    "        if total_steps % opt.display_freq == 0:\n",
    "            save_result = total_steps % opt.update_html_freq == 0\n",
    "\n",
    "        if total_steps % opt.print_freq == 0:\n",
    "            errors = model.get_current_errors()\n",
    "            t = (time.time() - iter_start_time) / opt.batchSize\n",
    "\n",
    "        if total_steps % opt.save_latest_freq == 0:\n",
    "            print('saving the latest model (epoch %d, total_steps %d)' % (epoch, total_steps))\n",
    "            model.save('latest')\n",
    "\n",
    "        iter_data_time = time.time()\n",
    "    if epoch % opt.save_epoch_freq == 0:\n",
    "        print('saving the model at the end of epoch %d, iters %d' % (epoch, total_steps))\n",
    "        model.save('latest')\n",
    "        model.save(epoch)\n",
    "\n",
    "    print('End of epoch %d / %d \\t Time Taken: %d sec' %\n",
    "          (epoch, opt.niter + opt.niter_decay, time.time() - epoch_start_time))\n",
    "    model.update_learning_rate()"
   ]
  },
  {
   "cell_type": "code",
   "execution_count": null,
   "metadata": {
    "colab": {},
    "colab_type": "code",
    "id": "mq5EpL0PbvZP"
   },
   "outputs": [],
   "source": [
    "def show_img(im, ax=None, figsize=None):\n",
    "    if not ax: fig,ax = plt.subplots(figsize=figsize)\n",
    "    ax.imshow(im)\n",
    "    ax.get_xaxis().set_visible(False)\n",
    "    ax.get_yaxis().set_visible(False)\n",
    "    return ax"
   ]
  },
  {
   "cell_type": "code",
   "execution_count": null,
   "metadata": {
    "colab": {},
    "colab_type": "code",
    "id": "AyQMg_MSbvZS"
   },
   "outputs": [],
   "source": [
    "def get_one(data):\n",
    "    model.set_input(data)\n",
    "    model.test()\n",
    "    return list(model.get_current_visuals().values())"
   ]
  },
  {
   "cell_type": "code",
   "execution_count": null,
   "metadata": {
    "colab": {},
    "colab_type": "code",
    "id": "vl5NhgZcbvZU"
   },
   "outputs": [],
   "source": [
    "model.save(201)"
   ]
  },
  {
   "cell_type": "code",
   "execution_count": null,
   "metadata": {
    "colab": {},
    "colab_type": "code",
    "id": "tlPY0FembvZW"
   },
   "outputs": [],
   "source": [
    "test_ims = []\n",
    "for i,o in enumerate(dataset):\n",
    "    if i>10: break\n",
    "    test_ims.append(get_one(o))"
   ]
  },
  {
   "cell_type": "code",
   "execution_count": null,
   "metadata": {
    "colab": {},
    "colab_type": "code",
    "id": "aW9fFU_FbvZZ"
   },
   "outputs": [],
   "source": [
    "def show_grid(ims):\n",
    "    fig,axes = plt.subplots(2,3,figsize=(9,6))\n",
    "    for i,ax in enumerate(axes.flat): show_img(ims[i], ax);\n",
    "    fig.tight_layout()"
   ]
  },
  {
   "cell_type": "code",
   "execution_count": null,
   "metadata": {
    "colab": {},
    "colab_type": "code",
    "id": "kKY1uKxCbvZb",
    "outputId": "2562524c-f533-4ae1-f28c-138ffd83c49d"
   },
   "outputs": [],
   "source": [
    "for i in range(8): show_grid(test_ims[i])"
   ]
  },
  {
   "cell_type": "code",
   "execution_count": null,
   "metadata": {},
   "outputs": [],
   "source": []
  }
 ],
 "metadata": {
  "colab": {
   "name": "cyclegan.ipynb",
   "provenance": [],
   "version": "0.3.2"
  },
  "kernelspec": {
   "display_name": "Python 3",
   "language": "python",
   "name": "python3"
  },
  "language_info": {
   "codemirror_mode": {
    "name": "ipython",
    "version": 3
   },
   "file_extension": ".py",
   "mimetype": "text/x-python",
   "name": "python",
   "nbconvert_exporter": "python",
   "pygments_lexer": "ipython3",
   "version": "3.6.6"
  }
 },
 "nbformat": 4,
 "nbformat_minor": 1
}
