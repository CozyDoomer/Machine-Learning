{
 "cells": [
  {
   "cell_type": "markdown",
   "metadata": {
    "colab_type": "text",
    "id": "JOWTG99TQi2X"
   },
   "source": [
    "\n",
    "# Explore and structure data"
   ]
  },
  {
   "cell_type": "code",
   "execution_count": 110,
   "metadata": {
    "colab": {
     "base_uri": "https://localhost:8080/",
     "height": 1462
    },
    "colab_type": "code",
    "executionInfo": {
     "elapsed": 3267,
     "status": "ok",
     "timestamp": 1536756766085,
     "user": {
      "displayName": "Christian Unterrainer",
      "photoUrl": "https://lh3.googleusercontent.com/a/default-user=s128",
      "userId": "112087957608346378724"
     },
     "user_tz": -120
    },
    "id": "fI_zA99Lj64z",
    "outputId": "8534eab5-22a7-4aac-92a1-df3228040ab5"
   },
   "outputs": [
    {
     "name": "stdout",
     "output_type": "stream",
     "text": [
      "Requirement already satisfied: fastai in c:\\users\\chrun\\anaconda3\\envs\\fastai\\lib\\site-packages (0.7.0)\n",
      "Requirement already satisfied: sklearn-pandas in c:\\users\\chrun\\anaconda3\\envs\\fastai\\lib\\site-packages (from fastai) (1.7.0)\n",
      "Requirement already satisfied: decorator in c:\\users\\chrun\\anaconda3\\envs\\fastai\\lib\\site-packages (from fastai) (4.3.0)\n",
      "Requirement already satisfied: ipywidgets in c:\\users\\chrun\\anaconda3\\envs\\fastai\\lib\\site-packages (from fastai) (7.4.1)\n",
      "Requirement already satisfied: Pygments in c:\\users\\chrun\\anaconda3\\envs\\fastai\\lib\\site-packages (from fastai) (2.2.0)\n",
      "Requirement already satisfied: torchtext in c:\\users\\chrun\\anaconda3\\envs\\fastai\\lib\\site-packages (from fastai) (0.2.3)\n",
      "Requirement already satisfied: pyparsing in c:\\users\\chrun\\anaconda3\\envs\\fastai\\lib\\site-packages (from fastai) (2.2.0)\n",
      "Requirement already satisfied: cycler in c:\\users\\chrun\\anaconda3\\envs\\fastai\\lib\\site-packages (from fastai) (0.10.0)\n",
      "Requirement already satisfied: opencv-python in c:\\users\\chrun\\anaconda3\\envs\\fastai\\lib\\site-packages (from fastai) (3.4.2.17)\n",
      "Requirement already satisfied: pickleshare in c:\\users\\chrun\\anaconda3\\envs\\fastai\\lib\\site-packages (from fastai) (0.7.4)\n",
      "Requirement already satisfied: jsonschema in c:\\users\\chrun\\anaconda3\\envs\\fastai\\lib\\site-packages (from fastai) (2.6.0)\n",
      "Requirement already satisfied: python-dateutil in c:\\users\\chrun\\anaconda3\\envs\\fastai\\lib\\site-packages (from fastai) (2.7.3)\n",
      "Requirement already satisfied: bcolz in c:\\users\\chrun\\anaconda3\\envs\\fastai\\lib\\site-packages (from fastai) (1.2.1)\n",
      "Requirement already satisfied: numpy in c:\\users\\chrun\\anaconda3\\envs\\fastai\\lib\\site-packages (from fastai) (1.15.1)\n",
      "Requirement already satisfied: html5lib in c:\\users\\chrun\\anaconda3\\envs\\fastai\\lib\\site-packages (from fastai) (1.0.1)\n",
      "Requirement already satisfied: entrypoints in c:\\users\\chrun\\anaconda3\\envs\\fastai\\lib\\site-packages (from fastai) (0.2.3)\n",
      "Requirement already satisfied: jedi in c:\\users\\chrun\\anaconda3\\envs\\fastai\\lib\\site-packages (from fastai) (0.12.1)\n",
      "Requirement already satisfied: seaborn in c:\\users\\chrun\\anaconda3\\envs\\fastai\\lib\\site-packages (from fastai) (0.9.0)\n",
      "Requirement already satisfied: tqdm in c:\\users\\chrun\\anaconda3\\envs\\fastai\\lib\\site-packages (from fastai) (4.24.0)\n",
      "Requirement already satisfied: pandas in c:\\users\\chrun\\anaconda3\\envs\\fastai\\lib\\site-packages (from fastai) (0.23.4)\n",
      "Requirement already satisfied: ptyprocess in c:\\users\\chrun\\anaconda3\\envs\\fastai\\lib\\site-packages (from fastai) (0.6.0)\n",
      "Requirement already satisfied: bleach in c:\\users\\chrun\\anaconda3\\envs\\fastai\\lib\\site-packages (from fastai) (2.1.4)\n",
      "Requirement already satisfied: testpath in c:\\users\\chrun\\anaconda3\\envs\\fastai\\lib\\site-packages (from fastai) (0.3.1)\n",
      "Requirement already satisfied: widgetsnbextension in c:\\users\\chrun\\anaconda3\\envs\\fastai\\lib\\site-packages (from fastai) (3.4.1)\n",
      "Requirement already satisfied: MarkupSafe in c:\\users\\chrun\\anaconda3\\envs\\fastai\\lib\\site-packages (from fastai) (1.0)\n",
      "Requirement already satisfied: feather-format in c:\\users\\chrun\\anaconda3\\envs\\fastai\\lib\\site-packages (from fastai) (0.4.0)\n",
      "Requirement already satisfied: pytz in c:\\users\\chrun\\anaconda3\\envs\\fastai\\lib\\site-packages (from fastai) (2018.5)\n",
      "Requirement already satisfied: ipython in c:\\users\\chrun\\anaconda3\\envs\\fastai\\lib\\site-packages (from fastai) (6.5.0)\n",
      "Requirement already satisfied: wcwidth in c:\\users\\chrun\\anaconda3\\envs\\fastai\\lib\\site-packages (from fastai) (0.1.7)\n",
      "Requirement already satisfied: webencodings in c:\\users\\chrun\\anaconda3\\envs\\fastai\\lib\\site-packages (from fastai) (0.5.1)\n",
      "Requirement already satisfied: graphviz in c:\\users\\chrun\\anaconda3\\envs\\fastai\\lib\\site-packages (from fastai) (0.9)\n",
      "Requirement already satisfied: ipython-genutils in c:\\users\\chrun\\anaconda3\\envs\\fastai\\lib\\site-packages (from fastai) (0.2.0)\n",
      "Requirement already satisfied: traitlets in c:\\users\\chrun\\anaconda3\\envs\\fastai\\lib\\site-packages (from fastai) (4.3.2)\n",
      "Requirement already satisfied: certifi in c:\\users\\chrun\\anaconda3\\envs\\fastai\\lib\\site-packages (from fastai) (2018.8.24)\n",
      "Requirement already satisfied: pandas-summary in c:\\users\\chrun\\anaconda3\\envs\\fastai\\lib\\site-packages (from fastai) (0.0.5)\n",
      "Requirement already satisfied: matplotlib in c:\\users\\chrun\\anaconda3\\envs\\fastai\\lib\\site-packages (from fastai) (2.2.3)\n",
      "Requirement already satisfied: Jinja2 in c:\\users\\chrun\\anaconda3\\envs\\fastai\\lib\\site-packages (from fastai) (2.10)\n",
      "Requirement already satisfied: ipykernel in c:\\users\\chrun\\anaconda3\\envs\\fastai\\lib\\site-packages (from fastai) (4.9.0)\n",
      "Requirement already satisfied: plotnine in c:\\users\\chrun\\anaconda3\\envs\\fastai\\lib\\site-packages (from fastai) (0.4.0)\n",
      "Requirement already satisfied: torchvision in c:\\users\\chrun\\anaconda3\\envs\\fastai\\lib\\site-packages (from fastai) (0.2.1)\n",
      "Requirement already satisfied: scipy in c:\\users\\chrun\\anaconda3\\envs\\fastai\\lib\\site-packages (from fastai) (1.1.0)\n",
      "Requirement already satisfied: pyzmq in c:\\users\\chrun\\anaconda3\\envs\\fastai\\lib\\site-packages (from fastai) (17.1.2)\n",
      "Requirement already satisfied: isoweek in c:\\users\\chrun\\anaconda3\\envs\\fastai\\lib\\site-packages (from fastai) (1.3.3)\n",
      "Requirement already satisfied: Pillow in c:\\users\\chrun\\anaconda3\\envs\\fastai\\lib\\site-packages (from fastai) (5.2.0)\n",
      "Requirement already satisfied: jupyter in c:\\users\\chrun\\anaconda3\\envs\\fastai\\lib\\site-packages (from fastai) (1.0.0)\n",
      "Requirement already satisfied: torch<0.4 in c:\\users\\chrun\\anaconda3\\envs\\fastai\\lib\\site-packages (from fastai) (0.3.1.post2)\n",
      "Requirement already satisfied: PyYAML in c:\\users\\chrun\\anaconda3\\envs\\fastai\\lib\\site-packages (from fastai) (3.13)\n",
      "Requirement already satisfied: simplegeneric in c:\\users\\chrun\\anaconda3\\envs\\fastai\\lib\\site-packages (from fastai) (0.8.1)\n",
      "Requirement already satisfied: tornado in c:\\users\\chrun\\anaconda3\\envs\\fastai\\lib\\site-packages (from fastai) (4.5.3)\n",
      "Requirement already satisfied: scikit-learn>=0.15.0 in c:\\users\\chrun\\anaconda3\\envs\\fastai\\lib\\site-packages (from sklearn-pandas->fastai) (0.19.2)\n",
      "Requirement already satisfied: nbformat>=4.2.0 in c:\\users\\chrun\\anaconda3\\envs\\fastai\\lib\\site-packages (from ipywidgets->fastai) (4.4.0)\n",
      "Requirement already satisfied: requests in c:\\users\\chrun\\anaconda3\\envs\\fastai\\lib\\site-packages (from torchtext->fastai) (2.19.1)\n",
      "Requirement already satisfied: six in c:\\users\\chrun\\anaconda3\\envs\\fastai\\lib\\site-packages (from cycler->fastai) (1.11.0)\n",
      "Requirement already satisfied: parso>=0.3.0 in c:\\users\\chrun\\anaconda3\\envs\\fastai\\lib\\site-packages (from jedi->fastai) (0.3.1)\n",
      "Requirement already satisfied: notebook>=4.4.1 in c:\\users\\chrun\\anaconda3\\envs\\fastai\\lib\\site-packages (from widgetsnbextension->fastai) (5.6.0)\n",
      "Requirement already satisfied: pyarrow>=0.4.0 in c:\\users\\chrun\\anaconda3\\envs\\fastai\\lib\\site-packages (from feather-format->fastai) (0.10.0)\n",
      "Requirement already satisfied: prompt-toolkit<2.0.0,>=1.0.15 in c:\\users\\chrun\\anaconda3\\envs\\fastai\\lib\\site-packages (from ipython->fastai) (1.0.15)\n",
      "Requirement already satisfied: setuptools>=18.5 in c:\\users\\chrun\\anaconda3\\envs\\fastai\\lib\\site-packages (from ipython->fastai) (40.2.0)\n",
      "Requirement already satisfied: backcall in c:\\users\\chrun\\anaconda3\\envs\\fastai\\lib\\site-packages (from ipython->fastai) (0.1.0)\n",
      "Requirement already satisfied: colorama; sys_platform == \"win32\" in c:\\users\\chrun\\anaconda3\\envs\\fastai\\lib\\site-packages (from ipython->fastai) (0.3.9)\n",
      "Requirement already satisfied: kiwisolver>=1.0.1 in c:\\users\\chrun\\anaconda3\\envs\\fastai\\lib\\site-packages (from matplotlib->fastai) (1.0.1)\n",
      "Requirement already satisfied: jupyter_client in c:\\users\\chrun\\anaconda3\\envs\\fastai\\lib\\site-packages (from ipykernel->fastai) (5.2.3)\n",
      "Requirement already satisfied: patsy>=0.4.1 in c:\\users\\chrun\\anaconda3\\envs\\fastai\\lib\\site-packages (from plotnine->fastai) (0.5.0)\n",
      "Requirement already satisfied: geopandas>=0.3.0 in c:\\users\\chrun\\anaconda3\\envs\\fastai\\lib\\site-packages (from plotnine->fastai) (0.4.0)\n",
      "Requirement already satisfied: statsmodels>=0.8.0 in c:\\users\\chrun\\anaconda3\\envs\\fastai\\lib\\site-packages (from plotnine->fastai) (0.9.0)\n"
     ]
    },
    {
     "name": "stdout",
     "output_type": "stream",
     "text": [
      "Requirement already satisfied: descartes>=1.1.0 in c:\\users\\chrun\\anaconda3\\envs\\fastai\\lib\\site-packages (from plotnine->fastai) (1.1.0)\n",
      "Requirement already satisfied: mizani>=0.4.5 in c:\\users\\chrun\\anaconda3\\envs\\fastai\\lib\\site-packages (from plotnine->fastai) (0.4.6)\n",
      "Requirement already satisfied: qtconsole in c:\\users\\chrun\\anaconda3\\envs\\fastai\\lib\\site-packages (from jupyter->fastai) (4.4.1)\n",
      "Requirement already satisfied: jupyter-console in c:\\users\\chrun\\anaconda3\\envs\\fastai\\lib\\site-packages (from jupyter->fastai) (5.2.0)\n",
      "Requirement already satisfied: nbconvert in c:\\users\\chrun\\anaconda3\\envs\\fastai\\lib\\site-packages (from jupyter->fastai) (5.4.0)\n",
      "Requirement already satisfied: jupyter_core in c:\\users\\chrun\\anaconda3\\envs\\fastai\\lib\\site-packages (from nbformat>=4.2.0->ipywidgets->fastai) (4.4.0)\n",
      "Requirement already satisfied: chardet<3.1.0,>=3.0.2 in c:\\users\\chrun\\anaconda3\\envs\\fastai\\lib\\site-packages (from requests->torchtext->fastai) (3.0.4)\n",
      "Requirement already satisfied: idna<2.8,>=2.5 in c:\\users\\chrun\\anaconda3\\envs\\fastai\\lib\\site-packages (from requests->torchtext->fastai) (2.7)\n",
      "Requirement already satisfied: urllib3<1.24,>=1.21.1 in c:\\users\\chrun\\anaconda3\\envs\\fastai\\lib\\site-packages (from requests->torchtext->fastai) (1.22)\n",
      "Requirement already satisfied: Send2Trash in c:\\users\\chrun\\anaconda3\\envs\\fastai\\lib\\site-packages (from notebook>=4.4.1->widgetsnbextension->fastai) (1.5.0)\n",
      "Requirement already satisfied: terminado>=0.8.1 in c:\\users\\chrun\\anaconda3\\envs\\fastai\\lib\\site-packages (from notebook>=4.4.1->widgetsnbextension->fastai) (0.8.1)\n",
      "Requirement already satisfied: prometheus_client in c:\\users\\chrun\\anaconda3\\envs\\fastai\\lib\\site-packages (from notebook>=4.4.1->widgetsnbextension->fastai) (0.3.0)\n",
      "Requirement already satisfied: fiona in c:\\users\\chrun\\anaconda3\\envs\\fastai\\lib\\site-packages (from geopandas>=0.3.0->plotnine->fastai) (1.7.10)\n",
      "Requirement already satisfied: shapely in c:\\users\\chrun\\anaconda3\\envs\\fastai\\lib\\site-packages (from geopandas>=0.3.0->plotnine->fastai) (1.6.4.post1)\n",
      "Requirement already satisfied: pyproj in c:\\users\\chrun\\anaconda3\\envs\\fastai\\lib\\site-packages (from geopandas>=0.3.0->plotnine->fastai) (1.9.5.1)\n",
      "Requirement already satisfied: palettable in c:\\users\\chrun\\anaconda3\\envs\\fastai\\lib\\site-packages (from mizani>=0.4.5->plotnine->fastai) (3.1.1)\n",
      "Requirement already satisfied: mistune>=0.8.1 in c:\\users\\chrun\\anaconda3\\envs\\fastai\\lib\\site-packages (from nbconvert->jupyter->fastai) (0.8.3)\n",
      "Requirement already satisfied: pandocfilters>=1.4.1 in c:\\users\\chrun\\anaconda3\\envs\\fastai\\lib\\site-packages (from nbconvert->jupyter->fastai) (1.4.2)\n",
      "Requirement already satisfied: defusedxml in c:\\users\\chrun\\anaconda3\\envs\\fastai\\lib\\site-packages\\defusedxml-0.5.0-py3.6.egg (from nbconvert->jupyter->fastai) (0.5.0)\n",
      "Requirement already satisfied: cligj in c:\\users\\chrun\\anaconda3\\envs\\fastai\\lib\\site-packages (from fiona->geopandas>=0.3.0->plotnine->fastai) (0.4.0)\n",
      "Requirement already satisfied: click-plugins in c:\\users\\chrun\\anaconda3\\envs\\fastai\\lib\\site-packages (from fiona->geopandas>=0.3.0->plotnine->fastai) (1.0.3)\n",
      "Requirement already satisfied: munch in c:\\users\\chrun\\anaconda3\\envs\\fastai\\lib\\site-packages (from fiona->geopandas>=0.3.0->plotnine->fastai) (2.3.2)\n",
      "Requirement already satisfied: click>=4.0 in c:\\users\\chrun\\anaconda3\\envs\\fastai\\lib\\site-packages (from cligj->fiona->geopandas>=0.3.0->plotnine->fastai) (6.7)\n"
     ]
    }
   ],
   "source": [
    "!pip install fastai\n",
    "from fastai.imports import *\n",
    "from fastai.torch_imports import *\n",
    "from fastai.transforms import *\n",
    "from fastai.conv_learner import *\n",
    "from fastai.model import *\n",
    "from fastai.dataset import *\n",
    "from fastai.sgdr import *\n",
    "from fastai.plots import *\n",
    "from fastai.structured import *\n",
    "from fastai.column_data import *"
   ]
  },
  {
   "cell_type": "code",
   "execution_count": 111,
   "metadata": {
    "colab": {},
    "colab_type": "code",
    "id": "yc-7QpYoQVWC"
   },
   "outputs": [],
   "source": [
    "#!pip install kaggle\n",
    "\n",
    "#from googleapiclient.discovery import build\n",
    "#import io, os\n",
    "#from googleapiclient.http import MediaIoBaseDownload\n",
    "#from google.colab import auth\n",
    "#auth.authenticate_user()\n",
    "\n",
    "#!mkdir -p ~/.kaggle\n",
    "#!mv kaggle.json ~/.kaggle/\n",
    "#!chmod 600 ~/.kaggle/kaggle.json\n",
    "\n",
    "#!mkdir data"
   ]
  },
  {
   "cell_type": "code",
   "execution_count": 112,
   "metadata": {
    "colab": {},
    "colab_type": "code",
    "id": "60-UdJScowLR"
   },
   "outputs": [],
   "source": [
    "#!kaggle competitions download -c competitive-data-science-predict-future-sales --force"
   ]
  },
  {
   "cell_type": "code",
   "execution_count": 113,
   "metadata": {
    "colab": {},
    "colab_type": "code",
    "id": "3WhesiYYonPq"
   },
   "outputs": [],
   "source": [
    "#!gunzip sample_submission.csv.gz\n",
    "#!gunzip sales_train.csv.gz\n",
    "#!gunzip test.csv.gz"
   ]
  },
  {
   "cell_type": "code",
   "execution_count": 114,
   "metadata": {
    "colab": {},
    "colab_type": "code",
    "id": "7aivPKo6LoUN"
   },
   "outputs": [],
   "source": [
    "#!mv shops.csv data\n",
    "#!mv items.csv data\n",
    "#!mv item_categories.csv data\n",
    "#!mv sales_train_v2.csv data\n",
    "#!mv sample_submission.csv data\n",
    "#!mv test.csv data"
   ]
  },
  {
   "cell_type": "code",
   "execution_count": 115,
   "metadata": {
    "colab": {},
    "colab_type": "code",
    "id": "ykz5FZmRMFej"
   },
   "outputs": [],
   "source": [
    "PATH = 'data/'"
   ]
  },
  {
   "cell_type": "code",
   "execution_count": 116,
   "metadata": {
    "colab": {
     "base_uri": "https://localhost:8080/",
     "height": 204
    },
    "colab_type": "code",
    "executionInfo": {
     "elapsed": 494,
     "status": "ok",
     "timestamp": 1536761470000,
     "user": {
      "displayName": "Christian Unterrainer",
      "photoUrl": "https://lh3.googleusercontent.com/a/default-user=s128",
      "userId": "112087957608346378724"
     },
     "user_tz": -120
    },
    "id": "-3p-JveaQlK2",
    "outputId": "46db99eb-4183-490c-88d6-9d99ab90da56"
   },
   "outputs": [
    {
     "data": {
      "text/html": [
       "<div>\n",
       "<style scoped>\n",
       "    .dataframe tbody tr th:only-of-type {\n",
       "        vertical-align: middle;\n",
       "    }\n",
       "\n",
       "    .dataframe tbody tr th {\n",
       "        vertical-align: top;\n",
       "    }\n",
       "\n",
       "    .dataframe thead th {\n",
       "        text-align: right;\n",
       "    }\n",
       "</style>\n",
       "<table border=\"1\" class=\"dataframe\">\n",
       "  <thead>\n",
       "    <tr style=\"text-align: right;\">\n",
       "      <th></th>\n",
       "      <th>ID</th>\n",
       "      <th>item_cnt_month</th>\n",
       "    </tr>\n",
       "  </thead>\n",
       "  <tbody>\n",
       "    <tr>\n",
       "      <th>0</th>\n",
       "      <td>0</td>\n",
       "      <td>0.5</td>\n",
       "    </tr>\n",
       "    <tr>\n",
       "      <th>1</th>\n",
       "      <td>1</td>\n",
       "      <td>0.5</td>\n",
       "    </tr>\n",
       "    <tr>\n",
       "      <th>2</th>\n",
       "      <td>2</td>\n",
       "      <td>0.5</td>\n",
       "    </tr>\n",
       "    <tr>\n",
       "      <th>3</th>\n",
       "      <td>3</td>\n",
       "      <td>0.5</td>\n",
       "    </tr>\n",
       "    <tr>\n",
       "      <th>4</th>\n",
       "      <td>4</td>\n",
       "      <td>0.5</td>\n",
       "    </tr>\n",
       "  </tbody>\n",
       "</table>\n",
       "</div>"
      ],
      "text/plain": [
       "   ID  item_cnt_month\n",
       "0   0             0.5\n",
       "1   1             0.5\n",
       "2   2             0.5\n",
       "3   3             0.5\n",
       "4   4             0.5"
      ]
     },
     "execution_count": 116,
     "metadata": {},
     "output_type": "execute_result"
    }
   ],
   "source": [
    "pd.read_csv('data/sample_submission.csv').head()"
   ]
  },
  {
   "cell_type": "code",
   "execution_count": 117,
   "metadata": {
    "colab": {
     "base_uri": "https://localhost:8080/",
     "height": 952
    },
    "colab_type": "code",
    "executionInfo": {
     "elapsed": 955,
     "status": "ok",
     "timestamp": 1536761471147,
     "user": {
      "displayName": "Christian Unterrainer",
      "photoUrl": "https://lh3.googleusercontent.com/a/default-user=s128",
      "userId": "112087957608346378724"
     },
     "user_tz": -120
    },
    "id": "hGIkOVG9KUUm",
    "outputId": "b85e597f-bcc7-4a99-d07c-8315b5aaf548",
    "scrolled": true
   },
   "outputs": [
    {
     "data": {
      "text/html": [
       "<div>\n",
       "<style scoped>\n",
       "    .dataframe tbody tr th:only-of-type {\n",
       "        vertical-align: middle;\n",
       "    }\n",
       "\n",
       "    .dataframe tbody tr th {\n",
       "        vertical-align: top;\n",
       "    }\n",
       "\n",
       "    .dataframe thead th {\n",
       "        text-align: right;\n",
       "    }\n",
       "</style>\n",
       "<table border=\"1\" class=\"dataframe\">\n",
       "  <thead>\n",
       "    <tr style=\"text-align: right;\">\n",
       "      <th></th>\n",
       "      <th>date</th>\n",
       "      <th>date_block_num</th>\n",
       "      <th>shop_id</th>\n",
       "      <th>item_id</th>\n",
       "      <th>item_price</th>\n",
       "      <th>item_cnt_day</th>\n",
       "    </tr>\n",
       "  </thead>\n",
       "  <tbody>\n",
       "    <tr>\n",
       "      <th>0</th>\n",
       "      <td>02.01.2013</td>\n",
       "      <td>0</td>\n",
       "      <td>59</td>\n",
       "      <td>22154</td>\n",
       "      <td>999.00</td>\n",
       "      <td>1.0</td>\n",
       "    </tr>\n",
       "    <tr>\n",
       "      <th>1</th>\n",
       "      <td>03.01.2013</td>\n",
       "      <td>0</td>\n",
       "      <td>25</td>\n",
       "      <td>2552</td>\n",
       "      <td>899.00</td>\n",
       "      <td>1.0</td>\n",
       "    </tr>\n",
       "    <tr>\n",
       "      <th>2</th>\n",
       "      <td>05.01.2013</td>\n",
       "      <td>0</td>\n",
       "      <td>25</td>\n",
       "      <td>2552</td>\n",
       "      <td>899.00</td>\n",
       "      <td>-1.0</td>\n",
       "    </tr>\n",
       "    <tr>\n",
       "      <th>3</th>\n",
       "      <td>06.01.2013</td>\n",
       "      <td>0</td>\n",
       "      <td>25</td>\n",
       "      <td>2554</td>\n",
       "      <td>1709.05</td>\n",
       "      <td>1.0</td>\n",
       "    </tr>\n",
       "    <tr>\n",
       "      <th>4</th>\n",
       "      <td>15.01.2013</td>\n",
       "      <td>0</td>\n",
       "      <td>25</td>\n",
       "      <td>2555</td>\n",
       "      <td>1099.00</td>\n",
       "      <td>1.0</td>\n",
       "    </tr>\n",
       "  </tbody>\n",
       "</table>\n",
       "</div>"
      ],
      "text/plain": [
       "         date  date_block_num  shop_id  item_id  item_price  item_cnt_day\n",
       "0  02.01.2013               0       59    22154      999.00           1.0\n",
       "1  03.01.2013               0       25     2552      899.00           1.0\n",
       "2  05.01.2013               0       25     2552      899.00          -1.0\n",
       "3  06.01.2013               0       25     2554     1709.05           1.0\n",
       "4  15.01.2013               0       25     2555     1099.00           1.0"
      ]
     },
     "metadata": {},
     "output_type": "display_data"
    },
    {
     "data": {
      "text/html": [
       "<div>\n",
       "<style scoped>\n",
       "    .dataframe tbody tr th:only-of-type {\n",
       "        vertical-align: middle;\n",
       "    }\n",
       "\n",
       "    .dataframe tbody tr th {\n",
       "        vertical-align: top;\n",
       "    }\n",
       "\n",
       "    .dataframe thead th {\n",
       "        text-align: right;\n",
       "    }\n",
       "</style>\n",
       "<table border=\"1\" class=\"dataframe\">\n",
       "  <thead>\n",
       "    <tr style=\"text-align: right;\">\n",
       "      <th></th>\n",
       "      <th>shop_name</th>\n",
       "      <th>shop_id</th>\n",
       "    </tr>\n",
       "  </thead>\n",
       "  <tbody>\n",
       "    <tr>\n",
       "      <th>0</th>\n",
       "      <td>!Якутск Орджоникидзе, 56 фран</td>\n",
       "      <td>0</td>\n",
       "    </tr>\n",
       "    <tr>\n",
       "      <th>1</th>\n",
       "      <td>!Якутск ТЦ \"Центральный\" фран</td>\n",
       "      <td>1</td>\n",
       "    </tr>\n",
       "    <tr>\n",
       "      <th>2</th>\n",
       "      <td>Адыгея ТЦ \"Мега\"</td>\n",
       "      <td>2</td>\n",
       "    </tr>\n",
       "    <tr>\n",
       "      <th>3</th>\n",
       "      <td>Балашиха ТРК \"Октябрь-Киномир\"</td>\n",
       "      <td>3</td>\n",
       "    </tr>\n",
       "    <tr>\n",
       "      <th>4</th>\n",
       "      <td>Волжский ТЦ \"Волга Молл\"</td>\n",
       "      <td>4</td>\n",
       "    </tr>\n",
       "  </tbody>\n",
       "</table>\n",
       "</div>"
      ],
      "text/plain": [
       "                        shop_name  shop_id\n",
       "0   !Якутск Орджоникидзе, 56 фран        0\n",
       "1   !Якутск ТЦ \"Центральный\" фран        1\n",
       "2                Адыгея ТЦ \"Мега\"        2\n",
       "3  Балашиха ТРК \"Октябрь-Киномир\"        3\n",
       "4        Волжский ТЦ \"Волга Молл\"        4"
      ]
     },
     "metadata": {},
     "output_type": "display_data"
    },
    {
     "data": {
      "text/html": [
       "<div>\n",
       "<style scoped>\n",
       "    .dataframe tbody tr th:only-of-type {\n",
       "        vertical-align: middle;\n",
       "    }\n",
       "\n",
       "    .dataframe tbody tr th {\n",
       "        vertical-align: top;\n",
       "    }\n",
       "\n",
       "    .dataframe thead th {\n",
       "        text-align: right;\n",
       "    }\n",
       "</style>\n",
       "<table border=\"1\" class=\"dataframe\">\n",
       "  <thead>\n",
       "    <tr style=\"text-align: right;\">\n",
       "      <th></th>\n",
       "      <th>item_name</th>\n",
       "      <th>item_id</th>\n",
       "      <th>item_category_id</th>\n",
       "    </tr>\n",
       "  </thead>\n",
       "  <tbody>\n",
       "    <tr>\n",
       "      <th>0</th>\n",
       "      <td>! ВО ВЛАСТИ НАВАЖДЕНИЯ (ПЛАСТ.)         D</td>\n",
       "      <td>0</td>\n",
       "      <td>40</td>\n",
       "    </tr>\n",
       "    <tr>\n",
       "      <th>1</th>\n",
       "      <td>!ABBYY FineReader 12 Professional Edition Full...</td>\n",
       "      <td>1</td>\n",
       "      <td>76</td>\n",
       "    </tr>\n",
       "    <tr>\n",
       "      <th>2</th>\n",
       "      <td>***В ЛУЧАХ СЛАВЫ   (UNV)                    D</td>\n",
       "      <td>2</td>\n",
       "      <td>40</td>\n",
       "    </tr>\n",
       "    <tr>\n",
       "      <th>3</th>\n",
       "      <td>***ГОЛУБАЯ ВОЛНА  (Univ)                      D</td>\n",
       "      <td>3</td>\n",
       "      <td>40</td>\n",
       "    </tr>\n",
       "    <tr>\n",
       "      <th>4</th>\n",
       "      <td>***КОРОБКА (СТЕКЛО)                       D</td>\n",
       "      <td>4</td>\n",
       "      <td>40</td>\n",
       "    </tr>\n",
       "  </tbody>\n",
       "</table>\n",
       "</div>"
      ],
      "text/plain": [
       "                                           item_name  item_id  \\\n",
       "0          ! ВО ВЛАСТИ НАВАЖДЕНИЯ (ПЛАСТ.)         D        0   \n",
       "1  !ABBYY FineReader 12 Professional Edition Full...        1   \n",
       "2      ***В ЛУЧАХ СЛАВЫ   (UNV)                    D        2   \n",
       "3    ***ГОЛУБАЯ ВОЛНА  (Univ)                      D        3   \n",
       "4        ***КОРОБКА (СТЕКЛО)                       D        4   \n",
       "\n",
       "   item_category_id  \n",
       "0                40  \n",
       "1                76  \n",
       "2                40  \n",
       "3                40  \n",
       "4                40  "
      ]
     },
     "metadata": {},
     "output_type": "display_data"
    },
    {
     "data": {
      "text/html": [
       "<div>\n",
       "<style scoped>\n",
       "    .dataframe tbody tr th:only-of-type {\n",
       "        vertical-align: middle;\n",
       "    }\n",
       "\n",
       "    .dataframe tbody tr th {\n",
       "        vertical-align: top;\n",
       "    }\n",
       "\n",
       "    .dataframe thead th {\n",
       "        text-align: right;\n",
       "    }\n",
       "</style>\n",
       "<table border=\"1\" class=\"dataframe\">\n",
       "  <thead>\n",
       "    <tr style=\"text-align: right;\">\n",
       "      <th></th>\n",
       "      <th>item_category_name</th>\n",
       "      <th>item_category_id</th>\n",
       "    </tr>\n",
       "  </thead>\n",
       "  <tbody>\n",
       "    <tr>\n",
       "      <th>0</th>\n",
       "      <td>PC - Гарнитуры/Наушники</td>\n",
       "      <td>0</td>\n",
       "    </tr>\n",
       "    <tr>\n",
       "      <th>1</th>\n",
       "      <td>Аксессуары - PS2</td>\n",
       "      <td>1</td>\n",
       "    </tr>\n",
       "    <tr>\n",
       "      <th>2</th>\n",
       "      <td>Аксессуары - PS3</td>\n",
       "      <td>2</td>\n",
       "    </tr>\n",
       "    <tr>\n",
       "      <th>3</th>\n",
       "      <td>Аксессуары - PS4</td>\n",
       "      <td>3</td>\n",
       "    </tr>\n",
       "    <tr>\n",
       "      <th>4</th>\n",
       "      <td>Аксессуары - PSP</td>\n",
       "      <td>4</td>\n",
       "    </tr>\n",
       "  </tbody>\n",
       "</table>\n",
       "</div>"
      ],
      "text/plain": [
       "        item_category_name  item_category_id\n",
       "0  PC - Гарнитуры/Наушники                 0\n",
       "1         Аксессуары - PS2                 1\n",
       "2         Аксессуары - PS3                 2\n",
       "3         Аксессуары - PS4                 3\n",
       "4         Аксессуары - PSP                 4"
      ]
     },
     "metadata": {},
     "output_type": "display_data"
    },
    {
     "data": {
      "text/html": [
       "<div>\n",
       "<style scoped>\n",
       "    .dataframe tbody tr th:only-of-type {\n",
       "        vertical-align: middle;\n",
       "    }\n",
       "\n",
       "    .dataframe tbody tr th {\n",
       "        vertical-align: top;\n",
       "    }\n",
       "\n",
       "    .dataframe thead th {\n",
       "        text-align: right;\n",
       "    }\n",
       "</style>\n",
       "<table border=\"1\" class=\"dataframe\">\n",
       "  <thead>\n",
       "    <tr style=\"text-align: right;\">\n",
       "      <th></th>\n",
       "      <th>ID</th>\n",
       "      <th>shop_id</th>\n",
       "      <th>item_id</th>\n",
       "    </tr>\n",
       "  </thead>\n",
       "  <tbody>\n",
       "    <tr>\n",
       "      <th>0</th>\n",
       "      <td>0</td>\n",
       "      <td>5</td>\n",
       "      <td>5037</td>\n",
       "    </tr>\n",
       "    <tr>\n",
       "      <th>1</th>\n",
       "      <td>1</td>\n",
       "      <td>5</td>\n",
       "      <td>5320</td>\n",
       "    </tr>\n",
       "    <tr>\n",
       "      <th>2</th>\n",
       "      <td>2</td>\n",
       "      <td>5</td>\n",
       "      <td>5233</td>\n",
       "    </tr>\n",
       "    <tr>\n",
       "      <th>3</th>\n",
       "      <td>3</td>\n",
       "      <td>5</td>\n",
       "      <td>5232</td>\n",
       "    </tr>\n",
       "    <tr>\n",
       "      <th>4</th>\n",
       "      <td>4</td>\n",
       "      <td>5</td>\n",
       "      <td>5268</td>\n",
       "    </tr>\n",
       "  </tbody>\n",
       "</table>\n",
       "</div>"
      ],
      "text/plain": [
       "   ID  shop_id  item_id\n",
       "0   0        5     5037\n",
       "1   1        5     5320\n",
       "2   2        5     5233\n",
       "3   3        5     5232\n",
       "4   4        5     5268"
      ]
     },
     "metadata": {},
     "output_type": "display_data"
    }
   ],
   "source": [
    "from IPython.display import HTML, display\n",
    "PATH = \"data/\"\n",
    "table_names = ['sales_train_v2', 'shops', 'items', 'item_categories', 'test']\n",
    "tables = [pd.read_csv(f'{PATH}{fname}.csv', low_memory=False) for fname in table_names]\n",
    "\n",
    "for t in tables: display(t.head())"
   ]
  },
  {
   "cell_type": "code",
   "execution_count": 118,
   "metadata": {
    "colab": {},
    "colab_type": "code",
    "id": "0U-1XxGOMNe9"
   },
   "outputs": [],
   "source": [
    "train, shops, items, cats, test = tables"
   ]
  },
  {
   "cell_type": "code",
   "execution_count": 119,
   "metadata": {
    "scrolled": true
   },
   "outputs": [
    {
     "data": {
      "text/html": [
       "<div>\n",
       "<style scoped>\n",
       "    .dataframe tbody tr th:only-of-type {\n",
       "        vertical-align: middle;\n",
       "    }\n",
       "\n",
       "    .dataframe tbody tr th {\n",
       "        vertical-align: top;\n",
       "    }\n",
       "\n",
       "    .dataframe thead th {\n",
       "        text-align: right;\n",
       "    }\n",
       "</style>\n",
       "<table border=\"1\" class=\"dataframe\">\n",
       "  <thead>\n",
       "    <tr style=\"text-align: right;\">\n",
       "      <th></th>\n",
       "      <th>ID</th>\n",
       "      <th>shop_id</th>\n",
       "      <th>item_id</th>\n",
       "    </tr>\n",
       "  </thead>\n",
       "  <tbody>\n",
       "    <tr>\n",
       "      <th>count</th>\n",
       "      <td>214200</td>\n",
       "      <td>214200</td>\n",
       "      <td>214200</td>\n",
       "    </tr>\n",
       "    <tr>\n",
       "      <th>mean</th>\n",
       "      <td>107100</td>\n",
       "      <td>31.6429</td>\n",
       "      <td>11019.4</td>\n",
       "    </tr>\n",
       "    <tr>\n",
       "      <th>std</th>\n",
       "      <td>61834.4</td>\n",
       "      <td>17.5619</td>\n",
       "      <td>6252.64</td>\n",
       "    </tr>\n",
       "    <tr>\n",
       "      <th>min</th>\n",
       "      <td>0</td>\n",
       "      <td>2</td>\n",
       "      <td>30</td>\n",
       "    </tr>\n",
       "    <tr>\n",
       "      <th>25%</th>\n",
       "      <td>53549.8</td>\n",
       "      <td>16</td>\n",
       "      <td>5381.5</td>\n",
       "    </tr>\n",
       "    <tr>\n",
       "      <th>50%</th>\n",
       "      <td>107100</td>\n",
       "      <td>34.5</td>\n",
       "      <td>11203</td>\n",
       "    </tr>\n",
       "    <tr>\n",
       "      <th>75%</th>\n",
       "      <td>160649</td>\n",
       "      <td>47</td>\n",
       "      <td>16071.5</td>\n",
       "    </tr>\n",
       "    <tr>\n",
       "      <th>max</th>\n",
       "      <td>214199</td>\n",
       "      <td>59</td>\n",
       "      <td>22167</td>\n",
       "    </tr>\n",
       "    <tr>\n",
       "      <th>counts</th>\n",
       "      <td>214200</td>\n",
       "      <td>214200</td>\n",
       "      <td>214200</td>\n",
       "    </tr>\n",
       "    <tr>\n",
       "      <th>uniques</th>\n",
       "      <td>214200</td>\n",
       "      <td>42</td>\n",
       "      <td>5100</td>\n",
       "    </tr>\n",
       "    <tr>\n",
       "      <th>missing</th>\n",
       "      <td>0</td>\n",
       "      <td>0</td>\n",
       "      <td>0</td>\n",
       "    </tr>\n",
       "    <tr>\n",
       "      <th>missing_perc</th>\n",
       "      <td>0%</td>\n",
       "      <td>0%</td>\n",
       "      <td>0%</td>\n",
       "    </tr>\n",
       "    <tr>\n",
       "      <th>types</th>\n",
       "      <td>numeric</td>\n",
       "      <td>numeric</td>\n",
       "      <td>numeric</td>\n",
       "    </tr>\n",
       "  </tbody>\n",
       "</table>\n",
       "</div>"
      ],
      "text/plain": [
       "                   ID  shop_id  item_id\n",
       "count          214200   214200   214200\n",
       "mean           107100  31.6429  11019.4\n",
       "std           61834.4  17.5619  6252.64\n",
       "min                 0        2       30\n",
       "25%           53549.8       16   5381.5\n",
       "50%            107100     34.5    11203\n",
       "75%            160649       47  16071.5\n",
       "max            214199       59    22167\n",
       "counts         214200   214200   214200\n",
       "uniques        214200       42     5100\n",
       "missing             0        0        0\n",
       "missing_perc       0%       0%       0%\n",
       "types         numeric  numeric  numeric"
      ]
     },
     "metadata": {},
     "output_type": "display_data"
    },
    {
     "data": {
      "text/html": [
       "<div>\n",
       "<style scoped>\n",
       "    .dataframe tbody tr th:only-of-type {\n",
       "        vertical-align: middle;\n",
       "    }\n",
       "\n",
       "    .dataframe tbody tr th {\n",
       "        vertical-align: top;\n",
       "    }\n",
       "\n",
       "    .dataframe thead th {\n",
       "        text-align: right;\n",
       "    }\n",
       "</style>\n",
       "<table border=\"1\" class=\"dataframe\">\n",
       "  <thead>\n",
       "    <tr style=\"text-align: right;\">\n",
       "      <th></th>\n",
       "      <th>date</th>\n",
       "      <th>date_block_num</th>\n",
       "      <th>shop_id</th>\n",
       "      <th>item_id</th>\n",
       "      <th>item_price</th>\n",
       "      <th>item_cnt_day</th>\n",
       "    </tr>\n",
       "  </thead>\n",
       "  <tbody>\n",
       "    <tr>\n",
       "      <th>count</th>\n",
       "      <td>NaN</td>\n",
       "      <td>2.93585e+06</td>\n",
       "      <td>2.93585e+06</td>\n",
       "      <td>2.93585e+06</td>\n",
       "      <td>2.93585e+06</td>\n",
       "      <td>2.93585e+06</td>\n",
       "    </tr>\n",
       "    <tr>\n",
       "      <th>mean</th>\n",
       "      <td>NaN</td>\n",
       "      <td>14.5699</td>\n",
       "      <td>33.0017</td>\n",
       "      <td>10197.2</td>\n",
       "      <td>890.853</td>\n",
       "      <td>1.24264</td>\n",
       "    </tr>\n",
       "    <tr>\n",
       "      <th>std</th>\n",
       "      <td>NaN</td>\n",
       "      <td>9.42299</td>\n",
       "      <td>16.227</td>\n",
       "      <td>6324.3</td>\n",
       "      <td>1729.8</td>\n",
       "      <td>2.61883</td>\n",
       "    </tr>\n",
       "    <tr>\n",
       "      <th>min</th>\n",
       "      <td>NaN</td>\n",
       "      <td>0</td>\n",
       "      <td>0</td>\n",
       "      <td>0</td>\n",
       "      <td>-1</td>\n",
       "      <td>-22</td>\n",
       "    </tr>\n",
       "    <tr>\n",
       "      <th>25%</th>\n",
       "      <td>NaN</td>\n",
       "      <td>7</td>\n",
       "      <td>22</td>\n",
       "      <td>4476</td>\n",
       "      <td>249</td>\n",
       "      <td>1</td>\n",
       "    </tr>\n",
       "    <tr>\n",
       "      <th>50%</th>\n",
       "      <td>NaN</td>\n",
       "      <td>14</td>\n",
       "      <td>31</td>\n",
       "      <td>9343</td>\n",
       "      <td>399</td>\n",
       "      <td>1</td>\n",
       "    </tr>\n",
       "    <tr>\n",
       "      <th>75%</th>\n",
       "      <td>NaN</td>\n",
       "      <td>23</td>\n",
       "      <td>47</td>\n",
       "      <td>15684</td>\n",
       "      <td>999</td>\n",
       "      <td>1</td>\n",
       "    </tr>\n",
       "    <tr>\n",
       "      <th>max</th>\n",
       "      <td>NaN</td>\n",
       "      <td>33</td>\n",
       "      <td>59</td>\n",
       "      <td>22169</td>\n",
       "      <td>307980</td>\n",
       "      <td>2169</td>\n",
       "    </tr>\n",
       "    <tr>\n",
       "      <th>counts</th>\n",
       "      <td>2935849</td>\n",
       "      <td>2935849</td>\n",
       "      <td>2935849</td>\n",
       "      <td>2935849</td>\n",
       "      <td>2935849</td>\n",
       "      <td>2935849</td>\n",
       "    </tr>\n",
       "    <tr>\n",
       "      <th>uniques</th>\n",
       "      <td>1034</td>\n",
       "      <td>34</td>\n",
       "      <td>60</td>\n",
       "      <td>21807</td>\n",
       "      <td>19993</td>\n",
       "      <td>198</td>\n",
       "    </tr>\n",
       "    <tr>\n",
       "      <th>missing</th>\n",
       "      <td>0</td>\n",
       "      <td>0</td>\n",
       "      <td>0</td>\n",
       "      <td>0</td>\n",
       "      <td>0</td>\n",
       "      <td>0</td>\n",
       "    </tr>\n",
       "    <tr>\n",
       "      <th>missing_perc</th>\n",
       "      <td>0%</td>\n",
       "      <td>0%</td>\n",
       "      <td>0%</td>\n",
       "      <td>0%</td>\n",
       "      <td>0%</td>\n",
       "      <td>0%</td>\n",
       "    </tr>\n",
       "    <tr>\n",
       "      <th>types</th>\n",
       "      <td>categorical</td>\n",
       "      <td>numeric</td>\n",
       "      <td>numeric</td>\n",
       "      <td>numeric</td>\n",
       "      <td>numeric</td>\n",
       "      <td>numeric</td>\n",
       "    </tr>\n",
       "  </tbody>\n",
       "</table>\n",
       "</div>"
      ],
      "text/plain": [
       "                     date date_block_num      shop_id      item_id  \\\n",
       "count                 NaN    2.93585e+06  2.93585e+06  2.93585e+06   \n",
       "mean                  NaN        14.5699      33.0017      10197.2   \n",
       "std                   NaN        9.42299       16.227       6324.3   \n",
       "min                   NaN              0            0            0   \n",
       "25%                   NaN              7           22         4476   \n",
       "50%                   NaN             14           31         9343   \n",
       "75%                   NaN             23           47        15684   \n",
       "max                   NaN             33           59        22169   \n",
       "counts            2935849        2935849      2935849      2935849   \n",
       "uniques              1034             34           60        21807   \n",
       "missing                 0              0            0            0   \n",
       "missing_perc           0%             0%           0%           0%   \n",
       "types         categorical        numeric      numeric      numeric   \n",
       "\n",
       "               item_price item_cnt_day  \n",
       "count         2.93585e+06  2.93585e+06  \n",
       "mean              890.853      1.24264  \n",
       "std                1729.8      2.61883  \n",
       "min                    -1          -22  \n",
       "25%                   249            1  \n",
       "50%                   399            1  \n",
       "75%                   999            1  \n",
       "max                307980         2169  \n",
       "counts            2935849      2935849  \n",
       "uniques             19993          198  \n",
       "missing                 0            0  \n",
       "missing_perc           0%           0%  \n",
       "types             numeric      numeric  "
      ]
     },
     "metadata": {},
     "output_type": "display_data"
    }
   ],
   "source": [
    "for t in test, train: display(DataFrameSummary(t).summary()) "
   ]
  },
  {
   "cell_type": "code",
   "execution_count": 120,
   "metadata": {},
   "outputs": [
    {
     "data": {
      "text/plain": [
       "2935849"
      ]
     },
     "execution_count": 120,
     "metadata": {},
     "output_type": "execute_result"
    }
   ],
   "source": [
    "len(train)"
   ]
  },
  {
   "cell_type": "code",
   "execution_count": 121,
   "metadata": {
    "scrolled": true
   },
   "outputs": [
    {
     "data": {
      "text/plain": [
       "<matplotlib.axes._subplots.AxesSubplot at 0x14007a9d208>"
      ]
     },
     "execution_count": 121,
     "metadata": {},
     "output_type": "execute_result"
    },
    {
     "data": {
      "image/png": "[encoded data removed]",
      "text/plain": [
       "<Figure size 720x288 with 1 Axes>"
      ]
     },
     "metadata": {
      "needs_background": "light"
     },
     "output_type": "display_data"
    },
    {
     "data": {
      "image/png": "[encoded data removed]",
      "text/plain": [
       "<Figure size 720x288 with 1 Axes>"
      ]
     },
     "metadata": {
      "needs_background": "light"
     },
     "output_type": "display_data"
    }
   ],
   "source": [
    "plt.figure(figsize=(10,4))\n",
    "plt.xlim(train.item_cnt_day.min(), train.item_cnt_day.max()*1.1)\n",
    "sns.boxplot(x=train.item_cnt_day)\n",
    "\n",
    "plt.figure(figsize=(10,4))\n",
    "plt.xlim(train['item_price'].min(), train['item_price'].max()*1.1)\n",
    "sns.boxplot(x=train.item_price)"
   ]
  },
  {
   "cell_type": "code",
   "execution_count": 122,
   "metadata": {},
   "outputs": [],
   "source": [
    "train = train[train.item_price<100000]\n",
    "train = train[train.item_cnt_day<1000]"
   ]
  },
  {
   "cell_type": "code",
   "execution_count": 123,
   "metadata": {},
   "outputs": [],
   "source": [
    "# Якутск Орджоникидзе, 56\n",
    "train.loc[train.shop_id == 0, 'shop_id'] = 57\n",
    "test.loc[test.shop_id == 0, 'shop_id'] = 57\n",
    "# Якутск ТЦ \"Центральный\"\n",
    "train.loc[train.shop_id == 1, 'shop_id'] = 58\n",
    "test.loc[test.shop_id == 1, 'shop_id'] = 58\n",
    "# Жуковский ул. Чкалова 39м²\n",
    "train.loc[train.shop_id == 10, 'shop_id'] = 11\n",
    "test.loc[test.shop_id == 10, 'shop_id'] = 11"
   ]
  },
  {
   "cell_type": "code",
   "execution_count": 124,
   "metadata": {},
   "outputs": [],
   "source": [
    "shops.loc[shops['shop_name'] == 'Сергиев Посад ТЦ \"7Я\"', 'shop_name'] = 'СергиевПосад ТЦ \"7Я\"'\n",
    "shops['city'] = shops['shop_name'].str.split(' ').map(lambda x: x[0])\n",
    "shops.loc[shops.city == '!Якутск', 'city'] = 'Якутск'\n",
    "shops['city_code'] = LabelEncoder().fit_transform(shops['city'])\n",
    "shops = shops[['shop_id','city_code']]\n",
    "\n",
    "cats['split'] = cats['item_category_name'].str.split('-')\n",
    "cats['type'] = cats['split'].map(lambda x: x[0].strip())\n",
    "cats['type_code'] = LabelEncoder().fit_transform(cats['type'])\n",
    "# if subtype is nan then type\n",
    "cats['subtype'] = cats['split'].map(lambda x: x[1].strip() if len(x) > 1 else x[0].strip())\n",
    "cats['subtype_code'] = LabelEncoder().fit_transform(cats['subtype'])\n",
    "cats = cats[['item_category_id','type_code', 'subtype_code']]\n",
    "\n",
    "items.drop(['item_name'], axis=1, inplace=True)"
   ]
  },
  {
   "cell_type": "code",
   "execution_count": 125,
   "metadata": {},
   "outputs": [
    {
     "data": {
      "text/plain": [
       "(363, 5100, 214200)"
      ]
     },
     "execution_count": 125,
     "metadata": {},
     "output_type": "execute_result"
    }
   ],
   "source": [
    "len(list(set(test.item_id) - set(test.item_id).intersection(set(train.item_id)))), len(list(set(test.item_id))), len(test)"
   ]
  },
  {
   "cell_type": "code",
   "execution_count": 126,
   "metadata": {},
   "outputs": [],
   "source": [
    "#train = train.drop('item_price', axis=1)"
   ]
  },
  {
   "cell_type": "code",
   "execution_count": 127,
   "metadata": {},
   "outputs": [],
   "source": [
    "train_items = train['item_id'].unique()"
   ]
  },
  {
   "cell_type": "code",
   "execution_count": 128,
   "metadata": {},
   "outputs": [],
   "source": [
    "test_items = test['item_id'].unique()"
   ]
  },
  {
   "cell_type": "code",
   "execution_count": 129,
   "metadata": {},
   "outputs": [
    {
     "data": {
      "text/plain": [
       "21806"
      ]
     },
     "execution_count": 129,
     "metadata": {},
     "output_type": "execute_result"
    }
   ],
   "source": [
    "len(train['item_id'].unique())"
   ]
  },
  {
   "cell_type": "code",
   "execution_count": 130,
   "metadata": {},
   "outputs": [
    {
     "data": {
      "text/plain": [
       "5100"
      ]
     },
     "execution_count": 130,
     "metadata": {},
     "output_type": "execute_result"
    }
   ],
   "source": [
    "len(test['item_id'].unique())"
   ]
  },
  {
   "cell_type": "code",
   "execution_count": 131,
   "metadata": {},
   "outputs": [],
   "source": [
    "train_shops = train['shop_id'].unique()"
   ]
  },
  {
   "cell_type": "code",
   "execution_count": 132,
   "metadata": {},
   "outputs": [],
   "source": [
    "test_shops = test['shop_id'].unique()"
   ]
  },
  {
   "cell_type": "code",
   "execution_count": 133,
   "metadata": {},
   "outputs": [],
   "source": [
    "train = train.where(train['shop_id'].isin(test_shops)).dropna()"
   ]
  },
  {
   "cell_type": "code",
   "execution_count": 134,
   "metadata": {},
   "outputs": [
    {
     "data": {
      "text/plain": [
       "42"
      ]
     },
     "execution_count": 134,
     "metadata": {},
     "output_type": "execute_result"
    }
   ],
   "source": [
    "len(train['shop_id'].unique())"
   ]
  },
  {
   "cell_type": "code",
   "execution_count": 135,
   "metadata": {},
   "outputs": [
    {
     "data": {
      "text/plain": [
       "42"
      ]
     },
     "execution_count": 135,
     "metadata": {},
     "output_type": "execute_result"
    }
   ],
   "source": [
    "len(test['shop_id'].unique())"
   ]
  },
  {
   "cell_type": "code",
   "execution_count": 136,
   "metadata": {},
   "outputs": [
    {
     "data": {
      "text/html": [
       "<div>\n",
       "<style scoped>\n",
       "    .dataframe tbody tr th:only-of-type {\n",
       "        vertical-align: middle;\n",
       "    }\n",
       "\n",
       "    .dataframe tbody tr th {\n",
       "        vertical-align: top;\n",
       "    }\n",
       "\n",
       "    .dataframe thead th {\n",
       "        text-align: right;\n",
       "    }\n",
       "</style>\n",
       "<table border=\"1\" class=\"dataframe\">\n",
       "  <thead>\n",
       "    <tr style=\"text-align: right;\">\n",
       "      <th></th>\n",
       "      <th>date</th>\n",
       "      <th>date_block_num</th>\n",
       "      <th>shop_id</th>\n",
       "      <th>item_id</th>\n",
       "      <th>item_price</th>\n",
       "      <th>item_cnt_day</th>\n",
       "    </tr>\n",
       "  </thead>\n",
       "  <tbody>\n",
       "    <tr>\n",
       "      <th>0</th>\n",
       "      <td>02.01.2013</td>\n",
       "      <td>0.0</td>\n",
       "      <td>59.0</td>\n",
       "      <td>22154.0</td>\n",
       "      <td>999.00</td>\n",
       "      <td>1.0</td>\n",
       "    </tr>\n",
       "    <tr>\n",
       "      <th>1</th>\n",
       "      <td>03.01.2013</td>\n",
       "      <td>0.0</td>\n",
       "      <td>25.0</td>\n",
       "      <td>2552.0</td>\n",
       "      <td>899.00</td>\n",
       "      <td>1.0</td>\n",
       "    </tr>\n",
       "    <tr>\n",
       "      <th>2</th>\n",
       "      <td>05.01.2013</td>\n",
       "      <td>0.0</td>\n",
       "      <td>25.0</td>\n",
       "      <td>2552.0</td>\n",
       "      <td>899.00</td>\n",
       "      <td>-1.0</td>\n",
       "    </tr>\n",
       "    <tr>\n",
       "      <th>3</th>\n",
       "      <td>06.01.2013</td>\n",
       "      <td>0.0</td>\n",
       "      <td>25.0</td>\n",
       "      <td>2554.0</td>\n",
       "      <td>1709.05</td>\n",
       "      <td>1.0</td>\n",
       "    </tr>\n",
       "    <tr>\n",
       "      <th>4</th>\n",
       "      <td>15.01.2013</td>\n",
       "      <td>0.0</td>\n",
       "      <td>25.0</td>\n",
       "      <td>2555.0</td>\n",
       "      <td>1099.00</td>\n",
       "      <td>1.0</td>\n",
       "    </tr>\n",
       "  </tbody>\n",
       "</table>\n",
       "</div>"
      ],
      "text/plain": [
       "         date  date_block_num  shop_id  item_id  item_price  item_cnt_day\n",
       "0  02.01.2013             0.0     59.0  22154.0      999.00           1.0\n",
       "1  03.01.2013             0.0     25.0   2552.0      899.00           1.0\n",
       "2  05.01.2013             0.0     25.0   2552.0      899.00          -1.0\n",
       "3  06.01.2013             0.0     25.0   2554.0     1709.05           1.0\n",
       "4  15.01.2013             0.0     25.0   2555.0     1099.00           1.0"
      ]
     },
     "execution_count": 136,
     "metadata": {},
     "output_type": "execute_result"
    }
   ],
   "source": [
    "train.head()"
   ]
  },
  {
   "cell_type": "code",
   "execution_count": 137,
   "metadata": {
    "colab": {
     "base_uri": "https://localhost:8080/",
     "height": 204
    },
    "colab_type": "code",
    "executionInfo": {
     "elapsed": 507,
     "status": "ok",
     "timestamp": 1536761474986,
     "user": {
      "displayName": "Christian Unterrainer",
      "photoUrl": "https://lh3.googleusercontent.com/a/default-user=s128",
      "userId": "112087957608346378724"
     },
     "user_tz": -120
    },
    "id": "Uian60VUbo3K",
    "outputId": "566d1044-31cf-4cf3-d613-fd64fa50a8a1"
   },
   "outputs": [
    {
     "data": {
      "text/html": [
       "<div>\n",
       "<style scoped>\n",
       "    .dataframe tbody tr th:only-of-type {\n",
       "        vertical-align: middle;\n",
       "    }\n",
       "\n",
       "    .dataframe tbody tr th {\n",
       "        vertical-align: top;\n",
       "    }\n",
       "\n",
       "    .dataframe thead th {\n",
       "        text-align: right;\n",
       "    }\n",
       "</style>\n",
       "<table border=\"1\" class=\"dataframe\">\n",
       "  <thead>\n",
       "    <tr style=\"text-align: right;\">\n",
       "      <th></th>\n",
       "      <th>ID</th>\n",
       "      <th>shop_id</th>\n",
       "      <th>item_id</th>\n",
       "    </tr>\n",
       "  </thead>\n",
       "  <tbody>\n",
       "    <tr>\n",
       "      <th>0</th>\n",
       "      <td>0</td>\n",
       "      <td>5</td>\n",
       "      <td>5037</td>\n",
       "    </tr>\n",
       "    <tr>\n",
       "      <th>1</th>\n",
       "      <td>1</td>\n",
       "      <td>5</td>\n",
       "      <td>5320</td>\n",
       "    </tr>\n",
       "    <tr>\n",
       "      <th>2</th>\n",
       "      <td>2</td>\n",
       "      <td>5</td>\n",
       "      <td>5233</td>\n",
       "    </tr>\n",
       "    <tr>\n",
       "      <th>3</th>\n",
       "      <td>3</td>\n",
       "      <td>5</td>\n",
       "      <td>5232</td>\n",
       "    </tr>\n",
       "    <tr>\n",
       "      <th>4</th>\n",
       "      <td>4</td>\n",
       "      <td>5</td>\n",
       "      <td>5268</td>\n",
       "    </tr>\n",
       "  </tbody>\n",
       "</table>\n",
       "</div>"
      ],
      "text/plain": [
       "   ID  shop_id  item_id\n",
       "0   0        5     5037\n",
       "1   1        5     5320\n",
       "2   2        5     5233\n",
       "3   3        5     5232\n",
       "4   4        5     5268"
      ]
     },
     "execution_count": 137,
     "metadata": {},
     "output_type": "execute_result"
    }
   ],
   "source": [
    "test.head()"
   ]
  },
  {
   "cell_type": "code",
   "execution_count": 138,
   "metadata": {
    "colab": {
     "base_uri": "https://localhost:8080/",
     "height": 34
    },
    "colab_type": "code",
    "executionInfo": {
     "elapsed": 511,
     "status": "ok",
     "timestamp": 1536761475698,
     "user": {
      "displayName": "Christian Unterrainer",
      "photoUrl": "https://lh3.googleusercontent.com/a/default-user=s128",
      "userId": "112087957608346378724"
     },
     "user_tz": -120
    },
    "id": "fjugL7pqONA2",
    "outputId": "a665230d-d22c-48f2-f9a0-8546ee9dfae1"
   },
   "outputs": [
    {
     "data": {
      "text/plain": [
       "(2429277, 214200)"
      ]
     },
     "execution_count": 138,
     "metadata": {},
     "output_type": "execute_result"
    }
   ],
   "source": [
    "len(train), len(test)"
   ]
  },
  {
   "cell_type": "code",
   "execution_count": 139,
   "metadata": {
    "colab": {
     "base_uri": "https://localhost:8080/",
     "height": 34
    },
    "colab_type": "code",
    "executionInfo": {
     "elapsed": 539,
     "status": "ok",
     "timestamp": 1536761485588,
     "user": {
      "displayName": "Christian Unterrainer",
      "photoUrl": "https://lh3.googleusercontent.com/a/default-user=s128",
      "userId": "112087957608346378724"
     },
     "user_tz": -120
    },
    "id": "3HjKMkDGFBDN",
    "outputId": "517db63f-b74a-48bb-a4c5-43f4e371563c"
   },
   "outputs": [
    {
     "data": {
      "text/plain": [
       "('01.01.2013', '31.12.2014')"
      ]
     },
     "execution_count": 139,
     "metadata": {},
     "output_type": "execute_result"
    }
   ],
   "source": [
    "train['date'].min(), train['date'].max()"
   ]
  },
  {
   "cell_type": "code",
   "execution_count": 140,
   "metadata": {
    "colab": {},
    "colab_type": "code",
    "id": "LN3HHz4dE7Ey"
   },
   "outputs": [],
   "source": [
    "test['date_block_num'] = pd.to_datetime('01.01.2015')"
   ]
  },
  {
   "cell_type": "code",
   "execution_count": 141,
   "metadata": {},
   "outputs": [],
   "source": [
    "def join_df(left, right, left_on, right_on=None, suffix='_y'):\n",
    "    if right_on is None: right_on = left_on\n",
    "    return left.merge(right, how='left', left_on=left_on, right_on=right_on, \n",
    "                      suffixes=(\"\", suffix))"
   ]
  },
  {
   "cell_type": "code",
   "execution_count": 142,
   "metadata": {},
   "outputs": [
    {
     "data": {
      "text/plain": [
       "(21085, 5100)"
      ]
     },
     "execution_count": 142,
     "metadata": {},
     "output_type": "execute_result"
    }
   ],
   "source": [
    "len(train['item_id'].unique()), len(test['item_id'].unique())"
   ]
  },
  {
   "cell_type": "code",
   "execution_count": 143,
   "metadata": {},
   "outputs": [],
   "source": [
    "train_df = train.groupby(['date_block_num', 'shop_id', 'item_id'], as_index=False).agg(\n",
    "                         {'item_cnt_day':'sum', 'item_price':'mean'})"
   ]
  },
  {
   "cell_type": "code",
   "execution_count": 144,
   "metadata": {},
   "outputs": [
    {
     "data": {
      "text/html": [
       "<div>\n",
       "<style scoped>\n",
       "    .dataframe tbody tr th:only-of-type {\n",
       "        vertical-align: middle;\n",
       "    }\n",
       "\n",
       "    .dataframe tbody tr th {\n",
       "        vertical-align: top;\n",
       "    }\n",
       "\n",
       "    .dataframe thead th {\n",
       "        text-align: right;\n",
       "    }\n",
       "</style>\n",
       "<table border=\"1\" class=\"dataframe\">\n",
       "  <thead>\n",
       "    <tr style=\"text-align: right;\">\n",
       "      <th></th>\n",
       "      <th>date_block_num</th>\n",
       "      <th>shop_id</th>\n",
       "      <th>item_id</th>\n",
       "      <th>item_cnt_day</th>\n",
       "      <th>item_price</th>\n",
       "    </tr>\n",
       "  </thead>\n",
       "  <tbody>\n",
       "    <tr>\n",
       "      <th>6139</th>\n",
       "      <td>0.0</td>\n",
       "      <td>12.0</td>\n",
       "      <td>1590.0</td>\n",
       "      <td>-13.0</td>\n",
       "      <td>2599.0</td>\n",
       "    </tr>\n",
       "    <tr>\n",
       "      <th>457985</th>\n",
       "      <td>10.0</td>\n",
       "      <td>12.0</td>\n",
       "      <td>8023.0</td>\n",
       "      <td>-22.0</td>\n",
       "      <td>15.0</td>\n",
       "    </tr>\n",
       "  </tbody>\n",
       "</table>\n",
       "</div>"
      ],
      "text/plain": [
       "        date_block_num  shop_id  item_id  item_cnt_day  item_price\n",
       "6139               0.0     12.0   1590.0         -13.0      2599.0\n",
       "457985            10.0     12.0   8023.0         -22.0        15.0"
      ]
     },
     "execution_count": 144,
     "metadata": {},
     "output_type": "execute_result"
    }
   ],
   "source": [
    "train_df[train_df['item_cnt_day']<-9]"
   ]
  },
  {
   "cell_type": "code",
   "execution_count": 145,
   "metadata": {},
   "outputs": [],
   "source": [
    "train_df['item_cnt_day'] = train_df['item_cnt_day']+23"
   ]
  },
  {
   "cell_type": "code",
   "execution_count": 146,
   "metadata": {
    "scrolled": true
   },
   "outputs": [
    {
     "data": {
      "text/plain": [
       "(21085, 5100)"
      ]
     },
     "execution_count": 146,
     "metadata": {},
     "output_type": "execute_result"
    }
   ],
   "source": [
    "len(train_df['item_id'].unique()), len(test['item_id'].unique())"
   ]
  },
  {
   "cell_type": "code",
   "execution_count": 147,
   "metadata": {},
   "outputs": [],
   "source": [
    "train_df['date_block_num'] = train_df.apply(lambda x: pd.to_datetime('01-01-2013') + \n",
    "                                            pd.DateOffset(months = x['date_block_num'] + 1), axis=1)"
   ]
  },
  {
   "cell_type": "code",
   "execution_count": 148,
   "metadata": {},
   "outputs": [
    {
     "data": {
      "text/html": [
       "<div>\n",
       "<style scoped>\n",
       "    .dataframe tbody tr th:only-of-type {\n",
       "        vertical-align: middle;\n",
       "    }\n",
       "\n",
       "    .dataframe tbody tr th {\n",
       "        vertical-align: top;\n",
       "    }\n",
       "\n",
       "    .dataframe thead th {\n",
       "        text-align: right;\n",
       "    }\n",
       "</style>\n",
       "<table border=\"1\" class=\"dataframe\">\n",
       "  <thead>\n",
       "    <tr style=\"text-align: right;\">\n",
       "      <th></th>\n",
       "      <th>date_block_num</th>\n",
       "      <th>shop_id</th>\n",
       "      <th>item_id</th>\n",
       "      <th>item_cnt_day</th>\n",
       "      <th>item_price</th>\n",
       "    </tr>\n",
       "  </thead>\n",
       "  <tbody>\n",
       "    <tr>\n",
       "      <th>0</th>\n",
       "      <td>2013-02-01</td>\n",
       "      <td>2.0</td>\n",
       "      <td>27.0</td>\n",
       "      <td>24.0</td>\n",
       "      <td>2499.0</td>\n",
       "    </tr>\n",
       "    <tr>\n",
       "      <th>1</th>\n",
       "      <td>2013-02-01</td>\n",
       "      <td>2.0</td>\n",
       "      <td>33.0</td>\n",
       "      <td>24.0</td>\n",
       "      <td>499.0</td>\n",
       "    </tr>\n",
       "    <tr>\n",
       "      <th>2</th>\n",
       "      <td>2013-02-01</td>\n",
       "      <td>2.0</td>\n",
       "      <td>317.0</td>\n",
       "      <td>24.0</td>\n",
       "      <td>299.0</td>\n",
       "    </tr>\n",
       "    <tr>\n",
       "      <th>3</th>\n",
       "      <td>2013-02-01</td>\n",
       "      <td>2.0</td>\n",
       "      <td>438.0</td>\n",
       "      <td>24.0</td>\n",
       "      <td>299.0</td>\n",
       "    </tr>\n",
       "    <tr>\n",
       "      <th>4</th>\n",
       "      <td>2013-02-01</td>\n",
       "      <td>2.0</td>\n",
       "      <td>471.0</td>\n",
       "      <td>25.0</td>\n",
       "      <td>399.0</td>\n",
       "    </tr>\n",
       "  </tbody>\n",
       "</table>\n",
       "</div>"
      ],
      "text/plain": [
       "  date_block_num  shop_id  item_id  item_cnt_day  item_price\n",
       "0     2013-02-01      2.0     27.0          24.0      2499.0\n",
       "1     2013-02-01      2.0     33.0          24.0       499.0\n",
       "2     2013-02-01      2.0    317.0          24.0       299.0\n",
       "3     2013-02-01      2.0    438.0          24.0       299.0\n",
       "4     2013-02-01      2.0    471.0          25.0       399.0"
      ]
     },
     "execution_count": 148,
     "metadata": {},
     "output_type": "execute_result"
    }
   ],
   "source": [
    "train_df.head()"
   ]
  },
  {
   "cell_type": "code",
   "execution_count": 149,
   "metadata": {},
   "outputs": [],
   "source": [
    "#add_datepart(train_df, \"date_block_num\", drop=True)\n",
    "#add_datepart(test, \"date_block_num\", drop=True)"
   ]
  },
  {
   "cell_type": "code",
   "execution_count": 150,
   "metadata": {},
   "outputs": [
    {
     "data": {
      "text/plain": [
       "array(['2013-02-01T00:00:00.000000000', '2013-03-01T00:00:00.000000000', '2013-04-01T00:00:00.000000000',\n",
       "       '2013-05-01T00:00:00.000000000', '2013-06-01T00:00:00.000000000', '2013-07-01T00:00:00.000000000',\n",
       "       '2013-08-01T00:00:00.000000000', '2013-09-01T00:00:00.000000000', '2013-10-01T00:00:00.000000000',\n",
       "       '2013-11-01T00:00:00.000000000', '2013-12-01T00:00:00.000000000', '2014-01-01T00:00:00.000000000',\n",
       "       '2014-02-01T00:00:00.000000000', '2014-03-01T00:00:00.000000000', '2014-04-01T00:00:00.000000000',\n",
       "       '2014-05-01T00:00:00.000000000', '2014-06-01T00:00:00.000000000', '2014-07-01T00:00:00.000000000',\n",
       "       '2014-08-01T00:00:00.000000000', '2014-09-01T00:00:00.000000000', '2014-10-01T00:00:00.000000000',\n",
       "       '2014-11-01T00:00:00.000000000', '2014-12-01T00:00:00.000000000', '2015-01-01T00:00:00.000000000',\n",
       "       '2015-02-01T00:00:00.000000000', '2015-03-01T00:00:00.000000000', '2015-04-01T00:00:00.000000000',\n",
       "       '2015-05-01T00:00:00.000000000', '2015-06-01T00:00:00.000000000', '2015-07-01T00:00:00.000000000',\n",
       "       '2015-08-01T00:00:00.000000000', '2015-09-01T00:00:00.000000000', '2015-10-01T00:00:00.000000000',\n",
       "       '2015-11-01T00:00:00.000000000'], dtype='datetime64[ns]')"
      ]
     },
     "execution_count": 150,
     "metadata": {},
     "output_type": "execute_result"
    }
   ],
   "source": [
    "train_df['date_block_num'].unique()"
   ]
  },
  {
   "cell_type": "code",
   "execution_count": 151,
   "metadata": {},
   "outputs": [],
   "source": [
    "train_df = pd.merge(train_df, shops, on=['shop_id'], how='left')\n",
    "train_df = pd.merge(train_df, items, on=['item_id'], how='left')\n",
    "train_df = pd.merge(train_df, cats, on=['item_category_id'], how='left')\n",
    "train_df['city_code'] = train_df['city_code'].astype(np.int8)\n",
    "train_df['item_category_id'] = train_df['item_category_id'].astype(np.int8)\n",
    "train_df['type_code'] = train_df['type_code'].astype(np.int8)\n",
    "train_df['subtype_code'] = train_df['subtype_code'].astype(np.int8)\n"
   ]
  },
  {
   "cell_type": "code",
   "execution_count": 152,
   "metadata": {
    "scrolled": true
   },
   "outputs": [],
   "source": [
    "test = pd.merge(test, shops, on=['shop_id'], how='left')\n",
    "test = pd.merge(test, items, on=['item_id'], how='left')\n",
    "test = pd.merge(test, cats, on=['item_category_id'], how='left')\n",
    "test['city_code'] = test['city_code'].astype(np.int8)\n",
    "test['item_category_id'] = test['item_category_id'].astype(np.int8)\n",
    "test['type_code'] = test['type_code'].astype(np.int8)\n",
    "test['subtype_code'] = test['subtype_code'].astype(np.int8)"
   ]
  },
  {
   "cell_type": "code",
   "execution_count": 153,
   "metadata": {},
   "outputs": [],
   "source": [
    "train_df = train_df.where(train_df['item_id'].isin(test_items)).dropna()\n",
    "train_df = pd.concat([train_df,test], sort=False).drop_duplicates().reset_index(drop=True)\n",
    "train_df.drop('ID', 1, inplace=True)"
   ]
  },
  {
   "cell_type": "code",
   "execution_count": 154,
   "metadata": {},
   "outputs": [
    {
     "data": {
      "text/plain": [
       "5100"
      ]
     },
     "execution_count": 154,
     "metadata": {},
     "output_type": "execute_result"
    }
   ],
   "source": [
    "len(test.item_id.unique())"
   ]
  },
  {
   "cell_type": "code",
   "execution_count": 155,
   "metadata": {},
   "outputs": [],
   "source": [
    "temp = train_df.groupby(['item_id'], as_index=False).agg({'item_cnt_day':'sum', 'item_price':'mean'})"
   ]
  },
  {
   "cell_type": "code",
   "execution_count": 156,
   "metadata": {},
   "outputs": [
    {
     "data": {
      "text/html": [
       "<div>\n",
       "<style scoped>\n",
       "    .dataframe tbody tr th:only-of-type {\n",
       "        vertical-align: middle;\n",
       "    }\n",
       "\n",
       "    .dataframe tbody tr th {\n",
       "        vertical-align: top;\n",
       "    }\n",
       "\n",
       "    .dataframe thead th {\n",
       "        text-align: right;\n",
       "    }\n",
       "</style>\n",
       "<table border=\"1\" class=\"dataframe\">\n",
       "  <thead>\n",
       "    <tr style=\"text-align: right;\">\n",
       "      <th></th>\n",
       "      <th>item_id</th>\n",
       "      <th>item_cnt_day</th>\n",
       "      <th>item_price</th>\n",
       "    </tr>\n",
       "  </thead>\n",
       "  <tbody>\n",
       "    <tr>\n",
       "      <th>0</th>\n",
       "      <td>30.0</td>\n",
       "      <td>10699.0</td>\n",
       "      <td>263.590124</td>\n",
       "    </tr>\n",
       "    <tr>\n",
       "      <th>1</th>\n",
       "      <td>31.0</td>\n",
       "      <td>10773.0</td>\n",
       "      <td>514.417212</td>\n",
       "    </tr>\n",
       "    <tr>\n",
       "      <th>2</th>\n",
       "      <td>32.0</td>\n",
       "      <td>16588.0</td>\n",
       "      <td>223.206066</td>\n",
       "    </tr>\n",
       "    <tr>\n",
       "      <th>3</th>\n",
       "      <td>33.0</td>\n",
       "      <td>11514.0</td>\n",
       "      <td>242.330000</td>\n",
       "    </tr>\n",
       "    <tr>\n",
       "      <th>4</th>\n",
       "      <td>38.0</td>\n",
       "      <td>1223.0</td>\n",
       "      <td>2353.156863</td>\n",
       "    </tr>\n",
       "  </tbody>\n",
       "</table>\n",
       "</div>"
      ],
      "text/plain": [
       "   item_id  item_cnt_day   item_price\n",
       "0     30.0       10699.0   263.590124\n",
       "1     31.0       10773.0   514.417212\n",
       "2     32.0       16588.0   223.206066\n",
       "3     33.0       11514.0   242.330000\n",
       "4     38.0        1223.0  2353.156863"
      ]
     },
     "execution_count": 156,
     "metadata": {},
     "output_type": "execute_result"
    }
   ],
   "source": [
    "temp.head()"
   ]
  },
  {
   "cell_type": "code",
   "execution_count": 157,
   "metadata": {},
   "outputs": [],
   "source": [
    "test['item_price'] = test['item_id'].map(temp.set_index(['item_id'])['item_price'])"
   ]
  },
  {
   "cell_type": "code",
   "execution_count": 158,
   "metadata": {},
   "outputs": [
    {
     "data": {
      "text/plain": [
       "(5100, 5100)"
      ]
     },
     "execution_count": 158,
     "metadata": {},
     "output_type": "execute_result"
    }
   ],
   "source": [
    "len(train_df['item_id'].unique()), len(test['item_id'].unique())"
   ]
  },
  {
   "cell_type": "code",
   "execution_count": 159,
   "metadata": {},
   "outputs": [],
   "source": [
    "test_df = test"
   ]
  },
  {
   "cell_type": "code",
   "execution_count": 160,
   "metadata": {},
   "outputs": [
    {
     "data": {
      "text/plain": [
       "Index(['date_block_num', 'shop_id', 'item_id', 'item_cnt_day', 'item_price',\n",
       "       'city_code', 'item_category_id', 'type_code', 'subtype_code'],\n",
       "      dtype='object')"
      ]
     },
     "execution_count": 160,
     "metadata": {},
     "output_type": "execute_result"
    }
   ],
   "source": [
    "train_df.columns"
   ]
  },
  {
   "cell_type": "code",
   "execution_count": 161,
   "metadata": {
    "colab": {
     "base_uri": "https://localhost:8080/",
     "height": 204
    },
    "colab_type": "code",
    "executionInfo": {
     "elapsed": 541,
     "status": "ok",
     "timestamp": 1536761489175,
     "user": {
      "displayName": "Christian Unterrainer",
      "photoUrl": "https://lh3.googleusercontent.com/a/default-user=s128",
      "userId": "112087957608346378724"
     },
     "user_tz": -120
    },
    "id": "p1pXc1ZzIzJM",
    "outputId": "effffc22-2b15-4c16-fe91-e1df85eea332"
   },
   "outputs": [
    {
     "data": {
      "text/plain": [
       "Index(['date_block_num', 'shop_id', 'item_id', 'item_cnt_month', 'item_price',\n",
       "       'city_code', 'item_category_id', 'type_code', 'subtype_code'],\n",
       "      dtype='object')"
      ]
     },
     "execution_count": 161,
     "metadata": {},
     "output_type": "execute_result"
    }
   ],
   "source": [
    "train_df.rename(index=str, columns={\"item_cnt_day\": \"item_cnt_month\"}, inplace=True)\n",
    "train_df.columns"
   ]
  },
  {
   "cell_type": "code",
   "execution_count": 162,
   "metadata": {
    "colab": {
     "base_uri": "https://localhost:8080/",
     "height": 204
    },
    "colab_type": "code",
    "executionInfo": {
     "elapsed": 458,
     "status": "ok",
     "timestamp": 1536761491930,
     "user": {
      "displayName": "Christian Unterrainer",
      "photoUrl": "https://lh3.googleusercontent.com/a/default-user=s128",
      "userId": "112087957608346378724"
     },
     "user_tz": -120
    },
    "id": "SSuNpTm0ymmq",
    "outputId": "f68ff594-0ba2-4367-a9cd-ff73964e17e2"
   },
   "outputs": [
    {
     "data": {
      "text/html": [
       "<div>\n",
       "<style scoped>\n",
       "    .dataframe tbody tr th:only-of-type {\n",
       "        vertical-align: middle;\n",
       "    }\n",
       "\n",
       "    .dataframe tbody tr th {\n",
       "        vertical-align: top;\n",
       "    }\n",
       "\n",
       "    .dataframe thead th {\n",
       "        text-align: right;\n",
       "    }\n",
       "</style>\n",
       "<table border=\"1\" class=\"dataframe\">\n",
       "  <thead>\n",
       "    <tr style=\"text-align: right;\">\n",
       "      <th></th>\n",
       "      <th>date_block_num</th>\n",
       "      <th>shop_id</th>\n",
       "      <th>item_id</th>\n",
       "      <th>item_cnt_month</th>\n",
       "      <th>item_price</th>\n",
       "      <th>city_code</th>\n",
       "      <th>item_category_id</th>\n",
       "      <th>type_code</th>\n",
       "      <th>subtype_code</th>\n",
       "    </tr>\n",
       "  </thead>\n",
       "  <tbody>\n",
       "    <tr>\n",
       "      <th>0</th>\n",
       "      <td>2013-02-01</td>\n",
       "      <td>2.0</td>\n",
       "      <td>33.0</td>\n",
       "      <td>24.0</td>\n",
       "      <td>499.0</td>\n",
       "      <td>0.0</td>\n",
       "      <td>37.0</td>\n",
       "      <td>11.0</td>\n",
       "      <td>1.0</td>\n",
       "    </tr>\n",
       "    <tr>\n",
       "      <th>1</th>\n",
       "      <td>2013-02-01</td>\n",
       "      <td>2.0</td>\n",
       "      <td>482.0</td>\n",
       "      <td>24.0</td>\n",
       "      <td>3300.0</td>\n",
       "      <td>0.0</td>\n",
       "      <td>73.0</td>\n",
       "      <td>15.0</td>\n",
       "      <td>0.0</td>\n",
       "    </tr>\n",
       "    <tr>\n",
       "      <th>2</th>\n",
       "      <td>2013-02-01</td>\n",
       "      <td>2.0</td>\n",
       "      <td>491.0</td>\n",
       "      <td>24.0</td>\n",
       "      <td>600.0</td>\n",
       "      <td>0.0</td>\n",
       "      <td>73.0</td>\n",
       "      <td>15.0</td>\n",
       "      <td>0.0</td>\n",
       "    </tr>\n",
       "    <tr>\n",
       "      <th>3</th>\n",
       "      <td>2013-02-01</td>\n",
       "      <td>2.0</td>\n",
       "      <td>839.0</td>\n",
       "      <td>24.0</td>\n",
       "      <td>3300.0</td>\n",
       "      <td>0.0</td>\n",
       "      <td>73.0</td>\n",
       "      <td>15.0</td>\n",
       "      <td>0.0</td>\n",
       "    </tr>\n",
       "    <tr>\n",
       "      <th>4</th>\n",
       "      <td>2013-02-01</td>\n",
       "      <td>2.0</td>\n",
       "      <td>1007.0</td>\n",
       "      <td>26.0</td>\n",
       "      <td>449.0</td>\n",
       "      <td>0.0</td>\n",
       "      <td>67.0</td>\n",
       "      <td>14.0</td>\n",
       "      <td>52.0</td>\n",
       "    </tr>\n",
       "    <tr>\n",
       "      <th>5</th>\n",
       "      <td>2013-02-01</td>\n",
       "      <td>2.0</td>\n",
       "      <td>1010.0</td>\n",
       "      <td>24.0</td>\n",
       "      <td>449.0</td>\n",
       "      <td>0.0</td>\n",
       "      <td>67.0</td>\n",
       "      <td>14.0</td>\n",
       "      <td>52.0</td>\n",
       "    </tr>\n",
       "    <tr>\n",
       "      <th>6</th>\n",
       "      <td>2013-02-01</td>\n",
       "      <td>2.0</td>\n",
       "      <td>1023.0</td>\n",
       "      <td>25.0</td>\n",
       "      <td>299.0</td>\n",
       "      <td>0.0</td>\n",
       "      <td>67.0</td>\n",
       "      <td>14.0</td>\n",
       "      <td>52.0</td>\n",
       "    </tr>\n",
       "    <tr>\n",
       "      <th>7</th>\n",
       "      <td>2013-02-01</td>\n",
       "      <td>2.0</td>\n",
       "      <td>1204.0</td>\n",
       "      <td>24.0</td>\n",
       "      <td>299.0</td>\n",
       "      <td>0.0</td>\n",
       "      <td>55.0</td>\n",
       "      <td>13.0</td>\n",
       "      <td>2.0</td>\n",
       "    </tr>\n",
       "    <tr>\n",
       "      <th>8</th>\n",
       "      <td>2013-02-01</td>\n",
       "      <td>2.0</td>\n",
       "      <td>1224.0</td>\n",
       "      <td>24.0</td>\n",
       "      <td>399.0</td>\n",
       "      <td>0.0</td>\n",
       "      <td>55.0</td>\n",
       "      <td>13.0</td>\n",
       "      <td>2.0</td>\n",
       "    </tr>\n",
       "    <tr>\n",
       "      <th>9</th>\n",
       "      <td>2013-02-01</td>\n",
       "      <td>2.0</td>\n",
       "      <td>1247.0</td>\n",
       "      <td>24.0</td>\n",
       "      <td>299.0</td>\n",
       "      <td>0.0</td>\n",
       "      <td>55.0</td>\n",
       "      <td>13.0</td>\n",
       "      <td>2.0</td>\n",
       "    </tr>\n",
       "  </tbody>\n",
       "</table>\n",
       "</div>"
      ],
      "text/plain": [
       "  date_block_num  shop_id  item_id  item_cnt_month  item_price  city_code  \\\n",
       "0     2013-02-01      2.0     33.0            24.0       499.0        0.0   \n",
       "1     2013-02-01      2.0    482.0            24.0      3300.0        0.0   \n",
       "2     2013-02-01      2.0    491.0            24.0       600.0        0.0   \n",
       "3     2013-02-01      2.0    839.0            24.0      3300.0        0.0   \n",
       "4     2013-02-01      2.0   1007.0            26.0       449.0        0.0   \n",
       "5     2013-02-01      2.0   1010.0            24.0       449.0        0.0   \n",
       "6     2013-02-01      2.0   1023.0            25.0       299.0        0.0   \n",
       "7     2013-02-01      2.0   1204.0            24.0       299.0        0.0   \n",
       "8     2013-02-01      2.0   1224.0            24.0       399.0        0.0   \n",
       "9     2013-02-01      2.0   1247.0            24.0       299.0        0.0   \n",
       "\n",
       "   item_category_id  type_code  subtype_code  \n",
       "0              37.0       11.0           1.0  \n",
       "1              73.0       15.0           0.0  \n",
       "2              73.0       15.0           0.0  \n",
       "3              73.0       15.0           0.0  \n",
       "4              67.0       14.0          52.0  \n",
       "5              67.0       14.0          52.0  \n",
       "6              67.0       14.0          52.0  \n",
       "7              55.0       13.0           2.0  \n",
       "8              55.0       13.0           2.0  \n",
       "9              55.0       13.0           2.0  "
      ]
     },
     "execution_count": 162,
     "metadata": {},
     "output_type": "execute_result"
    }
   ],
   "source": [
    "train_df.head(10)"
   ]
  },
  {
   "cell_type": "code",
   "execution_count": 163,
   "metadata": {
    "colab": {
     "base_uri": "https://localhost:8080/",
     "height": 235
    },
    "colab_type": "code",
    "executionInfo": {
     "elapsed": 463,
     "status": "ok",
     "timestamp": 1536761492572,
     "user": {
      "displayName": "Christian Unterrainer",
      "photoUrl": "https://lh3.googleusercontent.com/a/default-user=s128",
      "userId": "112087957608346378724"
     },
     "user_tz": -120
    },
    "id": "CqoDvVEPxucp",
    "outputId": "45169f43-aff0-42f4-ff98-6749f7d818d7"
   },
   "outputs": [
    {
     "data": {
      "text/html": [
       "<div>\n",
       "<style scoped>\n",
       "    .dataframe tbody tr th:only-of-type {\n",
       "        vertical-align: middle;\n",
       "    }\n",
       "\n",
       "    .dataframe tbody tr th {\n",
       "        vertical-align: top;\n",
       "    }\n",
       "\n",
       "    .dataframe thead th {\n",
       "        text-align: right;\n",
       "    }\n",
       "</style>\n",
       "<table border=\"1\" class=\"dataframe\">\n",
       "  <thead>\n",
       "    <tr style=\"text-align: right;\">\n",
       "      <th></th>\n",
       "      <th>0</th>\n",
       "      <th>1</th>\n",
       "      <th>2</th>\n",
       "      <th>3</th>\n",
       "      <th>4</th>\n",
       "    </tr>\n",
       "  </thead>\n",
       "  <tbody>\n",
       "    <tr>\n",
       "      <th>date_block_num</th>\n",
       "      <td>2013-02-01 00:00:00</td>\n",
       "      <td>2013-02-01 00:00:00</td>\n",
       "      <td>2013-02-01 00:00:00</td>\n",
       "      <td>2013-02-01 00:00:00</td>\n",
       "      <td>2013-02-01 00:00:00</td>\n",
       "    </tr>\n",
       "    <tr>\n",
       "      <th>shop_id</th>\n",
       "      <td>2</td>\n",
       "      <td>2</td>\n",
       "      <td>2</td>\n",
       "      <td>2</td>\n",
       "      <td>2</td>\n",
       "    </tr>\n",
       "    <tr>\n",
       "      <th>item_id</th>\n",
       "      <td>33</td>\n",
       "      <td>482</td>\n",
       "      <td>491</td>\n",
       "      <td>839</td>\n",
       "      <td>1007</td>\n",
       "    </tr>\n",
       "    <tr>\n",
       "      <th>item_cnt_month</th>\n",
       "      <td>24</td>\n",
       "      <td>24</td>\n",
       "      <td>24</td>\n",
       "      <td>24</td>\n",
       "      <td>26</td>\n",
       "    </tr>\n",
       "    <tr>\n",
       "      <th>item_price</th>\n",
       "      <td>499</td>\n",
       "      <td>3300</td>\n",
       "      <td>600</td>\n",
       "      <td>3300</td>\n",
       "      <td>449</td>\n",
       "    </tr>\n",
       "    <tr>\n",
       "      <th>city_code</th>\n",
       "      <td>0</td>\n",
       "      <td>0</td>\n",
       "      <td>0</td>\n",
       "      <td>0</td>\n",
       "      <td>0</td>\n",
       "    </tr>\n",
       "    <tr>\n",
       "      <th>item_category_id</th>\n",
       "      <td>37</td>\n",
       "      <td>73</td>\n",
       "      <td>73</td>\n",
       "      <td>73</td>\n",
       "      <td>67</td>\n",
       "    </tr>\n",
       "    <tr>\n",
       "      <th>type_code</th>\n",
       "      <td>11</td>\n",
       "      <td>15</td>\n",
       "      <td>15</td>\n",
       "      <td>15</td>\n",
       "      <td>14</td>\n",
       "    </tr>\n",
       "    <tr>\n",
       "      <th>subtype_code</th>\n",
       "      <td>1</td>\n",
       "      <td>0</td>\n",
       "      <td>0</td>\n",
       "      <td>0</td>\n",
       "      <td>52</td>\n",
       "    </tr>\n",
       "  </tbody>\n",
       "</table>\n",
       "</div>"
      ],
      "text/plain": [
       "                                    0                    1  \\\n",
       "date_block_num    2013-02-01 00:00:00  2013-02-01 00:00:00   \n",
       "shop_id                             2                    2   \n",
       "item_id                            33                  482   \n",
       "item_cnt_month                     24                   24   \n",
       "item_price                        499                 3300   \n",
       "city_code                           0                    0   \n",
       "item_category_id                   37                   73   \n",
       "type_code                          11                   15   \n",
       "subtype_code                        1                    0   \n",
       "\n",
       "                                    2                    3  \\\n",
       "date_block_num    2013-02-01 00:00:00  2013-02-01 00:00:00   \n",
       "shop_id                             2                    2   \n",
       "item_id                           491                  839   \n",
       "item_cnt_month                     24                   24   \n",
       "item_price                        600                 3300   \n",
       "city_code                           0                    0   \n",
       "item_category_id                   73                   73   \n",
       "type_code                          15                   15   \n",
       "subtype_code                        0                    0   \n",
       "\n",
       "                                    4  \n",
       "date_block_num    2013-02-01 00:00:00  \n",
       "shop_id                             2  \n",
       "item_id                          1007  \n",
       "item_cnt_month                     26  \n",
       "item_price                        449  \n",
       "city_code                           0  \n",
       "item_category_id                   67  \n",
       "type_code                          14  \n",
       "subtype_code                       52  "
      ]
     },
     "execution_count": 163,
     "metadata": {},
     "output_type": "execute_result"
    }
   ],
   "source": [
    "train_df.head().T.head(40)"
   ]
  },
  {
   "cell_type": "code",
   "execution_count": 164,
   "metadata": {
    "scrolled": true
   },
   "outputs": [
    {
     "data": {
      "text/plain": [
       "25.68975883592467"
      ]
     },
     "execution_count": 164,
     "metadata": {},
     "output_type": "execute_result"
    }
   ],
   "source": [
    "train_df['item_cnt_month'].mean()"
   ]
  },
  {
   "cell_type": "code",
   "execution_count": 165,
   "metadata": {},
   "outputs": [
    {
     "data": {
      "text/plain": [
       "(815948, 214200)"
      ]
     },
     "execution_count": 165,
     "metadata": {},
     "output_type": "execute_result"
    }
   ],
   "source": [
    "len(train_df), len(test_df)"
   ]
  },
  {
   "cell_type": "code",
   "execution_count": 166,
   "metadata": {},
   "outputs": [],
   "source": [
    "dep = 'item_cnt_month'\n",
    "test_df[dep] = 0"
   ]
  },
  {
   "cell_type": "code",
   "execution_count": 167,
   "metadata": {
    "colab": {
     "base_uri": "https://localhost:8080/",
     "height": 34
    },
    "colab_type": "code",
    "executionInfo": {
     "elapsed": 514,
     "status": "ok",
     "timestamp": 1536761493278,
     "user": {
      "displayName": "Christian Unterrainer",
      "photoUrl": "https://lh3.googleusercontent.com/a/default-user=s128",
      "userId": "112087957608346378724"
     },
     "user_tz": -120
    },
    "id": "lenxA1vfznDn",
    "outputId": "61a0bd70-5c24-458b-f803-406bad73b8f2"
   },
   "outputs": [
    {
     "data": {
      "text/plain": [
       "815948"
      ]
     },
     "execution_count": 167,
     "metadata": {},
     "output_type": "execute_result"
    }
   ],
   "source": [
    "cat_vars = ['shop_id', 'item_id', 'city_code', 'item_category_id', 'type_code', 'subtype_code']\n",
    "\n",
    "contin_vars = ['item_price'] #'item_price'\n",
    "\n",
    "n = len(train_df); n"
   ]
  },
  {
   "cell_type": "code",
   "execution_count": 168,
   "metadata": {
    "colab": {},
    "colab_type": "code",
    "id": "KO6rtw5F4DOI"
   },
   "outputs": [],
   "source": [
    "train_df = train_df[cat_vars+contin_vars+[dep, 'date_block_num']].copy()"
   ]
  },
  {
   "cell_type": "code",
   "execution_count": 169,
   "metadata": {
    "colab": {
     "base_uri": "https://localhost:8080/",
     "height": 204
    },
    "colab_type": "code",
    "executionInfo": {
     "elapsed": 490,
     "status": "ok",
     "timestamp": 1536761495290,
     "user": {
      "displayName": "Christian Unterrainer",
      "photoUrl": "https://lh3.googleusercontent.com/a/default-user=s128",
      "userId": "112087957608346378724"
     },
     "user_tz": -120
    },
    "id": "cz7oapSmVmzK",
    "outputId": "f408e2f4-ba07-4c74-9f29-74bb7bc8063e"
   },
   "outputs": [
    {
     "data": {
      "text/plain": [
       "ID                  False\n",
       "shop_id             False\n",
       "item_id             False\n",
       "date_block_num      False\n",
       "city_code           False\n",
       "item_category_id    False\n",
       "type_code           False\n",
       "subtype_code        False\n",
       "item_price           True\n",
       "item_cnt_month      False\n",
       "dtype: bool"
      ]
     },
     "execution_count": 169,
     "metadata": {},
     "output_type": "execute_result"
    }
   ],
   "source": [
    "test_df.isna().any()"
   ]
  },
  {
   "cell_type": "code",
   "execution_count": 170,
   "metadata": {
    "colab": {
     "base_uri": "https://localhost:8080/",
     "height": 204
    },
    "colab_type": "code",
    "executionInfo": {
     "elapsed": 599,
     "status": "ok",
     "timestamp": 1536761496938,
     "user": {
      "displayName": "Christian Unterrainer",
      "photoUrl": "https://lh3.googleusercontent.com/a/default-user=s128",
      "userId": "112087957608346378724"
     },
     "user_tz": -120
    },
    "id": "-wSGwaHJZYO6",
    "outputId": "39c6aa5f-0440-4417-edfa-91df42024b3a"
   },
   "outputs": [
    {
     "data": {
      "text/html": [
       "<div>\n",
       "<style scoped>\n",
       "    .dataframe tbody tr th:only-of-type {\n",
       "        vertical-align: middle;\n",
       "    }\n",
       "\n",
       "    .dataframe tbody tr th {\n",
       "        vertical-align: top;\n",
       "    }\n",
       "\n",
       "    .dataframe thead th {\n",
       "        text-align: right;\n",
       "    }\n",
       "</style>\n",
       "<table border=\"1\" class=\"dataframe\">\n",
       "  <thead>\n",
       "    <tr style=\"text-align: right;\">\n",
       "      <th></th>\n",
       "      <th>shop_id</th>\n",
       "      <th>item_id</th>\n",
       "      <th>city_code</th>\n",
       "      <th>item_category_id</th>\n",
       "      <th>type_code</th>\n",
       "      <th>subtype_code</th>\n",
       "      <th>item_price</th>\n",
       "      <th>item_cnt_month</th>\n",
       "      <th>date_block_num</th>\n",
       "      <th>ID</th>\n",
       "    </tr>\n",
       "  </thead>\n",
       "  <tbody>\n",
       "    <tr>\n",
       "      <th>0</th>\n",
       "      <td>5</td>\n",
       "      <td>5037</td>\n",
       "      <td>3</td>\n",
       "      <td>19</td>\n",
       "      <td>5</td>\n",
       "      <td>10</td>\n",
       "      <td>1920.154628</td>\n",
       "      <td>0</td>\n",
       "      <td>2015-01-01</td>\n",
       "      <td>0</td>\n",
       "    </tr>\n",
       "    <tr>\n",
       "      <th>1</th>\n",
       "      <td>5</td>\n",
       "      <td>5320</td>\n",
       "      <td>3</td>\n",
       "      <td>55</td>\n",
       "      <td>13</td>\n",
       "      <td>2</td>\n",
       "      <td>NaN</td>\n",
       "      <td>0</td>\n",
       "      <td>2015-01-01</td>\n",
       "      <td>1</td>\n",
       "    </tr>\n",
       "    <tr>\n",
       "      <th>2</th>\n",
       "      <td>5</td>\n",
       "      <td>5233</td>\n",
       "      <td>3</td>\n",
       "      <td>19</td>\n",
       "      <td>5</td>\n",
       "      <td>10</td>\n",
       "      <td>845.070116</td>\n",
       "      <td>0</td>\n",
       "      <td>2015-01-01</td>\n",
       "      <td>2</td>\n",
       "    </tr>\n",
       "    <tr>\n",
       "      <th>3</th>\n",
       "      <td>5</td>\n",
       "      <td>5232</td>\n",
       "      <td>3</td>\n",
       "      <td>23</td>\n",
       "      <td>5</td>\n",
       "      <td>16</td>\n",
       "      <td>791.506867</td>\n",
       "      <td>0</td>\n",
       "      <td>2015-01-01</td>\n",
       "      <td>3</td>\n",
       "    </tr>\n",
       "    <tr>\n",
       "      <th>4</th>\n",
       "      <td>5</td>\n",
       "      <td>5268</td>\n",
       "      <td>3</td>\n",
       "      <td>20</td>\n",
       "      <td>5</td>\n",
       "      <td>11</td>\n",
       "      <td>NaN</td>\n",
       "      <td>0</td>\n",
       "      <td>2015-01-01</td>\n",
       "      <td>4</td>\n",
       "    </tr>\n",
       "  </tbody>\n",
       "</table>\n",
       "</div>"
      ],
      "text/plain": [
       "   shop_id  item_id  city_code  item_category_id  type_code  subtype_code  \\\n",
       "0        5     5037          3                19          5            10   \n",
       "1        5     5320          3                55         13             2   \n",
       "2        5     5233          3                19          5            10   \n",
       "3        5     5232          3                23          5            16   \n",
       "4        5     5268          3                20          5            11   \n",
       "\n",
       "    item_price  item_cnt_month date_block_num  ID  \n",
       "0  1920.154628               0     2015-01-01   0  \n",
       "1          NaN               0     2015-01-01   1  \n",
       "2   845.070116               0     2015-01-01   2  \n",
       "3   791.506867               0     2015-01-01   3  \n",
       "4          NaN               0     2015-01-01   4  "
      ]
     },
     "execution_count": 170,
     "metadata": {},
     "output_type": "execute_result"
    }
   ],
   "source": [
    "test_df = test_df[cat_vars+contin_vars+[dep, 'date_block_num', 'ID']].copy()\n",
    "test_df.head()"
   ]
  },
  {
   "cell_type": "code",
   "execution_count": 171,
   "metadata": {
    "colab": {},
    "colab_type": "code",
    "id": "BkSoFJGVQKG9"
   },
   "outputs": [],
   "source": [
    "imputer = Imputer()\n",
    "train_df[contin_vars+[dep]] = imputer.fit_transform(train_df[contin_vars+[dep]])\n",
    "test_df[contin_vars] = imputer.fit_transform(test_df[contin_vars])\n",
    "\n",
    "for v in contin_vars:\n",
    "    train_df[v] = train_df[v].astype('float32')\n",
    "    test_df[v] = test_df[v].astype('float32')\n",
    "    \n",
    "train_df[dep] = train_df[dep].astype('float32')\n",
    "test_df[dep] = test_df[dep].astype('float32')"
   ]
  },
  {
   "cell_type": "code",
   "execution_count": 172,
   "metadata": {},
   "outputs": [],
   "source": [
    "for v in cat_vars: train_df[v] = train_df[v].astype('category').cat.as_ordered()\n",
    "    \n",
    "train_df['date_block_num'] = train_df['date_block_num'].astype('category').cat.as_ordered()\n",
    "test_df['date_block_num'] = test_df['date_block_num'].astype('category').cat.as_ordered()"
   ]
  },
  {
   "cell_type": "code",
   "execution_count": 174,
   "metadata": {},
   "outputs": [],
   "source": [
    "train_df['date_block_num'] =  pd.to_datetime(train_df['date_block_num'])\n",
    "test_df['date_block_num'] = pd.to_datetime(test_df['date_block_num'])"
   ]
  },
  {
   "cell_type": "code",
   "execution_count": 175,
   "metadata": {},
   "outputs": [],
   "source": [
    "apply_cats(test_df, train_df)"
   ]
  },
  {
   "cell_type": "code",
   "execution_count": 176,
   "metadata": {
    "colab": {
     "base_uri": "https://localhost:8080/",
     "height": 34
    },
    "colab_type": "code",
    "executionInfo": {
     "elapsed": 514,
     "status": "ok",
     "timestamp": 1536761537453,
     "user": {
      "displayName": "Christian Unterrainer",
      "photoUrl": "https://lh3.googleusercontent.com/a/default-user=s128",
      "userId": "112087957608346378724"
     },
     "user_tz": -120
    },
    "id": "Kh5vlvtvR0Vq",
    "outputId": "3699b9fa-84b9-4cb9-9d15-55893739b728"
   },
   "outputs": [
    {
     "data": {
      "text/plain": [
       "(815948, 163189.6)"
      ]
     },
     "execution_count": 176,
     "metadata": {},
     "output_type": "execute_result"
    }
   ],
   "source": [
    "len(train_df), len(train_df)/5"
   ]
  },
  {
   "cell_type": "code",
   "execution_count": 177,
   "metadata": {
    "scrolled": true
   },
   "outputs": [
    {
     "data": {
      "text/plain": [
       "(shop_id             0\n",
       " item_id             0\n",
       " city_code           0\n",
       " item_category_id    0\n",
       " type_code           0\n",
       " subtype_code        0\n",
       " item_price          0\n",
       " item_cnt_month      0\n",
       " date_block_num      0\n",
       " dtype: int64, shop_id             0\n",
       " item_id             0\n",
       " city_code           0\n",
       " item_category_id    0\n",
       " type_code           0\n",
       " subtype_code        0\n",
       " item_price          0\n",
       " item_cnt_month      0\n",
       " date_block_num      0\n",
       " ID                  0\n",
       " dtype: int64)"
      ]
     },
     "execution_count": 177,
     "metadata": {},
     "output_type": "execute_result"
    }
   ],
   "source": [
    "train_df.isna().sum(), test_df.isna().sum()"
   ]
  },
  {
   "cell_type": "code",
   "execution_count": 178,
   "metadata": {
    "colab": {
     "base_uri": "https://localhost:8080/",
     "height": 425
    },
    "colab_type": "code",
    "executionInfo": {
     "elapsed": 492,
     "status": "ok",
     "timestamp": 1536761556731,
     "user": {
      "displayName": "Christian Unterrainer",
      "photoUrl": "https://lh3.googleusercontent.com/a/default-user=s128",
      "userId": "112087957608346378724"
     },
     "user_tz": -120
    },
    "id": "IGSmiUaPuQxR",
    "outputId": "806ff2ef-57d3-48a9-c4c8-f66b1a91ec0b",
    "scrolled": true
   },
   "outputs": [
    {
     "name": "stdout",
     "output_type": "stream",
     "text": [
      "<class 'pandas.core.frame.DataFrame'>\n",
      "Index: 815948 entries, 0 to 815947\n",
      "Data columns (total 9 columns):\n",
      "shop_id             815948 non-null category\n",
      "item_id             815948 non-null category\n",
      "city_code           815948 non-null category\n",
      "item_category_id    815948 non-null category\n",
      "type_code           815948 non-null category\n",
      "subtype_code        815948 non-null category\n",
      "item_price          815948 non-null float32\n",
      "item_cnt_month      815948 non-null float32\n",
      "date_block_num      815948 non-null datetime64[ns]\n",
      "dtypes: category(6), datetime64[ns](1), float32(2)\n",
      "memory usage: 24.3+ MB\n",
      "<class 'pandas.core.frame.DataFrame'>\n",
      "Int64Index: 214200 entries, 0 to 214199\n",
      "Data columns (total 10 columns):\n",
      "shop_id             214200 non-null category\n",
      "item_id             214200 non-null category\n",
      "city_code           214200 non-null category\n",
      "item_category_id    214200 non-null category\n",
      "type_code           214200 non-null category\n",
      "subtype_code        214200 non-null category\n",
      "item_price          214200 non-null float32\n",
      "item_cnt_month      214200 non-null float32\n",
      "date_block_num      214200 non-null datetime64[ns]\n",
      "ID                  214200 non-null int64\n",
      "dtypes: category(6), datetime64[ns](1), float32(2), int64(1)\n",
      "memory usage: 8.2 MB\n"
     ]
    },
    {
     "data": {
      "text/plain": [
       "(None, None)"
      ]
     },
     "execution_count": 178,
     "metadata": {},
     "output_type": "execute_result"
    }
   ],
   "source": [
    "train_df.info(), test_df.info()"
   ]
  },
  {
   "cell_type": "code",
   "execution_count": 179,
   "metadata": {
    "colab": {
     "base_uri": "https://localhost:8080/",
     "height": 34
    },
    "colab_type": "code",
    "executionInfo": {
     "elapsed": 517,
     "status": "ok",
     "timestamp": 1536761582593,
     "user": {
      "displayName": "Christian Unterrainer",
      "photoUrl": "https://lh3.googleusercontent.com/a/default-user=s128",
      "userId": "112087957608346378724"
     },
     "user_tz": -120
    },
    "id": "NOvT-XXMQVKO",
    "outputId": "49ed65c2-a445-4f95-a1b2-aaa178503f2d"
   },
   "outputs": [
    {
     "data": {
      "text/plain": [
       "815948"
      ]
     },
     "execution_count": 179,
     "metadata": {},
     "output_type": "execute_result"
    }
   ],
   "source": [
    "samp_size = n\n",
    "len(train_df)"
   ]
  },
  {
   "cell_type": "code",
   "execution_count": 180,
   "metadata": {},
   "outputs": [
    {
     "name": "stdout",
     "output_type": "stream",
     "text": [
      "<class 'pandas.core.frame.DataFrame'>\n",
      "Index: 815948 entries, 0 to 815947\n",
      "Data columns (total 9 columns):\n",
      "shop_id             815948 non-null category\n",
      "item_id             815948 non-null category\n",
      "city_code           815948 non-null category\n",
      "item_category_id    815948 non-null category\n",
      "type_code           815948 non-null category\n",
      "subtype_code        815948 non-null category\n",
      "item_price          815948 non-null float32\n",
      "item_cnt_month      815948 non-null float32\n",
      "date_block_num      815948 non-null datetime64[ns]\n",
      "dtypes: category(6), datetime64[ns](1), float32(2)\n",
      "memory usage: 24.3+ MB\n"
     ]
    }
   ],
   "source": [
    "train_df.info()"
   ]
  },
  {
   "cell_type": "code",
   "execution_count": 181,
   "metadata": {},
   "outputs": [
    {
     "data": {
      "text/plain": [
       "815948"
      ]
     },
     "execution_count": 181,
     "metadata": {},
     "output_type": "execute_result"
    }
   ],
   "source": [
    "len(train_df)"
   ]
  },
  {
   "cell_type": "code",
   "execution_count": 182,
   "metadata": {},
   "outputs": [
    {
     "data": {
      "text/plain": [
       "214200"
      ]
     },
     "execution_count": 182,
     "metadata": {},
     "output_type": "execute_result"
    }
   ],
   "source": [
    "len(test_df)"
   ]
  },
  {
   "cell_type": "code",
   "execution_count": null,
   "metadata": {},
   "outputs": [],
   "source": [
    "#train_df.reset_index(inplace=True)\n",
    "#test_df.reset_index(inplace=True)\n",
    "\n",
    "#train_df.to_feather(\"train\")\n",
    "#test_df.to_feather(\"test\")"
   ]
  },
  {
   "cell_type": "code",
   "execution_count": null,
   "metadata": {},
   "outputs": [],
   "source": [
    "# This is only for loading existing preprocessed Dataframes (Dataframes will be read-only)\n",
    "#train_df = pd.read_feather(\"train\")\n",
    "#test_df = pd.read_feather(\"test\")"
   ]
  },
  {
   "cell_type": "code",
   "execution_count": 7,
   "metadata": {},
   "outputs": [],
   "source": [
    "#train_df.drop('index', 1, inplace=True)\n",
    "#test_df.drop('index', 1, inplace=True)"
   ]
  },
  {
   "cell_type": "code",
   "execution_count": 183,
   "metadata": {
    "scrolled": true
   },
   "outputs": [],
   "source": [
    "joined_samp = train_df.sort_values(by='date_block_num')\n",
    "joined_samp = joined_samp.set_index('date_block_num')"
   ]
  },
  {
   "cell_type": "code",
   "execution_count": 184,
   "metadata": {},
   "outputs": [
    {
     "data": {
      "text/html": [
       "<div>\n",
       "<style scoped>\n",
       "    .dataframe tbody tr th:only-of-type {\n",
       "        vertical-align: middle;\n",
       "    }\n",
       "\n",
       "    .dataframe tbody tr th {\n",
       "        vertical-align: top;\n",
       "    }\n",
       "\n",
       "    .dataframe thead th {\n",
       "        text-align: right;\n",
       "    }\n",
       "</style>\n",
       "<table border=\"1\" class=\"dataframe\">\n",
       "  <thead>\n",
       "    <tr style=\"text-align: right;\">\n",
       "      <th></th>\n",
       "      <th>shop_id</th>\n",
       "      <th>item_id</th>\n",
       "      <th>city_code</th>\n",
       "      <th>item_category_id</th>\n",
       "      <th>type_code</th>\n",
       "      <th>subtype_code</th>\n",
       "      <th>item_price</th>\n",
       "      <th>item_cnt_month</th>\n",
       "    </tr>\n",
       "    <tr>\n",
       "      <th>date_block_num</th>\n",
       "      <th></th>\n",
       "      <th></th>\n",
       "      <th></th>\n",
       "      <th></th>\n",
       "      <th></th>\n",
       "      <th></th>\n",
       "      <th></th>\n",
       "      <th></th>\n",
       "    </tr>\n",
       "  </thead>\n",
       "  <tbody>\n",
       "    <tr>\n",
       "      <th>2013-02-01</th>\n",
       "      <td>2.0</td>\n",
       "      <td>33.0</td>\n",
       "      <td>0.0</td>\n",
       "      <td>37.0</td>\n",
       "      <td>11.0</td>\n",
       "      <td>1.0</td>\n",
       "      <td>499.000</td>\n",
       "      <td>24.0</td>\n",
       "    </tr>\n",
       "    <tr>\n",
       "      <th>2013-02-01</th>\n",
       "      <td>42.0</td>\n",
       "      <td>5572.0</td>\n",
       "      <td>19.0</td>\n",
       "      <td>2.0</td>\n",
       "      <td>1.0</td>\n",
       "      <td>10.0</td>\n",
       "      <td>1589.875</td>\n",
       "      <td>27.0</td>\n",
       "    </tr>\n",
       "    <tr>\n",
       "      <th>2013-02-01</th>\n",
       "      <td>42.0</td>\n",
       "      <td>5552.0</td>\n",
       "      <td>19.0</td>\n",
       "      <td>55.0</td>\n",
       "      <td>13.0</td>\n",
       "      <td>2.0</td>\n",
       "      <td>299.000</td>\n",
       "      <td>24.0</td>\n",
       "    </tr>\n",
       "    <tr>\n",
       "      <th>2013-02-01</th>\n",
       "      <td>42.0</td>\n",
       "      <td>5539.0</td>\n",
       "      <td>19.0</td>\n",
       "      <td>55.0</td>\n",
       "      <td>13.0</td>\n",
       "      <td>2.0</td>\n",
       "      <td>299.000</td>\n",
       "      <td>24.0</td>\n",
       "    </tr>\n",
       "    <tr>\n",
       "      <th>2013-02-01</th>\n",
       "      <td>42.0</td>\n",
       "      <td>5472.0</td>\n",
       "      <td>19.0</td>\n",
       "      <td>60.0</td>\n",
       "      <td>13.0</td>\n",
       "      <td>48.0</td>\n",
       "      <td>9599.000</td>\n",
       "      <td>24.0</td>\n",
       "    </tr>\n",
       "  </tbody>\n",
       "</table>\n",
       "</div>"
      ],
      "text/plain": [
       "               shop_id item_id city_code item_category_id type_code  \\\n",
       "date_block_num                                                        \n",
       "2013-02-01         2.0    33.0       0.0             37.0      11.0   \n",
       "2013-02-01        42.0  5572.0      19.0              2.0       1.0   \n",
       "2013-02-01        42.0  5552.0      19.0             55.0      13.0   \n",
       "2013-02-01        42.0  5539.0      19.0             55.0      13.0   \n",
       "2013-02-01        42.0  5472.0      19.0             60.0      13.0   \n",
       "\n",
       "               subtype_code  item_price  item_cnt_month  \n",
       "date_block_num                                           \n",
       "2013-02-01              1.0     499.000            24.0  \n",
       "2013-02-01             10.0    1589.875            27.0  \n",
       "2013-02-01              2.0     299.000            24.0  \n",
       "2013-02-01              2.0     299.000            24.0  \n",
       "2013-02-01             48.0    9599.000            24.0  "
      ]
     },
     "execution_count": 184,
     "metadata": {},
     "output_type": "execute_result"
    }
   ],
   "source": [
    "joined_samp.head() "
   ]
  },
  {
   "cell_type": "code",
   "execution_count": 185,
   "metadata": {},
   "outputs": [
    {
     "data": {
      "text/plain": [
       "shop_id             False\n",
       "item_id             False\n",
       "city_code           False\n",
       "item_category_id    False\n",
       "type_code           False\n",
       "subtype_code        False\n",
       "item_price          False\n",
       "item_cnt_month      False\n",
       "dtype: bool"
      ]
     },
     "execution_count": 185,
     "metadata": {},
     "output_type": "execute_result"
    }
   ],
   "source": [
    "joined_samp.isna().any()"
   ]
  },
  {
   "cell_type": "code",
   "execution_count": 186,
   "metadata": {},
   "outputs": [
    {
     "name": "stdout",
     "output_type": "stream",
     "text": [
      "<class 'pandas.core.frame.DataFrame'>\n",
      "DatetimeIndex: 815948 entries, 2013-02-01 to 2015-11-01\n",
      "Data columns (total 8 columns):\n",
      "shop_id             815948 non-null category\n",
      "item_id             815948 non-null category\n",
      "city_code           815948 non-null category\n",
      "item_category_id    815948 non-null category\n",
      "type_code           815948 non-null category\n",
      "subtype_code        815948 non-null category\n",
      "item_price          815948 non-null float32\n",
      "item_cnt_month      815948 non-null float32\n",
      "dtypes: category(6), float32(2)\n",
      "memory usage: 18.1 MB\n"
     ]
    }
   ],
   "source": [
    "joined_samp.info()"
   ]
  },
  {
   "cell_type": "code",
   "execution_count": 187,
   "metadata": {
    "scrolled": true
   },
   "outputs": [],
   "source": [
    "df, y, nas, mapper = proc_df(joined_samp, 'item_cnt_month', do_scale=True)"
   ]
  },
  {
   "cell_type": "code",
   "execution_count": 188,
   "metadata": {
    "colab": {},
    "colab_type": "code",
    "id": "XOn0x8SiO-Qh"
   },
   "outputs": [],
   "source": [
    "joined_test = test_df.sort_values('date_block_num')\n",
    "joined_test = joined_test.set_index('date_block_num')"
   ]
  },
  {
   "cell_type": "code",
   "execution_count": 190,
   "metadata": {},
   "outputs": [
    {
     "data": {
      "text/plain": [
       "214200"
      ]
     },
     "execution_count": 190,
     "metadata": {},
     "output_type": "execute_result"
    }
   ],
   "source": [
    "len(joined_test)"
   ]
  },
  {
   "cell_type": "code",
   "execution_count": 191,
   "metadata": {},
   "outputs": [
    {
     "data": {
      "text/plain": [
       "shop_id             False\n",
       "item_id             False\n",
       "city_code           False\n",
       "item_category_id    False\n",
       "type_code           False\n",
       "subtype_code        False\n",
       "item_price          False\n",
       "item_cnt_month      False\n",
       "ID                  False\n",
       "dtype: bool"
      ]
     },
     "execution_count": 191,
     "metadata": {},
     "output_type": "execute_result"
    }
   ],
   "source": [
    "joined_test.isna().any()"
   ]
  },
  {
   "cell_type": "code",
   "execution_count": 192,
   "metadata": {
    "colab": {},
    "colab_type": "code",
    "id": "x4i-QaBCVWNh"
   },
   "outputs": [],
   "source": [
    "df_test, _, nas, mapper = proc_df(joined_test, 'item_cnt_month', do_scale=True, \n",
    "                                  skip_flds=['ID'], mapper=mapper, na_dict=nas)"
   ]
  },
  {
   "cell_type": "code",
   "execution_count": 193,
   "metadata": {
    "colab": {
     "base_uri": "https://localhost:8080/",
     "height": 204
    },
    "colab_type": "code",
    "executionInfo": {
     "elapsed": 696,
     "status": "ok",
     "timestamp": 1536763382992,
     "user": {
      "displayName": "Christian Unterrainer",
      "photoUrl": "https://lh3.googleusercontent.com/a/default-user=s128",
      "userId": "112087957608346378724"
     },
     "user_tz": -120
    },
    "id": "rjippN3AiwmZ",
    "outputId": "079a75af-67d1-486a-a2fb-4256e8807dcc"
   },
   "outputs": [
    {
     "data": {
      "text/plain": [
       "214200"
      ]
     },
     "execution_count": 193,
     "metadata": {},
     "output_type": "execute_result"
    }
   ],
   "source": [
    "len(df_test)"
   ]
  },
  {
   "cell_type": "code",
   "execution_count": 194,
   "metadata": {
    "colab": {},
    "colab_type": "code",
    "id": "RgeJe8z31W05"
   },
   "outputs": [],
   "source": [
    "from sklearn.metrics import mean_squared_error\n",
    "\n",
    "def exp_rmse(y_pred, targ):\n",
    "    return math.sqrt(mean_squared_error(targ, y_pred))"
   ]
  },
  {
   "cell_type": "code",
   "execution_count": 195,
   "metadata": {},
   "outputs": [
    {
     "data": {
      "text/plain": [
       "815948"
      ]
     },
     "execution_count": 195,
     "metadata": {},
     "output_type": "execute_result"
    }
   ],
   "source": [
    "len(y)"
   ]
  },
  {
   "cell_type": "code",
   "execution_count": 196,
   "metadata": {},
   "outputs": [],
   "source": [
    "yl = np.log(y)\n",
    "max_log_y = np.max(yl)\n",
    "y_range = (0, max_log_y*1.2)"
   ]
  },
  {
   "cell_type": "code",
   "execution_count": 197,
   "metadata": {
    "scrolled": true
   },
   "outputs": [
    {
     "data": {
      "text/plain": [
       "Timestamp('2015-11-01 00:00:00')"
      ]
     },
     "execution_count": 197,
     "metadata": {},
     "output_type": "execute_result"
    }
   ],
   "source": [
    "train_df['date_block_num'].max()"
   ]
  },
  {
   "cell_type": "code",
   "execution_count": 198,
   "metadata": {},
   "outputs": [
    {
     "data": {
      "text/plain": [
       "Timestamp('2013-02-01 00:00:00')"
      ]
     },
     "execution_count": 198,
     "metadata": {},
     "output_type": "execute_result"
    }
   ],
   "source": [
    "train_df['date_block_num'].min()"
   ]
  },
  {
   "cell_type": "code",
   "execution_count": 199,
   "metadata": {},
   "outputs": [
    {
     "data": {
      "text/plain": [
       "(205593,)"
      ]
     },
     "execution_count": 199,
     "metadata": {},
     "output_type": "execute_result"
    }
   ],
   "source": [
    "val_idx = train_df[train_df['date_block_num'] >= '2015-04-01'].index\n",
    "\n",
    "len(val_idx), #len(idxs), (len(val_idx)/len(idxs))*100"
   ]
  },
  {
   "cell_type": "code",
   "execution_count": 200,
   "metadata": {},
   "outputs": [],
   "source": [
    "val_idx = val_idx.astype('int')"
   ]
  },
  {
   "cell_type": "code",
   "execution_count": 201,
   "metadata": {},
   "outputs": [
    {
     "data": {
      "text/plain": [
       "(205593, 815948, 815948, 214200)"
      ]
     },
     "execution_count": 201,
     "metadata": {},
     "output_type": "execute_result"
    }
   ],
   "source": [
    "len(val_idx), len(y), len(df), len(df_test)"
   ]
  },
  {
   "cell_type": "code",
   "execution_count": 211,
   "metadata": {
    "colab": {},
    "colab_type": "code",
    "id": "_ZCR14_w2ajd"
   },
   "outputs": [],
   "source": [
    "md = ColumnarModelData.from_data_frame(PATH, val_idx, df, yl, cat_flds=cat_vars, bs=256,\n",
    "                                       test_df=df_test)"
   ]
  },
  {
   "cell_type": "code",
   "execution_count": 212,
   "metadata": {
    "colab": {},
    "colab_type": "code",
    "id": "Sc-LMRA8HGsu"
   },
   "outputs": [],
   "source": [
    "cat_sz = [(c, len(joined_samp[c].cat.categories)+1) for c in cat_vars]"
   ]
  },
  {
   "cell_type": "code",
   "execution_count": 213,
   "metadata": {
    "colab": {
     "base_uri": "https://localhost:8080/",
     "height": 782
    },
    "colab_type": "code",
    "executionInfo": {
     "elapsed": 683,
     "status": "ok",
     "timestamp": 1536679456373,
     "user": {
      "displayName": "Christian Unterrainer",
      "photoUrl": "https://lh3.googleusercontent.com/a/default-user=s128",
      "userId": "112087957608346378724"
     },
     "user_tz": -120
    },
    "id": "ZViXeRp9_oH0",
    "outputId": "d770b58a-ba6d-436e-952c-a173bcf7bc2a",
    "scrolled": true
   },
   "outputs": [
    {
     "data": {
      "text/plain": [
       "[('shop_id', 43),\n",
       " ('item_id', 5101),\n",
       " ('city_code', 29),\n",
       " ('item_category_id', 63),\n",
       " ('type_code', 17),\n",
       " ('subtype_code', 50)]"
      ]
     },
     "execution_count": 213,
     "metadata": {},
     "output_type": "execute_result"
    }
   ],
   "source": [
    "cat_sz"
   ]
  },
  {
   "cell_type": "code",
   "execution_count": 214,
   "metadata": {
    "colab": {},
    "colab_type": "code",
    "id": "Hg8d368v_rH_"
   },
   "outputs": [],
   "source": [
    "emb_szs = [(c, max(10, min(50, (c+1)//2))) for _,c in cat_sz]"
   ]
  },
  {
   "cell_type": "code",
   "execution_count": 215,
   "metadata": {
    "colab": {
     "base_uri": "https://localhost:8080/",
     "height": 782
    },
    "colab_type": "code",
    "executionInfo": {
     "elapsed": 761,
     "status": "ok",
     "timestamp": 1536679458576,
     "user": {
      "displayName": "Christian Unterrainer",
      "photoUrl": "https://lh3.googleusercontent.com/a/default-user=s128",
      "userId": "112087957608346378724"
     },
     "user_tz": -120
    },
    "id": "htJcw9Yx_tkM",
    "outputId": "3235961d-e707-4f9f-eafe-5b8fe16747a8",
    "scrolled": true
   },
   "outputs": [
    {
     "data": {
      "text/plain": [
       "[(43, 22), (5101, 50), (29, 15), (63, 32), (17, 10), (50, 25)]"
      ]
     },
     "execution_count": 215,
     "metadata": {},
     "output_type": "execute_result"
    }
   ],
   "source": [
    "emb_szs"
   ]
  },
  {
   "cell_type": "code",
   "execution_count": 216,
   "metadata": {},
   "outputs": [
    {
     "data": {
      "text/plain": [
       "shop_id             False\n",
       "item_id             False\n",
       "city_code           False\n",
       "item_category_id    False\n",
       "type_code           False\n",
       "subtype_code        False\n",
       "item_price          False\n",
       "dtype: bool"
      ]
     },
     "execution_count": 216,
     "metadata": {},
     "output_type": "execute_result"
    }
   ],
   "source": [
    "df.isna().any()"
   ]
  },
  {
   "cell_type": "code",
   "execution_count": 217,
   "metadata": {
    "colab": {},
    "colab_type": "code",
    "id": "_IGSeKBbHGs2"
   },
   "outputs": [],
   "source": [
    "m = md.get_learner(emb_szs, len(df.columns)-len(cat_vars),\n",
    "                   0.04, 1, [1000,500], [0.001,0.01], y_range=y_range)"
   ]
  },
  {
   "cell_type": "code",
   "execution_count": 218,
   "metadata": {
    "colab": {
     "base_uri": "https://localhost:8080/",
     "height": 85
    },
    "colab_type": "code",
    "executionInfo": {
     "elapsed": 15177,
     "status": "ok",
     "timestamp": 1536679477957,
     "user": {
      "displayName": "Christian Unterrainer",
      "photoUrl": "https://lh3.googleusercontent.com/a/default-user=s128",
      "userId": "112087957608346378724"
     },
     "user_tz": -120
    },
    "id": "OhWeKLy7HGs3",
    "outputId": "292600bc-f184-4f24-e2b7-0e72cff4ca82",
    "scrolled": true
   },
   "outputs": [
    {
     "data": {
      "application/vnd.jupyter.widget-view+json": {
       "model_id": "f80dd18c36e44bc89101f423ec0d8f70",
       "version_major": 2,
       "version_minor": 0
      },
      "text/plain": [
       "HBox(children=(IntProgress(value=0, description='Epoch', max=1), HTML(value='')))"
      ]
     },
     "metadata": {},
     "output_type": "display_data"
    },
    {
     "name": "stdout",
     "output_type": "stream",
     "text": [
      " 58%|██████████████████████████████████████▏                           | 1381/2385 [00:15<00:11, 87.80it/s, loss=0.127]"
     ]
    }
   ],
   "source": [
    "lr = 1e-4\n",
    "m.lr_find()"
   ]
  },
  {
   "cell_type": "code",
   "execution_count": 219,
   "metadata": {
    "colab": {
     "base_uri": "https://localhost:8080/",
     "height": 365
    },
    "colab_type": "code",
    "executionInfo": {
     "elapsed": 1772,
     "status": "ok",
     "timestamp": 1536679479826,
     "user": {
      "displayName": "Christian Unterrainer",
      "photoUrl": "https://lh3.googleusercontent.com/a/default-user=s128",
      "userId": "112087957608346378724"
     },
     "user_tz": -120
    },
    "id": "Qg_MyTtYHGs4",
    "outputId": "035846ed-dc93-46b2-f93c-dacd805a00f2"
   },
   "outputs": [
    {
     "data": {
      "image/png": "[encoded data removed]",
      "text/plain": [
       "<Figure size 432x288 with 1 Axes>"
      ]
     },
     "metadata": {
      "needs_background": "light"
     },
     "output_type": "display_data"
    }
   ],
   "source": [
    "m.sched.plot()"
   ]
  },
  {
   "cell_type": "code",
   "execution_count": 220,
   "metadata": {
    "colab": {},
    "colab_type": "code",
    "id": "GcTZ1IkmBGad"
   },
   "outputs": [],
   "source": [
    "lr = 10 ** -4.8"
   ]
  },
  {
   "cell_type": "code",
   "execution_count": 221,
   "metadata": {},
   "outputs": [
    {
     "data": {
      "text/plain": [
       "1.584893192461114e-05"
      ]
     },
     "execution_count": 221,
     "metadata": {},
     "output_type": "execute_result"
    }
   ],
   "source": [
    "lr"
   ]
  },
  {
   "cell_type": "code",
   "execution_count": 222,
   "metadata": {
    "scrolled": true
   },
   "outputs": [
    {
     "data": {
      "text/plain": [
       "(205593, 815948, 815948, 214200)"
      ]
     },
     "execution_count": 222,
     "metadata": {},
     "output_type": "execute_result"
    },
    {
     "name": "stdout",
     "output_type": "stream",
     "text": [
      "\r",
      " 58%|██████████████████████████████████████▏                           | 1381/2385 [00:34<00:25, 39.57it/s, loss=0.127]"
     ]
    }
   ],
   "source": [
    "len(val_idx), len(yl), len(df), len(df_test)"
   ]
  },
  {
   "cell_type": "code",
   "execution_count": 223,
   "metadata": {
    "colab": {
     "base_uri": "https://localhost:8080/",
     "height": 136
    },
    "colab_type": "code",
    "executionInfo": {
     "elapsed": 38928,
     "status": "ok",
     "timestamp": 1536679520441,
     "user": {
      "displayName": "Christian Unterrainer",
      "photoUrl": "https://lh3.googleusercontent.com/a/default-user=s128",
      "userId": "112087957608346378724"
     },
     "user_tz": -120
    },
    "id": "6PlnGRFlBp0n",
    "outputId": "536d5437-80bc-427a-86b9-f30044c254a6"
   },
   "outputs": [
    {
     "data": {
      "application/vnd.jupyter.widget-view+json": {
       "model_id": "6f81343fa8ff428eb1ece2e539b02a17",
       "version_major": 2,
       "version_minor": 0
      },
      "text/plain": [
       "HBox(children=(IntProgress(value=0, description='Epoch', max=3), HTML(value='')))"
      ]
     },
     "metadata": {},
     "output_type": "display_data"
    },
    {
     "name": "stdout",
     "output_type": "stream",
     "text": [
      "epoch      trn_loss   val_loss   exp_rmse                                                                              \n",
      "    0      0.014792   0.008283   0.081079  \n",
      "    1      0.012554   0.006673   0.073577                                                                              \n",
      "    2      0.010777   0.006118   0.070661                                                                              \n"
     ]
    },
    {
     "data": {
      "text/plain": [
       "[array([0.00612]), 0.07066054586257169]"
      ]
     },
     "execution_count": 223,
     "metadata": {},
     "output_type": "execute_result"
    }
   ],
   "source": [
    "m.fit(lr, 3, cycle_len = 1, metrics=[exp_rmse])"
   ]
  },
  {
   "cell_type": "code",
   "execution_count": 224,
   "metadata": {
    "colab": {},
    "colab_type": "code",
    "id": "3YbY5_oDbB7W"
   },
   "outputs": [],
   "source": [
    "m.save(\"predict_sales_3E\")"
   ]
  },
  {
   "cell_type": "code",
   "execution_count": 64,
   "metadata": {
    "colab": {},
    "colab_type": "code",
    "id": "R8_oIBmGbB7X"
   },
   "outputs": [],
   "source": [
    "m.load(\"predict_sales_3E\")"
   ]
  },
  {
   "cell_type": "code",
   "execution_count": 225,
   "metadata": {
    "colab": {
     "base_uri": "https://localhost:8080/",
     "height": 170
    },
    "colab_type": "code",
    "executionInfo": {
     "elapsed": 64521,
     "status": "ok",
     "timestamp": 1536679586827,
     "user": {
      "displayName": "Christian Unterrainer",
      "photoUrl": "https://lh3.googleusercontent.com/a/default-user=s128",
      "userId": "112087957608346378724"
     },
     "user_tz": -120
    },
    "id": "-R1fcG-jDQVW",
    "outputId": "cfb3ca64-53f1-4e38-ba9d-356912462c93"
   },
   "outputs": [
    {
     "data": {
      "application/vnd.jupyter.widget-view+json": {
       "model_id": "b5cbb6a5c12c411fb2111d84e255a19e",
       "version_major": 2,
       "version_minor": 0
      },
      "text/plain": [
       "HBox(children=(IntProgress(value=0, description='Epoch', max=5), HTML(value='')))"
      ]
     },
     "metadata": {},
     "output_type": "display_data"
    },
    {
     "name": "stdout",
     "output_type": "stream",
     "text": [
      "epoch      trn_loss   val_loss   exp_rmse                                                                              \n",
      "    0      0.010967   0.00577    0.068478  \n",
      "    1      0.011184   0.005668   0.068022                                                                              \n",
      "    2      0.009579   0.005456   0.066291                                                                              \n",
      "    3      0.009253   0.005448   0.066421                                                                              \n",
      "    4      0.00917    0.005418   0.066247                                                                              \n"
     ]
    },
    {
     "data": {
      "text/plain": [
       "[array([0.00542]), 0.06624654570506482]"
      ]
     },
     "execution_count": 225,
     "metadata": {},
     "output_type": "execute_result"
    }
   ],
   "source": [
    "m.fit(lr, 1, cycle_len = 5, cycle_mult = 1, metrics=[exp_rmse])"
   ]
  },
  {
   "cell_type": "code",
   "execution_count": 226,
   "metadata": {
    "colab": {},
    "colab_type": "code",
    "id": "Jf9N3hLcbB7d"
   },
   "outputs": [],
   "source": [
    "m.save(\"predict_sales_8E\") "
   ]
  },
  {
   "cell_type": "code",
   "execution_count": 67,
   "metadata": {
    "colab": {},
    "colab_type": "code",
    "id": "MWN4GJ4NbB7f"
   },
   "outputs": [],
   "source": [
    "m.load(\"predict_sales_8E\")"
   ]
  },
  {
   "cell_type": "code",
   "execution_count": 227,
   "metadata": {},
   "outputs": [
    {
     "data": {
      "application/vnd.jupyter.widget-view+json": {
       "model_id": "871472535d134b5bae5581f3c2842215",
       "version_major": 2,
       "version_minor": 0
      },
      "text/plain": [
       "HBox(children=(IntProgress(value=0, description='Epoch', max=7), HTML(value='')))"
      ]
     },
     "metadata": {},
     "output_type": "display_data"
    },
    {
     "name": "stdout",
     "output_type": "stream",
     "text": [
      "epoch      trn_loss   val_loss   exp_rmse                                                                              \n",
      "    0      0.008883   0.005363   0.065829  \n",
      "    1      0.009433   0.005437   0.066103                                                                              \n",
      "    2      0.00936    0.005259   0.065154                                                                              \n",
      "    3      0.009445   0.005141   0.063879                                                                              \n",
      "    4      0.008852   0.005313   0.065719                                                                              \n",
      "    5      0.008347   0.005201   0.064945                                                                              \n",
      "    6      0.007962   0.005111   0.064021                                                                              \n"
     ]
    },
    {
     "data": {
      "text/plain": [
       "[array([0.00511]), 0.06402095948733212]"
      ]
     },
     "execution_count": 227,
     "metadata": {},
     "output_type": "execute_result"
    }
   ],
   "source": [
    "m.fit(lr, 3, cycle_len = 1, cycle_mult = 2, metrics=[exp_rmse])"
   ]
  },
  {
   "cell_type": "code",
   "execution_count": 228,
   "metadata": {},
   "outputs": [],
   "source": [
    "m.save(\"predict_sales_8E_7ER\") "
   ]
  },
  {
   "cell_type": "code",
   "execution_count": 70,
   "metadata": {},
   "outputs": [],
   "source": [
    "m.load(\"predict_sales_8E_7ER\")"
   ]
  },
  {
   "cell_type": "code",
   "execution_count": 229,
   "metadata": {},
   "outputs": [
    {
     "data": {
      "application/vnd.jupyter.widget-view+json": {
       "model_id": "c99b375b0aa643c8beb2440fb57faa63",
       "version_major": 2,
       "version_minor": 0
      },
      "text/plain": [
       "HBox(children=(IntProgress(value=0, description='Epoch', max=14), HTML(value='')))"
      ]
     },
     "metadata": {},
     "output_type": "display_data"
    },
    {
     "name": "stdout",
     "output_type": "stream",
     "text": [
      "epoch      trn_loss   val_loss   exp_rmse                                                                              \n",
      "    0      0.008469   0.005086   0.064022  \n",
      "    1      0.008123   0.005065   0.063669                                                                              \n",
      "    2      0.008265   0.005502   0.065301                                                                              \n",
      "    3      0.008788   0.0051     0.063917                                                                              \n",
      "    4      0.007448   0.004952   0.062556                                                                              \n",
      "    5      0.007844   0.004992   0.062954                                                                              \n",
      "    6      0.007706   0.004914   0.062293                                                                              \n",
      "    7      0.008859   0.005491   0.064789                                                                              \n",
      "    8      0.007691   0.004879   0.061882                                                                              \n",
      "    9      0.007198   0.005003   0.063143                                                                              \n",
      "    10     0.007615   0.004867   0.062013                                                                              \n",
      "    11     0.007198   0.004844   0.061654                                                                              \n",
      "    12     0.007178   0.004872   0.062088                                                                              \n",
      "    13     0.007638   0.004859   0.061917                                                                              \n"
     ]
    },
    {
     "data": {
      "text/plain": [
       "[array([0.00486]), 0.06191694792556138]"
      ]
     },
     "execution_count": 229,
     "metadata": {},
     "output_type": "execute_result"
    }
   ],
   "source": [
    "m.fit(lr, 3, cycle_len = 2, cycle_mult = 2, metrics=[exp_rmse])"
   ]
  },
  {
   "cell_type": "code",
   "execution_count": 230,
   "metadata": {},
   "outputs": [],
   "source": [
    "m.save(\"predict_sales_8E_21ER\") "
   ]
  },
  {
   "cell_type": "code",
   "execution_count": 74,
   "metadata": {},
   "outputs": [],
   "source": [
    "m.load(\"predict_sales_8E_21ER\")"
   ]
  },
  {
   "cell_type": "code",
   "execution_count": 231,
   "metadata": {},
   "outputs": [
    {
     "data": {
      "application/vnd.jupyter.widget-view+json": {
       "model_id": "342e6d4021aa4c22b54004228a544b5a",
       "version_major": 2,
       "version_minor": 0
      },
      "text/plain": [
       "HBox(children=(IntProgress(value=0, description='Epoch', max=6), HTML(value='')))"
      ]
     },
     "metadata": {},
     "output_type": "display_data"
    },
    {
     "name": "stdout",
     "output_type": "stream",
     "text": [
      "epoch      trn_loss   val_loss   exp_rmse                                                                              \n",
      "    0      0.007105   0.004919   0.062695  \n",
      "    1      0.007448   0.004823   0.061649                                                                              \n",
      "    2      0.008686   0.004923   0.061937                                                                              \n",
      "    3      0.007602   0.004806   0.061387                                                                              \n",
      "    4      0.007662   0.00477    0.061068                                                                              \n",
      "    5      0.007504   0.004803   0.061528                                                                              \n"
     ]
    },
    {
     "data": {
      "text/plain": [
       "[array([0.0048]), 0.06152753631035912]"
      ]
     },
     "execution_count": 231,
     "metadata": {},
     "output_type": "execute_result"
    }
   ],
   "source": [
    "m.fit(lr, 2, cycle_len = 2, cycle_mult = 2, metrics=[exp_rmse])"
   ]
  },
  {
   "cell_type": "code",
   "execution_count": 232,
   "metadata": {},
   "outputs": [],
   "source": [
    "m.save(\"predict_sales_8E_21ER_27ER\") "
   ]
  },
  {
   "cell_type": "code",
   "execution_count": null,
   "metadata": {},
   "outputs": [],
   "source": [
    "m.load(\"predict_sales_8E_21ER_27ER\") "
   ]
  },
  {
   "cell_type": "code",
   "execution_count": 233,
   "metadata": {},
   "outputs": [
    {
     "data": {
      "application/vnd.jupyter.widget-view+json": {
       "model_id": "a6a49c4da3ba49dea7cbd43aebfda18c",
       "version_major": 2,
       "version_minor": 0
      },
      "text/plain": [
       "HBox(children=(IntProgress(value=0, description='Epoch', max=15), HTML(value='')))"
      ]
     },
     "metadata": {},
     "output_type": "display_data"
    },
    {
     "name": "stdout",
     "output_type": "stream",
     "text": [
      "epoch      trn_loss   val_loss   exp_rmse                                                                              \n",
      "    0      0.007878   0.004912   0.062644  \n",
      "    1      0.006889   0.004877   0.062056                                                                              \n",
      "    2      0.006957   0.004708   0.060373                                                                              \n",
      "    3      0.007154   0.004752   0.060973                                                                              \n",
      "    4      0.006819   0.004767   0.061224                                                                              \n",
      "    5      0.007551   0.004728   0.059705                                                                              \n",
      "    6      0.007403   0.004769   0.061237                                                                              \n",
      "    7      0.007569   0.0049     0.062735                                                                              \n",
      "    8      0.006932   0.004844   0.061957                                                                              \n",
      "    9      0.006929   0.004674   0.060397                                                                              \n",
      "    10     0.00751    0.004758   0.061409                                                                              \n",
      "    11     0.006705   0.004653   0.060099                                                                              \n",
      "    12     0.0073     0.004687   0.060501                                                                              \n",
      "    13     0.007937   0.004692   0.060719                                                                              \n",
      "    14     0.007046   0.004681   0.060548                                                                              \n"
     ]
    },
    {
     "data": {
      "text/plain": [
       "[array([0.00468]), 0.060548018789470116]"
      ]
     },
     "execution_count": 233,
     "metadata": {},
     "output_type": "execute_result"
    }
   ],
   "source": [
    "m.fit(lr, 2, cycle_len = 5, cycle_mult = 2, metrics=[exp_rmse])"
   ]
  },
  {
   "cell_type": "code",
   "execution_count": 234,
   "metadata": {},
   "outputs": [],
   "source": [
    "m.save(\"predict_sales_8E_21ER_36ER_15ER\") "
   ]
  },
  {
   "cell_type": "code",
   "execution_count": 235,
   "metadata": {},
   "outputs": [
    {
     "data": {
      "application/vnd.jupyter.widget-view+json": {
       "model_id": "0dc563eafee14031b71e43dd53b0b145",
       "version_major": 2,
       "version_minor": 0
      },
      "text/plain": [
       "HBox(children=(IntProgress(value=0, description='Epoch', max=18), HTML(value='')))"
      ]
     },
     "metadata": {},
     "output_type": "display_data"
    },
    {
     "name": "stdout",
     "output_type": "stream",
     "text": [
      "epoch      trn_loss   val_loss   exp_rmse                                                                              \n",
      "    0      0.007258   0.004802   0.06172   \n",
      "    1      0.007134   0.004738   0.060909                                                                              \n",
      "    2      0.007326   0.004769   0.061508                                                                              \n",
      "    3      0.007878   0.004591   0.05956                                                                               \n",
      "    4      0.006995   0.004675   0.060646                                                                              \n",
      "    5      0.007137   0.004652   0.060345                                                                              \n",
      "    6      0.006548   0.004897   0.063085                                                                              \n",
      "    7      0.007061   0.004701   0.061064                                                                              \n",
      "    8      0.007491   0.004544   0.058843                                                                              \n",
      "    9      0.00731    0.004691   0.06113                                                                               \n",
      "    10     0.00729    0.0047     0.060653                                                                              \n",
      "    11     0.006894   0.004665   0.060171                                                                              \n",
      "    12     0.006824   0.004528   0.059001                                                                              \n",
      "    13     0.006625   0.004578   0.05971                                                                               \n",
      "    14     0.007211   0.004558   0.059239                                                                              \n",
      "    15     0.006846   0.004576   0.059616                                                                              \n",
      "    16     0.006654   0.004611   0.060022                                                                              \n",
      "    17     0.007282   0.004597   0.059849                                                                              \n"
     ]
    },
    {
     "data": {
      "text/plain": [
       "[array([0.0046]), 0.059849499966171615]"
      ]
     },
     "execution_count": 235,
     "metadata": {},
     "output_type": "execute_result"
    }
   ],
   "source": [
    "m.fit(lr, 2, cycle_len = 6, cycle_mult = 2, metrics=[exp_rmse])"
   ]
  },
  {
   "cell_type": "code",
   "execution_count": 236,
   "metadata": {},
   "outputs": [],
   "source": [
    "m.save(\"predict_sales_8E_21ER_36ER_30ER\") "
   ]
  },
  {
   "cell_type": "code",
   "execution_count": 237,
   "metadata": {},
   "outputs": [
    {
     "data": {
      "application/vnd.jupyter.widget-view+json": {
       "model_id": "4f6b8733fdad48e283a19e6924ac4e3e",
       "version_major": 2,
       "version_minor": 0
      },
      "text/plain": [
       "HBox(children=(IntProgress(value=0, description='Epoch', max=21), HTML(value='')))"
      ]
     },
     "metadata": {},
     "output_type": "display_data"
    },
    {
     "name": "stdout",
     "output_type": "stream",
     "text": [
      "epoch      trn_loss   val_loss   exp_rmse                                                                              \n",
      "    0      0.007282   0.004559   0.059435  \n",
      "    1      0.007207   0.004524   0.059161                                                                              \n",
      "    2      0.006675   0.004582   0.059682                                                                              \n",
      "    3      0.00767    0.004511   0.058567                                                                              \n",
      "    4      0.007189   0.004584   0.059777                                                                              \n",
      "    5      0.006499   0.004541   0.058881                                                                              \n",
      "    6      0.006437   0.004606   0.059975                                                                              \n",
      "    7      0.006531   0.004571   0.059597                                                                              \n",
      "    8      0.006527   0.004568   0.059577                                                                              \n",
      "    9      0.006643   0.004513   0.058198                                                                              \n",
      "    10     0.006591   0.004603   0.060016                                                                              \n",
      "    11     0.006454   0.004545   0.059022                                                                              \n",
      "    12     0.006325   0.004675   0.060154                                                                              \n",
      "    13     0.006425   0.004693   0.060925                                                                              \n",
      "    14     0.00739    0.00455    0.059621                                                                              \n",
      "    15     0.006522   0.004606   0.060326                                                                              \n",
      "    16     0.00692    0.004546   0.059397                                                                              \n",
      "    17     0.006444   0.004576   0.059804                                                                              \n",
      "    18     0.006861   0.004516   0.059099                                                                              \n",
      "    19     0.006741   0.004541   0.059367                                                                              \n",
      "    20     0.007008   0.004528   0.059223                                                                              \n"
     ]
    },
    {
     "data": {
      "text/plain": [
       "[array([0.00453]), 0.05922335957844767]"
      ]
     },
     "execution_count": 237,
     "metadata": {},
     "output_type": "execute_result"
    }
   ],
   "source": [
    "m.fit(lr, 3, cycle_len = 3, cycle_mult = 2, metrics=[exp_rmse])"
   ]
  },
  {
   "cell_type": "code",
   "execution_count": 82,
   "metadata": {},
   "outputs": [],
   "source": [
    "lr = 1e-5"
   ]
  },
  {
   "cell_type": "code",
   "execution_count": 81,
   "metadata": {},
   "outputs": [],
   "source": [
    "m.load(\"predict_sales_8E_21ER_36ER_10ER\") "
   ]
  },
  {
   "cell_type": "code",
   "execution_count": 240,
   "metadata": {},
   "outputs": [
    {
     "data": {
      "application/vnd.jupyter.widget-view+json": {
       "model_id": "a5ae3fbbc360462e87fdc67e965d79de",
       "version_major": 2,
       "version_minor": 0
      },
      "text/plain": [
       "HBox(children=(IntProgress(value=0, description='Epoch', max=62), HTML(value='')))"
      ]
     },
     "metadata": {},
     "output_type": "display_data"
    },
    {
     "name": "stdout",
     "output_type": "stream",
     "text": [
      "epoch      trn_loss   val_loss   exp_rmse                                                                              \n",
      "    0      0.006643   0.004432   0.057992  \n",
      "    1      0.005929   0.004508   0.058954                                                                              \n",
      "    2      0.006267   0.004417   0.057664                                                                              \n",
      "    3      0.006676   0.004445   0.058325                                                                              \n",
      "    4      0.006796   0.004536   0.059229                                                                              \n",
      "    5      0.006622   0.004522   0.059134                                                                              \n",
      "    6      0.006748   0.004569   0.059609                                                                              \n",
      "    7      0.00645    0.004439   0.058056                                                                              \n",
      "    8      0.00682    0.004815   0.062396                                                                              \n",
      "    9      0.006352   0.00453    0.059073                                                                              \n",
      "    10     0.006436   0.004555   0.059556                                                                              \n",
      "    11     0.00671    0.004517   0.058999                                                                              \n",
      "    12     0.006453   0.004545   0.05933                                                                               \n",
      "    13     0.007031   0.004538   0.059252                                                                              \n",
      "    14     0.006912   0.004526   0.058894                                                                              \n",
      "    15     0.006939   0.004595   0.060141                                                                              \n",
      "    16     0.007182   0.004669   0.060447                                                                              \n",
      "    17     0.006687   0.004565   0.0594                                                                                \n",
      "    18     0.005973   0.004537   0.059156                                                                              \n",
      "    19     0.007082   0.004575   0.059341                                                                              \n",
      "    20     0.006414   0.004552   0.05923                                                                               \n",
      "    21     0.0063     0.004717   0.061189                                                                              \n",
      "    22     0.006182   0.004497   0.058541                                                                              \n",
      "    23     0.007123   0.004461   0.058029                                                                              \n",
      "    24     0.006616   0.004571   0.059293                                                                              \n",
      "    25     0.006319   0.004557   0.0595                                                                                \n",
      "    26     0.006696   0.00449    0.058596                                                                              \n",
      "    27     0.005826   0.004551   0.059316                                                                              \n",
      "    28     0.006746   0.004529   0.059085                                                                              \n",
      "    29     0.006197   0.004543   0.059258                                                                              \n",
      "    30     0.006914   0.004772   0.061663                                                                              \n",
      "    31     0.006473   0.004817   0.062391                                                                              \n",
      "    32     0.005977   0.004467   0.058185                                                                              \n",
      "    33     0.00608    0.004604   0.059414                                                                              \n",
      "    34     0.006571   0.004592   0.059555                                                                              \n",
      "    35     0.005933   0.004612   0.060042                                                                              \n",
      "    36     0.006582   0.004486   0.058296                                                                              \n",
      "    37     0.006271   0.004545   0.059086                                                                              \n",
      "    38     0.00639    0.004594   0.060037                                                                              \n",
      "    39     0.006579   0.004666   0.060498                                                                              \n",
      "    40     0.006596   0.004776   0.06165                                                                               \n",
      "    41     0.006248   0.004614   0.059796                                                                              \n",
      "    42     0.006177   0.0044     0.057294                                                                              \n",
      "    43     0.006393   0.004604   0.05972                                                                               \n",
      "    44     0.006474   0.004585   0.059519                                                                              \n",
      "    45     0.005992   0.004508   0.058804                                                                              \n",
      "    46     0.007378   0.004509   0.058741                                                                              \n",
      "    47     0.006681   0.004656   0.060271                                                                              \n",
      "    48     0.005784   0.004545   0.05934                                                                               \n",
      "    49     0.006453   0.004506   0.058361                                                                              \n",
      "    50     0.007058   0.004599   0.05991                                                                               \n",
      "    51     0.006602   0.004502   0.058865                                                                              \n",
      "    52     0.005902   0.004574   0.059526                                                                              \n",
      "    53     0.006722   0.004562   0.059189                                                                              \n",
      "    54     0.006158   0.004594   0.059744                                                                              \n",
      "    55     0.006574   0.004531   0.05891                                                                               \n",
      "    56     0.006776   0.004551   0.059297                                                                              \n",
      "    57     0.00596    0.004557   0.059269                                                                              \n",
      "    58     0.006336   0.004575   0.059503                                                                              \n",
      "    59     0.006877   0.004561   0.05933                                                                               \n",
      "    60     0.007214   0.004568   0.05941                                                                               \n",
      "    61     0.006408   0.004568   0.059415                                                                              \n"
     ]
    },
    {
     "data": {
      "text/plain": [
       "[array([0.00457]), 0.05941538455236232]"
      ]
     },
     "execution_count": 240,
     "metadata": {},
     "output_type": "execute_result"
    }
   ],
   "source": [
    "m.fit(lr, 5, cycle_len = 2, cycle_mult = 2, metrics=[exp_rmse])"
   ]
  },
  {
   "cell_type": "code",
   "execution_count": 241,
   "metadata": {},
   "outputs": [],
   "source": [
    "m.save(\"predict_sales_8E_21ER_36ER_10ER_6ER_61ER\") "
   ]
  },
  {
   "cell_type": "code",
   "execution_count": 242,
   "metadata": {},
   "outputs": [],
   "source": [
    "m.load(\"predict_sales_8E_21ER_36ER_10ER_6ER_61ER\") "
   ]
  },
  {
   "cell_type": "code",
   "execution_count": null,
   "metadata": {},
   "outputs": [],
   "source": [
    "# current best model: predict_sales_8E_21ER_36ER_10ER_6ER_61ER\n",
    "m.load(\"predict_sales_8E_21ER_36ER_10ER_6ER_61ER\") "
   ]
  },
  {
   "cell_type": "markdown",
   "metadata": {
    "colab_type": "text",
    "id": "bcM76DTEbB7x"
   },
   "source": [
    "# Test Set"
   ]
  },
  {
   "cell_type": "code",
   "execution_count": 243,
   "metadata": {
    "colab": {
     "base_uri": "https://localhost:8080/",
     "height": 34
    },
    "colab_type": "code",
    "executionInfo": {
     "elapsed": 757,
     "status": "ok",
     "timestamp": 1536680915786,
     "user": {
      "displayName": "Christian Unterrainer",
      "photoUrl": "https://lh3.googleusercontent.com/a/default-user=s128",
      "userId": "112087957608346378724"
     },
     "user_tz": -120
    },
    "id": "zIyChDKMbB7x",
    "outputId": "07d110d4-4b45-4eeb-eb3f-83a86a94573f"
   },
   "outputs": [
    {
     "data": {
      "text/plain": [
       "0.06758650454899645"
      ]
     },
     "execution_count": 243,
     "metadata": {},
     "output_type": "execute_result"
    }
   ],
   "source": [
    "x,y=m.predict_with_targs()\n",
    "x = torch.from_numpy(x)\n",
    "y = torch.from_numpy(y)\n",
    "exp_rmse(x,y)\n",
    "\n",
    "#pred_test=m.predict(True)"
   ]
  },
  {
   "cell_type": "code",
   "execution_count": 244,
   "metadata": {
    "colab": {
     "base_uri": "https://localhost:8080/",
     "height": 1217
    },
    "colab_type": "code",
    "executionInfo": {
     "elapsed": 399,
     "status": "error",
     "timestamp": 1536680923515,
     "user": {
      "displayName": "Christian Unterrainer",
      "photoUrl": "https://lh3.googleusercontent.com/a/default-user=s128",
      "userId": "112087957608346378724"
     },
     "user_tz": -120
    },
    "id": "P_AvZj50bB7y",
    "outputId": "77803258-af4b-4a9a-bb5a-06ab162b8c1e"
   },
   "outputs": [],
   "source": [
    "log_preds = m.predict(True)"
   ]
  },
  {
   "cell_type": "code",
   "execution_count": 245,
   "metadata": {
    "colab": {
     "base_uri": "https://localhost:8080/",
     "height": 163
    },
    "colab_type": "code",
    "executionInfo": {
     "elapsed": 540,
     "status": "error",
     "timestamp": 1536680919489,
     "user": {
      "displayName": "Christian Unterrainer",
      "photoUrl": "https://lh3.googleusercontent.com/a/default-user=s128",
      "userId": "112087957608346378724"
     },
     "user_tz": -120
    },
    "id": "Br2TReFwbB70",
    "outputId": "3a9a80bc-f121-4ca8-93c4-a23d202de612"
   },
   "outputs": [
    {
     "data": {
      "text/plain": [
       "array([[3.19691],\n",
       "       [3.18726],\n",
       "       [3.17644],\n",
       "       ...,\n",
       "       [3.31827],\n",
       "       [3.2001 ],\n",
       "       [3.19361]], dtype=float32)"
      ]
     },
     "execution_count": 245,
     "metadata": {},
     "output_type": "execute_result"
    }
   ],
   "source": [
    "log_preds"
   ]
  },
  {
   "cell_type": "code",
   "execution_count": 246,
   "metadata": {
    "colab": {},
    "colab_type": "code",
    "id": "59h8XPOdbB73"
   },
   "outputs": [],
   "source": [
    "log_test = np.exp(log_preds)"
   ]
  },
  {
   "cell_type": "code",
   "execution_count": 247,
   "metadata": {},
   "outputs": [
    {
     "data": {
      "text/plain": [
       "array([[24.45679],\n",
       "       [24.22189],\n",
       "       [23.96132],\n",
       "       ...,\n",
       "       [27.6125 ],\n",
       "       [24.53509],\n",
       "       [24.37627]], dtype=float32)"
      ]
     },
     "execution_count": 247,
     "metadata": {},
     "output_type": "execute_result"
    }
   ],
   "source": [
    "log_test"
   ]
  },
  {
   "cell_type": "code",
   "execution_count": 248,
   "metadata": {},
   "outputs": [],
   "source": [
    "log_test=log_test-23"
   ]
  },
  {
   "cell_type": "code",
   "execution_count": 249,
   "metadata": {},
   "outputs": [
    {
     "data": {
      "text/plain": [
       "array([[1.45679],\n",
       "       [1.22189],\n",
       "       [0.96132],\n",
       "       ...,\n",
       "       [4.6125 ],\n",
       "       [1.53509],\n",
       "       [1.37627]], dtype=float32)"
      ]
     },
     "execution_count": 249,
     "metadata": {},
     "output_type": "execute_result"
    }
   ],
   "source": [
    "log_test"
   ]
  },
  {
   "cell_type": "code",
   "execution_count": 250,
   "metadata": {},
   "outputs": [
    {
     "data": {
      "text/plain": [
       "(214200, 214200)"
      ]
     },
     "execution_count": 250,
     "metadata": {},
     "output_type": "execute_result"
    }
   ],
   "source": [
    "len(test), len(df_test)"
   ]
  },
  {
   "cell_type": "code",
   "execution_count": 251,
   "metadata": {
    "colab": {},
    "colab_type": "code",
    "id": "rpM6EzpbbB77"
   },
   "outputs": [],
   "source": [
    "test['item_cnt_month'] = log_test"
   ]
  },
  {
   "cell_type": "code",
   "execution_count": 252,
   "metadata": {
    "colab": {},
    "colab_type": "code",
    "id": "eZ-ES3TNbB8B",
    "scrolled": true
   },
   "outputs": [
    {
     "data": {
      "text/html": [
       "<div>\n",
       "<style scoped>\n",
       "    .dataframe tbody tr th:only-of-type {\n",
       "        vertical-align: middle;\n",
       "    }\n",
       "\n",
       "    .dataframe tbody tr th {\n",
       "        vertical-align: top;\n",
       "    }\n",
       "\n",
       "    .dataframe thead th {\n",
       "        text-align: right;\n",
       "    }\n",
       "</style>\n",
       "<table border=\"1\" class=\"dataframe\">\n",
       "  <thead>\n",
       "    <tr style=\"text-align: right;\">\n",
       "      <th></th>\n",
       "      <th>ID</th>\n",
       "      <th>shop_id</th>\n",
       "      <th>item_id</th>\n",
       "      <th>date_block_num</th>\n",
       "      <th>city_code</th>\n",
       "      <th>item_category_id</th>\n",
       "      <th>type_code</th>\n",
       "      <th>subtype_code</th>\n",
       "      <th>item_price</th>\n",
       "      <th>item_cnt_month</th>\n",
       "    </tr>\n",
       "  </thead>\n",
       "  <tbody>\n",
       "    <tr>\n",
       "      <th>0</th>\n",
       "      <td>0</td>\n",
       "      <td>5</td>\n",
       "      <td>5037</td>\n",
       "      <td>2015-01-01</td>\n",
       "      <td>3</td>\n",
       "      <td>19</td>\n",
       "      <td>5</td>\n",
       "      <td>10</td>\n",
       "      <td>1920.154628</td>\n",
       "      <td>1.456787</td>\n",
       "    </tr>\n",
       "    <tr>\n",
       "      <th>1</th>\n",
       "      <td>1</td>\n",
       "      <td>5</td>\n",
       "      <td>5320</td>\n",
       "      <td>2015-01-01</td>\n",
       "      <td>3</td>\n",
       "      <td>55</td>\n",
       "      <td>13</td>\n",
       "      <td>2</td>\n",
       "      <td>NaN</td>\n",
       "      <td>1.221891</td>\n",
       "    </tr>\n",
       "    <tr>\n",
       "      <th>2</th>\n",
       "      <td>2</td>\n",
       "      <td>5</td>\n",
       "      <td>5233</td>\n",
       "      <td>2015-01-01</td>\n",
       "      <td>3</td>\n",
       "      <td>19</td>\n",
       "      <td>5</td>\n",
       "      <td>10</td>\n",
       "      <td>845.070116</td>\n",
       "      <td>0.961317</td>\n",
       "    </tr>\n",
       "    <tr>\n",
       "      <th>3</th>\n",
       "      <td>3</td>\n",
       "      <td>5</td>\n",
       "      <td>5232</td>\n",
       "      <td>2015-01-01</td>\n",
       "      <td>3</td>\n",
       "      <td>23</td>\n",
       "      <td>5</td>\n",
       "      <td>16</td>\n",
       "      <td>791.506867</td>\n",
       "      <td>2.473574</td>\n",
       "    </tr>\n",
       "    <tr>\n",
       "      <th>4</th>\n",
       "      <td>4</td>\n",
       "      <td>5</td>\n",
       "      <td>5268</td>\n",
       "      <td>2015-01-01</td>\n",
       "      <td>3</td>\n",
       "      <td>20</td>\n",
       "      <td>5</td>\n",
       "      <td>11</td>\n",
       "      <td>NaN</td>\n",
       "      <td>1.127113</td>\n",
       "    </tr>\n",
       "  </tbody>\n",
       "</table>\n",
       "</div>"
      ],
      "text/plain": [
       "   ID  shop_id  item_id date_block_num  city_code  item_category_id  \\\n",
       "0   0        5     5037     2015-01-01          3                19   \n",
       "1   1        5     5320     2015-01-01          3                55   \n",
       "2   2        5     5233     2015-01-01          3                19   \n",
       "3   3        5     5232     2015-01-01          3                23   \n",
       "4   4        5     5268     2015-01-01          3                20   \n",
       "\n",
       "   type_code  subtype_code   item_price  item_cnt_month  \n",
       "0          5            10  1920.154628        1.456787  \n",
       "1         13             2          NaN        1.221891  \n",
       "2          5            10   845.070116        0.961317  \n",
       "3          5            16   791.506867        2.473574  \n",
       "4          5            11          NaN        1.127113  "
      ]
     },
     "execution_count": 252,
     "metadata": {},
     "output_type": "execute_result"
    }
   ],
   "source": [
    "test.head()"
   ]
  },
  {
   "cell_type": "code",
   "execution_count": 253,
   "metadata": {
    "colab": {},
    "colab_type": "code",
    "id": "x6zxzLF4bB8D"
   },
   "outputs": [],
   "source": [
    "csv_fn=f'{PATH}/result/submission.csv'\n",
    "\n",
    "test[['ID','item_cnt_month']].to_csv(csv_fn, index=False)"
   ]
  },
  {
   "cell_type": "code",
   "execution_count": 254,
   "metadata": {
    "colab": {},
    "colab_type": "code",
    "id": "ixQOmV-PbB8F",
    "scrolled": true
   },
   "outputs": [
    {
     "data": {
      "text/html": [
       "<div>\n",
       "<style scoped>\n",
       "    .dataframe tbody tr th:only-of-type {\n",
       "        vertical-align: middle;\n",
       "    }\n",
       "\n",
       "    .dataframe tbody tr th {\n",
       "        vertical-align: top;\n",
       "    }\n",
       "\n",
       "    .dataframe thead th {\n",
       "        text-align: right;\n",
       "    }\n",
       "</style>\n",
       "<table border=\"1\" class=\"dataframe\">\n",
       "  <thead>\n",
       "    <tr style=\"text-align: right;\">\n",
       "      <th></th>\n",
       "      <th>ID</th>\n",
       "      <th>item_cnt_month</th>\n",
       "    </tr>\n",
       "  </thead>\n",
       "  <tbody>\n",
       "    <tr>\n",
       "      <th>0</th>\n",
       "      <td>0</td>\n",
       "      <td>1.456787</td>\n",
       "    </tr>\n",
       "    <tr>\n",
       "      <th>1</th>\n",
       "      <td>1</td>\n",
       "      <td>1.221891</td>\n",
       "    </tr>\n",
       "    <tr>\n",
       "      <th>2</th>\n",
       "      <td>2</td>\n",
       "      <td>0.961317</td>\n",
       "    </tr>\n",
       "    <tr>\n",
       "      <th>3</th>\n",
       "      <td>3</td>\n",
       "      <td>2.473574</td>\n",
       "    </tr>\n",
       "    <tr>\n",
       "      <th>4</th>\n",
       "      <td>4</td>\n",
       "      <td>1.127113</td>\n",
       "    </tr>\n",
       "    <tr>\n",
       "      <th>5</th>\n",
       "      <td>5</td>\n",
       "      <td>1.235367</td>\n",
       "    </tr>\n",
       "    <tr>\n",
       "      <th>6</th>\n",
       "      <td>6</td>\n",
       "      <td>1.184078</td>\n",
       "    </tr>\n",
       "    <tr>\n",
       "      <th>7</th>\n",
       "      <td>7</td>\n",
       "      <td>1.855326</td>\n",
       "    </tr>\n",
       "    <tr>\n",
       "      <th>8</th>\n",
       "      <td>8</td>\n",
       "      <td>1.549616</td>\n",
       "    </tr>\n",
       "    <tr>\n",
       "      <th>9</th>\n",
       "      <td>9</td>\n",
       "      <td>2.360146</td>\n",
       "    </tr>\n",
       "    <tr>\n",
       "      <th>10</th>\n",
       "      <td>10</td>\n",
       "      <td>1.930891</td>\n",
       "    </tr>\n",
       "    <tr>\n",
       "      <th>11</th>\n",
       "      <td>11</td>\n",
       "      <td>1.687538</td>\n",
       "    </tr>\n",
       "    <tr>\n",
       "      <th>12</th>\n",
       "      <td>12</td>\n",
       "      <td>2.287640</td>\n",
       "    </tr>\n",
       "    <tr>\n",
       "      <th>13</th>\n",
       "      <td>13</td>\n",
       "      <td>1.866161</td>\n",
       "    </tr>\n",
       "    <tr>\n",
       "      <th>14</th>\n",
       "      <td>14</td>\n",
       "      <td>1.760178</td>\n",
       "    </tr>\n",
       "    <tr>\n",
       "      <th>15</th>\n",
       "      <td>15</td>\n",
       "      <td>1.600462</td>\n",
       "    </tr>\n",
       "    <tr>\n",
       "      <th>16</th>\n",
       "      <td>16</td>\n",
       "      <td>2.193869</td>\n",
       "    </tr>\n",
       "    <tr>\n",
       "      <th>17</th>\n",
       "      <td>17</td>\n",
       "      <td>1.835228</td>\n",
       "    </tr>\n",
       "    <tr>\n",
       "      <th>18</th>\n",
       "      <td>18</td>\n",
       "      <td>3.423742</td>\n",
       "    </tr>\n",
       "    <tr>\n",
       "      <th>19</th>\n",
       "      <td>19</td>\n",
       "      <td>2.323240</td>\n",
       "    </tr>\n",
       "    <tr>\n",
       "      <th>20</th>\n",
       "      <td>20</td>\n",
       "      <td>1.171476</td>\n",
       "    </tr>\n",
       "    <tr>\n",
       "      <th>21</th>\n",
       "      <td>21</td>\n",
       "      <td>2.089539</td>\n",
       "    </tr>\n",
       "    <tr>\n",
       "      <th>22</th>\n",
       "      <td>22</td>\n",
       "      <td>18.084034</td>\n",
       "    </tr>\n",
       "    <tr>\n",
       "      <th>23</th>\n",
       "      <td>23</td>\n",
       "      <td>2.140585</td>\n",
       "    </tr>\n",
       "    <tr>\n",
       "      <th>24</th>\n",
       "      <td>24</td>\n",
       "      <td>5.852495</td>\n",
       "    </tr>\n",
       "    <tr>\n",
       "      <th>25</th>\n",
       "      <td>25</td>\n",
       "      <td>0.726370</td>\n",
       "    </tr>\n",
       "    <tr>\n",
       "      <th>26</th>\n",
       "      <td>26</td>\n",
       "      <td>0.832378</td>\n",
       "    </tr>\n",
       "    <tr>\n",
       "      <th>27</th>\n",
       "      <td>27</td>\n",
       "      <td>0.908787</td>\n",
       "    </tr>\n",
       "    <tr>\n",
       "      <th>28</th>\n",
       "      <td>28</td>\n",
       "      <td>1.097904</td>\n",
       "    </tr>\n",
       "    <tr>\n",
       "      <th>29</th>\n",
       "      <td>29</td>\n",
       "      <td>1.916265</td>\n",
       "    </tr>\n",
       "    <tr>\n",
       "      <th>...</th>\n",
       "      <td>...</td>\n",
       "      <td>...</td>\n",
       "    </tr>\n",
       "    <tr>\n",
       "      <th>214170</th>\n",
       "      <td>214170</td>\n",
       "      <td>2.371527</td>\n",
       "    </tr>\n",
       "    <tr>\n",
       "      <th>214171</th>\n",
       "      <td>214171</td>\n",
       "      <td>4.015249</td>\n",
       "    </tr>\n",
       "    <tr>\n",
       "      <th>214172</th>\n",
       "      <td>214172</td>\n",
       "      <td>3.079147</td>\n",
       "    </tr>\n",
       "    <tr>\n",
       "      <th>214173</th>\n",
       "      <td>214173</td>\n",
       "      <td>3.783939</td>\n",
       "    </tr>\n",
       "    <tr>\n",
       "      <th>214174</th>\n",
       "      <td>214174</td>\n",
       "      <td>1.694313</td>\n",
       "    </tr>\n",
       "    <tr>\n",
       "      <th>214175</th>\n",
       "      <td>214175</td>\n",
       "      <td>1.047163</td>\n",
       "    </tr>\n",
       "    <tr>\n",
       "      <th>214176</th>\n",
       "      <td>214176</td>\n",
       "      <td>1.163998</td>\n",
       "    </tr>\n",
       "    <tr>\n",
       "      <th>214177</th>\n",
       "      <td>214177</td>\n",
       "      <td>1.077303</td>\n",
       "    </tr>\n",
       "    <tr>\n",
       "      <th>214178</th>\n",
       "      <td>214178</td>\n",
       "      <td>0.587406</td>\n",
       "    </tr>\n",
       "    <tr>\n",
       "      <th>214179</th>\n",
       "      <td>214179</td>\n",
       "      <td>1.227858</td>\n",
       "    </tr>\n",
       "    <tr>\n",
       "      <th>214180</th>\n",
       "      <td>214180</td>\n",
       "      <td>1.034880</td>\n",
       "    </tr>\n",
       "    <tr>\n",
       "      <th>214181</th>\n",
       "      <td>214181</td>\n",
       "      <td>1.338072</td>\n",
       "    </tr>\n",
       "    <tr>\n",
       "      <th>214182</th>\n",
       "      <td>214182</td>\n",
       "      <td>0.834293</td>\n",
       "    </tr>\n",
       "    <tr>\n",
       "      <th>214183</th>\n",
       "      <td>214183</td>\n",
       "      <td>1.296642</td>\n",
       "    </tr>\n",
       "    <tr>\n",
       "      <th>214184</th>\n",
       "      <td>214184</td>\n",
       "      <td>1.878721</td>\n",
       "    </tr>\n",
       "    <tr>\n",
       "      <th>214185</th>\n",
       "      <td>214185</td>\n",
       "      <td>0.858849</td>\n",
       "    </tr>\n",
       "    <tr>\n",
       "      <th>214186</th>\n",
       "      <td>214186</td>\n",
       "      <td>1.446358</td>\n",
       "    </tr>\n",
       "    <tr>\n",
       "      <th>214187</th>\n",
       "      <td>214187</td>\n",
       "      <td>1.456776</td>\n",
       "    </tr>\n",
       "    <tr>\n",
       "      <th>214188</th>\n",
       "      <td>214188</td>\n",
       "      <td>1.379398</td>\n",
       "    </tr>\n",
       "    <tr>\n",
       "      <th>214189</th>\n",
       "      <td>214189</td>\n",
       "      <td>1.110651</td>\n",
       "    </tr>\n",
       "    <tr>\n",
       "      <th>214190</th>\n",
       "      <td>214190</td>\n",
       "      <td>1.746103</td>\n",
       "    </tr>\n",
       "    <tr>\n",
       "      <th>214191</th>\n",
       "      <td>214191</td>\n",
       "      <td>1.826654</td>\n",
       "    </tr>\n",
       "    <tr>\n",
       "      <th>214192</th>\n",
       "      <td>214192</td>\n",
       "      <td>3.112484</td>\n",
       "    </tr>\n",
       "    <tr>\n",
       "      <th>214193</th>\n",
       "      <td>214193</td>\n",
       "      <td>2.854769</td>\n",
       "    </tr>\n",
       "    <tr>\n",
       "      <th>214194</th>\n",
       "      <td>214194</td>\n",
       "      <td>2.467337</td>\n",
       "    </tr>\n",
       "    <tr>\n",
       "      <th>214195</th>\n",
       "      <td>214195</td>\n",
       "      <td>3.312988</td>\n",
       "    </tr>\n",
       "    <tr>\n",
       "      <th>214196</th>\n",
       "      <td>214196</td>\n",
       "      <td>1.480841</td>\n",
       "    </tr>\n",
       "    <tr>\n",
       "      <th>214197</th>\n",
       "      <td>214197</td>\n",
       "      <td>4.612505</td>\n",
       "    </tr>\n",
       "    <tr>\n",
       "      <th>214198</th>\n",
       "      <td>214198</td>\n",
       "      <td>1.535093</td>\n",
       "    </tr>\n",
       "    <tr>\n",
       "      <th>214199</th>\n",
       "      <td>214199</td>\n",
       "      <td>1.376266</td>\n",
       "    </tr>\n",
       "  </tbody>\n",
       "</table>\n",
       "<p>214200 rows × 2 columns</p>\n",
       "</div>"
      ],
      "text/plain": [
       "            ID  item_cnt_month\n",
       "0            0        1.456787\n",
       "1            1        1.221891\n",
       "2            2        0.961317\n",
       "3            3        2.473574\n",
       "4            4        1.127113\n",
       "5            5        1.235367\n",
       "6            6        1.184078\n",
       "7            7        1.855326\n",
       "8            8        1.549616\n",
       "9            9        2.360146\n",
       "10          10        1.930891\n",
       "11          11        1.687538\n",
       "12          12        2.287640\n",
       "13          13        1.866161\n",
       "14          14        1.760178\n",
       "15          15        1.600462\n",
       "16          16        2.193869\n",
       "17          17        1.835228\n",
       "18          18        3.423742\n",
       "19          19        2.323240\n",
       "20          20        1.171476\n",
       "21          21        2.089539\n",
       "22          22       18.084034\n",
       "23          23        2.140585\n",
       "24          24        5.852495\n",
       "25          25        0.726370\n",
       "26          26        0.832378\n",
       "27          27        0.908787\n",
       "28          28        1.097904\n",
       "29          29        1.916265\n",
       "...        ...             ...\n",
       "214170  214170        2.371527\n",
       "214171  214171        4.015249\n",
       "214172  214172        3.079147\n",
       "214173  214173        3.783939\n",
       "214174  214174        1.694313\n",
       "214175  214175        1.047163\n",
       "214176  214176        1.163998\n",
       "214177  214177        1.077303\n",
       "214178  214178        0.587406\n",
       "214179  214179        1.227858\n",
       "214180  214180        1.034880\n",
       "214181  214181        1.338072\n",
       "214182  214182        0.834293\n",
       "214183  214183        1.296642\n",
       "214184  214184        1.878721\n",
       "214185  214185        0.858849\n",
       "214186  214186        1.446358\n",
       "214187  214187        1.456776\n",
       "214188  214188        1.379398\n",
       "214189  214189        1.110651\n",
       "214190  214190        1.746103\n",
       "214191  214191        1.826654\n",
       "214192  214192        3.112484\n",
       "214193  214193        2.854769\n",
       "214194  214194        2.467337\n",
       "214195  214195        3.312988\n",
       "214196  214196        1.480841\n",
       "214197  214197        4.612505\n",
       "214198  214198        1.535093\n",
       "214199  214199        1.376266\n",
       "\n",
       "[214200 rows x 2 columns]"
      ]
     },
     "execution_count": 254,
     "metadata": {},
     "output_type": "execute_result"
    }
   ],
   "source": [
    "test[['ID','item_cnt_month']]"
   ]
  },
  {
   "cell_type": "code",
   "execution_count": null,
   "metadata": {},
   "outputs": [],
   "source": []
  }
 ],
 "metadata": {
  "accelerator": "GPU",
  "colab": {
   "collapsed_sections": [],
   "name": "Predict Sales.ipynb",
   "provenance": [],
   "toc_visible": true,
   "version": "0.3.2"
  },
  "kernelspec": {
   "display_name": "Python 3",
   "language": "python",
   "name": "python3"
  },
  "language_info": {
   "codemirror_mode": {
    "name": "ipython",
    "version": 3
   },
   "file_extension": ".py",
   "mimetype": "text/x-python",
   "name": "python",
   "nbconvert_exporter": "python",
   "pygments_lexer": "ipython3",
   "version": "3.6.6"
  }
 },
 "nbformat": 4,
 "nbformat_minor": 1
}
