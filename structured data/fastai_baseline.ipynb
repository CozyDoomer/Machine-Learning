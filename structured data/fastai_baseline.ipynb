{
 "cells": [
  {
   "cell_type": "code",
   "execution_count": 1,
   "metadata": {
    "colab": {
     "base_uri": "https://localhost:8080/",
     "height": 2876
    },
    "colab_type": "code",
    "executionInfo": {
     "elapsed": 297189,
     "status": "ok",
     "timestamp": 1539171853670,
     "user": {
      "displayName": "christian Unterrainer",
      "photoUrl": "",
      "userId": "05048410547014894566"
     },
     "user_tz": -120
    },
    "id": "ahsp_3ssMfd8",
    "outputId": "12d13b86-af2e-427a-908a-885efc2bb898"
   },
   "outputs": [
    {
     "name": "stderr",
     "output_type": "stream",
     "text": [
      "C:\\Users\\chrun\\Anaconda3\\envs\\fastai\\lib\\site-packages\\sklearn\\ensemble\\weight_boosting.py:29: DeprecationWarning: numpy.core.umath_tests is an internal NumPy module and should not be imported. It will be removed in a future NumPy release.\n",
      "  from numpy.core.umath_tests import inner1d\n"
     ]
    }
   ],
   "source": [
    "import pandas as pd\n",
    "import numpy as np\n",
    "\n",
    "# For demonstration on google colab:\n",
    "#!pip3 install http://download.pytorch.org/whl/cu80/torch-0.3.0.post4-cp36-cp36m-linux_x86_64.whl \n",
    "#!pip3 install torchvision\n",
    "#!pip install torch \n",
    "#!pip install fastai==0.7.0\n",
    "\n",
    "from fastai.structured import *\n",
    "from fastai.column_data import *\n",
    "\n",
    "import warnings; warnings.simplefilter('ignore')"
   ]
  },
  {
   "cell_type": "code",
   "execution_count": 2,
   "metadata": {
    "colab": {
     "base_uri": "https://localhost:8080/",
     "height": 34
    },
    "colab_type": "code",
    "executionInfo": {
     "elapsed": 1335,
     "status": "ok",
     "timestamp": 1539171855050,
     "user": {
      "displayName": "christian Unterrainer",
      "photoUrl": "",
      "userId": "05048410547014894566"
     },
     "user_tz": -120
    },
    "id": "pcy3mk4LGTju",
    "outputId": "7c868ff0-3cf7-4207-9314-908600416449"
   },
   "outputs": [
    {
     "data": {
      "text/plain": [
       "True"
      ]
     },
     "execution_count": 2,
     "metadata": {},
     "output_type": "execute_result"
    }
   ],
   "source": [
    "torch.cuda.is_available()"
   ]
  },
  {
   "cell_type": "markdown",
   "metadata": {},
   "source": [
    "## Import data as pandas Dataframe"
   ]
  },
  {
   "cell_type": "code",
   "execution_count": 3,
   "metadata": {},
   "outputs": [],
   "source": [
    "#change this to your folder containing the csv files\n",
    "path = 'Store Item Demand Forecasting/data/'"
   ]
  },
  {
   "cell_type": "code",
   "execution_count": 4,
   "metadata": {
    "colab": {},
    "colab_type": "code",
    "id": "rdEUPbAzOJO5"
   },
   "outputs": [],
   "source": [
    "train = pd.read_csv(f'{path}train.csv')\n",
    "test = pd.read_csv(f'{path}test.csv')\n",
    "sub = pd.read_csv(f'{path}sample_submission.csv')"
   ]
  },
  {
   "cell_type": "code",
   "execution_count": 5,
   "metadata": {
    "colab": {
     "base_uri": "https://localhost:8080/",
     "height": 204
    },
    "colab_type": "code",
    "executionInfo": {
     "elapsed": 1498,
     "status": "ok",
     "timestamp": 1539171858790,
     "user": {
      "displayName": "christian Unterrainer",
      "photoUrl": "",
      "userId": "05048410547014894566"
     },
     "user_tz": -120
    },
    "id": "tbd3fvurOMiQ",
    "outputId": "d7a3b4e0-2ca4-4d0b-dd01-57c7e9ad6229"
   },
   "outputs": [
    {
     "data": {
      "text/html": [
       "<div>\n",
       "<style scoped>\n",
       "    .dataframe tbody tr th:only-of-type {\n",
       "        vertical-align: middle;\n",
       "    }\n",
       "\n",
       "    .dataframe tbody tr th {\n",
       "        vertical-align: top;\n",
       "    }\n",
       "\n",
       "    .dataframe thead th {\n",
       "        text-align: right;\n",
       "    }\n",
       "</style>\n",
       "<table border=\"1\" class=\"dataframe\">\n",
       "  <thead>\n",
       "    <tr style=\"text-align: right;\">\n",
       "      <th></th>\n",
       "      <th>date</th>\n",
       "      <th>store</th>\n",
       "      <th>item</th>\n",
       "      <th>sales</th>\n",
       "    </tr>\n",
       "  </thead>\n",
       "  <tbody>\n",
       "    <tr>\n",
       "      <th>0</th>\n",
       "      <td>2013-01-01</td>\n",
       "      <td>1</td>\n",
       "      <td>1</td>\n",
       "      <td>13</td>\n",
       "    </tr>\n",
       "    <tr>\n",
       "      <th>1</th>\n",
       "      <td>2013-01-02</td>\n",
       "      <td>1</td>\n",
       "      <td>1</td>\n",
       "      <td>11</td>\n",
       "    </tr>\n",
       "    <tr>\n",
       "      <th>2</th>\n",
       "      <td>2013-01-03</td>\n",
       "      <td>1</td>\n",
       "      <td>1</td>\n",
       "      <td>14</td>\n",
       "    </tr>\n",
       "    <tr>\n",
       "      <th>3</th>\n",
       "      <td>2013-01-04</td>\n",
       "      <td>1</td>\n",
       "      <td>1</td>\n",
       "      <td>13</td>\n",
       "    </tr>\n",
       "    <tr>\n",
       "      <th>4</th>\n",
       "      <td>2013-01-05</td>\n",
       "      <td>1</td>\n",
       "      <td>1</td>\n",
       "      <td>10</td>\n",
       "    </tr>\n",
       "  </tbody>\n",
       "</table>\n",
       "</div>"
      ],
      "text/plain": [
       "         date  store  item  sales\n",
       "0  2013-01-01      1     1     13\n",
       "1  2013-01-02      1     1     11\n",
       "2  2013-01-03      1     1     14\n",
       "3  2013-01-04      1     1     13\n",
       "4  2013-01-05      1     1     10"
      ]
     },
     "execution_count": 5,
     "metadata": {},
     "output_type": "execute_result"
    }
   ],
   "source": [
    "train.head()"
   ]
  },
  {
   "cell_type": "code",
   "execution_count": 6,
   "metadata": {
    "colab": {
     "base_uri": "https://localhost:8080/",
     "height": 204
    },
    "colab_type": "code",
    "executionInfo": {
     "elapsed": 1430,
     "status": "ok",
     "timestamp": 1539171860710,
     "user": {
      "displayName": "christian Unterrainer",
      "photoUrl": "",
      "userId": "05048410547014894566"
     },
     "user_tz": -120
    },
    "id": "m447_Sd_OPEG",
    "outputId": "65a71f1a-5c01-4807-d337-17ad5269c419"
   },
   "outputs": [
    {
     "data": {
      "text/html": [
       "<div>\n",
       "<style scoped>\n",
       "    .dataframe tbody tr th:only-of-type {\n",
       "        vertical-align: middle;\n",
       "    }\n",
       "\n",
       "    .dataframe tbody tr th {\n",
       "        vertical-align: top;\n",
       "    }\n",
       "\n",
       "    .dataframe thead th {\n",
       "        text-align: right;\n",
       "    }\n",
       "</style>\n",
       "<table border=\"1\" class=\"dataframe\">\n",
       "  <thead>\n",
       "    <tr style=\"text-align: right;\">\n",
       "      <th></th>\n",
       "      <th>id</th>\n",
       "      <th>date</th>\n",
       "      <th>store</th>\n",
       "      <th>item</th>\n",
       "    </tr>\n",
       "  </thead>\n",
       "  <tbody>\n",
       "    <tr>\n",
       "      <th>0</th>\n",
       "      <td>0</td>\n",
       "      <td>2018-01-01</td>\n",
       "      <td>1</td>\n",
       "      <td>1</td>\n",
       "    </tr>\n",
       "    <tr>\n",
       "      <th>1</th>\n",
       "      <td>1</td>\n",
       "      <td>2018-01-02</td>\n",
       "      <td>1</td>\n",
       "      <td>1</td>\n",
       "    </tr>\n",
       "    <tr>\n",
       "      <th>2</th>\n",
       "      <td>2</td>\n",
       "      <td>2018-01-03</td>\n",
       "      <td>1</td>\n",
       "      <td>1</td>\n",
       "    </tr>\n",
       "    <tr>\n",
       "      <th>3</th>\n",
       "      <td>3</td>\n",
       "      <td>2018-01-04</td>\n",
       "      <td>1</td>\n",
       "      <td>1</td>\n",
       "    </tr>\n",
       "    <tr>\n",
       "      <th>4</th>\n",
       "      <td>4</td>\n",
       "      <td>2018-01-05</td>\n",
       "      <td>1</td>\n",
       "      <td>1</td>\n",
       "    </tr>\n",
       "  </tbody>\n",
       "</table>\n",
       "</div>"
      ],
      "text/plain": [
       "   id        date  store  item\n",
       "0   0  2018-01-01      1     1\n",
       "1   1  2018-01-02      1     1\n",
       "2   2  2018-01-03      1     1\n",
       "3   3  2018-01-04      1     1\n",
       "4   4  2018-01-05      1     1"
      ]
     },
     "execution_count": 6,
     "metadata": {},
     "output_type": "execute_result"
    }
   ],
   "source": [
    "test.head()"
   ]
  },
  {
   "cell_type": "markdown",
   "metadata": {},
   "source": [
    "## I chose a very clean dataset for the baseline\n",
    "### Otherwise here is a good point to do data cleaning and feature engineering"
   ]
  },
  {
   "cell_type": "code",
   "execution_count": 7,
   "metadata": {
    "colab": {
     "base_uri": "https://localhost:8080/",
     "height": 190
    },
    "colab_type": "code",
    "executionInfo": {
     "elapsed": 1923,
     "status": "ok",
     "timestamp": 1539171863281,
     "user": {
      "displayName": "christian Unterrainer",
      "photoUrl": "",
      "userId": "05048410547014894566"
     },
     "user_tz": -120
    },
    "id": "FHkOK9TgOkIu",
    "outputId": "07dba15b-2dcd-4e3c-f972-922ea9735c3e"
   },
   "outputs": [
    {
     "data": {
      "text/plain": [
       "(date     0\n",
       " store    0\n",
       " item     0\n",
       " sales    0\n",
       " dtype: int64, date     0\n",
       " store    0\n",
       " item     0\n",
       " sales    0\n",
       " dtype: int64)"
      ]
     },
     "execution_count": 7,
     "metadata": {},
     "output_type": "execute_result"
    }
   ],
   "source": [
    "train.isnull().sum(), train.isna().sum()"
   ]
  },
  {
   "cell_type": "markdown",
   "metadata": {},
   "source": [
    "## Create date features\n",
    "### add_datepart is a fastai function that creates date features automatically"
   ]
  },
  {
   "cell_type": "code",
   "execution_count": 8,
   "metadata": {},
   "outputs": [],
   "source": [
    "for df in train, test:\n",
    "    df['date'] = pd.to_datetime(df['date'], infer_datetime_format=True) # format=\"%Y-%m-%d\""
   ]
  },
  {
   "cell_type": "code",
   "execution_count": 9,
   "metadata": {
    "colab": {
     "base_uri": "https://localhost:8080/",
     "height": 309
    },
    "colab_type": "code",
    "executionInfo": {
     "elapsed": 2371,
     "status": "ok",
     "timestamp": 1539171866649,
     "user": {
      "displayName": "christian Unterrainer",
      "photoUrl": "",
      "userId": "05048410547014894566"
     },
     "user_tz": -120
    },
    "id": "UbTPvmigOnNe",
    "outputId": "53b3038e-c205-4a9b-e974-80266ad30ef7"
   },
   "outputs": [
    {
     "data": {
      "text/html": [
       "<div>\n",
       "<style scoped>\n",
       "    .dataframe tbody tr th:only-of-type {\n",
       "        vertical-align: middle;\n",
       "    }\n",
       "\n",
       "    .dataframe tbody tr th {\n",
       "        vertical-align: top;\n",
       "    }\n",
       "\n",
       "    .dataframe thead th {\n",
       "        text-align: right;\n",
       "    }\n",
       "</style>\n",
       "<table border=\"1\" class=\"dataframe\">\n",
       "  <thead>\n",
       "    <tr style=\"text-align: right;\">\n",
       "      <th></th>\n",
       "      <th>date</th>\n",
       "      <th>store</th>\n",
       "      <th>item</th>\n",
       "      <th>sales</th>\n",
       "      <th>Year</th>\n",
       "      <th>Month</th>\n",
       "      <th>Week</th>\n",
       "      <th>Day</th>\n",
       "      <th>Dayofweek</th>\n",
       "      <th>Dayofyear</th>\n",
       "      <th>Is_month_end</th>\n",
       "      <th>Is_month_start</th>\n",
       "      <th>Is_quarter_end</th>\n",
       "      <th>Is_quarter_start</th>\n",
       "      <th>Is_year_end</th>\n",
       "      <th>Is_year_start</th>\n",
       "      <th>Elapsed</th>\n",
       "    </tr>\n",
       "  </thead>\n",
       "  <tbody>\n",
       "    <tr>\n",
       "      <th>0</th>\n",
       "      <td>2013-01-01</td>\n",
       "      <td>1</td>\n",
       "      <td>1</td>\n",
       "      <td>13</td>\n",
       "      <td>2013</td>\n",
       "      <td>1</td>\n",
       "      <td>1</td>\n",
       "      <td>1</td>\n",
       "      <td>1</td>\n",
       "      <td>1</td>\n",
       "      <td>False</td>\n",
       "      <td>True</td>\n",
       "      <td>False</td>\n",
       "      <td>True</td>\n",
       "      <td>False</td>\n",
       "      <td>True</td>\n",
       "      <td>1356998400</td>\n",
       "    </tr>\n",
       "    <tr>\n",
       "      <th>1</th>\n",
       "      <td>2013-01-02</td>\n",
       "      <td>1</td>\n",
       "      <td>1</td>\n",
       "      <td>11</td>\n",
       "      <td>2013</td>\n",
       "      <td>1</td>\n",
       "      <td>1</td>\n",
       "      <td>2</td>\n",
       "      <td>2</td>\n",
       "      <td>2</td>\n",
       "      <td>False</td>\n",
       "      <td>False</td>\n",
       "      <td>False</td>\n",
       "      <td>False</td>\n",
       "      <td>False</td>\n",
       "      <td>False</td>\n",
       "      <td>1357084800</td>\n",
       "    </tr>\n",
       "    <tr>\n",
       "      <th>2</th>\n",
       "      <td>2013-01-03</td>\n",
       "      <td>1</td>\n",
       "      <td>1</td>\n",
       "      <td>14</td>\n",
       "      <td>2013</td>\n",
       "      <td>1</td>\n",
       "      <td>1</td>\n",
       "      <td>3</td>\n",
       "      <td>3</td>\n",
       "      <td>3</td>\n",
       "      <td>False</td>\n",
       "      <td>False</td>\n",
       "      <td>False</td>\n",
       "      <td>False</td>\n",
       "      <td>False</td>\n",
       "      <td>False</td>\n",
       "      <td>1357171200</td>\n",
       "    </tr>\n",
       "    <tr>\n",
       "      <th>3</th>\n",
       "      <td>2013-01-04</td>\n",
       "      <td>1</td>\n",
       "      <td>1</td>\n",
       "      <td>13</td>\n",
       "      <td>2013</td>\n",
       "      <td>1</td>\n",
       "      <td>1</td>\n",
       "      <td>4</td>\n",
       "      <td>4</td>\n",
       "      <td>4</td>\n",
       "      <td>False</td>\n",
       "      <td>False</td>\n",
       "      <td>False</td>\n",
       "      <td>False</td>\n",
       "      <td>False</td>\n",
       "      <td>False</td>\n",
       "      <td>1357257600</td>\n",
       "    </tr>\n",
       "    <tr>\n",
       "      <th>4</th>\n",
       "      <td>2013-01-05</td>\n",
       "      <td>1</td>\n",
       "      <td>1</td>\n",
       "      <td>10</td>\n",
       "      <td>2013</td>\n",
       "      <td>1</td>\n",
       "      <td>1</td>\n",
       "      <td>5</td>\n",
       "      <td>5</td>\n",
       "      <td>5</td>\n",
       "      <td>False</td>\n",
       "      <td>False</td>\n",
       "      <td>False</td>\n",
       "      <td>False</td>\n",
       "      <td>False</td>\n",
       "      <td>False</td>\n",
       "      <td>1357344000</td>\n",
       "    </tr>\n",
       "  </tbody>\n",
       "</table>\n",
       "</div>"
      ],
      "text/plain": [
       "        date  store  item  sales  Year  Month  Week  Day  Dayofweek  \\\n",
       "0 2013-01-01      1     1     13  2013      1     1    1          1   \n",
       "1 2013-01-02      1     1     11  2013      1     1    2          2   \n",
       "2 2013-01-03      1     1     14  2013      1     1    3          3   \n",
       "3 2013-01-04      1     1     13  2013      1     1    4          4   \n",
       "4 2013-01-05      1     1     10  2013      1     1    5          5   \n",
       "\n",
       "   Dayofyear  Is_month_end  Is_month_start  Is_quarter_end  Is_quarter_start  \\\n",
       "0          1         False            True           False              True   \n",
       "1          2         False           False           False             False   \n",
       "2          3         False           False           False             False   \n",
       "3          4         False           False           False             False   \n",
       "4          5         False           False           False             False   \n",
       "\n",
       "   Is_year_end  Is_year_start     Elapsed  \n",
       "0        False           True  1356998400  \n",
       "1        False          False  1357084800  \n",
       "2        False          False  1357171200  \n",
       "3        False          False  1357257600  \n",
       "4        False          False  1357344000  "
      ]
     },
     "execution_count": 9,
     "metadata": {},
     "output_type": "execute_result"
    }
   ],
   "source": [
    "add_datepart(train, \"date\", drop=False)\n",
    "add_datepart(test, \"date\", drop=False)\n",
    "train.head()"
   ]
  },
  {
   "cell_type": "markdown",
   "metadata": {},
   "source": [
    "## Split columns into categorical/numerical for embedding matrices"
   ]
  },
  {
   "cell_type": "code",
   "execution_count": 10,
   "metadata": {
    "colab": {
     "base_uri": "https://localhost:8080/",
     "height": 88
    },
    "colab_type": "code",
    "executionInfo": {
     "elapsed": 2411,
     "status": "ok",
     "timestamp": 1539171869692,
     "user": {
      "displayName": "christian Unterrainer",
      "photoUrl": "",
      "userId": "05048410547014894566"
     },
     "user_tz": -120
    },
    "id": "q8cC1gaxOsC8",
    "outputId": "d639078d-0eba-436f-c85c-55b4d428e8df"
   },
   "outputs": [
    {
     "data": {
      "text/plain": [
       "['store',\n",
       " 'item',\n",
       " 'Year',\n",
       " 'Month',\n",
       " 'Week',\n",
       " 'Day',\n",
       " 'Dayofweek',\n",
       " 'Dayofyear',\n",
       " 'Is_month_end',\n",
       " 'Is_month_start',\n",
       " 'Is_quarter_end',\n",
       " 'Is_quarter_start',\n",
       " 'Is_year_end',\n",
       " 'Is_year_start']"
      ]
     },
     "execution_count": 10,
     "metadata": {},
     "output_type": "execute_result"
    }
   ],
   "source": [
    "target = 'sales'\n",
    "\n",
    "excluded_features = ['sales', 'date', 'Elapsed']\n",
    "\n",
    "cat_vars = [ _f for _f in train.columns if (_f not in excluded_features)]\n",
    "cat_vars"
   ]
  },
  {
   "cell_type": "code",
   "execution_count": 11,
   "metadata": {},
   "outputs": [],
   "source": [
    "for v in cat_vars: train[v] = train[v].astype('category').cat.as_ordered()\n",
    "apply_cats(test, train)"
   ]
  },
  {
   "cell_type": "code",
   "execution_count": 12,
   "metadata": {
    "colab": {},
    "colab_type": "code",
    "id": "GBV6C2k_O6sZ",
    "scrolled": true
   },
   "outputs": [],
   "source": [
    "train[target] = train[target].fillna(0).astype('float32')\n",
    "test['sales'] = 0\n",
    "test[target] = test[target].astype('float32')"
   ]
  },
  {
   "cell_type": "markdown",
   "metadata": {},
   "source": [
    "## Sort & set index by date (to get time series) and factorize dataframes with proc_df"
   ]
  },
  {
   "cell_type": "code",
   "execution_count": 13,
   "metadata": {
    "colab": {},
    "colab_type": "code",
    "id": "igF9vExWO9rP"
   },
   "outputs": [],
   "source": [
    "train = train.sort_values('date').set_index('date')\n",
    "test = test.sort_values('date').set_index('date')\n",
    "\n",
    "df, y, nas, mapper = proc_df(train, 'sales', do_scale=True)"
   ]
  },
  {
   "cell_type": "code",
   "execution_count": 14,
   "metadata": {
    "colab": {},
    "colab_type": "code",
    "id": "njfXG3FEO_pR"
   },
   "outputs": [],
   "source": [
    "\n",
    "df_test, _, nas, mapper = proc_df(test, 'sales', do_scale=True, skip_flds=['id'], mapper=mapper, na_dict=nas)"
   ]
  },
  {
   "cell_type": "code",
   "execution_count": 15,
   "metadata": {
    "colab": {
     "base_uri": "https://localhost:8080/",
     "height": 357
    },
    "colab_type": "code",
    "executionInfo": {
     "elapsed": 1603,
     "status": "ok",
     "timestamp": 1539171877893,
     "user": {
      "displayName": "christian Unterrainer",
      "photoUrl": "",
      "userId": "05048410547014894566"
     },
     "user_tz": -120
    },
    "id": "CqfSCXw4PDzM",
    "outputId": "605628bb-e48f-4a3a-bd3b-89ffa396a5f1"
   },
   "outputs": [
    {
     "name": "stdout",
     "output_type": "stream",
     "text": [
      "<class 'pandas.core.frame.DataFrame'>\n",
      "DatetimeIndex: 913000 entries, 2013-01-01 to 2017-12-31\n",
      "Data columns (total 15 columns):\n",
      "store               913000 non-null int8\n",
      "item                913000 non-null int8\n",
      "Year                913000 non-null int8\n",
      "Month               913000 non-null int8\n",
      "Week                913000 non-null int8\n",
      "Day                 913000 non-null int8\n",
      "Dayofweek           913000 non-null int8\n",
      "Dayofyear           913000 non-null int16\n",
      "Is_month_end        913000 non-null int8\n",
      "Is_month_start      913000 non-null int8\n",
      "Is_quarter_end      913000 non-null int8\n",
      "Is_quarter_start    913000 non-null int8\n",
      "Is_year_end         913000 non-null int8\n",
      "Is_year_start       913000 non-null int8\n",
      "Elapsed             913000 non-null float64\n",
      "dtypes: float64(1), int16(1), int8(13)\n",
      "memory usage: 47.0 MB\n"
     ]
    }
   ],
   "source": [
    "df.info()"
   ]
  },
  {
   "cell_type": "code",
   "execution_count": 16,
   "metadata": {
    "colab": {
     "base_uri": "https://localhost:8080/",
     "height": 357
    },
    "colab_type": "code",
    "executionInfo": {
     "elapsed": 1280,
     "status": "ok",
     "timestamp": 1539171879589,
     "user": {
      "displayName": "christian Unterrainer",
      "photoUrl": "",
      "userId": "05048410547014894566"
     },
     "user_tz": -120
    },
    "id": "EFf4E7PDPCJj",
    "outputId": "b5894358-b7b6-44bd-b752-22905afcc05f"
   },
   "outputs": [
    {
     "name": "stdout",
     "output_type": "stream",
     "text": [
      "<class 'pandas.core.frame.DataFrame'>\n",
      "DatetimeIndex: 45000 entries, 2018-01-01 to 2018-03-31\n",
      "Data columns (total 15 columns):\n",
      "store               45000 non-null int8\n",
      "item                45000 non-null int8\n",
      "Year                45000 non-null int8\n",
      "Month               45000 non-null int8\n",
      "Week                45000 non-null int8\n",
      "Day                 45000 non-null int8\n",
      "Dayofweek           45000 non-null int8\n",
      "Dayofyear           45000 non-null int16\n",
      "Is_month_end        45000 non-null int8\n",
      "Is_month_start      45000 non-null int8\n",
      "Is_quarter_end      45000 non-null int8\n",
      "Is_quarter_start    45000 non-null int8\n",
      "Is_year_end         45000 non-null int8\n",
      "Is_year_start       45000 non-null int8\n",
      "Elapsed             45000 non-null float64\n",
      "dtypes: float64(1), int16(1), int8(13)\n",
      "memory usage: 2.6 MB\n"
     ]
    }
   ],
   "source": [
    "df_test.info()"
   ]
  },
  {
   "cell_type": "markdown",
   "metadata": {},
   "source": [
    "## Create Validation set (3 months like test set)"
   ]
  },
  {
   "cell_type": "code",
   "execution_count": 17,
   "metadata": {
    "colab": {},
    "colab_type": "code",
    "id": "Uom5TTJkPFdc"
   },
   "outputs": [],
   "source": [
    "val_idx = np.flatnonzero((df.index<datetime.datetime(2018,1,1)) & (df.index>=datetime.datetime(2017,10,1)))"
   ]
  },
  {
   "cell_type": "markdown",
   "metadata": {},
   "source": [
    "## Prepare Metric and Target Variable"
   ]
  },
  {
   "cell_type": "code",
   "execution_count": 18,
   "metadata": {
    "colab": {},
    "colab_type": "code",
    "id": "F7GBRHQpPIPa"
   },
   "outputs": [],
   "source": [
    "def inv_y(a): return np.exp(a) - 1\n",
    "\n",
    "def smape(y_pred, targ):\n",
    "    targ = inv_y(targ)\n",
    "    pred = inv_y(y_pred)\n",
    "    ape = 2 * np.abs(pred - targ) / (np.abs(pred) + np.abs(targ))\n",
    "    return ape.mean() \n",
    "\n",
    "yl = np.log1p(y)\n",
    "max_log_y = np.max(yl)\n",
    "y_range = (0, max_log_y*1.2)"
   ]
  },
  {
   "cell_type": "markdown",
   "metadata": {},
   "source": [
    "## Create ColumnarModelData (fast.ai connection to pytorch)"
   ]
  },
  {
   "cell_type": "code",
   "execution_count": 19,
   "metadata": {
    "colab": {},
    "colab_type": "code",
    "id": "IK4FGZ53PKBF"
   },
   "outputs": [],
   "source": [
    "md = ColumnarModelData.from_data_frame(path, val_idx, df, yl.astype(np.float32), cat_flds=cat_vars, bs=256, test_df=df_test)"
   ]
  },
  {
   "cell_type": "markdown",
   "metadata": {},
   "source": [
    "## Calculate embedding matrix size for each categorical column"
   ]
  },
  {
   "cell_type": "code",
   "execution_count": 20,
   "metadata": {
    "colab": {
     "base_uri": "https://localhost:8080/",
     "height": 255
    },
    "colab_type": "code",
    "executionInfo": {
     "elapsed": 1702,
     "status": "ok",
     "timestamp": 1539171887994,
     "user": {
      "displayName": "christian Unterrainer",
      "photoUrl": "",
      "userId": "05048410547014894566"
     },
     "user_tz": -120
    },
    "id": "ZFNxSkRIPYyO",
    "outputId": "596eb2b1-c085-44f8-d12f-2abdde5e3e7c"
   },
   "outputs": [
    {
     "data": {
      "text/plain": [
       "[('store', 11),\n",
       " ('item', 51),\n",
       " ('Year', 6),\n",
       " ('Month', 13),\n",
       " ('Week', 54),\n",
       " ('Day', 32),\n",
       " ('Dayofweek', 8),\n",
       " ('Dayofyear', 367),\n",
       " ('Is_month_end', 3),\n",
       " ('Is_month_start', 3),\n",
       " ('Is_quarter_end', 3),\n",
       " ('Is_quarter_start', 3),\n",
       " ('Is_year_end', 3),\n",
       " ('Is_year_start', 3)]"
      ]
     },
     "execution_count": 20,
     "metadata": {},
     "output_type": "execute_result"
    }
   ],
   "source": [
    "cat_sz = [(c, len(train[c].cat.categories)+1) for c in cat_vars]\n",
    "cat_sz"
   ]
  },
  {
   "cell_type": "code",
   "execution_count": 21,
   "metadata": {
    "colab": {
     "base_uri": "https://localhost:8080/",
     "height": 255
    },
    "colab_type": "code",
    "executionInfo": {
     "elapsed": 1765,
     "status": "ok",
     "timestamp": 1539171890041,
     "user": {
      "displayName": "christian Unterrainer",
      "photoUrl": "",
      "userId": "05048410547014894566"
     },
     "user_tz": -120
    },
    "id": "TLqEfo5YPaDP",
    "outputId": "1aee9974-3c70-4719-b9ca-50e49a21612a"
   },
   "outputs": [
    {
     "data": {
      "text/plain": [
       "[(11, 6),\n",
       " (51, 26),\n",
       " (6, 3),\n",
       " (13, 7),\n",
       " (54, 27),\n",
       " (32, 16),\n",
       " (8, 4),\n",
       " (367, 50),\n",
       " (3, 2),\n",
       " (3, 2),\n",
       " (3, 2),\n",
       " (3, 2),\n",
       " (3, 2),\n",
       " (3, 2)]"
      ]
     },
     "execution_count": 21,
     "metadata": {},
     "output_type": "execute_result"
    }
   ],
   "source": [
    "emb_szs = [(c, min(50, (c+1)//2)) for _,c in cat_sz]\n",
    "emb_szs"
   ]
  },
  {
   "cell_type": "markdown",
   "metadata": {},
   "source": [
    "## Set pytorch model parameters "
   ]
  },
  {
   "cell_type": "code",
   "execution_count": 22,
   "metadata": {
    "colab": {},
    "colab_type": "code",
    "id": "bLPD44PgPbxh"
   },
   "outputs": [],
   "source": [
    "m = md.get_learner(emb_szs, len(df.columns)-len(cat_vars),\n",
    "                   0.04, 1, [1000,500], [0.001,0.01], y_range=y_range)"
   ]
  },
  {
   "cell_type": "markdown",
   "metadata": {},
   "source": [
    "## lr_find is a way to get a good learning rate \n",
    "### (take lr at the point it stops decreasing the loss)"
   ]
  },
  {
   "cell_type": "code",
   "execution_count": 23,
   "metadata": {
    "colab": {
     "base_uri": "https://localhost:8080/",
     "height": 51
    },
    "colab_type": "code",
    "executionInfo": {
     "elapsed": 79954,
     "status": "ok",
     "timestamp": 1539171975242,
     "user": {
      "displayName": "christian Unterrainer",
      "photoUrl": "",
      "userId": "05048410547014894566"
     },
     "user_tz": -120
    },
    "id": "OIsbeVfwPx2x",
    "outputId": "90f2721a-63d2-402a-e0b8-a3abb7599f2b"
   },
   "outputs": [
    {
     "data": {
      "application/vnd.jupyter.widget-view+json": {
       "model_id": "a4200f1aa4c54f7e82b2f90a6fb977a0",
       "version_major": 2,
       "version_minor": 0
      },
      "text/plain": [
       "HBox(children=(IntProgress(value=0, description='Epoch', max=1), HTML(value='')))"
      ]
     },
     "metadata": {},
     "output_type": "display_data"
    },
    {
     "name": "stdout",
     "output_type": "stream",
     "text": [
      "epoch      trn_loss   val_loss                                                                                         \n",
      "    0      0.031148   0.029559  \n",
      "\n"
     ]
    }
   ],
   "source": [
    "lr = 1e-3\n",
    "m.lr_find(end_lr = 1e-3)"
   ]
  },
  {
   "cell_type": "code",
   "execution_count": 24,
   "metadata": {
    "colab": {
     "base_uri": "https://localhost:8080/",
     "height": 365
    },
    "colab_type": "code",
    "executionInfo": {
     "elapsed": 2164,
     "status": "ok",
     "timestamp": 1539171977447,
     "user": {
      "displayName": "christian Unterrainer",
      "photoUrl": "",
      "userId": "05048410547014894566"
     },
     "user_tz": -120
    },
    "id": "doiZDXnSPzcm",
    "outputId": "46ca1113-9720-4d74-fbdd-5c3b6d1a65de"
   },
   "outputs": [
    {
     "data": {
      "image/png": "[encoded data removed]",
      "text/plain": [
       "<Figure size 432x288 with 1 Axes>"
      ]
     },
     "metadata": {
      "needs_background": "light"
     },
     "output_type": "display_data"
    }
   ],
   "source": [
    "m.sched.plot()"
   ]
  },
  {
   "cell_type": "code",
   "execution_count": 25,
   "metadata": {
    "colab": {},
    "colab_type": "code",
    "id": "AJBtTP8dBRRW"
   },
   "outputs": [],
   "source": [
    "lr = 2e-5 #1e-5"
   ]
  },
  {
   "cell_type": "markdown",
   "metadata": {},
   "source": [
    "## Fitting the model"
   ]
  },
  {
   "cell_type": "code",
   "execution_count": 26,
   "metadata": {
    "colab": {
     "base_uri": "https://localhost:8080/",
     "height": 51
    },
    "colab_type": "code",
    "id": "kezjOmlLP1Wl",
    "outputId": "bf1b06d7-aaee-4b21-893a-f923e077c1a2"
   },
   "outputs": [
    {
     "data": {
      "application/vnd.jupyter.widget-view+json": {
       "model_id": "0c643055925d45ddbdf94c0bb06e917c",
       "version_major": 2,
       "version_minor": 0
      },
      "text/plain": [
       "HBox(children=(IntProgress(value=0, description='Epoch', max=3), HTML(value='')))"
      ]
     },
     "metadata": {},
     "output_type": "display_data"
    },
    {
     "name": "stdout",
     "output_type": "stream",
     "text": [
      "epoch      trn_loss   val_loss   smape                                                                                 \n",
      "    0      0.036609   0.028372   0.132329  \n",
      "    1      0.033306   0.026464   0.127767                                                                              \n",
      "    2      0.033104   0.02628    0.127319                                                                              \n",
      "\n"
     ]
    },
    {
     "data": {
      "text/plain": [
       "[0.026280424126464388, 0.12731917667388917]"
      ]
     },
     "execution_count": 26,
     "metadata": {},
     "output_type": "execute_result"
    }
   ],
   "source": [
    "m.fit(lr, 1, cycle_len=3, metrics=[smape])"
   ]
  },
  {
   "cell_type": "code",
   "execution_count": 27,
   "metadata": {
    "colab": {},
    "colab_type": "code",
    "id": "6BRWbtl0DPsr"
   },
   "outputs": [],
   "source": [
    "m.save('item_revenue_E3')"
   ]
  },
  {
   "cell_type": "code",
   "execution_count": 28,
   "metadata": {
    "colab": {
     "base_uri": "https://localhost:8080/",
     "height": 204
    },
    "colab_type": "code",
    "executionInfo": {
     "elapsed": 1138451,
     "status": "ok",
     "timestamp": 1539119829817,
     "user": {
      "displayName": "christian Unterrainer",
      "photoUrl": "",
      "userId": "05048410547014894566"
     },
     "user_tz": -120
    },
    "id": "cM1tWieJBUYf",
    "outputId": "c2a4e32c-51c1-4ad9-df6d-370a2140ae9e"
   },
   "outputs": [
    {
     "data": {
      "application/vnd.jupyter.widget-view+json": {
       "model_id": "d6e5ec7803404f7bb9f72649e2b57064",
       "version_major": 2,
       "version_minor": 0
      },
      "text/plain": [
       "HBox(children=(IntProgress(value=0, description='Epoch', max=8), HTML(value='')))"
      ]
     },
     "metadata": {},
     "output_type": "display_data"
    },
    {
     "name": "stdout",
     "output_type": "stream",
     "text": [
      "epoch      trn_loss   val_loss   smape                                                                                 \n",
      "    0      0.031813   0.025728   0.126074  \n",
      "    1      0.03145    0.025577   0.125834                                                                              \n",
      "    2      0.029503   0.025326   0.12481                                                                               \n",
      "    3      0.029902   0.025267   0.124856                                                                              \n",
      "    4      0.029392   0.025131   0.124795                                                                              \n",
      "    5      0.028354   0.025099   0.124374                                                                              \n",
      "    6      0.029235   0.025067   0.124719                                                                              \n",
      "    7      0.029087   0.025051   0.124558                                                                              \n",
      "\n"
     ]
    },
    {
     "data": {
      "text/plain": [
       "[0.02505077553378499, 0.12455774027886599]"
      ]
     },
     "execution_count": 28,
     "metadata": {},
     "output_type": "execute_result"
    }
   ],
   "source": [
    "m.fit(lr, 2, cycle_len=2, cycle_mult=3, metrics=[smape])"
   ]
  },
  {
   "cell_type": "code",
   "execution_count": 29,
   "metadata": {
    "colab": {},
    "colab_type": "code",
    "id": "7peL67PsBUy0"
   },
   "outputs": [],
   "source": [
    "m.save('item_revenue_3E8ER')"
   ]
  },
  {
   "cell_type": "code",
   "execution_count": 30,
   "metadata": {},
   "outputs": [
    {
     "data": {
      "application/vnd.jupyter.widget-view+json": {
       "model_id": "a30a210010d3477bade2141317655ad6",
       "version_major": 2,
       "version_minor": 0
      },
      "text/plain": [
       "HBox(children=(IntProgress(value=0, description='Epoch', max=6), HTML(value='')))"
      ]
     },
     "metadata": {},
     "output_type": "display_data"
    },
    {
     "name": "stdout",
     "output_type": "stream",
     "text": [
      "epoch      trn_loss   val_loss   smape                                                                                 \n",
      "    0      0.029176   0.025135   0.125176  \n",
      "    1      0.028489   0.02496    0.124296                                                                              \n",
      "    2      0.028828   0.024999   0.124591                                                                              \n",
      "    3      0.028367   0.02505    0.124696                                                                              \n",
      "    4      0.028128   0.024849   0.123716                                                                              \n",
      "    5      0.028354   0.02487    0.124084                                                                              \n",
      "\n"
     ]
    },
    {
     "data": {
      "text/plain": [
       "[0.024870385412936624, 0.12408423715052397]"
      ]
     },
     "execution_count": 30,
     "metadata": {},
     "output_type": "execute_result"
    }
   ],
   "source": [
    "m.fit(lr, 2, cycle_len=2, cycle_mult=2, metrics=[smape])"
   ]
  },
  {
   "cell_type": "code",
   "execution_count": 31,
   "metadata": {},
   "outputs": [],
   "source": [
    "m.save('item_revenue_3E8ER6ER')"
   ]
  },
  {
   "cell_type": "code",
   "execution_count": 32,
   "metadata": {
    "colab": {},
    "colab_type": "code",
    "id": "tHLcYEpVU2Xd"
   },
   "outputs": [],
   "source": [
    "x,y=m.predict_with_targs()"
   ]
  },
  {
   "cell_type": "code",
   "execution_count": 33,
   "metadata": {
    "colab": {},
    "colab_type": "code",
    "id": "U979_I9xU66E"
   },
   "outputs": [
    {
     "data": {
      "text/plain": [
       "0.12408424"
      ]
     },
     "execution_count": 33,
     "metadata": {},
     "output_type": "execute_result"
    }
   ],
   "source": [
    "smape(x, y)"
   ]
  },
  {
   "cell_type": "code",
   "execution_count": 34,
   "metadata": {
    "colab": {
     "base_uri": "https://localhost:8080/",
     "height": 197
    },
    "colab_type": "code",
    "executionInfo": {
     "elapsed": 1341,
     "status": "error",
     "timestamp": 1539171552073,
     "user": {
      "displayName": "christian Unterrainer",
      "photoUrl": "",
      "userId": "05048410547014894566"
     },
     "user_tz": -120
    },
    "id": "wsnlr_vGU8re",
    "outputId": "946d94a2-4e7c-4646-8f88-0bcca3fcf74b"
   },
   "outputs": [
    {
     "data": {
      "text/plain": [
       "47.50325"
      ]
     },
     "execution_count": 34,
     "metadata": {},
     "output_type": "execute_result"
    }
   ],
   "source": [
    "pred_test=m.predict(True)\n",
    "pred_test=np.expm1(pred_test)\n",
    "pred_test.mean()"
   ]
  },
  {
   "cell_type": "code",
   "execution_count": 35,
   "metadata": {
    "colab": {},
    "colab_type": "code",
    "id": "fW3CJExaU9_G"
   },
   "outputs": [],
   "source": [
    "sub['sales'] = pred_test\n",
    "sub.to_csv(f'{path}sub_fastai_baseline.csv', index=False)"
   ]
  }
 ],
 "metadata": {
  "accelerator": "GPU",
  "colab": {
   "collapsed_sections": [],
   "name": "fastai_baseline.ipynb",
   "provenance": [],
   "toc_visible": true,
   "version": "0.3.2"
  },
  "kernelspec": {
   "display_name": "Python 3",
   "language": "python",
   "name": "python3"
  },
  "language_info": {
   "codemirror_mode": {
    "name": "ipython",
    "version": 3
   },
   "file_extension": ".py",
   "mimetype": "text/x-python",
   "name": "python",
   "nbconvert_exporter": "python",
   "pygments_lexer": "ipython3",
   "version": "3.6.6"
  }
 },
 "nbformat": 4,
 "nbformat_minor": 1
}
