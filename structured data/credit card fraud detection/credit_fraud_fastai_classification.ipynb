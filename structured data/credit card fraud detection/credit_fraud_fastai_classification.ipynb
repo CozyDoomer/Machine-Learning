{
 "cells": [
  {
   "cell_type": "code",
   "execution_count": 1,
   "metadata": {
    "colab": {
     "base_uri": "https://localhost:8080/",
     "height": 68
    },
    "colab_type": "code",
    "executionInfo": {
     "elapsed": 599,
     "status": "ok",
     "timestamp": 1536677614291,
     "user": {
      "displayName": "Christian Unterrainer",
      "photoUrl": "https://lh3.googleusercontent.com/a/default-user=s128",
      "userId": "112087957608346378724"
     },
     "user_tz": -120
    },
    "id": "KfsuHRawNcHm",
    "outputId": "0e24f920-57da-4edd-87a1-c630d58af33d"
   },
   "outputs": [
    {
     "name": "stdout",
     "output_type": "stream",
     "text": [
      "3.6.6 | packaged by conda-forge | (default, Jul 26 2018, 11:48:23) [MSC v.1900 64 bit (AMD64)]\n"
     ]
    },
    {
     "data": {
      "text/plain": [
       "'C:\\\\Users\\\\chrun\\\\Documents\\\\Projects\\\\Deep Learning\\\\structured data\\\\credit card fraud detection'"
      ]
     },
     "execution_count": 1,
     "metadata": {},
     "output_type": "execute_result"
    }
   ],
   "source": [
    "import sys\n",
    "print(sys.version)\n",
    "%pwd"
   ]
  },
  {
   "cell_type": "code",
   "execution_count": 2,
   "metadata": {
    "colab": {},
    "colab_type": "code",
    "id": "p7ZNwX_4GtR_"
   },
   "outputs": [
    {
     "name": "stderr",
     "output_type": "stream",
     "text": [
      "C:\\Users\\chrun\\Anaconda3\\envs\\fastai\\lib\\site-packages\\sklearn\\ensemble\\weight_boosting.py:29: DeprecationWarning: numpy.core.umath_tests is an internal NumPy module and should not be imported. It will be removed in a future NumPy release.\n",
      "  from numpy.core.umath_tests import inner1d\n"
     ]
    }
   ],
   "source": [
    "from fastai.structured import *\n",
    "from fastai.column_data import *\n",
    "\n",
    "from sklearn.model_selection import train_test_split\n",
    "\n",
    "from sklearn.metrics import precision_score, recall_score, precision_recall_curve, accuracy_score, roc_auc_score, fbeta_score\n",
    "\n",
    "pd.options.mode.chained_assignment = None"
   ]
  },
  {
   "cell_type": "code",
   "execution_count": 3,
   "metadata": {},
   "outputs": [
    {
     "name": "stdout",
     "output_type": "stream",
     "text": [
      "0.4.0\n"
     ]
    }
   ],
   "source": [
    "print(torch.__version__)"
   ]
  },
  {
   "cell_type": "code",
   "execution_count": 4,
   "metadata": {
    "colab": {},
    "colab_type": "code",
    "id": "ykz5FZmRMFej"
   },
   "outputs": [],
   "source": [
    "PATH = 'data/'"
   ]
  },
  {
   "cell_type": "code",
   "execution_count": 5,
   "metadata": {
    "colab": {
     "base_uri": "https://localhost:8080/",
     "height": 204
    },
    "colab_type": "code",
    "executionInfo": {
     "elapsed": 586,
     "status": "ok",
     "timestamp": 1536677645265,
     "user": {
      "displayName": "Christian Unterrainer",
      "photoUrl": "https://lh3.googleusercontent.com/a/default-user=s128",
      "userId": "112087957608346378724"
     },
     "user_tz": -120
    },
    "id": "h0BYbENaojSC",
    "outputId": "2cfaf81c-7036-4920-8fc9-48d5081fd34e"
   },
   "outputs": [],
   "source": [
    "whole_data = pd.read_csv(PATH + 'creditcard.csv')"
   ]
  },
  {
   "cell_type": "code",
   "execution_count": 6,
   "metadata": {},
   "outputs": [
    {
     "data": {
      "text/plain": [
       "(284807, 492, 0.1727485630620034)"
      ]
     },
     "execution_count": 6,
     "metadata": {},
     "output_type": "execute_result"
    }
   ],
   "source": [
    "len(whole_data), len(whole_data[whole_data.Class > 0]), len(whole_data[whole_data.Class > 0]) / len(whole_data) * 100"
   ]
  },
  {
   "cell_type": "code",
   "execution_count": 7,
   "metadata": {},
   "outputs": [],
   "source": [
    "whole_data['time'] = whole_data.Time.apply(lambda x: \\\n",
    "                     datetime.datetime.strptime('01/09/13 00:00:00', \"%d/%m/%y %H:%M:%S\") + datetime.timedelta(seconds=x))\n",
    "whole_data.drop('Time', axis=1, inplace=True)"
   ]
  },
  {
   "cell_type": "markdown",
   "metadata": {},
   "source": [
    "# split train test"
   ]
  },
  {
   "cell_type": "code",
   "execution_count": 8,
   "metadata": {},
   "outputs": [],
   "source": [
    "test = whole_data.iloc[get_cv_idxs(len(whole_data), val_pct=0.2)]"
   ]
  },
  {
   "cell_type": "code",
   "execution_count": 9,
   "metadata": {},
   "outputs": [],
   "source": [
    "train = whole_data.drop(test.index)"
   ]
  },
  {
   "cell_type": "code",
   "execution_count": 10,
   "metadata": {},
   "outputs": [
    {
     "data": {
      "text/plain": [
       "(227846, 56961)"
      ]
     },
     "execution_count": 10,
     "metadata": {},
     "output_type": "execute_result"
    }
   ],
   "source": [
    "len(train), len(test)"
   ]
  },
  {
   "cell_type": "code",
   "execution_count": 11,
   "metadata": {},
   "outputs": [
    {
     "data": {
      "text/plain": [
       "(0.1729238169640898, 0.17204754130018785)"
      ]
     },
     "execution_count": 11,
     "metadata": {},
     "output_type": "execute_result"
    }
   ],
   "source": [
    "len(train[train.Class > 0]) / len(train) * 100, len(test[test.Class > 0]) / len(test) * 100"
   ]
  },
  {
   "cell_type": "code",
   "execution_count": 12,
   "metadata": {},
   "outputs": [],
   "source": [
    "add_datepart(train, 'time', drop=False, time=True)"
   ]
  },
  {
   "cell_type": "code",
   "execution_count": 13,
   "metadata": {},
   "outputs": [],
   "source": [
    "add_datepart(test, 'time', drop=False, time=True)"
   ]
  },
  {
   "cell_type": "code",
   "execution_count": 14,
   "metadata": {},
   "outputs": [],
   "source": [
    "for df in train, test:\n",
    "    add_datepart(df, 'time', drop=False, time=True)\n",
    "    singular = df.nunique(axis=0, dropna=False)    \n",
    "    df.drop(singular[singular == 1].index.tolist() + ['timeElapsed'], axis=1, inplace=True)"
   ]
  },
  {
   "cell_type": "code",
   "execution_count": 15,
   "metadata": {},
   "outputs": [
    {
     "data": {
      "text/plain": [
       "(39, 39)"
      ]
     },
     "execution_count": 15,
     "metadata": {},
     "output_type": "execute_result"
    }
   ],
   "source": [
    "len(train.columns), len(test.columns)"
   ]
  },
  {
   "cell_type": "code",
   "execution_count": 16,
   "metadata": {
    "colab": {
     "base_uri": "https://localhost:8080/",
     "height": 34
    },
    "colab_type": "code",
    "executionInfo": {
     "elapsed": 667,
     "status": "ok",
     "timestamp": 1536679411437,
     "user": {
      "displayName": "Christian Unterrainer",
      "photoUrl": "https://lh3.googleusercontent.com/a/default-user=s128",
      "userId": "112087957608346378724"
     },
     "user_tz": -120
    },
    "id": "brsblieyHGr_",
    "outputId": "684c98f7-21f5-4dde-e2c8-6ef6dfe887b2"
   },
   "outputs": [],
   "source": [
    "excluded_cols = ['time', 'Class']\n",
    "\n",
    "contin_cols = [f_ for f_ in train.columns if train[f_].dtype == 'float64']\n",
    "\n",
    "cat_cols = [f_ for f_ in train.columns if( f_ not in excluded_cols) & (f_ not in contin_cols)]"
   ]
  },
  {
   "cell_type": "code",
   "execution_count": 17,
   "metadata": {},
   "outputs": [
    {
     "data": {
      "text/plain": [
       "(37, 37)"
      ]
     },
     "execution_count": 17,
     "metadata": {},
     "output_type": "execute_result"
    }
   ],
   "source": [
    "len(cat_cols) + len(contin_cols), len(train.columns) - len(excluded_cols)"
   ]
  },
  {
   "cell_type": "code",
   "execution_count": 18,
   "metadata": {
    "colab": {},
    "colab_type": "code",
    "id": "AixiVoShHGsA"
   },
   "outputs": [],
   "source": [
    "dep = 'Class'\n",
    "train_df = train[cat_cols + contin_cols + [dep, 'time']].copy()"
   ]
  },
  {
   "cell_type": "code",
   "execution_count": 19,
   "metadata": {
    "colab": {},
    "colab_type": "code",
    "id": "-6y6ynhvHGsC"
   },
   "outputs": [],
   "source": [
    "test_df = test[cat_cols + contin_cols + [dep, 'time']].copy()"
   ]
  },
  {
   "cell_type": "code",
   "execution_count": 20,
   "metadata": {
    "colab": {},
    "colab_type": "code",
    "id": "3dikGf3-bB5j"
   },
   "outputs": [],
   "source": [
    "for v in cat_cols: train_df[v] = train_df[v].astype('category').cat.as_ordered()\n",
    "apply_cats(test_df, train_df)"
   ]
  },
  {
   "cell_type": "code",
   "execution_count": 21,
   "metadata": {
    "colab": {},
    "colab_type": "code",
    "id": "jGCNjZno7vR_"
   },
   "outputs": [],
   "source": [
    "#imputer = Imputer()\n",
    "#values = train_df[contin_vars].values\n",
    "#train_df[contin_vars] = imputer.fit_transform(train_df[contin_vars])\n",
    "#values = test_df[contin_vars].values\n",
    "#test_df[contin_vars] = imputer.fit_transform(test_df[contin_vars])\n",
    "\n",
    "for v in contin_cols:\n",
    "    train_df[v] = train_df[v].fillna(0).astype('float32')\n",
    "    test_df[v] = test_df[v].fillna(0).astype('float32')\n",
    "    \n",
    "train_df[dep] = train_df[dep].astype('int8')\n",
    "test_df[dep] = test_df[dep].astype('int8')"
   ]
  },
  {
   "cell_type": "code",
   "execution_count": 22,
   "metadata": {
    "colab": {},
    "colab_type": "code",
    "id": "kj6iTdi_bB59"
   },
   "outputs": [],
   "source": [
    "train_indexed = train_df.set_index(\"time\")"
   ]
  },
  {
   "cell_type": "code",
   "execution_count": 23,
   "metadata": {
    "colab": {},
    "colab_type": "code",
    "id": "-WrEuPevbB5_"
   },
   "outputs": [],
   "source": [
    "df, y, nas, mapper = proc_df(train_indexed, 'Class', do_scale=True)"
   ]
  },
  {
   "cell_type": "code",
   "execution_count": 24,
   "metadata": {
    "colab": {},
    "colab_type": "code",
    "id": "kJyb7ilu9UHb"
   },
   "outputs": [],
   "source": [
    "test_indexed = test_df.set_index(\"time\")"
   ]
  },
  {
   "cell_type": "code",
   "execution_count": 25,
   "metadata": {
    "colab": {},
    "colab_type": "code",
    "id": "SHelTukpr5jL"
   },
   "outputs": [],
   "source": [
    "df_test, test_y, nas, mapper = proc_df(test_indexed, 'Class', do_scale=True, mapper=mapper, na_dict=nas)"
   ]
  },
  {
   "cell_type": "code",
   "execution_count": 26,
   "metadata": {},
   "outputs": [
    {
     "data": {
      "text/plain": [
       "(227846, 56961)"
      ]
     },
     "execution_count": 26,
     "metadata": {},
     "output_type": "execute_result"
    }
   ],
   "source": [
    "len(train_indexed), len(test_indexed)"
   ]
  },
  {
   "cell_type": "code",
   "execution_count": 27,
   "metadata": {
    "colab": {},
    "colab_type": "code",
    "id": "HovAE3QiHGsh"
   },
   "outputs": [],
   "source": [
    "samp_size = len(train_indexed)\n",
    "train_ratio = 0.2\n",
    "val_idx = get_cv_idxs(samp_size, val_pct=train_ratio)"
   ]
  },
  {
   "cell_type": "code",
   "execution_count": 28,
   "metadata": {
    "colab": {
     "base_uri": "https://localhost:8080/",
     "height": 34
    },
    "colab_type": "code",
    "executionInfo": {
     "elapsed": 654,
     "status": "ok",
     "timestamp": 1536679449067,
     "user": {
      "displayName": "Christian Unterrainer",
      "photoUrl": "https://lh3.googleusercontent.com/a/default-user=s128",
      "userId": "112087957608346378724"
     },
     "user_tz": -120
    },
    "id": "PUMt7j1R_XT9",
    "outputId": "ac1b4123-b9bd-47b9-8be9-b3414bc9f5bd"
   },
   "outputs": [
    {
     "data": {
      "text/plain": [
       "(227846, 45569, 19.999912221412707)"
      ]
     },
     "execution_count": 28,
     "metadata": {},
     "output_type": "execute_result"
    }
   ],
   "source": [
    "len(df), len(val_idx), len(val_idx) / len(df) * 100"
   ]
  },
  {
   "cell_type": "code",
   "execution_count": 29,
   "metadata": {
    "colab": {},
    "colab_type": "code",
    "id": "Sc-LMRA8HGsu"
   },
   "outputs": [],
   "source": [
    "cat_sz = [(c, len(train_df[c].cat.categories)+1) for c in cat_cols]"
   ]
  },
  {
   "cell_type": "code",
   "execution_count": 30,
   "metadata": {
    "colab": {
     "base_uri": "https://localhost:8080/",
     "height": 782
    },
    "colab_type": "code",
    "executionInfo": {
     "elapsed": 683,
     "status": "ok",
     "timestamp": 1536679456373,
     "user": {
      "displayName": "Christian Unterrainer",
      "photoUrl": "https://lh3.googleusercontent.com/a/default-user=s128",
      "userId": "112087957608346378724"
     },
     "user_tz": -120
    },
    "id": "ZViXeRp9_oH0",
    "outputId": "d770b58a-ba6d-436e-952c-a173bcf7bc2a",
    "scrolled": false
   },
   "outputs": [
    {
     "data": {
      "text/plain": [
       "[('timeWeek', 3),\n",
       " ('timeDay', 3),\n",
       " ('timeDayofweek', 3),\n",
       " ('timeDayofyear', 3),\n",
       " ('timeIs_month_start', 3),\n",
       " ('timeHour', 25),\n",
       " ('timeMinute', 61),\n",
       " ('timeSecond', 61)]"
      ]
     },
     "execution_count": 30,
     "metadata": {},
     "output_type": "execute_result"
    }
   ],
   "source": [
    "cat_sz"
   ]
  },
  {
   "cell_type": "code",
   "execution_count": 31,
   "metadata": {
    "colab": {},
    "colab_type": "code",
    "id": "Hg8d368v_rH_"
   },
   "outputs": [],
   "source": [
    "emb_szs = [(c, max(10, min(50, (c+1)//2))) for _,c in cat_sz]"
   ]
  },
  {
   "cell_type": "code",
   "execution_count": 32,
   "metadata": {
    "colab": {
     "base_uri": "https://localhost:8080/",
     "height": 782
    },
    "colab_type": "code",
    "executionInfo": {
     "elapsed": 761,
     "status": "ok",
     "timestamp": 1536679458576,
     "user": {
      "displayName": "Christian Unterrainer",
      "photoUrl": "https://lh3.googleusercontent.com/a/default-user=s128",
      "userId": "112087957608346378724"
     },
     "user_tz": -120
    },
    "id": "htJcw9Yx_tkM",
    "outputId": "3235961d-e707-4f9f-eafe-5b8fe16747a8",
    "scrolled": false
   },
   "outputs": [
    {
     "data": {
      "text/plain": [
       "[(3, 10), (3, 10), (3, 10), (3, 10), (3, 10), (25, 13), (61, 31), (61, 31)]"
      ]
     },
     "execution_count": 32,
     "metadata": {},
     "output_type": "execute_result"
    }
   ],
   "source": [
    "emb_szs"
   ]
  },
  {
   "cell_type": "code",
   "execution_count": 33,
   "metadata": {},
   "outputs": [],
   "source": [
    "import warnings; warnings.simplefilter('ignore')"
   ]
  },
  {
   "cell_type": "code",
   "execution_count": 34,
   "metadata": {},
   "outputs": [],
   "source": [
    "#torch.manual_seed(40)\n",
    "#random.seed(40)"
   ]
  },
  {
   "cell_type": "code",
   "execution_count": 35,
   "metadata": {},
   "outputs": [],
   "source": [
    "#yl = np.log(y)\n",
    "max_y = np.max(y)\n",
    "y_range = (0, max_y*1.2)"
   ]
  },
  {
   "cell_type": "code",
   "execution_count": 36,
   "metadata": {},
   "outputs": [],
   "source": [
    "md = ColumnarModelData.from_data_frame(PATH, val_idx, df, y.astype('int64'), cat_flds=cat_cols, bs=64, \n",
    "                                       is_reg=False, is_multi=False, test_df=df_test)"
   ]
  },
  {
   "cell_type": "code",
   "execution_count": 37,
   "metadata": {},
   "outputs": [],
   "source": [
    "m = md.get_learner(emb_szs=emb_szs, n_cont=(len(df.columns)-len(cat_cols)), emb_drop=0.04, out_sz=2, \n",
    "                   szs=[1000,500], drops=[0.001,0.01], y_range=y_range, use_bn=False, crit = F.cross_entropy)"
   ]
  },
  {
   "cell_type": "code",
   "execution_count": null,
   "metadata": {},
   "outputs": [],
   "source": [
    "m.crit"
   ]
  },
  {
   "cell_type": "code",
   "execution_count": null,
   "metadata": {
    "colab": {
     "base_uri": "https://localhost:8080/",
     "height": 85
    },
    "colab_type": "code",
    "executionInfo": {
     "elapsed": 15177,
     "status": "ok",
     "timestamp": 1536679477957,
     "user": {
      "displayName": "Christian Unterrainer",
      "photoUrl": "https://lh3.googleusercontent.com/a/default-user=s128",
      "userId": "112087957608346378724"
     },
     "user_tz": -120
    },
    "id": "OhWeKLy7HGs3",
    "outputId": "292600bc-f184-4f24-e2b7-0e72cff4ca82",
    "scrolled": true
   },
   "outputs": [],
   "source": [
    "m.lr_find()"
   ]
  },
  {
   "cell_type": "code",
   "execution_count": null,
   "metadata": {
    "colab": {
     "base_uri": "https://localhost:8080/",
     "height": 365
    },
    "colab_type": "code",
    "executionInfo": {
     "elapsed": 1772,
     "status": "ok",
     "timestamp": 1536679479826,
     "user": {
      "displayName": "Christian Unterrainer",
      "photoUrl": "https://lh3.googleusercontent.com/a/default-user=s128",
      "userId": "112087957608346378724"
     },
     "user_tz": -120
    },
    "id": "Qg_MyTtYHGs4",
    "outputId": "035846ed-dc93-46b2-f93c-dacd805a00f2"
   },
   "outputs": [],
   "source": [
    "m.sched.plot()"
   ]
  },
  {
   "cell_type": "code",
   "execution_count": null,
   "metadata": {
    "colab": {},
    "colab_type": "code",
    "id": "GcTZ1IkmBGad"
   },
   "outputs": [],
   "source": [
    "lr = 1e-3 #0.0005"
   ]
  },
  {
   "cell_type": "code",
   "execution_count": null,
   "metadata": {
    "colab": {
     "base_uri": "https://localhost:8080/",
     "height": 136
    },
    "colab_type": "code",
    "executionInfo": {
     "elapsed": 38928,
     "status": "ok",
     "timestamp": 1536679520441,
     "user": {
      "displayName": "Christian Unterrainer",
      "photoUrl": "https://lh3.googleusercontent.com/a/default-user=s128",
      "userId": "112087957608346378724"
     },
     "user_tz": -120
    },
    "id": "6PlnGRFlBp0n",
    "outputId": "536d5437-80bc-427a-86b9-f30044c254a6",
    "scrolled": true
   },
   "outputs": [],
   "source": [
    "m.fit(lr, 1, cycle_len = 3, cycle_mult = 1, metrics=[accuracy]) #, f1, precision, recall"
   ]
  },
  {
   "cell_type": "code",
   "execution_count": null,
   "metadata": {
    "colab": {},
    "colab_type": "code",
    "id": "Jf9N3hLcbB7d"
   },
   "outputs": [],
   "source": [
    "m.save(\"credit_fraud_3E\") "
   ]
  },
  {
   "cell_type": "code",
   "execution_count": null,
   "metadata": {
    "colab": {},
    "colab_type": "code",
    "id": "MWN4GJ4NbB7f"
   },
   "outputs": [],
   "source": [
    "m.load(\"credit_fraud_3E\")"
   ]
  },
  {
   "cell_type": "code",
   "execution_count": null,
   "metadata": {},
   "outputs": [],
   "source": [
    "m.fit(lr, 2, cycle_len = 2, cycle_mult = 2, metrics=[accuracy])"
   ]
  },
  {
   "cell_type": "code",
   "execution_count": null,
   "metadata": {},
   "outputs": [],
   "source": [
    "m.save(\"credit_fraud_3E6ER\") "
   ]
  },
  {
   "cell_type": "code",
   "execution_count": null,
   "metadata": {},
   "outputs": [],
   "source": [
    "m.load(\"credit_fraud_3E6ER\") "
   ]
  },
  {
   "cell_type": "code",
   "execution_count": null,
   "metadata": {},
   "outputs": [],
   "source": [
    "m.fit(lr, 1, cycle_len = 3, cycle_mult = 1, metrics=[accuracy])"
   ]
  },
  {
   "cell_type": "code",
   "execution_count": null,
   "metadata": {
    "scrolled": false
   },
   "outputs": [],
   "source": [
    "m.save(\"credit_fraud_3E6ER3E\")"
   ]
  },
  {
   "cell_type": "code",
   "execution_count": null,
   "metadata": {},
   "outputs": [],
   "source": [
    "m.load(\"credit_fraud_3E6ER3E\")"
   ]
  },
  {
   "cell_type": "code",
   "execution_count": null,
   "metadata": {},
   "outputs": [],
   "source": [
    "m.fit(lr, 3, cycle_len = 3, cycle_mult = 1, metrics=[accuracy], best_save_name='credit_fraud_best')"
   ]
  },
  {
   "cell_type": "code",
   "execution_count": null,
   "metadata": {},
   "outputs": [],
   "source": [
    "m.load(\"credit_fraud_best\")"
   ]
  },
  {
   "cell_type": "markdown",
   "metadata": {
    "colab_type": "text",
    "id": "bcM76DTEbB7x"
   },
   "source": [
    "# Test Set"
   ]
  },
  {
   "cell_type": "code",
   "execution_count": null,
   "metadata": {},
   "outputs": [],
   "source": [
    "def print_results(headline, true_value, pred):\n",
    "    print(headline)\n",
    "    print(\"accuracy: {}\".format(accuracy_score(true_value, pred)))\n",
    "    print(\"precision: {}\".format(precision_score(true_value, pred)))\n",
    "    print(\"recall: {}\".format(recall_score(true_value, pred)))\n",
    "    print(\"f2: {}\".format(fbeta_score(true_value, pred, beta=2)))"
   ]
  },
  {
   "cell_type": "code",
   "execution_count": null,
   "metadata": {
    "colab": {
     "base_uri": "https://localhost:8080/",
     "height": 34
    },
    "colab_type": "code",
    "executionInfo": {
     "elapsed": 757,
     "status": "ok",
     "timestamp": 1536680915786,
     "user": {
      "displayName": "Christian Unterrainer",
      "photoUrl": "https://lh3.googleusercontent.com/a/default-user=s128",
      "userId": "112087957608346378724"
     },
     "user_tz": -120
    },
    "id": "zIyChDKMbB7x",
    "outputId": "07d110d4-4b45-4eeb-eb3f-83a86a94573f"
   },
   "outputs": [],
   "source": [
    "x_train,y_train = m.predict_with_targs()\n",
    "x_train_torch = torch.from_numpy(x_train)\n",
    "y_train_torch = torch.from_numpy(y_train)\n",
    "accuracy(x_train_torch, y_train_torch)"
   ]
  },
  {
   "cell_type": "code",
   "execution_count": null,
   "metadata": {},
   "outputs": [],
   "source": [
    "x_train_torch = torch.max(x_train_torch, dim=1)[1]"
   ]
  },
  {
   "cell_type": "code",
   "execution_count": null,
   "metadata": {},
   "outputs": [],
   "source": [
    "len(x_train_torch[x_train_torch==1]), len(y_train_torch[y_train_torch == 1])"
   ]
  },
  {
   "cell_type": "code",
   "execution_count": null,
   "metadata": {
    "scrolled": true
   },
   "outputs": [],
   "source": [
    "print_results(\"Fastai NN classification train/validaton\", y_train_torch.data.numpy(), x_train_torch.data.numpy())"
   ]
  },
  {
   "cell_type": "markdown",
   "metadata": {},
   "source": [
    "### whole datepart\n",
    "\n",
    "Fastai NN classification train/validaton\n",
    "- accuracy: 0.9994294366784436\n",
    "- precision: 0.9305555555555556\n",
    "- recall: 0.7613636363636364\n",
    "- f2: 0.7900943396226414\n",
    "\n",
    "### selected datepart\n",
    "\n",
    "Fastai NN classification train/validaton\n",
    "- accuracy: 0.9995611051372644\n",
    "- precision: 0.9594594594594594\n",
    "- recall: 0.8068181818181818\n",
    "- f2: 0.8333333333333334"
   ]
  },
  {
   "cell_type": "code",
   "execution_count": null,
   "metadata": {},
   "outputs": [],
   "source": [
    "x_test,_ = m.predict_with_targs(True)\n",
    "x_test_torch = torch.from_numpy(x_test)\n",
    "y_test_torch = torch.from_numpy(test_y.astype('int32')).long()\n",
    "accuracy(x_test_torch,y_test_torch)"
   ]
  },
  {
   "cell_type": "code",
   "execution_count": null,
   "metadata": {},
   "outputs": [],
   "source": [
    "x_test_torch = torch.max(x_test_torch, dim=1)[1]"
   ]
  },
  {
   "cell_type": "code",
   "execution_count": null,
   "metadata": {},
   "outputs": [],
   "source": [
    "len(x_test_torch[x_test_torch == 1]), len(y_test_torch[y_test_torch == 1])"
   ]
  },
  {
   "cell_type": "code",
   "execution_count": null,
   "metadata": {},
   "outputs": [],
   "source": [
    "print_results(\"Fastai NN classification test\", y_test_torch, x_test_torch)"
   ]
  },
  {
   "cell_type": "markdown",
   "metadata": {},
   "source": [
    "### whole datepart\n",
    "\n",
    "Fastai NN classification test\n",
    "- accuracy: 0.9995084355962852\n",
    "- precision: 0.972972972972973\n",
    "- recall: 0.7346938775510204\n",
    "- f2: 0.7725321888412018\n",
    "\n",
    "### selected datepart\n",
    "\n",
    "Fastai NN classification test\n",
    "- accuracy: 0.9995259914678464\n",
    "- precision: 0.9493670886075949\n",
    "- recall: 0.7653061224489796\n",
    "- f2: 0.7961783439490445"
   ]
  }
 ],
 "metadata": {
  "accelerator": "GPU",
  "colab": {
   "collapsed_sections": [],
   "name": " House Prices.ipynb",
   "provenance": [],
   "toc_visible": true,
   "version": "0.3.2"
  },
  "kernelspec": {
   "display_name": "Python 3",
   "language": "python",
   "name": "python3"
  },
  "language_info": {
   "codemirror_mode": {
    "name": "ipython",
    "version": 3
   },
   "file_extension": ".py",
   "mimetype": "text/x-python",
   "name": "python",
   "nbconvert_exporter": "python",
   "pygments_lexer": "ipython3",
   "version": "3.6.6"
  }
 },
 "nbformat": 4,
 "nbformat_minor": 1
}
