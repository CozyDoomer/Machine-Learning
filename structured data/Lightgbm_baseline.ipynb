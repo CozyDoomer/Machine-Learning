{
  "nbformat": 4,
  "nbformat_minor": 0,
  "metadata": {
    "colab": {
      "name": "Lightgbm_baseline.ipynb",
      "version": "0.3.2",
      "provenance": [],
      "collapsed_sections": [],
      "toc_visible": true
    },
    "kernelspec": {
      "name": "python3",
      "display_name": "Python 3"
    },
    "accelerator": "GPU"
  },
  "cells": [
    {
      "metadata": {
        "id": "9hk8OB-0_BzG",
        "colab_type": "code",
        "colab": {
          "base_uri": "https://localhost:8080/",
          "height": 85
        },
        "outputId": "f6f793ae-0f29-4d73-e778-a9d4e52416c7"
      },
      "cell_type": "code",
      "source": [
        "import numpy as np # linear algebra\n",
        "import pandas as pd # data processing, CSV file I/O (e.g. pd.read_csv)\n",
        "\n",
        "!pip install lightgbm\n",
        "import lightgbm as lgb\n",
        "\n",
        "from sklearn.model_selection import KFold, GroupKFold, TimeSeriesSplit, StratifiedKFold #only classification\n",
        "from sklearn.metrics import roc_auc_score, mean_squared_error\n",
        "\n",
        "import time\n",
        "\n",
        "import os"
      ],
      "execution_count": 31,
      "outputs": [
        {
          "output_type": "stream",
          "text": [
            "Requirement already satisfied: lightgbm in /usr/local/lib/python3.6/dist-packages (2.2.1)\n",
            "Requirement already satisfied: numpy in /usr/local/lib/python3.6/dist-packages (from lightgbm) (1.14.6)\n",
            "Requirement already satisfied: scikit-learn in /usr/local/lib/python3.6/dist-packages (from lightgbm) (0.19.2)\n",
            "Requirement already satisfied: scipy in /usr/local/lib/python3.6/dist-packages (from lightgbm) (0.19.1)\n"
          ],
          "name": "stdout"
        }
      ]
    },
    {
      "metadata": {
        "id": "2buRE40Q_NeR",
        "colab_type": "code",
        "colab": {}
      },
      "cell_type": "code",
      "source": [
        "train = pd.read_csv('train.csv')\n",
        "test = pd.read_csv('test.csv')\n",
        "ssub = pd.read_csv('sample_submission.csv')"
      ],
      "execution_count": 0,
      "outputs": []
    },
    {
      "metadata": {
        "id": "lR4KlD76_TpF",
        "colab_type": "code",
        "colab": {
          "base_uri": "https://localhost:8080/",
          "height": 204
        },
        "outputId": "4990ddfc-7f7a-4fba-dcab-e9eb748aba99"
      },
      "cell_type": "code",
      "source": [
        "train.head()"
      ],
      "execution_count": 35,
      "outputs": [
        {
          "output_type": "execute_result",
          "data": {
            "text/html": [
              "<div>\n",
              "<style scoped>\n",
              "    .dataframe tbody tr th:only-of-type {\n",
              "        vertical-align: middle;\n",
              "    }\n",
              "\n",
              "    .dataframe tbody tr th {\n",
              "        vertical-align: top;\n",
              "    }\n",
              "\n",
              "    .dataframe thead th {\n",
              "        text-align: right;\n",
              "    }\n",
              "</style>\n",
              "<table border=\"1\" class=\"dataframe\">\n",
              "  <thead>\n",
              "    <tr style=\"text-align: right;\">\n",
              "      <th></th>\n",
              "      <th>date</th>\n",
              "      <th>store</th>\n",
              "      <th>item</th>\n",
              "      <th>sales</th>\n",
              "    </tr>\n",
              "  </thead>\n",
              "  <tbody>\n",
              "    <tr>\n",
              "      <th>0</th>\n",
              "      <td>1/1/2013</td>\n",
              "      <td>1</td>\n",
              "      <td>1</td>\n",
              "      <td>13</td>\n",
              "    </tr>\n",
              "    <tr>\n",
              "      <th>1</th>\n",
              "      <td>1/2/2013</td>\n",
              "      <td>1</td>\n",
              "      <td>1</td>\n",
              "      <td>11</td>\n",
              "    </tr>\n",
              "    <tr>\n",
              "      <th>2</th>\n",
              "      <td>1/3/2013</td>\n",
              "      <td>1</td>\n",
              "      <td>1</td>\n",
              "      <td>14</td>\n",
              "    </tr>\n",
              "    <tr>\n",
              "      <th>3</th>\n",
              "      <td>1/4/2013</td>\n",
              "      <td>1</td>\n",
              "      <td>1</td>\n",
              "      <td>13</td>\n",
              "    </tr>\n",
              "    <tr>\n",
              "      <th>4</th>\n",
              "      <td>1/5/2013</td>\n",
              "      <td>1</td>\n",
              "      <td>1</td>\n",
              "      <td>10</td>\n",
              "    </tr>\n",
              "  </tbody>\n",
              "</table>\n",
              "</div>"
            ],
            "text/plain": [
              "       date  store  item  sales\n",
              "0  1/1/2013      1     1     13\n",
              "1  1/2/2013      1     1     11\n",
              "2  1/3/2013      1     1     14\n",
              "3  1/4/2013      1     1     13\n",
              "4  1/5/2013      1     1     10"
            ]
          },
          "metadata": {
            "tags": []
          },
          "execution_count": 35
        }
      ]
    },
    {
      "metadata": {
        "id": "kDURIL2L_Vyl",
        "colab_type": "code",
        "colab": {
          "base_uri": "https://localhost:8080/",
          "height": 204
        },
        "outputId": "48507db3-12d4-447a-db1d-ed333826a069"
      },
      "cell_type": "code",
      "source": [
        "test.head()"
      ],
      "execution_count": 36,
      "outputs": [
        {
          "output_type": "execute_result",
          "data": {
            "text/html": [
              "<div>\n",
              "<style scoped>\n",
              "    .dataframe tbody tr th:only-of-type {\n",
              "        vertical-align: middle;\n",
              "    }\n",
              "\n",
              "    .dataframe tbody tr th {\n",
              "        vertical-align: top;\n",
              "    }\n",
              "\n",
              "    .dataframe thead th {\n",
              "        text-align: right;\n",
              "    }\n",
              "</style>\n",
              "<table border=\"1\" class=\"dataframe\">\n",
              "  <thead>\n",
              "    <tr style=\"text-align: right;\">\n",
              "      <th></th>\n",
              "      <th>id</th>\n",
              "      <th>date</th>\n",
              "      <th>store</th>\n",
              "      <th>item</th>\n",
              "    </tr>\n",
              "  </thead>\n",
              "  <tbody>\n",
              "    <tr>\n",
              "      <th>0</th>\n",
              "      <td>0</td>\n",
              "      <td>2018-01-01</td>\n",
              "      <td>1</td>\n",
              "      <td>1</td>\n",
              "    </tr>\n",
              "    <tr>\n",
              "      <th>1</th>\n",
              "      <td>1</td>\n",
              "      <td>2018-01-02</td>\n",
              "      <td>1</td>\n",
              "      <td>1</td>\n",
              "    </tr>\n",
              "    <tr>\n",
              "      <th>2</th>\n",
              "      <td>2</td>\n",
              "      <td>2018-01-03</td>\n",
              "      <td>1</td>\n",
              "      <td>1</td>\n",
              "    </tr>\n",
              "    <tr>\n",
              "      <th>3</th>\n",
              "      <td>3</td>\n",
              "      <td>2018-01-04</td>\n",
              "      <td>1</td>\n",
              "      <td>1</td>\n",
              "    </tr>\n",
              "    <tr>\n",
              "      <th>4</th>\n",
              "      <td>4</td>\n",
              "      <td>2018-01-05</td>\n",
              "      <td>1</td>\n",
              "      <td>1</td>\n",
              "    </tr>\n",
              "  </tbody>\n",
              "</table>\n",
              "</div>"
            ],
            "text/plain": [
              "   id        date  store  item\n",
              "0   0  2018-01-01      1     1\n",
              "1   1  2018-01-02      1     1\n",
              "2   2  2018-01-03      1     1\n",
              "3   3  2018-01-04      1     1\n",
              "4   4  2018-01-05      1     1"
            ]
          },
          "metadata": {
            "tags": []
          },
          "execution_count": 36
        }
      ]
    },
    {
      "metadata": {
        "id": "WFGtl5NF_WGE",
        "colab_type": "code",
        "colab": {
          "base_uri": "https://localhost:8080/",
          "height": 102
        },
        "outputId": "d019a32e-69b7-4061-94b0-f056b6ecf10e"
      },
      "cell_type": "code",
      "source": [
        "train.dtypes"
      ],
      "execution_count": 37,
      "outputs": [
        {
          "output_type": "execute_result",
          "data": {
            "text/plain": [
              "date     object\n",
              "store     int64\n",
              "item      int64\n",
              "sales     int64\n",
              "dtype: object"
            ]
          },
          "metadata": {
            "tags": []
          },
          "execution_count": 37
        }
      ]
    },
    {
      "metadata": {
        "id": "SMAqgZeNCBvq",
        "colab_type": "code",
        "colab": {}
      },
      "cell_type": "code",
      "source": [
        "test.date = pd.to_datetime(test.date)\n",
        "train.date = pd.to_datetime(train.date)"
      ],
      "execution_count": 0,
      "outputs": []
    },
    {
      "metadata": {
        "id": "r_mYeGYA_Yhh",
        "colab_type": "code",
        "colab": {
          "base_uri": "https://localhost:8080/",
          "height": 34
        },
        "outputId": "9301252a-83e7-4358-9670-547b8eccfea7"
      },
      "cell_type": "code",
      "source": [
        "train.shape"
      ],
      "execution_count": 39,
      "outputs": [
        {
          "output_type": "execute_result",
          "data": {
            "text/plain": [
              "(913000, 4)"
            ]
          },
          "metadata": {
            "tags": []
          },
          "execution_count": 39
        }
      ]
    },
    {
      "metadata": {
        "id": "J1DpBz7V_ZuO",
        "colab_type": "code",
        "colab": {}
      },
      "cell_type": "code",
      "source": [
        "#train[train.columns[train.dtypes=='float']].describe()"
      ],
      "execution_count": 0,
      "outputs": []
    },
    {
      "metadata": {
        "id": "wyxP3Wqm_jlv",
        "colab_type": "code",
        "colab": {}
      },
      "cell_type": "code",
      "source": [
        "#train[train.columns[train.dtypes=='int64']].describe()"
      ],
      "execution_count": 0,
      "outputs": []
    },
    {
      "metadata": {
        "id": "jFuJiqgUCLaL",
        "colab_type": "code",
        "colab": {
          "base_uri": "https://localhost:8080/",
          "height": 204
        },
        "outputId": "2cc61566-b065-4454-8f55-92a8033832c9"
      },
      "cell_type": "code",
      "source": [
        "# Sales distribution across the train data\n",
        "def sales_dist(data):\n",
        "    \"\"\"\n",
        "        Sales_dist used for Checing Sales Distribution.\n",
        "        data :  contain data frame which contain sales data\n",
        "    \"\"\"\n",
        "    sales_df = data.copy(deep=True)\n",
        "    sales_df['sales_bins'] = pd.cut(sales_df['sales'], [0, 50, 100, 150, 200, 250])\n",
        "    print('Max sale:', sales_df.sales.max())\n",
        "    print('Min sale:', sales_df.sales.min())\n",
        "    print('Avg sale:', sales_df.sales.mean())\n",
        "    print()\n",
        "    return sales_df\n",
        "\n",
        "sales_df = sales_dist(train)\n",
        "\n",
        "# Total number of data points\n",
        "total_points = pd.value_counts(sales_df.sales_bins).sum()\n",
        "print('Sales bucket v/s Total percentage:')\n",
        "display(pd.value_counts(sales_df.sales_bins).apply(lambda s: (s/total_points)*100))"
      ],
      "execution_count": 42,
      "outputs": [
        {
          "output_type": "stream",
          "text": [
            "Max sale: 231\n",
            "Min sale: 0\n",
            "Avg sale: 52.250286966046005\n",
            "\n",
            "Sales bucket v/s Total percentage:\n"
          ],
          "name": "stdout"
        },
        {
          "output_type": "display_data",
          "data": {
            "text/plain": [
              "(0, 50]       54.591407\n",
              "(50, 100]     38.388322\n",
              "(100, 150]     6.709974\n",
              "(150, 200]     0.308544\n",
              "(200, 250]     0.001752\n",
              "Name: sales_bins, dtype: float64"
            ]
          },
          "metadata": {
            "tags": []
          }
        }
      ]
    },
    {
      "metadata": {
        "id": "YRAqCeIMCVyu",
        "colab_type": "code",
        "colab": {
          "base_uri": "https://localhost:8080/",
          "height": 362
        },
        "outputId": "ab87f1bf-2ed7-4273-a756-cc44645ad8ea"
      },
      "cell_type": "code",
      "source": [
        "# Let us visualize the same\n",
        "sales_count = pd.value_counts(sales_df.sales_bins)\n",
        "sales_count.sort_values(ascending=True).plot(kind='barh', title='Sales distribution', );\n",
        "#sns.countplot(sales_count)"
      ],
      "execution_count": 43,
      "outputs": [
        {
          "output_type": "display_data",
          "data": {
            "image/png": "[encoded data removed]",
            "text/plain": [
              "<matplotlib.figure.Figure at 0x7f1bb6f4fcc0>"
            ]
          },
          "metadata": {
            "tags": []
          }
        }
      ]
    },
    {
      "metadata": {
        "id": "DWRMdWtEGeEQ",
        "colab_type": "code",
        "colab": {}
      },
      "cell_type": "code",
      "source": [
        "for df in train, test:\n",
        "  df['dayofmonth'] = df.date.dt.day\n",
        "  df['dayofyear'] = df.date.dt.dayofyear\n",
        "  df['dayofweek'] = df.date.dt.dayofweek\n",
        "  df['month'] = df.date.dt.month\n",
        "  df['year'] = df.date.dt.year\n",
        "  df['weekofyear'] = df.date.dt.weekofyear\n",
        "  df['is_month_start'] = (df.date.dt.is_month_start).astype(int)\n",
        "  df['is_month_end'] = (df.date.dt.is_month_end).astype(int)\n",
        "  df.head()"
      ],
      "execution_count": 0,
      "outputs": []
    },
    {
      "metadata": {
        "id": "QhZdGZ0eIR9I",
        "colab_type": "code",
        "colab": {
          "base_uri": "https://localhost:8080/",
          "height": 306
        },
        "outputId": "64303006-8c8f-453d-bbf4-1be68043950c"
      },
      "cell_type": "code",
      "source": [
        "train.info()"
      ],
      "execution_count": 45,
      "outputs": [
        {
          "output_type": "stream",
          "text": [
            "<class 'pandas.core.frame.DataFrame'>\n",
            "RangeIndex: 913000 entries, 0 to 912999\n",
            "Data columns (total 12 columns):\n",
            "date              913000 non-null datetime64[ns]\n",
            "store             913000 non-null int64\n",
            "item              913000 non-null int64\n",
            "sales             913000 non-null int64\n",
            "dayofmonth        913000 non-null int64\n",
            "dayofyear         913000 non-null int64\n",
            "dayofweek         913000 non-null int64\n",
            "month             913000 non-null int64\n",
            "year              913000 non-null int64\n",
            "weekofyear        913000 non-null int64\n",
            "is_month_start    913000 non-null int64\n",
            "is_month_end      913000 non-null int64\n",
            "dtypes: datetime64[ns](1), int64(11)\n",
            "memory usage: 83.6 MB\n"
          ],
          "name": "stdout"
        }
      ]
    },
    {
      "metadata": {
        "id": "_cLrU7zVHp-1",
        "colab_type": "code",
        "colab": {
          "base_uri": "https://localhost:8080/",
          "height": 187
        },
        "outputId": "189753a6-70c3-4dac-965e-8febb6e70d4c"
      },
      "cell_type": "code",
      "source": [
        "target = 'sales'\n",
        "\n",
        "excluded_features = [\n",
        "    'date', 'sales' #, 'store', 'item'\n",
        "]\n",
        "\n",
        "categorical_features = [\n",
        "    _f for _f in train.columns\n",
        "    if (_f not in excluded_features)\n",
        "]\n",
        "categorical_features"
      ],
      "execution_count": 46,
      "outputs": [
        {
          "output_type": "execute_result",
          "data": {
            "text/plain": [
              "['store',\n",
              " 'item',\n",
              " 'dayofmonth',\n",
              " 'dayofyear',\n",
              " 'dayofweek',\n",
              " 'month',\n",
              " 'year',\n",
              " 'weekofyear',\n",
              " 'is_month_start',\n",
              " 'is_month_end']"
            ]
          },
          "metadata": {
            "tags": []
          },
          "execution_count": 46
        }
      ]
    },
    {
      "metadata": {
        "id": "V8qPPAZD_fkH",
        "colab_type": "code",
        "colab": {}
      },
      "cell_type": "code",
      "source": [
        "y_reg = np.log1p(train.sales)\n",
        "\n",
        "train.drop(['sales'], axis=1, inplace=True)"
      ],
      "execution_count": 0,
      "outputs": []
    },
    {
      "metadata": {
        "id": "Op4TgQ_K_hIM",
        "colab_type": "code",
        "colab": {}
      },
      "cell_type": "code",
      "source": [
        "for f in categorical_features:\n",
        "    train[f], indexer = pd.factorize(train[f])\n",
        "    test[f] = indexer.get_indexer(test[f])"
      ],
      "execution_count": 0,
      "outputs": []
    },
    {
      "metadata": {
        "id": "YXTq4A-1_owV",
        "colab_type": "code",
        "colab": {}
      },
      "cell_type": "code",
      "source": [
        "lgbm_params =  {\n",
        "    'task': 'train',\n",
        "    'boosting_type': 'gbdt',\n",
        "    'objective': 'regression',\n",
        "    'metric': 'rmse',\n",
        "    'max_depth': 8,\n",
        "    'num_leaves': 31,  # 63, 127, 255\n",
        "    'feature_fraction': 0.8, # 0.1, 0.01\n",
        "    'bagging_fraction': 0.8,\n",
        "    'learning_rate': 0.01, #0.00625,#125,#0.025,#05,\n",
        "    'verbose': 1\n",
        "}"
      ],
      "execution_count": 0,
      "outputs": []
    },
    {
      "metadata": {
        "id": "Dcm_q94WJZ6y",
        "colab_type": "code",
        "colab": {
          "base_uri": "https://localhost:8080/",
          "height": 969
        },
        "outputId": "bbf487ca-1e60-4bc8-9dd3-52db5c8e7a77"
      },
      "cell_type": "code",
      "source": [
        "folds = KFold(n_splits=5, shuffle=True, random_state=345665)\n",
        "\n",
        "train_features = [_f for _f in train.columns if _f not in excluded_features]\n",
        "print(train_features)\n",
        "\n",
        "importances = pd.DataFrame()\n",
        "oof_reg_preds = np.zeros(train.shape[0])\n",
        "sub_reg_preds = np.zeros(test.shape[0])\n",
        "\n",
        "i=0\n",
        "\n",
        "for trn_, val_ in folds.split(train, y_reg):\n",
        "\n",
        "    trn_x, trn_y = train[train_features].iloc[trn_], y_reg.iloc[trn_]\n",
        "    val_x, val_y = train[train_features].iloc[val_], y_reg.iloc[val_]\n",
        "    \n",
        "    reg = lgb.LGBMRegressor(\n",
        "        num_leaves=31,\n",
        "        learning_rate=0.1,\n",
        "        n_estimators=1500,\n",
        "        subsample=.9,\n",
        "        colsample_bytree=.9,\n",
        "        random_state=1\n",
        "    )\n",
        "    reg.fit(\n",
        "        trn_x, np.log1p(trn_y),\n",
        "        eval_set=[(val_x, np.log1p(val_y))],\n",
        "        early_stopping_rounds=50,\n",
        "        verbose=100,\n",
        "        eval_metric='rmse'\n",
        "    )\n",
        "    imp_df = pd.DataFrame()\n",
        "    imp_df['feature'] = train_features\n",
        "    imp_df['gain'] = reg.booster_.feature_importance(importance_type='gain')\n",
        "    \n",
        "    imp_df['fold'] = i\n",
        "    importances = pd.concat([importances, imp_df], axis=0)\n",
        "    \n",
        "    oof_reg_preds[val_] = reg.predict(val_x, num_iteration=reg.best_iteration_)\n",
        "    oof_reg_preds[oof_reg_preds < 0] = 0\n",
        "    _preds = reg.predict(test[train_features], num_iteration=reg.best_iteration_)\n",
        "    _preds[_preds < 0] = 0\n",
        "    sub_reg_preds += np.expm1(_preds) / folds.get_n_splits()\n",
        "    \n",
        "    i+=1\n",
        "  \n",
        "\n",
        "mean_squared_error(np.log1p(y_reg), oof_reg_preds) ** .5"
      ],
      "execution_count": 51,
      "outputs": [
        {
          "output_type": "stream",
          "text": [
            "['store', 'item', 'dayofmonth', 'dayofyear', 'dayofweek', 'month', 'year', 'weekofyear', 'is_month_start', 'is_month_end']\n",
            "Training until validation scores don't improve for 50 rounds.\n",
            "[100]\tvalid_0's rmse: 0.0395362\tvalid_0's l2: 0.00156311\n",
            "[200]\tvalid_0's rmse: 0.0378006\tvalid_0's l2: 0.00142889\n",
            "[300]\tvalid_0's rmse: 0.0376113\tvalid_0's l2: 0.00141461\n",
            "[400]\tvalid_0's rmse: 0.0375607\tvalid_0's l2: 0.00141081\n",
            "[500]\tvalid_0's rmse: 0.0375238\tvalid_0's l2: 0.00140803\n",
            "[600]\tvalid_0's rmse: 0.0374955\tvalid_0's l2: 0.00140591\n",
            "[700]\tvalid_0's rmse: 0.0374876\tvalid_0's l2: 0.00140532\n",
            "[800]\tvalid_0's rmse: 0.0374769\tvalid_0's l2: 0.00140452\n",
            "Early stopping, best iteration is:\n",
            "[777]\tvalid_0's rmse: 0.0374753\tvalid_0's l2: 0.0014044\n",
            "Training until validation scores don't improve for 50 rounds.\n",
            "[100]\tvalid_0's rmse: 0.0397396\tvalid_0's l2: 0.00157923\n",
            "[200]\tvalid_0's rmse: 0.0378688\tvalid_0's l2: 0.00143404\n",
            "[300]\tvalid_0's rmse: 0.0376842\tvalid_0's l2: 0.0014201\n",
            "[400]\tvalid_0's rmse: 0.0376115\tvalid_0's l2: 0.00141462\n",
            "[500]\tvalid_0's rmse: 0.0375765\tvalid_0's l2: 0.00141199\n",
            "[600]\tvalid_0's rmse: 0.037557\tvalid_0's l2: 0.00141053\n",
            "[700]\tvalid_0's rmse: 0.0375478\tvalid_0's l2: 0.00140983\n",
            "[800]\tvalid_0's rmse: 0.0375383\tvalid_0's l2: 0.00140912\n",
            "[900]\tvalid_0's rmse: 0.0375345\tvalid_0's l2: 0.00140884\n",
            "[1000]\tvalid_0's rmse: 0.0375295\tvalid_0's l2: 0.00140846\n",
            "Early stopping, best iteration is:\n",
            "[969]\tvalid_0's rmse: 0.037528\tvalid_0's l2: 0.00140835\n",
            "Training until validation scores don't improve for 50 rounds.\n",
            "[100]\tvalid_0's rmse: 0.0388737\tvalid_0's l2: 0.00151116\n",
            "[200]\tvalid_0's rmse: 0.0374978\tvalid_0's l2: 0.00140608\n",
            "[300]\tvalid_0's rmse: 0.037373\tvalid_0's l2: 0.00139674\n",
            "[400]\tvalid_0's rmse: 0.0373229\tvalid_0's l2: 0.001393\n",
            "[500]\tvalid_0's rmse: 0.0373005\tvalid_0's l2: 0.00139133\n",
            "[600]\tvalid_0's rmse: 0.0372893\tvalid_0's l2: 0.0013905\n",
            "[700]\tvalid_0's rmse: 0.0372833\tvalid_0's l2: 0.00139004\n",
            "Early stopping, best iteration is:\n",
            "[746]\tvalid_0's rmse: 0.0372779\tvalid_0's l2: 0.00138964\n",
            "Training until validation scores don't improve for 50 rounds.\n",
            "[100]\tvalid_0's rmse: 0.039008\tvalid_0's l2: 0.00152163\n",
            "[200]\tvalid_0's rmse: 0.037661\tvalid_0's l2: 0.00141835\n",
            "[300]\tvalid_0's rmse: 0.0375292\tvalid_0's l2: 0.00140844\n",
            "[400]\tvalid_0's rmse: 0.0374779\tvalid_0's l2: 0.00140459\n",
            "[500]\tvalid_0's rmse: 0.0374564\tvalid_0's l2: 0.00140298\n",
            "[600]\tvalid_0's rmse: 0.0374412\tvalid_0's l2: 0.00140184\n",
            "[700]\tvalid_0's rmse: 0.0374383\tvalid_0's l2: 0.00140163\n",
            "[800]\tvalid_0's rmse: 0.0374345\tvalid_0's l2: 0.00140134\n",
            "Early stopping, best iteration is:\n",
            "[808]\tvalid_0's rmse: 0.0374334\tvalid_0's l2: 0.00140126\n",
            "Training until validation scores don't improve for 50 rounds.\n",
            "[100]\tvalid_0's rmse: 0.0392285\tvalid_0's l2: 0.00153887\n",
            "[200]\tvalid_0's rmse: 0.0376687\tvalid_0's l2: 0.00141893\n",
            "[300]\tvalid_0's rmse: 0.0374943\tvalid_0's l2: 0.00140582\n",
            "[400]\tvalid_0's rmse: 0.0374542\tvalid_0's l2: 0.00140282\n",
            "[500]\tvalid_0's rmse: 0.0374314\tvalid_0's l2: 0.00140111\n",
            "[600]\tvalid_0's rmse: 0.0374218\tvalid_0's l2: 0.00140039\n",
            "Early stopping, best iteration is:\n",
            "[594]\tvalid_0's rmse: 0.0374209\tvalid_0's l2: 0.00140033\n"
          ],
          "name": "stdout"
        },
        {
          "output_type": "execute_result",
          "data": {
            "text/plain": [
              "0.03742719156065345"
            ]
          },
          "metadata": {
            "tags": []
          },
          "execution_count": 51
        }
      ]
    },
    {
      "metadata": {
        "id": "qwkUWW2H_ssb",
        "colab_type": "code",
        "colab": {}
      },
      "cell_type": "code",
      "source": [
        "y_target = np.array(Y_target)"
      ],
      "execution_count": 0,
      "outputs": []
    },
    {
      "metadata": {
        "id": "tb7RUw2G_uQd",
        "colab_type": "code",
        "colab": {}
      },
      "cell_type": "code",
      "source": [
        "sub = pd.read_csv('sample_submission.csv')\n",
        "sub['target'] = Y_target.mean(axis=0)\n",
        "sub.to_csv('sub_lgb_baseline.csv', index=False)"
      ],
      "execution_count": 0,
      "outputs": []
    }
  ]
}