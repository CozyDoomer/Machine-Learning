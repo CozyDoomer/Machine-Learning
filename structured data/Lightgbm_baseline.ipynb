{
 "cells": [
  {
   "cell_type": "code",
   "execution_count": 1,
   "metadata": {
    "colab": {
     "base_uri": "https://localhost:8080/",
     "height": 85
    },
    "colab_type": "code",
    "executionInfo": {
     "elapsed": 4241,
     "status": "ok",
     "timestamp": 1539171362553,
     "user": {
      "displayName": "christian Unterrainer",
      "photoUrl": "",
      "userId": "05048410547014894566"
     },
     "user_tz": -120
    },
    "id": "9hk8OB-0_BzG",
    "outputId": "7919c855-ee64-4181-f4a5-c02b3fc191e8"
   },
   "outputs": [],
   "source": [
    "import numpy as np # linear algebra\n",
    "import pandas as pd # data processing, CSV file I/O (e.g. pd.read_csv)\n",
    "\n",
    "#For demonstration with google colab\n",
    "#!pip install lightgbm\n",
    "\n",
    "import lightgbm as lgb\n",
    "\n",
    "from sklearn.model_selection import KFold, GroupKFold, TimeSeriesSplit\n",
    "from sklearn.metrics import roc_auc_score, mean_squared_error\n",
    "\n",
    "import time\n",
    "import datetime\n",
    "\n",
    "import os"
   ]
  },
  {
   "cell_type": "markdown",
   "metadata": {},
   "source": [
    "## Import data as pandas Dataframe"
   ]
  },
  {
   "cell_type": "code",
   "execution_count": 2,
   "metadata": {},
   "outputs": [],
   "source": [
    "#change this to your folder containing the csv files\n",
    "path = 'Store Item Demand Forecasting/data/'"
   ]
  },
  {
   "cell_type": "code",
   "execution_count": 3,
   "metadata": {
    "colab": {},
    "colab_type": "code",
    "id": "rdEUPbAzOJO5"
   },
   "outputs": [],
   "source": [
    "train = pd.read_csv(f'{path}train.csv')\n",
    "test = pd.read_csv(f'{path}test.csv')\n",
    "sub = pd.read_csv(f'{path}sample_submission.csv')"
   ]
  },
  {
   "cell_type": "code",
   "execution_count": 4,
   "metadata": {
    "colab": {
     "base_uri": "https://localhost:8080/",
     "height": 204
    },
    "colab_type": "code",
    "executionInfo": {
     "elapsed": 1314,
     "status": "ok",
     "timestamp": 1539171366259,
     "user": {
      "displayName": "christian Unterrainer",
      "photoUrl": "",
      "userId": "05048410547014894566"
     },
     "user_tz": -120
    },
    "id": "lR4KlD76_TpF",
    "outputId": "9605e2f5-9fa7-4636-95c4-e252a1896e85"
   },
   "outputs": [
    {
     "data": {
      "text/html": [
       "<div>\n",
       "<style scoped>\n",
       "    .dataframe tbody tr th:only-of-type {\n",
       "        vertical-align: middle;\n",
       "    }\n",
       "\n",
       "    .dataframe tbody tr th {\n",
       "        vertical-align: top;\n",
       "    }\n",
       "\n",
       "    .dataframe thead th {\n",
       "        text-align: right;\n",
       "    }\n",
       "</style>\n",
       "<table border=\"1\" class=\"dataframe\">\n",
       "  <thead>\n",
       "    <tr style=\"text-align: right;\">\n",
       "      <th></th>\n",
       "      <th>date</th>\n",
       "      <th>store</th>\n",
       "      <th>item</th>\n",
       "      <th>sales</th>\n",
       "    </tr>\n",
       "  </thead>\n",
       "  <tbody>\n",
       "    <tr>\n",
       "      <th>0</th>\n",
       "      <td>2013-01-01</td>\n",
       "      <td>1</td>\n",
       "      <td>1</td>\n",
       "      <td>13</td>\n",
       "    </tr>\n",
       "    <tr>\n",
       "      <th>1</th>\n",
       "      <td>2013-01-02</td>\n",
       "      <td>1</td>\n",
       "      <td>1</td>\n",
       "      <td>11</td>\n",
       "    </tr>\n",
       "    <tr>\n",
       "      <th>2</th>\n",
       "      <td>2013-01-03</td>\n",
       "      <td>1</td>\n",
       "      <td>1</td>\n",
       "      <td>14</td>\n",
       "    </tr>\n",
       "    <tr>\n",
       "      <th>3</th>\n",
       "      <td>2013-01-04</td>\n",
       "      <td>1</td>\n",
       "      <td>1</td>\n",
       "      <td>13</td>\n",
       "    </tr>\n",
       "    <tr>\n",
       "      <th>4</th>\n",
       "      <td>2013-01-05</td>\n",
       "      <td>1</td>\n",
       "      <td>1</td>\n",
       "      <td>10</td>\n",
       "    </tr>\n",
       "  </tbody>\n",
       "</table>\n",
       "</div>"
      ],
      "text/plain": [
       "         date  store  item  sales\n",
       "0  2013-01-01      1     1     13\n",
       "1  2013-01-02      1     1     11\n",
       "2  2013-01-03      1     1     14\n",
       "3  2013-01-04      1     1     13\n",
       "4  2013-01-05      1     1     10"
      ]
     },
     "execution_count": 4,
     "metadata": {},
     "output_type": "execute_result"
    }
   ],
   "source": [
    "train.head()"
   ]
  },
  {
   "cell_type": "code",
   "execution_count": 5,
   "metadata": {
    "colab": {
     "base_uri": "https://localhost:8080/",
     "height": 204
    },
    "colab_type": "code",
    "executionInfo": {
     "elapsed": 1342,
     "status": "ok",
     "timestamp": 1539171367715,
     "user": {
      "displayName": "christian Unterrainer",
      "photoUrl": "",
      "userId": "05048410547014894566"
     },
     "user_tz": -120
    },
    "id": "kDURIL2L_Vyl",
    "outputId": "c4c93f35-6ddc-43e7-9ce7-1599b7442b5d"
   },
   "outputs": [
    {
     "data": {
      "text/html": [
       "<div>\n",
       "<style scoped>\n",
       "    .dataframe tbody tr th:only-of-type {\n",
       "        vertical-align: middle;\n",
       "    }\n",
       "\n",
       "    .dataframe tbody tr th {\n",
       "        vertical-align: top;\n",
       "    }\n",
       "\n",
       "    .dataframe thead th {\n",
       "        text-align: right;\n",
       "    }\n",
       "</style>\n",
       "<table border=\"1\" class=\"dataframe\">\n",
       "  <thead>\n",
       "    <tr style=\"text-align: right;\">\n",
       "      <th></th>\n",
       "      <th>id</th>\n",
       "      <th>date</th>\n",
       "      <th>store</th>\n",
       "      <th>item</th>\n",
       "    </tr>\n",
       "  </thead>\n",
       "  <tbody>\n",
       "    <tr>\n",
       "      <th>0</th>\n",
       "      <td>0</td>\n",
       "      <td>2018-01-01</td>\n",
       "      <td>1</td>\n",
       "      <td>1</td>\n",
       "    </tr>\n",
       "    <tr>\n",
       "      <th>1</th>\n",
       "      <td>1</td>\n",
       "      <td>2018-01-02</td>\n",
       "      <td>1</td>\n",
       "      <td>1</td>\n",
       "    </tr>\n",
       "    <tr>\n",
       "      <th>2</th>\n",
       "      <td>2</td>\n",
       "      <td>2018-01-03</td>\n",
       "      <td>1</td>\n",
       "      <td>1</td>\n",
       "    </tr>\n",
       "    <tr>\n",
       "      <th>3</th>\n",
       "      <td>3</td>\n",
       "      <td>2018-01-04</td>\n",
       "      <td>1</td>\n",
       "      <td>1</td>\n",
       "    </tr>\n",
       "    <tr>\n",
       "      <th>4</th>\n",
       "      <td>4</td>\n",
       "      <td>2018-01-05</td>\n",
       "      <td>1</td>\n",
       "      <td>1</td>\n",
       "    </tr>\n",
       "  </tbody>\n",
       "</table>\n",
       "</div>"
      ],
      "text/plain": [
       "   id        date  store  item\n",
       "0   0  2018-01-01      1     1\n",
       "1   1  2018-01-02      1     1\n",
       "2   2  2018-01-03      1     1\n",
       "3   3  2018-01-04      1     1\n",
       "4   4  2018-01-05      1     1"
      ]
     },
     "execution_count": 5,
     "metadata": {},
     "output_type": "execute_result"
    }
   ],
   "source": [
    "test.head()"
   ]
  },
  {
   "cell_type": "code",
   "execution_count": 6,
   "metadata": {
    "colab": {
     "base_uri": "https://localhost:8080/",
     "height": 102
    },
    "colab_type": "code",
    "executionInfo": {
     "elapsed": 969,
     "status": "ok",
     "timestamp": 1539171368779,
     "user": {
      "displayName": "christian Unterrainer",
      "photoUrl": "",
      "userId": "05048410547014894566"
     },
     "user_tz": -120
    },
    "id": "WFGtl5NF_WGE",
    "outputId": "a41ca5b1-c710-4a06-f0f8-e71485afad05"
   },
   "outputs": [
    {
     "data": {
      "text/plain": [
       "date     object\n",
       "store     int64\n",
       "item      int64\n",
       "sales     int64\n",
       "dtype: object"
      ]
     },
     "execution_count": 6,
     "metadata": {},
     "output_type": "execute_result"
    }
   ],
   "source": [
    "train.dtypes"
   ]
  },
  {
   "cell_type": "code",
   "execution_count": 7,
   "metadata": {
    "colab": {
     "base_uri": "https://localhost:8080/",
     "height": 204
    },
    "colab_type": "code",
    "executionInfo": {
     "elapsed": 1442,
     "status": "ok",
     "timestamp": 1539171370354,
     "user": {
      "displayName": "christian Unterrainer",
      "photoUrl": "",
      "userId": "05048410547014894566"
     },
     "user_tz": -120
    },
    "id": "fvSokp7mzjdF",
    "outputId": "af0fcf51-1ca0-4deb-bad1-6c80f3a7e8e8"
   },
   "outputs": [
    {
     "data": {
      "text/html": [
       "<div>\n",
       "<style scoped>\n",
       "    .dataframe tbody tr th:only-of-type {\n",
       "        vertical-align: middle;\n",
       "    }\n",
       "\n",
       "    .dataframe tbody tr th {\n",
       "        vertical-align: top;\n",
       "    }\n",
       "\n",
       "    .dataframe thead th {\n",
       "        text-align: right;\n",
       "    }\n",
       "</style>\n",
       "<table border=\"1\" class=\"dataframe\">\n",
       "  <thead>\n",
       "    <tr style=\"text-align: right;\">\n",
       "      <th></th>\n",
       "      <th>date</th>\n",
       "      <th>store</th>\n",
       "      <th>item</th>\n",
       "      <th>sales</th>\n",
       "    </tr>\n",
       "  </thead>\n",
       "  <tbody>\n",
       "    <tr>\n",
       "      <th>0</th>\n",
       "      <td>2013-01-01</td>\n",
       "      <td>1</td>\n",
       "      <td>1</td>\n",
       "      <td>13</td>\n",
       "    </tr>\n",
       "    <tr>\n",
       "      <th>1</th>\n",
       "      <td>2013-01-02</td>\n",
       "      <td>1</td>\n",
       "      <td>1</td>\n",
       "      <td>11</td>\n",
       "    </tr>\n",
       "    <tr>\n",
       "      <th>2</th>\n",
       "      <td>2013-01-03</td>\n",
       "      <td>1</td>\n",
       "      <td>1</td>\n",
       "      <td>14</td>\n",
       "    </tr>\n",
       "    <tr>\n",
       "      <th>3</th>\n",
       "      <td>2013-01-04</td>\n",
       "      <td>1</td>\n",
       "      <td>1</td>\n",
       "      <td>13</td>\n",
       "    </tr>\n",
       "    <tr>\n",
       "      <th>4</th>\n",
       "      <td>2013-01-05</td>\n",
       "      <td>1</td>\n",
       "      <td>1</td>\n",
       "      <td>10</td>\n",
       "    </tr>\n",
       "  </tbody>\n",
       "</table>\n",
       "</div>"
      ],
      "text/plain": [
       "         date  store  item  sales\n",
       "0  2013-01-01      1     1     13\n",
       "1  2013-01-02      1     1     11\n",
       "2  2013-01-03      1     1     14\n",
       "3  2013-01-04      1     1     13\n",
       "4  2013-01-05      1     1     10"
      ]
     },
     "execution_count": 7,
     "metadata": {},
     "output_type": "execute_result"
    }
   ],
   "source": [
    "train.head()"
   ]
  },
  {
   "cell_type": "markdown",
   "metadata": {},
   "source": [
    "## Create date features"
   ]
  },
  {
   "cell_type": "code",
   "execution_count": 8,
   "metadata": {
    "colab": {},
    "colab_type": "code",
    "id": "i0yjfbZhw9Rm"
   },
   "outputs": [],
   "source": [
    "for df in train, test:\n",
    "    df['date'] = pd.to_datetime(df['date'], infer_datetime_format=True) # format=\"%Y-%m-%d\""
   ]
  },
  {
   "cell_type": "code",
   "execution_count": 9,
   "metadata": {
    "colab": {},
    "colab_type": "code",
    "id": "DWRMdWtEGeEQ"
   },
   "outputs": [],
   "source": [
    "for df in train, test:\n",
    "    df['year']   = df['date'].dt.year\n",
    "    df['month']  = df['date'].dt.month\n",
    "    df['day']    = df['date'].dt.dayofweek\n",
    "    df.head()"
   ]
  },
  {
   "cell_type": "markdown",
   "metadata": {},
   "source": [
    "## Creating Validation set (3 months like test set)"
   ]
  },
  {
   "cell_type": "code",
   "execution_count": 10,
   "metadata": {},
   "outputs": [
    {
     "data": {
      "text/plain": [
       "(46000, 867000)"
      ]
     },
     "execution_count": 10,
     "metadata": {},
     "output_type": "execute_result"
    }
   ],
   "source": [
    "val_idx = np.flatnonzero((train.date<datetime.datetime(2018,1,1)) & (train.date>=datetime.datetime(2017,10,1)))\n",
    "\n",
    "train_idx = train[~train.index.isin(val_idx)].index\n",
    "\n",
    "len(val_idx), len(train_idx)"
   ]
  },
  {
   "cell_type": "markdown",
   "metadata": {},
   "source": [
    "## Split columns into categorical/numerical and factorize categoricals"
   ]
  },
  {
   "cell_type": "code",
   "execution_count": 11,
   "metadata": {
    "colab": {
     "base_uri": "https://localhost:8080/",
     "height": 34
    },
    "colab_type": "code",
    "executionInfo": {
     "elapsed": 1314,
     "status": "ok",
     "timestamp": 1539171425685,
     "user": {
      "displayName": "christian Unterrainer",
      "photoUrl": "",
      "userId": "05048410547014894566"
     },
     "user_tz": -120
    },
    "id": "_cLrU7zVHp-1",
    "outputId": "c02b0bbd-1869-4768-fb9e-b8a9c6dc6406"
   },
   "outputs": [
    {
     "data": {
      "text/plain": [
       "['date', 'store', 'item', 'year', 'month', 'day']"
      ]
     },
     "execution_count": 11,
     "metadata": {},
     "output_type": "execute_result"
    }
   ],
   "source": [
    "target = 'sales'\n",
    "\n",
    "excluded_features = ['sales']\n",
    "\n",
    "categorical_features = [_f for _f in train.columns if (_f not in excluded_features)]\n",
    "\n",
    "categorical_features"
   ]
  },
  {
   "cell_type": "code",
   "execution_count": 12,
   "metadata": {
    "colab": {},
    "colab_type": "code",
    "id": "XRAVeEUSd0mX"
   },
   "outputs": [],
   "source": [
    "for f in categorical_features:\n",
    "    train[f], indexer = pd.factorize(train[f])\n",
    "    test[f] = indexer.get_indexer(test[f])"
   ]
  },
  {
   "cell_type": "code",
   "execution_count": 13,
   "metadata": {
    "colab": {},
    "colab_type": "code",
    "id": "YXTq4A-1_owV"
   },
   "outputs": [],
   "source": [
    "y_reg = train['sales']"
   ]
  },
  {
   "cell_type": "code",
   "execution_count": 14,
   "metadata": {
    "colab": {
     "base_uri": "https://localhost:8080/",
     "height": 204
    },
    "colab_type": "code",
    "executionInfo": {
     "elapsed": 1078,
     "status": "ok",
     "timestamp": 1539171432876,
     "user": {
      "displayName": "christian Unterrainer",
      "photoUrl": "",
      "userId": "05048410547014894566"
     },
     "user_tz": -120
    },
    "id": "MIcisb7B4Kt2",
    "outputId": "870e5dce-4a7e-4469-c3c9-3973cf63ae48"
   },
   "outputs": [
    {
     "name": "stdout",
     "output_type": "stream",
     "text": [
      "<class 'pandas.core.frame.DataFrame'>\n",
      "RangeIndex: 913000 entries, 0 to 912999\n",
      "Data columns (total 7 columns):\n",
      "date     913000 non-null int64\n",
      "store    913000 non-null int64\n",
      "item     913000 non-null int64\n",
      "sales    913000 non-null int64\n",
      "year     913000 non-null int64\n",
      "month    913000 non-null int64\n",
      "day      913000 non-null int64\n",
      "dtypes: int64(7)\n",
      "memory usage: 48.8 MB\n"
     ]
    }
   ],
   "source": [
    "train.info()"
   ]
  },
  {
   "cell_type": "markdown",
   "metadata": {},
   "source": [
    "## Fitting Lightgbm model"
   ]
  },
  {
   "cell_type": "code",
   "execution_count": 15,
   "metadata": {
    "colab": {
     "base_uri": "https://localhost:8080/",
     "height": 238
    },
    "colab_type": "code",
    "executionInfo": {
     "elapsed": 42815,
     "status": "ok",
     "timestamp": 1539171883099,
     "user": {
      "displayName": "christian Unterrainer",
      "photoUrl": "",
      "userId": "05048410547014894566"
     },
     "user_tz": -120
    },
    "id": "Dcm_q94WJZ6y",
    "outputId": "1c9b92fa-6b4b-4d05-d548-ad856cbc09c0"
   },
   "outputs": [
    {
     "name": "stdout",
     "output_type": "stream",
     "text": [
      "['date', 'store', 'item', 'year', 'month', 'day']\n",
      "Training until validation scores don't improve for 50 rounds.\n",
      "[100]\tvalid_0's l2: 102.432\tvalid_0's mape: 0.178061\n",
      "[200]\tvalid_0's l2: 70.8012\tvalid_0's mape: 0.146107\n",
      "[300]\tvalid_0's l2: 65.7614\tvalid_0's mape: 0.139208\n",
      "[400]\tvalid_0's l2: 62.8373\tvalid_0's mape: 0.13495\n",
      "[500]\tvalid_0's l2: 61.7528\tvalid_0's mape: 0.133492\n",
      "[600]\tvalid_0's l2: 61.1156\tvalid_0's mape: 0.13271\n",
      "[700]\tvalid_0's l2: 60.4071\tvalid_0's mape: 0.131763\n",
      "[800]\tvalid_0's l2: 59.9749\tvalid_0's mape: 0.131336\n",
      "[900]\tvalid_0's l2: 59.8499\tvalid_0's mape: 0.131126\n",
      "Early stopping, best iteration is:\n",
      "[920]\tvalid_0's l2: 59.8143\tvalid_0's mape: 0.131026\n",
      "Full validation score 1.9056\n"
     ]
    }
   ],
   "source": [
    "train_features = [_f for _f in train.columns if _f not in excluded_features]\n",
    "print(train_features)\n",
    "\n",
    "importances = pd.DataFrame()\n",
    "\n",
    "oof_reg_preds = np.zeros(train.shape[0])\n",
    "sub_reg_preds = np.zeros(test.shape[0])\n",
    "\n",
    "trn_x, trn_y = train[train_features].iloc[train_idx], y_reg.iloc[train_idx]\n",
    "val_x, val_y = train[train_features].iloc[val_idx], y_reg.iloc[val_idx]\n",
    "\n",
    "reg = lgb.LGBMRegressor(\n",
    "    num_leaves=31,\n",
    "    max_depth=6,\n",
    "    learning_rate=0.1,\n",
    "    n_estimators=5000,\n",
    "    random_state=1\n",
    ")\n",
    "reg.fit(\n",
    "    trn_x, trn_y,\n",
    "    eval_set=[(val_x, val_y)],\n",
    "    early_stopping_rounds=50,\n",
    "    verbose=100,\n",
    "    eval_metric='mape'\n",
    ")\n",
    "imp_df = pd.DataFrame()\n",
    "imp_df['feature'] = train_features\n",
    "imp_df['gain'] = reg.booster_.feature_importance(importance_type='gain')\n",
    "\n",
    "importances = pd.concat([importances, imp_df], axis=0)\n",
    "\n",
    "oof_reg_preds[val_idx] = reg.predict(val_x, num_iteration=reg.best_iteration_)\n",
    "sub_reg_preds += reg.predict(test[train_features], num_iteration=reg.best_iteration_)\n",
    "\n",
    "#mape\n",
    "ape = 2 * np.abs(oof_reg_preds - y_reg) / (np.abs(oof_reg_preds) + np.abs(y_reg))\n",
    "e = ape.mean() \n",
    "print('Full validation score %.4f' %e)"
   ]
  },
  {
   "cell_type": "code",
   "execution_count": 16,
   "metadata": {
    "colab": {
     "base_uri": "https://localhost:8080/",
     "height": 34
    },
    "colab_type": "code",
    "executionInfo": {
     "elapsed": 1516,
     "status": "ok",
     "timestamp": 1539171884656,
     "user": {
      "displayName": "christian Unterrainer",
      "photoUrl": "",
      "userId": "05048410547014894566"
     },
     "user_tz": -120
    },
    "id": "4dqAtg143Mpi",
    "outputId": "995280a5-dca1-4881-f669-49a1c11c7571"
   },
   "outputs": [
    {
     "data": {
      "text/plain": [
       "1.9056122105013995"
      ]
     },
     "execution_count": 16,
     "metadata": {},
     "output_type": "execute_result"
    }
   ],
   "source": [
    "e"
   ]
  },
  {
   "cell_type": "code",
   "execution_count": 17,
   "metadata": {
    "colab": {
     "base_uri": "https://localhost:8080/",
     "height": 51
    },
    "colab_type": "code",
    "executionInfo": {
     "elapsed": 1477,
     "status": "ok",
     "timestamp": 1539171886242,
     "user": {
      "displayName": "christian Unterrainer",
      "photoUrl": "",
      "userId": "05048410547014894566"
     },
     "user_tz": -120
    },
    "id": "74pOq2hK2LQE",
    "outputId": "10f2439b-33a3-4142-a4e5-c6e8faa567c3"
   },
   "outputs": [
    {
     "data": {
      "text/plain": [
       "array([ 8.4299134 , 10.67868529, 10.81766705, ..., 54.76780439,\n",
       "       59.5291008 , 62.35073684])"
      ]
     },
     "execution_count": 17,
     "metadata": {},
     "output_type": "execute_result"
    }
   ],
   "source": [
    "sub_reg_preds"
   ]
  },
  {
   "cell_type": "markdown",
   "metadata": {},
   "source": [
    "## Same model using sklearns TimeSeriesSplit for folding"
   ]
  },
  {
   "cell_type": "code",
   "execution_count": 18,
   "metadata": {
    "colab": {},
    "colab_type": "code",
    "id": "1CGU6SU3wYg1"
   },
   "outputs": [
    {
     "name": "stdout",
     "output_type": "stream",
     "text": [
      "['date', 'store', 'item', 'year', 'month', 'day']\n",
      "fold: 0\n",
      "Training until validation scores don't improve for 50 rounds.\n",
      "Early stopping, best iteration is:\n",
      "[8]\tvalid_0's l2: 1174.81\tvalid_0's mape: 0.472889\n",
      "fold: 1\n",
      "Training until validation scores don't improve for 50 rounds.\n",
      "Early stopping, best iteration is:\n",
      "[1]\tvalid_0's l2: 874.372\tvalid_0's mape: 0.503948\n",
      "fold: 2\n",
      "Training until validation scores don't improve for 50 rounds.\n",
      "Early stopping, best iteration is:\n",
      "[16]\tvalid_0's l2: 770.268\tvalid_0's mape: 0.618888\n",
      "fold: 3\n",
      "Training until validation scores don't improve for 50 rounds.\n",
      "[100]\tvalid_0's l2: 802.422\tvalid_0's mape: 0.85967\n",
      "[200]\tvalid_0's l2: 717.313\tvalid_0's mape: 0.778031\n",
      "[300]\tvalid_0's l2: 681.613\tvalid_0's mape: 0.70437\n",
      "[400]\tvalid_0's l2: 663.281\tvalid_0's mape: 0.643154\n",
      "[500]\tvalid_0's l2: 652.354\tvalid_0's mape: 0.573206\n",
      "Early stopping, best iteration is:\n",
      "[490]\tvalid_0's l2: 651.914\tvalid_0's mape: 0.580303\n",
      "fold: 4\n",
      "Training until validation scores don't improve for 50 rounds.\n",
      "[100]\tvalid_0's l2: 643.658\tvalid_0's mape: 0.510985\n",
      "[200]\tvalid_0's l2: 620.252\tvalid_0's mape: 0.450831\n",
      "[300]\tvalid_0's l2: 613.948\tvalid_0's mape: 0.424438\n",
      "Early stopping, best iteration is:\n",
      "[299]\tvalid_0's l2: 612.793\tvalid_0's mape: 0.424824\n",
      "Full validation score 0.6929\n"
     ]
    }
   ],
   "source": [
    "folds = TimeSeriesSplit(n_splits=5)\n",
    "\n",
    "train_features = [_f for _f in train.columns if _f not in excluded_features]\n",
    "print(train_features)\n",
    "\n",
    "importances = pd.DataFrame()\n",
    "oof_reg_preds = np.zeros(train.shape[0])\n",
    "sub_reg_preds = np.zeros(test.shape[0])\n",
    "\n",
    "for fold_, (trn_, val_) in enumerate(folds.split(train)):\n",
    "    trn_x, trn_y = train[train_features].iloc[trn_], y_reg.iloc[trn_]\n",
    "    val_x, val_y = train[train_features].iloc[val_], y_reg.iloc[val_]\n",
    "    \n",
    "    print(\"fold: \" + str(fold_))\n",
    "    \n",
    "    reg = lgb.LGBMRegressor(\n",
    "        num_leaves=10,\n",
    "        max_depth=4,\n",
    "        learning_rate=0.01,\n",
    "        n_estimators=2000,\n",
    "        random_state=1\n",
    "    )\n",
    "    reg.fit(\n",
    "        trn_x, trn_y,\n",
    "        eval_set=[(val_x, val_y)],\n",
    "        early_stopping_rounds=50,\n",
    "        verbose=100,\n",
    "        eval_metric='mape'\n",
    "    )\n",
    "    imp_df = pd.DataFrame()\n",
    "    imp_df['feature'] = train_features\n",
    "    imp_df['gain'] = reg.booster_.feature_importance(importance_type='gain')\n",
    "    \n",
    "    imp_df['fold'] = fold_\n",
    "    importances = pd.concat([importances, imp_df], axis=0)\n",
    "    \n",
    "    oof_reg_preds[val_] = reg.predict(val_x, num_iteration=reg.best_iteration_)\n",
    "    _preds = reg.predict(test[train_features], num_iteration=reg.best_iteration_)\n",
    "    sub_reg_preds += _preds / folds.get_n_splits()\n",
    "\n",
    "#mape\n",
    "ape = 2 * np.abs(oof_reg_preds - y_reg) / (np.abs(oof_reg_preds) + np.abs(y_reg))\n",
    "e = ape.mean() \n",
    "print('Full validation score %.4f' %e)"
   ]
  },
  {
   "cell_type": "code",
   "execution_count": 19,
   "metadata": {
    "colab": {
     "base_uri": "https://localhost:8080/",
     "height": 34
    },
    "colab_type": "code",
    "executionInfo": {
     "elapsed": 1991,
     "status": "ok",
     "timestamp": 1539171891714,
     "user": {
      "displayName": "christian Unterrainer",
      "photoUrl": "",
      "userId": "05048410547014894566"
     },
     "user_tz": -120
    },
    "id": "3HpFGnJlIhjs",
    "outputId": "a17f71a7-1bb1-468b-e3e8-6d4df44f2832"
   },
   "outputs": [
    {
     "data": {
      "text/plain": [
       "(45.5835258118452, 40.61884879576772, 52.250286966046005)"
      ]
     },
     "execution_count": 19,
     "metadata": {},
     "output_type": "execute_result"
    }
   ],
   "source": [
    "sub_reg_preds.mean(), oof_reg_preds[val_idx].mean(), y_reg.mean()"
   ]
  },
  {
   "cell_type": "code",
   "execution_count": 20,
   "metadata": {
    "colab": {},
    "colab_type": "code",
    "id": "tb7RUw2G_uQd"
   },
   "outputs": [],
   "source": [
    "sub['sales'] = sub_reg_preds\n",
    "sub.to_csv(f'{path}sub_lgb_baseline.csv', index=False)"
   ]
  },
  {
   "cell_type": "code",
   "execution_count": 21,
   "metadata": {
    "colab": {
     "base_uri": "https://localhost:8080/",
     "height": 119
    },
    "colab_type": "code",
    "executionInfo": {
     "elapsed": 1021,
     "status": "ok",
     "timestamp": 1539171526263,
     "user": {
      "displayName": "christian Unterrainer",
      "photoUrl": "",
      "userId": "05048410547014894566"
     },
     "user_tz": -120
    },
    "id": "BY-AG_M6InB_",
    "outputId": "941ecb30-bfd9-4723-ee99-e049f39c189b"
   },
   "outputs": [
    {
     "data": {
      "text/plain": [
       "0    35.975753\n",
       "1    36.595098\n",
       "2    36.595098\n",
       "3    36.682939\n",
       "4    37.052162\n",
       "Name: sales, dtype: float64"
      ]
     },
     "execution_count": 21,
     "metadata": {},
     "output_type": "execute_result"
    }
   ],
   "source": [
    "sub['sales'].head()"
   ]
  }
 ],
 "metadata": {
  "accelerator": "GPU",
  "colab": {
   "collapsed_sections": [],
   "name": "Lightgbm_baseline.ipynb",
   "provenance": [],
   "toc_visible": true,
   "version": "0.3.2"
  },
  "kernelspec": {
   "display_name": "Python 3",
   "language": "python",
   "name": "python3"
  },
  "language_info": {
   "codemirror_mode": {
    "name": "ipython",
    "version": 3
   },
   "file_extension": ".py",
   "mimetype": "text/x-python",
   "name": "python",
   "nbconvert_exporter": "python",
   "pygments_lexer": "ipython3",
   "version": "3.6.6"
  }
 },
 "nbformat": 4,
 "nbformat_minor": 1
}
