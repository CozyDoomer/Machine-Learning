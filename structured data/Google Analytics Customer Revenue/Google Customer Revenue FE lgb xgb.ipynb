{
 "cells": [
  {
   "cell_type": "code",
   "execution_count": 1,
   "metadata": {
    "_cell_guid": "79c7e3d0-c299-4dcb-8224-4455121ee9b0",
    "_uuid": "d629ff2d2480ee46fbb7e2d37f6b5fab8052498a"
   },
   "outputs": [],
   "source": [
    "import os\n",
    "import pandas as pd\n",
    "import numpy as np\n",
    "import matplotlib.pyplot as plt\n",
    "import seaborn as sns\n",
    "from sklearn.metrics import mean_squared_error\n",
    "import gc\n",
    "import time\n",
    "from pandas.core.common import SettingWithCopyWarning\n",
    "import warnings\n",
    "import lightgbm as lgb\n",
    "import xgboost\n",
    "from sklearn.model_selection import GroupKFold, GridSearchCV\n",
    "\n",
    "# I don't like SettingWithCopyWarnings ...\n",
    "warnings.simplefilter('error', SettingWithCopyWarning)\n",
    "gc.enable()\n",
    "%matplotlib inline"
   ]
  },
  {
   "cell_type": "markdown",
   "metadata": {
    "_uuid": "e8c6c0d5d8cf00737b8ae536b0d528b32fac9166"
   },
   "source": [
    "### 1.Get the extracted data"
   ]
  },
  {
   "cell_type": "code",
   "execution_count": 2,
   "metadata": {
    "_uuid": "6fe04db087c3d25b8b4a5873ee6f104e427525f0"
   },
   "outputs": [
    {
     "data": {
      "text/plain": [
       "((903653, 30), (804684, 30))"
      ]
     },
     "execution_count": 2,
     "metadata": {},
     "output_type": "execute_result"
    }
   ],
   "source": [
    "train = pd.read_csv('data/extracted_fields_train.gz', \n",
    "                    dtype={'date': str, 'fullVisitorId': str, 'sessionId':str}, nrows=None)\n",
    "test = pd.read_csv('data/extracted_fields_test.gz', \n",
    "                   dtype={'date': str, 'fullVisitorId': str, 'sessionId':str}, nrows=None)\n",
    "train.shape, test.shape"
   ]
  },
  {
   "cell_type": "markdown",
   "metadata": {
    "_uuid": "b64b336b70ccb5478d33f9e042eeeabee549c919"
   },
   "source": [
    "### 2.Data Fold using GroupKfold"
   ]
  },
  {
   "cell_type": "code",
   "execution_count": 3,
   "metadata": {
    "_uuid": "cd54722ebf9ae8b68eddb2116c0559625e7d6a48"
   },
   "outputs": [],
   "source": [
    "def get_folds(df=None, n_splits=5):\n",
    "    \"\"\"Returns dataframe indices corresponding to Visitors Group KFold\"\"\"\n",
    "    # Get sorted unique visitors\n",
    "    unique_vis = np.array(sorted(df['fullVisitorId'].unique()))\n",
    "\n",
    "    # Get folds\n",
    "    folds = GroupKFold(n_splits=n_splits)\n",
    "    fold_ids = []\n",
    "    ids = np.arange(df.shape[0])\n",
    "    for trn_vis, val_vis in folds.split(X=unique_vis, y=unique_vis, groups=unique_vis):\n",
    "        fold_ids.append(\n",
    "            [\n",
    "                ids[df['fullVisitorId'].isin(unique_vis[trn_vis])],\n",
    "                ids[df['fullVisitorId'].isin(unique_vis[val_vis])]\n",
    "            ]\n",
    "        )\n",
    "\n",
    "    return fold_ids"
   ]
  },
  {
   "cell_type": "markdown",
   "metadata": {
    "_uuid": "18b2fb7729077132ef249956a1bbb072baee17db"
   },
   "source": [
    "### 3.Target Define transaction"
   ]
  },
  {
   "cell_type": "code",
   "execution_count": 4,
   "metadata": {
    "_uuid": "c539c76d9a5305066ea084ca32016132da41b35b"
   },
   "outputs": [],
   "source": [
    "y_reg = train['totals.transactionRevenue'].fillna(0)\n",
    "del train['totals.transactionRevenue']\n",
    "\n",
    "if 'totals.transactionRevenue' in test.columns:\n",
    "    del test['totals.transactionRevenue']"
   ]
  },
  {
   "cell_type": "markdown",
   "metadata": {
    "_uuid": "1d9af86b1cf94e192d704bfd419eed4490e1debe"
   },
   "source": [
    "### 4.Add date features\n",
    "\n",
    "Only add the one I think can ganeralize"
   ]
  },
  {
   "cell_type": "code",
   "execution_count": 5,
   "metadata": {
    "_uuid": "fbf93fda18940aa29105fa2d66f3514311d4fc68"
   },
   "outputs": [
    {
     "data": {
      "text/plain": [
       "Index(['channelGrouping', 'date', 'fullVisitorId', 'sessionId', 'visitId',\n",
       "       'visitNumber', 'visitStartTime', 'device.browser',\n",
       "       'device.deviceCategory', 'device.isMobile', 'device.operatingSystem',\n",
       "       'geoNetwork.city', 'geoNetwork.continent', 'geoNetwork.country',\n",
       "       'geoNetwork.metro', 'geoNetwork.networkDomain', 'geoNetwork.region',\n",
       "       'geoNetwork.subContinent', 'totals.bounces', 'totals.hits',\n",
       "       'totals.newVisits', 'totals.pageviews', 'trafficSource.adContent',\n",
       "       'trafficSource.campaign', 'trafficSource.isTrueDirect',\n",
       "       'trafficSource.keyword', 'trafficSource.medium',\n",
       "       'trafficSource.referralPath', 'trafficSource.source'],\n",
       "      dtype='object')"
      ]
     },
     "execution_count": 5,
     "metadata": {},
     "output_type": "execute_result"
    }
   ],
   "source": [
    "train.columns"
   ]
  },
  {
   "cell_type": "code",
   "execution_count": 6,
   "metadata": {
    "_uuid": "b04391e12fdca0199ff22ab7febd9b0b53d6cbb3"
   },
   "outputs": [],
   "source": [
    "for df in [train, test]:\n",
    "    df['date'] = pd.to_datetime(df['visitStartTime'], unit='s')\n",
    "    df['sess_date_dow'] = df['date'].dt.dayofweek\n",
    "    df['sess_date_hours'] = df['date'].dt.hour\n",
    "    df['sess_date_dom'] = df['date'].dt.day"
   ]
  },
  {
   "cell_type": "markdown",
   "metadata": {},
   "source": [
    "# more Complex feature engineering"
   ]
  },
  {
   "cell_type": "code",
   "execution_count": 7,
   "metadata": {
    "_uuid": "c46393e2a0eb5b96972fc099e36ece5f90d7dcdd"
   },
   "outputs": [
    {
     "name": "stdout",
     "output_type": "stream",
     "text": [
      "process device ...\n",
      "process device ...\n",
      "custom..\n",
      "custom..\n"
     ]
    }
   ],
   "source": [
    "# https://www.kaggle.com/prashantkikani/teach-lightgbm-to-sum-predictions-fe\n",
    "def browser_mapping(x):\n",
    "    browsers = ['chrome','safari','firefox','internet explorer','edge','opera','coc coc','maxthon','iron']\n",
    "    if x in browsers:\n",
    "        return x.lower()\n",
    "    elif  ('android' in x) or ('samsung' in x) or ('mini' in x) or ('iphone' in x) or ('in-app' in x) or ('playstation' in x):\n",
    "        return 'mobile browser'\n",
    "    elif  ('mozilla' in x) or ('chrome' in x) or ('blackberry' in x) or ('nokia' in x) or ('browser' in x) or ('amazon' in x):\n",
    "        return 'mobile browser'\n",
    "    elif  ('lunascape' in x) or ('netscape' in x) or ('blackberry' in x) or ('konqueror' in x) or ('puffin' in x) or ('amazon' in x):\n",
    "        return 'mobile browser'\n",
    "    elif '(not set)' in x:\n",
    "        return x\n",
    "    else:\n",
    "        return 'others'\n",
    "    \n",
    "    \n",
    "def adcontents_mapping(x):\n",
    "    if  ('google' in x):\n",
    "        return 'google'\n",
    "    elif  ('placement' in x) | ('placememnt' in x):\n",
    "        return 'placement'\n",
    "    elif '(not set)' in x or 'nan' in x:\n",
    "        return x\n",
    "    elif 'ad' in x:\n",
    "        return 'ad'\n",
    "    else:\n",
    "        return 'others'\n",
    "    \n",
    "def source_mapping(x):\n",
    "    if  ('google' in x):\n",
    "        return 'google'\n",
    "    elif  ('youtube' in x):\n",
    "        return 'youtube'\n",
    "    elif '(not set)' in x or 'nan' in x:\n",
    "        return x\n",
    "    elif 'yahoo' in x:\n",
    "        return 'yahoo'\n",
    "    elif 'facebook' in x:\n",
    "        return 'facebook'\n",
    "    elif 'reddit' in x:\n",
    "        return 'reddit'\n",
    "    elif 'bing' in x:\n",
    "        return 'bing'\n",
    "    elif 'quora' in x:\n",
    "        return 'quora'\n",
    "    elif 'outlook' in x:\n",
    "        return 'outlook'\n",
    "    elif 'linkedin' in x:\n",
    "        return 'linkedin'\n",
    "    elif 'pinterest' in x:\n",
    "        return 'pinterest'\n",
    "    elif 'ask' in x:\n",
    "        return 'ask'\n",
    "    elif 'siliconvalley' in x:\n",
    "        return 'siliconvalley'\n",
    "    elif 'lunametrics' in x:\n",
    "        return 'lunametrics'\n",
    "    elif 'amazon' in x:\n",
    "        return 'amazon'\n",
    "    elif 'mysearch' in x:\n",
    "        return 'mysearch'\n",
    "    elif 'qiita' in x:\n",
    "        return 'qiita'\n",
    "    elif 'messenger' in x:\n",
    "        return 'messenger'\n",
    "    elif 'twitter' in x:\n",
    "        return 'twitter'\n",
    "    elif 't.co' in x:\n",
    "        return 't.co'\n",
    "    elif 'vk.com' in x:\n",
    "        return 'vk.com'\n",
    "    elif 'search' in x:\n",
    "        return 'search'\n",
    "    elif 'edu' in x:\n",
    "        return 'edu'\n",
    "    elif 'mail' in x:\n",
    "        return 'mail'\n",
    "    elif 'ad' in x:\n",
    "        return 'ad'\n",
    "    elif 'golang' in x:\n",
    "        return 'golang'\n",
    "    elif 'direct' in x:\n",
    "        return 'direct'\n",
    "    elif 'dealspotr' in x:\n",
    "        return 'dealspotr'\n",
    "    elif 'sashihara' in x:\n",
    "        return 'sashihara'\n",
    "    elif 'phandroid' in x:\n",
    "        return 'phandroid'\n",
    "    elif 'baidu' in x:\n",
    "        return 'baidu'\n",
    "    elif 'mdn' in x:\n",
    "        return 'mdn'\n",
    "    elif 'duckduckgo' in x:\n",
    "        return 'duckduckgo'\n",
    "    elif 'seroundtable' in x:\n",
    "        return 'seroundtable'\n",
    "    elif 'metrics' in x:\n",
    "        return 'metrics'\n",
    "    elif 'sogou' in x:\n",
    "        return 'sogou'\n",
    "    elif 'businessinsider' in x:\n",
    "        return 'businessinsider'\n",
    "    elif 'github' in x:\n",
    "        return 'github'\n",
    "    elif 'gophergala' in x:\n",
    "        return 'gophergala'\n",
    "    elif 'yandex' in x:\n",
    "        return 'yandex'\n",
    "    elif 'msn' in x:\n",
    "        return 'msn'\n",
    "    elif 'dfa' in x:\n",
    "        return 'dfa'\n",
    "    elif '(not set)' in x:\n",
    "        return '(not set)'\n",
    "    elif 'feedly' in x:\n",
    "        return 'feedly'\n",
    "    elif 'arstechnica' in x:\n",
    "        return 'arstechnica'\n",
    "    elif 'squishable' in x:\n",
    "        return 'squishable'\n",
    "    elif 'flipboard' in x:\n",
    "        return 'flipboard'\n",
    "    elif 't-online.de' in x:\n",
    "        return 't-online.de'\n",
    "    elif 'sm.cn' in x:\n",
    "        return 'sm.cn'\n",
    "    elif 'wow' in x:\n",
    "        return 'wow'\n",
    "    elif 'baidu' in x:\n",
    "        return 'baidu'\n",
    "    elif 'partners' in x:\n",
    "        return 'partners'\n",
    "    else:\n",
    "        return 'others'\n",
    "\n",
    "train['device.browser'] = train['device.browser'].map(lambda x:browser_mapping(str(x).lower())).astype('str')\n",
    "train['trafficSource.adContent'] = train['trafficSource.adContent'].map(lambda x:adcontents_mapping(str(x).lower())).astype('str')\n",
    "train['trafficSource.source'] = train['trafficSource.source'].map(lambda x:source_mapping(str(x).lower())).astype('str')\n",
    "\n",
    "test['device.browser'] = test['device.browser'].map(lambda x:browser_mapping(str(x).lower())).astype('str')\n",
    "test['trafficSource.adContent'] = test['trafficSource.adContent'].map(lambda x:adcontents_mapping(str(x).lower())).astype('str')\n",
    "test['trafficSource.source'] = test['trafficSource.source'].map(lambda x:source_mapping(str(x).lower())).astype('str')\n",
    "\n",
    "def process_device(data_df):\n",
    "    print(\"process device ...\")\n",
    "    data_df['source.country'] = data_df['trafficSource.source'] + '_' + data_df['geoNetwork.country']\n",
    "    data_df['campaign.medium'] = data_df['trafficSource.campaign'] + '_' + data_df['trafficSource.medium']\n",
    "    data_df['browser.category'] = data_df['device.browser'] + '_' + data_df['device.deviceCategory']\n",
    "    data_df['browser.os'] = data_df['device.browser'] + '_' + data_df['device.operatingSystem']\n",
    "    return data_df\n",
    "\n",
    "train = process_device(train)\n",
    "test = process_device(test)\n",
    "\n",
    "def custom(data):\n",
    "    print('custom..')\n",
    "    data['device_deviceCategory_channelGrouping'] = data['device.deviceCategory'] + \"_\" + data['channelGrouping']\n",
    "    data['channelGrouping_browser'] = data['device.browser'] + \"_\" + data['channelGrouping']\n",
    "    data['channelGrouping_OS'] = data['device.operatingSystem'] + \"_\" + data['channelGrouping']\n",
    "    \n",
    "    for i in ['geoNetwork.city', 'geoNetwork.continent', 'geoNetwork.country','geoNetwork.metro', 'geoNetwork.networkDomain', 'geoNetwork.region','geoNetwork.subContinent']:\n",
    "        for j in ['device.browser','device.deviceCategory', 'device.operatingSystem', 'trafficSource.source']:\n",
    "            data[i + \"_\" + j] = data[i] + \"_\" + data[j]\n",
    "    \n",
    "    data['content.source'] = data['trafficSource.adContent'] + \"_\" + data['source.country']\n",
    "    data['medium.source'] = data['trafficSource.medium'] + \"_\" + data['source.country']\n",
    "    return data\n",
    "train = custom(train)\n",
    "test = custom(test)"
   ]
  },
  {
   "cell_type": "markdown",
   "metadata": {
    "_uuid": "59e7c9bcf14d3f430489d15d22757b91dd9d5ad1"
   },
   "source": [
    "### 5.Create features list"
   ]
  },
  {
   "cell_type": "code",
   "execution_count": 8,
   "metadata": {
    "_uuid": "e09ff3124721ad70eab65b924093b5fd0c12f9c6"
   },
   "outputs": [],
   "source": [
    "excluded_features = [\n",
    "    'date', 'fullVisitorId', 'sessionId', 'totals.transactionRevenue', \n",
    "    'visitId', 'visitStartTime'\n",
    "]\n",
    "\n",
    "categorical_features = [\n",
    "    _f for _f in train.columns\n",
    "    if (_f not in excluded_features) & (train[_f].dtype == 'object')\n",
    "]"
   ]
  },
  {
   "cell_type": "markdown",
   "metadata": {
    "_uuid": "2d207a80600a44e758b6011f24c5808f9b164866"
   },
   "source": [
    "### 6.Factorize categoricals"
   ]
  },
  {
   "cell_type": "code",
   "execution_count": 9,
   "metadata": {
    "_uuid": "4f00eb6b6166cd5be25ebad22aa9dc91a8a3ded2"
   },
   "outputs": [],
   "source": [
    "for f in categorical_features:\n",
    "    train[f], indexer = pd.factorize(train[f])\n",
    "    test[f] = indexer.get_indexer(test[f])"
   ]
  },
  {
   "cell_type": "code",
   "execution_count": 10,
   "metadata": {
    "_uuid": "49c931caccd24198208667b9a6bb6cc5ccd99695"
   },
   "outputs": [
    {
     "data": {
      "text/plain": [
       "((903653, 69), (804684, 69))"
      ]
     },
     "execution_count": 10,
     "metadata": {},
     "output_type": "execute_result"
    }
   ],
   "source": [
    "train.shape, test.shape"
   ]
  },
  {
   "cell_type": "markdown",
   "metadata": {
    "_uuid": "1da57eaaf55fda457e392d2dcdb73ca6487cdb47"
   },
   "source": [
    "### 7.Cross Validation for Hyperparameter Tuning"
   ]
  },
  {
   "cell_type": "code",
   "execution_count": 11,
   "metadata": {
    "_uuid": "a6605f3d75474f1b48e5c01f9965b783830f433c",
    "scrolled": false
   },
   "outputs": [],
   "source": [
    "params={'learning_rate': 0.03,\n",
    "        'objective':'regression',\n",
    "        'metric':'rmse',\n",
    "        'num_leaves': 31,\n",
    "        'verbose': 1,\n",
    "        \"subsample\": 0.99,\n",
    "        \"colsample_bytree\": 0.99,\n",
    "        \"random_state\":42,\n",
    "        'max_depth': 15,\n",
    "        'lambda_l2': 0.02085548700474218,\n",
    "        'lambda_l1': 0.004107624022751344,\n",
    "        'bagging_fraction': 0.7934712636944741,\n",
    "        'feature_fraction': 0.686612409641711,\n",
    "        'min_child_samples': 21\n",
    "       }\n"
   ]
  },
  {
   "cell_type": "markdown",
   "metadata": {
    "_uuid": "d7517b473bd776f51925ab0243cf1e3b6592ce0e"
   },
   "source": [
    "### 8.Model Training with Kfold Validation LightGBM"
   ]
  },
  {
   "cell_type": "code",
   "execution_count": 12,
   "metadata": {},
   "outputs": [],
   "source": [
    "train_features = [_f for _f in train.columns if _f not in excluded_features]"
   ]
  },
  {
   "cell_type": "code",
   "execution_count": 13,
   "metadata": {},
   "outputs": [],
   "source": [
    "#train_features_selected = [_f for _f in train_features if _f in selected_features]"
   ]
  },
  {
   "cell_type": "code",
   "execution_count": null,
   "metadata": {},
   "outputs": [],
   "source": []
  },
  {
   "cell_type": "code",
   "execution_count": 14,
   "metadata": {},
   "outputs": [],
   "source": [
    "#len(train_features_selected), len(train_features_excl), len(excluded_features)"
   ]
  },
  {
   "cell_type": "code",
   "execution_count": 15,
   "metadata": {
    "_uuid": "e9c155197545dc43ec2f3e23e25955532f7ad25d"
   },
   "outputs": [
    {
     "name": "stdout",
     "output_type": "stream",
     "text": [
      "Fold: 0\n",
      "Training until validation scores don't improve for 50 rounds.\n",
      "[100]\tvalid_0's rmse: 1.66877\n",
      "[200]\tvalid_0's rmse: 1.64753\n",
      "[300]\tvalid_0's rmse: 1.64346\n",
      "[400]\tvalid_0's rmse: 1.64096\n",
      "[500]\tvalid_0's rmse: 1.64024\n",
      "[600]\tvalid_0's rmse: 1.63885\n",
      "[700]\tvalid_0's rmse: 1.6381\n",
      "Early stopping, best iteration is:\n",
      "[730]\tvalid_0's rmse: 1.63797\n",
      "Fold: 1\n",
      "Training until validation scores don't improve for 50 rounds.\n",
      "[100]\tvalid_0's rmse: 1.6472\n",
      "[200]\tvalid_0's rmse: 1.63055\n",
      "[300]\tvalid_0's rmse: 1.62645\n",
      "Early stopping, best iteration is:\n",
      "[291]\tvalid_0's rmse: 1.62635\n",
      "Fold: 2\n",
      "Training until validation scores don't improve for 50 rounds.\n",
      "[100]\tvalid_0's rmse: 1.66071\n",
      "[200]\tvalid_0's rmse: 1.64175\n",
      "[300]\tvalid_0's rmse: 1.63684\n",
      "[400]\tvalid_0's rmse: 1.63443\n",
      "[500]\tvalid_0's rmse: 1.63293\n",
      "[600]\tvalid_0's rmse: 1.63247\n",
      "Early stopping, best iteration is:\n",
      "[569]\tvalid_0's rmse: 1.63215\n",
      "Fold: 3\n",
      "Training until validation scores don't improve for 50 rounds.\n",
      "[100]\tvalid_0's rmse: 1.64027\n",
      "[200]\tvalid_0's rmse: 1.62251\n",
      "[300]\tvalid_0's rmse: 1.61818\n",
      "[400]\tvalid_0's rmse: 1.61637\n",
      "[500]\tvalid_0's rmse: 1.61452\n",
      "Early stopping, best iteration is:\n",
      "[503]\tvalid_0's rmse: 1.61447\n",
      "Fold: 4\n",
      "Training until validation scores don't improve for 50 rounds.\n",
      "[100]\tvalid_0's rmse: 1.68049\n",
      "[200]\tvalid_0's rmse: 1.66317\n",
      "[300]\tvalid_0's rmse: 1.65799\n",
      "[400]\tvalid_0's rmse: 1.65664\n",
      "[500]\tvalid_0's rmse: 1.65466\n",
      "[600]\tvalid_0's rmse: 1.65329\n",
      "[700]\tvalid_0's rmse: 1.65268\n",
      "Early stopping, best iteration is:\n",
      "[684]\tvalid_0's rmse: 1.65259\n"
     ]
    },
    {
     "data": {
      "text/plain": [
       "1.632225776776637"
      ]
     },
     "execution_count": 15,
     "metadata": {},
     "output_type": "execute_result"
    }
   ],
   "source": [
    "folds = get_folds(df=train, n_splits=5)\n",
    "\n",
    "importances = pd.DataFrame()\n",
    "oof_reg_preds = np.zeros(train.shape[0])\n",
    "sub_reg_preds = np.zeros(test.shape[0])\n",
    "for fold_, (trn_, val_) in enumerate(folds):\n",
    "    print(\"Fold:\",fold_)\n",
    "    trn_x, trn_y = train[train_features].iloc[trn_], y_reg.iloc[trn_]\n",
    "    val_x, val_y = train[train_features].iloc[val_], y_reg.iloc[val_]\n",
    "    reg = lgb.LGBMRegressor(**params,\n",
    "         n_estimators=1000\n",
    "    )\n",
    "    reg.fit(\n",
    "        trn_x, np.log1p(trn_y),\n",
    "        eval_set=[(val_x, np.log1p(val_y))],\n",
    "        early_stopping_rounds=50,\n",
    "        verbose=100,\n",
    "        eval_metric='rmse'\n",
    "    )\n",
    "    imp_df = pd.DataFrame()\n",
    "    imp_df['feature'] = train_features\n",
    "    imp_df['gain'] = reg.booster_.feature_importance(importance_type='gain')\n",
    "    \n",
    "    imp_df['fold'] = fold_ + 1\n",
    "    importances = pd.concat([importances, imp_df], axis=0, sort=False)\n",
    "    \n",
    "    oof_reg_preds[val_] = reg.predict(val_x, num_iteration=reg.best_iteration_)\n",
    "    oof_reg_preds[oof_reg_preds < 0] = 0\n",
    "    _preds = reg.predict(test[train_features], num_iteration=reg.best_iteration_)\n",
    "    _preds[_preds < 0] = 0\n",
    "    sub_reg_preds += np.expm1(_preds) / len(folds)\n",
    "    \n",
    "mean_squared_error(np.log1p(y_reg), oof_reg_preds) ** .5"
   ]
  },
  {
   "cell_type": "markdown",
   "metadata": {
    "_uuid": "2b23cdb7ee1e35c6deba9edd6ffd87a4cdc72920"
   },
   "source": [
    "### 9.Display feature importances"
   ]
  },
  {
   "cell_type": "code",
   "execution_count": 16,
   "metadata": {
    "_uuid": "61d4aacc57c2c7c4d9ce0b1cab7221ca7c69138f"
   },
   "outputs": [
    {
     "data": {
      "text/plain": [
       "<matplotlib.axes._subplots.AxesSubplot at 0x1f7d081deb8>"
      ]
     },
     "execution_count": 16,
     "metadata": {},
     "output_type": "execute_result"
    },
    {
     "data": {
      "image/png": "[encoded data removed]",
      "text/plain": [
       "<Figure size 576x864 with 1 Axes>"
      ]
     },
     "metadata": {
      "needs_background": "light"
     },
     "output_type": "display_data"
    }
   ],
   "source": [
    "import warnings\n",
    "warnings.simplefilter('ignore', FutureWarning)\n",
    "\n",
    "importances['gain_log'] = np.log1p(importances['gain'])\n",
    "mean_gain = importances[['gain', 'feature']].groupby('feature').mean()\n",
    "importances['mean_gain'] = importances['feature'].map(mean_gain['gain'])\n",
    "\n",
    "plt.figure(figsize=(8, 12))\n",
    "sns.barplot(x='gain_log', y='feature', data=importances.sort_values('mean_gain', ascending=False))"
   ]
  },
  {
   "cell_type": "markdown",
   "metadata": {
    "_uuid": "c64447b5858dc899b6b78d26a4e68a8582995051"
   },
   "source": [
    "### 10.Create user level predictions"
   ]
  },
  {
   "cell_type": "code",
   "execution_count": 17,
   "metadata": {
    "_uuid": "1fc92504b40407cff766489db1966e729d0466df"
   },
   "outputs": [],
   "source": [
    "train['predictions'] = np.expm1(oof_reg_preds)\n",
    "test['predictions'] = sub_reg_preds"
   ]
  },
  {
   "cell_type": "code",
   "execution_count": 19,
   "metadata": {},
   "outputs": [
    {
     "data": {
      "text/plain": [
       "0.23703936653080893"
      ]
     },
     "execution_count": 19,
     "metadata": {},
     "output_type": "execute_result"
    }
   ],
   "source": [
    "oof_reg_preds.mean()"
   ]
  },
  {
   "cell_type": "code",
   "execution_count": null,
   "metadata": {
    "_uuid": "515d3d14483844c93710fb6b6f9e39a6a2a1d384"
   },
   "outputs": [],
   "source": [
    "# Aggregate data at User level\n",
    "trn_data = train[train_features + ['fullVisitorId']].groupby('fullVisitorId').mean()"
   ]
  },
  {
   "cell_type": "code",
   "execution_count": null,
   "metadata": {},
   "outputs": [],
   "source": [
    "len(trn_data.columns)"
   ]
  },
  {
   "cell_type": "code",
   "execution_count": null,
   "metadata": {
    "_uuid": "31d76001e77e3ee2e10e67a5bc899a83c4cfeb8d"
   },
   "outputs": [],
   "source": [
    "%%time\n",
    "# Create a list of predictions for each Visitor\n",
    "trn_pred_list = train[['fullVisitorId', 'predictions']].groupby('fullVisitorId')\\\n",
    "    .apply(lambda df: list(df.predictions))\\\n",
    "    .apply(lambda x: {'pred_'+str(i): pred for i, pred in enumerate(x)})"
   ]
  },
  {
   "cell_type": "code",
   "execution_count": null,
   "metadata": {
    "_uuid": "b8f1bac1ef32a58f70aa7bcca79acc7119ddcfb5"
   },
   "outputs": [],
   "source": [
    "# Create a DataFrame with VisitorId as index\n",
    "# trn_pred_list contains dict \n",
    "# so creating a dataframe from it will expand dict values into columns\n",
    "trn_all_predictions = pd.DataFrame(list(trn_pred_list.values), index=trn_data.index)\n",
    "trn_feats = trn_all_predictions.columns\n",
    "trn_all_predictions['t_mean'] = np.log1p(trn_all_predictions[trn_feats].mean(axis=1))\n",
    "trn_all_predictions['t_median'] = np.log1p(trn_all_predictions[trn_feats].median(axis=1))\n",
    "trn_all_predictions['t_sum_log'] = np.log1p(trn_all_predictions[trn_feats]).sum(axis=1)\n",
    "trn_all_predictions['t_sum_act'] = np.log1p(trn_all_predictions[trn_feats].fillna(0).sum(axis=1))\n",
    "trn_all_predictions['t_nb_sess'] = trn_all_predictions[trn_feats].isnull().sum(axis=1)\n",
    "trn_all_predictions.to_csv('trn_all_predictions.csv', index=False)\n",
    "full_data = pd.concat([trn_data, trn_all_predictions], axis=1)\n",
    "del trn_data, trn_all_predictions\n",
    "gc.collect()\n",
    "full_data.shape"
   ]
  },
  {
   "cell_type": "code",
   "execution_count": null,
   "metadata": {
    "_uuid": "12a86e1f61f819417bede61f3746366b5028222f"
   },
   "outputs": [],
   "source": [
    "%%time\n",
    "sub_pred_list = test[['fullVisitorId', 'predictions']].groupby('fullVisitorId')\\\n",
    "    .apply(lambda df: list(df.predictions))\\\n",
    "    .apply(lambda x: {'pred_'+str(i): pred for i, pred in enumerate(x)})"
   ]
  },
  {
   "cell_type": "code",
   "execution_count": null,
   "metadata": {
    "_uuid": "611f2a86ffff5947b6863818538577b58f099535"
   },
   "outputs": [],
   "source": [
    "sub_data = test[train_features + ['fullVisitorId']].groupby('fullVisitorId').mean()\n",
    "sub_all_predictions = pd.DataFrame(list(sub_pred_list.values), index=sub_data.index)\n",
    "for f in trn_feats:\n",
    "    if f not in sub_all_predictions.columns:\n",
    "        sub_all_predictions[f] = np.nan\n",
    "sub_all_predictions['t_mean'] = np.log1p(sub_all_predictions[trn_feats].mean(axis=1))\n",
    "sub_all_predictions['t_median'] = np.log1p(sub_all_predictions[trn_feats].median(axis=1))\n",
    "sub_all_predictions['t_sum_log'] = np.log1p(sub_all_predictions[trn_feats]).sum(axis=1)\n",
    "sub_all_predictions['t_sum_act'] = np.log1p(sub_all_predictions[trn_feats].fillna(0).sum(axis=1))\n",
    "sub_all_predictions['t_nb_sess'] = sub_all_predictions[trn_feats].isnull().sum(axis=1)\n",
    "sub_all_predictions.to_csv('sub_all_predictions.csv',index = False)\n",
    "sub_full_data = pd.concat([sub_data, sub_all_predictions], axis=1)\n",
    "del sub_data, sub_all_predictions\n",
    "gc.collect()\n",
    "sub_full_data.shape"
   ]
  },
  {
   "cell_type": "code",
   "execution_count": null,
   "metadata": {},
   "outputs": [],
   "source": [
    "full_data.shape, sub_full_data.shape"
   ]
  },
  {
   "cell_type": "code",
   "execution_count": null,
   "metadata": {},
   "outputs": [],
   "source": [
    "full_data.columns"
   ]
  },
  {
   "cell_type": "markdown",
   "metadata": {
    "_uuid": "c901512b911c731113c0515e97ce80ddf7b7f118"
   },
   "source": [
    "### 11.Create target and Cross Validation"
   ]
  },
  {
   "cell_type": "code",
   "execution_count": null,
   "metadata": {
    "_uuid": "bf3b05a18f83821d12d05500f8e0e52f0603d6c5"
   },
   "outputs": [],
   "source": [
    "train['target'] = y_reg\n",
    "trn_user_target = train[['fullVisitorId', 'target']].groupby('fullVisitorId').sum()"
   ]
  },
  {
   "cell_type": "code",
   "execution_count": null,
   "metadata": {
    "_uuid": "41948378780ac6abfec82f4c25a93542f8d278d3"
   },
   "outputs": [],
   "source": [
    "params={'learning_rate': 0.03,\n",
    "        'objective':'regression',\n",
    "        'metric':'rmse',\n",
    "        'num_leaves': 31,\n",
    "        'verbose': 1,\n",
    "        \"subsample\": 0.99,\n",
    "        \"colsample_bytree\": 0.99,\n",
    "        \"random_state\":42,\n",
    "        'max_depth': 15,\n",
    "        'lambda_l2': 0.02085548700474218,\n",
    "        'lambda_l1': 0.004107624022751344,\n",
    "        'bagging_fraction': 0.7934712636944741,\n",
    "        'feature_fraction': 0.686612409641711,\n",
    "        'min_child_samples': 21\n",
    "       }\n",
    "\n",
    "xgb_params = {\n",
    "        'objective': 'reg:linear',\n",
    "        'booster': 'gbtree',\n",
    "        'learning_rate': 0.02,\n",
    "        'max_depth': 22,\n",
    "        'min_child_weight': 57,\n",
    "        'gamma' : 1.45,\n",
    "        'alpha': 0.0,\n",
    "        'lambda': 0.0,\n",
    "        'subsample': 0.67,\n",
    "        'colsample_bytree': 0.054,\n",
    "        'colsample_bylevel': 0.50,\n",
    "        'n_jobs': -1,\n",
    "        'random_state': 456\n",
    "    }\n"
   ]
  },
  {
   "cell_type": "markdown",
   "metadata": {
    "_uuid": "73a0db5cfa89fa95a120d6c02b768272f30bca2b"
   },
   "source": [
    "### 12.Train a model at Visitor level"
   ]
  },
  {
   "cell_type": "code",
   "execution_count": null,
   "metadata": {
    "_uuid": "236f5546dfad2fee431a28534ef57cf8fec249ec"
   },
   "outputs": [],
   "source": [
    "'''from xgboost import XGBRegressor\n",
    "folds = get_folds(df=full_data[['totals.pageviews']].reset_index(), n_splits=5)\n",
    "\n",
    "oof_preds = np.zeros(full_data.shape[0])\n",
    "oof_preds1 = np.zeros(full_data.shape[0])\n",
    "\n",
    "both_oof = np.zeros(full_data.shape[0])\n",
    "sub_preds = np.zeros(sub_full_data.shape[0])\n",
    "\n",
    "vis_importances = pd.DataFrame()\n",
    "\n",
    "for fold_, (trn_, val_) in enumerate(folds):\n",
    "    trn_x, trn_y = full_data.iloc[trn_], trn_user_target['target'].iloc[trn_]\n",
    "    val_x, val_y = full_data.iloc[val_], trn_user_target['target'].iloc[val_]\n",
    "    \n",
    "    xg = XGBRegressor(**xgb_params, n_estimators=1000)\n",
    "    \n",
    "    reg = lgb.LGBMRegressor(**params,\n",
    "        n_estimators=1500,\n",
    "    )\n",
    "    print('XGB' + \"-\" * 50)\n",
    "    xg.fit(\n",
    "        trn_x, np.log1p(trn_y),\n",
    "        eval_set=[(trn_x, np.log1p(trn_y)), (val_x, np.log1p(val_y))],\n",
    "        early_stopping_rounds=50,\n",
    "        eval_metric='rmse',\n",
    "        verbose=100\n",
    "    )\n",
    "    \n",
    "    print('LGB' + \"-\" * 50)\n",
    "    reg.fit(\n",
    "        trn_x, np.log1p(trn_y),\n",
    "        eval_set=[(trn_x, np.log1p(trn_y)), (val_x, np.log1p(val_y))],\n",
    "        eval_names=['TRAIN', 'VALID'],\n",
    "        early_stopping_rounds=50,\n",
    "        eval_metric='rmse',\n",
    "        verbose=100\n",
    "    )\n",
    "    \n",
    "    imp_df = pd.DataFrame()\n",
    "    imp_df['feature'] = trn_x.columns\n",
    "    imp_df['gain_xgb'] = xg.feature_importances_ / 5\n",
    "    imp_df['gain_lgb'] = reg.booster_.feature_importance(importance_type='gain')\n",
    "    \n",
    "    imp_df['fold'] = fold_ + 1\n",
    "    vis_importances = pd.concat([vis_importances, imp_df], axis=0, sort=False)\n",
    "    \n",
    "    oof_preds[val_] = reg.predict(val_x, num_iteration=reg.best_iteration_)\n",
    "    oof_preds1[val_] = xg.predict(val_x)\n",
    "    \n",
    "    oof_preds[oof_preds < 0] = 0\n",
    "    oof_preds1[oof_preds1 < 0] = 0\n",
    "    \n",
    "    both_oof[val_] = oof_preds[val_] * 0.6 + oof_preds1[val_] * 0.4\n",
    "    \n",
    "    # Make sure features are in the same order\n",
    "    _preds = reg.predict(sub_full_data[full_data.columns], num_iteration=reg.best_iteration_)\n",
    "    _preds[_preds < 0] = 0\n",
    "    \n",
    "    pre = xg.predict(sub_full_data[full_data.columns])\n",
    "    pre[pre<0]=0\n",
    "    \n",
    "    sub_preds += (_preds / len(folds)) * 0.6 + (pre / len(folds)) * 0.4\n",
    "    \n",
    "print(\"LGB  \", mean_squared_error(np.log1p(trn_user_target['target']), oof_preds) ** .5)\n",
    "print(\"XGB  \", mean_squared_error(np.log1p(trn_user_target['target']), oof_preds1) ** .5)\n",
    "print(\"Combine  \", mean_squared_error(np.log1p(trn_user_target['target']), both_oof) ** .5)'''"
   ]
  },
  {
   "cell_type": "code",
   "execution_count": null,
   "metadata": {},
   "outputs": [],
   "source": [
    "#selected_features.append('hits_per_pageviews')"
   ]
  },
  {
   "cell_type": "code",
   "execution_count": null,
   "metadata": {},
   "outputs": [],
   "source": [
    "full_data_no_zero_columns = [_f for _f in full_data.columns if _f in selected_features] "
   ]
  },
  {
   "cell_type": "code",
   "execution_count": null,
   "metadata": {},
   "outputs": [],
   "source": [
    "full_data_no_zero_features = full_data[full_data_no_zero_columns]"
   ]
  },
  {
   "cell_type": "code",
   "execution_count": null,
   "metadata": {},
   "outputs": [],
   "source": [
    "sub_full_data_no_zero_columns = [_f for _f in sub_full_data.columns if _f in selected_features]"
   ]
  },
  {
   "cell_type": "code",
   "execution_count": null,
   "metadata": {},
   "outputs": [],
   "source": [
    "sub_full_data_no_zero_features = sub_full_data[sub_full_data_no_zero_columns]"
   ]
  },
  {
   "cell_type": "code",
   "execution_count": null,
   "metadata": {},
   "outputs": [],
   "source": [
    "full_data_no_zero_features.shape, sub_full_data_no_zero_features.shape"
   ]
  },
  {
   "cell_type": "code",
   "execution_count": null,
   "metadata": {},
   "outputs": [],
   "source": [
    "from xgboost import XGBRegressor\n",
    "folds = get_folds(df=full_data_no_zero_features[['totals.pageviews']].reset_index(), n_splits=5)\n",
    "\n",
    "oof_preds = np.zeros(full_data_no_zero_features.shape[0])\n",
    "oof_preds1 = np.zeros(full_data_no_zero_features.shape[0])\n",
    "\n",
    "both_oof = np.zeros(full_data_no_zero_features.shape[0])\n",
    "sub_preds = np.zeros(sub_full_data_no_zero_features.shape[0])\n",
    "\n",
    "vis_importances = pd.DataFrame()\n",
    "\n",
    "for fold_, (trn_, val_) in enumerate(folds):\n",
    "    trn_x, trn_y = full_data_no_zero_features.iloc[trn_], trn_user_target['target'].iloc[trn_]\n",
    "    val_x, val_y = full_data_no_zero_features.iloc[val_], trn_user_target['target'].iloc[val_]\n",
    "    \n",
    "    xg = XGBRegressor(**xgb_params, n_estimators=1000)\n",
    "    \n",
    "    reg = lgb.LGBMRegressor(**params,\n",
    "        n_estimators=1500,\n",
    "    )\n",
    "    print('XGB' + \"-\" * 50)\n",
    "    xg.fit(\n",
    "        trn_x, np.log1p(trn_y),\n",
    "        eval_set=[(trn_x, np.log1p(trn_y)), (val_x, np.log1p(val_y))],\n",
    "        early_stopping_rounds=50,\n",
    "        eval_metric='rmse',\n",
    "        verbose=100\n",
    "    )\n",
    "    \n",
    "    print('LGB' + \"-\" * 50)\n",
    "    reg.fit(\n",
    "        trn_x, np.log1p(trn_y),\n",
    "        eval_set=[(trn_x, np.log1p(trn_y)), (val_x, np.log1p(val_y))],\n",
    "        eval_names=['TRAIN', 'VALID'],\n",
    "        early_stopping_rounds=50,\n",
    "        eval_metric='rmse',\n",
    "        verbose=100\n",
    "    )\n",
    "    \n",
    "    imp_df = pd.DataFrame()\n",
    "    imp_df['feature'] = trn_x.columns\n",
    "    imp_df['gain_xgb'] = xg.feature_importances_ / 5\n",
    "    imp_df['gain_lgb'] = reg.booster_.feature_importance(importance_type='gain')\n",
    "    \n",
    "    imp_df['fold'] = fold_ + 1\n",
    "    vis_importances = pd.concat([vis_importances, imp_df], axis=0, sort=False)\n",
    "    \n",
    "    oof_preds[val_] = reg.predict(val_x, num_iteration=reg.best_iteration_)\n",
    "    oof_preds1[val_] = xg.predict(val_x)\n",
    "    \n",
    "    oof_preds[oof_preds < 0] = 0\n",
    "    oof_preds1[oof_preds1 < 0] = 0\n",
    "    \n",
    "    both_oof[val_] = oof_preds[val_] * 0.6 + oof_preds1[val_] * 0.4\n",
    "    \n",
    "    # Make sure features are in the same order\n",
    "    _preds = reg.predict(sub_full_data_no_zero_features[full_data_no_zero_features.columns], num_iteration=reg.best_iteration_)\n",
    "    _preds[_preds < 0] = 0\n",
    "    \n",
    "    pre = xg.predict(sub_full_data_no_zero_features[full_data_no_zero_features.columns])\n",
    "    pre[pre<0]=0\n",
    "    \n",
    "    sub_preds += (_preds / len(folds)) * 0.6 + (pre / len(folds)) * 0.4\n",
    "    \n",
    "print(\"LGB  \", mean_squared_error(np.log1p(trn_user_target['target']), oof_preds) ** .5)\n",
    "print(\"XGB  \", mean_squared_error(np.log1p(trn_user_target['target']), oof_preds1) ** .5)\n",
    "print(\"Combine  \", mean_squared_error(np.log1p(trn_user_target['target']), both_oof) ** .5)"
   ]
  },
  {
   "cell_type": "markdown",
   "metadata": {},
   "source": [
    "## With zero gain features\n",
    "\n",
    "### Fold 1\n",
    "\n",
    "- XGB validation_0-rmse:1.48495\tvalidation_1-rmse:1.58853\n",
    "- LGB TRAIN's rmse: 1.51432\tVALID's rmse: 1.57774\n",
    "\n",
    "### Fold 2\n",
    "\n",
    "- XGB validation_0-rmse:1.46969\tvalidation_1-rmse:1.59114\n",
    "- LGB TRAIN's rmse: 1.50643\tVALID's rmse: 1.58507\n",
    "\n",
    "### Fold 3\n",
    "\n",
    "- XGB validation_0-rmse:1.47546\tvalidation_1-rmse:1.59758\n",
    "- LGB TRAIN's rmse: 1.51662\tVALID's rmse: 1.58842\n",
    "\n",
    "### Fold 4\n",
    "\n",
    "- XGB validation_0-rmse:1.5013\tvalidation_1-rmse:1.57136\n",
    "- LGB TRAIN's rmse: 1.52294\tVALID's rmse: 1.5657\n",
    "\n",
    "### Fold 5\n",
    "\n",
    "- XGB validation_0-rmse:1.48793\tvalidation_1-rmse:1.59866\n",
    "- LGB TRAIN's rmse: 1.5194\tVALID's rmse: 1.59617\n",
    "\n",
    "### LGB   1.5826518399384508\n",
    "### XGB   1.589071890881924\n",
    "### Combine   1.582048531094239\n",
    "\n",
    "## Without zero gain features 1 (105 features)\n",
    "\n",
    "### Fold 1\n",
    "\n",
    "- XGB validation_0-rmse:1.48402\tvalidation_1-rmse:1.58647\n",
    "- LGB TRAIN's rmse: 1.50328\tVALID's rmse: 1.57894\n",
    "\n",
    "### Fold 2\n",
    "\n",
    "- XGB validation_0-rmse:1.48005\tvalidation_1-rmse:1.59155\n",
    "- LGB TRAIN's rmse: 1.5093\tVALID's rmse: 1.58442\n",
    "\n",
    "### Fold 3\n",
    "\n",
    "- XGB validation_0-rmse:1.47706\tvalidation_1-rmse:1.59624\n",
    "- LGB TRAIN's rmse: 1.51458\tVALID's rmse: 1.58896\n",
    "\n",
    "### Fold 4\n",
    "\n",
    "- XGB validation_0-rmse:1.51194\tvalidation_1-rmse:1.57076\n",
    "- LGB TRAIN's rmse: 1.537\tVALID's rmse: 1.5664\n",
    "\n",
    "### Fold 5\n",
    "\n",
    "- XGB validation_0-rmse:1.49355\tvalidation_1-rmse:1.59899\n",
    "- LGB TRAIN's rmse: 1.50957\tVALID's rmse: 1.59467\n",
    "\n",
    "\n",
    "### LGB   1.5827066313352387\n",
    "### XGB   1.5883143234582495\n",
    "### Combine   1.5818397749242317\n",
    "\n",
    "## Without zero gain features 2 (95 features)\n",
    "\n",
    "### Fold 1\n",
    "\n",
    "XGB validation_0-rmse:1.47938\tvalidation_1-rmse:1.58886\n",
    "LGB TRAIN's rmse: 1.5208\tVALID's rmse: 1.5796\n",
    "\n",
    "### Fold 2\n",
    "\n",
    "XGB validation_0-rmse:1.48916\tvalidation_1-rmse:1.59048\n",
    "LGB TRAIN's rmse: 1.50366\tVALID's rmse: 1.58626\n",
    "\n",
    "### Fold 3\n",
    "\n",
    "XGB validation_0-rmse:1.48819\tvalidation_1-rmse:1.59638\n",
    "LGB TRAIN's rmse: 1.51898\tVALID's rmse: 1.58968\n",
    "\n",
    "### Fold 4\n",
    "\n",
    "XGB validation_0-rmse:1.49635\tvalidation_1-rmse:1.57261\n",
    "LGB TRAIN's rmse: 1.51518\tVALID's rmse: 1.56575\n",
    "\n",
    "### Fold 5\n",
    "\n",
    "XGB validation_0-rmse:1.48525\tvalidation_1-rmse:1.59785\n",
    "LGB TRAIN's rmse: 1.50968\tVALID's rmse: 1.59525\n",
    "\n",
    "### LGB   1.5833404574763656\n",
    "### XGB   1.58880668220169\n",
    "### Combine   1.5824877824270291\n",
    "\n",
    "## Without zero gain features 2 with hits per pageviews (97 features)\n",
    "\n",
    "### Fold 1\n",
    "\n",
    "\n",
    "### Fold 2\n",
    "\n",
    "\n",
    "### Fold 3\n",
    "\n",
    "\n",
    "### Fold 4\n",
    "\n",
    "\n",
    "### Fold 5\n"
   ]
  },
  {
   "cell_type": "markdown",
   "metadata": {
    "_uuid": "8a334da6d1b615108f7d7200a8268bd2aff52d65"
   },
   "source": [
    "### 13.Display feature importances"
   ]
  },
  {
   "cell_type": "code",
   "execution_count": null,
   "metadata": {
    "_uuid": "c9722bdf108cf510b6f59db3d99e406790c99194",
    "scrolled": true
   },
   "outputs": [],
   "source": [
    "vis_importances['gain_log'] = np.log1p(vis_importances['gain_lgb'])\n",
    "mean_gain_lgb = vis_importances[['gain_lgb', 'feature']].groupby('feature').mean()\n",
    "vis_importances['mean_gain_lgb'] = vis_importances['feature'].map(mean_gain_lgb['gain_lgb'])\n",
    "\n",
    "plt.figure(figsize=(8, 30))\n",
    "sns.barplot(x='gain_log', y='feature', data=vis_importances.sort_values('mean_gain_lgb', ascending=False))"
   ]
  },
  {
   "cell_type": "code",
   "execution_count": null,
   "metadata": {
    "scrolled": true
   },
   "outputs": [],
   "source": [
    "#vis_importances['gain_log'] = np.log1p(vis_importances['gain_xgb'])\n",
    "mean_gain_xgb = vis_importances[['gain_xgb', 'feature']].groupby('feature').mean()\n",
    "vis_importances['mean_gain_xgb'] = vis_importances['feature'].map(mean_gain_xgb['gain_xgb'])\n",
    "\n",
    "plt.figure(figsize=(8, 30))\n",
    "sns.barplot(x='gain_xgb', y='feature', data=vis_importances.sort_values('mean_gain_xgb', ascending=False))"
   ]
  },
  {
   "cell_type": "markdown",
   "metadata": {},
   "source": [
    "# Throw away low feature importance"
   ]
  },
  {
   "cell_type": "code",
   "execution_count": null,
   "metadata": {},
   "outputs": [],
   "source": [
    "lgb_importances_grouped = vis_importances.groupby('feature').mean()"
   ]
  },
  {
   "cell_type": "code",
   "execution_count": null,
   "metadata": {},
   "outputs": [],
   "source": [
    "len(lgb_importances_grouped['mean_gain_lgb'][lgb_importances_grouped['mean_gain_lgb']==0]), len(lgb_importances_grouped)"
   ]
  },
  {
   "cell_type": "code",
   "execution_count": null,
   "metadata": {},
   "outputs": [],
   "source": [
    "lgb_importances_grouped['mean_gain_lgb'][lgb_importances_grouped['mean_gain_lgb']==0]"
   ]
  },
  {
   "cell_type": "code",
   "execution_count": null,
   "metadata": {},
   "outputs": [],
   "source": [
    "xgb_importances_grouped = vis_importances.groupby('feature').mean()"
   ]
  },
  {
   "cell_type": "code",
   "execution_count": null,
   "metadata": {},
   "outputs": [],
   "source": [
    "len(xgb_importances_grouped['mean_gain_xgb'][xgb_importances_grouped['mean_gain_xgb'] < 0.000007]), len(xgb_importances_grouped)"
   ]
  },
  {
   "cell_type": "code",
   "execution_count": null,
   "metadata": {},
   "outputs": [],
   "source": [
    "xgb_importances_grouped['mean_gain_xgb'][xgb_importances_grouped['mean_gain_xgb'] < 0.00001]"
   ]
  },
  {
   "cell_type": "code",
   "execution_count": null,
   "metadata": {},
   "outputs": [],
   "source": [
    "bad_features = ['pred_27', 'pred_28', 'pred_29', 'pred_30', 'pred_32', 'pred_34', 'pred_36', 'pred_40']"
   ]
  },
  {
   "cell_type": "code",
   "execution_count": null,
   "metadata": {},
   "outputs": [],
   "source": [
    "selected_features_columns = [_f for  _f in selected_features if _f not in bad_features]"
   ]
  },
  {
   "cell_type": "code",
   "execution_count": null,
   "metadata": {},
   "outputs": [],
   "source": [
    "selected_features = selected_features_columns"
   ]
  },
  {
   "cell_type": "code",
   "execution_count": null,
   "metadata": {},
   "outputs": [],
   "source": [
    "len(selected_features)"
   ]
  },
  {
   "cell_type": "code",
   "execution_count": null,
   "metadata": {},
   "outputs": [],
   "source": [
    "set(xgb_importances_grouped[xgb_importances_grouped['mean_gain_xgb'] < 0.000007].index.tolist()).difference(\\\n",
    "    set(lgb_importances_grouped[lgb_importances_grouped['mean_gain_lgb']==0].index.tolist()))"
   ]
  },
  {
   "cell_type": "code",
   "execution_count": null,
   "metadata": {},
   "outputs": [],
   "source": [
    "set(lgb_importances_grouped[lgb_importances_grouped['mean_gain_lgb']==0].index.tolist()).difference(\\\n",
    "    set(xgb_importances_grouped[xgb_importances_grouped['mean_gain_xgb'] < 0.000007].index.tolist()))"
   ]
  },
  {
   "cell_type": "code",
   "execution_count": null,
   "metadata": {},
   "outputs": [],
   "source": [
    "xgb_importances_grouped.iloc[xgb_importances_grouped.index.get_loc('pred_32')]"
   ]
  },
  {
   "cell_type": "code",
   "execution_count": null,
   "metadata": {},
   "outputs": [],
   "source": [
    "selected_features = set(lgb_importances_grouped[lgb_importances_grouped['mean_gain_lgb'] >  0].index.tolist()).intersection(\\\n",
    "                    set(xgb_importances_grouped[xgb_importances_grouped['mean_gain_xgb'] >= 0.000007].index.tolist()))"
   ]
  },
  {
   "cell_type": "code",
   "execution_count": null,
   "metadata": {},
   "outputs": [],
   "source": [
    "selected_features.update(['pred_36', 'pred_40', 'pred_28', 'pred_29', 'pred_32'])"
   ]
  },
  {
   "cell_type": "code",
   "execution_count": null,
   "metadata": {},
   "outputs": [],
   "source": [
    "len(selected_features)"
   ]
  },
  {
   "cell_type": "code",
   "execution_count": null,
   "metadata": {},
   "outputs": [],
   "source": [
    "selected_features_df = pd.DataFrame(selected_features)\n",
    "selected_features_df.to_csv('selected_features.csv', index=True)"
   ]
  },
  {
   "cell_type": "markdown",
   "metadata": {},
   "source": [
    "# Experiment: train without zero importances"
   ]
  },
  {
   "cell_type": "code",
   "execution_count": null,
   "metadata": {},
   "outputs": [],
   "source": [
    "#zero_gain = vis_importances.groupby('feature').mean()"
   ]
  },
  {
   "cell_type": "code",
   "execution_count": null,
   "metadata": {
    "scrolled": true
   },
   "outputs": [],
   "source": [
    "#zero_gain_features = zero_gain[zero_gain['gain_log'] == 0].copy()"
   ]
  },
  {
   "cell_type": "code",
   "execution_count": null,
   "metadata": {},
   "outputs": [],
   "source": [
    "#zero_gain_features_list = zero_gain_features.index.tolist()"
   ]
  },
  {
   "cell_type": "code",
   "execution_count": null,
   "metadata": {},
   "outputs": [],
   "source": [
    "#zero_gain_features_list"
   ]
  },
  {
   "cell_type": "markdown",
   "metadata": {
    "_uuid": "dbd81ac5df63f2c94c00e678b00dd7993d06df6f"
   },
   "source": [
    "### 14.Save Result"
   ]
  },
  {
   "cell_type": "code",
   "execution_count": null,
   "metadata": {
    "_uuid": "feb757b51ac10132118cc0db22f7adda70f0913f"
   },
   "outputs": [],
   "source": [
    "sub_full_data['PredictedLogRevenue'] = sub_preds\n",
    "sub_full_data[['PredictedLogRevenue']].to_csv('submissions/LGB_XGB_without_zero_gain_both_hitsppagev.csv', index=True)"
   ]
  },
  {
   "cell_type": "code",
   "execution_count": null,
   "metadata": {},
   "outputs": [],
   "source": []
  }
 ],
 "metadata": {
  "kernelspec": {
   "display_name": "Python 3",
   "language": "python",
   "name": "python3"
  },
  "language_info": {
   "codemirror_mode": {
    "name": "ipython",
    "version": 3
   },
   "file_extension": ".py",
   "mimetype": "text/x-python",
   "name": "python",
   "nbconvert_exporter": "python",
   "pygments_lexer": "ipython3",
   "version": "3.6.6"
  }
 },
 "nbformat": 4,
 "nbformat_minor": 1
}
