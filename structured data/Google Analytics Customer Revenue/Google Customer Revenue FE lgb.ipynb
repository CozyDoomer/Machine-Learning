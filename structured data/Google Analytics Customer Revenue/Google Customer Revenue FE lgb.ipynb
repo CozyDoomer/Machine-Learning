{
 "cells": [
  {
   "cell_type": "code",
   "execution_count": null,
   "metadata": {},
   "outputs": [],
   "source": [
    "import os\n",
    "import json\n",
    "import numpy as np\n",
    "import pandas as pd\n",
    "import matplotlib.pyplot as plt\n",
    "import seaborn as sns\n",
    "color = sns.color_palette()\n",
    "\n",
    "\n",
    "from plotly import tools\n",
    "import plotly.offline as py\n",
    "py.init_notebook_mode(connected=True)\n",
    "import plotly.graph_objs as go\n",
    "  \n",
    "from sklearn import model_selection, preprocessing, metrics\n",
    "from sklearn.metrics import mean_squared_error, roc_auc_score, log_loss\n",
    "from sklearn.model_selection import KFold, GroupKFold, StratifiedKFold\n",
    "from sklearn.preprocessing import Imputer \n",
    "\n",
    "import lightgbm as lgb\n",
    "PATH = 'data/'\n",
    "\n",
    "import torch\n",
    "import gc\n",
    "\n",
    "%matplotlib inline"
   ]
  },
  {
   "cell_type": "markdown",
   "metadata": {},
   "source": [
    "# Get Data"
   ]
  },
  {
   "cell_type": "code",
   "execution_count": null,
   "metadata": {},
   "outputs": [],
   "source": [
    "train = pd.read_csv('data/extracted_fields_train.gz', \n",
    "                    dtype={'date': str, 'fullVisitorId': str, 'sessionId':str}, nrows=None)\n",
    "test = pd.read_csv('data/extracted_fields_test.gz', \n",
    "                   dtype={'date': str, 'fullVisitorId': str, 'sessionId':str}, nrows=None)\n",
    "train.shape, test.shape"
   ]
  },
  {
   "cell_type": "markdown",
   "metadata": {},
   "source": [
    "## Folding"
   ]
  },
  {
   "cell_type": "code",
   "execution_count": null,
   "metadata": {},
   "outputs": [],
   "source": [
    "def get_folds(df=None, n_splits=5):\n",
    "    \"\"\"Returns dataframe indices corresponding to Visitors Group KFold\"\"\"\n",
    "    # Get sorted unique visitors\n",
    "    unique_vis = np.array(sorted(df['fullVisitorId'].unique()))\n",
    "\n",
    "    # Get folds\n",
    "    folds = GroupKFold(n_splits=n_splits)\n",
    "    fold_ids = []\n",
    "    ids = np.arange(df.shape[0])\n",
    "    for trn_vis, val_vis in folds.split(X=unique_vis, y=unique_vis, groups=unique_vis):\n",
    "        fold_ids.append(\n",
    "            [\n",
    "                ids[df['fullVisitorId'].isin(unique_vis[trn_vis])],\n",
    "                ids[df['fullVisitorId'].isin(unique_vis[val_vis])]\n",
    "            ]\n",
    "        )\n",
    "\n",
    "    return fold_ids"
   ]
  },
  {
   "cell_type": "markdown",
   "metadata": {
    "_uuid": "6be7ebd7776a156b7db885fa7697ca0dd4e5c68f"
   },
   "source": [
    "# Feature engineering"
   ]
  },
  {
   "cell_type": "markdown",
   "metadata": {},
   "source": [
    "### Date"
   ]
  },
  {
   "cell_type": "code",
   "execution_count": null,
   "metadata": {},
   "outputs": [],
   "source": [
    "for df in [train, test]:\n",
    "    df['date'] = pd.to_datetime(df['visitStartTime'], unit='s')\n",
    "    df['sess_date_dow'] = df['date'].dt.dayofweek\n",
    "    df['sess_date_hours'] = df['date'].dt.hour\n",
    "    df['sess_date_dom'] = df['date'].dt.day"
   ]
  },
  {
   "cell_type": "markdown",
   "metadata": {},
   "source": [
    "### hits per pageviews"
   ]
  },
  {
   "cell_type": "code",
   "execution_count": null,
   "metadata": {},
   "outputs": [],
   "source": [
    "for df in [train, test]:\n",
    "    df['hits_per_pageviews'] = df['totals.hits'] / df['totals.pageviews']\n",
    "    #df['pageviews_per_hits'] = df['totals.pageviews'] / df['totals.hits']"
   ]
  },
  {
   "cell_type": "markdown",
   "metadata": {},
   "source": [
    "### Target"
   ]
  },
  {
   "cell_type": "code",
   "execution_count": null,
   "metadata": {},
   "outputs": [],
   "source": [
    "y_reg = train['totals.transactionRevenue'].fillna(0)\n",
    "y_clf = (train['totals.transactionRevenue'].fillna(0) > 0).astype(np.uint8)\n",
    "del train['totals.transactionRevenue']\n",
    "\n",
    "if 'totals.transactionRevenue' in test.columns:\n",
    "    del test['totals.transactionRevenue']"
   ]
  },
  {
   "cell_type": "markdown",
   "metadata": {
    "_uuid": "e07ce3724c9c6bb66f4839204f54f59c5826bf53"
   },
   "source": [
    "# Session prediction"
   ]
  },
  {
   "cell_type": "code",
   "execution_count": null,
   "metadata": {},
   "outputs": [],
   "source": [
    "excluded_features = [\n",
    "    'fullVisitorId', 'sessionId', 'totals_transactionRevenue', \n",
    "    'visitId', 'visitStartTime', 'date', 'target'\n",
    "    #excluded after feature importance:\n",
    "]\n",
    "\n",
    "cat_cols = [\n",
    "    _f for _f in train.columns\n",
    "    if (_f not in excluded_features) & (train[_f].dtype == 'object')\n",
    "]\n",
    "\n",
    "num_cols = [c for c in train.columns if c not in cat_cols and c not in excluded_features]"
   ]
  },
  {
   "cell_type": "code",
   "execution_count": null,
   "metadata": {},
   "outputs": [],
   "source": [
    "for f in cat_cols:\n",
    "    train[f], indexer = pd.factorize(train[f])\n",
    "    test[f] = indexer.get_indexer(test[f])"
   ]
  },
  {
   "cell_type": "code",
   "execution_count": null,
   "metadata": {
    "scrolled": true
   },
   "outputs": [],
   "source": [
    "folds = get_folds(df=train, n_splits=5)\n",
    "\n",
    "train_features = [_f for _f in train.columns if _f not in excluded_features]\n",
    "print(train_features)\n",
    "\n",
    "importances = pd.DataFrame()\n",
    "oof_reg_preds = np.zeros(train.shape[0])\n",
    "sub_reg_preds = np.zeros(test.shape[0])\n",
    "for fold_, (trn_, val_) in enumerate(folds):\n",
    "    trn_x, trn_y = train[train_features].iloc[trn_], y_reg.iloc[trn_]\n",
    "    val_x, val_y = train[train_features].iloc[val_], y_reg.iloc[val_]\n",
    "    \n",
    "    reg = lgb.LGBMRegressor(\n",
    "        num_leaves=31,\n",
    "        learning_rate=0.03,\n",
    "        n_estimators=1000,\n",
    "        subsample=.9,\n",
    "        colsample_bytree=.9,\n",
    "        random_state=1\n",
    "    )\n",
    "    reg.fit(\n",
    "        trn_x, np.log1p(trn_y),\n",
    "        eval_set=[(trn_x, np.log1p(trn_y)), (val_x, np.log1p(val_y))],\n",
    "        eval_names=['TRAIN', 'VALID'],\n",
    "        early_stopping_rounds=50,\n",
    "        verbose=100,\n",
    "        eval_metric='rmse'\n",
    "    )\n",
    "    imp_df = pd.DataFrame()\n",
    "    imp_df['feature'] = train_features\n",
    "    imp_df['gain'] = reg.booster_.feature_importance(importance_type='gain')\n",
    "    \n",
    "    imp_df['fold'] = fold_ + 1\n",
    "    importances = pd.concat([importances, imp_df], axis=0, sort=False)\n",
    "    \n",
    "    oof_reg_preds[val_] = reg.predict(val_x, num_iteration=reg.best_iteration_)\n",
    "    oof_reg_preds[oof_reg_preds < 0] = 0\n",
    "    _preds = reg.predict(test[train_features], num_iteration=reg.best_iteration_)\n",
    "    _preds[_preds < 0] = 0\n",
    "    sub_reg_preds += np.expm1(_preds) / len(folds)\n",
    "    \n",
    "mean_squared_error(np.log1p(y_reg), oof_reg_preds) ** .5"
   ]
  },
  {
   "cell_type": "code",
   "execution_count": null,
   "metadata": {
    "scrolled": false
   },
   "outputs": [],
   "source": [
    "import warnings\n",
    "warnings.simplefilter('ignore', FutureWarning)\n",
    "\n",
    "importances['gain_log'] = np.log1p(importances['gain'])\n",
    "mean_gain = importances[['gain', 'feature']].groupby('feature').mean()\n",
    "importances['mean_gain'] = importances['feature'].map(mean_gain['gain'])\n",
    "\n",
    "plt.figure(figsize=(8, 12))\n",
    "sns.barplot(x='gain_log', y='feature', data=importances.sort_values('mean_gain', ascending=False))"
   ]
  },
  {
   "cell_type": "markdown",
   "metadata": {},
   "source": [
    "# Evaluation Session Level\n",
    "\n",
    "## K-Fold 10 Splits\n",
    "\n",
    "### With zero probability\n",
    "\n",
    "lr 0.005\n",
    "\n",
    "- TRAIN's l2: 2.50506\tTRAIN's rmse: 1.58274\tVALID's l2: 2.60051\tVALID's rmse: 1.61261\n",
    "- TRAIN's l2: 2.50436\tTRAIN's rmse: 1.58252\tVALID's l2: 2.61015\tVALID's rmse: 1.61560\n",
    "- TRAIN's l2: 2.50974\tTRAIN's rmse: 1.58421\tVALID's l2: 2.61663\tVALID's rmse: 1.61760\n",
    "- TRAIN's l2: 2.56150\tTRAIN's rmse: 1.60047\tVALID's l2: 2.46969\tVALID's rmse: 1.57152\n",
    "- TRAIN's l2: 2.49708\tTRAIN's rmse: 1.58021\tVALID's l2: 2.79939\tVALID's rmse: 1.67314\n",
    "- TRAIN's l2: 2.50000\tTRAIN's rmse: 1.58114\tVALID's l2: 2.64223\tVALID's rmse: 1.62549\n",
    "- TRAIN's l2: 2.52860\tTRAIN's rmse: 1.59016\tVALID's l2: 2.54535\tVALID's rmse: 1.59542\n",
    "- TRAIN's l2: 2.51655\tTRAIN's rmse: 1.58636\tVALID's l2: 2.63061\tVALID's rmse: 1.62191\n",
    "- TRAIN's l2: 2.49502\tTRAIN's rmse: 1.57956\tVALID's l2: 2.64260\tVALID's rmse: 1.62561\n",
    "- TRAIN's l2: 2.51765\tTRAIN's rmse: 1.58671\tVALID's l2: 2.57660\tVALID's rmse: 1.60518\n",
    "\n",
    "RSME 1.616597042093458\n",
    "\n",
    "lr 0.01\n",
    "\n",
    "- TRAIN's l2: 2.51229\tTRAIN's rmse: 1.58502\tVALID's l2: 2.60184\tVALID's rmse: 1.61302\n",
    "- TRAIN's l2: 2.50326\tTRAIN's rmse: 1.58217\tVALID's l2: 2.60899\tVALID's rmse: 1.61524\n",
    "- TRAIN's l2: 2.49482\tTRAIN's rmse: 1.57950\tVALID's l2: 2.61397\tVALID's rmse: 1.61678\n",
    "- TRAIN's l2: 2.55132\tTRAIN's rmse: 1.59729\tVALID's l2: 2.46891\tVALID's rmse: 1.57128\n",
    "- TRAIN's l2: 2.49887\tTRAIN's rmse: 1.58078\tVALID's l2: 2.80034\tVALID's rmse: 1.67342\n",
    "- TRAIN's l2: 2.50091\tTRAIN's rmse: 1.58143\tVALID's l2: 2.64032\tVALID's rmse: 1.62491\n",
    "- TRAIN's l2: 2.52558\tTRAIN's rmse: 1.58921\tVALID's l2: 2.54599\tVALID's rmse: 1.59562\n",
    "- TRAIN's l2: 2.50528\tTRAIN's rmse: 1.58281\tVALID's l2: 2.63096\tVALID's rmse: 1.62202\n",
    "- TRAIN's l2: 2.49931\tTRAIN's rmse: 1.58092\tVALID's l2: 2.64255\tVALID's rmse: 1.62559\n",
    "- TRAIN's l2: 2.52582\tTRAIN's rmse: 1.58928\tVALID's l2: 2.57615\tVALID's rmse: 1.60504\n",
    "\n",
    "RSME 1.6164814214277488\n",
    "\n",
    "lr 0.03\n",
    "\n",
    "- TRAIN's rmse: 1.57665\tTRAIN's l2: 2.48581\tVALID's rmse: 1.61395\tVALID's l2: 2.60484\n",
    "- TRAIN's rmse: 1.58256\tTRAIN's l2: 2.50449\tVALID's rmse: 1.61439\tVALID's l2: 2.60625\n",
    "- TRAIN's rmse: 1.58275\tTRAIN's l2: 2.50508\tVALID's rmse: 1.61374\tVALID's l2: 2.60415\n",
    "- TRAIN's rmse: 1.59719\tTRAIN's l2: 2.55101\tVALID's rmse: 1.57272\tVALID's l2: 2.47346\n",
    "- TRAIN's rmse: 1.57332\tTRAIN's l2: 2.47534\tVALID's rmse: 1.67484\tVALID's l2: 2.80508\n",
    "- TRAIN's rmse: 1.57996\tTRAIN's l2: 2.49626\tVALID's rmse: 1.62192\tVALID's l2: 2.63064\n",
    "- TRAIN's rmse: 1.58678\tTRAIN's l2: 2.51787\tVALID's rmse: 1.59458\tVALID's l2: 2.54268\n",
    "- TRAIN's rmse: 1.58574\tTRAIN's l2: 2.51456\tVALID's rmse: 1.62201\tVALID's l2: 2.63090\n",
    "- TRAIN's rmse: 1.57782\tTRAIN's l2: 2.48951\tVALID's rmse: 1.62361\tVALID's l2: 2.63611\n",
    "- TRAIN's rmse: 1.58394\tTRAIN's l2: 2.50887\tVALID's rmse: 1.60376\tVALID's l2: 2.57204\n",
    "\n",
    "RSME 1.6157454930569606\n",
    "\n",
    "### Without zero probability\n",
    "\n",
    "lr 0.03\n",
    "\n",
    "- valid_0's l2: 2.60145  rmse: 1.61290\n",
    "- valid_0's l2: 2.61947  rmse: 1.61848\n",
    "- valid_0's l2: 2.62710  rmse: 1.62083\n",
    "- valid_0's l2: 2.46507  rmse: 1.57005\n",
    "- valid_0's l2: 2.80488  rmse: 1.67478\n",
    "- valid_0's l2: 2.65395  rmse: 1.62909\n",
    "- valid_0's l2: 2.55271  rmse: 1.59772\n",
    "- valid_0's l2: 2.64510  rmse: 1.62638\n",
    "- valid_0's l2: 2.66030  rmse: 1.63104\n",
    "- valid_0's l2: 2.58712  rmse: 1.60845\n",
    "\n",
    "RSME 1.619066459555333\n",
    "\n",
    "## K-Fold 5 Splits\n",
    "\n",
    "### with squared features\n",
    "\n",
    "- valid_0's l2: 2.63554  rmse: 1.62344\n",
    "- valid_0's l2: 2.59276  rmse: 1.61021\n",
    "- valid_0's l2: 2.63777  rmse: 1.62412\n",
    "- valid_0's l2: 2.57201  rmse: 1.60375\n",
    "- valid_0's l2: 2.70482  rmse: 1.64463\n",
    "\n",
    "RSME 1.6211580980148415\n",
    "\n",
    "### without squared features\n",
    "\n",
    "### Less Features \n",
    "\n",
    "### With non_zero_prob\n",
    "\n",
    "- TRAIN's rmse: 1.57506\tTRAIN's l2: 2.48080\tVALID's rmse: 1.61943\tVALID's l2: 2.62256\n",
    "- TRAIN's rmse: 1.58358\tTRAIN's l2: 2.50773\tVALID's rmse: 1.60810\tVALID's l2: 2.58598\n",
    "- TRAIN's rmse: 1.58227\tTRAIN's l2: 2.50356\tVALID's rmse: 1.62366\tVALID's l2: 2.63628\n",
    "- TRAIN's rmse: 1.58931\tTRAIN's l2: 2.52592\tVALID's rmse: 1.60130\tVALID's l2: 2.56417\n",
    "- TRAIN's rmse: 1.57891\tTRAIN's l2: 2.49294\tVALID's rmse: 1.63769\tVALID's l2: 2.68204\n",
    "\n",
    "RSME 1.6181068559555771\n",
    "\n",
    "### Without non_zero_prob\n",
    "\n",
    "- valid_0's l2: 2.68867  rmse: 1.63972 \n",
    "- valid_0's l2: 2.62835  rmse: 1.62122 \n",
    "- valid_0's l2: 2.65824  rmse: 1.63041 \n",
    "- valid_0's l2: 2.61109  rmse: 1.61589 \n",
    "- valid_0's l2: 2.73067  rmse: 1.65248 \n",
    "\n",
    "RMSE, 0.03\n",
    "1.6314694795822213\n",
    "\n",
    "With hits / Pageview\n",
    "\n",
    "- valid_0's l2: 2.63719  rmse: 1.62394\n",
    "- valid_0's l2: 2.59768  rmse: 1.61173\n",
    "- valid_0's l2: 2.64775  rmse: 1.62719\n",
    "- valid_0's l2: 2.56416  rmse: 1.60130\t\n",
    "- valid_0's l2: 2.69958  rmse: 1.64304\n",
    "\n",
    "RMSE, 0.03\n",
    "1.6214463218021848\n",
    "\n",
    "- Fold0: valid_0's l2: 2.69150  rmse: 1.64058\t\n",
    "- Fold1: valid_0's l2: 2.63377  rmse: 1.62289\t\n",
    "- Fold2: valid_0's l2: 2.66090  rmse: 1.63123\t\n",
    "- Fold3: valid_0's l2: 2.61475  rmse: 1.61702\t\n",
    "- Fold4: valid_0's l2: 2.73576  rmse: 1.65401\t\n",
    "\n",
    "RMSE, 0.03\n",
    "1.6326631674894676\n",
    "\n",
    "- Fold0: valid_0's l2: 2.69648  rmse: 1.64210  \n",
    "- Fold1: valid_0's l2: 2.62972  rmse: 1.62164  \n",
    "- Fold2: valid_0's l2: 2.65856  rmse: 1.63051  \n",
    "- Fold3: valid_0's l2: 2.60930  rmse: 1.61533  \n",
    "- Fold4: valid_0's l2: 2.72992  rmse: 1.65225  \n",
    "\n",
    "RMSE, 0.01\n",
    "1.6320138793107153\n",
    "\n",
    "### All Features\n",
    "\n",
    "- Fold0: valid_0's l2: 2.69807\trmse: 1.64258\n",
    "- Fold1: valid_0's l2: 2.65322\trmse: 1.62887\n",
    "- Fold2: valid_0's l2: 2.69910\trmse: 1.64289\n",
    "- Fold3: valid_0's l2: 2.63584\trmse: 1.62353\n",
    "- Fold4: valid_0's l2: 2.75505\trmse: 1.65984\n",
    "\n",
    "RMSE\n",
    "1.6392299336526066\n",
    "\n",
    "\n",
    "\n",
    "### Without unique Feature\n",
    "\n",
    "- Fold0: valid_0's l2: 2.69732\trmse: 1.64235\n",
    "- Fold1: valid_0's l2: 2.65308\trmse: 1.62883\n",
    "- Fold2: valid_0's l2: 2.69850\trmse: 1.64271\n",
    "- Fold3: valid_0's l2: 2.63364\trmse: 1.62285\n",
    "- Fold4: valid_0's l2: 2.75439\trmse: 1.65964\n",
    "\n",
    "RSME\n",
    "1.638970608432159\n"
   ]
  },
  {
   "cell_type": "code",
   "execution_count": null,
   "metadata": {},
   "outputs": [],
   "source": [
    "train['predictions'] = np.expm1(oof_reg_preds)\n",
    "test['predictions'] = sub_reg_preds"
   ]
  },
  {
   "cell_type": "code",
   "execution_count": null,
   "metadata": {},
   "outputs": [],
   "source": []
  },
  {
   "cell_type": "code",
   "execution_count": null,
   "metadata": {},
   "outputs": [],
   "source": [
    "trn_data = train[train_features + ['fullVisitorId']].groupby('fullVisitorId').mean()"
   ]
  },
  {
   "cell_type": "code",
   "execution_count": null,
   "metadata": {},
   "outputs": [],
   "source": [
    "# Create a list of predictions for each Visitor\n",
    "trn_pred_list = train[['fullVisitorId', 'predictions']].groupby('fullVisitorId')\\\n",
    "    .apply(lambda df: list(df.predictions))\\\n",
    "    .apply(lambda x: {'pred_'+str(i): pred for i, pred in enumerate(x)})"
   ]
  },
  {
   "cell_type": "code",
   "execution_count": null,
   "metadata": {},
   "outputs": [],
   "source": [
    "trn_all_predictions = pd.DataFrame(list(trn_pred_list.values), index=trn_data.index)\n",
    "trn_feats = trn_all_predictions.columns\n",
    "trn_all_predictions['t_mean'] = np.log1p(trn_all_predictions[trn_feats].mean(axis=1))\n",
    "trn_all_predictions['t_median'] = np.log1p(trn_all_predictions[trn_feats].median(axis=1))\n",
    "trn_all_predictions['t_sum_log'] = np.log1p(trn_all_predictions[trn_feats]).sum(axis=1)\n",
    "trn_all_predictions['t_sum_act'] = np.log1p(trn_all_predictions[trn_feats].fillna(0).sum(axis=1))\n",
    "trn_all_predictions['t_nb_sess'] = trn_all_predictions[trn_feats].isnull().sum(axis=1)\n",
    "full_data = pd.concat([trn_data, trn_all_predictions], axis=1)\n",
    "del trn_data, trn_all_predictions\n",
    "gc.collect()\n",
    "full_data.shape"
   ]
  },
  {
   "cell_type": "code",
   "execution_count": null,
   "metadata": {},
   "outputs": [],
   "source": [
    "sub_pred_list = test[['fullVisitorId', 'predictions']].groupby('fullVisitorId')\\\n",
    "    .apply(lambda df: list(df.predictions))\\\n",
    "    .apply(lambda x: {'pred_'+str(i): pred for i, pred in enumerate(x)})"
   ]
  },
  {
   "cell_type": "code",
   "execution_count": null,
   "metadata": {},
   "outputs": [],
   "source": [
    "sub_data = test[train_features + ['fullVisitorId']].groupby('fullVisitorId').mean()\n",
    "sub_all_predictions = pd.DataFrame(list(sub_pred_list.values), index=sub_data.index)\n",
    "for f in trn_feats:\n",
    "    if f not in sub_all_predictions.columns:\n",
    "        sub_all_predictions[f] = np.nan\n",
    "sub_all_predictions['t_mean'] = np.log1p(sub_all_predictions[trn_feats].mean(axis=1))\n",
    "sub_all_predictions['t_median'] = np.log1p(sub_all_predictions[trn_feats].median(axis=1))\n",
    "sub_all_predictions['t_sum_log'] = np.log1p(sub_all_predictions[trn_feats]).sum(axis=1)\n",
    "sub_all_predictions['t_sum_act'] = np.log1p(sub_all_predictions[trn_feats].fillna(0).sum(axis=1))\n",
    "sub_all_predictions['t_nb_sess'] = sub_all_predictions[trn_feats].isnull().sum(axis=1)\n",
    "sub_full_data = pd.concat([sub_data, sub_all_predictions], axis=1)\n",
    "del sub_data, sub_all_predictions\n",
    "gc.collect()\n",
    "sub_full_data.shape"
   ]
  },
  {
   "cell_type": "code",
   "execution_count": null,
   "metadata": {},
   "outputs": [],
   "source": [
    "full_data.shape, sub_full_data.shape"
   ]
  },
  {
   "cell_type": "markdown",
   "metadata": {},
   "source": [
    "# Visitor Level"
   ]
  },
  {
   "cell_type": "code",
   "execution_count": null,
   "metadata": {},
   "outputs": [],
   "source": [
    "train['target'] = y_reg\n",
    "trn_user_target = train[['fullVisitorId', 'target']].groupby('fullVisitorId').sum()"
   ]
  },
  {
   "cell_type": "code",
   "execution_count": null,
   "metadata": {
    "scrolled": true
   },
   "outputs": [],
   "source": [
    "folds = get_folds(df=full_data[['totals.pageviews']].reset_index(), n_splits=5)\n",
    "\n",
    "oof_preds = np.zeros(full_data.shape[0])\n",
    "sub_preds = np.zeros(sub_full_data.shape[0])\n",
    "vis_importances = pd.DataFrame()\n",
    "\n",
    "for fold_, (trn_, val_) in enumerate(folds):\n",
    "    trn_x, trn_y = full_data.iloc[trn_], trn_user_target['target'].iloc[trn_]\n",
    "    val_x, val_y = full_data.iloc[val_], trn_user_target['target'].iloc[val_]\n",
    "    \n",
    "    reg = lgb.LGBMRegressor(\n",
    "        num_leaves=31,\n",
    "        learning_rate=0.03,\n",
    "        n_estimators=2000,\n",
    "        subsample=.9,\n",
    "        colsample_bytree=.9,\n",
    "        random_state=1\n",
    "    )\n",
    "    reg.fit(\n",
    "        trn_x, np.log1p(trn_y),\n",
    "        eval_set=[(trn_x, np.log1p(trn_y)), (val_x, np.log1p(val_y))],\n",
    "        eval_names=['TRAIN', 'VALID'],\n",
    "        early_stopping_rounds=50,\n",
    "        eval_metric='rmse',\n",
    "        verbose=100\n",
    "    )\n",
    "    \n",
    "    imp_df = pd.DataFrame()\n",
    "    imp_df['feature'] = trn_x.columns\n",
    "    imp_df['gain'] = reg.booster_.feature_importance(importance_type='gain')\n",
    "    \n",
    "    imp_df['fold'] = fold_ + 1\n",
    "    vis_importances = pd.concat([vis_importances, imp_df], axis=0, sort=False)\n",
    "    \n",
    "    oof_preds[val_] = reg.predict(val_x, num_iteration=reg.best_iteration_)\n",
    "    oof_preds[oof_preds < 0] = 0\n",
    "    \n",
    "    # Make sure features are in the same order\n",
    "    _preds = reg.predict(sub_full_data[full_data.columns], num_iteration=reg.best_iteration_)\n",
    "    _preds[_preds < 0] = 0\n",
    "    sub_preds += _preds / len(folds)\n",
    "    \n",
    "mean_squared_error(np.log1p(trn_user_target['target']), oof_preds) ** .5"
   ]
  },
  {
   "cell_type": "code",
   "execution_count": null,
   "metadata": {
    "scrolled": true
   },
   "outputs": [],
   "source": [
    "vis_importances['gain_log'] = np.log1p(vis_importances['gain'])\n",
    "mean_gain = vis_importances[['gain', 'feature']].groupby('feature').mean()\n",
    "vis_importances['mean_gain'] = vis_importances['feature'].map(mean_gain['gain'])\n",
    "\n",
    "plt.figure(figsize=(8, 20))\n",
    "sns.barplot(x='gain_log', y='feature', data=vis_importances.sort_values('mean_gain', ascending=False).iloc[:300])"
   ]
  },
  {
   "cell_type": "markdown",
   "metadata": {},
   "source": [
    "## Evaluation Visitor Level\n",
    "\n",
    "## K-Fold 10 splits\n",
    "\n",
    "### With non_zero_prob\n",
    "\n",
    "- TRAIN's rmse: 1.52148\tTRAIN's l2: 2.31489\tVALID's rmse: 1.56443\tVALID's l2: 2.44744\n",
    "- TRAIN's rmse: 1.51932\tTRAIN's l2: 2.30834\tVALID's rmse: 1.58444\tVALID's l2: 2.51045\n",
    "- TRAIN's rmse: 1.51908\tTRAIN's l2: 2.30761\tVALID's rmse: 1.57039\tVALID's l2: 2.46612\n",
    "- TRAIN's rmse: 1.52238\tTRAIN's l2: 2.31764\tVALID's rmse: 1.54522\tVALID's l2: 2.38772\n",
    "- TRAIN's rmse: 1.52012\tTRAIN's l2: 2.31077\tVALID's rmse: 1.59477\tVALID's l2: 2.5433\n",
    "- TRAIN's rmse: 1.51456\tTRAIN's l2: 2.29389\tVALID's rmse: 1.56749\tVALID's l2: 2.45703\n",
    "- TRAIN's rmse: 1.51942\tTRAIN's l2: 2.30865\tVALID's rmse: 1.56088\tVALID's l2: 2.43634\n",
    "- TRAIN's rmse: 1.51498\tTRAIN's l2: 2.29516\tVALID's rmse: 1.58720\tVALID's l2: 2.51920\n",
    "- TRAIN's rmse: 1.52288\tTRAIN's l2: 2.31917\tVALID's rmse: 1.56484\tVALID's l2: 2.44872\n",
    "- TRAIN's rmse: 1.52454\tTRAIN's l2: 2.32422\tVALID's rmse: 1.57232\tVALID's l2: 2.47219\n",
    "\n",
    "RSME 1.571257676804114\n",
    "\n",
    "\n",
    "### Without non_zero_prob\n",
    "\n",
    "lr 0.001\n",
    "\n",
    "- TRAIN's rmse: 1.52429\tTRAIN's l2: 2.32345\tVALID's rmse: 1.55991\tVALID's l2: 2.43332\n",
    "- TRAIN's rmse: 1.51563\tTRAIN's l2: 2.29713\tVALID's rmse: 1.58561\tVALID's l2: 2.51416\n",
    "- TRAIN's rmse: 1.51117\tTRAIN's l2: 2.28363\tVALID's rmse: 1.57337\tVALID's l2: 2.47548\n",
    "- TRAIN's rmse: 1.52707\tTRAIN's l2: 2.33193\tVALID's rmse: 1.54223\tVALID's l2: 2.37847\n",
    "- TRAIN's rmse: 1.51562\tTRAIN's l2: 2.29712\tVALID's rmse: 1.59281\tVALID's l2: 2.53705\n",
    "- TRAIN's rmse: 1.51171\tTRAIN's l2: 2.28526\tVALID's rmse: 1.56985\tVALID's l2: 2.46442\n",
    "- TRAIN's rmse: 1.51306\tTRAIN's l2: 2.28934\tVALID's rmse: 1.56215\tVALID's l2: 2.44032\n",
    "- TRAIN's rmse: 1.50995\tTRAIN's l2: 2.27995\tVALID's rmse: 1.58890\tVALID's l2: 2.52459\n",
    "- TRAIN's rmse: 1.52052\tTRAIN's l2: 2.31198\tVALID's rmse: 1.56824\tVALID's l2: 2.45939\n",
    "- TRAIN's rmse: 1.52220\tTRAIN's l2: 2.31711\tVALID's rmse: 1.57491\tVALID's l2: 2.48034\n",
    "\n",
    "RSME 1.5718626656048433\n",
    "\n",
    "\n",
    "lr 0.005\n",
    "\n",
    "- TRAIN's rmse: 1.51956\tTRAIN's l2: 2.30907\tVALID's rmse: 1.5599\tVALID's l2: 2.43329\n",
    "- TRAIN's rmse: 1.51441\tTRAIN's l2: 2.29345\tVALID's rmse: 1.58586\tVALID's l2: 2.51495\n",
    "- TRAIN's rmse: 1.49677\tTRAIN's l2: 2.24033\tVALID's rmse: 1.57383\tVALID's l2: 2.47695\n",
    "- TRAIN's rmse: 1.52621\tTRAIN's l2: 2.32931\tVALID's rmse: 1.54176\tVALID's l2: 2.37701\n",
    "- TRAIN's rmse: 1.51565\tTRAIN's l2: 2.29720\tVALID's rmse: 1.59303\tVALID's l2: 2.53774\n",
    "- TRAIN's rmse: 1.50685\tTRAIN's l2: 2.27059\tVALID's rmse: 1.56957\tVALID's l2: 2.46356\n",
    "- TRAIN's rmse: 1.50989\tTRAIN's l2: 2.27977\tVALID's rmse: 1.56205\tVALID's l2: 2.44001\n",
    "- TRAIN's rmse: 1.50754\tTRAIN's l2: 2.27268\tVALID's rmse: 1.58885\tVALID's l2: 2.52445\n",
    "- TRAIN's rmse: 1.51159\tTRAIN's l2: 2.28492\tVALID's rmse: 1.56813\tVALID's l2: 2.45902\n",
    "- TRAIN's rmse: 1.52198\tTRAIN's l2: 2.31642\tVALID's rmse: 1.57508\tVALID's l2: 2.48088\n",
    "\n",
    "RSME 1.571872164984722\n",
    "\n",
    "\n",
    "lr 0.01\n",
    "\n",
    "- TRAIN's rmse: 1.51699\tTRAIN's l2: 2.30127\tVALID's rmse: 1.56030\tVALID's l2: 2.43455\n",
    "- TRAIN's rmse: 1.51223\tTRAIN's l2: 2.28684\tVALID's rmse: 1.58546\tVALID's l2: 2.51368\n",
    "- TRAIN's rmse: 1.50182\tTRAIN's l2: 2.25548\tVALID's rmse: 1.57297\tVALID's l2: 2.47423\n",
    "- TRAIN's rmse: 1.52759\tTRAIN's l2: 2.33353\tVALID's rmse: 1.54233\tVALID's l2: 2.37878\n",
    "- TRAIN's rmse: 1.50238\tTRAIN's l2: 2.25716\tVALID's rmse: 1.59187\tVALID's l2: 2.53404\n",
    "- TRAIN's rmse: 1.51471\tTRAIN's l2: 2.29435\tVALID's rmse: 1.57057\tVALID's l2: 2.46668\n",
    "- TRAIN's rmse: 1.51364\tTRAIN's l2: 2.29109\tVALID's rmse: 1.56199\tVALID's l2: 2.43981\n",
    "- TRAIN's rmse: 1.51227\tTRAIN's l2: 2.28695\tVALID's rmse: 1.58921\tVALID's l2: 2.52558\n",
    "- TRAIN's rmse: 1.51644\tTRAIN's l2: 2.29959\tVALID's rmse: 1.56804\tVALID's l2: 2.45877\n",
    "- TRAIN's rmse: 1.52187\tTRAIN's l2: 2.31608\tVALID's rmse: 1.57547\tVALID's l2: 2.48210\n",
    "\n",
    "RSME 1.5718840456948198\n",
    "\n",
    "## K-Fold 5 splits\n",
    "\n",
    "### With hits per pageview\n",
    "\n",
    "### without Squared\n",
    "\n",
    "lr 0.03\n",
    "\n",
    "- TRAIN's rmse: 1.51144\tTRAIN's l2: 2.28445\tVALID's rmse: 1.56907\tVALID's l2: 2.46198\n",
    "- TRAIN's rmse: 1.50291\tTRAIN's l2: 2.25875\tVALID's rmse: 1.57865\tVALID's l2: 2.49214\n",
    "- TRAIN's rmse: 1.50527\tTRAIN's l2: 2.26583\tVALID's rmse: 1.58278\tVALID's l2: 2.50520\n",
    "- TRAIN's rmse: 1.50634\tTRAIN's l2: 2.26905\tVALID's rmse: 1.55656\tVALID's l2: 2.42288\n",
    "- TRAIN's rmse: 1.50482\tTRAIN's l2: 2.26447\tVALID's rmse: 1.58725\tVALID's l2: 2.51936\n",
    "\n",
    "RSME 1.5748986433552368\n",
    "\n",
    "\n",
    "lr 0.01\n",
    "\n",
    "- TRAIN's rmse: 1.50680\tTRAIN's l2: 2.27046\tVALID's rmse: 1.57004\tVALID's l2: 2.46502\n",
    "- TRAIN's rmse: 1.51557\tTRAIN's l2: 2.29695\tVALID's rmse: 1.57889\tVALID's l2: 2.49290\n",
    "- TRAIN's rmse: 1.50536\tTRAIN's l2: 2.26609\tVALID's rmse: 1.58213\tVALID's l2: 2.50314\n",
    "- TRAIN's rmse: 1.50420\tTRAIN's l2: 2.26263\tVALID's rmse: 1.55571\tVALID's l2: 2.42022\n",
    "- TRAIN's rmse: 1.50815\tTRAIN's l2: 2.27452\tVALID's rmse: 1.58657\tVALID's l2: 2.51720\n",
    "\n",
    "RSME 1.5747041779812614\n",
    "\n",
    "lr 0.005\n",
    "\n",
    "- TRAIN's rmse: 1.50665\tTRAIN's l2: 2.27000\tVALID's rmse: 1.56936\tVALID's l2: 2.46289\n",
    "- TRAIN's rmse: 1.50025\tTRAIN's l2: 2.25076\tVALID's rmse: 1.57819\tVALID's l2: 2.49069\n",
    "- TRAIN's rmse: 1.50374\tTRAIN's l2: 2.26123\tVALID's rmse: 1.58196\tVALID's l2: 2.50260\n",
    "- TRAIN's rmse: 1.50823\tTRAIN's l2: 2.27476\tVALID's rmse: 1.55478\tVALID's l2: 2.41733\n",
    "- TRAIN's rmse: 1.49849\tTRAIN's l2: 2.24546\tVALID's rmse: 1.58635\tVALID's l2: 2.51651\n",
    "\n",
    "RSME 1.574166833934208\n",
    "\n",
    "\n",
    "### with non_zero_prob\n",
    "\n",
    "lr 0.01\n",
    "\n",
    "- TRAIN's rmse: 1.52449\tTRAIN's l2: 2.32406\tVALID's rmse: 1.57015\tVALID's l2: 2.46539\n",
    "- TRAIN's rmse: 1.51340\tTRAIN's l2: 2.29036\tVALID's rmse: 1.58288\tVALID's l2: 2.50551\n",
    "- TRAIN's rmse: 1.50925\tTRAIN's l2: 2.27782\tVALID's rmse: 1.58505\tVALID's l2: 2.51237\n",
    "- TRAIN's rmse: 1.52383\tTRAIN's l2: 2.32205\tVALID's rmse: 1.55757\tVALID's l2: 2.42603\n",
    "- TRAIN's rmse: 1.52238\tTRAIN's l2: 2.31764\tVALID's rmse: 1.58722\tVALID's l2: 2.51927\n",
    "\n",
    "RSME 1.5766149759196142\n",
    "\n",
    "\n",
    "### with Squared\n",
    "\n",
    "\n",
    "- TRAIN's rmse: 1.51003\tTRAIN's l2: 2.28020\tVALID's rmse: 1.56920\tVALID's l2: 2.46238\n",
    "- TRAIN's rmse: 1.49890\tTRAIN's l2: 2.24669\tVALID's rmse: 1.57573\tVALID's l2: 2.48293\n",
    "- TRAIN's rmse: 1.51094\tTRAIN's l2: 2.28293\tVALID's rmse: 1.57968\tVALID's l2: 2.49538\n",
    "- TRAIN's rmse: 1.51107\tTRAIN's l2: 2.28335\tVALID's rmse: 1.55709\tVALID's l2: 2.42452\n",
    "- TRAIN's rmse: 1.50735\tTRAIN's l2: 2.27210\tVALID's rmse: 1.59088\tVALID's l2: 2.53091\n",
    "\n",
    "RSME 1.5745538647223587"
   ]
  },
  {
   "cell_type": "markdown",
   "metadata": {},
   "source": [
    "# Creating Submission"
   ]
  },
  {
   "cell_type": "code",
   "execution_count": null,
   "metadata": {},
   "outputs": [],
   "source": [
    "sub_full_data['PredictedLogRevenue'] = sub_preds"
   ]
  },
  {
   "cell_type": "code",
   "execution_count": null,
   "metadata": {},
   "outputs": [],
   "source": [
    "sub_full_data['PredictedLogRevenue'].mean()"
   ]
  },
  {
   "cell_type": "code",
   "execution_count": null,
   "metadata": {},
   "outputs": [],
   "source": [
    "np.log1p(y_reg).mean()"
   ]
  },
  {
   "cell_type": "markdown",
   "metadata": {},
   "source": [
    "## Post Processing"
   ]
  },
  {
   "cell_type": "code",
   "execution_count": null,
   "metadata": {},
   "outputs": [],
   "source": [
    "#sub_full_data_pp = sub_full_data.copy()"
   ]
  },
  {
   "cell_type": "code",
   "execution_count": null,
   "metadata": {},
   "outputs": [],
   "source": [
    "#sub_full_data_pp['totals_pageviews_log'] = np.log1p(sub_full_data_pp['totals_pageviews'])\n",
    "#sub_full_data_pp['totals_hits_log'] = np.log1p(sub_full_data_pp['totals_hits'])"
   ]
  },
  {
   "cell_type": "code",
   "execution_count": null,
   "metadata": {},
   "outputs": [],
   "source": [
    "#sub_full_data_pp['totals_pageviews_log'].isna().sum(), sub_full_data_pp['totals_hits_log'].isna().sum()"
   ]
  },
  {
   "cell_type": "code",
   "execution_count": null,
   "metadata": {},
   "outputs": [],
   "source": [
    "#sub_full_data_pp['PredictedLogRevenue']\\\n",
    "#[(sub_full_data_pp['totals_pageviews_log'] / sub_full_data_pp['totals_hits_log'] < 0.4)].mean()"
   ]
  },
  {
   "cell_type": "code",
   "execution_count": null,
   "metadata": {},
   "outputs": [],
   "source": [
    "#sub_full_data_pp['PredictedLogRevenue']\\\n",
    "#[(sub_full_data_pp['totals_pageviews_log'] / sub_full_data_pp['totals_hits_log']) < 0.4]= 0.0"
   ]
  },
  {
   "cell_type": "code",
   "execution_count": null,
   "metadata": {},
   "outputs": [],
   "source": [
    "#sub_full_data_pp['PredictedLogRevenue'] \\\n",
    "#[(sub_full_data_pp['totals_pageviews_log'] / sub_full_data_pp['totals_hits_log']) < 0.4].mean()"
   ]
  },
  {
   "cell_type": "code",
   "execution_count": null,
   "metadata": {},
   "outputs": [],
   "source": [
    "sub_full_data[['PredictedLogRevenue']].to_csv('new_test_pp.csv', index=True)"
   ]
  },
  {
   "cell_type": "code",
   "execution_count": null,
   "metadata": {},
   "outputs": [],
   "source": [
    "# LB score for lightgbm with hits per pageview:  1.4350\n",
    "# LB score for lightgbm with hits per pageview 10 Fold: 1.4356\n",
    "\n",
    "# LB score for lightgbm with hits per pageview 10 Fold and nonzero prob : 1.4663\n",
    "# LB score for lightgbm with hits per pageview  5 Fold and nonzero prob : 1.4351    non_zero_probability not helping\n",
    "\n",
    "# LB score for lightgbm with more complex features: 1.4281 (probably overfitting the LB)"
   ]
  }
 ],
 "metadata": {
  "kernelspec": {
   "display_name": "Python 3",
   "language": "python",
   "name": "python3"
  },
  "language_info": {
   "codemirror_mode": {
    "name": "ipython",
    "version": 3
   },
   "file_extension": ".py",
   "mimetype": "text/x-python",
   "name": "python",
   "nbconvert_exporter": "python",
   "pygments_lexer": "ipython3",
   "version": "3.6.6"
  }
 },
 "nbformat": 4,
 "nbformat_minor": 1
}
