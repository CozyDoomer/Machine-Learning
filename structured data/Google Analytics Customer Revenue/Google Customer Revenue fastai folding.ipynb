{
 "cells": [
  {
   "cell_type": "code",
   "execution_count": 1,
   "metadata": {
    "_cell_guid": "b1076dfc-b9ad-4769-8c92-a6c4dae69d19",
    "_kg_hide-input": true,
    "_uuid": "8f2839f25d086af736a60e9eeb907d3b93b6e0e5",
    "scrolled": true
   },
   "outputs": [
    {
     "data": {
      "text/html": [
       "<script>requirejs.config({paths: { 'plotly': ['https://cdn.plot.ly/plotly-latest.min']},});if(!window.Plotly) {{require(['plotly'],function(plotly) {window.Plotly=plotly;});}}</script>"
      ],
      "text/vnd.plotly.v1+html": [
       "<script>requirejs.config({paths: { 'plotly': ['https://cdn.plot.ly/plotly-latest.min']},});if(!window.Plotly) {{require(['plotly'],function(plotly) {window.Plotly=plotly;});}}</script>"
      ]
     },
     "metadata": {},
     "output_type": "display_data"
    },
    {
     "name": "stderr",
     "output_type": "stream",
     "text": [
      "C:\\Users\\chrun\\Anaconda3\\envs\\fastai\\lib\\site-packages\\sklearn\\ensemble\\weight_boosting.py:29: DeprecationWarning:\n",
      "\n",
      "numpy.core.umath_tests is an internal NumPy module and should not be imported. It will be removed in a future NumPy release.\n",
      "\n"
     ]
    }
   ],
   "source": [
    "import os\n",
    "import json\n",
    "import numpy as np\n",
    "import pandas as pd\n",
    "from pandas.io.json import json_normalize\n",
    "import matplotlib.pyplot as plt\n",
    "import seaborn as sns\n",
    "color = sns.color_palette()\n",
    "\n",
    "\n",
    "from plotly import tools\n",
    "import plotly.offline as py\n",
    "py.init_notebook_mode(connected=True)\n",
    "import plotly.graph_objs as go\n",
    "  \n",
    "from sklearn import model_selection, preprocessing, metrics\n",
    "from sklearn.metrics import mean_squared_error, roc_auc_score, log_loss\n",
    "from sklearn.model_selection import KFold, GroupKFold, StratifiedKFold\n",
    "from sklearn.preprocessing import Imputer \n",
    "\n",
    "import lightgbm as lgb\n",
    "\n",
    "from fastai.imports import *\n",
    "from fastai.torch_imports import *\n",
    "from fastai.transforms import *\n",
    "from fastai.conv_learner import *\n",
    "from fastai.model import *\n",
    "from fastai.dataset import *\n",
    "from fastai.sgdr import *\n",
    "from fastai.plots import *\n",
    "from fastai.structured import *\n",
    "from fastai.column_data import *\n",
    "PATH = 'data/'\n",
    "\n",
    "import torch\n",
    "import gc\n",
    "%matplotlib inline"
   ]
  },
  {
   "cell_type": "markdown",
   "metadata": {},
   "source": [
    "# Get Data"
   ]
  },
  {
   "cell_type": "code",
   "execution_count": 2,
   "metadata": {},
   "outputs": [
    {
     "data": {
      "text/plain": [
       "((903653, 30), (804684, 30))"
      ]
     },
     "execution_count": 2,
     "metadata": {},
     "output_type": "execute_result"
    }
   ],
   "source": [
    "train = pd.read_csv('data/extracted_fields_train.gz', dtype={'date': str, 'fullVisitorId': str, 'sessionId':str}, nrows=None)\n",
    "test = pd.read_csv('data/extracted_fields_test.gz', dtype={'date': str, 'fullVisitorId': str, 'sessionId':str}, nrows=None)\n",
    "train.shape, test.shape"
   ]
  },
  {
   "cell_type": "markdown",
   "metadata": {},
   "source": [
    "# Folding"
   ]
  },
  {
   "cell_type": "code",
   "execution_count": 3,
   "metadata": {},
   "outputs": [],
   "source": [
    "def get_folds(df=None, n_splits=5):\n",
    "    \"\"\"Returns dataframe indices corresponding to Visitors Group KFold\"\"\"\n",
    "    # Get sorted unique visitors\n",
    "    unique_vis = np.array(sorted(df['fullVisitorId'].unique()))\n",
    "\n",
    "    # Get folds\n",
    "    folds = GroupKFold(n_splits=n_splits)\n",
    "    fold_ids = []\n",
    "    ids = np.arange(df.shape[0])\n",
    "    for trn_vis, val_vis in folds.split(X=unique_vis, y=unique_vis, groups=unique_vis):\n",
    "        fold_ids.append(\n",
    "            [\n",
    "                ids[df['fullVisitorId'].isin(unique_vis[trn_vis])],\n",
    "                ids[df['fullVisitorId'].isin(unique_vis[val_vis])]\n",
    "            ]\n",
    "        )\n",
    "\n",
    "    return fold_ids"
   ]
  },
  {
   "cell_type": "markdown",
   "metadata": {
    "_uuid": "6be7ebd7776a156b7db885fa7697ca0dd4e5c68f"
   },
   "source": [
    "# Functions (Feature engineering)"
   ]
  },
  {
   "cell_type": "code",
   "execution_count": 4,
   "metadata": {},
   "outputs": [],
   "source": [
    "for df in [train, test]:\n",
    "    df['vis_date'] = pd.to_datetime(df['visitStartTime'], unit='s')\n",
    "    df['sess_date_dow'] = df['vis_date'].dt.dayofweek\n",
    "    df['sess_date_hours'] = df['vis_date'].dt.hour\n",
    "    df['sess_date_dom'] = df['vis_date'].dt.day\n",
    "    df.sort_values(['fullVisitorId', 'vis_date'], ascending=True, inplace=True)\n",
    "    df['next_session_1'] = (\n",
    "        df['vis_date'] - df[['fullVisitorId', 'vis_date']].groupby('fullVisitorId')['vis_date'].shift(1)\n",
    "    ).astype(np.int64) // 1e9 // 60 // 60\n",
    "    df['next_session_2'] = (\n",
    "        df['vis_date'] - df[['fullVisitorId', 'vis_date']].groupby('fullVisitorId')['vis_date'].shift(-1)\n",
    "    ).astype(np.int64) // 1e9 // 60 // 60\n",
    "    \n",
    "#     df['max_visits'] = df['fullVisitorId'].map(\n",
    "#         df[['fullVisitorId', 'visitNumber']].groupby('fullVisitorId')['visitNumber'].max()\n",
    "#     )\n",
    "    \n",
    "    df['nb_pageviews'] = df['date'].map(\n",
    "        df[['date', 'totals.pageviews']].groupby('date')['totals.pageviews'].sum()\n",
    "    )\n",
    "    \n",
    "    df['ratio_pageviews'] = df['totals.pageviews'] / df['nb_pageviews']\n",
    "    \n",
    "#     df['nb_sessions'] = df['date'].map(\n",
    "#         df[['date']].groupby('date').size()\n",
    "#     )\n",
    "    \n",
    "#     df['nb_sessions_28_ma'] = df['date'].map(\n",
    "#         df[['date']].groupby('date').size().rolling(28, min_periods=7).mean()\n",
    "#     )\n",
    "\n",
    "#     df['nb_sessions_28_ma'] = df['nb_sessions'] / df['nb_sessions_28_ma']\n",
    "\n",
    "#     df['nb_sessions_per_day'] = df['date'].map(\n",
    "#         df[['date']].groupby('date').size()\n",
    "#     )\n",
    "    \n",
    "#     df['nb_visitors_per_day'] = df['date'].map(\n",
    "#         df[['date','fullVisitorId']].groupby('date')['fullVisitorId'].nunique()\n",
    "#     )"
   ]
  },
  {
   "cell_type": "markdown",
   "metadata": {
    "_uuid": "e07ce3724c9c6bb66f4839204f54f59c5826bf53"
   },
   "source": [
    "# Prepare data for deep-learning regression model"
   ]
  },
  {
   "cell_type": "code",
   "execution_count": 5,
   "metadata": {},
   "outputs": [],
   "source": [
    "excluded_features = [\n",
    "    'fullVisitorId', 'sessionId', 'totals_transactionRevenue', \n",
    "    'visitId', 'visitStartTime', 'date','vis_date', 'nb_sessions', 'max_visits'\n",
    "    #excluded after feature importance:\n",
    "]\n",
    "\n",
    "cat_cols = [\n",
    "    _f for _f in train.columns\n",
    "    if (_f not in excluded_features) & (train[_f].dtype == 'object' or train[_f].dtype == 'int64')\n",
    "]\n",
    "\n",
    "num_cols = [c for c in train.columns if c not in cat_cols and c not in excluded_features]"
   ]
  },
  {
   "cell_type": "code",
   "execution_count": 6,
   "metadata": {},
   "outputs": [
    {
     "data": {
      "text/plain": [
       "['visitNumber',\n",
       " 'device.isMobile',\n",
       " 'totals.bounces',\n",
       " 'totals.hits',\n",
       " 'totals.newVisits',\n",
       " 'totals.pageviews',\n",
       " 'totals.transactionRevenue',\n",
       " 'trafficSource.isTrueDirect',\n",
       " 'nb_pageviews',\n",
       " 'ratio_pageviews']"
      ]
     },
     "execution_count": 6,
     "metadata": {},
     "output_type": "execute_result"
    }
   ],
   "source": [
    "num_cols"
   ]
  },
  {
   "cell_type": "code",
   "execution_count": 7,
   "metadata": {
    "scrolled": true
   },
   "outputs": [],
   "source": [
    "dep = 'totals.transactionRevenue'\n",
    "test[dep] = 0"
   ]
  },
  {
   "cell_type": "code",
   "execution_count": 8,
   "metadata": {
    "_uuid": "00b3c090da16bd8c60d33186345486bcef9244c3",
    "scrolled": true
   },
   "outputs": [
    {
     "name": "stdout",
     "output_type": "stream",
     "text": [
      "prepare model ...\n"
     ]
    }
   ],
   "source": [
    "# Model\n",
    "print(\"prepare model ...\")\n",
    "X = train[cat_cols + num_cols + ['fullVisitorId']].copy()\n",
    "X_test = test[cat_cols + num_cols + ['fullVisitorId']].copy()"
   ]
  },
  {
   "cell_type": "code",
   "execution_count": 9,
   "metadata": {
    "scrolled": true
   },
   "outputs": [
    {
     "name": "stdout",
     "output_type": "stream",
     "text": [
      "channelGrouping\n",
      "device.browser\n",
      "device.deviceCategory\n",
      "device.operatingSystem\n",
      "geoNetwork.city\n",
      "geoNetwork.continent\n",
      "geoNetwork.country\n",
      "geoNetwork.metro\n",
      "geoNetwork.networkDomain\n",
      "geoNetwork.region\n",
      "geoNetwork.subContinent\n",
      "trafficSource.adContent\n",
      "trafficSource.campaign\n",
      "trafficSource.keyword\n",
      "trafficSource.medium\n",
      "trafficSource.referralPath\n",
      "trafficSource.source\n",
      "sess_date_dow\n",
      "sess_date_hours\n",
      "sess_date_dom\n",
      "next_session_1\n",
      "next_session_2\n"
     ]
    }
   ],
   "source": [
    "for v in cat_cols:\n",
    "    print(v)\n",
    "    X[v] = X[v].astype('category').cat.as_ordered()\n",
    "    \n",
    "\n",
    "X['fullVisitorId'] = X['fullVisitorId'].astype('category').cat.as_ordered()"
   ]
  },
  {
   "cell_type": "code",
   "execution_count": 10,
   "metadata": {},
   "outputs": [
    {
     "data": {
      "text/plain": [
       "(33, 33, set())"
      ]
     },
     "execution_count": 10,
     "metadata": {},
     "output_type": "execute_result"
    }
   ],
   "source": [
    "len(X.columns), len(X_test.columns), set(X_test.columns).difference(set(X.columns))"
   ]
  },
  {
   "cell_type": "code",
   "execution_count": 11,
   "metadata": {
    "scrolled": true
   },
   "outputs": [
    {
     "name": "stdout",
     "output_type": "stream",
     "text": [
      "channelGrouping\n",
      "category\n",
      "device.browser\n",
      "category\n",
      "device.deviceCategory\n",
      "category\n",
      "device.operatingSystem\n",
      "category\n",
      "geoNetwork.city\n",
      "category\n",
      "geoNetwork.continent\n",
      "category\n",
      "geoNetwork.country\n",
      "category\n",
      "geoNetwork.metro\n",
      "category\n",
      "geoNetwork.networkDomain\n",
      "category\n",
      "geoNetwork.region\n",
      "category\n",
      "geoNetwork.subContinent\n",
      "category\n",
      "trafficSource.adContent\n",
      "category\n",
      "trafficSource.campaign\n",
      "category\n",
      "trafficSource.keyword\n",
      "category\n",
      "trafficSource.medium\n",
      "category\n",
      "trafficSource.referralPath\n",
      "category\n",
      "trafficSource.source\n",
      "category\n",
      "sess_date_dow\n",
      "category\n",
      "sess_date_hours\n",
      "category\n",
      "sess_date_dom\n",
      "category\n",
      "next_session_1\n",
      "category\n",
      "next_session_2\n",
      "category\n",
      "visitNumber\n",
      "float64\n",
      "device.isMobile\n",
      "float64\n",
      "totals.bounces\n",
      "float64\n",
      "totals.hits\n",
      "float64\n",
      "totals.newVisits\n",
      "float64\n",
      "totals.pageviews\n",
      "float64\n",
      "totals.transactionRevenue\n",
      "float64\n",
      "trafficSource.isTrueDirect\n",
      "float64\n",
      "nb_pageviews\n",
      "float64\n",
      "ratio_pageviews\n",
      "float64\n",
      "fullVisitorId\n",
      "category\n"
     ]
    }
   ],
   "source": [
    "for x in X:\n",
    "    print(x)\n",
    "    print(X[x].dtype.name)"
   ]
  },
  {
   "cell_type": "code",
   "execution_count": 12,
   "metadata": {
    "scrolled": true
   },
   "outputs": [],
   "source": [
    "apply_cats(X_test, X)\n",
    "#if this does not work it is probably because of a duplicated column name ( throws dataframe has no attribute dtype error)"
   ]
  },
  {
   "cell_type": "code",
   "execution_count": 13,
   "metadata": {
    "scrolled": true
   },
   "outputs": [],
   "source": [
    "for v in num_cols:\n",
    "    X[v] = X[v].astype('float32')\n",
    "    X_test[v] = X_test[v].astype('float32')\n",
    "    \n",
    "\n",
    "X[dep] = X[dep].astype('float32')\n",
    "X[dep] = X[dep].fillna(0)\n",
    "X_test[dep] = X_test[dep].astype('float32')"
   ]
  },
  {
   "cell_type": "markdown",
   "metadata": {},
   "source": [
    "## Create Dataframes for deep-learning"
   ]
  },
  {
   "cell_type": "code",
   "execution_count": 14,
   "metadata": {},
   "outputs": [
    {
     "data": {
      "text/plain": [
       "[('channelGrouping', 9),\n",
       " ('device.browser', 55),\n",
       " ('device.deviceCategory', 4),\n",
       " ('device.operatingSystem', 21),\n",
       " ('geoNetwork.city', 650)]"
      ]
     },
     "execution_count": 14,
     "metadata": {},
     "output_type": "execute_result"
    }
   ],
   "source": [
    "cat_sz = [(c, len(X[c].cat.categories)+1) for c in cat_cols]\n",
    "cat_sz[:5]"
   ]
  },
  {
   "cell_type": "code",
   "execution_count": 15,
   "metadata": {},
   "outputs": [
    {
     "data": {
      "text/plain": [
       "[(9, 10), (55, 28), (4, 10), (21, 11), (650, 50)]"
      ]
     },
     "execution_count": 15,
     "metadata": {},
     "output_type": "execute_result"
    }
   ],
   "source": [
    "emb_szs = [(c, max(10, min(50, (c+1)//2))) for _,c in cat_sz]\n",
    "emb_szs[:5]"
   ]
  },
  {
   "cell_type": "code",
   "execution_count": 16,
   "metadata": {},
   "outputs": [],
   "source": [
    "import warnings; warnings.simplefilter('ignore')"
   ]
  },
  {
   "cell_type": "code",
   "execution_count": 18,
   "metadata": {},
   "outputs": [],
   "source": [
    "from sklearn.metrics import mean_squared_error\n",
    "\n",
    "def exp_rmse(y_pred, targ):\n",
    "    return math.sqrt(mean_squared_error(targ, y_pred))"
   ]
  },
  {
   "cell_type": "markdown",
   "metadata": {},
   "source": [
    "## Learning"
   ]
  },
  {
   "cell_type": "code",
   "execution_count": 19,
   "metadata": {
    "scrolled": true
   },
   "outputs": [
    {
     "name": "stdout",
     "output_type": "stream",
     "text": [
      "Fold: 0\n"
     ]
    },
    {
     "data": {
      "application/vnd.jupyter.widget-view+json": {
       "model_id": "bbec89817df549f0ae3aaf4b2875df33",
       "version_major": 2,
       "version_minor": 0
      },
      "text/plain": [
       "HBox(children=(IntProgress(value=0, description='Epoch', max=6), HTML(value='')))"
      ]
     },
     "metadata": {},
     "output_type": "display_data"
    },
    {
     "name": "stdout",
     "output_type": "stream",
     "text": [
      "epoch      trn_loss   val_loss   exp_rmse                                                                              \n",
      "    0      2.965765   2.862887   1.679486  \n",
      "    1      2.90406    2.77969    1.654479                                                                              \n",
      "    2      2.669535   2.630386   1.609037                                                                              \n",
      "    3      2.452558   2.617925   1.604871                                                                              \n",
      "    4      2.573132   2.609807   1.601921                                                                              \n",
      "    5      2.503374   2.623164   1.606143                                                                              \n",
      "\n",
      "Fold: 1\n"
     ]
    },
    {
     "data": {
      "application/vnd.jupyter.widget-view+json": {
       "model_id": "f7120727ad26419a83828d0adffcd75a",
       "version_major": 2,
       "version_minor": 0
      },
      "text/plain": [
       "HBox(children=(IntProgress(value=0, description='Epoch', max=6), HTML(value='')))"
      ]
     },
     "metadata": {},
     "output_type": "display_data"
    },
    {
     "name": "stdout",
     "output_type": "stream",
     "text": [
      "epoch      trn_loss   val_loss   exp_rmse                                                                              \n",
      "    0      3.070762   2.938885   1.700346  \n",
      "    1      2.805109   2.851498   1.67525                                                                               \n",
      "    2      2.661179   2.666828   1.6208                                                                                \n",
      "    3      2.587331   2.615499   1.603931                                                                              \n",
      "    4      2.605077   2.596526   1.596943                                                                              \n",
      "    5      2.487355   2.59626    1.597418                                                                              \n",
      "\n",
      "Fold: 2\n"
     ]
    },
    {
     "data": {
      "application/vnd.jupyter.widget-view+json": {
       "model_id": "b829582131be4eb6aba556f962926ddf",
       "version_major": 2,
       "version_minor": 0
      },
      "text/plain": [
       "HBox(children=(IntProgress(value=0, description='Epoch', max=6), HTML(value='')))"
      ]
     },
     "metadata": {},
     "output_type": "display_data"
    },
    {
     "name": "stdout",
     "output_type": "stream",
     "text": [
      "epoch      trn_loss   val_loss   exp_rmse                                                                              \n",
      "    0      2.851682   3.018563   1.724918  \n",
      "    1      2.812611   2.932533   1.699725                                                                              \n",
      "    2      2.625726   2.720748   1.636704                                                                              \n",
      "    3      2.547041   2.700095   1.630454                                                                              \n",
      "    4      2.408809   2.809148   1.663421                                                                              \n",
      "    5      2.413825   2.683109   1.625439                                                                              \n",
      "\n",
      "Fold: 3\n"
     ]
    },
    {
     "data": {
      "application/vnd.jupyter.widget-view+json": {
       "model_id": "9f3dffb4cbaf49c2b8914759d9ffcc95",
       "version_major": 2,
       "version_minor": 0
      },
      "text/plain": [
       "HBox(children=(IntProgress(value=0, description='Epoch', max=6), HTML(value='')))"
      ]
     },
     "metadata": {},
     "output_type": "display_data"
    },
    {
     "name": "stdout",
     "output_type": "stream",
     "text": [
      "epoch      trn_loss   val_loss   exp_rmse                                                                              \n",
      "    0      2.897342   3.124506   1.753102  \n",
      "    1      2.976796   3.045097   1.730368                                                                              \n",
      "    2      2.74208    2.810426   1.660368                                                                              \n",
      "    3      2.618793   2.779965   1.651639                                                                              \n",
      "    4      2.47389    2.773422   1.649696                                                                              \n",
      "    5      2.473539   2.762012   1.645477                                                                              \n",
      "\n",
      "Fold: 4\n"
     ]
    },
    {
     "data": {
      "application/vnd.jupyter.widget-view+json": {
       "model_id": "d764656a3dd545e38f26f0bc90584900",
       "version_major": 2,
       "version_minor": 0
      },
      "text/plain": [
       "HBox(children=(IntProgress(value=0, description='Epoch', max=6), HTML(value='')))"
      ]
     },
     "metadata": {},
     "output_type": "display_data"
    },
    {
     "name": "stdout",
     "output_type": "stream",
     "text": [
      "epoch      trn_loss   val_loss   exp_rmse                                                                              \n",
      "    0      2.848853   2.894716   1.689161  \n",
      "    1      2.906121   2.801531   1.661602                                                                              \n",
      "    2      2.589933   2.614784   1.604177                                                                              \n",
      "    3      2.514462   2.596301   1.598332                                                                              \n",
      "    4      2.635922   2.594426   1.596898                                                                              \n",
      "    5      2.312667   2.585676   1.594928                                                                              \n",
      "\n"
     ]
    }
   ],
   "source": [
    "folds = get_folds(df=X, n_splits=5)\n",
    "\n",
    "submission = test.copy()\n",
    "\n",
    "X_indexed = X.set_index(\"fullVisitorId\")\n",
    "df, y, nas, mapper = proc_df(X_indexed, 'totals.transactionRevenue', do_scale=True)\n",
    "\n",
    "for fold_, (trn_, val_) in enumerate(folds):\n",
    "    print(\"Fold:\",fold_)\n",
    "    submission['pred' + str(fold_)] = np.zeros(test.shape[0])\n",
    "    \n",
    "    trn_x = X.iloc[np.concatenate((trn_, val_), axis=0)]\n",
    "    val_idx = val_\n",
    "    \n",
    "    train_indexed = trn_x.set_index(\"fullVisitorId\")\n",
    "    df, y, nas_, mapper_fold = proc_df(train_indexed, 'totals.transactionRevenue', do_scale=True, mapper=mapper, na_dict=nas)\n",
    "    X_test_indexed = X_test.set_index(\"fullVisitorId\")\n",
    "    df_test, _, nas_, mapper_ = proc_df(X_test_indexed, 'totals.transactionRevenue', do_scale=True,\n",
    "                                  mapper=mapper_fold, na_dict=nas)\n",
    "    yl = np.log1p(y)\n",
    "    max_y = np.max(yl)\n",
    "    y_range = (0, max_y*1.2)\n",
    "    \n",
    "    md = ColumnarModelData.from_data_frame(PATH, val_idx, df, yl, cat_flds=cat_cols, bs=512, test_df=df_test)\n",
    "    m = md.get_learner(emb_szs, len(df.columns)-len(cat_cols),\n",
    "                   0.04, 1, [1000,500], [0.001, 0.01], y_range=y_range)\n",
    "    \n",
    "    m.fit(1e-4, 3, cycle_len = 2, cycle_mult = 1, metrics=[exp_rmse])\n",
    "    \n",
    "    _preds = m.predict(True)\n",
    "    _preds[_preds < 0] = 0\n",
    "    \n",
    "    submission['pred' + str(fold_)] = np.expm1(_preds) / len(folds)\n",
    "    #change_fc_data(learn, train_index, val_index)"
   ]
  },
  {
   "cell_type": "code",
   "execution_count": 28,
   "metadata": {},
   "outputs": [],
   "source": [
    "submission['PredictedLogRevenue'] = submission[['pred0','pred1','pred2','pred3','pred4']].sum(axis=1)"
   ]
  },
  {
   "cell_type": "code",
   "execution_count": 29,
   "metadata": {},
   "outputs": [
    {
     "data": {
      "text/plain": [
       "(59628.598, 0.17678119)"
      ]
     },
     "execution_count": 29,
     "metadata": {},
     "output_type": "execute_result"
    }
   ],
   "source": [
    "submission['PredictedLogRevenue'].mean(), np.log1p(submission['PredictedLogRevenue']).mean()"
   ]
  },
  {
   "cell_type": "code",
   "execution_count": 32,
   "metadata": {
    "scrolled": true
   },
   "outputs": [],
   "source": [
    "submission_grouped = submission.groupby(['fullVisitorId'], as_index=False).agg({'PredictedLogRevenue':'sum'})"
   ]
  },
  {
   "cell_type": "code",
   "execution_count": 33,
   "metadata": {
    "scrolled": true
   },
   "outputs": [],
   "source": [
    "submission_grouped['PredictedLogRevenue'] = np.log1p(submission_grouped['PredictedLogRevenue'])"
   ]
  },
  {
   "cell_type": "code",
   "execution_count": 34,
   "metadata": {},
   "outputs": [
    {
     "data": {
      "text/plain": [
       "(0.19046706, 0.2271182)"
      ]
     },
     "execution_count": 34,
     "metadata": {},
     "output_type": "execute_result"
    }
   ],
   "source": [
    "submission_grouped['PredictedLogRevenue'].mean(), yl.mean()"
   ]
  },
  {
   "cell_type": "code",
   "execution_count": 35,
   "metadata": {},
   "outputs": [
    {
     "data": {
      "text/plain": [
       "617242"
      ]
     },
     "execution_count": 35,
     "metadata": {},
     "output_type": "execute_result"
    }
   ],
   "source": [
    "len(submission_grouped)"
   ]
  },
  {
   "cell_type": "code",
   "execution_count": 36,
   "metadata": {},
   "outputs": [
    {
     "data": {
      "text/html": [
       "<div>\n",
       "<style scoped>\n",
       "    .dataframe tbody tr th:only-of-type {\n",
       "        vertical-align: middle;\n",
       "    }\n",
       "\n",
       "    .dataframe tbody tr th {\n",
       "        vertical-align: top;\n",
       "    }\n",
       "\n",
       "    .dataframe thead th {\n",
       "        text-align: right;\n",
       "    }\n",
       "</style>\n",
       "<table border=\"1\" class=\"dataframe\">\n",
       "  <thead>\n",
       "    <tr style=\"text-align: right;\">\n",
       "      <th></th>\n",
       "      <th>fullVisitorId</th>\n",
       "      <th>PredictedLogRevenue</th>\n",
       "    </tr>\n",
       "  </thead>\n",
       "  <tbody>\n",
       "    <tr>\n",
       "      <th>0</th>\n",
       "      <td>0000000259678714014</td>\n",
       "      <td>0.770001</td>\n",
       "    </tr>\n",
       "    <tr>\n",
       "      <th>1</th>\n",
       "      <td>0000049363351866189</td>\n",
       "      <td>0.011526</td>\n",
       "    </tr>\n",
       "    <tr>\n",
       "      <th>2</th>\n",
       "      <td>0000053049821714864</td>\n",
       "      <td>0.001315</td>\n",
       "    </tr>\n",
       "    <tr>\n",
       "      <th>3</th>\n",
       "      <td>0000059488412965267</td>\n",
       "      <td>0.079257</td>\n",
       "    </tr>\n",
       "    <tr>\n",
       "      <th>4</th>\n",
       "      <td>0000085840370633780</td>\n",
       "      <td>0.011969</td>\n",
       "    </tr>\n",
       "    <tr>\n",
       "      <th>5</th>\n",
       "      <td>0000091131414287111</td>\n",
       "      <td>0.001297</td>\n",
       "    </tr>\n",
       "    <tr>\n",
       "      <th>6</th>\n",
       "      <td>0000117255350596610</td>\n",
       "      <td>5.199658</td>\n",
       "    </tr>\n",
       "    <tr>\n",
       "      <th>7</th>\n",
       "      <td>0000118334805178127</td>\n",
       "      <td>0.010961</td>\n",
       "    </tr>\n",
       "    <tr>\n",
       "      <th>8</th>\n",
       "      <td>0000130646294093000</td>\n",
       "      <td>0.001590</td>\n",
       "    </tr>\n",
       "    <tr>\n",
       "      <th>9</th>\n",
       "      <td>0000150005271820273</td>\n",
       "      <td>0.004620</td>\n",
       "    </tr>\n",
       "    <tr>\n",
       "      <th>10</th>\n",
       "      <td>0000166374699289385</td>\n",
       "      <td>0.091583</td>\n",
       "    </tr>\n",
       "    <tr>\n",
       "      <th>11</th>\n",
       "      <td>0000174453501096099</td>\n",
       "      <td>0.000555</td>\n",
       "    </tr>\n",
       "    <tr>\n",
       "      <th>12</th>\n",
       "      <td>000018122977590134</td>\n",
       "      <td>8.383220</td>\n",
       "    </tr>\n",
       "    <tr>\n",
       "      <th>13</th>\n",
       "      <td>000020731284570628</td>\n",
       "      <td>0.001889</td>\n",
       "    </tr>\n",
       "    <tr>\n",
       "      <th>14</th>\n",
       "      <td>0000232022622082281</td>\n",
       "      <td>0.000611</td>\n",
       "    </tr>\n",
       "    <tr>\n",
       "      <th>15</th>\n",
       "      <td>0000271086753662651</td>\n",
       "      <td>0.002012</td>\n",
       "    </tr>\n",
       "    <tr>\n",
       "      <th>16</th>\n",
       "      <td>0000282648818935742</td>\n",
       "      <td>0.000294</td>\n",
       "    </tr>\n",
       "    <tr>\n",
       "      <th>17</th>\n",
       "      <td>00003038793126460</td>\n",
       "      <td>0.062783</td>\n",
       "    </tr>\n",
       "    <tr>\n",
       "      <th>18</th>\n",
       "      <td>0000313524203455157</td>\n",
       "      <td>0.018618</td>\n",
       "    </tr>\n",
       "    <tr>\n",
       "      <th>19</th>\n",
       "      <td>0000324924635296742</td>\n",
       "      <td>0.004154</td>\n",
       "    </tr>\n",
       "    <tr>\n",
       "      <th>20</th>\n",
       "      <td>0000338548677636278</td>\n",
       "      <td>0.000445</td>\n",
       "    </tr>\n",
       "    <tr>\n",
       "      <th>21</th>\n",
       "      <td>0000354865008116989</td>\n",
       "      <td>0.001587</td>\n",
       "    </tr>\n",
       "    <tr>\n",
       "      <th>22</th>\n",
       "      <td>0000359974620542953</td>\n",
       "      <td>0.058581</td>\n",
       "    </tr>\n",
       "    <tr>\n",
       "      <th>23</th>\n",
       "      <td>0000384434116640351</td>\n",
       "      <td>4.336025</td>\n",
       "    </tr>\n",
       "    <tr>\n",
       "      <th>24</th>\n",
       "      <td>0000385653946068037</td>\n",
       "      <td>0.003482</td>\n",
       "    </tr>\n",
       "    <tr>\n",
       "      <th>25</th>\n",
       "      <td>0000397214032106948</td>\n",
       "      <td>0.000574</td>\n",
       "    </tr>\n",
       "    <tr>\n",
       "      <th>26</th>\n",
       "      <td>0000414003317636552</td>\n",
       "      <td>0.852456</td>\n",
       "    </tr>\n",
       "    <tr>\n",
       "      <th>27</th>\n",
       "      <td>0000421850492821864</td>\n",
       "      <td>0.000575</td>\n",
       "    </tr>\n",
       "    <tr>\n",
       "      <th>28</th>\n",
       "      <td>0000436683523507380</td>\n",
       "      <td>0.053454</td>\n",
       "    </tr>\n",
       "    <tr>\n",
       "      <th>29</th>\n",
       "      <td>0000443488189725694</td>\n",
       "      <td>0.003700</td>\n",
       "    </tr>\n",
       "    <tr>\n",
       "      <th>...</th>\n",
       "      <td>...</td>\n",
       "      <td>...</td>\n",
       "    </tr>\n",
       "    <tr>\n",
       "      <th>617212</th>\n",
       "      <td>9999496940471624606</td>\n",
       "      <td>0.038644</td>\n",
       "    </tr>\n",
       "    <tr>\n",
       "      <th>617213</th>\n",
       "      <td>9999518756481096457</td>\n",
       "      <td>0.275032</td>\n",
       "    </tr>\n",
       "    <tr>\n",
       "      <th>617214</th>\n",
       "      <td>999953571560215806</td>\n",
       "      <td>0.007729</td>\n",
       "    </tr>\n",
       "    <tr>\n",
       "      <th>617215</th>\n",
       "      <td>9999562285379264463</td>\n",
       "      <td>0.004557</td>\n",
       "    </tr>\n",
       "    <tr>\n",
       "      <th>617216</th>\n",
       "      <td>9999614340989943927</td>\n",
       "      <td>0.000493</td>\n",
       "    </tr>\n",
       "    <tr>\n",
       "      <th>617217</th>\n",
       "      <td>9999627287761032935</td>\n",
       "      <td>0.051825</td>\n",
       "    </tr>\n",
       "    <tr>\n",
       "      <th>617218</th>\n",
       "      <td>9999629963061245228</td>\n",
       "      <td>0.016694</td>\n",
       "    </tr>\n",
       "    <tr>\n",
       "      <th>617219</th>\n",
       "      <td>9999664171331798815</td>\n",
       "      <td>0.000387</td>\n",
       "    </tr>\n",
       "    <tr>\n",
       "      <th>617220</th>\n",
       "      <td>9999686314743907991</td>\n",
       "      <td>0.001526</td>\n",
       "    </tr>\n",
       "    <tr>\n",
       "      <th>617221</th>\n",
       "      <td>9999686339684184799</td>\n",
       "      <td>0.000424</td>\n",
       "    </tr>\n",
       "    <tr>\n",
       "      <th>617222</th>\n",
       "      <td>9999687906312811598</td>\n",
       "      <td>0.061645</td>\n",
       "    </tr>\n",
       "    <tr>\n",
       "      <th>617223</th>\n",
       "      <td>9999715835738672145</td>\n",
       "      <td>0.000485</td>\n",
       "    </tr>\n",
       "    <tr>\n",
       "      <th>617224</th>\n",
       "      <td>9999733949531374274</td>\n",
       "      <td>0.002183</td>\n",
       "    </tr>\n",
       "    <tr>\n",
       "      <th>617225</th>\n",
       "      <td>9999775084144044428</td>\n",
       "      <td>0.046198</td>\n",
       "    </tr>\n",
       "    <tr>\n",
       "      <th>617226</th>\n",
       "      <td>999977536649351076</td>\n",
       "      <td>0.194085</td>\n",
       "    </tr>\n",
       "    <tr>\n",
       "      <th>617227</th>\n",
       "      <td>9999786007255502100</td>\n",
       "      <td>0.048552</td>\n",
       "    </tr>\n",
       "    <tr>\n",
       "      <th>617228</th>\n",
       "      <td>9999789814107288877</td>\n",
       "      <td>0.002258</td>\n",
       "    </tr>\n",
       "    <tr>\n",
       "      <th>617229</th>\n",
       "      <td>9999803509476553670</td>\n",
       "      <td>0.009727</td>\n",
       "    </tr>\n",
       "    <tr>\n",
       "      <th>617230</th>\n",
       "      <td>9999818112872622034</td>\n",
       "      <td>0.533744</td>\n",
       "    </tr>\n",
       "    <tr>\n",
       "      <th>617231</th>\n",
       "      <td>9999819762744314978</td>\n",
       "      <td>0.001557</td>\n",
       "    </tr>\n",
       "    <tr>\n",
       "      <th>617232</th>\n",
       "      <td>9999824326944242344</td>\n",
       "      <td>2.689064</td>\n",
       "    </tr>\n",
       "    <tr>\n",
       "      <th>617233</th>\n",
       "      <td>9999834067265202923</td>\n",
       "      <td>0.016057</td>\n",
       "    </tr>\n",
       "    <tr>\n",
       "      <th>617234</th>\n",
       "      <td>9999841005270636052</td>\n",
       "      <td>0.020372</td>\n",
       "    </tr>\n",
       "    <tr>\n",
       "      <th>617235</th>\n",
       "      <td>9999860794386137754</td>\n",
       "      <td>0.009109</td>\n",
       "    </tr>\n",
       "    <tr>\n",
       "      <th>617236</th>\n",
       "      <td>9999882818693474736</td>\n",
       "      <td>9.830769</td>\n",
       "    </tr>\n",
       "    <tr>\n",
       "      <th>617237</th>\n",
       "      <td>9999905960465191827</td>\n",
       "      <td>0.020857</td>\n",
       "    </tr>\n",
       "    <tr>\n",
       "      <th>617238</th>\n",
       "      <td>9999941518946450908</td>\n",
       "      <td>0.000517</td>\n",
       "    </tr>\n",
       "    <tr>\n",
       "      <th>617239</th>\n",
       "      <td>9999969142283897422</td>\n",
       "      <td>0.071642</td>\n",
       "    </tr>\n",
       "    <tr>\n",
       "      <th>617240</th>\n",
       "      <td>9999985820452794361</td>\n",
       "      <td>0.291144</td>\n",
       "    </tr>\n",
       "    <tr>\n",
       "      <th>617241</th>\n",
       "      <td>9999997304197521748</td>\n",
       "      <td>0.001795</td>\n",
       "    </tr>\n",
       "  </tbody>\n",
       "</table>\n",
       "<p>617242 rows × 2 columns</p>\n",
       "</div>"
      ],
      "text/plain": [
       "              fullVisitorId  PredictedLogRevenue\n",
       "0       0000000259678714014             0.770001\n",
       "1       0000049363351866189             0.011526\n",
       "2       0000053049821714864             0.001315\n",
       "3       0000059488412965267             0.079257\n",
       "4       0000085840370633780             0.011969\n",
       "5       0000091131414287111             0.001297\n",
       "6       0000117255350596610             5.199658\n",
       "7       0000118334805178127             0.010961\n",
       "8       0000130646294093000             0.001590\n",
       "9       0000150005271820273             0.004620\n",
       "10      0000166374699289385             0.091583\n",
       "11      0000174453501096099             0.000555\n",
       "12       000018122977590134             8.383220\n",
       "13       000020731284570628             0.001889\n",
       "14      0000232022622082281             0.000611\n",
       "15      0000271086753662651             0.002012\n",
       "16      0000282648818935742             0.000294\n",
       "17        00003038793126460             0.062783\n",
       "18      0000313524203455157             0.018618\n",
       "19      0000324924635296742             0.004154\n",
       "20      0000338548677636278             0.000445\n",
       "21      0000354865008116989             0.001587\n",
       "22      0000359974620542953             0.058581\n",
       "23      0000384434116640351             4.336025\n",
       "24      0000385653946068037             0.003482\n",
       "25      0000397214032106948             0.000574\n",
       "26      0000414003317636552             0.852456\n",
       "27      0000421850492821864             0.000575\n",
       "28      0000436683523507380             0.053454\n",
       "29      0000443488189725694             0.003700\n",
       "...                     ...                  ...\n",
       "617212  9999496940471624606             0.038644\n",
       "617213  9999518756481096457             0.275032\n",
       "617214   999953571560215806             0.007729\n",
       "617215  9999562285379264463             0.004557\n",
       "617216  9999614340989943927             0.000493\n",
       "617217  9999627287761032935             0.051825\n",
       "617218  9999629963061245228             0.016694\n",
       "617219  9999664171331798815             0.000387\n",
       "617220  9999686314743907991             0.001526\n",
       "617221  9999686339684184799             0.000424\n",
       "617222  9999687906312811598             0.061645\n",
       "617223  9999715835738672145             0.000485\n",
       "617224  9999733949531374274             0.002183\n",
       "617225  9999775084144044428             0.046198\n",
       "617226   999977536649351076             0.194085\n",
       "617227  9999786007255502100             0.048552\n",
       "617228  9999789814107288877             0.002258\n",
       "617229  9999803509476553670             0.009727\n",
       "617230  9999818112872622034             0.533744\n",
       "617231  9999819762744314978             0.001557\n",
       "617232  9999824326944242344             2.689064\n",
       "617233  9999834067265202923             0.016057\n",
       "617234  9999841005270636052             0.020372\n",
       "617235  9999860794386137754             0.009109\n",
       "617236  9999882818693474736             9.830769\n",
       "617237  9999905960465191827             0.020857\n",
       "617238  9999941518946450908             0.000517\n",
       "617239  9999969142283897422             0.071642\n",
       "617240  9999985820452794361             0.291144\n",
       "617241  9999997304197521748             0.001795\n",
       "\n",
       "[617242 rows x 2 columns]"
      ]
     },
     "execution_count": 36,
     "metadata": {},
     "output_type": "execute_result"
    }
   ],
   "source": [
    "csv_fn=f'{PATH}submission.csv'\n",
    "\n",
    "submission_grouped[['fullVisitorId','PredictedLogRevenue']].to_csv(csv_fn, index=False)\n",
    "\n",
    "submission_grouped"
   ]
  },
  {
   "cell_type": "markdown",
   "metadata": {},
   "source": [
    "## Learning Rate finder"
   ]
  },
  {
   "cell_type": "code",
   "execution_count": null,
   "metadata": {},
   "outputs": [],
   "source": [
    "m.lr_find(end_lr=1e-2)\n",
    "m.sched.plot()"
   ]
  },
  {
   "cell_type": "markdown",
   "metadata": {},
   "source": [
    "## FullvisitorId indexed visitor level cv 15% train/validation split) using better features:\n",
    "\n",
    "### 3e\n",
    "\n",
    "- 2.908336154736353, 1.6928364618530287\n",
    "\n",
    "### 6e\n",
    "\n",
    "- 2.6615966842603833, 1.6192395528417023\n",
    "\n",
    "### 9e\n",
    "\n",
    "- 2.6171998919897654, 1.6051034699929898\n",
    "\n",
    "### 9e3eh \n",
    "\n",
    "- 2.604989178404238, 1.601011082221721\n",
    "\n",
    "### 10e3eh \n",
    "\n",
    "- 2.6047352634459537, 1.6008542096483447\n",
    "\n",
    "## Date indexed visitor level cv (15.32% train/validation split) using better features:\n",
    "\n",
    "### 3e\n",
    "\n",
    "- 2.8000360318887103, 1.6550484801023893\n",
    "\n",
    "### 5e\n",
    "\n",
    "- 2.640869347781692, 1.6067949968854136\n",
    "\n",
    "\n",
    "## Date indexed visitor level cv (15.32% train/validation split):\n",
    "\n",
    "### 3e\n",
    "\n",
    "- 3.0265201163562265, RMSE 1.3110982701455685 \n",
    "\n",
    "### 6e\n",
    "\n",
    "- 2.8375099688976335, RMSE 1.2135674675795136 \n",
    "\n",
    "### 6e9em\n",
    "\n",
    "- 2.796606798042731, RMSE 1.1948834400361132\n",
    "\n",
    "### 9e9em \n",
    "\n",
    "- 2.7970978266890083, RMSE 1.1941790717723948"
   ]
  },
  {
   "cell_type": "code",
   "execution_count": null,
   "metadata": {
    "scrolled": true
   },
   "outputs": [],
   "source": [
    "fi = nn_feat_importance(m, md, cat_cols, num_cols)\n",
    "fi.plot('cols', 'imp', 'barh', figsize=(12,20), legend=False)"
   ]
  },
  {
   "cell_type": "markdown",
   "metadata": {},
   "source": [
    "# Create user level predictions"
   ]
  },
  {
   "cell_type": "code",
   "execution_count": null,
   "metadata": {},
   "outputs": [],
   "source": [
    "log_preds_train = m.predict_dl(m.data.trn_dl)"
   ]
  },
  {
   "cell_type": "code",
   "execution_count": null,
   "metadata": {},
   "outputs": [],
   "source": [
    "log_preds_val = m.predict_dl(m.data.val_dl)"
   ]
  },
  {
   "cell_type": "code",
   "execution_count": null,
   "metadata": {},
   "outputs": [],
   "source": [
    "log_preds = m.predict(True)"
   ]
  },
  {
   "cell_type": "code",
   "execution_count": null,
   "metadata": {},
   "outputs": [],
   "source": [
    "log_preds.mean(), np.concatenate([log_preds_train, log_preds_val]).mean(), np.log(train['totals.transactionRevenue']).mean()"
   ]
  },
  {
   "cell_type": "code",
   "execution_count": null,
   "metadata": {},
   "outputs": [],
   "source": [
    "log_preds_train = np.concatenate([log_preds_train, log_preds_val])"
   ]
  },
  {
   "cell_type": "code",
   "execution_count": null,
   "metadata": {},
   "outputs": [],
   "source": [
    "train['predictions'] = log_preds_train\n",
    "test['predictions'] = log_preds"
   ]
  },
  {
   "cell_type": "code",
   "execution_count": null,
   "metadata": {},
   "outputs": [],
   "source": [
    "train_user = train[cat_cols + num_cols + ['fullVisitorId', 'predictions']]\n",
    "test_user = test[cat_cols + num_cols + ['fullVisitorId', 'predictions']]"
   ]
  },
  {
   "cell_type": "code",
   "execution_count": null,
   "metadata": {},
   "outputs": [],
   "source": [
    "for f in cat_cols:\n",
    "    train_user[f], indexer = pd.factorize(train_user[f])\n",
    "    test_user[f] = indexer.get_indexer(test_user[f])"
   ]
  },
  {
   "cell_type": "code",
   "execution_count": null,
   "metadata": {},
   "outputs": [],
   "source": [
    "trn_data = train_user[cat_cols + num_cols + ['fullVisitorId']].groupby('fullVisitorId').mean()"
   ]
  },
  {
   "cell_type": "code",
   "execution_count": null,
   "metadata": {},
   "outputs": [],
   "source": [
    "%%time\n",
    "# Create a list of predictions for each Visitor\n",
    "trn_pred_list = train_user[['fullVisitorId', 'predictions']].groupby('fullVisitorId')\\\n",
    "    .apply(lambda df: list(df.predictions))\\\n",
    "    .apply(lambda x: {'pred_'+str(i): pred for i, pred in enumerate(x)})"
   ]
  },
  {
   "cell_type": "code",
   "execution_count": null,
   "metadata": {},
   "outputs": [],
   "source": [
    "trn_all_predictions = pd.DataFrame(list(trn_pred_list.values), index=trn_data.index)\n",
    "trn_feats = trn_all_predictions.columns\n",
    "trn_all_predictions['t_mean'] = np.log1p(trn_all_predictions[trn_feats].mean(axis=1))\n",
    "trn_all_predictions['t_median'] = np.log1p(trn_all_predictions[trn_feats].median(axis=1))\n",
    "trn_all_predictions['t_sum_log'] = np.log1p(trn_all_predictions[trn_feats]).sum(axis=1)\n",
    "trn_all_predictions['t_sum_act'] = np.log1p(trn_all_predictions[trn_feats].fillna(0).sum(axis=1))\n",
    "trn_all_predictions['t_nb_sess'] = trn_all_predictions[trn_feats].isnull().sum(axis=1)\n",
    "full_data = pd.concat([trn_data, trn_all_predictions], axis=1)\n",
    "del trn_data, trn_all_predictions\n",
    "gc.collect()\n",
    "full_data.shape"
   ]
  },
  {
   "cell_type": "code",
   "execution_count": null,
   "metadata": {},
   "outputs": [],
   "source": [
    "%%time\n",
    "sub_pred_list = test_user[['fullVisitorId', 'predictions']].groupby('fullVisitorId')\\\n",
    "    .apply(lambda df: list(df.predictions))\\\n",
    "    .apply(lambda x: {'pred_'+str(i): pred for i, pred in enumerate(x)})"
   ]
  },
  {
   "cell_type": "code",
   "execution_count": null,
   "metadata": {},
   "outputs": [],
   "source": [
    "sub_data = test_user[cat_cols + num_cols + ['fullVisitorId']].groupby('fullVisitorId').mean()\n",
    "sub_all_predictions = pd.DataFrame(list(sub_pred_list.values), index=sub_data.index)\n",
    "for f in trn_feats:\n",
    "    if f not in sub_all_predictions.columns:\n",
    "        sub_all_predictions[f] = np.nan\n",
    "sub_all_predictions['t_mean'] = np.log1p(sub_all_predictions[trn_feats].mean(axis=1))\n",
    "sub_all_predictions['t_median'] = np.log1p(sub_all_predictions[trn_feats].median(axis=1))\n",
    "sub_all_predictions['t_sum_log'] = np.log1p(sub_all_predictions[trn_feats]).sum(axis=1)\n",
    "sub_all_predictions['t_sum_act'] = np.log1p(sub_all_predictions[trn_feats].fillna(0).sum(axis=1))\n",
    "sub_all_predictions['t_nb_sess'] = sub_all_predictions[trn_feats].isnull().sum(axis=1)\n",
    "sub_full_data = pd.concat([sub_data, sub_all_predictions], axis=1)\n",
    "del sub_data, sub_all_predictions\n",
    "gc.collect()\n",
    "sub_full_data.shape"
   ]
  },
  {
   "cell_type": "code",
   "execution_count": null,
   "metadata": {},
   "outputs": [],
   "source": [
    "train_user['target'] = yl\n",
    "trn_user_target = train_user[['fullVisitorId', 'target']].groupby('fullVisitorId').sum()"
   ]
  },
  {
   "cell_type": "code",
   "execution_count": null,
   "metadata": {},
   "outputs": [],
   "source": [
    "for f in full_data.columns:\n",
    "    print(f +  \" - \" + str(full_data[f].dtype))"
   ]
  },
  {
   "cell_type": "code",
   "execution_count": null,
   "metadata": {},
   "outputs": [],
   "source": [
    "for v in cat_cols:\n",
    "    print(v)\n",
    "    full_data[v] = full_data[v].astype('category').cat.as_ordered()\n",
    "    \n",
    "    \n",
    "full_data['t_nb_sess'] = full_data['t_nb_sess'].astype('category').cat.as_ordered()"
   ]
  },
  {
   "cell_type": "code",
   "execution_count": null,
   "metadata": {
    "scrolled": true
   },
   "outputs": [],
   "source": [
    "apply_cats(sub_full_data, full_data)\n",
    "#if this does not work it is probably because of a duplicated column name ( throws dataframe has no attribute dtype error)"
   ]
  },
  {
   "cell_type": "markdown",
   "metadata": {},
   "source": [
    "## Create Dataframes for deep-learning"
   ]
  },
  {
   "cell_type": "code",
   "execution_count": null,
   "metadata": {},
   "outputs": [],
   "source": [
    "full_data['totals.transactionRevenue'] = trn_user_target['target']\n",
    "sub_full_data['totals.transactionRevenue'] = 0"
   ]
  },
  {
   "cell_type": "code",
   "execution_count": null,
   "metadata": {},
   "outputs": [],
   "source": [
    "full_data.shape, sub_full_data.shape"
   ]
  },
  {
   "cell_type": "code",
   "execution_count": null,
   "metadata": {},
   "outputs": [],
   "source": [
    "full_data = full_data.apply(lambda x: pd.to_numeric(x, downcast='float') if x.dtype == \"float64\" else x)"
   ]
  },
  {
   "cell_type": "code",
   "execution_count": null,
   "metadata": {},
   "outputs": [],
   "source": [
    "sub_full_data = sub_full_data.apply(lambda x: pd.to_numeric(x, downcast='float') if x.dtype == \"float64\" else x)"
   ]
  },
  {
   "cell_type": "code",
   "execution_count": null,
   "metadata": {},
   "outputs": [],
   "source": [
    "full_data.reset_index().to_feather('Dataframes/full_data')\n",
    "sub_full_data.reset_index().to_feather('Dataframes/sub_full_data')"
   ]
  },
  {
   "cell_type": "code",
   "execution_count": null,
   "metadata": {},
   "outputs": [],
   "source": [
    "full_data = pd.read_feather('Dataframes/full_data')\n",
    "sub_full_data = pd.read_feather('Dataframes/sub_full_data')"
   ]
  },
  {
   "cell_type": "code",
   "execution_count": null,
   "metadata": {},
   "outputs": [],
   "source": [
    "'''excluded_features = [\n",
    "    'fullVisitorId', 'sessionId', 'totals_transactionRevenue', \n",
    "    'visitId', 'visitStartTime', 'date'\n",
    "    #excluded after feature importance:\n",
    "]\n",
    "\n",
    "cat_cols = [\n",
    "    _f for _f in full_data.columns\n",
    "    if (_f not in excluded_features) & (full_data[_f].dtype.name == 'category')\n",
    "]\n",
    "\n",
    "num_cols = [c for c in full_data.columns if c not in cat_cols and c not in excluded_features]'''"
   ]
  },
  {
   "cell_type": "code",
   "execution_count": null,
   "metadata": {
    "scrolled": true
   },
   "outputs": [],
   "source": [
    "df, y_user, nas, mapper = proc_df(full_data, 'totals.transactionRevenue', do_scale=True)"
   ]
  },
  {
   "cell_type": "code",
   "execution_count": null,
   "metadata": {},
   "outputs": [],
   "source": [
    "del full_data\n",
    "gc.collect()"
   ]
  },
  {
   "cell_type": "code",
   "execution_count": null,
   "metadata": {
    "scrolled": true
   },
   "outputs": [],
   "source": [
    "df_test, _, nas, mapper = proc_df(sub_full_data, 'totals.transactionRevenue', do_scale=True, \n",
    "                                  mapper=mapper, na_dict=nas)"
   ]
  },
  {
   "cell_type": "code",
   "execution_count": null,
   "metadata": {},
   "outputs": [],
   "source": [
    "del sub_full_data\n",
    "gc.collect()"
   ]
  },
  {
   "cell_type": "code",
   "execution_count": null,
   "metadata": {
    "scrolled": true
   },
   "outputs": [],
   "source": [
    "n = len(df)\n",
    "samp_size = n"
   ]
  },
  {
   "cell_type": "code",
   "execution_count": null,
   "metadata": {
    "scrolled": true
   },
   "outputs": [],
   "source": [
    "#train_size = len(df) - 110000  #percent user visitor level: 15.320371868405239\n",
    "#val_idx = list(range(train_size, len(df))); len(val_idx)"
   ]
  },
  {
   "cell_type": "code",
   "execution_count": null,
   "metadata": {},
   "outputs": [],
   "source": [
    "len(val_idx)/len(df) * 100"
   ]
  },
  {
   "cell_type": "code",
   "execution_count": null,
   "metadata": {},
   "outputs": [],
   "source": [
    "yl_user = np.log1p(y_user)\n",
    "\n",
    "max_y_user = np.max(yl_user)\n",
    "\n",
    "y_range_user = (0, max_y_user*1.2)"
   ]
  },
  {
   "cell_type": "code",
   "execution_count": null,
   "metadata": {
    "scrolled": true
   },
   "outputs": [],
   "source": [
    "md = ColumnarModelData.from_data_frame(PATH, val_idx, df, yl_user, cat_flds=cat_cols, bs=512, test_df=df_test)"
   ]
  },
  {
   "cell_type": "code",
   "execution_count": null,
   "metadata": {
    "scrolled": true
   },
   "outputs": [],
   "source": [
    "cat_sz = [(c, len(full_data[c].cat.categories)+1) for c in cat_cols]\n",
    "cat_sz"
   ]
  },
  {
   "cell_type": "code",
   "execution_count": null,
   "metadata": {
    "scrolled": true
   },
   "outputs": [],
   "source": [
    "emb_szs = [(c, max(10, min(50, (c+1)//2))) for _,c in cat_sz]\n",
    "emb_szs"
   ]
  },
  {
   "cell_type": "code",
   "execution_count": null,
   "metadata": {},
   "outputs": [],
   "source": [
    "m = md.get_learner(emb_szs, len(df.columns)-len(cat_cols),\n",
    "                   0.04, 1, [1000,500], [0.001, 0.01], y_range=y_range_user)\n",
    "\n",
    "#m = md.get_learner(emb_szs, len(df.columns)-len(cat_cols), 0.04, 1, \n",
    "#                           [  2000,  3000, 2500, 2250, 2000, 1500, 1000, 500], \n",
    "#                           [0.0001,0.0002,0.0005,0.0007,0.001,0.002,0.008,0.004], y_range_user=y_range_user)"
   ]
  },
  {
   "cell_type": "markdown",
   "metadata": {},
   "source": [
    "## Learning Rate finder"
   ]
  },
  {
   "cell_type": "code",
   "execution_count": null,
   "metadata": {},
   "outputs": [],
   "source": [
    "import warnings; warnings.simplefilter('ignore')"
   ]
  },
  {
   "cell_type": "code",
   "execution_count": null,
   "metadata": {},
   "outputs": [],
   "source": [
    "m.lr_find(end_lr=1e-2)\n",
    "m.sched.plot()"
   ]
  },
  {
   "cell_type": "code",
   "execution_count": null,
   "metadata": {},
   "outputs": [],
   "source": [
    "lr = 10 ** -4.6\n",
    "lr"
   ]
  },
  {
   "cell_type": "markdown",
   "metadata": {},
   "source": [
    "## Learning"
   ]
  },
  {
   "cell_type": "code",
   "execution_count": null,
   "metadata": {
    "scrolled": true
   },
   "outputs": [],
   "source": [
    "from sklearn.metrics import mean_squared_error\n",
    "\n",
    "def exp_rmse(y_pred, targ):\n",
    "    return math.sqrt(mean_squared_error(targ, y_pred))"
   ]
  },
  {
   "cell_type": "code",
   "execution_count": null,
   "metadata": {},
   "outputs": [],
   "source": [
    "m.fit(lr, 1, cycle_len = 3, metrics=[exp_rmse])"
   ]
  },
  {
   "cell_type": "code",
   "execution_count": null,
   "metadata": {},
   "outputs": [],
   "source": [
    "m.save(\"customer_revenue_3e\")"
   ]
  },
  {
   "cell_type": "code",
   "execution_count": null,
   "metadata": {
    "scrolled": true
   },
   "outputs": [],
   "source": [
    "m.load(\"customer_revenue_3e\")"
   ]
  },
  {
   "cell_type": "code",
   "execution_count": null,
   "metadata": {},
   "outputs": [],
   "source": [
    "m.fit(lr, 3, cycle_len = 2, cycle_mult = 2, metrics=[exp_rmse])"
   ]
  },
  {
   "cell_type": "code",
   "execution_count": null,
   "metadata": {},
   "outputs": [],
   "source": [
    "m.save(\"customer_revenue_3e_14em\")"
   ]
  },
  {
   "cell_type": "code",
   "execution_count": null,
   "metadata": {
    "scrolled": true
   },
   "outputs": [],
   "source": [
    "m.load(\"customer_revenue_3e_14em\") "
   ]
  },
  {
   "cell_type": "code",
   "execution_count": null,
   "metadata": {},
   "outputs": [],
   "source": [
    "m.fit(lr, 5, cycle_len = 1, cycle_mult = 1, metrics=[exp_rmse])"
   ]
  },
  {
   "cell_type": "code",
   "execution_count": null,
   "metadata": {},
   "outputs": [],
   "source": [
    "m.save(\"customer_revenue_3e_45em\")"
   ]
  },
  {
   "cell_type": "code",
   "execution_count": null,
   "metadata": {},
   "outputs": [],
   "source": [
    "m.load(\"customer_revenue_3e_45em\")"
   ]
  },
  {
   "cell_type": "code",
   "execution_count": null,
   "metadata": {},
   "outputs": [],
   "source": [
    "m.fit(lr, 4, cycle_len = 1, cycle_mult = 2, metrics=[exp_rmse])"
   ]
  },
  {
   "cell_type": "markdown",
   "metadata": {},
   "source": [
    "# Create Submission "
   ]
  },
  {
   "cell_type": "code",
   "execution_count": null,
   "metadata": {},
   "outputs": [],
   "source": [
    "x,y=m.predict_with_targs()\n",
    "x = torch.from_numpy(x)\n",
    "y = torch.from_numpy(y)\n",
    "exp_rmse(x,y)"
   ]
  },
  {
   "cell_type": "code",
   "execution_count": null,
   "metadata": {
    "scrolled": false
   },
   "outputs": [],
   "source": [
    "log_preds = m.predict(True)\n",
    "\n",
    "log_preds, log_preds.mean(), len(log_preds)"
   ]
  },
  {
   "cell_type": "code",
   "execution_count": null,
   "metadata": {
    "scrolled": true
   },
   "outputs": [],
   "source": [
    "submission = test.copy()"
   ]
  },
  {
   "cell_type": "code",
   "execution_count": null,
   "metadata": {
    "scrolled": true
   },
   "outputs": [],
   "source": [
    "submission['PredictedLogRevenue'] = np.expm1(log_preds)"
   ]
  },
  {
   "cell_type": "code",
   "execution_count": null,
   "metadata": {},
   "outputs": [],
   "source": [
    "submission['PredictedLogRevenue'][(np.log(submission['totals.pageviews']) / np.log(submission['totals.hits'])) < 0.4].mean()"
   ]
  },
  {
   "cell_type": "code",
   "execution_count": null,
   "metadata": {},
   "outputs": [],
   "source": [
    "#submission['PredictedLogRevenue'][(submission['totals_pageviews'] / submission['totals_hits']) < 0.4] = 0.0"
   ]
  },
  {
   "cell_type": "code",
   "execution_count": null,
   "metadata": {
    "scrolled": true
   },
   "outputs": [],
   "source": [
    "submission_grouped = submission.groupby(['fullVisitorId'], as_index=False).agg({'PredictedLogRevenue':'sum'})"
   ]
  },
  {
   "cell_type": "code",
   "execution_count": null,
   "metadata": {
    "scrolled": true
   },
   "outputs": [],
   "source": [
    "submission_grouped['PredictedLogRevenue'] = np.log1p(submission_grouped['PredictedLogRevenue'])"
   ]
  },
  {
   "cell_type": "code",
   "execution_count": null,
   "metadata": {},
   "outputs": [],
   "source": [
    "submission_grouped['PredictedLogRevenue'].mean(), yl.mean()"
   ]
  },
  {
   "cell_type": "code",
   "execution_count": null,
   "metadata": {},
   "outputs": [],
   "source": [
    "len(submission_grouped)"
   ]
  },
  {
   "cell_type": "code",
   "execution_count": null,
   "metadata": {
    "scrolled": true
   },
   "outputs": [],
   "source": [
    "csv_fn=f'{PATH}submission.csv'\n",
    "\n",
    "submission_grouped[['fullVisitorId','PredictedLogRevenue']].to_csv(csv_fn, index=False)\n",
    "\n",
    "submission_grouped"
   ]
  },
  {
   "cell_type": "code",
   "execution_count": null,
   "metadata": {
    "scrolled": true
   },
   "outputs": [],
   "source": [
    "#plt.figure(figsize=(20,10))\n",
    "#plt.plot(X['date'], y)\n",
    "#plt.plot(submission['date'], submission['PredictedLogRevenue'])"
   ]
  },
  {
   "cell_type": "code",
   "execution_count": null,
   "metadata": {},
   "outputs": [],
   "source": []
  }
 ],
 "metadata": {
  "kernelspec": {
   "display_name": "Python 3",
   "language": "python",
   "name": "python3"
  },
  "language_info": {
   "codemirror_mode": {
    "name": "ipython",
    "version": 3
   },
   "file_extension": ".py",
   "mimetype": "text/x-python",
   "name": "python",
   "nbconvert_exporter": "python",
   "pygments_lexer": "ipython3",
   "version": "3.6.6"
  }
 },
 "nbformat": 4,
 "nbformat_minor": 1
}
