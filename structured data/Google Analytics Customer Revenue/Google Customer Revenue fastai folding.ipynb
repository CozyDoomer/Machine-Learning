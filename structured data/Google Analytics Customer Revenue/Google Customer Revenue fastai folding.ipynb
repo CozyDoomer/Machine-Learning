{
 "cells": [
  {
   "cell_type": "code",
   "execution_count": 1,
   "metadata": {
    "_cell_guid": "b1076dfc-b9ad-4769-8c92-a6c4dae69d19",
    "_kg_hide-input": true,
    "_uuid": "8f2839f25d086af736a60e9eeb907d3b93b6e0e5",
    "scrolled": true
   },
   "outputs": [
    {
     "data": {
      "text/html": [
       "<script>requirejs.config({paths: { 'plotly': ['https://cdn.plot.ly/plotly-latest.min']},});if(!window.Plotly) {{require(['plotly'],function(plotly) {window.Plotly=plotly;});}}</script>"
      ],
      "text/vnd.plotly.v1+html": [
       "<script>requirejs.config({paths: { 'plotly': ['https://cdn.plot.ly/plotly-latest.min']},});if(!window.Plotly) {{require(['plotly'],function(plotly) {window.Plotly=plotly;});}}</script>"
      ]
     },
     "metadata": {},
     "output_type": "display_data"
    },
    {
     "name": "stderr",
     "output_type": "stream",
     "text": [
      "C:\\Users\\chrun\\Anaconda3\\envs\\fastai\\lib\\site-packages\\sklearn\\ensemble\\weight_boosting.py:29: DeprecationWarning:\n",
      "\n",
      "numpy.core.umath_tests is an internal NumPy module and should not be imported. It will be removed in a future NumPy release.\n",
      "\n"
     ]
    }
   ],
   "source": [
    "import os\n",
    "\n",
    "import doctest\n",
    "import json\n",
    "import numpy as np\n",
    "import pandas as pd\n",
    "from pandas.io.json import json_normalize\n",
    "import matplotlib.pyplot as plt\n",
    "import seaborn as sns\n",
    "color = sns.color_palette()\n",
    "\n",
    "\n",
    "from plotly import tools\n",
    "import plotly.offline as py\n",
    "py.init_notebook_mode(connected=True)\n",
    "import plotly.graph_objs as go\n",
    "  \n",
    "from sklearn import model_selection, preprocessing, metrics\n",
    "from sklearn.metrics import mean_squared_error, roc_auc_score, log_loss\n",
    "from sklearn.model_selection import KFold, GroupKFold, StratifiedKFold\n",
    "from sklearn.preprocessing import Imputer \n",
    "from sklearn.metrics import mean_squared_error\n",
    "\n",
    "import lightgbm as lgb\n",
    "\n",
    "from fastai.imports import *\n",
    "from fastai.torch_imports import *\n",
    "from fastai.transforms import *\n",
    "from fastai.conv_learner import *\n",
    "from fastai.model import *\n",
    "from fastai.dataset import *\n",
    "from fastai.sgdr import *\n",
    "from fastai.plots import *\n",
    "from fastai.structured import *\n",
    "from fastai.column_data import *\n",
    "PATH = 'data/'\n",
    "\n",
    "import torch\n",
    "import gc\n",
    "%matplotlib inline"
   ]
  },
  {
   "cell_type": "code",
   "execution_count": 2,
   "metadata": {},
   "outputs": [],
   "source": [
    "#torch.backends.cudnn.deterministic = True\n",
    "#torch.manual_seed(999)"
   ]
  },
  {
   "cell_type": "markdown",
   "metadata": {},
   "source": [
    "# Get Data"
   ]
  },
  {
   "cell_type": "code",
   "execution_count": 3,
   "metadata": {},
   "outputs": [
    {
     "data": {
      "text/plain": [
       "((903653, 30), (804684, 30))"
      ]
     },
     "execution_count": 3,
     "metadata": {},
     "output_type": "execute_result"
    }
   ],
   "source": [
    "train = pd.read_csv('data/extracted_fields_train.gz', dtype={'date': str, 'fullVisitorId': str, 'sessionId':str}, nrows=None)\n",
    "test = pd.read_csv('data/extracted_fields_test.gz', dtype={'date': str, 'fullVisitorId': str, 'sessionId':str}, nrows=None)\n",
    "train.shape, test.shape"
   ]
  },
  {
   "cell_type": "markdown",
   "metadata": {},
   "source": [
    "# Folding"
   ]
  },
  {
   "cell_type": "markdown",
   "metadata": {
    "_uuid": "6be7ebd7776a156b7db885fa7697ca0dd4e5c68f"
   },
   "source": [
    "# Feature engineering"
   ]
  },
  {
   "cell_type": "code",
   "execution_count": 4,
   "metadata": {},
   "outputs": [
    {
     "data": {
      "text/plain": [
       "\"for df in [train, test]:\\n    df['vis_date'] = pd.to_datetime(df['visitStartTime'], unit='s')\\n    df['sess_date_dow'] = df['vis_date'].dt.dayofweek\\n    df['sess_date_hours'] = df['vis_date'].dt.hour\\n    df['sess_date_dom'] = df['vis_date'].dt.day\\n    df.sort_values(['fullVisitorId', 'vis_date'], ascending=True, inplace=True)\\n    df['next_session_1'] = (\\n        df['vis_date'] - df[['fullVisitorId', 'vis_date']].groupby('fullVisitorId')['vis_date'].shift(1)\\n    ).astype(np.int64) // 1e9 // 60 // 60\\n    df['next_session_2'] = (\\n        df['vis_date'] - df[['fullVisitorId', 'vis_date']].groupby('fullVisitorId')['vis_date'].shift(-1)\\n    ).astype(np.int64) // 1e9 // 60 // 60\\n    \\n#     df['max_visits'] = df['fullVisitorId'].map(\\n#         df[['fullVisitorId', 'visitNumber']].groupby('fullVisitorId')['visitNumber'].max()\\n#     )\\n    \\n    df['nb_pageviews'] = df['date'].map(\\n        df[['date', 'totals.pageviews']].groupby('date')['totals.pageviews'].sum()\\n    )\\n    \\n    df['ratio_pageviews'] = df['totals.pageviews'] / df['nb_pageviews']\\n    \\n#     df['nb_sessions'] = df['date'].map(\\n#         df[['date']].groupby('date').size()\\n#     )\\n    \\n#     df['nb_sessions_28_ma'] = df['date'].map(\\n#         df[['date']].groupby('date').size().rolling(28, min_periods=7).mean()\\n#     )\\n\\n#     df['nb_sessions_28_ma'] = df['nb_sessions'] / df['nb_sessions_28_ma']\\n\\n#     df['nb_sessions_per_day'] = df['date'].map(\\n#         df[['date']].groupby('date').size()\\n#     )\\n    \\n#     df['nb_visitors_per_day'] = df['date'].map(\\n#         df[['date','fullVisitorId']].groupby('date')['fullVisitorId'].nunique()\\n#     )\""
      ]
     },
     "execution_count": 4,
     "metadata": {},
     "output_type": "execute_result"
    }
   ],
   "source": [
    "'''for df in [train, test]:\n",
    "    df['vis_date'] = pd.to_datetime(df['visitStartTime'], unit='s')\n",
    "    df['sess_date_dow'] = df['vis_date'].dt.dayofweek\n",
    "    df['sess_date_hours'] = df['vis_date'].dt.hour\n",
    "    df['sess_date_dom'] = df['vis_date'].dt.day\n",
    "    df.sort_values(['fullVisitorId', 'vis_date'], ascending=True, inplace=True)\n",
    "    df['next_session_1'] = (\n",
    "        df['vis_date'] - df[['fullVisitorId', 'vis_date']].groupby('fullVisitorId')['vis_date'].shift(1)\n",
    "    ).astype(np.int64) // 1e9 // 60 // 60\n",
    "    df['next_session_2'] = (\n",
    "        df['vis_date'] - df[['fullVisitorId', 'vis_date']].groupby('fullVisitorId')['vis_date'].shift(-1)\n",
    "    ).astype(np.int64) // 1e9 // 60 // 60\n",
    "    \n",
    "#     df['max_visits'] = df['fullVisitorId'].map(\n",
    "#         df[['fullVisitorId', 'visitNumber']].groupby('fullVisitorId')['visitNumber'].max()\n",
    "#     )\n",
    "    \n",
    "    df['nb_pageviews'] = df['date'].map(\n",
    "        df[['date', 'totals.pageviews']].groupby('date')['totals.pageviews'].sum()\n",
    "    )\n",
    "    \n",
    "    df['ratio_pageviews'] = df['totals.pageviews'] / df['nb_pageviews']\n",
    "    \n",
    "#     df['nb_sessions'] = df['date'].map(\n",
    "#         df[['date']].groupby('date').size()\n",
    "#     )\n",
    "    \n",
    "#     df['nb_sessions_28_ma'] = df['date'].map(\n",
    "#         df[['date']].groupby('date').size().rolling(28, min_periods=7).mean()\n",
    "#     )\n",
    "\n",
    "#     df['nb_sessions_28_ma'] = df['nb_sessions'] / df['nb_sessions_28_ma']\n",
    "\n",
    "#     df['nb_sessions_per_day'] = df['date'].map(\n",
    "#         df[['date']].groupby('date').size()\n",
    "#     )\n",
    "    \n",
    "#     df['nb_visitors_per_day'] = df['date'].map(\n",
    "#         df[['date','fullVisitorId']].groupby('date')['fullVisitorId'].nunique()\n",
    "#     )'''"
   ]
  },
  {
   "cell_type": "code",
   "execution_count": 5,
   "metadata": {},
   "outputs": [],
   "source": [
    "y_reg = train['totals.transactionRevenue'].fillna(0)"
   ]
  },
  {
   "cell_type": "code",
   "execution_count": 6,
   "metadata": {},
   "outputs": [],
   "source": [
    "train['target'] = y_reg\n",
    "for df in [train, test]:\n",
    "    df['date'] = pd.to_datetime(df['visitStartTime'], unit='s')\n",
    "    df['sess_date_dow'] = df['date'].dt.dayofweek\n",
    "    df['sess_date_hours'] = df['date'].dt.hour\n",
    "    df['sess_date_dom'] = df['date'].dt.day\n",
    "    df.sort_values(['fullVisitorId', 'date'], ascending=True, inplace=True)\n",
    "    df['next_session_1'] = (\n",
    "        df['date'] - df[['fullVisitorId', 'date']].groupby('fullVisitorId')['date'].shift(1)\n",
    "    ).astype(np.int64) // 1e9 // 60 // 60\n",
    "    df['next_session_2'] = (\n",
    "        df['date'] - df[['fullVisitorId', 'date']].groupby('fullVisitorId')['date'].shift(-1)\n",
    "    ).astype(np.int64) // 1e9 // 60 // 60\n",
    "    \n",
    "y_reg = train['target']\n",
    "del train['target']"
   ]
  },
  {
   "cell_type": "markdown",
   "metadata": {
    "_uuid": "e07ce3724c9c6bb66f4839204f54f59c5826bf53"
   },
   "source": [
    "# Prepare data for deep-learning regression model"
   ]
  },
  {
   "cell_type": "code",
   "execution_count": 7,
   "metadata": {},
   "outputs": [],
   "source": [
    "excluded_features = [\n",
    "    'fullVisitorId', 'sessionId', 'totals_transactionRevenue', \n",
    "    'visitId', 'visitStartTime', 'date','vis_date', 'nb_sessions', 'max_visits'\n",
    "    #excluded after feature importance:\n",
    "]\n",
    "\n",
    "cat_cols = [\n",
    "    _f for _f in train.columns\n",
    "    if (_f not in excluded_features) & (train[_f].dtype == 'object' or train[_f].dtype == 'int64')\n",
    "]\n",
    "\n",
    "num_cols = [c for c in train.columns if c not in cat_cols and c not in excluded_features]"
   ]
  },
  {
   "cell_type": "code",
   "execution_count": 8,
   "metadata": {},
   "outputs": [
    {
     "data": {
      "text/plain": [
       "['visitNumber',\n",
       " 'device.isMobile',\n",
       " 'totals.bounces',\n",
       " 'totals.hits',\n",
       " 'totals.newVisits',\n",
       " 'totals.pageviews',\n",
       " 'totals.transactionRevenue',\n",
       " 'trafficSource.isTrueDirect']"
      ]
     },
     "execution_count": 8,
     "metadata": {},
     "output_type": "execute_result"
    }
   ],
   "source": [
    "num_cols"
   ]
  },
  {
   "cell_type": "code",
   "execution_count": 9,
   "metadata": {
    "scrolled": true
   },
   "outputs": [],
   "source": [
    "dep = 'totals.transactionRevenue'\n",
    "test[dep] = 0"
   ]
  },
  {
   "cell_type": "code",
   "execution_count": 10,
   "metadata": {
    "_uuid": "00b3c090da16bd8c60d33186345486bcef9244c3",
    "scrolled": true
   },
   "outputs": [
    {
     "name": "stdout",
     "output_type": "stream",
     "text": [
      "prepare model ...\n"
     ]
    }
   ],
   "source": [
    "# Model\n",
    "print(\"prepare model ...\")\n",
    "X = train[cat_cols + num_cols + ['fullVisitorId']].copy()\n",
    "X_test = test[cat_cols + num_cols + ['fullVisitorId']].copy()"
   ]
  },
  {
   "cell_type": "code",
   "execution_count": 11,
   "metadata": {
    "scrolled": true
   },
   "outputs": [
    {
     "name": "stdout",
     "output_type": "stream",
     "text": [
      "channelGrouping\n",
      "device.browser\n",
      "device.deviceCategory\n",
      "device.operatingSystem\n",
      "geoNetwork.city\n",
      "geoNetwork.continent\n",
      "geoNetwork.country\n",
      "geoNetwork.metro\n",
      "geoNetwork.networkDomain\n",
      "geoNetwork.region\n",
      "geoNetwork.subContinent\n",
      "trafficSource.adContent\n",
      "trafficSource.campaign\n",
      "trafficSource.keyword\n",
      "trafficSource.medium\n",
      "trafficSource.referralPath\n",
      "trafficSource.source\n",
      "sess_date_dow\n",
      "sess_date_hours\n",
      "sess_date_dom\n",
      "next_session_1\n",
      "next_session_2\n"
     ]
    }
   ],
   "source": [
    "for v in cat_cols:\n",
    "    print(v)\n",
    "    X[v] = X[v].astype('category').cat.as_ordered()\n",
    "    \n",
    "\n",
    "X['fullVisitorId'] = X['fullVisitorId'].astype('category').cat.as_ordered()"
   ]
  },
  {
   "cell_type": "code",
   "execution_count": 12,
   "metadata": {},
   "outputs": [
    {
     "data": {
      "text/plain": [
       "(31, 31, set())"
      ]
     },
     "execution_count": 12,
     "metadata": {},
     "output_type": "execute_result"
    }
   ],
   "source": [
    "len(X.columns), len(X_test.columns), set(X_test.columns).difference(set(X.columns))"
   ]
  },
  {
   "cell_type": "code",
   "execution_count": 13,
   "metadata": {
    "scrolled": true
   },
   "outputs": [
    {
     "name": "stdout",
     "output_type": "stream",
     "text": [
      "channelGrouping\n",
      "category\n",
      "device.browser\n",
      "category\n",
      "device.deviceCategory\n",
      "category\n",
      "device.operatingSystem\n",
      "category\n",
      "geoNetwork.city\n",
      "category\n",
      "geoNetwork.continent\n",
      "category\n",
      "geoNetwork.country\n",
      "category\n",
      "geoNetwork.metro\n",
      "category\n",
      "geoNetwork.networkDomain\n",
      "category\n",
      "geoNetwork.region\n",
      "category\n",
      "geoNetwork.subContinent\n",
      "category\n",
      "trafficSource.adContent\n",
      "category\n",
      "trafficSource.campaign\n",
      "category\n",
      "trafficSource.keyword\n",
      "category\n",
      "trafficSource.medium\n",
      "category\n",
      "trafficSource.referralPath\n",
      "category\n",
      "trafficSource.source\n",
      "category\n",
      "sess_date_dow\n",
      "category\n",
      "sess_date_hours\n",
      "category\n",
      "sess_date_dom\n",
      "category\n",
      "next_session_1\n",
      "category\n",
      "next_session_2\n",
      "category\n",
      "visitNumber\n",
      "float64\n",
      "device.isMobile\n",
      "float64\n",
      "totals.bounces\n",
      "float64\n",
      "totals.hits\n",
      "float64\n",
      "totals.newVisits\n",
      "float64\n",
      "totals.pageviews\n",
      "float64\n",
      "totals.transactionRevenue\n",
      "float64\n",
      "trafficSource.isTrueDirect\n",
      "float64\n",
      "fullVisitorId\n",
      "category\n"
     ]
    }
   ],
   "source": [
    "for x in X:\n",
    "    print(x)\n",
    "    print(X[x].dtype.name)"
   ]
  },
  {
   "cell_type": "code",
   "execution_count": 14,
   "metadata": {
    "scrolled": true
   },
   "outputs": [],
   "source": [
    "apply_cats(X_test, X)\n",
    "#if this does not work it is probably because of a duplicated column name ( throws dataframe has no attribute dtype error)"
   ]
  },
  {
   "cell_type": "code",
   "execution_count": 15,
   "metadata": {
    "scrolled": true
   },
   "outputs": [],
   "source": [
    "for v in num_cols:\n",
    "    X[v] = X[v].astype('float32')\n",
    "    X_test[v] = X_test[v].astype('float32')\n",
    "    \n",
    "\n",
    "X[dep] = X[dep].astype('float32')\n",
    "X[dep] = X[dep].fillna(0)\n",
    "X_test[dep] = X_test[dep].astype('float32')"
   ]
  },
  {
   "cell_type": "markdown",
   "metadata": {},
   "source": [
    "## Create Dataframes for deep-learning"
   ]
  },
  {
   "cell_type": "code",
   "execution_count": 16,
   "metadata": {},
   "outputs": [
    {
     "data": {
      "text/plain": [
       "[('channelGrouping', 9),\n",
       " ('device.browser', 55),\n",
       " ('device.deviceCategory', 4),\n",
       " ('device.operatingSystem', 21),\n",
       " ('geoNetwork.city', 650)]"
      ]
     },
     "execution_count": 16,
     "metadata": {},
     "output_type": "execute_result"
    }
   ],
   "source": [
    "cat_sz = [(c, len(X[c].cat.categories)+1) for c in cat_cols]\n",
    "cat_sz[:5]"
   ]
  },
  {
   "cell_type": "code",
   "execution_count": 17,
   "metadata": {},
   "outputs": [
    {
     "data": {
      "text/plain": [
       "[(9, 10), (55, 28), (4, 10), (21, 11), (650, 50)]"
      ]
     },
     "execution_count": 17,
     "metadata": {},
     "output_type": "execute_result"
    }
   ],
   "source": [
    "emb_szs = [(c, max(10, min(50, (c+1)//2))) for _,c in cat_sz]\n",
    "emb_szs[:5]"
   ]
  },
  {
   "cell_type": "code",
   "execution_count": 18,
   "metadata": {},
   "outputs": [],
   "source": [
    "import warnings; warnings.simplefilter('ignore')"
   ]
  },
  {
   "cell_type": "code",
   "execution_count": 19,
   "metadata": {},
   "outputs": [],
   "source": [
    "def exp_rmse(y_pred, targ):\n",
    "    return math.sqrt(mean_squared_error(targ, y_pred))"
   ]
  },
  {
   "cell_type": "markdown",
   "metadata": {},
   "source": [
    "## Learning Visitor Level"
   ]
  },
  {
   "cell_type": "code",
   "execution_count": 20,
   "metadata": {
    "scrolled": true
   },
   "outputs": [
    {
     "name": "stdout",
     "output_type": "stream",
     "text": [
      "Fold: 0\n"
     ]
    },
    {
     "data": {
      "application/vnd.jupyter.widget-view+json": {
       "model_id": "8c19292cf99c40b883b6bd398d0aaf62",
       "version_major": 2,
       "version_minor": 0
      },
      "text/plain": [
       "HBox(children=(IntProgress(value=0, description='Epoch', max=4), HTML(value='')))"
      ]
     },
     "metadata": {},
     "output_type": "display_data"
    },
    {
     "name": "stdout",
     "output_type": "stream",
     "text": [
      "epoch      trn_loss   val_loss   exp_rmse                                                                              \n",
      "    0      2.710108   2.888393   1.687     \n",
      "    1      2.739282   2.795681   1.660884                                                                              \n",
      "    2      2.453361   2.674568   1.623596                                                                              \n",
      "    3      2.438159   2.655136   1.616835                                                                              \n",
      "\n",
      "Fold: 1\n"
     ]
    },
    {
     "data": {
      "application/vnd.jupyter.widget-view+json": {
       "model_id": "382fda017419495094edf6bf21cf20e8",
       "version_major": 2,
       "version_minor": 0
      },
      "text/plain": [
       "HBox(children=(IntProgress(value=0, description='Epoch', max=4), HTML(value='')))"
      ]
     },
     "metadata": {},
     "output_type": "display_data"
    },
    {
     "name": "stdout",
     "output_type": "stream",
     "text": [
      "epoch      trn_loss   val_loss   exp_rmse                                                                              \n",
      "    0      2.99836    3.156563   1.760459  \n",
      "    1      3.250061   3.070951   1.737187                                                                              \n",
      "    2      2.693353   2.881311   1.682935                                                                              \n",
      "    3      2.784466   2.857688   1.675906                                                                              \n",
      "\n",
      "Fold: 2\n"
     ]
    },
    {
     "data": {
      "application/vnd.jupyter.widget-view+json": {
       "model_id": "e2d964b2f62e43a1a8cd8636b4100529",
       "version_major": 2,
       "version_minor": 0
      },
      "text/plain": [
       "HBox(children=(IntProgress(value=0, description='Epoch', max=4), HTML(value='')))"
      ]
     },
     "metadata": {},
     "output_type": "display_data"
    },
    {
     "name": "stdout",
     "output_type": "stream",
     "text": [
      "epoch      trn_loss   val_loss   exp_rmse                                                                              \n",
      "    0      2.923552   2.904614   1.686152  \n",
      "    1      3.115523   2.836679   1.666089                                                                              \n",
      "    2      2.615204   2.702349   1.623478                                                                              \n",
      "    3      2.670091   2.669492   1.614643                                                                              \n",
      "\n",
      "Fold: 3\n"
     ]
    },
    {
     "data": {
      "application/vnd.jupyter.widget-view+json": {
       "model_id": "6dcfee3a1e0e47af95d1018727a513a6",
       "version_major": 2,
       "version_minor": 0
      },
      "text/plain": [
       "HBox(children=(IntProgress(value=0, description='Epoch', max=4), HTML(value='')))"
      ]
     },
     "metadata": {},
     "output_type": "display_data"
    },
    {
     "name": "stdout",
     "output_type": "stream",
     "text": [
      "epoch      trn_loss   val_loss   exp_rmse                                                                              \n",
      "    0      3.038768   3.144996   1.759501  \n",
      "    1      2.940509   3.021764   1.724761                                                                              \n",
      "    2      2.471928   2.791148   1.656137                                                                              \n",
      "    3      2.650552   2.767427   1.649292                                                                              \n",
      "\n",
      "Fold: 4\n"
     ]
    },
    {
     "data": {
      "application/vnd.jupyter.widget-view+json": {
       "model_id": "dd86ea97b2dc4593861341fee67f2deb",
       "version_major": 2,
       "version_minor": 0
      },
      "text/plain": [
       "HBox(children=(IntProgress(value=0, description='Epoch', max=4), HTML(value='')))"
      ]
     },
     "metadata": {},
     "output_type": "display_data"
    },
    {
     "name": "stdout",
     "output_type": "stream",
     "text": [
      "epoch      trn_loss   val_loss   exp_rmse                                                                              \n",
      "    0      3.107443   2.942477   1.701011  \n",
      "    1      2.964292   2.851257   1.674218                                                                              \n",
      "    2      2.65797    2.631658   1.607929                                                                              \n",
      "    3      2.589363   2.605849   1.600064                                                                              \n",
      "\n"
     ]
    }
   ],
   "source": [
    "folds = GroupKFold(n_splits=5)\n",
    "\n",
    "result_train = np.zeros(X.shape[0])\n",
    "result_test = np.zeros(X_test.shape[0])\n",
    "\n",
    "X_indexed = X.set_index(\"fullVisitorId\")\n",
    "df, y, nas, mapper = proc_df(X_indexed, 'totals.transactionRevenue', do_scale=True)\n",
    "\n",
    "for fold_, (trn_, val_) in enumerate(folds.split(df, y, X_indexed.index)):\n",
    "    print(\"Fold:\",fold_)\n",
    "    \n",
    "    trn_x = X.iloc[np.concatenate((trn_, val_), axis=0)]\n",
    "    val_idx = val_\n",
    "    \n",
    "    train_indexed = trn_x.set_index(\"fullVisitorId\")\n",
    "    df, y, nas_, mapper_fold = proc_df(train_indexed, 'totals.transactionRevenue', do_scale=True, mapper=mapper, na_dict=nas)\n",
    "    X_test_indexed = X_test.set_index(\"fullVisitorId\")\n",
    "    df_test, _, nas_, mapper_ = proc_df(X_test_indexed, 'totals.transactionRevenue', do_scale=True,\n",
    "                                  mapper=mapper_fold, na_dict=nas)\n",
    "    yl = np.log1p(y)\n",
    "    max_y = np.max(yl)\n",
    "    y_range = (0, max_y*1.2)\n",
    "    \n",
    "    md = ColumnarModelData.from_data_frame(PATH, val_idx, df, yl, cat_flds=cat_cols, bs=512, test_df=df_test)\n",
    "    m = md.get_learner(emb_szs, len(df.columns)-len(cat_cols),\n",
    "                   0.04, 1, [1000,500], [0.001, 0.01], y_range=y_range)\n",
    "    \n",
    "    m.fit(1e-4, 2, cycle_len = 2, cycle_mult = 1, metrics=[exp_rmse])\n",
    "    \n",
    "    \n",
    "    log_preds_train = m.predict_dl(m.data.trn_dl)\n",
    "    log_preds_val = m.predict_dl(m.data.val_dl)\n",
    "    log_preds_train[log_preds_train < 0] = 0\n",
    "    log_preds_val[log_preds_val < 0] = 0\n",
    "    result_train[trn_] = np.expm1(log_preds_train).reshape(-1)\n",
    "    result_train[val_] = np.expm1(log_preds_val).reshape(-1)\n",
    "        \n",
    "    log_preds_test = m.predict(True)\n",
    "    log_preds_test[log_preds_test < 0] = 0\n",
    "    result_test += (np.expm1(log_preds_test) / folds.n_splits).reshape(-1)\n",
    "    #change_fc_data(learn, train_index, val_index)"
   ]
  },
  {
   "cell_type": "markdown",
   "metadata": {},
   "source": [
    "# Results"
   ]
  },
  {
   "cell_type": "markdown",
   "metadata": {},
   "source": [
    "\n",
    "\n",
    "## FullvisitorId indexed visitor level groupkFold \n",
    "## cv (15% train/validation split) using better features:\n",
    "\n",
    "\n",
    "### 6e\n",
    "\n",
    "### fold 0\n",
    "- 2.335301   2.582257   1.595333\n",
    "\n",
    "### fold 1\n",
    "- 2.556804   2.565517   1.588103\n",
    "\n",
    "### fold 2\n",
    "- 2.343113   2.644329   1.612172 \n",
    "\n",
    "### fold 3\n",
    "- 2.357347   2.633067   1.608948\n",
    "\n",
    "### fold 4\n",
    "- 2.477443   2.638221   1.610311 \n",
    "\n",
    "\n",
    "## FullvisitorId indexed visitor level cv (15% train/validation split) using better features:\n",
    "\n",
    "### 3e\n",
    "\n",
    "- 2.908336154736353, 1.6928364618530287\n",
    "\n",
    "### 6e\n",
    "\n",
    "- 2.6615966842603833, 1.6192395528417023\n",
    "\n",
    "### 9e\n",
    "\n",
    "- 2.6171998919897654, 1.6051034699929898\n",
    "\n",
    "### 9e3eh \n",
    "\n",
    "- 2.604989178404238, 1.601011082221721\n",
    "\n",
    "### 10e3eh \n",
    "\n",
    "- 2.6047352634459537, 1.6008542096483447\n",
    "\n",
    "## Date indexed visitor level cv (15.32% train/validation split) using better features:\n",
    "\n",
    "### 3e\n",
    "\n",
    "- 2.8000360318887103, 1.6550484801023893\n",
    "\n",
    "### 5e\n",
    "\n",
    "- 2.640869347781692, 1.6067949968854136\n",
    "\n",
    "\n",
    "## Date indexed visitor level cv (15.32% train/validation split):\n",
    "\n",
    "### 3e\n",
    "\n",
    "- 3.0265201163562265, RMSE 1.3110982701455685 \n",
    "\n",
    "### 6e\n",
    "\n",
    "- 2.8375099688976335, RMSE 1.2135674675795136 \n",
    "\n",
    "### 6e9em\n",
    "\n",
    "- 2.796606798042731, RMSE 1.1948834400361132\n",
    "\n",
    "### 9e9em \n",
    "\n",
    "- 2.7970978266890083, RMSE 1.1941790717723948"
   ]
  },
  {
   "cell_type": "code",
   "execution_count": 21,
   "metadata": {
    "scrolled": true
   },
   "outputs": [
    {
     "data": {
      "text/plain": [
       "<matplotlib.axes._subplots.AxesSubplot at 0x1d7f099e550>"
      ]
     },
     "execution_count": 21,
     "metadata": {},
     "output_type": "execute_result"
    },
    {
     "data": {
      "image/png": "[encoded data removed]",
      "text/plain": [
       "<Figure size 864x1440 with 1 Axes>"
      ]
     },
     "metadata": {
      "needs_background": "light"
     },
     "output_type": "display_data"
    }
   ],
   "source": [
    "fi = nn_feat_importance(m, md, cat_cols, num_cols)\n",
    "fi.plot('cols', 'imp', 'barh', figsize=(12,20), legend=False)"
   ]
  },
  {
   "cell_type": "markdown",
   "metadata": {},
   "source": [
    "# Create user level predictions"
   ]
  },
  {
   "cell_type": "code",
   "execution_count": 22,
   "metadata": {},
   "outputs": [
    {
     "data": {
      "text/plain": [
       "(0.2715053150869271, 0.21158325964707095, 0.2271182)"
      ]
     },
     "execution_count": 22,
     "metadata": {},
     "output_type": "execute_result"
    }
   ],
   "source": [
    "np.log1p(result_train).mean(), np.log1p(result_test).mean(), np.log1p(train_indexed['totals.transactionRevenue']).mean()"
   ]
  },
  {
   "cell_type": "code",
   "execution_count": 23,
   "metadata": {
    "colab": {},
    "colab_type": "code",
    "id": "rpM6EzpbbB77"
   },
   "outputs": [],
   "source": [
    "#test['PredictedLogRevenue'] = result_test "
   ]
  },
  {
   "cell_type": "code",
   "execution_count": 24,
   "metadata": {},
   "outputs": [],
   "source": [
    "#test_grouped = test.groupby(['fullVisitorId'], as_index=False).agg({'PredictedLogRevenue':'sum'})"
   ]
  },
  {
   "cell_type": "code",
   "execution_count": 25,
   "metadata": {},
   "outputs": [],
   "source": [
    "#test_grouped['PredictedLogRevenue'] = np.log1p(test_grouped['PredictedLogRevenue'])"
   ]
  },
  {
   "cell_type": "code",
   "execution_count": 26,
   "metadata": {
    "colab": {},
    "colab_type": "code",
    "id": "x6zxzLF4bB8D"
   },
   "outputs": [],
   "source": [
    "#csv_fn=f'{PATH}submission.csv'\n",
    "\n",
    "#test_grouped[['fullVisitorId','PredictedLogRevenue']].to_csv(csv_fn, index=False)"
   ]
  },
  {
   "cell_type": "code",
   "execution_count": 27,
   "metadata": {},
   "outputs": [],
   "source": [
    "X_indexed['predictions'] = result_train\n",
    "X_test_indexed['predictions'] = result_test"
   ]
  },
  {
   "cell_type": "code",
   "execution_count": 28,
   "metadata": {},
   "outputs": [],
   "source": [
    "train_user = X_indexed[cat_cols + num_cols + ['predictions']]\n",
    "test_user = X_test_indexed[cat_cols + num_cols + ['predictions']]"
   ]
  },
  {
   "cell_type": "code",
   "execution_count": 29,
   "metadata": {},
   "outputs": [],
   "source": [
    "train_user.reset_index().to_feather('Dataframes/train_user_validated')\n",
    "test_user.reset_index().to_feather('Dataframes/test_user_validated')"
   ]
  },
  {
   "cell_type": "code",
   "execution_count": 30,
   "metadata": {},
   "outputs": [],
   "source": [
    "train_user = pd.read_feather('Dataframes/train_user_validated')\n",
    "test_user = pd.read_feather('Dataframes/test_user_validated')"
   ]
  },
  {
   "cell_type": "code",
   "execution_count": 31,
   "metadata": {},
   "outputs": [],
   "source": [
    "excluded_features = [\n",
    "    'fullVisitorId', 'sessionId', 'totals_transactionRevenue', \n",
    "    'visitId', 'visitStartTime', 'date'\n",
    "    #excluded after feature importance:\n",
    "]\n",
    "\n",
    "cat_cols = [\n",
    "    _f for _f in train_user.columns\n",
    "    if (_f not in excluded_features) & (train_user[_f].dtype.name == 'category')\n",
    "]\n",
    "\n",
    "num_cols = [c for c in train_user.columns if c not in cat_cols and c not in excluded_features]"
   ]
  },
  {
   "cell_type": "code",
   "execution_count": 32,
   "metadata": {},
   "outputs": [
    {
     "ename": "ValueError",
     "evalue": "buffer source array is read-only",
     "output_type": "error",
     "traceback": [
      "\u001b[1;31m---------------------------------------------------------------------------\u001b[0m",
      "\u001b[1;31mValueError\u001b[0m                                Traceback (most recent call last)",
      "\u001b[1;32m<ipython-input-32-c0d2702b73bd>\u001b[0m in \u001b[0;36m<module>\u001b[1;34m()\u001b[0m\n\u001b[0;32m      3\u001b[0m \u001b[1;32mfor\u001b[0m \u001b[0mf\u001b[0m \u001b[1;32min\u001b[0m \u001b[0mcat_cols\u001b[0m\u001b[1;33m:\u001b[0m\u001b[1;33m\u001b[0m\u001b[0m\n\u001b[0;32m      4\u001b[0m     \u001b[0mtrain_user_fact\u001b[0m\u001b[1;33m[\u001b[0m\u001b[0mf\u001b[0m\u001b[1;33m]\u001b[0m\u001b[1;33m,\u001b[0m \u001b[0mindexer\u001b[0m \u001b[1;33m=\u001b[0m \u001b[0mpd\u001b[0m\u001b[1;33m.\u001b[0m\u001b[0mfactorize\u001b[0m\u001b[1;33m(\u001b[0m\u001b[0mtrain_user\u001b[0m\u001b[1;33m[\u001b[0m\u001b[0mf\u001b[0m\u001b[1;33m]\u001b[0m\u001b[1;33m)\u001b[0m\u001b[1;33m\u001b[0m\u001b[0m\n\u001b[1;32m----> 5\u001b[1;33m     \u001b[0mtest_user_fact\u001b[0m\u001b[1;33m[\u001b[0m\u001b[0mf\u001b[0m\u001b[1;33m]\u001b[0m \u001b[1;33m=\u001b[0m \u001b[0mindexer\u001b[0m\u001b[1;33m.\u001b[0m\u001b[0mget_indexer\u001b[0m\u001b[1;33m(\u001b[0m\u001b[0mtest_user\u001b[0m\u001b[1;33m[\u001b[0m\u001b[0mf\u001b[0m\u001b[1;33m]\u001b[0m\u001b[1;33m)\u001b[0m\u001b[1;33m\u001b[0m\u001b[0m\n\u001b[0m",
      "\u001b[1;32m~\\Anaconda3\\envs\\fastai\\lib\\site-packages\\pandas\\core\\indexes\\category.py\u001b[0m in \u001b[0;36mget_indexer\u001b[1;34m(self, target, method, limit, tolerance)\u001b[0m\n\u001b[0;32m    583\u001b[0m                 codes = _recode_for_categories(target.codes,\n\u001b[0;32m    584\u001b[0m                                                \u001b[0mtarget\u001b[0m\u001b[1;33m.\u001b[0m\u001b[0mcategories\u001b[0m\u001b[1;33m,\u001b[0m\u001b[1;33m\u001b[0m\u001b[0m\n\u001b[1;32m--> 585\u001b[1;33m                                                self.values.categories)\n\u001b[0m\u001b[0;32m    586\u001b[0m         \u001b[1;32melse\u001b[0m\u001b[1;33m:\u001b[0m\u001b[1;33m\u001b[0m\u001b[0m\n\u001b[0;32m    587\u001b[0m             \u001b[1;32mif\u001b[0m \u001b[0misinstance\u001b[0m\u001b[1;33m(\u001b[0m\u001b[0mtarget\u001b[0m\u001b[1;33m,\u001b[0m \u001b[0mCategoricalIndex\u001b[0m\u001b[1;33m)\u001b[0m\u001b[1;33m:\u001b[0m\u001b[1;33m\u001b[0m\u001b[0m\n",
      "\u001b[1;32m~\\Anaconda3\\envs\\fastai\\lib\\site-packages\\pandas\\core\\arrays\\categorical.py\u001b[0m in \u001b[0;36m_recode_for_categories\u001b[1;34m(codes, old_categories, new_categories)\u001b[0m\n\u001b[0;32m   2461\u001b[0m         \u001b[1;31m# All null anyway, so just retain the nulls\u001b[0m\u001b[1;33m\u001b[0m\u001b[1;33m\u001b[0m\u001b[0m\n\u001b[0;32m   2462\u001b[0m         \u001b[1;32mreturn\u001b[0m \u001b[0mcodes\u001b[0m\u001b[1;33m.\u001b[0m\u001b[0mcopy\u001b[0m\u001b[1;33m(\u001b[0m\u001b[1;33m)\u001b[0m\u001b[1;33m\u001b[0m\u001b[0m\n\u001b[1;32m-> 2463\u001b[1;33m     indexer = coerce_indexer_dtype(new_categories.get_indexer(old_categories),\n\u001b[0m\u001b[0;32m   2464\u001b[0m                                    new_categories)\n\u001b[0;32m   2465\u001b[0m     \u001b[0mnew_codes\u001b[0m \u001b[1;33m=\u001b[0m \u001b[0mtake_1d\u001b[0m\u001b[1;33m(\u001b[0m\u001b[0mindexer\u001b[0m\u001b[1;33m,\u001b[0m \u001b[0mcodes\u001b[0m\u001b[1;33m.\u001b[0m\u001b[0mcopy\u001b[0m\u001b[1;33m(\u001b[0m\u001b[1;33m)\u001b[0m\u001b[1;33m,\u001b[0m \u001b[0mfill_value\u001b[0m\u001b[1;33m=\u001b[0m\u001b[1;33m-\u001b[0m\u001b[1;36m1\u001b[0m\u001b[1;33m)\u001b[0m\u001b[1;33m\u001b[0m\u001b[0m\n",
      "\u001b[1;32m~\\Anaconda3\\envs\\fastai\\lib\\site-packages\\pandas\\core\\indexes\\base.py\u001b[0m in \u001b[0;36mget_indexer\u001b[1;34m(self, target, method, limit, tolerance)\u001b[0m\n\u001b[0;32m   3257\u001b[0m                                  'backfill or nearest reindexing')\n\u001b[0;32m   3258\u001b[0m \u001b[1;33m\u001b[0m\u001b[0m\n\u001b[1;32m-> 3259\u001b[1;33m             \u001b[0mindexer\u001b[0m \u001b[1;33m=\u001b[0m \u001b[0mself\u001b[0m\u001b[1;33m.\u001b[0m\u001b[0m_engine\u001b[0m\u001b[1;33m.\u001b[0m\u001b[0mget_indexer\u001b[0m\u001b[1;33m(\u001b[0m\u001b[0mtarget\u001b[0m\u001b[1;33m.\u001b[0m\u001b[0m_ndarray_values\u001b[0m\u001b[1;33m)\u001b[0m\u001b[1;33m\u001b[0m\u001b[0m\n\u001b[0m\u001b[0;32m   3260\u001b[0m \u001b[1;33m\u001b[0m\u001b[0m\n\u001b[0;32m   3261\u001b[0m         \u001b[1;32mreturn\u001b[0m \u001b[0m_ensure_platform_int\u001b[0m\u001b[1;33m(\u001b[0m\u001b[0mindexer\u001b[0m\u001b[1;33m)\u001b[0m\u001b[1;33m\u001b[0m\u001b[0m\n",
      "\u001b[1;32mpandas/_libs/index.pyx\u001b[0m in \u001b[0;36mpandas._libs.index.IndexEngine.get_indexer\u001b[1;34m()\u001b[0m\n",
      "\u001b[1;32mpandas/_libs/hashtable_class_helper.pxi\u001b[0m in \u001b[0;36mpandas._libs.hashtable.Int64HashTable.lookup\u001b[1;34m()\u001b[0m\n",
      "\u001b[1;32m~\\Anaconda3\\envs\\fastai\\lib\\site-packages\\pandas\\_libs\\hashtable.cp36-win_amd64.pyd\u001b[0m in \u001b[0;36mView.MemoryView.memoryview_cwrapper\u001b[1;34m()\u001b[0m\n",
      "\u001b[1;32m~\\Anaconda3\\envs\\fastai\\lib\\site-packages\\pandas\\_libs\\hashtable.cp36-win_amd64.pyd\u001b[0m in \u001b[0;36mView.MemoryView.memoryview.__cinit__\u001b[1;34m()\u001b[0m\n",
      "\u001b[1;31mValueError\u001b[0m: buffer source array is read-only"
     ]
    }
   ],
   "source": [
    "train_user_fact = train_user.copy()\n",
    "test_user_fact = test_user.copy()\n",
    "for f in cat_cols:\n",
    "    train_user_fact[f], indexer = pd.factorize(train_user[f])\n",
    "    test_user_fact[f] = indexer.get_indexer(test_user[f])"
   ]
  },
  {
   "cell_type": "code",
   "execution_count": null,
   "metadata": {},
   "outputs": [],
   "source": [
    "'''%%time\n",
    "\n",
    "# Create a list of predictions for each Visitor\n",
    "#trn_pred_list = train_user[['fullVisitorId', 'predictions']].groupby('fullVisitorId').sum()\n",
    "\n",
    "trn_pred_list = train_user_fact[['predictions']].groupby(train_user_fact.index)\\\n",
    "    .apply(lambda df: list(df.predictions))\\\n",
    "    .apply(lambda x: {'pred_'+str(i): pred for i, pred in enumerate(x)})\n",
    "\n",
    "trn_data = train_user_fact[cat_cols + num_cols + ['fullVisitorId']].groupby('fullVisitorId').mean()\n",
    "\n",
    "trn_all_predictions1 = pd.DataFrame(list(trn_pred_list.values), index=trn_data.index)\n",
    "trn_feats = trn_all_predictions1.columns\n",
    "\n",
    "trn_all_predictions = pd.DataFrame(index=trn_data.index)\n",
    "trn_all_predictions['t_mean']    = trn_all_predictions1[trn_feats].mean(axis=1)\n",
    "trn_all_predictions['t_median']  = trn_all_predictions1[trn_feats].median(axis=1)\n",
    "trn_all_predictions['t_sum_log'] = trn_all_predictions1[trn_feats].sum(axis=1)\n",
    "trn_all_predictions['t_sum_act'] = trn_all_predictions1[trn_feats].fillna(0).sum(axis=1)\n",
    "trn_all_predictions['t_nb_sess'] = trn_all_predictions1[trn_feats].isnull().sum(axis=1)\n",
    "full_data = pd.concat([trn_data, trn_all_predictions], axis=1)\n",
    "del trn_data, trn_all_predictions1\n",
    "gc.collect()\n",
    "full_data.shape'''"
   ]
  },
  {
   "cell_type": "code",
   "execution_count": null,
   "metadata": {},
   "outputs": [],
   "source": [
    "trn_data = train_user_fact[cat_cols + num_cols].groupby(train_user_fact.index).mean()"
   ]
  },
  {
   "cell_type": "code",
   "execution_count": null,
   "metadata": {
    "scrolled": true
   },
   "outputs": [],
   "source": [
    "trn_all_predictions = pd.DataFrame(index=trn_data.index)\n",
    "\n",
    "def create_prediction_mean(train_user):\n",
    "    '''\n",
    "    >>> df = create_prediction_mean(pd.DataFrame([3,1],columns=['predictions'], index=[1,1]))\n",
    "    >>> df\n",
    "       predictions\n",
    "    1            2\n",
    "    '''\n",
    "    pass\n",
    "    return train_user[['predictions']].groupby(train_user.index).mean()\n",
    "    \n",
    "doctest.testmod()\n",
    "\n",
    "#create_prediction_mean(train_user_fact)"
   ]
  },
  {
   "cell_type": "code",
   "execution_count": null,
   "metadata": {},
   "outputs": [],
   "source": [
    "trn_all_predictions['t_mean']"
   ]
  },
  {
   "cell_type": "code",
   "execution_count": null,
   "metadata": {},
   "outputs": [],
   "source": [
    "trn_all_predictions = create_prediction_mean\n",
    "\n",
    "trn_all_predictions['t_median']  = train_user[['predictions']].groupby(train_user_fact.index).median()\n",
    "\n",
    "trn_all_predictions['t_sum_log'] = train_user[['predictions']].groupby(train_user_fact.index).sum()\n",
    "\n",
    "trn_all_predictions['t_count'] = train_user[['predictions']].groupby(train_user_fact.index).count()"
   ]
  },
  {
   "cell_type": "code",
   "execution_count": null,
   "metadata": {},
   "outputs": [],
   "source": [
    "full_data = pd.concat([trn_data, trn_all_predictions], axis=1)"
   ]
  },
  {
   "cell_type": "code",
   "execution_count": null,
   "metadata": {},
   "outputs": [],
   "source": [
    "'''%%time\n",
    "sub_pred_list = test_user[['fullVisitorId', 'predictions']].groupby('fullVisitorId')\\\n",
    "    .apply(lambda df: list(df.predictions))\\\n",
    "    .apply(lambda x: {'pred_'+str(i): pred for i, pred in enumerate(x)})'''"
   ]
  },
  {
   "cell_type": "code",
   "execution_count": null,
   "metadata": {},
   "outputs": [],
   "source": [
    "'''sub_data = test_user_fact[cat_cols + num_cols + ['fullVisitorId']].groupby('fullVisitorId').mean()\n",
    "\n",
    "sub_all_predictions1 = pd.DataFrame(list(sub_pred_list.values), index=sub_data.index)\n",
    "\n",
    "for f in trn_feats:\n",
    "    if f not in sub_all_predictions1.columns:\n",
    "        sub_all_predictions1[f] = np.nan\n",
    "\n",
    "sub_all_predictions = pd.DataFrame(index=sub_data.index)\n",
    "sub_all_predictions['t_mean']    = sub_all_predictions1[trn_feats].mean(axis=1)\n",
    "sub_all_predictions['t_median']  = sub_all_predictions1[trn_feats].median(axis=1)\n",
    "sub_all_predictions['t_sum_log'] = sub_all_predictions1[trn_feats].sum(axis=1)\n",
    "sub_all_predictions['t_sum_act'] = sub_all_predictions1[trn_feats].fillna(0).sum(axis=1)\n",
    "sub_all_predictions['t_nb_sess'] = sub_all_predictions1[trn_feats].isnull().sum(axis=1)\n",
    "sub_full_data = pd.concat([sub_data, sub_all_predictions], axis=1)\n",
    "del sub_data, sub_all_predictions\n",
    "gc.collect()\n",
    "sub_full_data.shape'''"
   ]
  },
  {
   "cell_type": "code",
   "execution_count": null,
   "metadata": {},
   "outputs": [],
   "source": [
    "sub_data = test_user_fact[cat_cols + num_cols].groupby(test_user_fact.index).mean()"
   ]
  },
  {
   "cell_type": "code",
   "execution_count": null,
   "metadata": {},
   "outputs": [],
   "source": [
    "%%time\n",
    "\n",
    "sub_all_predictions = pd.DataFrame(index=trn_data.index)\n",
    "print('sub_all_predictions done')\n",
    "sub_all_predictions['t_mean']    = test_user_fact[['predictions']].groupby(test_user_fact.index).mean()\n",
    "print('mean done')\n",
    "sub_all_predictions['t_median']  = test_user_fact[['predictions']].groupby(test_user_fact.index).median()\n",
    "print('median done')\n",
    "sub_all_predictions['t_sum_log'] = test_user_fact[['predictions']].groupby(test_user_fact.index).sum()\n",
    "print('sum done')\n",
    "sub_all_predictions['t_count'] = test_user_fact[['predictions']].groupby(test_user_fact.index).count()\n",
    "print('count done')\n",
    "\n",
    "#sub_all_predictions[['t_mean', 't_median', 't_sum_log', 't_count']].fillna(0, inplace=True)"
   ]
  },
  {
   "cell_type": "code",
   "execution_count": null,
   "metadata": {},
   "outputs": [],
   "source": []
  },
  {
   "cell_type": "code",
   "execution_count": null,
   "metadata": {},
   "outputs": [],
   "source": [
    "sub_full_data = pd.concat([sub_data, sub_all_predictions], axis=1)"
   ]
  },
  {
   "cell_type": "code",
   "execution_count": null,
   "metadata": {},
   "outputs": [],
   "source": [
    "sub_full_data.isna().sum()"
   ]
  },
  {
   "cell_type": "code",
   "execution_count": null,
   "metadata": {},
   "outputs": [],
   "source": [
    "train_user['target'] = yl\n",
    "trn_user_target = train_user[['target']].groupby(train_user.index).sum()"
   ]
  },
  {
   "cell_type": "code",
   "execution_count": null,
   "metadata": {},
   "outputs": [],
   "source": [
    "for f in full_data.columns:\n",
    "    print(f +  \" - \" + str(full_data[f].dtype))"
   ]
  },
  {
   "cell_type": "code",
   "execution_count": null,
   "metadata": {},
   "outputs": [],
   "source": [
    "for v in cat_cols:\n",
    "    print(v)\n",
    "    full_data[v] = full_data[v].astype('category').cat.as_ordered()\n",
    "    \n",
    "\n",
    "full_data['t_count'] = full_data['t_count'].astype('category').cat.as_ordered()"
   ]
  },
  {
   "cell_type": "code",
   "execution_count": null,
   "metadata": {
    "scrolled": true
   },
   "outputs": [],
   "source": [
    "apply_cats(sub_full_data, full_data)\n",
    "#if this does not work it is probably because of a duplicated column name ( throws dataframe has no attribute dtype error)"
   ]
  },
  {
   "cell_type": "markdown",
   "metadata": {},
   "source": [
    "## Create Dataframes for deep-learning"
   ]
  },
  {
   "cell_type": "code",
   "execution_count": null,
   "metadata": {},
   "outputs": [],
   "source": [
    "full_data['totals.transactionRevenue'] = trn_user_target['target']\n",
    "sub_full_data['totals.transactionRevenue'] = 0"
   ]
  },
  {
   "cell_type": "code",
   "execution_count": null,
   "metadata": {},
   "outputs": [],
   "source": [
    "full_data.shape, sub_full_data.shape"
   ]
  },
  {
   "cell_type": "code",
   "execution_count": null,
   "metadata": {},
   "outputs": [],
   "source": [
    "#full_data = full_data.apply(lambda x: pd.to_numeric(x, downcast='float') if x.dtype == \"float64\" else x)"
   ]
  },
  {
   "cell_type": "code",
   "execution_count": null,
   "metadata": {},
   "outputs": [],
   "source": [
    "#sub_full_data = sub_full_data.apply(lambda x: pd.to_numeric(x, downcast='float') if x.dtype == \"float64\" else x)"
   ]
  },
  {
   "cell_type": "code",
   "execution_count": null,
   "metadata": {},
   "outputs": [],
   "source": [
    "full_data.reset_index().to_feather('Dataframes/full_data')\n",
    "sub_full_data.reset_index().to_feather('Dataframes/sub_full_data')"
   ]
  },
  {
   "cell_type": "code",
   "execution_count": null,
   "metadata": {},
   "outputs": [],
   "source": [
    "full_data = pd.read_feather('Dataframes/full_data')\n",
    "sub_full_data = pd.read_feather('Dataframes/sub_full_data')"
   ]
  },
  {
   "cell_type": "code",
   "execution_count": null,
   "metadata": {},
   "outputs": [],
   "source": [
    "excluded_features = [\n",
    "    'fullVisitorId', 'sessionId', 'totals_transactionRevenue', \n",
    "    'visitId', 'visitStartTime', 'date'\n",
    "    #excluded after feature importance:\n",
    "]\n",
    "\n",
    "cat_cols = [\n",
    "    _f for _f in full_data.columns\n",
    "    if (_f not in excluded_features) & (full_data[_f].dtype.name == 'category')\n",
    "]\n",
    "\n",
    "num_cols = [c for c in full_data.columns if c not in cat_cols and c not in excluded_features]"
   ]
  },
  {
   "cell_type": "code",
   "execution_count": null,
   "metadata": {},
   "outputs": [],
   "source": [
    "import warnings; warnings.simplefilter('ignore')\n",
    "\n",
    "def exp_rmse(y_pred, targ):\n",
    "    return math.sqrt(mean_squared_error(targ, y_pred))"
   ]
  },
  {
   "cell_type": "code",
   "execution_count": null,
   "metadata": {},
   "outputs": [],
   "source": [
    "cat_sz_user = [(c, len(full_data[c].cat.categories)+1) for c in cat_cols]\n",
    "cat_sz_user"
   ]
  },
  {
   "cell_type": "code",
   "execution_count": null,
   "metadata": {},
   "outputs": [],
   "source": [
    "emb_sz_user = [(c, max(10, min(50, (c+1)//2))) for _,c in cat_sz_user]\n",
    "emb_sz_user"
   ]
  },
  {
   "cell_type": "code",
   "execution_count": null,
   "metadata": {},
   "outputs": [],
   "source": [
    "len(df.columns), len(df_test.columns)"
   ]
  },
  {
   "cell_type": "code",
   "execution_count": null,
   "metadata": {},
   "outputs": [],
   "source": [
    "len(df.columns), len(df_test.columns), set(df_test.columns).difference(set(df.columns))"
   ]
  },
  {
   "cell_type": "code",
   "execution_count": null,
   "metadata": {},
   "outputs": [],
   "source": [
    "sub_full_data[['t_mean', 't_median', 't_sum_log']].fillna(0, inplace=True)"
   ]
  },
  {
   "cell_type": "code",
   "execution_count": null,
   "metadata": {},
   "outputs": [],
   "source": [
    "sub_full_data.isna().sum()"
   ]
  },
  {
   "cell_type": "code",
   "execution_count": null,
   "metadata": {},
   "outputs": [],
   "source": [
    "full_data.shape"
   ]
  },
  {
   "cell_type": "code",
   "execution_count": null,
   "metadata": {
    "scrolled": true
   },
   "outputs": [],
   "source": [
    "folds = GroupKFold(n_splits=5)\n",
    "\n",
    "result_train_user = np.zeros(full_data.shape[0])\n",
    "result_test_user = np.zeros(sub_full_data.shape[0])\n",
    "\n",
    "df, y_user, nas, mapper = proc_df(full_data, 'totals.transactionRevenue', do_scale=True)\n",
    "\n",
    "for fold_, (trn_, val_) in enumerate(folds.split(df, y_user, df.index)):\n",
    "    print(\"Fold:\",fold_)\n",
    "    \n",
    "    trn_x = full_data.iloc[np.concatenate((trn_, val_), axis=0)]\n",
    "    val_idx = val_\n",
    "\n",
    "    df, y_user, nas, mapper_fold = proc_df(trn_x, 'totals.transactionRevenue', do_scale=True, mapper=mapper, na_dict=nas)\n",
    "    \n",
    "    df_test, _, nas, mapper = proc_df(sub_full_data, 'totals.transactionRevenue', do_scale=True, \n",
    "                                  mapper=mapper_fold, na_dict=nas)\n",
    "    \n",
    "    df, y_user, nas, mapper_fold = proc_df(trn_x, 'totals.transactionRevenue', do_scale=True, mapper=mapper, na_dict=nas)\n",
    "    \n",
    "    \n",
    "    #df_test.drop(['device.isMobile_na', 't_mean_na', 't_median_na', 'totals.hits_na', 'visitNumber_na'], axis=1, inplace=True)\n",
    " \n",
    "    yl_user = np.log1p(y_user)\n",
    "    \n",
    "    max_y_user = np.max(yl_user)\n",
    "\n",
    "    y_range_user = (0, max_y_user*1.2)\n",
    "    \n",
    "    md = ColumnarModelData.from_data_frame(PATH, val_idx, df, yl_user, cat_flds=cat_cols, bs=512, test_df=df_test)\n",
    "    m = md.get_learner(emb_sz_user, len(df.columns)-len(cat_cols),\n",
    "                   0.04, 1, [1000,500], [0.001, 0.01], y_range=y_range_user)\n",
    "    \n",
    "    m.fit(1e-4, 4, cycle_len = 1, cycle_mult = 1, metrics=[exp_rmse])\n",
    "    \n",
    "    log_preds_train = m.predict_dl(m.data.trn_dl)\n",
    "    log_preds_val = m.predict_dl(m.data.val_dl)\n",
    "    log_preds_train[log_preds_train < 0] = 0\n",
    "    log_preds_val[log_preds_val < 0] = 0\n",
    "    result_train_user[trn_] = np.expm1(log_preds_train).reshape(-1)\n",
    "    result_train_user[val_] = np.expm1(log_preds_val).reshape(-1)\n",
    "        \n",
    "    log_preds_test = m.predict(True)\n",
    "    log_preds_test[log_preds_test < 0] = 0\n",
    "    result_test_user += (np.expm1(log_preds_test) / folds.n_splits).reshape(-1)\n",
    "    \n",
    "    del(df)\n",
    "    del(df_test)\n",
    "    gc.collect()"
   ]
  },
  {
   "cell_type": "code",
   "execution_count": null,
   "metadata": {},
   "outputs": [],
   "source": [
    "len(df.columns), len(df_test.columns), set(df_test.columns).difference(set(df.columns))"
   ]
  },
  {
   "cell_type": "markdown",
   "metadata": {},
   "source": [
    "## Learning Rate finder"
   ]
  },
  {
   "cell_type": "markdown",
   "metadata": {},
   "source": [
    "# Create Submission "
   ]
  },
  {
   "cell_type": "code",
   "execution_count": null,
   "metadata": {},
   "outputs": [],
   "source": [
    "result_train_user.mean(), result_test_user.mean(), y_user.mean(), y.mean()"
   ]
  },
  {
   "cell_type": "code",
   "execution_count": null,
   "metadata": {
    "scrolled": true
   },
   "outputs": [],
   "source": [
    "submission = sub_full_data.copy()"
   ]
  },
  {
   "cell_type": "code",
   "execution_count": null,
   "metadata": {
    "scrolled": true
   },
   "outputs": [],
   "source": [
    "submission['PredictedLogRevenue'] = result_test_user"
   ]
  },
  {
   "cell_type": "code",
   "execution_count": null,
   "metadata": {
    "scrolled": true
   },
   "outputs": [],
   "source": [
    "csv_fn=f'{PATH}submission.csv'\n",
    "\n",
    "submission_grouped[['fullVisitorId','PredictedLogRevenue']].to_csv(csv_fn, index=False)\n",
    "\n",
    "submission_grouped"
   ]
  }
 ],
 "metadata": {
  "kernelspec": {
   "display_name": "Python 3",
   "language": "python",
   "name": "python3"
  },
  "language_info": {
   "codemirror_mode": {
    "name": "ipython",
    "version": 3
   },
   "file_extension": ".py",
   "mimetype": "text/x-python",
   "name": "python",
   "nbconvert_exporter": "python",
   "pygments_lexer": "ipython3",
   "version": "3.6.6"
  }
 },
 "nbformat": 4,
 "nbformat_minor": 1
}
