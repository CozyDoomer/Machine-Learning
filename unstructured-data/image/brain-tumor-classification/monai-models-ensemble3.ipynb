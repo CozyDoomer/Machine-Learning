{
 "cells": [
  {
   "cell_type": "markdown",
   "metadata": {},
   "source": [
    "## Use stacked images (3D) and Densenet121 3D model\n",
    "\n",
    "Acknowledgements:\n",
    "\n",
    "- https://www.kaggle.com/rluethy/efficientnet3d-with-one-mri-type\n",
    "- https://www.kaggle.com/davidbroberts/determining-dicom-image-order\n",
    "- https://www.kaggle.com/ihelon/brain-tumor-eda-with-animations-and-modeling\n",
    "- https://www.kaggle.com/furcifer/torch-efficientnet3d-for-mri-no-train\n",
    "- https://github.com/shijianjian/EfficientNet-PyTorch-3D\n",
    "\n",
    "This notebook is based on the implementation of Densenet121 3D available here:\n",
    "https://www.kaggle.com/mikecho/monai-v060-deep-learning-in-healthcare-imaging\n",
    "\n",
    "It builds 4 models with only one MRI type, then ensembles all of them computing average probabilities\n"
   ]
  },
  {
   "cell_type": "code",
   "execution_count": 1,
   "metadata": {},
   "outputs": [
    {
     "name": "stdout",
     "output_type": "stream",
     "text": [
      "Requirement already satisfied: torchio in /home/christian/miniconda/envs/pytorch/lib/python3.8/site-packages (0.18.56)\n",
      "Requirement already satisfied: SimpleITK!=2.0.* in /home/christian/miniconda/envs/pytorch/lib/python3.8/site-packages (from torchio) (2.1.1)\n",
      "Requirement already satisfied: Deprecated in /home/christian/miniconda/envs/pytorch/lib/python3.8/site-packages (from torchio) (1.2.13)\n",
      "Requirement already satisfied: click in /home/christian/miniconda/envs/pytorch/lib/python3.8/site-packages (from torchio) (8.0.1)\n",
      "Requirement already satisfied: nibabel in /home/christian/miniconda/envs/pytorch/lib/python3.8/site-packages (from torchio) (3.2.1)\n",
      "Requirement already satisfied: humanize in /home/christian/miniconda/envs/pytorch/lib/python3.8/site-packages (from torchio) (3.11.0)\n",
      "Requirement already satisfied: scipy in /home/christian/miniconda/envs/pytorch/lib/python3.8/site-packages (from torchio) (1.7.1)\n",
      "Requirement already satisfied: torch>=1.1 in /home/christian/miniconda/envs/pytorch/lib/python3.8/site-packages (from torchio) (1.10.0.dev20210914)\n",
      "Requirement already satisfied: numpy>=1.15 in /home/christian/miniconda/envs/pytorch/lib/python3.8/site-packages (from torchio) (1.21.2)\n",
      "Requirement already satisfied: tqdm in /home/christian/miniconda/envs/pytorch/lib/python3.8/site-packages (from torchio) (4.62.2)\n",
      "Requirement already satisfied: typing_extensions in /home/christian/miniconda/envs/pytorch/lib/python3.8/site-packages (from torch>=1.1->torchio) (3.10.0.2)\n",
      "Requirement already satisfied: wrapt<2,>=1.10 in /home/christian/miniconda/envs/pytorch/lib/python3.8/site-packages (from Deprecated->torchio) (1.12.1)\n",
      "Requirement already satisfied: setuptools in /home/christian/miniconda/envs/pytorch/lib/python3.8/site-packages (from humanize->torchio) (52.0.0.post20210125)\n",
      "Requirement already satisfied: packaging>=14.3 in /home/christian/miniconda/envs/pytorch/lib/python3.8/site-packages (from nibabel->torchio) (21.0)\n",
      "Requirement already satisfied: pyparsing>=2.0.2 in /home/christian/miniconda/envs/pytorch/lib/python3.8/site-packages (from packaging>=14.3->nibabel->torchio) (2.4.7)\n"
     ]
    }
   ],
   "source": [
    "!pip install torchio"
   ]
  },
  {
   "cell_type": "code",
   "execution_count": 2,
   "metadata": {
    "execution": {
     "iopub.execute_input": "2021-09-09T16:39:28.897999Z",
     "iopub.status.busy": "2021-09-09T16:39:28.897707Z",
     "iopub.status.idle": "2021-09-09T16:39:31.381066Z",
     "shell.execute_reply": "2021-09-09T16:39:31.380198Z",
     "shell.execute_reply.started": "2021-09-09T16:39:28.897933Z"
    },
    "papermill": {
     "duration": 1.048295,
     "end_time": "2021-07-14T20:26:46.309722",
     "exception": false,
     "start_time": "2021-07-14T20:26:45.261427",
     "status": "completed"
    },
    "tags": []
   },
   "outputs": [],
   "source": [
    "import os\n",
    "import sys \n",
    "import json\n",
    "import glob\n",
    "import random\n",
    "import re\n",
    "import collections\n",
    "import time\n",
    "\n",
    "import numpy as np\n",
    "import pandas as pd\n",
    "import pydicom\n",
    "import cv2\n",
    "import matplotlib.pyplot as plt\n",
    "import seaborn as sns\n",
    "\n",
    "import torch\n",
    "from torch import nn\n",
    "from torch.utils import data as torch_data\n",
    "from sklearn import model_selection as sk_model_selection\n",
    "from torch.nn import functional as torch_functional\n",
    "\n",
    "import torchio as tio\n",
    "\n",
    "from sklearn.model_selection import StratifiedKFold\n",
    "from sklearn.metrics import roc_auc_score"
   ]
  },
  {
   "cell_type": "code",
   "execution_count": 3,
   "metadata": {},
   "outputs": [],
   "source": [
    "if os.path.exists(\"/kaggle/input/rsna-miccai-brain-tumor-radiogenomic-classification\"):\n",
    "    data_directory = \"/kaggle/input/rsna-miccai-brain-tumor-radiogenomic-classification\"\n",
    "    input_monaipath = \"/kaggle/input/monai-v060-deep-learning-in-healthcare-imaging/\"\n",
    "    landmarks_directory = \"/kaggle/input/rsna-landmarks\"\n",
    "else:\n",
    "    data_directory = \"rsna-miccai-brain-tumor-radiogenomic-classification\"\n",
    "    input_monaipath = \"monai-v060-deep-learning-in-healthcare-imaging\"\n",
    "    landmarks_directory = \"rsna-landmarks\""
   ]
  },
  {
   "cell_type": "code",
   "execution_count": 4,
   "metadata": {
    "execution": {
     "iopub.execute_input": "2021-09-09T16:39:35.258348Z",
     "iopub.status.busy": "2021-09-09T16:39:35.256703Z",
     "iopub.status.idle": "2021-09-09T16:39:37.741004Z",
     "shell.execute_reply": "2021-09-09T16:39:37.740092Z",
     "shell.execute_reply.started": "2021-09-09T16:39:35.258304Z"
    },
    "lines_to_end_of_cell_marker": 2,
    "lines_to_next_cell": 2,
    "papermill": {
     "duration": 0.05565,
     "end_time": "2021-07-14T20:26:46.486521",
     "exception": false,
     "start_time": "2021-07-14T20:26:46.430871",
     "status": "completed"
    },
    "tags": []
   },
   "outputs": [],
   "source": [
    "mri_types = ['FLAIR', 'T1w', 'T1wCE', 'T2w']\n",
    "SIZE = 256\n",
    "NUM_IMAGES = 64\n",
    "BATCH_SIZE = 2\n",
    "N_EPOCHS = 5\n",
    "SEED = 42\n",
    "MIN_LR = 1e-4\n",
    "LR = 0.002\n",
    "LR_DECAY = 0.9\n",
    "\n",
    "sys.path.append(input_monaipath)\n",
    "\n",
    "from monai.networks.nets.densenet import DenseNet121"
   ]
  },
  {
   "cell_type": "markdown",
   "metadata": {},
   "source": [
    "## Functions to load images"
   ]
  },
  {
   "cell_type": "code",
   "execution_count": 5,
   "metadata": {
    "execution": {
     "iopub.execute_input": "2021-09-09T16:39:37.74273Z",
     "iopub.status.busy": "2021-09-09T16:39:37.742391Z",
     "iopub.status.idle": "2021-09-09T16:39:38.474379Z",
     "shell.execute_reply": "2021-09-09T16:39:38.47359Z",
     "shell.execute_reply.started": "2021-09-09T16:39:37.742695Z"
    },
    "papermill": {
     "duration": 0.035761,
     "end_time": "2021-07-14T20:26:46.726756",
     "exception": false,
     "start_time": "2021-07-14T20:26:46.690995",
     "status": "completed"
    },
    "tags": []
   },
   "outputs": [
    {
     "data": {
      "text/plain": [
       "(1, 256, 256, 64)"
      ]
     },
     "execution_count": 5,
     "metadata": {},
     "output_type": "execute_result"
    }
   ],
   "source": [
    "def load_dicom_image(path, img_size=SIZE):\n",
    "    dicom = pydicom.read_file(path)\n",
    "    data = dicom.pixel_array\n",
    "    if np.min(data)==np.max(data):\n",
    "        data = np.zeros((img_size,img_size))\n",
    "        return data\n",
    "    \n",
    "    data = cv2.resize(data, (img_size, img_size))\n",
    "    return data\n",
    "\n",
    "\n",
    "def natural_sort(l): \n",
    "    convert = lambda text: int(text) if text.isdigit() else text.lower()\n",
    "    alphanum_key = lambda key: [convert(c) for c in re.split('([0-9]+)', key)]\n",
    "    return sorted(l, key=alphanum_key)\n",
    "\n",
    "\n",
    "def load_dicom_images_3d(scan_id, num_imgs=NUM_IMAGES, img_size=SIZE, mri_type=\"FLAIR\", split=\"train\"):\n",
    "    files = natural_sort(glob.glob(f\"{data_directory}/{split}/{scan_id}/{mri_type}/*.dcm\"))\n",
    "    \n",
    "    every_nth = len(files) / num_imgs\n",
    "    indexes = [min(int(round(i*every_nth)), len(files)-1) for i in range(0,num_imgs)]\n",
    "    \n",
    "    files_to_load = [files[i] for i in indexes]\n",
    "    \n",
    "    img3d = np.stack([load_dicom_image(f) for f in files_to_load]).T \n",
    "    \n",
    "    img3d = img3d - np.min(img3d)\n",
    "    if np.max(img3d) != 0:\n",
    "        img3d = img3d / np.max(img3d)\n",
    "    \n",
    "    return np.expand_dims(img3d,0)\n",
    "\n",
    "\n",
    "load_dicom_images_3d(\"00000\", mri_type=mri_types[0]).shape"
   ]
  },
  {
   "cell_type": "code",
   "execution_count": 6,
   "metadata": {
    "execution": {
     "iopub.execute_input": "2021-09-09T16:39:38.477343Z",
     "iopub.status.busy": "2021-09-09T16:39:38.477088Z",
     "iopub.status.idle": "2021-09-09T16:39:38.539718Z",
     "shell.execute_reply": "2021-09-09T16:39:38.538874Z",
     "shell.execute_reply.started": "2021-09-09T16:39:38.477318Z"
    },
    "papermill": {
     "duration": 0.668331,
     "end_time": "2021-07-14T20:27:48.114522",
     "exception": false,
     "start_time": "2021-07-14T20:27:47.446191",
     "status": "completed"
    },
    "tags": []
   },
   "outputs": [],
   "source": [
    "def set_seed(seed):\n",
    "    random.seed(seed)\n",
    "    os.environ[\"PYTHONHASHSEED\"] = str(seed)\n",
    "    np.random.seed(seed)\n",
    "    torch.manual_seed(seed)\n",
    "    if torch.cuda.is_available():\n",
    "        torch.cuda.manual_seed_all(seed)\n",
    "        torch.backends.cudnn.deterministic = True\n",
    "\n",
    "set_seed(SEED)"
   ]
  },
  {
   "cell_type": "markdown",
   "metadata": {},
   "source": [
    "## train / test splits"
   ]
  },
  {
   "cell_type": "code",
   "execution_count": 7,
   "metadata": {
    "execution": {
     "iopub.execute_input": "2021-09-09T16:39:38.542555Z",
     "iopub.status.busy": "2021-09-09T16:39:38.54223Z",
     "iopub.status.idle": "2021-09-09T16:39:38.581634Z",
     "shell.execute_reply": "2021-09-09T16:39:38.580917Z",
     "shell.execute_reply.started": "2021-09-09T16:39:38.542521Z"
    },
    "papermill": {
     "duration": 0.633753,
     "end_time": "2021-07-14T20:27:49.350524",
     "exception": false,
     "start_time": "2021-07-14T20:27:48.716771",
     "status": "completed"
    },
    "tags": []
   },
   "outputs": [
    {
     "name": "stdout",
     "output_type": "stream",
     "text": [
      "original shape (585, 2)\n",
      "new shape (582, 2)\n"
     ]
    },
    {
     "data": {
      "text/html": [
       "<div>\n",
       "<style scoped>\n",
       "    .dataframe tbody tr th:only-of-type {\n",
       "        vertical-align: middle;\n",
       "    }\n",
       "\n",
       "    .dataframe tbody tr th {\n",
       "        vertical-align: top;\n",
       "    }\n",
       "\n",
       "    .dataframe thead th {\n",
       "        text-align: right;\n",
       "    }\n",
       "</style>\n",
       "<table border=\"1\" class=\"dataframe\">\n",
       "  <thead>\n",
       "    <tr style=\"text-align: right;\">\n",
       "      <th></th>\n",
       "      <th>BraTS21ID</th>\n",
       "      <th>MGMT_value</th>\n",
       "    </tr>\n",
       "  </thead>\n",
       "  <tbody>\n",
       "    <tr>\n",
       "      <th>0</th>\n",
       "      <td>0</td>\n",
       "      <td>1</td>\n",
       "    </tr>\n",
       "    <tr>\n",
       "      <th>1</th>\n",
       "      <td>2</td>\n",
       "      <td>1</td>\n",
       "    </tr>\n",
       "    <tr>\n",
       "      <th>2</th>\n",
       "      <td>3</td>\n",
       "      <td>0</td>\n",
       "    </tr>\n",
       "    <tr>\n",
       "      <th>3</th>\n",
       "      <td>5</td>\n",
       "      <td>1</td>\n",
       "    </tr>\n",
       "    <tr>\n",
       "      <th>4</th>\n",
       "      <td>6</td>\n",
       "      <td>1</td>\n",
       "    </tr>\n",
       "    <tr>\n",
       "      <th>...</th>\n",
       "      <td>...</td>\n",
       "      <td>...</td>\n",
       "    </tr>\n",
       "    <tr>\n",
       "      <th>580</th>\n",
       "      <td>1005</td>\n",
       "      <td>1</td>\n",
       "    </tr>\n",
       "    <tr>\n",
       "      <th>581</th>\n",
       "      <td>1007</td>\n",
       "      <td>1</td>\n",
       "    </tr>\n",
       "    <tr>\n",
       "      <th>582</th>\n",
       "      <td>1008</td>\n",
       "      <td>1</td>\n",
       "    </tr>\n",
       "    <tr>\n",
       "      <th>583</th>\n",
       "      <td>1009</td>\n",
       "      <td>0</td>\n",
       "    </tr>\n",
       "    <tr>\n",
       "      <th>584</th>\n",
       "      <td>1010</td>\n",
       "      <td>0</td>\n",
       "    </tr>\n",
       "  </tbody>\n",
       "</table>\n",
       "<p>582 rows × 2 columns</p>\n",
       "</div>"
      ],
      "text/plain": [
       "     BraTS21ID  MGMT_value\n",
       "0            0           1\n",
       "1            2           1\n",
       "2            3           0\n",
       "3            5           1\n",
       "4            6           1\n",
       "..         ...         ...\n",
       "580       1005           1\n",
       "581       1007           1\n",
       "582       1008           1\n",
       "583       1009           0\n",
       "584       1010           0\n",
       "\n",
       "[582 rows x 2 columns]"
      ]
     },
     "metadata": {},
     "output_type": "display_data"
    }
   ],
   "source": [
    "samples_to_exclude = [109, 123, 709]\n",
    "\n",
    "train_df = pd.read_csv(f\"{data_directory}/train_labels.csv\")\n",
    "print(\"original shape\", train_df.shape)\n",
    "train_df = train_df[~train_df.BraTS21ID.isin(samples_to_exclude)]\n",
    "print(\"new shape\", train_df.shape)\n",
    "display(train_df)\n",
    "\n",
    "df_train, df_valid = sk_model_selection.train_test_split(\n",
    "    train_df, \n",
    "    test_size=0.2, \n",
    "    random_state=SEED, \n",
    "    stratify=train_df[\"MGMT_value\"],\n",
    ")\n"
   ]
  },
  {
   "cell_type": "code",
   "execution_count": 8,
   "metadata": {
    "execution": {
     "iopub.execute_input": "2021-09-09T16:39:38.584663Z",
     "iopub.status.busy": "2021-09-09T16:39:38.584401Z",
     "iopub.status.idle": "2021-09-09T16:39:38.595306Z",
     "shell.execute_reply": "2021-09-09T16:39:38.59435Z",
     "shell.execute_reply.started": "2021-09-09T16:39:38.584638Z"
    }
   },
   "outputs": [
    {
     "data": {
      "text/html": [
       "<div>\n",
       "<style scoped>\n",
       "    .dataframe tbody tr th:only-of-type {\n",
       "        vertical-align: middle;\n",
       "    }\n",
       "\n",
       "    .dataframe tbody tr th {\n",
       "        vertical-align: top;\n",
       "    }\n",
       "\n",
       "    .dataframe thead th {\n",
       "        text-align: right;\n",
       "    }\n",
       "</style>\n",
       "<table border=\"1\" class=\"dataframe\">\n",
       "  <thead>\n",
       "    <tr style=\"text-align: right;\">\n",
       "      <th></th>\n",
       "      <th>BraTS21ID</th>\n",
       "      <th>MGMT_value</th>\n",
       "    </tr>\n",
       "  </thead>\n",
       "  <tbody>\n",
       "    <tr>\n",
       "      <th>549</th>\n",
       "      <td>803</td>\n",
       "      <td>0</td>\n",
       "    </tr>\n",
       "    <tr>\n",
       "      <th>366</th>\n",
       "      <td>540</td>\n",
       "      <td>0</td>\n",
       "    </tr>\n",
       "    <tr>\n",
       "      <th>504</th>\n",
       "      <td>735</td>\n",
       "      <td>0</td>\n",
       "    </tr>\n",
       "    <tr>\n",
       "      <th>305</th>\n",
       "      <td>444</td>\n",
       "      <td>0</td>\n",
       "    </tr>\n",
       "    <tr>\n",
       "      <th>526</th>\n",
       "      <td>773</td>\n",
       "      <td>1</td>\n",
       "    </tr>\n",
       "  </tbody>\n",
       "</table>\n",
       "</div>"
      ],
      "text/plain": [
       "     BraTS21ID  MGMT_value\n",
       "549        803           0\n",
       "366        540           0\n",
       "504        735           0\n",
       "305        444           0\n",
       "526        773           1"
      ]
     },
     "execution_count": 8,
     "metadata": {},
     "output_type": "execute_result"
    }
   ],
   "source": [
    "df_train.tail()"
   ]
  },
  {
   "cell_type": "markdown",
   "metadata": {},
   "source": [
    "## Model and training classes"
   ]
  },
  {
   "cell_type": "code",
   "execution_count": 9,
   "metadata": {
    "execution": {
     "iopub.execute_input": "2021-09-09T16:39:38.597336Z",
     "iopub.status.busy": "2021-09-09T16:39:38.596904Z",
     "iopub.status.idle": "2021-09-09T16:39:38.608287Z",
     "shell.execute_reply": "2021-09-09T16:39:38.607285Z",
     "shell.execute_reply.started": "2021-09-09T16:39:38.597297Z"
    },
    "papermill": {
     "duration": 0.634322,
     "end_time": "2021-07-14T20:27:50.594701",
     "exception": false,
     "start_time": "2021-07-14T20:27:49.960379",
     "status": "completed"
    },
    "tags": []
   },
   "outputs": [],
   "source": [
    "class Dataset(torch_data.Dataset):\n",
    "    def __init__(self, paths, targets=None, mri_type=None, landmarks_dict=None, split=\"train\"):\n",
    "        self.paths = paths\n",
    "        self.targets = targets\n",
    "        self.mri_type = mri_type\n",
    "        self.landmarks_dict = landmarks_dict\n",
    "        self.split = split\n",
    "          \n",
    "    def __len__(self):\n",
    "        return len(self.paths)\n",
    "\n",
    "    def __getitem__(self, index):\n",
    "        scan_id = self.paths[index]\n",
    "        if self.targets is None:\n",
    "            data = load_dicom_images_3d(str(scan_id).zfill(5), mri_type=self.mri_type[index], split=self.split)\n",
    "            augs = [\n",
    "                tio.HistogramStandardization(self.landmarks_dict)\n",
    "            ]\n",
    "            transforms = tio.Compose(augs)\n",
    "            data = transforms(data) \n",
    "        else:\n",
    "            data = load_dicom_images_3d(str(scan_id).zfill(5), mri_type=self.mri_type[index], split=\"train\")\n",
    "            #get_foreground = tio.ZNormalization.mean\n",
    "            augs = [\n",
    "                tio.RandomAnisotropy(p=0.25),              # make images look anisotropic 25% of times\n",
    "                tio.HistogramStandardization(self.landmarks_dict),\n",
    "                # TODO: crop only sometimes! this happens all the time which is risky\n",
    "                # tio.CropOrPad((256, 256, 64)),            # tight crop around brain\n",
    "                # TODO: calculate landmarks:\n",
    "                # https://colab.research.google.com/github/fepegar/torchio-notebooks/blob/main/notebooks/Data_preprocessing_and_augmentation_using_TorchIO_a_tutorial.ipynb#scrollTo=85COw2H63PfH\n",
    "                # too strong? (removes part of the scan!)\n",
    "                # tio.ZNormalization(\n",
    "                #     masking_method=get_foreground),        # zero mean, unit variance of foreground\n",
    "                #   works!\n",
    "                tio.RandomBlur(p=0.25),                    # blur 25% of times\n",
    "                tio.RandomNoise(p=0.25),                   # Gaussian noise 25% of times\n",
    "                tio.OneOf({                                # either\n",
    "                    tio.RandomAffine(): 0.8,               # random affine\n",
    "                    tio.RandomElasticDeformation(): 0.2,   # or random elastic deformation\n",
    "                }, p=0.8),                                 # applied to 80% of images\n",
    "                tio.RandomBiasField(p=0.3),                # magnetic field inhomogeneity 30% of times\n",
    "                tio.OneOf({                                # either\n",
    "                    tio.RandomMotion(): 1,                 # random motion artifact\n",
    "                    tio.RandomSpike(): 2,                  # or spikes\n",
    "                    tio.RandomGhosting(): 2,               # or ghosts\n",
    "                }, p=0.5),                                 # applied to 50% of images\n",
    "            ]\n",
    "            transforms = tio.Compose(augs)\n",
    "            data = transforms(data)\n",
    "\n",
    "            # import matplotlib.pyplot as plt\n",
    "            # fig, axs = plt.subplots(2)\n",
    "            # axs[0].imshow(data[0, :, :, 32], vmin=0, vmax=1)\n",
    "            # print(data.shape)\n",
    "            # data = transforms(data)\n",
    "            # print(data.shape)\n",
    "            # axs[1].imshow(data[0, :, :, 32], vmin=0, vmax=1)\n",
    "            # plt.show()\n",
    "            # print(\"============\")\n",
    "            \n",
    "        if self.targets is None:\n",
    "            return {\"X\": data, \"id\": scan_id}\n",
    "        else:\n",
    "            return {\"X\": data, \"y\": torch.tensor(self.targets[index], dtype=torch.float)}\n"
   ]
  },
  {
   "cell_type": "code",
   "execution_count": 10,
   "metadata": {
    "execution": {
     "iopub.execute_input": "2021-09-09T16:39:38.610499Z",
     "iopub.status.busy": "2021-09-09T16:39:38.610156Z",
     "iopub.status.idle": "2021-09-09T16:39:38.618176Z",
     "shell.execute_reply": "2021-09-09T16:39:38.617273Z",
     "shell.execute_reply.started": "2021-09-09T16:39:38.610472Z"
    }
   },
   "outputs": [],
   "source": [
    "def build_model():\n",
    "    model = DenseNet121(spatial_dims=3, in_channels=1, out_channels=1)\n",
    "    return model    "
   ]
  },
  {
   "cell_type": "code",
   "execution_count": 11,
   "metadata": {
    "execution": {
     "iopub.execute_input": "2021-09-09T16:39:38.62031Z",
     "iopub.status.busy": "2021-09-09T16:39:38.619784Z",
     "iopub.status.idle": "2021-09-09T16:39:38.647541Z",
     "shell.execute_reply": "2021-09-09T16:39:38.646658Z",
     "shell.execute_reply.started": "2021-09-09T16:39:38.620272Z"
    },
    "papermill": {
     "duration": 0.637077,
     "end_time": "2021-07-14T20:27:58.09407",
     "exception": false,
     "start_time": "2021-07-14T20:27:57.456993",
     "status": "completed"
    },
    "tags": []
   },
   "outputs": [],
   "source": [
    "class Trainer:\n",
    "    def __init__(\n",
    "        self, \n",
    "        model, \n",
    "        device, \n",
    "        optimizer, \n",
    "        criterion\n",
    "    ):\n",
    "        self.model = model\n",
    "        self.device = device\n",
    "        self.optimizer = optimizer\n",
    "        self.lr_scheduler = torch.optim.lr_scheduler.CyclicLR(optimizer, base_lr=MIN_LR, max_lr=LR, cycle_momentum=False)\n",
    "        # self.lr_scheduler = torch.optim.lr_scheduler.ExponentialLR(self.optimizer, gamma=LR_DECAY)\n",
    "        self.criterion = criterion\n",
    "\n",
    "        self.best_valid_score = .0\n",
    "        self.n_patience = 0\n",
    "        self.lastmodel = None\n",
    "        \n",
    "        self.val_losses = []\n",
    "        self.train_losses = []\n",
    "        self.val_auc = []\n",
    "        \n",
    "    def fit(self, epochs, train_loader, valid_loader, save_path, patience):      \n",
    "        for n_epoch in range(1, epochs + 1):\n",
    "            self.info_message(\"EPOCH: {}\", n_epoch)\n",
    "            \n",
    "            train_loss, train_time = self.train_epoch(train_loader)\n",
    "            valid_loss, valid_auc, valid_time = self.valid_epoch(valid_loader)\n",
    "            \n",
    "            self.train_losses.append(train_loss)\n",
    "            self.val_losses.append(valid_loss)\n",
    "            self.val_auc.append(valid_auc)\n",
    "            \n",
    "            self.info_message(\n",
    "                \"[Epoch Train: {}] loss: {:.4f}, time: {:.2f} s\",\n",
    "                n_epoch, train_loss, train_time\n",
    "            )\n",
    "            \n",
    "            self.info_message(\n",
    "                \"[Epoch Valid: {}] loss: {:.4f}, auc: {:.4f}, time: {:.2f} s\",\n",
    "                n_epoch, valid_loss, valid_auc, valid_time\n",
    "            )\n",
    "\n",
    "            if self.best_valid_score < valid_auc: \n",
    "                self.save_model(n_epoch, save_path, valid_loss, valid_auc)\n",
    "                self.info_message(\n",
    "                     \"auc improved from {:.4f} to {:.4f}. Saved model to '{}'\", \n",
    "                    self.best_valid_score, valid_auc, self.lastmodel\n",
    "                )\n",
    "                self.best_valid_score = valid_auc\n",
    "                self.n_patience = 0\n",
    "            else:\n",
    "                self.n_patience += 1\n",
    "            \n",
    "            if self.n_patience >= patience:\n",
    "                self.info_message(\"\\nValid auc didn't improve last {} epochs.\", patience)\n",
    "                break\n",
    "            \n",
    "    def train_epoch(self, train_loader):\n",
    "        self.model.train()\n",
    "        t = time.time()\n",
    "        sum_loss = 0\n",
    "\n",
    "        for step, batch in enumerate(train_loader, 1):\n",
    "            X = batch[\"X\"].clone().detach().float().to(self.device)\n",
    "            targets = batch[\"y\"].to(self.device)\n",
    "            self.optimizer.zero_grad()\n",
    "            outputs = self.model(X).squeeze(1)\n",
    "            loss = self.criterion(outputs, targets)\n",
    "                \n",
    "            loss.backward()\n",
    "\n",
    "            sum_loss += loss.detach().item()\n",
    "            \n",
    "            self.optimizer.step()\n",
    "            # for param_group in self.optimizer.param_groups:\n",
    "            #     print(param_group['lr'])\n",
    "            \n",
    "            message = 'Train Step {}/{}, train_loss: {:.4f}'\n",
    "            self.info_message(message, step, len(train_loader), sum_loss/step, end=\"\\r\")\n",
    "            \n",
    "        self.lr_scheduler.step()\n",
    "        \n",
    "        return sum_loss/len(train_loader), int(time.time() - t)\n",
    "    \n",
    "    def valid_epoch(self, valid_loader):\n",
    "        self.model.eval()\n",
    "        t = time.time()\n",
    "        sum_loss = 0\n",
    "        y_all = []\n",
    "        outputs_all = []\n",
    "\n",
    "        for step, batch in enumerate(valid_loader, 1):\n",
    "            with torch.no_grad():\n",
    "                targets = batch[\"y\"].to(self.device)\n",
    "\n",
    "                output = torch.sigmoid(self.model(batch[\"X\"].clone().detach().float().to(self.device)).squeeze(1))\n",
    "                loss = self.criterion(output, targets)\n",
    "                sum_loss += loss.detach().item()\n",
    "\n",
    "                y_all.extend(batch[\"y\"].tolist())\n",
    "                outputs_all.extend(output.tolist())\n",
    "\n",
    "            message = 'Valid Step {}/{}, valid_loss: {:.4f}'\n",
    "            self.info_message(message, step, len(valid_loader), sum_loss/step, end=\"\\r\")\n",
    "            \n",
    "        y_all = [1 if x > 0.5 else 0 for x in y_all]\n",
    "        auc = roc_auc_score(y_all, outputs_all)\n",
    "        \n",
    "        return sum_loss/len(valid_loader), auc, int(time.time() - t)\n",
    "    \n",
    "    def save_model(self, n_epoch, save_path, loss, auc):\n",
    "        self.lastmodel = f\"{save_path}-e{n_epoch}-loss{loss:.3f}-auc{auc:.3f}.pth\"\n",
    "        torch.save(\n",
    "            {\n",
    "                \"model_state_dict\": self.model.state_dict(),\n",
    "                \"optimizer_state_dict\": self.optimizer.state_dict(),\n",
    "                \"best_valid_score\": self.best_valid_score,\n",
    "                \"n_epoch\": n_epoch,\n",
    "            },\n",
    "            self.lastmodel,\n",
    "        )\n",
    "        \n",
    "    def display_plots(self, mri_type):\n",
    "        plt.figure(figsize=(10,5))\n",
    "        plt.title(\"{}: Training and Validation Loss\")\n",
    "        plt.plot(self.val_losses,label=\"val\")\n",
    "        plt.plot(self.train_losses,label=\"train\")\n",
    "        plt.xlabel(\"iterations\")\n",
    "        plt.ylabel(\"Loss\")\n",
    "        plt.legend()\n",
    "        plt.show()\n",
    "        plt.close()\n",
    "        \n",
    "        plt.figure(figsize=(10,5))\n",
    "        plt.title(\"{}: Validation AUC-ROC\")\n",
    "        plt.plot(self.val_auc,label=\"val\")\n",
    "        plt.xlabel(\"iterations\")\n",
    "        plt.ylabel(\"AUC\")\n",
    "        plt.legend()\n",
    "        plt.show()\n",
    "        plt.close()\n",
    "    \n",
    "    @staticmethod\n",
    "    def info_message(message, *args, end=\"\\n\"):\n",
    "        print(message.format(*args), end=end)"
   ]
  },
  {
   "cell_type": "markdown",
   "metadata": {},
   "source": [
    "## train models"
   ]
  },
  {
   "cell_type": "code",
   "execution_count": 12,
   "metadata": {
    "execution": {
     "iopub.execute_input": "2021-09-09T16:39:38.649382Z",
     "iopub.status.busy": "2021-09-09T16:39:38.648964Z",
     "iopub.status.idle": "2021-09-09T16:58:00.518805Z",
     "shell.execute_reply": "2021-09-09T16:58:00.517962Z",
     "shell.execute_reply.started": "2021-09-09T16:39:38.649343Z"
    },
    "lines_to_next_cell": 2,
    "papermill": {
     "duration": 447.387602,
     "end_time": "2021-07-14T20:35:26.110421",
     "exception": false,
     "start_time": "2021-07-14T20:27:58.722819",
     "status": "completed"
    },
    "tags": []
   },
   "outputs": [],
   "source": [
    "device = torch.device(\"cuda\" if torch.cuda.is_available() else \"cpu\")\n",
    "\n",
    "def train_mri_type(df_train, df_valid, mri_type):\n",
    "    if mri_type==\"all\":\n",
    "        train_list = []\n",
    "        valid_list = []\n",
    "        for mri_type in mri_types:\n",
    "            df_train.loc[:,\"MRI_Type\"] = mri_type\n",
    "            train_list.append(df_train.copy())\n",
    "            df_valid.loc[:,\"MRI_Type\"] = mri_type\n",
    "            valid_list.append(df_valid.copy())\n",
    "\n",
    "        df_train = pd.concat(train_list)\n",
    "        df_valid = pd.concat(valid_list)\n",
    "    else:\n",
    "        df_train.loc[:,\"MRI_Type\"] = mri_type\n",
    "        df_valid.loc[:,\"MRI_Type\"] = mri_type\n",
    "\n",
    "    print(df_train.shape, df_valid.shape)\n",
    "    display(df_train.head())\n",
    "    display(df_valid.head())\n",
    "\n",
    "    landmarks = torch.load(os.path.join(landmarks_directory, (f\"{mri_type}_landmarks.npy\")))\n",
    "    landmarks_dict = {\n",
    "        \"default_image_name\": landmarks,\n",
    "    }\n",
    "    \n",
    "    train_data_retriever = Dataset(\n",
    "        df_train[\"BraTS21ID\"].values, \n",
    "        df_train[\"MGMT_value\"].values, \n",
    "        df_train[\"MRI_Type\"].values,\n",
    "        landmarks_dict=landmarks_dict\n",
    "    )\n",
    "\n",
    "    valid_data_retriever = Dataset(\n",
    "        df_valid[\"BraTS21ID\"].values, \n",
    "        df_valid[\"MGMT_value\"].values,\n",
    "        df_valid[\"MRI_Type\"].values,\n",
    "        landmarks_dict=landmarks_dict\n",
    "    )\n",
    "\n",
    "    train_loader = torch_data.DataLoader(\n",
    "        train_data_retriever,\n",
    "        batch_size=BATCH_SIZE,\n",
    "        shuffle=True,\n",
    "        num_workers=8,\n",
    "    )\n",
    "\n",
    "    valid_loader = torch_data.DataLoader(\n",
    "        valid_data_retriever, \n",
    "        batch_size=BATCH_SIZE,\n",
    "        shuffle=False,\n",
    "        num_workers=8,\n",
    "    )\n",
    "\n",
    "    model = build_model()\n",
    "    model.to(device)\n",
    "\n",
    "    optimizer = torch.optim.Adam(model.parameters(), lr=LR)\n",
    "\n",
    "    criterion = torch_functional.binary_cross_entropy_with_logits\n",
    "\n",
    "    trainer = Trainer(\n",
    "        model, \n",
    "        device, \n",
    "        optimizer, \n",
    "        criterion\n",
    "    )\n",
    "\n",
    "    history = trainer.fit(\n",
    "        N_EPOCHS, \n",
    "        train_loader, \n",
    "        valid_loader, \n",
    "        f\"{mri_type}\", \n",
    "        N_EPOCHS,\n",
    "    )\n",
    "    \n",
    "    trainer.display_plots(mri_type)\n",
    "    \n",
    "    return trainer.lastmodel"
   ]
  },
  {
   "cell_type": "code",
   "execution_count": 13,
   "metadata": {
    "scrolled": false
   },
   "outputs": [
    {
     "name": "stdout",
     "output_type": "stream",
     "text": [
      "(465, 3) (117, 3)\n"
     ]
    },
    {
     "name": "stderr",
     "output_type": "stream",
     "text": [
      "/home/christian/miniconda/envs/pytorch/lib/python3.8/site-packages/pandas/core/indexing.py:1667: SettingWithCopyWarning: \n",
      "A value is trying to be set on a copy of a slice from a DataFrame.\n",
      "Try using .loc[row_indexer,col_indexer] = value instead\n",
      "\n",
      "See the caveats in the documentation: https://pandas.pydata.org/pandas-docs/stable/user_guide/indexing.html#returning-a-view-versus-a-copy\n",
      "  self.obj[key] = value\n"
     ]
    },
    {
     "data": {
      "text/html": [
       "<div>\n",
       "<style scoped>\n",
       "    .dataframe tbody tr th:only-of-type {\n",
       "        vertical-align: middle;\n",
       "    }\n",
       "\n",
       "    .dataframe tbody tr th {\n",
       "        vertical-align: top;\n",
       "    }\n",
       "\n",
       "    .dataframe thead th {\n",
       "        text-align: right;\n",
       "    }\n",
       "</style>\n",
       "<table border=\"1\" class=\"dataframe\">\n",
       "  <thead>\n",
       "    <tr style=\"text-align: right;\">\n",
       "      <th></th>\n",
       "      <th>BraTS21ID</th>\n",
       "      <th>MGMT_value</th>\n",
       "      <th>MRI_Type</th>\n",
       "    </tr>\n",
       "  </thead>\n",
       "  <tbody>\n",
       "    <tr>\n",
       "      <th>537</th>\n",
       "      <td>789</td>\n",
       "      <td>1</td>\n",
       "      <td>FLAIR</td>\n",
       "    </tr>\n",
       "    <tr>\n",
       "      <th>27</th>\n",
       "      <td>44</td>\n",
       "      <td>0</td>\n",
       "      <td>FLAIR</td>\n",
       "    </tr>\n",
       "    <tr>\n",
       "      <th>508</th>\n",
       "      <td>740</td>\n",
       "      <td>1</td>\n",
       "      <td>FLAIR</td>\n",
       "    </tr>\n",
       "    <tr>\n",
       "      <th>248</th>\n",
       "      <td>360</td>\n",
       "      <td>1</td>\n",
       "      <td>FLAIR</td>\n",
       "    </tr>\n",
       "    <tr>\n",
       "      <th>283</th>\n",
       "      <td>410</td>\n",
       "      <td>0</td>\n",
       "      <td>FLAIR</td>\n",
       "    </tr>\n",
       "  </tbody>\n",
       "</table>\n",
       "</div>"
      ],
      "text/plain": [
       "     BraTS21ID  MGMT_value MRI_Type\n",
       "537        789           1    FLAIR\n",
       "27          44           0    FLAIR\n",
       "508        740           1    FLAIR\n",
       "248        360           1    FLAIR\n",
       "283        410           0    FLAIR"
      ]
     },
     "metadata": {},
     "output_type": "display_data"
    },
    {
     "data": {
      "text/html": [
       "<div>\n",
       "<style scoped>\n",
       "    .dataframe tbody tr th:only-of-type {\n",
       "        vertical-align: middle;\n",
       "    }\n",
       "\n",
       "    .dataframe tbody tr th {\n",
       "        vertical-align: top;\n",
       "    }\n",
       "\n",
       "    .dataframe thead th {\n",
       "        text-align: right;\n",
       "    }\n",
       "</style>\n",
       "<table border=\"1\" class=\"dataframe\">\n",
       "  <thead>\n",
       "    <tr style=\"text-align: right;\">\n",
       "      <th></th>\n",
       "      <th>BraTS21ID</th>\n",
       "      <th>MGMT_value</th>\n",
       "      <th>MRI_Type</th>\n",
       "    </tr>\n",
       "  </thead>\n",
       "  <tbody>\n",
       "    <tr>\n",
       "      <th>289</th>\n",
       "      <td>418</td>\n",
       "      <td>0</td>\n",
       "      <td>FLAIR</td>\n",
       "    </tr>\n",
       "    <tr>\n",
       "      <th>568</th>\n",
       "      <td>836</td>\n",
       "      <td>0</td>\n",
       "      <td>FLAIR</td>\n",
       "    </tr>\n",
       "    <tr>\n",
       "      <th>484</th>\n",
       "      <td>705</td>\n",
       "      <td>1</td>\n",
       "      <td>FLAIR</td>\n",
       "    </tr>\n",
       "    <tr>\n",
       "      <th>50</th>\n",
       "      <td>78</td>\n",
       "      <td>1</td>\n",
       "      <td>FLAIR</td>\n",
       "    </tr>\n",
       "    <tr>\n",
       "      <th>40</th>\n",
       "      <td>62</td>\n",
       "      <td>1</td>\n",
       "      <td>FLAIR</td>\n",
       "    </tr>\n",
       "  </tbody>\n",
       "</table>\n",
       "</div>"
      ],
      "text/plain": [
       "     BraTS21ID  MGMT_value MRI_Type\n",
       "289        418           0    FLAIR\n",
       "568        836           0    FLAIR\n",
       "484        705           1    FLAIR\n",
       "50          78           1    FLAIR\n",
       "40          62           1    FLAIR"
      ]
     },
     "metadata": {},
     "output_type": "display_data"
    },
    {
     "name": "stdout",
     "output_type": "stream",
     "text": [
      "EPOCH: 1\n",
      "[Epoch Train: 1] loss: 0.7150, time: 265.00 s\n",
      "[Epoch Valid: 1] loss: 0.7126, auc: 0.3185, time: 65.00 s\n",
      "auc improved from 0.0000 to 0.3185. Saved model to 'FLAIR-e1-loss0.713-auc0.318.pth'\n",
      "EPOCH: 2\n",
      "[Epoch Train: 2] loss: 0.7090, time: 244.00 s\n",
      "[Epoch Valid: 2] loss: 0.7142, auc: 0.5965, time: 61.00 s\n",
      "auc improved from 0.3185 to 0.5965. Saved model to 'FLAIR-e2-loss0.714-auc0.596.pth'\n",
      "EPOCH: 3\n",
      "[Epoch Train: 3] loss: 0.6990, time: 256.00 s\n",
      "[Epoch Valid: 3] loss: 0.7230, auc: 0.4994, time: 67.00 s\n",
      "EPOCH: 4\n",
      "[Epoch Train: 4] loss: 0.7003, time: 255.00 s\n",
      "[Epoch Valid: 4] loss: 0.7210, auc: 0.4727, time: 61.00 s\n",
      "EPOCH: 5\n",
      "[Epoch Train: 5] loss: 0.6937, time: 255.00 s\n",
      "[Epoch Valid: 5] loss: 0.7121, auc: 0.5141, time: 61.00 s\n"
     ]
    },
    {
     "data": {
      "image/png": "[encoded data removed]",
      "text/plain": [
       "<Figure size 720x360 with 1 Axes>"
      ]
     },
     "metadata": {
      "needs_background": "light"
     },
     "output_type": "display_data"
    },
    {
     "data": {
      "image/png": "[encoded data removed]",
      "text/plain": [
       "<Figure size 720x360 with 1 Axes>"
      ]
     },
     "metadata": {
      "needs_background": "light"
     },
     "output_type": "display_data"
    },
    {
     "name": "stdout",
     "output_type": "stream",
     "text": [
      "(465, 3) (117, 3)\n"
     ]
    },
    {
     "name": "stderr",
     "output_type": "stream",
     "text": [
      "/home/christian/miniconda/envs/pytorch/lib/python3.8/site-packages/pandas/core/indexing.py:1817: SettingWithCopyWarning: \n",
      "A value is trying to be set on a copy of a slice from a DataFrame.\n",
      "Try using .loc[row_indexer,col_indexer] = value instead\n",
      "\n",
      "See the caveats in the documentation: https://pandas.pydata.org/pandas-docs/stable/user_guide/indexing.html#returning-a-view-versus-a-copy\n",
      "  self._setitem_single_column(loc, value, pi)\n"
     ]
    },
    {
     "data": {
      "text/html": [
       "<div>\n",
       "<style scoped>\n",
       "    .dataframe tbody tr th:only-of-type {\n",
       "        vertical-align: middle;\n",
       "    }\n",
       "\n",
       "    .dataframe tbody tr th {\n",
       "        vertical-align: top;\n",
       "    }\n",
       "\n",
       "    .dataframe thead th {\n",
       "        text-align: right;\n",
       "    }\n",
       "</style>\n",
       "<table border=\"1\" class=\"dataframe\">\n",
       "  <thead>\n",
       "    <tr style=\"text-align: right;\">\n",
       "      <th></th>\n",
       "      <th>BraTS21ID</th>\n",
       "      <th>MGMT_value</th>\n",
       "      <th>MRI_Type</th>\n",
       "    </tr>\n",
       "  </thead>\n",
       "  <tbody>\n",
       "    <tr>\n",
       "      <th>537</th>\n",
       "      <td>789</td>\n",
       "      <td>1</td>\n",
       "      <td>T1w</td>\n",
       "    </tr>\n",
       "    <tr>\n",
       "      <th>27</th>\n",
       "      <td>44</td>\n",
       "      <td>0</td>\n",
       "      <td>T1w</td>\n",
       "    </tr>\n",
       "    <tr>\n",
       "      <th>508</th>\n",
       "      <td>740</td>\n",
       "      <td>1</td>\n",
       "      <td>T1w</td>\n",
       "    </tr>\n",
       "    <tr>\n",
       "      <th>248</th>\n",
       "      <td>360</td>\n",
       "      <td>1</td>\n",
       "      <td>T1w</td>\n",
       "    </tr>\n",
       "    <tr>\n",
       "      <th>283</th>\n",
       "      <td>410</td>\n",
       "      <td>0</td>\n",
       "      <td>T1w</td>\n",
       "    </tr>\n",
       "  </tbody>\n",
       "</table>\n",
       "</div>"
      ],
      "text/plain": [
       "     BraTS21ID  MGMT_value MRI_Type\n",
       "537        789           1      T1w\n",
       "27          44           0      T1w\n",
       "508        740           1      T1w\n",
       "248        360           1      T1w\n",
       "283        410           0      T1w"
      ]
     },
     "metadata": {},
     "output_type": "display_data"
    },
    {
     "data": {
      "text/html": [
       "<div>\n",
       "<style scoped>\n",
       "    .dataframe tbody tr th:only-of-type {\n",
       "        vertical-align: middle;\n",
       "    }\n",
       "\n",
       "    .dataframe tbody tr th {\n",
       "        vertical-align: top;\n",
       "    }\n",
       "\n",
       "    .dataframe thead th {\n",
       "        text-align: right;\n",
       "    }\n",
       "</style>\n",
       "<table border=\"1\" class=\"dataframe\">\n",
       "  <thead>\n",
       "    <tr style=\"text-align: right;\">\n",
       "      <th></th>\n",
       "      <th>BraTS21ID</th>\n",
       "      <th>MGMT_value</th>\n",
       "      <th>MRI_Type</th>\n",
       "    </tr>\n",
       "  </thead>\n",
       "  <tbody>\n",
       "    <tr>\n",
       "      <th>289</th>\n",
       "      <td>418</td>\n",
       "      <td>0</td>\n",
       "      <td>T1w</td>\n",
       "    </tr>\n",
       "    <tr>\n",
       "      <th>568</th>\n",
       "      <td>836</td>\n",
       "      <td>0</td>\n",
       "      <td>T1w</td>\n",
       "    </tr>\n",
       "    <tr>\n",
       "      <th>484</th>\n",
       "      <td>705</td>\n",
       "      <td>1</td>\n",
       "      <td>T1w</td>\n",
       "    </tr>\n",
       "    <tr>\n",
       "      <th>50</th>\n",
       "      <td>78</td>\n",
       "      <td>1</td>\n",
       "      <td>T1w</td>\n",
       "    </tr>\n",
       "    <tr>\n",
       "      <th>40</th>\n",
       "      <td>62</td>\n",
       "      <td>1</td>\n",
       "      <td>T1w</td>\n",
       "    </tr>\n",
       "  </tbody>\n",
       "</table>\n",
       "</div>"
      ],
      "text/plain": [
       "     BraTS21ID  MGMT_value MRI_Type\n",
       "289        418           0      T1w\n",
       "568        836           0      T1w\n",
       "484        705           1      T1w\n",
       "50          78           1      T1w\n",
       "40          62           1      T1w"
      ]
     },
     "metadata": {},
     "output_type": "display_data"
    },
    {
     "name": "stdout",
     "output_type": "stream",
     "text": [
      "EPOCH: 1\n",
      "[Epoch Train: 1] loss: 0.7217, time: 243.00 s\n",
      "[Epoch Valid: 1] loss: 0.7133, auc: 0.5500, time: 57.00 s\n",
      "auc improved from 0.0000 to 0.5500. Saved model to 'T1w-e1-loss0.713-auc0.550.pth'\n",
      "EPOCH: 2\n",
      "[Epoch Train: 2] loss: 0.7023, time: 251.00 s\n",
      "[Epoch Valid: 2] loss: 0.7328, auc: 0.5032, time: 62.00 s\n",
      "EPOCH: 3\n",
      "[Epoch Train: 3] loss: 0.7028, time: 245.00 s\n",
      "[Epoch Valid: 3] loss: 0.7192, auc: 0.5739, time: 69.00 s\n",
      "auc improved from 0.5500 to 0.5739. Saved model to 'T1w-e3-loss0.719-auc0.574.pth'\n",
      "EPOCH: 4\n",
      "[Epoch Train: 4] loss: 0.7000, time: 255.00 s\n",
      "[Epoch Valid: 4] loss: 0.7136, auc: 0.5117, time: 77.00 s\n",
      "EPOCH: 5\n",
      "[Epoch Train: 5] loss: 0.6991, time: 266.00 s\n",
      "[Epoch Valid: 5] loss: 0.7051, auc: 0.5437, time: 63.00 s\n"
     ]
    },
    {
     "data": {
      "image/png": "[encoded data removed]",
      "text/plain": [
       "<Figure size 720x360 with 1 Axes>"
      ]
     },
     "metadata": {
      "needs_background": "light"
     },
     "output_type": "display_data"
    },
    {
     "data": {
      "image/png": "[encoded data removed]",
      "text/plain": [
       "<Figure size 720x360 with 1 Axes>"
      ]
     },
     "metadata": {
      "needs_background": "light"
     },
     "output_type": "display_data"
    },
    {
     "name": "stdout",
     "output_type": "stream",
     "text": [
      "(465, 3) (117, 3)\n"
     ]
    },
    {
     "name": "stderr",
     "output_type": "stream",
     "text": [
      "/home/christian/miniconda/envs/pytorch/lib/python3.8/site-packages/pandas/core/indexing.py:1817: SettingWithCopyWarning: \n",
      "A value is trying to be set on a copy of a slice from a DataFrame.\n",
      "Try using .loc[row_indexer,col_indexer] = value instead\n",
      "\n",
      "See the caveats in the documentation: https://pandas.pydata.org/pandas-docs/stable/user_guide/indexing.html#returning-a-view-versus-a-copy\n",
      "  self._setitem_single_column(loc, value, pi)\n"
     ]
    },
    {
     "data": {
      "text/html": [
       "<div>\n",
       "<style scoped>\n",
       "    .dataframe tbody tr th:only-of-type {\n",
       "        vertical-align: middle;\n",
       "    }\n",
       "\n",
       "    .dataframe tbody tr th {\n",
       "        vertical-align: top;\n",
       "    }\n",
       "\n",
       "    .dataframe thead th {\n",
       "        text-align: right;\n",
       "    }\n",
       "</style>\n",
       "<table border=\"1\" class=\"dataframe\">\n",
       "  <thead>\n",
       "    <tr style=\"text-align: right;\">\n",
       "      <th></th>\n",
       "      <th>BraTS21ID</th>\n",
       "      <th>MGMT_value</th>\n",
       "      <th>MRI_Type</th>\n",
       "    </tr>\n",
       "  </thead>\n",
       "  <tbody>\n",
       "    <tr>\n",
       "      <th>537</th>\n",
       "      <td>789</td>\n",
       "      <td>1</td>\n",
       "      <td>T1wCE</td>\n",
       "    </tr>\n",
       "    <tr>\n",
       "      <th>27</th>\n",
       "      <td>44</td>\n",
       "      <td>0</td>\n",
       "      <td>T1wCE</td>\n",
       "    </tr>\n",
       "    <tr>\n",
       "      <th>508</th>\n",
       "      <td>740</td>\n",
       "      <td>1</td>\n",
       "      <td>T1wCE</td>\n",
       "    </tr>\n",
       "    <tr>\n",
       "      <th>248</th>\n",
       "      <td>360</td>\n",
       "      <td>1</td>\n",
       "      <td>T1wCE</td>\n",
       "    </tr>\n",
       "    <tr>\n",
       "      <th>283</th>\n",
       "      <td>410</td>\n",
       "      <td>0</td>\n",
       "      <td>T1wCE</td>\n",
       "    </tr>\n",
       "  </tbody>\n",
       "</table>\n",
       "</div>"
      ],
      "text/plain": [
       "     BraTS21ID  MGMT_value MRI_Type\n",
       "537        789           1    T1wCE\n",
       "27          44           0    T1wCE\n",
       "508        740           1    T1wCE\n",
       "248        360           1    T1wCE\n",
       "283        410           0    T1wCE"
      ]
     },
     "metadata": {},
     "output_type": "display_data"
    },
    {
     "data": {
      "text/html": [
       "<div>\n",
       "<style scoped>\n",
       "    .dataframe tbody tr th:only-of-type {\n",
       "        vertical-align: middle;\n",
       "    }\n",
       "\n",
       "    .dataframe tbody tr th {\n",
       "        vertical-align: top;\n",
       "    }\n",
       "\n",
       "    .dataframe thead th {\n",
       "        text-align: right;\n",
       "    }\n",
       "</style>\n",
       "<table border=\"1\" class=\"dataframe\">\n",
       "  <thead>\n",
       "    <tr style=\"text-align: right;\">\n",
       "      <th></th>\n",
       "      <th>BraTS21ID</th>\n",
       "      <th>MGMT_value</th>\n",
       "      <th>MRI_Type</th>\n",
       "    </tr>\n",
       "  </thead>\n",
       "  <tbody>\n",
       "    <tr>\n",
       "      <th>289</th>\n",
       "      <td>418</td>\n",
       "      <td>0</td>\n",
       "      <td>T1wCE</td>\n",
       "    </tr>\n",
       "    <tr>\n",
       "      <th>568</th>\n",
       "      <td>836</td>\n",
       "      <td>0</td>\n",
       "      <td>T1wCE</td>\n",
       "    </tr>\n",
       "    <tr>\n",
       "      <th>484</th>\n",
       "      <td>705</td>\n",
       "      <td>1</td>\n",
       "      <td>T1wCE</td>\n",
       "    </tr>\n",
       "    <tr>\n",
       "      <th>50</th>\n",
       "      <td>78</td>\n",
       "      <td>1</td>\n",
       "      <td>T1wCE</td>\n",
       "    </tr>\n",
       "    <tr>\n",
       "      <th>40</th>\n",
       "      <td>62</td>\n",
       "      <td>1</td>\n",
       "      <td>T1wCE</td>\n",
       "    </tr>\n",
       "  </tbody>\n",
       "</table>\n",
       "</div>"
      ],
      "text/plain": [
       "     BraTS21ID  MGMT_value MRI_Type\n",
       "289        418           0    T1wCE\n",
       "568        836           0    T1wCE\n",
       "484        705           1    T1wCE\n",
       "50          78           1    T1wCE\n",
       "40          62           1    T1wCE"
      ]
     },
     "metadata": {},
     "output_type": "display_data"
    },
    {
     "name": "stdout",
     "output_type": "stream",
     "text": [
      "EPOCH: 1\n",
      "[Epoch Train: 1] loss: 0.7109, time: 251.00 s\n",
      "[Epoch Valid: 1] loss: 0.6996, auc: 0.5082, time: 65.00 s\n",
      "auc improved from 0.0000 to 0.5082. Saved model to 'T1wCE-e1-loss0.700-auc0.508.pth'\n",
      "EPOCH: 2\n",
      "[Epoch Train: 2] loss: 0.7044, time: 248.00 s\n",
      "[Epoch Valid: 2] loss: 0.7149, auc: 0.5522, time: 68.00 s\n",
      "auc improved from 0.5082 to 0.5522. Saved model to 'T1wCE-e2-loss0.715-auc0.552.pth'\n",
      "EPOCH: 3\n",
      "[Epoch Train: 3] loss: 0.7044, time: 255.00 s\n",
      "[Epoch Valid: 3] loss: 0.7207, auc: 0.5188, time: 71.00 s\n",
      "EPOCH: 4\n",
      "[Epoch Train: 4] loss: 0.7073, time: 252.00 s\n",
      "[Epoch Valid: 4] loss: 0.7171, auc: 0.5827, time: 67.00 s\n",
      "auc improved from 0.5522 to 0.5827. Saved model to 'T1wCE-e4-loss0.717-auc0.583.pth'\n",
      "EPOCH: 5\n",
      "[Epoch Train: 5] loss: 0.7029, time: 248.00 s\n",
      "[Epoch Valid: 5] loss: 0.7260, auc: 0.4974, time: 69.00 s\n"
     ]
    },
    {
     "data": {
      "image/png": "[encoded data removed]",
      "text/plain": [
       "<Figure size 720x360 with 1 Axes>"
      ]
     },
     "metadata": {
      "needs_background": "light"
     },
     "output_type": "display_data"
    },
    {
     "data": {
      "image/png": "[encoded data removed]",
      "text/plain": [
       "<Figure size 720x360 with 1 Axes>"
      ]
     },
     "metadata": {
      "needs_background": "light"
     },
     "output_type": "display_data"
    },
    {
     "name": "stdout",
     "output_type": "stream",
     "text": [
      "(465, 3) (117, 3)\n"
     ]
    },
    {
     "name": "stderr",
     "output_type": "stream",
     "text": [
      "/home/christian/miniconda/envs/pytorch/lib/python3.8/site-packages/pandas/core/indexing.py:1817: SettingWithCopyWarning: \n",
      "A value is trying to be set on a copy of a slice from a DataFrame.\n",
      "Try using .loc[row_indexer,col_indexer] = value instead\n",
      "\n",
      "See the caveats in the documentation: https://pandas.pydata.org/pandas-docs/stable/user_guide/indexing.html#returning-a-view-versus-a-copy\n",
      "  self._setitem_single_column(loc, value, pi)\n"
     ]
    },
    {
     "data": {
      "text/html": [
       "<div>\n",
       "<style scoped>\n",
       "    .dataframe tbody tr th:only-of-type {\n",
       "        vertical-align: middle;\n",
       "    }\n",
       "\n",
       "    .dataframe tbody tr th {\n",
       "        vertical-align: top;\n",
       "    }\n",
       "\n",
       "    .dataframe thead th {\n",
       "        text-align: right;\n",
       "    }\n",
       "</style>\n",
       "<table border=\"1\" class=\"dataframe\">\n",
       "  <thead>\n",
       "    <tr style=\"text-align: right;\">\n",
       "      <th></th>\n",
       "      <th>BraTS21ID</th>\n",
       "      <th>MGMT_value</th>\n",
       "      <th>MRI_Type</th>\n",
       "    </tr>\n",
       "  </thead>\n",
       "  <tbody>\n",
       "    <tr>\n",
       "      <th>537</th>\n",
       "      <td>789</td>\n",
       "      <td>1</td>\n",
       "      <td>T2w</td>\n",
       "    </tr>\n",
       "    <tr>\n",
       "      <th>27</th>\n",
       "      <td>44</td>\n",
       "      <td>0</td>\n",
       "      <td>T2w</td>\n",
       "    </tr>\n",
       "    <tr>\n",
       "      <th>508</th>\n",
       "      <td>740</td>\n",
       "      <td>1</td>\n",
       "      <td>T2w</td>\n",
       "    </tr>\n",
       "    <tr>\n",
       "      <th>248</th>\n",
       "      <td>360</td>\n",
       "      <td>1</td>\n",
       "      <td>T2w</td>\n",
       "    </tr>\n",
       "    <tr>\n",
       "      <th>283</th>\n",
       "      <td>410</td>\n",
       "      <td>0</td>\n",
       "      <td>T2w</td>\n",
       "    </tr>\n",
       "  </tbody>\n",
       "</table>\n",
       "</div>"
      ],
      "text/plain": [
       "     BraTS21ID  MGMT_value MRI_Type\n",
       "537        789           1      T2w\n",
       "27          44           0      T2w\n",
       "508        740           1      T2w\n",
       "248        360           1      T2w\n",
       "283        410           0      T2w"
      ]
     },
     "metadata": {},
     "output_type": "display_data"
    },
    {
     "data": {
      "text/html": [
       "<div>\n",
       "<style scoped>\n",
       "    .dataframe tbody tr th:only-of-type {\n",
       "        vertical-align: middle;\n",
       "    }\n",
       "\n",
       "    .dataframe tbody tr th {\n",
       "        vertical-align: top;\n",
       "    }\n",
       "\n",
       "    .dataframe thead th {\n",
       "        text-align: right;\n",
       "    }\n",
       "</style>\n",
       "<table border=\"1\" class=\"dataframe\">\n",
       "  <thead>\n",
       "    <tr style=\"text-align: right;\">\n",
       "      <th></th>\n",
       "      <th>BraTS21ID</th>\n",
       "      <th>MGMT_value</th>\n",
       "      <th>MRI_Type</th>\n",
       "    </tr>\n",
       "  </thead>\n",
       "  <tbody>\n",
       "    <tr>\n",
       "      <th>289</th>\n",
       "      <td>418</td>\n",
       "      <td>0</td>\n",
       "      <td>T2w</td>\n",
       "    </tr>\n",
       "    <tr>\n",
       "      <th>568</th>\n",
       "      <td>836</td>\n",
       "      <td>0</td>\n",
       "      <td>T2w</td>\n",
       "    </tr>\n",
       "    <tr>\n",
       "      <th>484</th>\n",
       "      <td>705</td>\n",
       "      <td>1</td>\n",
       "      <td>T2w</td>\n",
       "    </tr>\n",
       "    <tr>\n",
       "      <th>50</th>\n",
       "      <td>78</td>\n",
       "      <td>1</td>\n",
       "      <td>T2w</td>\n",
       "    </tr>\n",
       "    <tr>\n",
       "      <th>40</th>\n",
       "      <td>62</td>\n",
       "      <td>1</td>\n",
       "      <td>T2w</td>\n",
       "    </tr>\n",
       "  </tbody>\n",
       "</table>\n",
       "</div>"
      ],
      "text/plain": [
       "     BraTS21ID  MGMT_value MRI_Type\n",
       "289        418           0      T2w\n",
       "568        836           0      T2w\n",
       "484        705           1      T2w\n",
       "50          78           1      T2w\n",
       "40          62           1      T2w"
      ]
     },
     "metadata": {},
     "output_type": "display_data"
    },
    {
     "name": "stdout",
     "output_type": "stream",
     "text": [
      "EPOCH: 1\n",
      "[Epoch Train: 1] loss: 0.7142, time: 263.00 s\n",
      "[Epoch Valid: 1] loss: 0.7002, auc: 0.5701, time: 73.00 s\n",
      "auc improved from 0.0000 to 0.5701. Saved model to 'T2w-e1-loss0.700-auc0.570.pth'\n",
      "EPOCH: 2\n",
      "[Epoch Train: 2] loss: 0.7123, time: 293.00 s\n",
      "[Epoch Valid: 2] loss: 0.7103, auc: 0.4592, time: 78.00 s\n",
      "EPOCH: 3\n",
      "[Epoch Train: 3] loss: 0.7043, time: 263.00 s\n",
      "[Epoch Valid: 3] loss: 0.7385, auc: 0.6114, time: 76.00 s\n",
      "auc improved from 0.5701 to 0.6114. Saved model to 'T2w-e3-loss0.739-auc0.611.pth'\n",
      "EPOCH: 4\n",
      "[Epoch Train: 4] loss: 0.7109, time: 276.00 s\n",
      "[Epoch Valid: 4] loss: 0.7051, auc: 0.4522, time: 63.00 s\n",
      "EPOCH: 5\n",
      "[Epoch Train: 5] loss: 0.7013, time: 275.00 s\n",
      "[Epoch Valid: 5] loss: 0.7110, auc: 0.5801, time: 67.00 s\n"
     ]
    },
    {
     "data": {
      "image/png": "[encoded data removed]",
      "text/plain": [
       "<Figure size 720x360 with 1 Axes>"
      ]
     },
     "metadata": {
      "needs_background": "light"
     },
     "output_type": "display_data"
    },
    {
     "data": {
      "image/png": "[encoded data removed]",
      "text/plain": [
       "<Figure size 720x360 with 1 Axes>"
      ]
     },
     "metadata": {
      "needs_background": "light"
     },
     "output_type": "display_data"
    },
    {
     "name": "stdout",
     "output_type": "stream",
     "text": [
      "['FLAIR-e2-loss0.714-auc0.596.pth', 'T1w-e3-loss0.719-auc0.574.pth', 'T1wCE-e4-loss0.717-auc0.583.pth', 'T2w-e3-loss0.739-auc0.611.pth']\n",
      "CPU times: user 2h 18min 20s, sys: 10min 39s, total: 2h 28min 59s\n",
      "Wall time: 1h 48min 43s\n"
     ]
    }
   ],
   "source": [
    "%%time\n",
    "\n",
    "modelfiles = None\n",
    "\n",
    "if not modelfiles:\n",
    "    modelfiles = [train_mri_type(df_train, df_valid, m) for m in mri_types]\n",
    "    print(modelfiles)"
   ]
  },
  {
   "cell_type": "markdown",
   "metadata": {},
   "source": [
    "# Prediction"
   ]
  },
  {
   "cell_type": "code",
   "execution_count": 14,
   "metadata": {
    "execution": {
     "iopub.execute_input": "2021-09-09T16:58:00.520823Z",
     "iopub.status.busy": "2021-09-09T16:58:00.520451Z",
     "iopub.status.idle": "2021-09-09T16:58:00.531215Z",
     "shell.execute_reply": "2021-09-09T16:58:00.530072Z",
     "shell.execute_reply.started": "2021-09-09T16:58:00.520782Z"
    }
   },
   "outputs": [],
   "source": [
    "def predict(modelfile, df, mri_type, split):\n",
    "    print(\"Predict:\", modelfile, mri_type, df.shape)\n",
    "    df.loc[:,\"MRI_Type\"] = mri_type\n",
    "    \n",
    "    landmarks = torch.load(os.path.join(landmarks_directory, (f\"{mri_type}_landmarks.npy\")))\n",
    "    landmarks_dict = {\n",
    "        \"default_image_name\": landmarks,\n",
    "    }\n",
    "\n",
    "    data_retriever = Dataset(\n",
    "        df.index.values, \n",
    "        mri_type=df[\"MRI_Type\"].values,\n",
    "        split=split,\n",
    "        landmarks_dict=landmarks_dict\n",
    "    )\n",
    "\n",
    "    data_loader = torch_data.DataLoader(\n",
    "        data_retriever,\n",
    "        batch_size=4,\n",
    "        shuffle=False,\n",
    "        num_workers=8,\n",
    "    )\n",
    "   \n",
    "    model = build_model()\n",
    "    model.to(device)\n",
    "    \n",
    "    checkpoint = torch.load(modelfile)\n",
    "    model.load_state_dict(checkpoint[\"model_state_dict\"])\n",
    "    model.eval()\n",
    "    \n",
    "    y_pred = []\n",
    "    ids = []\n",
    "\n",
    "    for e, batch in enumerate(data_loader,1):\n",
    "        print(f\"{e}/{len(data_loader)}\", end=\"\\r\")\n",
    "        with torch.no_grad():\n",
    "            tmp_pred = torch.sigmoid(model(batch[\"X\"].clone().detach().float().to(device)).squeeze(1)).cpu().numpy().squeeze()\n",
    "            if tmp_pred.size == 1:\n",
    "                y_pred.append(tmp_pred)\n",
    "            else:\n",
    "                y_pred.extend(tmp_pred.tolist())\n",
    "            ids.extend(batch[\"id\"].numpy().tolist())\n",
    "            \n",
    "    preddf = pd.DataFrame({\"BraTS21ID\": ids, \"MGMT_value\": y_pred}) \n",
    "    preddf = preddf.set_index(\"BraTS21ID\")\n",
    "    return preddf"
   ]
  },
  {
   "cell_type": "markdown",
   "metadata": {},
   "source": [
    "**Validation**"
   ]
  },
  {
   "cell_type": "code",
   "execution_count": 15,
   "metadata": {
    "execution": {
     "iopub.execute_input": "2021-09-09T17:04:47.358254Z",
     "iopub.status.busy": "2021-09-09T17:04:47.357907Z",
     "iopub.status.idle": "2021-09-09T17:05:19.089039Z",
     "shell.execute_reply": "2021-09-09T17:05:19.086785Z",
     "shell.execute_reply.started": "2021-09-09T17:04:47.358222Z"
    }
   },
   "outputs": [
    {
     "name": "stdout",
     "output_type": "stream",
     "text": [
      "Predict: FLAIR-e2-loss0.714-auc0.596.pth FLAIR (117, 3)\n",
      "Predict: T1w-e3-loss0.719-auc0.574.pth T1w (117, 3)\n",
      "Predict: T1wCE-e4-loss0.717-auc0.583.pth T1wCE (117, 3)\n",
      "Predict: T2w-e3-loss0.739-auc0.611.pth T2w (117, 3)\n",
      "Validation ensemble AUC: 0.6774\n"
     ]
    },
    {
     "data": {
      "text/plain": [
       "<seaborn.axisgrid.FacetGrid at 0x7f93347d08b0>"
      ]
     },
     "execution_count": 15,
     "metadata": {},
     "output_type": "execute_result"
    },
    {
     "data": {
      "image/png": "[encoded data removed]",
      "text/plain": [
       "<Figure size 360x360 with 1 Axes>"
      ]
     },
     "metadata": {
      "needs_background": "light"
     },
     "output_type": "display_data"
    }
   ],
   "source": [
    "df_pred = df_valid.set_index(\"BraTS21ID\")\n",
    "df_pred[\"MGMT_pred\"] = 0\n",
    "for m, mtype in zip(modelfiles,  mri_types):\n",
    "    pred = predict(m, df_pred, mtype, \"train\")\n",
    "    df_pred[\"MGMT_pred\"] += pred[\"MGMT_value\"]\n",
    "df_pred[\"MGMT_pred\"] /= len(modelfiles)\n",
    "auc = roc_auc_score(df_pred[\"MGMT_value\"], df_pred[\"MGMT_pred\"])\n",
    "print(f\"Validation ensemble AUC: {auc:.4f}\")\n",
    "sns.displot(df_pred[\"MGMT_pred\"])"
   ]
  },
  {
   "cell_type": "markdown",
   "metadata": {},
   "source": [
    "**Submission**"
   ]
  },
  {
   "cell_type": "code",
   "execution_count": 16,
   "metadata": {
    "execution": {
     "iopub.status.busy": "2021-09-09T16:58:32.413937Z",
     "iopub.status.idle": "2021-09-09T16:58:32.414306Z"
    }
   },
   "outputs": [
    {
     "name": "stdout",
     "output_type": "stream",
     "text": [
      "Predict: FLAIR-e2-loss0.714-auc0.596.pth FLAIR (87, 1)\n",
      "Predict: T1w-e3-loss0.719-auc0.574.pth T1w (87, 2)\n",
      "Predict: T1wCE-e4-loss0.717-auc0.583.pth T1wCE (87, 2)\n",
      "Predict: T2w-e3-loss0.739-auc0.611.pth T2w (87, 2)\n",
      "22/22\r"
     ]
    }
   ],
   "source": [
    "submission = pd.read_csv(f\"{data_directory}/sample_submission.csv\", index_col=\"BraTS21ID\")\n",
    "\n",
    "submission[\"MGMT_value\"] = 0\n",
    "for m, mtype in zip(modelfiles, mri_types):\n",
    "    pred = predict(m, submission, mtype, split=\"test\")\n",
    "    submission[\"MGMT_value\"] += pred[\"MGMT_value\"]\n",
    "\n",
    "submission[\"MGMT_value\"] /= len(modelfiles)\n",
    "submission[\"MGMT_value\"].to_csv(\"submission.csv\")"
   ]
  }
 ],
 "metadata": {
  "kernelspec": {
   "display_name": "Python 3 (ipykernel)",
   "language": "python",
   "name": "python3"
  },
  "language_info": {
   "codemirror_mode": {
    "name": "ipython",
    "version": 3
   },
   "file_extension": ".py",
   "mimetype": "text/x-python",
   "name": "python",
   "nbconvert_exporter": "python",
   "pygments_lexer": "ipython3",
   "version": "3.8.11"
  }
 },
 "nbformat": 4,
 "nbformat_minor": 4
}
