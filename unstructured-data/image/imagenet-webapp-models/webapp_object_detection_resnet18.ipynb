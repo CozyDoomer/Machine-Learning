{
 "cells": [
  {
   "cell_type": "code",
   "execution_count": 1,
   "metadata": {},
   "outputs": [],
   "source": [
    "from fastai import *\n",
    "from fastai.vision import *\n",
    "from fastai.callbacks import *\n",
    "from inceptionresnet import inceptionresnetv2"
   ]
  },
  {
   "cell_type": "code",
   "execution_count": 2,
   "metadata": {},
   "outputs": [],
   "source": [
    "from object_detection_utils.object_detection_helper import *\n",
    "from object_detection_utils.RetinaNetFocalLoss import RetinaNetFocalLoss\n",
    "from object_detection_utils.RetinaNet import RetinaNet\n",
    "from object_detection_utils.callbacks import BBLossMetrics, BBMetrics, PascalVOCMetric"
   ]
  },
  {
   "cell_type": "code",
   "execution_count": 3,
   "metadata": {},
   "outputs": [
    {
     "name": "stdout",
     "output_type": "stream",
     "text": [
      "Running performance checks.\n",
      "\n",
      "*** libjpeg-turbo status\n",
      "❓ libjpeg-turbo's status can't be derived - need Pillow(-SIMD)? >= 5.4.0 to tell, current version 5.3.0.post1\n",
      "\n",
      "*** Pillow-SIMD status\n",
      "✔ Running Pillow-SIMD 5.3.0.post1\n",
      "\n",
      "*** CUDA status\n",
      "✔ Running the latest CUDA 9.0.176 with NVIDIA driver 396.54\n",
      "\n",
      "Refer to https://docs.fast.ai/performance.html to make sense out of these checks and suggestions.\n"
     ]
    }
   ],
   "source": [
    "import fastai.utils.collect_env\n",
    "fastai.utils.collect_env.check_perf()"
   ]
  },
  {
   "cell_type": "code",
   "execution_count": 4,
   "metadata": {},
   "outputs": [],
   "source": [
    "torch.cuda.empty_cache()"
   ]
  },
  {
   "cell_type": "markdown",
   "metadata": {},
   "source": [
    "### Check dataset "
   ]
  },
  {
   "cell_type": "code",
   "execution_count": 5,
   "metadata": {},
   "outputs": [],
   "source": [
    "path = Path('data/ILSVRC/Data/CLS-LOC')"
   ]
  },
  {
   "cell_type": "code",
   "execution_count": 6,
   "metadata": {
    "scrolled": true
   },
   "outputs": [
    {
     "data": {
      "text/plain": [
       "['export',\n",
       " 'imagenet_199px_object_detection.pkl',\n",
       " 'imagenet_299px_object_detection.pkl',\n",
       " 'models',\n",
       " 'test',\n",
       " 'train',\n",
       " 'valid']"
      ]
     },
     "execution_count": 6,
     "metadata": {},
     "output_type": "execute_result"
    }
   ],
   "source": [
    "os.listdir(path)"
   ]
  },
  {
   "cell_type": "code",
   "execution_count": 7,
   "metadata": {},
   "outputs": [
    {
     "data": {
      "text/plain": [
       "1000"
      ]
     },
     "execution_count": 7,
     "metadata": {},
     "output_type": "execute_result"
    }
   ],
   "source": [
    "len(os.listdir(path/'train'))"
   ]
  },
  {
   "cell_type": "code",
   "execution_count": 8,
   "metadata": {},
   "outputs": [
    {
     "data": {
      "text/plain": [
       "['n02093859', 'n01440764', 'n01443537', 'n01484850', 'n01491361']"
      ]
     },
     "execution_count": 8,
     "metadata": {},
     "output_type": "execute_result"
    }
   ],
   "source": [
    "os.listdir(path/'train')[:5]"
   ]
  },
  {
   "cell_type": "code",
   "execution_count": 9,
   "metadata": {},
   "outputs": [
    {
     "data": {
      "text/plain": [
       "50000"
      ]
     },
     "execution_count": 9,
     "metadata": {},
     "output_type": "execute_result"
    }
   ],
   "source": [
    "len(os.listdir(path/'valid'))"
   ]
  },
  {
   "cell_type": "code",
   "execution_count": 10,
   "metadata": {},
   "outputs": [
    {
     "data": {
      "text/plain": [
       "['ILSVRC2012_val_00000007.JPEG',\n",
       " 'ILSVRC2012_val_00000008.JPEG',\n",
       " 'ILSVRC2012_val_00000009.JPEG',\n",
       " 'ILSVRC2012_val_00000010.JPEG',\n",
       " 'ILSVRC2012_val_00000011.JPEG']"
      ]
     },
     "execution_count": 10,
     "metadata": {},
     "output_type": "execute_result"
    }
   ],
   "source": [
    "os.listdir(path/'valid')[:5]"
   ]
  },
  {
   "cell_type": "code",
   "execution_count": 11,
   "metadata": {},
   "outputs": [
    {
     "data": {
      "text/plain": [
       "100000"
      ]
     },
     "execution_count": 11,
     "metadata": {},
     "output_type": "execute_result"
    }
   ],
   "source": [
    "len(os.listdir(path/'test'))"
   ]
  },
  {
   "cell_type": "code",
   "execution_count": 12,
   "metadata": {},
   "outputs": [
    {
     "data": {
      "text/plain": [
       "['ILSVRC2012_test_00026354.JPEG',\n",
       " 'ILSVRC2012_test_00000007.JPEG',\n",
       " 'ILSVRC2012_test_00000008.JPEG',\n",
       " 'ILSVRC2012_test_00000009.JPEG',\n",
       " 'ILSVRC2012_test_00000010.JPEG']"
      ]
     },
     "execution_count": 12,
     "metadata": {},
     "output_type": "execute_result"
    }
   ],
   "source": [
    "os.listdir(path/'test')[:5]"
   ]
  },
  {
   "cell_type": "code",
   "execution_count": 13,
   "metadata": {},
   "outputs": [],
   "source": [
    "annotation_path = Path('data/ILSVRC/Annotations/CLS-LOC')"
   ]
  },
  {
   "cell_type": "code",
   "execution_count": 14,
   "metadata": {},
   "outputs": [
    {
     "data": {
      "text/plain": [
       "['train', 'valid']"
      ]
     },
     "execution_count": 14,
     "metadata": {},
     "output_type": "execute_result"
    }
   ],
   "source": [
    "os.listdir(annotation_path)[:5]"
   ]
  },
  {
   "cell_type": "code",
   "execution_count": 15,
   "metadata": {},
   "outputs": [
    {
     "data": {
      "text/plain": [
       "1000"
      ]
     },
     "execution_count": 15,
     "metadata": {},
     "output_type": "execute_result"
    }
   ],
   "source": [
    "len(os.listdir(annotation_path/'train'))"
   ]
  },
  {
   "cell_type": "code",
   "execution_count": 16,
   "metadata": {},
   "outputs": [
    {
     "data": {
      "text/plain": [
       "['n02093859', 'n01440764', 'n01443537', 'n01484850', 'n01491361']"
      ]
     },
     "execution_count": 16,
     "metadata": {},
     "output_type": "execute_result"
    }
   ],
   "source": [
    "os.listdir(annotation_path/'train')[:5]"
   ]
  },
  {
   "cell_type": "code",
   "execution_count": 17,
   "metadata": {},
   "outputs": [
    {
     "data": {
      "text/plain": [
       "['n01440764_4167.xml',\n",
       " 'n01440764_10548.xml',\n",
       " 'n01440764_10569.xml',\n",
       " 'n01440764_10587.xml',\n",
       " 'n01440764_10592.xml']"
      ]
     },
     "execution_count": 17,
     "metadata": {},
     "output_type": "execute_result"
    }
   ],
   "source": [
    "os.listdir(annotation_path/'train/n01440764')[:5]"
   ]
  },
  {
   "cell_type": "code",
   "execution_count": 18,
   "metadata": {},
   "outputs": [
    {
     "data": {
      "text/plain": [
       "50000"
      ]
     },
     "execution_count": 18,
     "metadata": {},
     "output_type": "execute_result"
    }
   ],
   "source": [
    "len(os.listdir(annotation_path/'valid'))"
   ]
  },
  {
   "cell_type": "code",
   "execution_count": 19,
   "metadata": {},
   "outputs": [
    {
     "data": {
      "text/plain": [
       "['ILSVRC2012_val_00000006.xml',\n",
       " 'ILSVRC2012_val_00000007.xml',\n",
       " 'ILSVRC2012_val_00000008.xml',\n",
       " 'ILSVRC2012_val_00000009.xml',\n",
       " 'ILSVRC2012_val_00000010.xml']"
      ]
     },
     "execution_count": 19,
     "metadata": {},
     "output_type": "execute_result"
    }
   ],
   "source": [
    "os.listdir(annotation_path/'valid')[:5]"
   ]
  },
  {
   "cell_type": "code",
   "execution_count": 20,
   "metadata": {},
   "outputs": [
    {
     "data": {
      "text/plain": [
       "'ILSVRC2012_val_00000006.xml'"
      ]
     },
     "execution_count": 20,
     "metadata": {},
     "output_type": "execute_result"
    }
   ],
   "source": [
    "os.listdir(annotation_path/'valid')[0]"
   ]
  },
  {
   "cell_type": "markdown",
   "metadata": {},
   "source": [
    "### extract annotations"
   ]
  },
  {
   "cell_type": "code",
   "execution_count": 21,
   "metadata": {},
   "outputs": [
    {
     "data": {
      "text/plain": [
       "PosixPath('data/ILSVRC/Data/CLS-LOC')"
      ]
     },
     "execution_count": 21,
     "metadata": {},
     "output_type": "execute_result"
    }
   ],
   "source": [
    "path"
   ]
  },
  {
   "cell_type": "code",
   "execution_count": 22,
   "metadata": {},
   "outputs": [],
   "source": [
    "import xml.etree.ElementTree as ET"
   ]
  },
  {
   "cell_type": "code",
   "execution_count": null,
   "metadata": {},
   "outputs": [],
   "source": [
    "fnames = []\n",
    "lbl_bboxes = []"
   ]
  },
  {
   "cell_type": "code",
   "execution_count": null,
   "metadata": {},
   "outputs": [],
   "source": [
    "for annotation in os.listdir('data/ILSVRC/Annotations/CLS-LOC/valid/'):\n",
    "    bboxes = []\n",
    "    root = ET.parse('data/ILSVRC/Annotations/CLS-LOC/valid/'+annotation).getroot()\n",
    "    \n",
    "    bbox_tag = root.findall('object/bndbox')\n",
    "    xmin = [r.find('xmin').text for r in bbox_tag]\n",
    "    ymin = [r.find('ymin').text for r in bbox_tag]\n",
    "    xmax = [r.find('xmax').text for r in bbox_tag]\n",
    "    ymax = [r.find('ymax').text for r in bbox_tag]\n",
    "    \n",
    "    for i in range(0, len(bbox_tag)):\n",
    "        bboxes.append([int(ymin[i]), int(xmin[i]), int(ymax[i]), int(xmax[i])])\n",
    "    \n",
    "    obj_tag = root.findall('object')\n",
    "    category = [r.find('name').text for r in obj_tag]\n",
    "    \n",
    "    fname_tag = root.findall('filename')\n",
    "    fname = fname_tag[0].text + '.JPEG' \n",
    "    fnames += ['valid' + '/' + fname]\n",
    "    \n",
    "    lbl_bboxes.append([bboxes, category])"
   ]
  },
  {
   "cell_type": "code",
   "execution_count": null,
   "metadata": {},
   "outputs": [],
   "source": [
    "for folder in os.listdir('data/ILSVRC/Annotations/CLS-LOC/train/'):\n",
    "    for annotation in os.listdir('data/ILSVRC/Annotations/CLS-LOC/train/' + folder):\n",
    "        bboxes = []\n",
    "        root = ET.parse('data/ILSVRC/Annotations/CLS-LOC/train/' + folder + '/' + annotation).getroot()\n",
    "\n",
    "        bbox_tag = root.findall('object/bndbox')\n",
    "        xmin = [r.find('xmin').text for r in bbox_tag]\n",
    "        ymin = [r.find('ymin').text for r in bbox_tag]\n",
    "        xmax = [r.find('xmax').text for r in bbox_tag]\n",
    "        ymax = [r.find('ymax').text for r in bbox_tag]\n",
    "\n",
    "        for i in range(0, len(bbox_tag)):\n",
    "            bboxes.append([int(ymin[i]), int(xmin[i]), int(ymax[i]), int(xmax[i])])\n",
    "\n",
    "        obj_tag = root.findall('object')\n",
    "        category = [r.find('name').text for r in obj_tag]\n",
    "\n",
    "        fname_tag = root.findall('filename')\n",
    "        fname = fname_tag[0].text + '.JPEG' \n",
    "        fnames += ['train/' + folder + '/' + fname]\n",
    "        \n",
    "        lbl_bboxes.append([bboxes, category])"
   ]
  },
  {
   "cell_type": "code",
   "execution_count": null,
   "metadata": {},
   "outputs": [],
   "source": [
    "fname2bbox = dict(zip(fnames, lbl_bboxes))"
   ]
  },
  {
   "cell_type": "code",
   "execution_count": null,
   "metadata": {},
   "outputs": [],
   "source": [
    "dict(list(fname2bbox.items())[0:4])"
   ]
  },
  {
   "cell_type": "code",
   "execution_count": null,
   "metadata": {},
   "outputs": [],
   "source": [
    "len(fname2bbox)"
   ]
  },
  {
   "cell_type": "code",
   "execution_count": null,
   "metadata": {},
   "outputs": [],
   "source": [
    "coco = untar_data(URLs.COCO_SAMPLE)\n",
    "images, lbl_bbox = get_annotations(coco/'annotations/train_sample.json')\n",
    "img2bbox = dict(zip(images, lbl_bbox))"
   ]
  },
  {
   "cell_type": "code",
   "execution_count": null,
   "metadata": {},
   "outputs": [],
   "source": [
    "dict(list(img2bbox.items())[0:4])"
   ]
  },
  {
   "cell_type": "markdown",
   "metadata": {},
   "source": [
    "### define metric "
   ]
  },
  {
   "cell_type": "code",
   "execution_count": null,
   "metadata": {},
   "outputs": [],
   "source": [
    "def top_5_accuracy(input, targs, k=5):\n",
    "    return top_k_accuracy(input, targs, k)"
   ]
  },
  {
   "cell_type": "markdown",
   "metadata": {},
   "source": [
    "### for the full ILSV2017 classification dataset"
   ]
  },
  {
   "cell_type": "code",
   "execution_count": null,
   "metadata": {},
   "outputs": [],
   "source": [
    "def path2fn(path):\n",
    "    if 'val' in path:\n",
    "        return re.search('\\w*\\/\\w*\\.JPEG$', path).group(0)\n",
    "    else:\n",
    "        return re.search('\\w*\\/\\w*\\/\\w*\\.JPEG$', path).group(0)"
   ]
  },
  {
   "cell_type": "code",
   "execution_count": null,
   "metadata": {},
   "outputs": [],
   "source": [
    "get_y_func = lambda o: fname2bbox[path2fn(o)]"
   ]
  },
  {
   "cell_type": "code",
   "execution_count": null,
   "metadata": {},
   "outputs": [],
   "source": [
    "SZ = 199"
   ]
  },
  {
   "cell_type": "code",
   "execution_count": null,
   "metadata": {},
   "outputs": [],
   "source": [
    "list(fname2bbox.keys())[0]"
   ]
  },
  {
   "cell_type": "code",
   "execution_count": null,
   "metadata": {
    "scrolled": true
   },
   "outputs": [],
   "source": [
    "data_bunch = (ObjectItemList.from_df(pd.DataFrame(data=list(fname2bbox.keys())), path=path)\n",
    "                            .split_by_rand_pct(valid_pct=0.2, seed=21)\n",
    "                            .label_from_func(get_y_func)\n",
    "                            .transform(get_transforms(), tfm_y=True, size=SZ)\n",
    "                            .databunch(bs=64, num_workers=8, collate_fn=bb_pad_collate))\n",
    "                            #.normalize(imagenet_stats))"
   ]
  },
  {
   "cell_type": "code",
   "execution_count": null,
   "metadata": {},
   "outputs": [],
   "source": [
    "data_bunch.save('imagenet_199px_object_detection.pkl')"
   ]
  },
  {
   "cell_type": "code",
   "execution_count": null,
   "metadata": {},
   "outputs": [],
   "source": [
    "SZ = 256"
   ]
  },
  {
   "cell_type": "code",
   "execution_count": null,
   "metadata": {},
   "outputs": [],
   "source": [
    "data_bunch = (ObjectItemList.from_df(pd.DataFrame(data=list(fname2bbox.keys())), path=path)\n",
    "                            .split_by_rand_pct(valid_pct=0.2, seed=21)\n",
    "                            .label_from_func(get_y_func)\n",
    "                            .transform(get_transforms(), tfm_y=True, size=SZ)\n",
    "                            .databunch(bs=16, collate_fn=bb_pad_collate)\n",
    "                            .normalize(imagenet_stats))"
   ]
  },
  {
   "cell_type": "code",
   "execution_count": null,
   "metadata": {},
   "outputs": [],
   "source": [
    "data_bunch.save('imagenet_256px_object_detection.pkl')"
   ]
  },
  {
   "cell_type": "code",
   "execution_count": null,
   "metadata": {},
   "outputs": [],
   "source": [
    "SZ = 299"
   ]
  },
  {
   "cell_type": "code",
   "execution_count": null,
   "metadata": {},
   "outputs": [],
   "source": [
    "data_bunch = (ObjectItemList.from_df(pd.DataFrame(data=list(fname2bbox.keys())), path=path)\n",
    "                            .split_by_rand_pct(valid_pct=0.2, seed=21)\n",
    "                            .label_from_func(get_y_func)\n",
    "                            .transform(get_transforms(), tfm_y=True, size=SZ)\n",
    "                            .databunch(bs=16, collate_fn=bb_pad_collate)\n",
    "                            .normalize(imagenet_stats))"
   ]
  },
  {
   "cell_type": "code",
   "execution_count": null,
   "metadata": {},
   "outputs": [],
   "source": [
    "data_bunch.save('imagenet_299px_object_detection.pkl')"
   ]
  },
  {
   "cell_type": "markdown",
   "metadata": {},
   "source": [
    "### if the databunch has been saved"
   ]
  },
  {
   "cell_type": "code",
   "execution_count": null,
   "metadata": {},
   "outputs": [],
   "source": [
    "size = 256"
   ]
  },
  {
   "cell_type": "code",
   "execution_count": null,
   "metadata": {},
   "outputs": [],
   "source": [
    "data_bunch = load_data('data/ILSVRC/Data/CLS-LOC', 'imagenet_256px_object_detection.pkl', \n",
    "                       collate_fn=bb_pad_collate, bs=16, num_workers=8)"
   ]
  },
  {
   "cell_type": "markdown",
   "metadata": {},
   "source": [
    "### quick look at the images"
   ]
  },
  {
   "cell_type": "code",
   "execution_count": null,
   "metadata": {},
   "outputs": [],
   "source": [
    "data_bunch.show_batch(rows=2, figsize=(6,6))"
   ]
  },
  {
   "cell_type": "code",
   "execution_count": null,
   "metadata": {},
   "outputs": [],
   "source": [
    "data_bunch.show_batch(rows=2, figsize=(6,6), ds_type=DatasetType.Valid)"
   ]
  },
  {
   "cell_type": "code",
   "execution_count": null,
   "metadata": {},
   "outputs": [],
   "source": [
    "anchors = create_anchors(sizes=[(32,32),(16,16),(8,8),(4,4)], ratios=[0.5, 1, 2], scales=[0.35, 0.5, 0.6, 1, 1.25, 1.6])"
   ]
  },
  {
   "cell_type": "code",
   "execution_count": null,
   "metadata": {},
   "outputs": [],
   "source": [
    "#fig,ax = plt.subplots(figsize=(15,15))\n",
    "#ax.imshow(image2np(data_bunch.valid_ds[0][0].data))\n",
    "#\n",
    "#for i, bbox in enumerate(anchors[:18]):\n",
    "#    bb = bbox.numpy()\n",
    "#    x = (bb[0] + 1) * 199 / 2 \n",
    "#    y = (bb[1] + 1) * 199 / 2 \n",
    "#    w = bb[2] * 199 / 2\n",
    "#    h = bb[3] * 199 / 2\n",
    "#    \n",
    "#    rect = [x,y,w,h]\n",
    "#    draw_rect(ax,rect)"
   ]
  },
  {
   "cell_type": "code",
   "execution_count": null,
   "metadata": {},
   "outputs": [],
   "source": [
    "#all_boxes, all_labels = show_anchors_on_images(data_bunch, anchors, figsize=(25,25))"
   ]
  },
  {
   "cell_type": "markdown",
   "metadata": {},
   "source": [
    "### create learner with inceptionresnetv2 (the pytorch model is already pretrained on imagenet)"
   ]
  },
  {
   "cell_type": "code",
   "execution_count": null,
   "metadata": {},
   "outputs": [],
   "source": [
    "#def inception(pretrained=False):\n",
    "#    pretrained = 'imagenet' if pretrained else None\n",
    "#    model = inceptionresnetv2(pretrained=pretrained)\n",
    "#    return nn.Sequential(*model.children())"
   ]
  },
  {
   "cell_type": "code",
   "execution_count": null,
   "metadata": {},
   "outputs": [],
   "source": [
    "n_classes = data_bunch.train_ds.c\n",
    "\n",
    "crit = RetinaNetFocalLoss(anchors)\n",
    "\n",
    "encoder = create_body(models.resnet18, True, -2) \n",
    "#create_body(inception, True, -2)\n",
    "model = RetinaNet(encoder, n_classes=data_bunch.train_ds.c, n_anchors=18, sizes=[32,16,8,4], chs=32, final_bias=-4., n_conv=2)"
   ]
  },
  {
   "cell_type": "code",
   "execution_count": null,
   "metadata": {},
   "outputs": [],
   "source": [
    "voc = PascalVOCMetric(anchors, size, [i for i in data_bunch.train_ds.y.classes[1:]])\n",
    "learn = Learner(data_bunch, model, loss_func=crit, callback_fns=[ShowGraph, BBMetrics], metrics=[voc])"
   ]
  },
  {
   "cell_type": "code",
   "execution_count": null,
   "metadata": {},
   "outputs": [],
   "source": [
    "#learn = cnn_learner(data_bunch, inception, pretrained=True, cut=-2, split_on=lambda m: (m[0][9], m[1]))"
   ]
  },
  {
   "cell_type": "code",
   "execution_count": null,
   "metadata": {},
   "outputs": [],
   "source": [
    "learn.split([model.encoder[6], model.c5top5])\n",
    "learn.freeze_to(-2)"
   ]
  },
  {
   "cell_type": "code",
   "execution_count": null,
   "metadata": {
    "scrolled": true
   },
   "outputs": [],
   "source": [
    "learn.layer_groups"
   ]
  },
  {
   "cell_type": "code",
   "execution_count": null,
   "metadata": {},
   "outputs": [],
   "source": [
    "learn.freeze()"
   ]
  },
  {
   "cell_type": "code",
   "execution_count": null,
   "metadata": {
    "scrolled": true
   },
   "outputs": [],
   "source": [
    "learn.lr_find()"
   ]
  },
  {
   "cell_type": "code",
   "execution_count": null,
   "metadata": {},
   "outputs": [],
   "source": [
    "learn.recorder.plot(suggestion=True)"
   ]
  },
  {
   "cell_type": "code",
   "execution_count": null,
   "metadata": {},
   "outputs": [],
   "source": [
    "lr = 1e-2"
   ]
  },
  {
   "cell_type": "code",
   "execution_count": null,
   "metadata": {},
   "outputs": [],
   "source": [
    "learn.fit_one_cycle(3, max_lr=slice(lr), div_factor=15)"
   ]
  },
  {
   "cell_type": "code",
   "execution_count": null,
   "metadata": {},
   "outputs": [],
   "source": [
    "learn.save('199px_object_detection_inceptionresnetv2_frozen');"
   ]
  },
  {
   "cell_type": "code",
   "execution_count": null,
   "metadata": {},
   "outputs": [],
   "source": [
    "learn.unfreeze()"
   ]
  },
  {
   "cell_type": "code",
   "execution_count": null,
   "metadata": {},
   "outputs": [],
   "source": [
    "learn.lr_find()"
   ]
  },
  {
   "cell_type": "code",
   "execution_count": null,
   "metadata": {},
   "outputs": [],
   "source": [
    "learn.recorder.plot()"
   ]
  },
  {
   "cell_type": "code",
   "execution_count": null,
   "metadata": {},
   "outputs": [],
   "source": [
    "lr = 2e-5"
   ]
  },
  {
   "cell_type": "code",
   "execution_count": null,
   "metadata": {},
   "outputs": [],
   "source": [
    "lrs = learn.lr_range(slice(lr/9,lr))\n",
    "lrs"
   ]
  },
  {
   "cell_type": "code",
   "execution_count": null,
   "metadata": {},
   "outputs": [],
   "source": [
    "learn.fit_one_cycle(3, max_lr=lrs, div_factor=35)"
   ]
  },
  {
   "cell_type": "code",
   "execution_count": null,
   "metadata": {},
   "outputs": [],
   "source": [
    "learn.save('199px_object_detection_inceptionresnetv2');"
   ]
  },
  {
   "cell_type": "markdown",
   "metadata": {
    "heading_collapsed": true
   },
   "source": [
    "### scale up image size to 299"
   ]
  },
  {
   "cell_type": "code",
   "execution_count": null,
   "metadata": {
    "hidden": true
   },
   "outputs": [],
   "source": [
    "data_bunch = ImageDataBunch.from_folder(path, ds_tfms=get_transforms(), size=299, num_workers=8, bs=16) \\\n",
    "                           .normalize(imagenet_stats)"
   ]
  },
  {
   "cell_type": "code",
   "execution_count": null,
   "metadata": {
    "hidden": true
   },
   "outputs": [],
   "source": [
    "learn = cnn_learner(data_bunch, inceptionresnetv2, pretrained=True,\n",
    "                   cut=-2, split_on=lambda m: (m[0][9], m[1]))"
   ]
  },
  {
   "cell_type": "code",
   "execution_count": null,
   "metadata": {
    "hidden": true
   },
   "outputs": [],
   "source": [
    "learn.metrics=[top_5_accuracy, accuracy]"
   ]
  },
  {
   "cell_type": "code",
   "execution_count": null,
   "metadata": {
    "hidden": true
   },
   "outputs": [],
   "source": [
    "learn.load('199px_inceptionresnetv2');"
   ]
  },
  {
   "cell_type": "code",
   "execution_count": null,
   "metadata": {
    "hidden": true
   },
   "outputs": [],
   "source": [
    "learn.unfreeze()"
   ]
  },
  {
   "cell_type": "code",
   "execution_count": null,
   "metadata": {
    "hidden": true
   },
   "outputs": [],
   "source": [
    "learn.lr_find()"
   ]
  },
  {
   "cell_type": "code",
   "execution_count": null,
   "metadata": {
    "hidden": true
   },
   "outputs": [],
   "source": [
    "learn.recorder.plot()"
   ]
  },
  {
   "cell_type": "code",
   "execution_count": null,
   "metadata": {
    "hidden": true
   },
   "outputs": [],
   "source": [
    "lr = 1e-4"
   ]
  },
  {
   "cell_type": "code",
   "execution_count": null,
   "metadata": {
    "hidden": true
   },
   "outputs": [],
   "source": [
    "lrs = learn.lr_range(slice(lr/27,lr))"
   ]
  },
  {
   "cell_type": "code",
   "execution_count": null,
   "metadata": {
    "hidden": true
   },
   "outputs": [],
   "source": [
    "lrs"
   ]
  },
  {
   "cell_type": "code",
   "execution_count": null,
   "metadata": {
    "hidden": true
   },
   "outputs": [],
   "source": [
    "learn.fit_one_cycle(2, max_lr=lrs, div_factor=35)"
   ]
  },
  {
   "cell_type": "code",
   "execution_count": null,
   "metadata": {
    "hidden": true
   },
   "outputs": [],
   "source": [
    "#learn.save('299px_inceptionresnetv2')"
   ]
  },
  {
   "cell_type": "code",
   "execution_count": null,
   "metadata": {
    "hidden": true
   },
   "outputs": [],
   "source": [
    "learn.load('299px_inceptionresnetv2');"
   ]
  },
  {
   "cell_type": "code",
   "execution_count": null,
   "metadata": {
    "hidden": true
   },
   "outputs": [],
   "source": [
    "interpr = learn.interpret()"
   ]
  },
  {
   "cell_type": "code",
   "execution_count": null,
   "metadata": {
    "hidden": true
   },
   "outputs": [],
   "source": [
    "interpr.plot_top_losses(4, figsize=(12,12))"
   ]
  },
  {
   "cell_type": "code",
   "execution_count": null,
   "metadata": {
    "hidden": true
   },
   "outputs": [],
   "source": [
    "learn.unfreeze()"
   ]
  },
  {
   "cell_type": "code",
   "execution_count": null,
   "metadata": {
    "hidden": true
   },
   "outputs": [],
   "source": [
    "learn.lr_find()"
   ]
  },
  {
   "cell_type": "code",
   "execution_count": null,
   "metadata": {
    "hidden": true
   },
   "outputs": [],
   "source": [
    "learn.recorder.plot()"
   ]
  },
  {
   "cell_type": "code",
   "execution_count": null,
   "metadata": {
    "hidden": true
   },
   "outputs": [],
   "source": [
    "lr = 1e-5"
   ]
  },
  {
   "cell_type": "code",
   "execution_count": null,
   "metadata": {
    "hidden": true
   },
   "outputs": [],
   "source": [
    "lrs = learn.lr_range(slice(lr/9,lr))\n",
    "lrs"
   ]
  },
  {
   "cell_type": "code",
   "execution_count": null,
   "metadata": {
    "hidden": true
   },
   "outputs": [],
   "source": [
    "learn.fit_one_cycle(2, max_lr=lrs, div_factor=35)"
   ]
  },
  {
   "cell_type": "code",
   "execution_count": null,
   "metadata": {
    "hidden": true
   },
   "outputs": [],
   "source": [
    "learn.save('299px_inceptionresnetv2_continued')"
   ]
  },
  {
   "cell_type": "markdown",
   "metadata": {},
   "source": [
    "## prediction "
   ]
  },
  {
   "cell_type": "code",
   "execution_count": null,
   "metadata": {},
   "outputs": [],
   "source": [
    "path"
   ]
  },
  {
   "cell_type": "code",
   "execution_count": null,
   "metadata": {},
   "outputs": [],
   "source": [
    "img = open_image(path/'train/n02093859/n02093859_1049.JPEG')\n",
    "img"
   ]
  },
  {
   "cell_type": "code",
   "execution_count": null,
   "metadata": {},
   "outputs": [],
   "source": [
    "cl, label, prob = learn.predict(img)"
   ]
  },
  {
   "cell_type": "code",
   "execution_count": null,
   "metadata": {},
   "outputs": [],
   "source": [
    "cl, label #, prob"
   ]
  },
  {
   "cell_type": "code",
   "execution_count": null,
   "metadata": {},
   "outputs": [],
   "source": [
    "# Load Imagenet Synsets\n",
    "with open('data/imagenet_synsets.txt', 'r') as f:\n",
    "    synsets = f.readlines()\n",
    "\n",
    "# len(synsets)==1001\n",
    "# sysnets[0] == background\n",
    "synsets = [x.strip() for x in synsets]\n",
    "splits = [line.split(' ') for line in synsets]\n",
    "key_to_classname = {spl[0]:' '.join(spl[1:]) for spl in splits}"
   ]
  },
  {
   "cell_type": "code",
   "execution_count": null,
   "metadata": {},
   "outputs": [],
   "source": [
    "{k: key_to_classname[k] for k in list(key_to_classname)[:5]}"
   ]
  },
  {
   "cell_type": "code",
   "execution_count": null,
   "metadata": {},
   "outputs": [],
   "source": [
    "key_to_classname[str(cl)]"
   ]
  },
  {
   "cell_type": "code",
   "execution_count": null,
   "metadata": {},
   "outputs": [],
   "source": [
    "learn.export('export/export.pkl')"
   ]
  },
  {
   "cell_type": "code",
   "execution_count": null,
   "metadata": {},
   "outputs": [],
   "source": [
    "learn = load_learner('export')"
   ]
  }
 ],
 "metadata": {
  "kernelspec": {
   "display_name": "Python 3",
   "language": "python",
   "name": "python3"
  },
  "language_info": {
   "codemirror_mode": {
    "name": "ipython",
    "version": 3
   },
   "file_extension": ".py",
   "mimetype": "text/x-python",
   "name": "python",
   "nbconvert_exporter": "python",
   "pygments_lexer": "ipython3",
   "version": "3.7.3"
  }
 },
 "nbformat": 4,
 "nbformat_minor": 2
}
