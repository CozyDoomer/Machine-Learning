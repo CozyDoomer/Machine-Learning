{
 "cells": [
  {
   "cell_type": "markdown",
   "id": "0b0223a6",
   "metadata": {
    "toc": true
   },
   "source": [
    "<h1>Table of Contents<span class=\"tocSkip\"></span></h1>\n",
    "<div class=\"toc\"><ul class=\"toc-item\"></ul></div>"
   ]
  },
  {
   "cell_type": "code",
   "execution_count": 1,
   "id": "7a1a82d4",
   "metadata": {},
   "outputs": [],
   "source": [
    "import os\n",
    "from tqdm import tqdm\n",
    "import tifffile as tiff\n",
    "import pandas as pd\n",
    "import numpy as np\n",
    "import matplotlib.pyplot as plt\n",
    "import cv2"
   ]
  },
  {
   "cell_type": "code",
   "execution_count": 3,
   "id": "e5f58e25",
   "metadata": {},
   "outputs": [],
   "source": [
    "# From https://www.kaggle.com/stainsby/fast-tested-rle\n",
    "def rle_decode(mask_rle, shape=(520, 704)):\n",
    "    '''\n",
    "    mask_rle: run-length as string formated (start length)\n",
    "    shape: (height,width) of array to return \n",
    "    Returns numpy array, 1 - mask, 0 - background\n",
    "\n",
    "    '''\n",
    "    s = mask_rle.split()\n",
    "    starts, lengths = [np.asarray(x, dtype=int) for x in (s[0:][::2], s[1:][::2])]\n",
    "    starts -= 1\n",
    "    ends = starts + lengths\n",
    "    img = np.zeros(shape[0]*shape[1], dtype=np.uint8)\n",
    "    for lo, hi in zip(starts, ends):\n",
    "        img[lo:hi] = 1\n",
    "    return img.reshape(shape)  # Needed to align to RLE direction"
   ]
  },
  {
   "cell_type": "code",
   "execution_count": 8,
   "id": "bd287383",
   "metadata": {},
   "outputs": [
    {
     "name": "stderr",
     "output_type": "stream",
     "text": [
      "606it [00:29, 20.72it/s]\n"
     ]
    }
   ],
   "source": [
    "shape = [520, 704]\n",
    "\n",
    "dataset_folder = \"dataset\"\n",
    "output_folder = f\"{dataset_folder}/train_converted\"\n",
    "os.makedirs(output_folder, exist_ok=True)\n",
    "\n",
    "df = pd.read_csv(f\"{dataset_folder}/train.csv\")\n",
    "df = df.groupby('id').agg(list).reset_index()\n",
    "for idx, row in tqdm(df.iterrows()):\n",
    "    img = row['id']\n",
    "    ann = row['annotation']\n",
    "    image = cv2.imread(f\"{dataset_folder}/train/{img}\" + '.png')\n",
    "    out_mask = np.zeros(shape)\n",
    "    for i, mask in enumerate(ann):\n",
    "        out_mask += rle_decode(mask, shape).astype(np.uint16) * (i + 1)\n",
    "    # plt.imshow(out_mask)\n",
    "    # plt.show()\n",
    "    tiff.imsave(f\"{output_folder}/{img}_masks.tif\", out_mask)\n",
    "    tiff.imsave(f\"{output_folder}/{img}.tif\", image[:, :, 0]) #single ch"
   ]
  },
  {
   "cell_type": "code",
   "execution_count": null,
   "id": "7b58bd5a",
   "metadata": {},
   "outputs": [],
   "source": []
  }
 ],
 "metadata": {
  "kernelspec": {
   "display_name": "Python 3 (ipykernel)",
   "language": "python",
   "name": "python3"
  },
  "language_info": {
   "codemirror_mode": {
    "name": "ipython",
    "version": 3
   },
   "file_extension": ".py",
   "mimetype": "text/x-python",
   "name": "python",
   "nbconvert_exporter": "python",
   "pygments_lexer": "ipython3",
   "version": "3.8.12"
  },
  "toc": {
   "base_numbering": 1,
   "nav_menu": {},
   "number_sections": true,
   "sideBar": true,
   "skip_h1_title": false,
   "title_cell": "Table of Contents",
   "title_sidebar": "Contents",
   "toc_cell": true,
   "toc_position": {},
   "toc_section_display": true,
   "toc_window_display": false
  }
 },
 "nbformat": 4,
 "nbformat_minor": 5
}
