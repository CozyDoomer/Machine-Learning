{
 "cells": [
  {
   "cell_type": "markdown",
   "id": "dbba9abe",
   "metadata": {
    "toc": true
   },
   "source": [
    "<h1>Table of Contents<span class=\"tocSkip\"></span></h1>\n",
    "<div class=\"toc\"><ul class=\"toc-item\"><li><span><a href=\"#Inference-example-with-a-Cellpose-model:-www.cellpose.org\" data-toc-modified-id=\"Inference-example-with-a-Cellpose-model:-www.cellpose.org-1\"><span class=\"toc-item-num\">1&nbsp;&nbsp;</span>Inference example with a Cellpose model: <a href=\"http://www.cellpose.org\" rel=\"nofollow\" target=\"_blank\">www.cellpose.org</a></a></span><ul class=\"toc-item\"><li><ul class=\"toc-item\"><li><ul class=\"toc-item\"><li><span><a href=\"#I'm-running-it-in-a-separate-process-rather-than-as-a-regular-notebook-because-I've-faced-issues-with-numpy-version-not-updating-after-the-pip-install-above.-If-you-know-how-to-fix-this-please-let-me-know.\" data-toc-modified-id=\"I'm-running-it-in-a-separate-process-rather-than-as-a-regular-notebook-because-I've-faced-issues-with-numpy-version-not-updating-after-the-pip-install-above.-If-you-know-how-to-fix-this-please-let-me-know.-1.0.0.1\"><span class=\"toc-item-num\">1.0.0.1&nbsp;&nbsp;</span>I'm running it in a separate process rather than as a regular notebook because I've faced issues with numpy version not updating after the <code>pip install</code> above. If you know how to fix this please let me know.</a></span></li></ul></li></ul></li></ul></li></ul></div>"
   ]
  },
  {
   "cell_type": "markdown",
   "id": "3a72e599",
   "metadata": {
    "papermill": {
     "duration": 0.005677,
     "end_time": "2021-12-04T18:04:13.955264",
     "exception": false,
     "start_time": "2021-12-04T18:04:13.949587",
     "status": "completed"
    },
    "tags": []
   },
   "source": [
    "# Inference example with a Cellpose model: www.cellpose.org\n",
    "The model is based on U-Net, however rather than training it directly on bitmask targets they first convert them to \"spatial flows\" representations and train on that. This makes segmentation of dense and touching cells more reliable. For details and additional tricks they use see the paper \"Cellpose: a generalist algorithm for cellular segmentation\".\n",
    "\n",
    "To train it I used the script provided in the cellpose repo ie: `python -m cellpose --train ...` after I converted the dataset to the input format it expects.\n",
    "\n",
    "In inference I just submit the masks as they were returned from the model - no postprocessing"
   ]
  },
  {
   "cell_type": "code",
   "execution_count": 1,
   "id": "201a51bf",
   "metadata": {
    "_cell_guid": "b1076dfc-b9ad-4769-8c92-a6c4dae69d19",
    "_kg_hide-input": true,
    "_kg_hide-output": true,
    "_uuid": "8f2839f25d086af736a60e9eeb907d3b93b6e0e5",
    "execution": {
     "iopub.execute_input": "2021-12-04T18:04:13.978802Z",
     "iopub.status.busy": "2021-12-04T18:04:13.978049Z",
     "iopub.status.idle": "2021-12-04T18:04:26.391295Z",
     "shell.execute_reply": "2021-12-04T18:04:26.389759Z",
     "shell.execute_reply.started": "2021-12-04T15:14:59.451348Z"
    },
    "papermill": {
     "duration": 12.429926,
     "end_time": "2021-12-04T18:04:26.391532",
     "exception": false,
     "start_time": "2021-12-04T18:04:13.961606",
     "status": "completed"
    },
    "tags": []
   },
   "outputs": [
    {
     "name": "stdout",
     "output_type": "stream",
     "text": [
      "\u001b[33mWARNING: Requirement '../input/cellpose-library/offline_whls/cellpose-0.7.2-py3-none-any.whl' looks like a filename, but the file does not exist\u001b[0m\r\n",
      "Looking in links: ../input/cellpose-library/offline_whls\r\n",
      "Processing /home/cozy/Documents/projects/kaggle/input/cellpose-library/offline_whls/cellpose-0.7.2-py3-none-any.whl\r\n",
      "\u001b[31mERROR: Could not install packages due to an OSError: [Errno 2] No such file or directory: '/home/cozy/Documents/projects/kaggle/input/cellpose-library/offline_whls/cellpose-0.7.2-py3-none-any.whl'\r\n",
      "\u001b[0m\r\n"
     ]
    }
   ],
   "source": [
    "!pip install --no-index ../input/cellpose-library/offline_whls/cellpose-0.7.2-py3-none-any.whl --find-links=../input/cellpose-library/offline_whls"
   ]
  },
  {
   "cell_type": "markdown",
   "id": "16893f70",
   "metadata": {
    "papermill": {
     "duration": 0.021011,
     "end_time": "2021-12-04T18:04:26.428577",
     "exception": false,
     "start_time": "2021-12-04T18:04:26.407566",
     "status": "completed"
    },
    "tags": []
   },
   "source": [
    "#### I'm running it in a separate process rather than as a regular notebook because I've faced issues with numpy version not updating after the `pip install` above. If you know how to fix this please let me know."
   ]
  },
  {
   "cell_type": "code",
   "execution_count": 2,
   "id": "a639df76",
   "metadata": {
    "execution": {
     "iopub.execute_input": "2021-12-04T18:04:26.472913Z",
     "iopub.status.busy": "2021-12-04T18:04:26.471957Z",
     "iopub.status.idle": "2021-12-04T18:04:26.481536Z",
     "shell.execute_reply": "2021-12-04T18:04:26.483401Z",
     "shell.execute_reply.started": "2021-12-04T15:22:55.772796Z"
    },
    "papermill": {
     "duration": 0.041996,
     "end_time": "2021-12-04T18:04:26.483628",
     "exception": false,
     "start_time": "2021-12-04T18:04:26.441632",
     "status": "completed"
    },
    "tags": []
   },
   "outputs": [
    {
     "name": "stdout",
     "output_type": "stream",
     "text": [
      "Overwriting run.py\n"
     ]
    }
   ],
   "source": [
    "%%writefile run.py\n",
    "import numpy as np\n",
    "from cellpose import models, io, plot\n",
    "from pathlib import Path\n",
    "import pandas as pd\n",
    "\n",
    "def rle_encode(img):\n",
    "    pixels = img.flatten()\n",
    "    pixels = np.concatenate([[0], pixels, [0]])\n",
    "    runs = np.where(pixels[1:] != pixels[:-1])[0] + 1\n",
    "    runs[1::2] -= runs[::2]\n",
    "    return ' '.join(str(x) for x in runs)\n",
    "\n",
    "test_dir = Path('dataset/test')\n",
    "test_files = [fname for fname in test_dir.iterdir()]\n",
    "model = models.CellposeModel(gpu=True, pretrained_model='models/cellpose_residual_on_style_on_concatenation_off_train_converted_2021_12_17_05_56_19.790502')\n",
    "\n",
    "ids, masks = [],[]\n",
    "for fn in test_files:\n",
    "    preds, flows, _ = model.eval(io.imread(str(fn)), diameter=19, channels=[0,0], augment=True, resample=True)\n",
    "    for i in range (1, preds.max() + 1):\n",
    "        ids.append(fn.stem)\n",
    "        masks.append(rle_encode(preds == i))\n",
    "        \n",
    "pd.DataFrame({'id':ids, 'predicted':masks}).to_csv('submission.csv', index=False)"
   ]
  },
  {
   "cell_type": "code",
   "execution_count": 3,
   "id": "1dfdf1a3",
   "metadata": {
    "execution": {
     "iopub.execute_input": "2021-12-04T18:04:26.519916Z",
     "iopub.status.busy": "2021-12-04T18:04:26.519073Z",
     "iopub.status.idle": "2021-12-04T18:05:04.361154Z",
     "shell.execute_reply": "2021-12-04T18:05:04.360645Z",
     "shell.execute_reply.started": "2021-12-04T15:22:56.849218Z"
    },
    "papermill": {
     "duration": 37.863988,
     "end_time": "2021-12-04T18:05:04.361294",
     "exception": false,
     "start_time": "2021-12-04T18:04:26.497306",
     "status": "completed"
    },
    "tags": []
   },
   "outputs": [
    {
     "name": "stdout",
     "output_type": "stream",
     "text": [
      "Traceback (most recent call last):\r\n",
      "  File \"/home/cozy/Documents/projects/kaggle/sartorius-cell-instance-segmentation/run.py\", line 2, in <module>\r\n",
      "    from cellpose import models, io, plot\r\n",
      "ImportError: cannot import name 'models' from 'cellpose' (unknown location)\r\n"
     ]
    }
   ],
   "source": [
    "!python run.py"
   ]
  },
  {
   "cell_type": "code",
   "execution_count": 4,
   "id": "aba37705",
   "metadata": {
    "execution": {
     "iopub.execute_input": "2021-12-04T18:05:04.384180Z",
     "iopub.status.busy": "2021-12-04T18:05:04.383053Z",
     "iopub.status.idle": "2021-12-04T18:05:04.402500Z",
     "shell.execute_reply": "2021-12-04T18:05:04.402902Z",
     "shell.execute_reply.started": "2021-12-04T15:23:20.706226Z"
    },
    "papermill": {
     "duration": 0.03312,
     "end_time": "2021-12-04T18:05:04.403056",
     "exception": false,
     "start_time": "2021-12-04T18:05:04.369936",
     "status": "completed"
    },
    "tags": []
   },
   "outputs": [
    {
     "ename": "ModuleNotFoundError",
     "evalue": "No module named 'pandas'",
     "output_type": "error",
     "traceback": [
      "\u001b[0;31m---------------------------------------------------------------------------\u001b[0m",
      "\u001b[0;31mModuleNotFoundError\u001b[0m                       Traceback (most recent call last)",
      "\u001b[0;32m/tmp/ipykernel_284577/3604521143.py\u001b[0m in \u001b[0;36m<module>\u001b[0;34m\u001b[0m\n\u001b[0;32m----> 1\u001b[0;31m \u001b[0;32mimport\u001b[0m \u001b[0mpandas\u001b[0m \u001b[0;32mas\u001b[0m \u001b[0mpd\u001b[0m\u001b[0;34m\u001b[0m\u001b[0;34m\u001b[0m\u001b[0m\n\u001b[0m\u001b[1;32m      2\u001b[0m \u001b[0mpd\u001b[0m\u001b[0;34m.\u001b[0m\u001b[0mread_csv\u001b[0m\u001b[0;34m(\u001b[0m\u001b[0;34m'submission.csv'\u001b[0m\u001b[0;34m)\u001b[0m\u001b[0;34m.\u001b[0m\u001b[0mhead\u001b[0m\u001b[0;34m(\u001b[0m\u001b[0;34m)\u001b[0m\u001b[0;34m\u001b[0m\u001b[0;34m\u001b[0m\u001b[0m\n",
      "\u001b[0;31mModuleNotFoundError\u001b[0m: No module named 'pandas'"
     ]
    }
   ],
   "source": [
    "import pandas as pd\n",
    "pd.read_csv('submission.csv').head()"
   ]
  },
  {
   "cell_type": "code",
   "execution_count": null,
   "id": "dc099caa",
   "metadata": {},
   "outputs": [],
   "source": []
  }
 ],
 "metadata": {
  "kernelspec": {
   "display_name": "Python 3 (ipykernel)",
   "language": "python",
   "name": "python3"
  },
  "language_info": {
   "codemirror_mode": {
    "name": "ipython",
    "version": 3
   },
   "file_extension": ".py",
   "mimetype": "text/x-python",
   "name": "python",
   "nbconvert_exporter": "python",
   "pygments_lexer": "ipython3",
   "version": "3.8.12"
  },
  "papermill": {
   "default_parameters": {},
   "duration": 59.095572,
   "end_time": "2021-12-04T18:05:04.820435",
   "environment_variables": {},
   "exception": null,
   "input_path": "__notebook__.ipynb",
   "output_path": "__notebook__.ipynb",
   "parameters": {},
   "start_time": "2021-12-04T18:04:05.724863",
   "version": "2.3.3"
  },
  "toc": {
   "base_numbering": 1,
   "nav_menu": {},
   "number_sections": true,
   "sideBar": true,
   "skip_h1_title": false,
   "title_cell": "Table of Contents",
   "title_sidebar": "Contents",
   "toc_cell": true,
   "toc_position": {},
   "toc_section_display": true,
   "toc_window_display": false
  }
 },
 "nbformat": 4,
 "nbformat_minor": 5
}
