{
 "cells": [
  {
   "cell_type": "code",
   "execution_count": 1,
   "metadata": {},
   "outputs": [],
   "source": [
    "from fastai.vision import *"
   ]
  },
  {
   "cell_type": "code",
   "execution_count": 2,
   "metadata": {},
   "outputs": [],
   "source": [
    "torch.cuda.empty_cache()"
   ]
  },
  {
   "cell_type": "markdown",
   "metadata": {},
   "source": [
    "### Check dataset "
   ]
  },
  {
   "cell_type": "code",
   "execution_count": 3,
   "metadata": {},
   "outputs": [],
   "source": [
    "path = Path('data/ILSVRC/Data/CLS-LOC')"
   ]
  },
  {
   "cell_type": "code",
   "execution_count": 4,
   "metadata": {
    "scrolled": true
   },
   "outputs": [
    {
     "data": {
      "text/plain": [
       "['models', 'test', 'train', 'valid']"
      ]
     },
     "execution_count": 4,
     "metadata": {},
     "output_type": "execute_result"
    }
   ],
   "source": [
    "os.listdir(path)"
   ]
  },
  {
   "cell_type": "code",
   "execution_count": 5,
   "metadata": {},
   "outputs": [
    {
     "data": {
      "text/plain": [
       "1000"
      ]
     },
     "execution_count": 5,
     "metadata": {},
     "output_type": "execute_result"
    }
   ],
   "source": [
    "len(os.listdir(path/'train'))"
   ]
  },
  {
   "cell_type": "code",
   "execution_count": 6,
   "metadata": {},
   "outputs": [
    {
     "data": {
      "text/plain": [
       "['n02093859', 'n01440764', 'n01443537', 'n01484850', 'n01491361']"
      ]
     },
     "execution_count": 6,
     "metadata": {},
     "output_type": "execute_result"
    }
   ],
   "source": [
    "os.listdir(path/'train')[:5]"
   ]
  },
  {
   "cell_type": "code",
   "execution_count": 7,
   "metadata": {},
   "outputs": [
    {
     "data": {
      "text/plain": [
       "1000"
      ]
     },
     "execution_count": 7,
     "metadata": {},
     "output_type": "execute_result"
    }
   ],
   "source": [
    "len(os.listdir(path/'valid'))"
   ]
  },
  {
   "cell_type": "code",
   "execution_count": 8,
   "metadata": {},
   "outputs": [
    {
     "data": {
      "text/plain": [
       "['n02356798', 'n02361337', 'n02363005', 'n02364673', 'n02389026']"
      ]
     },
     "execution_count": 8,
     "metadata": {},
     "output_type": "execute_result"
    }
   ],
   "source": [
    "os.listdir(path/'valid')[:5]"
   ]
  },
  {
   "cell_type": "code",
   "execution_count": 9,
   "metadata": {},
   "outputs": [
    {
     "data": {
      "text/plain": [
       "100000"
      ]
     },
     "execution_count": 9,
     "metadata": {},
     "output_type": "execute_result"
    }
   ],
   "source": [
    "len(os.listdir(path/'test'))"
   ]
  },
  {
   "cell_type": "code",
   "execution_count": 10,
   "metadata": {},
   "outputs": [
    {
     "data": {
      "text/plain": [
       "['ILSVRC2012_test_00026354.JPEG',\n",
       " 'ILSVRC2012_test_00000007.JPEG',\n",
       " 'ILSVRC2012_test_00000008.JPEG',\n",
       " 'ILSVRC2012_test_00000009.JPEG',\n",
       " 'ILSVRC2012_test_00000010.JPEG']"
      ]
     },
     "execution_count": 10,
     "metadata": {},
     "output_type": "execute_result"
    }
   ],
   "source": [
    "os.listdir(path/'test')[:5]"
   ]
  },
  {
   "cell_type": "markdown",
   "metadata": {},
   "source": [
    "### for creating the file structure (only valid because train was correct)"
   ]
  },
  {
   "cell_type": "code",
   "execution_count": 11,
   "metadata": {},
   "outputs": [],
   "source": [
    "#os.rename(path/'val', path/'valid')\n",
    "#\n",
    "#train_classes = os.listdir(path/'train')\n",
    "#\n",
    "#for line in open('data/valid.txt'):\n",
    "#    valid_path = path/'valid'/line.split(' ')[0]\n",
    "#    valid_class = line.split(' ')[1].replace('\\n','')\n",
    "#    real_class = train_classes[int(valid_class)]\n",
    "#    if not os.path.isdir(path/'valid'/real_class):\n",
    "#        os.mkdir(path/'valid'/real_class)\n",
    "#    os.rename(valid_path, path/'valid'/real_class/line.split(' ')[0])"
   ]
  },
  {
   "cell_type": "code",
   "execution_count": 12,
   "metadata": {},
   "outputs": [],
   "source": [
    "# could improve performance (not tested with fastai)\n",
    "torch.backends.cudnn.enabled = True "
   ]
  },
  {
   "cell_type": "markdown",
   "metadata": {},
   "source": [
    "### define metric "
   ]
  },
  {
   "cell_type": "code",
   "execution_count": 13,
   "metadata": {},
   "outputs": [],
   "source": [
    "def top_5_accuracy(input, targs, k=5):\n",
    "    return top_k_accuracy(input, targs, k)"
   ]
  },
  {
   "cell_type": "markdown",
   "metadata": {},
   "source": [
    "### create databunch from folder structure (training with 60% of imagenet)"
   ]
  },
  {
   "cell_type": "code",
   "execution_count": 83,
   "metadata": {},
   "outputs": [],
   "source": [
    "train = ImageList.from_folder(path).filter_by_rand(0.5, seed=21)"
   ]
  },
  {
   "cell_type": "code",
   "execution_count": 84,
   "metadata": {},
   "outputs": [],
   "source": [
    "data_bunch = (train.split_by_folder().label_from_folder()) \\\n",
    "                   .transform(get_transforms(), size=164) \\\n",
    "                   .databunch(num_workers=8, bs=132) \\\n",
    "                   .normalize(imagenet_stats)"
   ]
  },
  {
   "cell_type": "code",
   "execution_count": 85,
   "metadata": {},
   "outputs": [
    {
     "data": {
      "text/plain": [
       "ImageDataBunch;\n",
       "\n",
       "Train: LabelList (641574 items)\n",
       "x: ImageList\n",
       "Image (3, 164, 164),Image (3, 164, 164),Image (3, 164, 164),Image (3, 164, 164),Image (3, 164, 164)\n",
       "y: CategoryList\n",
       "n02093859,n02093859,n02093859,n02093859,n02093859\n",
       "Path: data/ILSVRC/Data/CLS-LOC;\n",
       "\n",
       "Valid: LabelList (25054 items)\n",
       "x: ImageList\n",
       "Image (3, 164, 164),Image (3, 164, 164),Image (3, 164, 164),Image (3, 164, 164),Image (3, 164, 164)\n",
       "y: CategoryList\n",
       "n02356798,n02356798,n02356798,n02356798,n02356798\n",
       "Path: data/ILSVRC/Data/CLS-LOC;\n",
       "\n",
       "Test: None"
      ]
     },
     "execution_count": 85,
     "metadata": {},
     "output_type": "execute_result"
    }
   ],
   "source": [
    "data_bunch"
   ]
  },
  {
   "cell_type": "code",
   "execution_count": null,
   "metadata": {},
   "outputs": [],
   "source": []
  },
  {
   "cell_type": "code",
   "execution_count": 14,
   "metadata": {},
   "outputs": [],
   "source": [
    "# this is for the full imagenet dataset\n",
    "#data_bunch = ImageDataBunch.from_folder(path, ds_tfms=get_transforms(), size=164, num_workers=8, bs=132) \\\n",
    "#                           .normalize(imagenet_stats)"
   ]
  },
  {
   "cell_type": "code",
   "execution_count": 86,
   "metadata": {},
   "outputs": [
    {
     "ename": "KeyboardInterrupt",
     "evalue": "",
     "output_type": "error",
     "traceback": [
      "\u001b[0;31m---------------------------------------------------------------------------\u001b[0m",
      "\u001b[0;31mKeyboardInterrupt\u001b[0m                         Traceback (most recent call last)",
      "\u001b[0;32m<ipython-input-86-c8593085d39d>\u001b[0m in \u001b[0;36m<module>\u001b[0;34m\u001b[0m\n\u001b[0;32m----> 1\u001b[0;31m \u001b[0mdata_bunch\u001b[0m\u001b[0;34m.\u001b[0m\u001b[0mshow_batch\u001b[0m\u001b[0;34m(\u001b[0m\u001b[0mrows\u001b[0m\u001b[0;34m=\u001b[0m\u001b[0;36m2\u001b[0m\u001b[0;34m,\u001b[0m \u001b[0mfigsize\u001b[0m\u001b[0;34m=\u001b[0m\u001b[0;34m(\u001b[0m\u001b[0;36m6\u001b[0m\u001b[0;34m,\u001b[0m\u001b[0;36m6\u001b[0m\u001b[0;34m)\u001b[0m\u001b[0;34m)\u001b[0m\u001b[0;34m\u001b[0m\u001b[0;34m\u001b[0m\u001b[0m\n\u001b[0m",
      "\u001b[0;32m~/anaconda3/envs/fastai_updated/lib/python3.7/site-packages/fastai/basic_data.py\u001b[0m in \u001b[0;36mshow_batch\u001b[0;34m(self, rows, ds_type, reverse, **kwargs)\u001b[0m\n\u001b[1;32m    183\u001b[0m     \u001b[0;32mdef\u001b[0m \u001b[0mshow_batch\u001b[0m\u001b[0;34m(\u001b[0m\u001b[0mself\u001b[0m\u001b[0;34m,\u001b[0m \u001b[0mrows\u001b[0m\u001b[0;34m:\u001b[0m\u001b[0mint\u001b[0m\u001b[0;34m=\u001b[0m\u001b[0;36m5\u001b[0m\u001b[0;34m,\u001b[0m \u001b[0mds_type\u001b[0m\u001b[0;34m:\u001b[0m\u001b[0mDatasetType\u001b[0m\u001b[0;34m=\u001b[0m\u001b[0mDatasetType\u001b[0m\u001b[0;34m.\u001b[0m\u001b[0mTrain\u001b[0m\u001b[0;34m,\u001b[0m \u001b[0mreverse\u001b[0m\u001b[0;34m:\u001b[0m\u001b[0mbool\u001b[0m\u001b[0;34m=\u001b[0m\u001b[0;32mFalse\u001b[0m\u001b[0;34m,\u001b[0m \u001b[0;34m**\u001b[0m\u001b[0mkwargs\u001b[0m\u001b[0;34m)\u001b[0m\u001b[0;34m->\u001b[0m\u001b[0;32mNone\u001b[0m\u001b[0;34m:\u001b[0m\u001b[0;34m\u001b[0m\u001b[0;34m\u001b[0m\u001b[0m\n\u001b[1;32m    184\u001b[0m         \u001b[0;34m\"Show a batch of data in `ds_type` on a few `rows`.\"\u001b[0m\u001b[0;34m\u001b[0m\u001b[0;34m\u001b[0m\u001b[0m\n\u001b[0;32m--> 185\u001b[0;31m         \u001b[0mx\u001b[0m\u001b[0;34m,\u001b[0m\u001b[0my\u001b[0m \u001b[0;34m=\u001b[0m \u001b[0mself\u001b[0m\u001b[0;34m.\u001b[0m\u001b[0mone_batch\u001b[0m\u001b[0;34m(\u001b[0m\u001b[0mds_type\u001b[0m\u001b[0;34m,\u001b[0m \u001b[0;32mTrue\u001b[0m\u001b[0;34m,\u001b[0m \u001b[0;32mTrue\u001b[0m\u001b[0;34m)\u001b[0m\u001b[0;34m\u001b[0m\u001b[0;34m\u001b[0m\u001b[0m\n\u001b[0m\u001b[1;32m    186\u001b[0m         \u001b[0;32mif\u001b[0m \u001b[0mreverse\u001b[0m\u001b[0;34m:\u001b[0m \u001b[0mx\u001b[0m\u001b[0;34m,\u001b[0m\u001b[0my\u001b[0m \u001b[0;34m=\u001b[0m \u001b[0mx\u001b[0m\u001b[0;34m.\u001b[0m\u001b[0mflip\u001b[0m\u001b[0;34m(\u001b[0m\u001b[0;36m0\u001b[0m\u001b[0;34m)\u001b[0m\u001b[0;34m,\u001b[0m\u001b[0my\u001b[0m\u001b[0;34m.\u001b[0m\u001b[0mflip\u001b[0m\u001b[0;34m(\u001b[0m\u001b[0;36m0\u001b[0m\u001b[0;34m)\u001b[0m\u001b[0;34m\u001b[0m\u001b[0;34m\u001b[0m\u001b[0m\n\u001b[1;32m    187\u001b[0m         \u001b[0mn_items\u001b[0m \u001b[0;34m=\u001b[0m \u001b[0mrows\u001b[0m \u001b[0;34m**\u001b[0m\u001b[0;36m2\u001b[0m \u001b[0;32mif\u001b[0m \u001b[0mself\u001b[0m\u001b[0;34m.\u001b[0m\u001b[0mtrain_ds\u001b[0m\u001b[0;34m.\u001b[0m\u001b[0mx\u001b[0m\u001b[0;34m.\u001b[0m\u001b[0m_square_show\u001b[0m \u001b[0;32melse\u001b[0m \u001b[0mrows\u001b[0m\u001b[0;34m\u001b[0m\u001b[0;34m\u001b[0m\u001b[0m\n",
      "\u001b[0;32m~/anaconda3/envs/fastai_updated/lib/python3.7/site-packages/fastai/basic_data.py\u001b[0m in \u001b[0;36mone_batch\u001b[0;34m(self, ds_type, detach, denorm, cpu)\u001b[0m\n\u001b[1;32m    166\u001b[0m         \u001b[0mw\u001b[0m \u001b[0;34m=\u001b[0m \u001b[0mself\u001b[0m\u001b[0;34m.\u001b[0m\u001b[0mnum_workers\u001b[0m\u001b[0;34m\u001b[0m\u001b[0;34m\u001b[0m\u001b[0m\n\u001b[1;32m    167\u001b[0m         \u001b[0mself\u001b[0m\u001b[0;34m.\u001b[0m\u001b[0mnum_workers\u001b[0m \u001b[0;34m=\u001b[0m \u001b[0;36m0\u001b[0m\u001b[0;34m\u001b[0m\u001b[0;34m\u001b[0m\u001b[0m\n\u001b[0;32m--> 168\u001b[0;31m         \u001b[0;32mtry\u001b[0m\u001b[0;34m:\u001b[0m     \u001b[0mx\u001b[0m\u001b[0;34m,\u001b[0m\u001b[0my\u001b[0m \u001b[0;34m=\u001b[0m \u001b[0mnext\u001b[0m\u001b[0;34m(\u001b[0m\u001b[0miter\u001b[0m\u001b[0;34m(\u001b[0m\u001b[0mdl\u001b[0m\u001b[0;34m)\u001b[0m\u001b[0;34m)\u001b[0m\u001b[0;34m\u001b[0m\u001b[0;34m\u001b[0m\u001b[0m\n\u001b[0m\u001b[1;32m    169\u001b[0m         \u001b[0;32mfinally\u001b[0m\u001b[0;34m:\u001b[0m \u001b[0mself\u001b[0m\u001b[0;34m.\u001b[0m\u001b[0mnum_workers\u001b[0m \u001b[0;34m=\u001b[0m \u001b[0mw\u001b[0m\u001b[0;34m\u001b[0m\u001b[0;34m\u001b[0m\u001b[0m\n\u001b[1;32m    170\u001b[0m         \u001b[0;32mif\u001b[0m \u001b[0mdetach\u001b[0m\u001b[0;34m:\u001b[0m \u001b[0mx\u001b[0m\u001b[0;34m,\u001b[0m\u001b[0my\u001b[0m \u001b[0;34m=\u001b[0m \u001b[0mto_detach\u001b[0m\u001b[0;34m(\u001b[0m\u001b[0mx\u001b[0m\u001b[0;34m,\u001b[0m\u001b[0mcpu\u001b[0m\u001b[0;34m=\u001b[0m\u001b[0mcpu\u001b[0m\u001b[0;34m)\u001b[0m\u001b[0;34m,\u001b[0m\u001b[0mto_detach\u001b[0m\u001b[0;34m(\u001b[0m\u001b[0my\u001b[0m\u001b[0;34m,\u001b[0m\u001b[0mcpu\u001b[0m\u001b[0;34m=\u001b[0m\u001b[0mcpu\u001b[0m\u001b[0;34m)\u001b[0m\u001b[0;34m\u001b[0m\u001b[0;34m\u001b[0m\u001b[0m\n",
      "\u001b[0;32m~/anaconda3/envs/fastai_updated/lib/python3.7/site-packages/fastai/basic_data.py\u001b[0m in \u001b[0;36m__iter__\u001b[0;34m(self)\u001b[0m\n\u001b[1;32m     73\u001b[0m     \u001b[0;32mdef\u001b[0m \u001b[0m__iter__\u001b[0m\u001b[0;34m(\u001b[0m\u001b[0mself\u001b[0m\u001b[0;34m)\u001b[0m\u001b[0;34m:\u001b[0m\u001b[0;34m\u001b[0m\u001b[0;34m\u001b[0m\u001b[0m\n\u001b[1;32m     74\u001b[0m         \u001b[0;34m\"Process and returns items from `DataLoader`.\"\u001b[0m\u001b[0;34m\u001b[0m\u001b[0;34m\u001b[0m\u001b[0m\n\u001b[0;32m---> 75\u001b[0;31m         \u001b[0;32mfor\u001b[0m \u001b[0mb\u001b[0m \u001b[0;32min\u001b[0m \u001b[0mself\u001b[0m\u001b[0;34m.\u001b[0m\u001b[0mdl\u001b[0m\u001b[0;34m:\u001b[0m \u001b[0;32myield\u001b[0m \u001b[0mself\u001b[0m\u001b[0;34m.\u001b[0m\u001b[0mproc_batch\u001b[0m\u001b[0;34m(\u001b[0m\u001b[0mb\u001b[0m\u001b[0;34m)\u001b[0m\u001b[0;34m\u001b[0m\u001b[0;34m\u001b[0m\u001b[0m\n\u001b[0m\u001b[1;32m     76\u001b[0m \u001b[0;34m\u001b[0m\u001b[0m\n\u001b[1;32m     77\u001b[0m     \u001b[0;34m@\u001b[0m\u001b[0mclassmethod\u001b[0m\u001b[0;34m\u001b[0m\u001b[0;34m\u001b[0m\u001b[0m\n",
      "\u001b[0;32m~/anaconda3/envs/fastai_updated/lib/python3.7/site-packages/torch/utils/data/dataloader.py\u001b[0m in \u001b[0;36m__next__\u001b[0;34m(self)\u001b[0m\n\u001b[1;32m    629\u001b[0m         \u001b[0;32mwhile\u001b[0m \u001b[0;32mTrue\u001b[0m\u001b[0;34m:\u001b[0m\u001b[0;34m\u001b[0m\u001b[0;34m\u001b[0m\u001b[0m\n\u001b[1;32m    630\u001b[0m             \u001b[0;32massert\u001b[0m \u001b[0;34m(\u001b[0m\u001b[0;32mnot\u001b[0m \u001b[0mself\u001b[0m\u001b[0;34m.\u001b[0m\u001b[0mshutdown\u001b[0m \u001b[0;32mand\u001b[0m \u001b[0mself\u001b[0m\u001b[0;34m.\u001b[0m\u001b[0mbatches_outstanding\u001b[0m \u001b[0;34m>\u001b[0m \u001b[0;36m0\u001b[0m\u001b[0;34m)\u001b[0m\u001b[0;34m\u001b[0m\u001b[0;34m\u001b[0m\u001b[0m\n\u001b[0;32m--> 631\u001b[0;31m             \u001b[0midx\u001b[0m\u001b[0;34m,\u001b[0m \u001b[0mbatch\u001b[0m \u001b[0;34m=\u001b[0m \u001b[0mself\u001b[0m\u001b[0;34m.\u001b[0m\u001b[0m_get_batch\u001b[0m\u001b[0;34m(\u001b[0m\u001b[0;34m)\u001b[0m\u001b[0;34m\u001b[0m\u001b[0;34m\u001b[0m\u001b[0m\n\u001b[0m\u001b[1;32m    632\u001b[0m             \u001b[0mself\u001b[0m\u001b[0;34m.\u001b[0m\u001b[0mbatches_outstanding\u001b[0m \u001b[0;34m-=\u001b[0m \u001b[0;36m1\u001b[0m\u001b[0;34m\u001b[0m\u001b[0;34m\u001b[0m\u001b[0m\n\u001b[1;32m    633\u001b[0m             \u001b[0;32mif\u001b[0m \u001b[0midx\u001b[0m \u001b[0;34m!=\u001b[0m \u001b[0mself\u001b[0m\u001b[0;34m.\u001b[0m\u001b[0mrcvd_idx\u001b[0m\u001b[0;34m:\u001b[0m\u001b[0;34m\u001b[0m\u001b[0;34m\u001b[0m\u001b[0m\n",
      "\u001b[0;32m~/anaconda3/envs/fastai_updated/lib/python3.7/site-packages/torch/utils/data/dataloader.py\u001b[0m in \u001b[0;36m_get_batch\u001b[0;34m(self)\u001b[0m\n\u001b[1;32m    599\u001b[0m             \u001b[0;32mwhile\u001b[0m \u001b[0mself\u001b[0m\u001b[0;34m.\u001b[0m\u001b[0mpin_memory_thread\u001b[0m\u001b[0;34m.\u001b[0m\u001b[0mis_alive\u001b[0m\u001b[0;34m(\u001b[0m\u001b[0;34m)\u001b[0m\u001b[0;34m:\u001b[0m\u001b[0;34m\u001b[0m\u001b[0;34m\u001b[0m\u001b[0m\n\u001b[1;32m    600\u001b[0m                 \u001b[0;32mtry\u001b[0m\u001b[0;34m:\u001b[0m\u001b[0;34m\u001b[0m\u001b[0;34m\u001b[0m\u001b[0m\n\u001b[0;32m--> 601\u001b[0;31m                     \u001b[0;32mreturn\u001b[0m \u001b[0mself\u001b[0m\u001b[0;34m.\u001b[0m\u001b[0mdata_queue\u001b[0m\u001b[0;34m.\u001b[0m\u001b[0mget\u001b[0m\u001b[0;34m(\u001b[0m\u001b[0mtimeout\u001b[0m\u001b[0;34m=\u001b[0m\u001b[0mMP_STATUS_CHECK_INTERVAL\u001b[0m\u001b[0;34m)\u001b[0m\u001b[0;34m\u001b[0m\u001b[0;34m\u001b[0m\u001b[0m\n\u001b[0m\u001b[1;32m    602\u001b[0m                 \u001b[0;32mexcept\u001b[0m \u001b[0mqueue\u001b[0m\u001b[0;34m.\u001b[0m\u001b[0mEmpty\u001b[0m\u001b[0;34m:\u001b[0m\u001b[0;34m\u001b[0m\u001b[0;34m\u001b[0m\u001b[0m\n\u001b[1;32m    603\u001b[0m                     \u001b[0;32mcontinue\u001b[0m\u001b[0;34m\u001b[0m\u001b[0;34m\u001b[0m\u001b[0m\n",
      "\u001b[0;32m~/anaconda3/envs/fastai_updated/lib/python3.7/queue.py\u001b[0m in \u001b[0;36mget\u001b[0;34m(self, block, timeout)\u001b[0m\n\u001b[1;32m    177\u001b[0m                     \u001b[0;32mif\u001b[0m \u001b[0mremaining\u001b[0m \u001b[0;34m<=\u001b[0m \u001b[0;36m0.0\u001b[0m\u001b[0;34m:\u001b[0m\u001b[0;34m\u001b[0m\u001b[0;34m\u001b[0m\u001b[0m\n\u001b[1;32m    178\u001b[0m                         \u001b[0;32mraise\u001b[0m \u001b[0mEmpty\u001b[0m\u001b[0;34m\u001b[0m\u001b[0;34m\u001b[0m\u001b[0m\n\u001b[0;32m--> 179\u001b[0;31m                     \u001b[0mself\u001b[0m\u001b[0;34m.\u001b[0m\u001b[0mnot_empty\u001b[0m\u001b[0;34m.\u001b[0m\u001b[0mwait\u001b[0m\u001b[0;34m(\u001b[0m\u001b[0mremaining\u001b[0m\u001b[0;34m)\u001b[0m\u001b[0;34m\u001b[0m\u001b[0;34m\u001b[0m\u001b[0m\n\u001b[0m\u001b[1;32m    180\u001b[0m             \u001b[0mitem\u001b[0m \u001b[0;34m=\u001b[0m \u001b[0mself\u001b[0m\u001b[0;34m.\u001b[0m\u001b[0m_get\u001b[0m\u001b[0;34m(\u001b[0m\u001b[0;34m)\u001b[0m\u001b[0;34m\u001b[0m\u001b[0;34m\u001b[0m\u001b[0m\n\u001b[1;32m    181\u001b[0m             \u001b[0mself\u001b[0m\u001b[0;34m.\u001b[0m\u001b[0mnot_full\u001b[0m\u001b[0;34m.\u001b[0m\u001b[0mnotify\u001b[0m\u001b[0;34m(\u001b[0m\u001b[0;34m)\u001b[0m\u001b[0;34m\u001b[0m\u001b[0;34m\u001b[0m\u001b[0m\n",
      "\u001b[0;32m~/anaconda3/envs/fastai_updated/lib/python3.7/threading.py\u001b[0m in \u001b[0;36mwait\u001b[0;34m(self, timeout)\u001b[0m\n\u001b[1;32m    298\u001b[0m             \u001b[0;32melse\u001b[0m\u001b[0;34m:\u001b[0m\u001b[0;34m\u001b[0m\u001b[0;34m\u001b[0m\u001b[0m\n\u001b[1;32m    299\u001b[0m                 \u001b[0;32mif\u001b[0m \u001b[0mtimeout\u001b[0m \u001b[0;34m>\u001b[0m \u001b[0;36m0\u001b[0m\u001b[0;34m:\u001b[0m\u001b[0;34m\u001b[0m\u001b[0;34m\u001b[0m\u001b[0m\n\u001b[0;32m--> 300\u001b[0;31m                     \u001b[0mgotit\u001b[0m \u001b[0;34m=\u001b[0m \u001b[0mwaiter\u001b[0m\u001b[0;34m.\u001b[0m\u001b[0macquire\u001b[0m\u001b[0;34m(\u001b[0m\u001b[0;32mTrue\u001b[0m\u001b[0;34m,\u001b[0m \u001b[0mtimeout\u001b[0m\u001b[0;34m)\u001b[0m\u001b[0;34m\u001b[0m\u001b[0;34m\u001b[0m\u001b[0m\n\u001b[0m\u001b[1;32m    301\u001b[0m                 \u001b[0;32melse\u001b[0m\u001b[0;34m:\u001b[0m\u001b[0;34m\u001b[0m\u001b[0;34m\u001b[0m\u001b[0m\n\u001b[1;32m    302\u001b[0m                     \u001b[0mgotit\u001b[0m \u001b[0;34m=\u001b[0m \u001b[0mwaiter\u001b[0m\u001b[0;34m.\u001b[0m\u001b[0macquire\u001b[0m\u001b[0;34m(\u001b[0m\u001b[0;32mFalse\u001b[0m\u001b[0;34m)\u001b[0m\u001b[0;34m\u001b[0m\u001b[0;34m\u001b[0m\u001b[0m\n",
      "\u001b[0;31mKeyboardInterrupt\u001b[0m: "
     ]
    }
   ],
   "source": [
    "data_bunch.show_batch(rows=2, figsize=(6,6))"
   ]
  },
  {
   "cell_type": "code",
   "execution_count": null,
   "metadata": {},
   "outputs": [],
   "source": [
    "data_bunch.show_batch(rows=2, figsize=(6,6), ds_type=DatasetType.Valid)"
   ]
  },
  {
   "cell_type": "markdown",
   "metadata": {},
   "source": [
    "### create learner with se-resnext50 (the pytorch model is already pretrained on imagenet)"
   ]
  },
  {
   "cell_type": "code",
   "execution_count": 1,
   "metadata": {
    "scrolled": true
   },
   "outputs": [
    {
     "ename": "ModuleNotFoundError",
     "evalue": "No module named 'pretrainedmodels'",
     "output_type": "error",
     "traceback": [
      "\u001b[1;31m---------------------------------------------------------------------------\u001b[0m",
      "\u001b[1;31mModuleNotFoundError\u001b[0m                       Traceback (most recent call last)",
      "\u001b[1;32m<ipython-input-1-0e2116fc8906>\u001b[0m in \u001b[0;36m<module>\u001b[1;34m\u001b[0m\n\u001b[1;32m----> 1\u001b[1;33m \u001b[1;32mimport\u001b[0m \u001b[0mpretrainedmodels\u001b[0m\u001b[1;33m\u001b[0m\u001b[1;33m\u001b[0m\u001b[0m\n\u001b[0m",
      "\u001b[1;31mModuleNotFoundError\u001b[0m: No module named 'pretrainedmodels'"
     ]
    }
   ],
   "source": [
    "import pretrainedmodels"
   ]
  },
  {
   "cell_type": "code",
   "execution_count": 2,
   "metadata": {},
   "outputs": [
    {
     "ename": "NameError",
     "evalue": "name 'pretrainedmodels' is not defined",
     "output_type": "error",
     "traceback": [
      "\u001b[1;31m---------------------------------------------------------------------------\u001b[0m",
      "\u001b[1;31mNameError\u001b[0m                                 Traceback (most recent call last)",
      "\u001b[1;32m<ipython-input-2-67b4e602e797>\u001b[0m in \u001b[0;36m<module>\u001b[1;34m\u001b[0m\n\u001b[1;32m----> 1\u001b[1;33m \u001b[0mprint\u001b[0m\u001b[1;33m(\u001b[0m\u001b[0mpretrainedmodels\u001b[0m\u001b[1;33m.\u001b[0m\u001b[0mmodel_names\u001b[0m\u001b[1;33m)\u001b[0m\u001b[1;33m\u001b[0m\u001b[1;33m\u001b[0m\u001b[0m\n\u001b[0m",
      "\u001b[1;31mNameError\u001b[0m: name 'pretrainedmodels' is not defined"
     ]
    }
   ],
   "source": [
    "print(pretrainedmodels.model_names)"
   ]
  },
  {
   "cell_type": "code",
   "execution_count": null,
   "metadata": {},
   "outputs": [],
   "source": [
    "model_name = 'se_resnext50_32x4d' # 'se_resnet50'\n",
    "model_cadene = pretrainedmodels.__dict__[model_name](num_classes=1000, pretrained='imagenet')"
   ]
  },
  {
   "cell_type": "code",
   "execution_count": null,
   "metadata": {},
   "outputs": [],
   "source": [
    "#custom_head = create_head(?)"
   ]
  },
  {
   "cell_type": "code",
   "execution_count": null,
   "metadata": {},
   "outputs": [],
   "source": [
    "custom_head = nn.Sequential(AdaptiveConcatPool2d(), Flatten(), nn.BatchNorm1d(4096), \n",
    "                            nn.Linear(in_features=4096, out_features=512), nn.ReLU(),\n",
    "                            nn.BatchNorm1d(512), nn.Linear(in_features=512, out_features=2),\n",
    "                            nn.LogSoftmax())\n",
    "se_resnext50 = nn.Sequential(*list(children(model_cadene))[:-2], custom_head3)"
   ]
  },
  {
   "cell_type": "code",
   "execution_count": 15,
   "metadata": {},
   "outputs": [],
   "source": [
    "learn = cnn_learner(data_bunch, se_resnext50, callback_fns=[ShowGraph])"
   ]
  },
  {
   "cell_type": "code",
   "execution_count": 16,
   "metadata": {},
   "outputs": [],
   "source": [
    "learn.metrics=[top_5_accuracy, accuracy]"
   ]
  },
  {
   "cell_type": "code",
   "execution_count": 17,
   "metadata": {},
   "outputs": [],
   "source": [
    "learn.freeze()"
   ]
  },
  {
   "cell_type": "code",
   "execution_count": 18,
   "metadata": {},
   "outputs": [],
   "source": [
    "apply_init(learn.model[1], nn.init.kaiming_normal_)"
   ]
  },
  {
   "cell_type": "code",
   "execution_count": null,
   "metadata": {},
   "outputs": [
    {
     "data": {
      "text/html": [
       "\n",
       "    <div>\n",
       "        <style>\n",
       "            /* Turns off some styling */\n",
       "            progress {\n",
       "                /* gets rid of default border in Firefox and Opera. */\n",
       "                border: none;\n",
       "                /* Needs to be in here for Safari polyfill so background images work as expected. */\n",
       "                background-size: auto;\n",
       "            }\n",
       "            .progress-bar-interrupted, .progress-bar-interrupted::-webkit-progress-bar {\n",
       "                background: #F44336;\n",
       "            }\n",
       "        </style>\n",
       "      <progress value='0' class='' max='1', style='width:300px; height:20px; vertical-align: middle;'></progress>\n",
       "      0.00% [0/1 00:00<00:00]\n",
       "    </div>\n",
       "    \n",
       "<table border=\"1\" class=\"dataframe\">\n",
       "  <thead>\n",
       "    <tr style=\"text-align: left;\">\n",
       "      <th>epoch</th>\n",
       "      <th>train_loss</th>\n",
       "      <th>valid_loss</th>\n",
       "      <th>top_5_accuracy</th>\n",
       "      <th>accuracy</th>\n",
       "      <th>time</th>\n",
       "    </tr>\n",
       "  </thead>\n",
       "  <tbody>\n",
       "  </tbody>\n",
       "</table><p>\n",
       "\n",
       "    <div>\n",
       "        <style>\n",
       "            /* Turns off some styling */\n",
       "            progress {\n",
       "                /* gets rid of default border in Firefox and Opera. */\n",
       "                border: none;\n",
       "                /* Needs to be in here for Safari polyfill so background images work as expected. */\n",
       "                background-size: auto;\n",
       "            }\n",
       "            .progress-bar-interrupted, .progress-bar-interrupted::-webkit-progress-bar {\n",
       "                background: #F44336;\n",
       "            }\n",
       "        </style>\n",
       "      <progress value='0' class='' max='9705', style='width:300px; height:20px; vertical-align: middle;'></progress>\n",
       "      0.00% [0/9705 00:00<00:00]\n",
       "    </div>\n",
       "    "
      ],
      "text/plain": [
       "<IPython.core.display.HTML object>"
      ]
     },
     "metadata": {},
     "output_type": "display_data"
    }
   ],
   "source": [
    "learn.lr_find()"
   ]
  },
  {
   "cell_type": "code",
   "execution_count": 24,
   "metadata": {},
   "outputs": [
    {
     "data": {
      "image/png": "[encoded data removed]",
      "text/plain": [
       "<Figure size 432x288 with 1 Axes>"
      ]
     },
     "metadata": {
      "needs_background": "light"
     },
     "output_type": "display_data"
    }
   ],
   "source": [
    "learn.recorder.plot(50)"
   ]
  },
  {
   "cell_type": "code",
   "execution_count": 19,
   "metadata": {},
   "outputs": [],
   "source": [
    "lr = 1e-2"
   ]
  },
  {
   "cell_type": "code",
   "execution_count": null,
   "metadata": {},
   "outputs": [
    {
     "data": {
      "text/html": [
       "\n",
       "    <div>\n",
       "        <style>\n",
       "            /* Turns off some styling */\n",
       "            progress {\n",
       "                /* gets rid of default border in Firefox and Opera. */\n",
       "                border: none;\n",
       "                /* Needs to be in here for Safari polyfill so background images work as expected. */\n",
       "                background-size: auto;\n",
       "            }\n",
       "            .progress-bar-interrupted, .progress-bar-interrupted::-webkit-progress-bar {\n",
       "                background: #F44336;\n",
       "            }\n",
       "        </style>\n",
       "      <progress value='0' class='' max='6', style='width:300px; height:20px; vertical-align: middle;'></progress>\n",
       "      0.00% [0/6 00:00<00:00]\n",
       "    </div>\n",
       "    \n",
       "<table border=\"1\" class=\"dataframe\">\n",
       "  <thead>\n",
       "    <tr style=\"text-align: left;\">\n",
       "      <th>epoch</th>\n",
       "      <th>train_loss</th>\n",
       "      <th>valid_loss</th>\n",
       "      <th>top_5_accuracy</th>\n",
       "      <th>accuracy</th>\n",
       "      <th>time</th>\n",
       "    </tr>\n",
       "  </thead>\n",
       "  <tbody>\n",
       "  </tbody>\n",
       "</table><p>\n",
       "\n",
       "    <div>\n",
       "        <style>\n",
       "            /* Turns off some styling */\n",
       "            progress {\n",
       "                /* gets rid of default border in Firefox and Opera. */\n",
       "                border: none;\n",
       "                /* Needs to be in here for Safari polyfill so background images work as expected. */\n",
       "                background-size: auto;\n",
       "            }\n",
       "            .progress-bar-interrupted, .progress-bar-interrupted::-webkit-progress-bar {\n",
       "                background: #F44336;\n",
       "            }\n",
       "        </style>\n",
       "      <progress value='0' class='' max='9705', style='width:300px; height:20px; vertical-align: middle;'></progress>\n",
       "      0.00% [0/9705 00:00<00:00]\n",
       "    </div>\n",
       "    "
      ],
      "text/plain": [
       "<IPython.core.display.HTML object>"
      ]
     },
     "metadata": {},
     "output_type": "display_data"
    }
   ],
   "source": [
    "learn.fit_one_cycle(6, max_lr=slice(lr), div_factor=25)"
   ]
  },
  {
   "cell_type": "code",
   "execution_count": null,
   "metadata": {},
   "outputs": [],
   "source": [
    "#learn.save('164px_res50_frozen');"
   ]
  },
  {
   "cell_type": "code",
   "execution_count": 18,
   "metadata": {},
   "outputs": [],
   "source": [
    "learn.load('164px_res50_frozen');"
   ]
  },
  {
   "cell_type": "code",
   "execution_count": 19,
   "metadata": {},
   "outputs": [],
   "source": [
    "learn.unfreeze()"
   ]
  },
  {
   "cell_type": "code",
   "execution_count": 19,
   "metadata": {},
   "outputs": [
    {
     "data": {
      "text/html": [],
      "text/plain": [
       "<IPython.core.display.HTML object>"
      ]
     },
     "metadata": {},
     "output_type": "display_data"
    },
    {
     "name": "stdout",
     "output_type": "stream",
     "text": [
      "LR Finder is complete, type {learner_name}.recorder.plot() to see the graph.\n"
     ]
    }
   ],
   "source": [
    "learn.lr_find()"
   ]
  },
  {
   "cell_type": "code",
   "execution_count": 20,
   "metadata": {},
   "outputs": [
    {
     "data": {
      "image/png": "[encoded data removed]",
      "text/plain": [
       "<Figure size 432x288 with 1 Axes>"
      ]
     },
     "metadata": {
      "needs_background": "light"
     },
     "output_type": "display_data"
    }
   ],
   "source": [
    "learn.recorder.plot()"
   ]
  },
  {
   "cell_type": "code",
   "execution_count": 20,
   "metadata": {},
   "outputs": [],
   "source": [
    "lr = 3e-4"
   ]
  },
  {
   "cell_type": "code",
   "execution_count": 21,
   "metadata": {},
   "outputs": [
    {
     "data": {
      "text/plain": [
       "array([5.000000e-06, 3.872983e-05, 3.000000e-04])"
      ]
     },
     "execution_count": 21,
     "metadata": {},
     "output_type": "execute_result"
    }
   ],
   "source": [
    "lrs = learn.lr_range(slice(lr/60,lr))\n",
    "lrs"
   ]
  },
  {
   "cell_type": "code",
   "execution_count": 22,
   "metadata": {},
   "outputs": [
    {
     "data": {
      "text/html": [
       "<table border=\"1\" class=\"dataframe\">\n",
       "  <thead>\n",
       "    <tr style=\"text-align: left;\">\n",
       "      <th>epoch</th>\n",
       "      <th>train_loss</th>\n",
       "      <th>valid_loss</th>\n",
       "      <th>top_5_accuracy</th>\n",
       "      <th>accuracy</th>\n",
       "      <th>time</th>\n",
       "    </tr>\n",
       "  </thead>\n",
       "  <tbody>\n",
       "    <tr>\n",
       "      <td>0</td>\n",
       "      <td>1.032979</td>\n",
       "      <td>1.193163</td>\n",
       "      <td>0.904220</td>\n",
       "      <td>0.711900</td>\n",
       "      <td>1:55:44</td>\n",
       "    </tr>\n",
       "    <tr>\n",
       "      <td>1</td>\n",
       "      <td>1.079330</td>\n",
       "      <td>1.190444</td>\n",
       "      <td>0.902780</td>\n",
       "      <td>0.713420</td>\n",
       "      <td>1:55:25</td>\n",
       "    </tr>\n",
       "    <tr>\n",
       "      <td>2</td>\n",
       "      <td>0.944056</td>\n",
       "      <td>1.149293</td>\n",
       "      <td>0.908180</td>\n",
       "      <td>0.721860</td>\n",
       "      <td>1:55:23</td>\n",
       "    </tr>\n",
       "    <tr>\n",
       "      <td>3</td>\n",
       "      <td>0.845834</td>\n",
       "      <td>1.115926</td>\n",
       "      <td>0.912320</td>\n",
       "      <td>0.732440</td>\n",
       "      <td>1:55:16</td>\n",
       "    </tr>\n",
       "    <tr>\n",
       "      <td>4</td>\n",
       "      <td>0.766908</td>\n",
       "      <td>1.109353</td>\n",
       "      <td>0.913600</td>\n",
       "      <td>0.736340</td>\n",
       "      <td>1:55:17</td>\n",
       "    </tr>\n",
       "  </tbody>\n",
       "</table>"
      ],
      "text/plain": [
       "<IPython.core.display.HTML object>"
      ]
     },
     "metadata": {},
     "output_type": "display_data"
    },
    {
     "data": {
      "image/png": "[encoded data removed]",
      "text/plain": [
       "<Figure size 432x288 with 1 Axes>"
      ]
     },
     "metadata": {},
     "output_type": "display_data"
    }
   ],
   "source": [
    "learn.fit_one_cycle(5, max_lr=lrs, div_factor=50)"
   ]
  },
  {
   "cell_type": "code",
   "execution_count": 23,
   "metadata": {},
   "outputs": [],
   "source": [
    "learn.save('164px_res50');"
   ]
  },
  {
   "cell_type": "markdown",
   "metadata": {},
   "source": [
    "### scale up image size to 255"
   ]
  },
  {
   "cell_type": "code",
   "execution_count": 14,
   "metadata": {},
   "outputs": [],
   "source": [
    "data_bunch = ImageDataBunch.from_folder(path, ds_tfms=get_transforms(), size=255, num_workers=8, bs=58) \\\n",
    "                           .normalize(imagenet_stats)"
   ]
  },
  {
   "cell_type": "code",
   "execution_count": 15,
   "metadata": {},
   "outputs": [],
   "source": [
    "learn = cnn_learner(data_bunch, models.resnet50, pretrained=True, callback_fns=[ShowGraph])"
   ]
  },
  {
   "cell_type": "code",
   "execution_count": 16,
   "metadata": {},
   "outputs": [],
   "source": [
    "learn.metrics=[top_5_accuracy, accuracy]"
   ]
  },
  {
   "cell_type": "code",
   "execution_count": 17,
   "metadata": {},
   "outputs": [],
   "source": [
    "learn.freeze()"
   ]
  },
  {
   "cell_type": "code",
   "execution_count": 18,
   "metadata": {},
   "outputs": [],
   "source": [
    "learn.load('164px_res50');"
   ]
  },
  {
   "cell_type": "code",
   "execution_count": 19,
   "metadata": {},
   "outputs": [
    {
     "data": {
      "text/html": [],
      "text/plain": [
       "<IPython.core.display.HTML object>"
      ]
     },
     "metadata": {},
     "output_type": "display_data"
    },
    {
     "name": "stdout",
     "output_type": "stream",
     "text": [
      "LR Finder is complete, type {learner_name}.recorder.plot() to see the graph.\n"
     ]
    }
   ],
   "source": [
    "learn.lr_find()"
   ]
  },
  {
   "cell_type": "code",
   "execution_count": 20,
   "metadata": {},
   "outputs": [
    {
     "data": {
      "image/png": "[encoded data removed]",
      "text/plain": [
       "<Figure size 432x288 with 1 Axes>"
      ]
     },
     "metadata": {
      "needs_background": "light"
     },
     "output_type": "display_data"
    }
   ],
   "source": [
    "learn.recorder.plot()"
   ]
  },
  {
   "cell_type": "code",
   "execution_count": 21,
   "metadata": {},
   "outputs": [],
   "source": [
    "lr = 1e-2"
   ]
  },
  {
   "cell_type": "code",
   "execution_count": 22,
   "metadata": {},
   "outputs": [
    {
     "data": {
      "text/html": [
       "<table border=\"1\" class=\"dataframe\">\n",
       "  <thead>\n",
       "    <tr style=\"text-align: left;\">\n",
       "      <th>epoch</th>\n",
       "      <th>train_loss</th>\n",
       "      <th>valid_loss</th>\n",
       "      <th>top_5_accuracy</th>\n",
       "      <th>accuracy</th>\n",
       "      <th>time</th>\n",
       "    </tr>\n",
       "  </thead>\n",
       "  <tbody>\n",
       "    <tr>\n",
       "      <td>0</td>\n",
       "      <td>1.158917</td>\n",
       "      <td>1.298977</td>\n",
       "      <td>0.906700</td>\n",
       "      <td>0.715020</td>\n",
       "      <td>2:36:03</td>\n",
       "    </tr>\n",
       "    <tr>\n",
       "      <td>1</td>\n",
       "      <td>1.255340</td>\n",
       "      <td>1.331895</td>\n",
       "      <td>0.903760</td>\n",
       "      <td>0.707680</td>\n",
       "      <td>2:35:57</td>\n",
       "    </tr>\n",
       "    <tr>\n",
       "      <td>2</td>\n",
       "      <td>1.105724</td>\n",
       "      <td>1.224702</td>\n",
       "      <td>0.912420</td>\n",
       "      <td>0.726360</td>\n",
       "      <td>2:35:58</td>\n",
       "    </tr>\n",
       "    <tr>\n",
       "      <td>3</td>\n",
       "      <td>0.833184</td>\n",
       "      <td>1.085367</td>\n",
       "      <td>0.925460</td>\n",
       "      <td>0.753520</td>\n",
       "      <td>2:36:02</td>\n",
       "    </tr>\n",
       "    <tr>\n",
       "      <td>4</td>\n",
       "      <td>0.725418</td>\n",
       "      <td>1.013424</td>\n",
       "      <td>0.931440</td>\n",
       "      <td>0.767460</td>\n",
       "      <td>2:36:11</td>\n",
       "    </tr>\n",
       "  </tbody>\n",
       "</table>"
      ],
      "text/plain": [
       "<IPython.core.display.HTML object>"
      ]
     },
     "metadata": {},
     "output_type": "display_data"
    },
    {
     "data": {
      "image/png": "[encoded data removed]",
      "text/plain": [
       "<Figure size 432x288 with 1 Axes>"
      ]
     },
     "metadata": {},
     "output_type": "display_data"
    }
   ],
   "source": [
    "learn.fit_one_cycle(5, max_lr=slice(lr), div_factor=30)"
   ]
  },
  {
   "cell_type": "code",
   "execution_count": 23,
   "metadata": {},
   "outputs": [],
   "source": [
    "learn.save('255px_res50_frozen')"
   ]
  },
  {
   "cell_type": "code",
   "execution_count": 17,
   "metadata": {},
   "outputs": [
    {
     "data": {
      "text/plain": [
       "Learner(data=ImageDataBunch;\n",
       "\n",
       "Train: LabelList (1281167 items)\n",
       "x: ImageList\n",
       "Image (3, 255, 255),Image (3, 255, 255),Image (3, 255, 255),Image (3, 255, 255),Image (3, 255, 255)\n",
       "y: CategoryList\n",
       "n02093859,n02093859,n02093859,n02093859,n02093859\n",
       "Path: data/ILSVRC/Data/CLS-LOC;\n",
       "\n",
       "Valid: LabelList (50000 items)\n",
       "x: ImageList\n",
       "Image (3, 255, 255),Image (3, 255, 255),Image (3, 255, 255),Image (3, 255, 255),Image (3, 255, 255)\n",
       "y: CategoryList\n",
       "n02356798,n02356798,n02356798,n02356798,n02356798\n",
       "Path: data/ILSVRC/Data/CLS-LOC;\n",
       "\n",
       "Test: None, model=Sequential(\n",
       "  (0): Sequential(\n",
       "    (0): Conv2d(3, 64, kernel_size=(7, 7), stride=(2, 2), padding=(3, 3), bias=False)\n",
       "    (1): BatchNorm2d(64, eps=1e-05, momentum=0.1, affine=True, track_running_stats=True)\n",
       "    (2): ReLU(inplace)\n",
       "    (3): MaxPool2d(kernel_size=3, stride=2, padding=1, dilation=1, ceil_mode=False)\n",
       "    (4): Sequential(\n",
       "      (0): Bottleneck(\n",
       "        (conv1): Conv2d(64, 64, kernel_size=(1, 1), stride=(1, 1), bias=False)\n",
       "        (bn1): BatchNorm2d(64, eps=1e-05, momentum=0.1, affine=True, track_running_stats=True)\n",
       "        (conv2): Conv2d(64, 64, kernel_size=(3, 3), stride=(1, 1), padding=(1, 1), bias=False)\n",
       "        (bn2): BatchNorm2d(64, eps=1e-05, momentum=0.1, affine=True, track_running_stats=True)\n",
       "        (conv3): Conv2d(64, 256, kernel_size=(1, 1), stride=(1, 1), bias=False)\n",
       "        (bn3): BatchNorm2d(256, eps=1e-05, momentum=0.1, affine=True, track_running_stats=True)\n",
       "        (relu): ReLU(inplace)\n",
       "        (downsample): Sequential(\n",
       "          (0): Conv2d(64, 256, kernel_size=(1, 1), stride=(1, 1), bias=False)\n",
       "          (1): BatchNorm2d(256, eps=1e-05, momentum=0.1, affine=True, track_running_stats=True)\n",
       "        )\n",
       "      )\n",
       "      (1): Bottleneck(\n",
       "        (conv1): Conv2d(256, 64, kernel_size=(1, 1), stride=(1, 1), bias=False)\n",
       "        (bn1): BatchNorm2d(64, eps=1e-05, momentum=0.1, affine=True, track_running_stats=True)\n",
       "        (conv2): Conv2d(64, 64, kernel_size=(3, 3), stride=(1, 1), padding=(1, 1), bias=False)\n",
       "        (bn2): BatchNorm2d(64, eps=1e-05, momentum=0.1, affine=True, track_running_stats=True)\n",
       "        (conv3): Conv2d(64, 256, kernel_size=(1, 1), stride=(1, 1), bias=False)\n",
       "        (bn3): BatchNorm2d(256, eps=1e-05, momentum=0.1, affine=True, track_running_stats=True)\n",
       "        (relu): ReLU(inplace)\n",
       "      )\n",
       "      (2): Bottleneck(\n",
       "        (conv1): Conv2d(256, 64, kernel_size=(1, 1), stride=(1, 1), bias=False)\n",
       "        (bn1): BatchNorm2d(64, eps=1e-05, momentum=0.1, affine=True, track_running_stats=True)\n",
       "        (conv2): Conv2d(64, 64, kernel_size=(3, 3), stride=(1, 1), padding=(1, 1), bias=False)\n",
       "        (bn2): BatchNorm2d(64, eps=1e-05, momentum=0.1, affine=True, track_running_stats=True)\n",
       "        (conv3): Conv2d(64, 256, kernel_size=(1, 1), stride=(1, 1), bias=False)\n",
       "        (bn3): BatchNorm2d(256, eps=1e-05, momentum=0.1, affine=True, track_running_stats=True)\n",
       "        (relu): ReLU(inplace)\n",
       "      )\n",
       "    )\n",
       "    (5): Sequential(\n",
       "      (0): Bottleneck(\n",
       "        (conv1): Conv2d(256, 128, kernel_size=(1, 1), stride=(1, 1), bias=False)\n",
       "        (bn1): BatchNorm2d(128, eps=1e-05, momentum=0.1, affine=True, track_running_stats=True)\n",
       "        (conv2): Conv2d(128, 128, kernel_size=(3, 3), stride=(2, 2), padding=(1, 1), bias=False)\n",
       "        (bn2): BatchNorm2d(128, eps=1e-05, momentum=0.1, affine=True, track_running_stats=True)\n",
       "        (conv3): Conv2d(128, 512, kernel_size=(1, 1), stride=(1, 1), bias=False)\n",
       "        (bn3): BatchNorm2d(512, eps=1e-05, momentum=0.1, affine=True, track_running_stats=True)\n",
       "        (relu): ReLU(inplace)\n",
       "        (downsample): Sequential(\n",
       "          (0): Conv2d(256, 512, kernel_size=(1, 1), stride=(2, 2), bias=False)\n",
       "          (1): BatchNorm2d(512, eps=1e-05, momentum=0.1, affine=True, track_running_stats=True)\n",
       "        )\n",
       "      )\n",
       "      (1): Bottleneck(\n",
       "        (conv1): Conv2d(512, 128, kernel_size=(1, 1), stride=(1, 1), bias=False)\n",
       "        (bn1): BatchNorm2d(128, eps=1e-05, momentum=0.1, affine=True, track_running_stats=True)\n",
       "        (conv2): Conv2d(128, 128, kernel_size=(3, 3), stride=(1, 1), padding=(1, 1), bias=False)\n",
       "        (bn2): BatchNorm2d(128, eps=1e-05, momentum=0.1, affine=True, track_running_stats=True)\n",
       "        (conv3): Conv2d(128, 512, kernel_size=(1, 1), stride=(1, 1), bias=False)\n",
       "        (bn3): BatchNorm2d(512, eps=1e-05, momentum=0.1, affine=True, track_running_stats=True)\n",
       "        (relu): ReLU(inplace)\n",
       "      )\n",
       "      (2): Bottleneck(\n",
       "        (conv1): Conv2d(512, 128, kernel_size=(1, 1), stride=(1, 1), bias=False)\n",
       "        (bn1): BatchNorm2d(128, eps=1e-05, momentum=0.1, affine=True, track_running_stats=True)\n",
       "        (conv2): Conv2d(128, 128, kernel_size=(3, 3), stride=(1, 1), padding=(1, 1), bias=False)\n",
       "        (bn2): BatchNorm2d(128, eps=1e-05, momentum=0.1, affine=True, track_running_stats=True)\n",
       "        (conv3): Conv2d(128, 512, kernel_size=(1, 1), stride=(1, 1), bias=False)\n",
       "        (bn3): BatchNorm2d(512, eps=1e-05, momentum=0.1, affine=True, track_running_stats=True)\n",
       "        (relu): ReLU(inplace)\n",
       "      )\n",
       "      (3): Bottleneck(\n",
       "        (conv1): Conv2d(512, 128, kernel_size=(1, 1), stride=(1, 1), bias=False)\n",
       "        (bn1): BatchNorm2d(128, eps=1e-05, momentum=0.1, affine=True, track_running_stats=True)\n",
       "        (conv2): Conv2d(128, 128, kernel_size=(3, 3), stride=(1, 1), padding=(1, 1), bias=False)\n",
       "        (bn2): BatchNorm2d(128, eps=1e-05, momentum=0.1, affine=True, track_running_stats=True)\n",
       "        (conv3): Conv2d(128, 512, kernel_size=(1, 1), stride=(1, 1), bias=False)\n",
       "        (bn3): BatchNorm2d(512, eps=1e-05, momentum=0.1, affine=True, track_running_stats=True)\n",
       "        (relu): ReLU(inplace)\n",
       "      )\n",
       "    )\n",
       "    (6): Sequential(\n",
       "      (0): Bottleneck(\n",
       "        (conv1): Conv2d(512, 256, kernel_size=(1, 1), stride=(1, 1), bias=False)\n",
       "        (bn1): BatchNorm2d(256, eps=1e-05, momentum=0.1, affine=True, track_running_stats=True)\n",
       "        (conv2): Conv2d(256, 256, kernel_size=(3, 3), stride=(2, 2), padding=(1, 1), bias=False)\n",
       "        (bn2): BatchNorm2d(256, eps=1e-05, momentum=0.1, affine=True, track_running_stats=True)\n",
       "        (conv3): Conv2d(256, 1024, kernel_size=(1, 1), stride=(1, 1), bias=False)\n",
       "        (bn3): BatchNorm2d(1024, eps=1e-05, momentum=0.1, affine=True, track_running_stats=True)\n",
       "        (relu): ReLU(inplace)\n",
       "        (downsample): Sequential(\n",
       "          (0): Conv2d(512, 1024, kernel_size=(1, 1), stride=(2, 2), bias=False)\n",
       "          (1): BatchNorm2d(1024, eps=1e-05, momentum=0.1, affine=True, track_running_stats=True)\n",
       "        )\n",
       "      )\n",
       "      (1): Bottleneck(\n",
       "        (conv1): Conv2d(1024, 256, kernel_size=(1, 1), stride=(1, 1), bias=False)\n",
       "        (bn1): BatchNorm2d(256, eps=1e-05, momentum=0.1, affine=True, track_running_stats=True)\n",
       "        (conv2): Conv2d(256, 256, kernel_size=(3, 3), stride=(1, 1), padding=(1, 1), bias=False)\n",
       "        (bn2): BatchNorm2d(256, eps=1e-05, momentum=0.1, affine=True, track_running_stats=True)\n",
       "        (conv3): Conv2d(256, 1024, kernel_size=(1, 1), stride=(1, 1), bias=False)\n",
       "        (bn3): BatchNorm2d(1024, eps=1e-05, momentum=0.1, affine=True, track_running_stats=True)\n",
       "        (relu): ReLU(inplace)\n",
       "      )\n",
       "      (2): Bottleneck(\n",
       "        (conv1): Conv2d(1024, 256, kernel_size=(1, 1), stride=(1, 1), bias=False)\n",
       "        (bn1): BatchNorm2d(256, eps=1e-05, momentum=0.1, affine=True, track_running_stats=True)\n",
       "        (conv2): Conv2d(256, 256, kernel_size=(3, 3), stride=(1, 1), padding=(1, 1), bias=False)\n",
       "        (bn2): BatchNorm2d(256, eps=1e-05, momentum=0.1, affine=True, track_running_stats=True)\n",
       "        (conv3): Conv2d(256, 1024, kernel_size=(1, 1), stride=(1, 1), bias=False)\n",
       "        (bn3): BatchNorm2d(1024, eps=1e-05, momentum=0.1, affine=True, track_running_stats=True)\n",
       "        (relu): ReLU(inplace)\n",
       "      )\n",
       "      (3): Bottleneck(\n",
       "        (conv1): Conv2d(1024, 256, kernel_size=(1, 1), stride=(1, 1), bias=False)\n",
       "        (bn1): BatchNorm2d(256, eps=1e-05, momentum=0.1, affine=True, track_running_stats=True)\n",
       "        (conv2): Conv2d(256, 256, kernel_size=(3, 3), stride=(1, 1), padding=(1, 1), bias=False)\n",
       "        (bn2): BatchNorm2d(256, eps=1e-05, momentum=0.1, affine=True, track_running_stats=True)\n",
       "        (conv3): Conv2d(256, 1024, kernel_size=(1, 1), stride=(1, 1), bias=False)\n",
       "        (bn3): BatchNorm2d(1024, eps=1e-05, momentum=0.1, affine=True, track_running_stats=True)\n",
       "        (relu): ReLU(inplace)\n",
       "      )\n",
       "      (4): Bottleneck(\n",
       "        (conv1): Conv2d(1024, 256, kernel_size=(1, 1), stride=(1, 1), bias=False)\n",
       "        (bn1): BatchNorm2d(256, eps=1e-05, momentum=0.1, affine=True, track_running_stats=True)\n",
       "        (conv2): Conv2d(256, 256, kernel_size=(3, 3), stride=(1, 1), padding=(1, 1), bias=False)\n",
       "        (bn2): BatchNorm2d(256, eps=1e-05, momentum=0.1, affine=True, track_running_stats=True)\n",
       "        (conv3): Conv2d(256, 1024, kernel_size=(1, 1), stride=(1, 1), bias=False)\n",
       "        (bn3): BatchNorm2d(1024, eps=1e-05, momentum=0.1, affine=True, track_running_stats=True)\n",
       "        (relu): ReLU(inplace)\n",
       "      )\n",
       "      (5): Bottleneck(\n",
       "        (conv1): Conv2d(1024, 256, kernel_size=(1, 1), stride=(1, 1), bias=False)\n",
       "        (bn1): BatchNorm2d(256, eps=1e-05, momentum=0.1, affine=True, track_running_stats=True)\n",
       "        (conv2): Conv2d(256, 256, kernel_size=(3, 3), stride=(1, 1), padding=(1, 1), bias=False)\n",
       "        (bn2): BatchNorm2d(256, eps=1e-05, momentum=0.1, affine=True, track_running_stats=True)\n",
       "        (conv3): Conv2d(256, 1024, kernel_size=(1, 1), stride=(1, 1), bias=False)\n",
       "        (bn3): BatchNorm2d(1024, eps=1e-05, momentum=0.1, affine=True, track_running_stats=True)\n",
       "        (relu): ReLU(inplace)\n",
       "      )\n",
       "    )\n",
       "    (7): Sequential(\n",
       "      (0): Bottleneck(\n",
       "        (conv1): Conv2d(1024, 512, kernel_size=(1, 1), stride=(1, 1), bias=False)\n",
       "        (bn1): BatchNorm2d(512, eps=1e-05, momentum=0.1, affine=True, track_running_stats=True)\n",
       "        (conv2): Conv2d(512, 512, kernel_size=(3, 3), stride=(2, 2), padding=(1, 1), bias=False)\n",
       "        (bn2): BatchNorm2d(512, eps=1e-05, momentum=0.1, affine=True, track_running_stats=True)\n",
       "        (conv3): Conv2d(512, 2048, kernel_size=(1, 1), stride=(1, 1), bias=False)\n",
       "        (bn3): BatchNorm2d(2048, eps=1e-05, momentum=0.1, affine=True, track_running_stats=True)\n",
       "        (relu): ReLU(inplace)\n",
       "        (downsample): Sequential(\n",
       "          (0): Conv2d(1024, 2048, kernel_size=(1, 1), stride=(2, 2), bias=False)\n",
       "          (1): BatchNorm2d(2048, eps=1e-05, momentum=0.1, affine=True, track_running_stats=True)\n",
       "        )\n",
       "      )\n",
       "      (1): Bottleneck(\n",
       "        (conv1): Conv2d(2048, 512, kernel_size=(1, 1), stride=(1, 1), bias=False)\n",
       "        (bn1): BatchNorm2d(512, eps=1e-05, momentum=0.1, affine=True, track_running_stats=True)\n",
       "        (conv2): Conv2d(512, 512, kernel_size=(3, 3), stride=(1, 1), padding=(1, 1), bias=False)\n",
       "        (bn2): BatchNorm2d(512, eps=1e-05, momentum=0.1, affine=True, track_running_stats=True)\n",
       "        (conv3): Conv2d(512, 2048, kernel_size=(1, 1), stride=(1, 1), bias=False)\n",
       "        (bn3): BatchNorm2d(2048, eps=1e-05, momentum=0.1, affine=True, track_running_stats=True)\n",
       "        (relu): ReLU(inplace)\n",
       "      )\n",
       "      (2): Bottleneck(\n",
       "        (conv1): Conv2d(2048, 512, kernel_size=(1, 1), stride=(1, 1), bias=False)\n",
       "        (bn1): BatchNorm2d(512, eps=1e-05, momentum=0.1, affine=True, track_running_stats=True)\n",
       "        (conv2): Conv2d(512, 512, kernel_size=(3, 3), stride=(1, 1), padding=(1, 1), bias=False)\n",
       "        (bn2): BatchNorm2d(512, eps=1e-05, momentum=0.1, affine=True, track_running_stats=True)\n",
       "        (conv3): Conv2d(512, 2048, kernel_size=(1, 1), stride=(1, 1), bias=False)\n",
       "        (bn3): BatchNorm2d(2048, eps=1e-05, momentum=0.1, affine=True, track_running_stats=True)\n",
       "        (relu): ReLU(inplace)\n",
       "      )\n",
       "    )\n",
       "  )\n",
       "  (1): Sequential(\n",
       "    (0): AdaptiveConcatPool2d(\n",
       "      (ap): AdaptiveAvgPool2d(output_size=1)\n",
       "      (mp): AdaptiveMaxPool2d(output_size=1)\n",
       "    )\n",
       "    (1): Flatten()\n",
       "    (2): BatchNorm1d(4096, eps=1e-05, momentum=0.1, affine=True, track_running_stats=True)\n",
       "    (3): Dropout(p=0.25)\n",
       "    (4): Linear(in_features=4096, out_features=512, bias=True)\n",
       "    (5): ReLU(inplace)\n",
       "    (6): BatchNorm1d(512, eps=1e-05, momentum=0.1, affine=True, track_running_stats=True)\n",
       "    (7): Dropout(p=0.5)\n",
       "    (8): Linear(in_features=512, out_features=1000, bias=True)\n",
       "  )\n",
       "), opt_func=functools.partial(<class 'torch.optim.adam.Adam'>, betas=(0.9, 0.99)), loss_func=FlattenedLoss of CrossEntropyLoss(), metrics=[<function top_5_accuracy at 0x7fb4aa5cc378>, <function accuracy at 0x7fb4aac6e510>], true_wd=True, bn_wd=True, wd=0.01, train_bn=True, path=PosixPath('data/ILSVRC/Data/CLS-LOC'), model_dir='models', callback_fns=[functools.partial(<class 'fastai.basic_train.Recorder'>, add_time=True), <class 'fastai.train.ShowGraph'>], callbacks=[], layer_groups=[Sequential(\n",
       "  (0): Conv2d(3, 64, kernel_size=(7, 7), stride=(2, 2), padding=(3, 3), bias=False)\n",
       "  (1): BatchNorm2d(64, eps=1e-05, momentum=0.1, affine=True, track_running_stats=True)\n",
       "  (2): ReLU(inplace)\n",
       "  (3): MaxPool2d(kernel_size=3, stride=2, padding=1, dilation=1, ceil_mode=False)\n",
       "  (4): Conv2d(64, 64, kernel_size=(1, 1), stride=(1, 1), bias=False)\n",
       "  (5): BatchNorm2d(64, eps=1e-05, momentum=0.1, affine=True, track_running_stats=True)\n",
       "  (6): Conv2d(64, 64, kernel_size=(3, 3), stride=(1, 1), padding=(1, 1), bias=False)\n",
       "  (7): BatchNorm2d(64, eps=1e-05, momentum=0.1, affine=True, track_running_stats=True)\n",
       "  (8): Conv2d(64, 256, kernel_size=(1, 1), stride=(1, 1), bias=False)\n",
       "  (9): BatchNorm2d(256, eps=1e-05, momentum=0.1, affine=True, track_running_stats=True)\n",
       "  (10): ReLU(inplace)\n",
       "  (11): Conv2d(64, 256, kernel_size=(1, 1), stride=(1, 1), bias=False)\n",
       "  (12): BatchNorm2d(256, eps=1e-05, momentum=0.1, affine=True, track_running_stats=True)\n",
       "  (13): Conv2d(256, 64, kernel_size=(1, 1), stride=(1, 1), bias=False)\n",
       "  (14): BatchNorm2d(64, eps=1e-05, momentum=0.1, affine=True, track_running_stats=True)\n",
       "  (15): Conv2d(64, 64, kernel_size=(3, 3), stride=(1, 1), padding=(1, 1), bias=False)\n",
       "  (16): BatchNorm2d(64, eps=1e-05, momentum=0.1, affine=True, track_running_stats=True)\n",
       "  (17): Conv2d(64, 256, kernel_size=(1, 1), stride=(1, 1), bias=False)\n",
       "  (18): BatchNorm2d(256, eps=1e-05, momentum=0.1, affine=True, track_running_stats=True)\n",
       "  (19): ReLU(inplace)\n",
       "  (20): Conv2d(256, 64, kernel_size=(1, 1), stride=(1, 1), bias=False)\n",
       "  (21): BatchNorm2d(64, eps=1e-05, momentum=0.1, affine=True, track_running_stats=True)\n",
       "  (22): Conv2d(64, 64, kernel_size=(3, 3), stride=(1, 1), padding=(1, 1), bias=False)\n",
       "  (23): BatchNorm2d(64, eps=1e-05, momentum=0.1, affine=True, track_running_stats=True)\n",
       "  (24): Conv2d(64, 256, kernel_size=(1, 1), stride=(1, 1), bias=False)\n",
       "  (25): BatchNorm2d(256, eps=1e-05, momentum=0.1, affine=True, track_running_stats=True)\n",
       "  (26): ReLU(inplace)\n",
       "  (27): Conv2d(256, 128, kernel_size=(1, 1), stride=(1, 1), bias=False)\n",
       "  (28): BatchNorm2d(128, eps=1e-05, momentum=0.1, affine=True, track_running_stats=True)\n",
       "  (29): Conv2d(128, 128, kernel_size=(3, 3), stride=(2, 2), padding=(1, 1), bias=False)\n",
       "  (30): BatchNorm2d(128, eps=1e-05, momentum=0.1, affine=True, track_running_stats=True)\n",
       "  (31): Conv2d(128, 512, kernel_size=(1, 1), stride=(1, 1), bias=False)\n",
       "  (32): BatchNorm2d(512, eps=1e-05, momentum=0.1, affine=True, track_running_stats=True)\n",
       "  (33): ReLU(inplace)\n",
       "  (34): Conv2d(256, 512, kernel_size=(1, 1), stride=(2, 2), bias=False)\n",
       "  (35): BatchNorm2d(512, eps=1e-05, momentum=0.1, affine=True, track_running_stats=True)\n",
       "  (36): Conv2d(512, 128, kernel_size=(1, 1), stride=(1, 1), bias=False)\n",
       "  (37): BatchNorm2d(128, eps=1e-05, momentum=0.1, affine=True, track_running_stats=True)\n",
       "  (38): Conv2d(128, 128, kernel_size=(3, 3), stride=(1, 1), padding=(1, 1), bias=False)\n",
       "  (39): BatchNorm2d(128, eps=1e-05, momentum=0.1, affine=True, track_running_stats=True)\n",
       "  (40): Conv2d(128, 512, kernel_size=(1, 1), stride=(1, 1), bias=False)\n",
       "  (41): BatchNorm2d(512, eps=1e-05, momentum=0.1, affine=True, track_running_stats=True)\n",
       "  (42): ReLU(inplace)\n",
       "  (43): Conv2d(512, 128, kernel_size=(1, 1), stride=(1, 1), bias=False)\n",
       "  (44): BatchNorm2d(128, eps=1e-05, momentum=0.1, affine=True, track_running_stats=True)\n",
       "  (45): Conv2d(128, 128, kernel_size=(3, 3), stride=(1, 1), padding=(1, 1), bias=False)\n",
       "  (46): BatchNorm2d(128, eps=1e-05, momentum=0.1, affine=True, track_running_stats=True)\n",
       "  (47): Conv2d(128, 512, kernel_size=(1, 1), stride=(1, 1), bias=False)\n",
       "  (48): BatchNorm2d(512, eps=1e-05, momentum=0.1, affine=True, track_running_stats=True)\n",
       "  (49): ReLU(inplace)\n",
       "  (50): Conv2d(512, 128, kernel_size=(1, 1), stride=(1, 1), bias=False)\n",
       "  (51): BatchNorm2d(128, eps=1e-05, momentum=0.1, affine=True, track_running_stats=True)\n",
       "  (52): Conv2d(128, 128, kernel_size=(3, 3), stride=(1, 1), padding=(1, 1), bias=False)\n",
       "  (53): BatchNorm2d(128, eps=1e-05, momentum=0.1, affine=True, track_running_stats=True)\n",
       "  (54): Conv2d(128, 512, kernel_size=(1, 1), stride=(1, 1), bias=False)\n",
       "  (55): BatchNorm2d(512, eps=1e-05, momentum=0.1, affine=True, track_running_stats=True)\n",
       "  (56): ReLU(inplace)\n",
       "), Sequential(\n",
       "  (0): Conv2d(512, 256, kernel_size=(1, 1), stride=(1, 1), bias=False)\n",
       "  (1): BatchNorm2d(256, eps=1e-05, momentum=0.1, affine=True, track_running_stats=True)\n",
       "  (2): Conv2d(256, 256, kernel_size=(3, 3), stride=(2, 2), padding=(1, 1), bias=False)\n",
       "  (3): BatchNorm2d(256, eps=1e-05, momentum=0.1, affine=True, track_running_stats=True)\n",
       "  (4): Conv2d(256, 1024, kernel_size=(1, 1), stride=(1, 1), bias=False)\n",
       "  (5): BatchNorm2d(1024, eps=1e-05, momentum=0.1, affine=True, track_running_stats=True)\n",
       "  (6): ReLU(inplace)\n",
       "  (7): Conv2d(512, 1024, kernel_size=(1, 1), stride=(2, 2), bias=False)\n",
       "  (8): BatchNorm2d(1024, eps=1e-05, momentum=0.1, affine=True, track_running_stats=True)\n",
       "  (9): Conv2d(1024, 256, kernel_size=(1, 1), stride=(1, 1), bias=False)\n",
       "  (10): BatchNorm2d(256, eps=1e-05, momentum=0.1, affine=True, track_running_stats=True)\n",
       "  (11): Conv2d(256, 256, kernel_size=(3, 3), stride=(1, 1), padding=(1, 1), bias=False)\n",
       "  (12): BatchNorm2d(256, eps=1e-05, momentum=0.1, affine=True, track_running_stats=True)\n",
       "  (13): Conv2d(256, 1024, kernel_size=(1, 1), stride=(1, 1), bias=False)\n",
       "  (14): BatchNorm2d(1024, eps=1e-05, momentum=0.1, affine=True, track_running_stats=True)\n",
       "  (15): ReLU(inplace)\n",
       "  (16): Conv2d(1024, 256, kernel_size=(1, 1), stride=(1, 1), bias=False)\n",
       "  (17): BatchNorm2d(256, eps=1e-05, momentum=0.1, affine=True, track_running_stats=True)\n",
       "  (18): Conv2d(256, 256, kernel_size=(3, 3), stride=(1, 1), padding=(1, 1), bias=False)\n",
       "  (19): BatchNorm2d(256, eps=1e-05, momentum=0.1, affine=True, track_running_stats=True)\n",
       "  (20): Conv2d(256, 1024, kernel_size=(1, 1), stride=(1, 1), bias=False)\n",
       "  (21): BatchNorm2d(1024, eps=1e-05, momentum=0.1, affine=True, track_running_stats=True)\n",
       "  (22): ReLU(inplace)\n",
       "  (23): Conv2d(1024, 256, kernel_size=(1, 1), stride=(1, 1), bias=False)\n",
       "  (24): BatchNorm2d(256, eps=1e-05, momentum=0.1, affine=True, track_running_stats=True)\n",
       "  (25): Conv2d(256, 256, kernel_size=(3, 3), stride=(1, 1), padding=(1, 1), bias=False)\n",
       "  (26): BatchNorm2d(256, eps=1e-05, momentum=0.1, affine=True, track_running_stats=True)\n",
       "  (27): Conv2d(256, 1024, kernel_size=(1, 1), stride=(1, 1), bias=False)\n",
       "  (28): BatchNorm2d(1024, eps=1e-05, momentum=0.1, affine=True, track_running_stats=True)\n",
       "  (29): ReLU(inplace)\n",
       "  (30): Conv2d(1024, 256, kernel_size=(1, 1), stride=(1, 1), bias=False)\n",
       "  (31): BatchNorm2d(256, eps=1e-05, momentum=0.1, affine=True, track_running_stats=True)\n",
       "  (32): Conv2d(256, 256, kernel_size=(3, 3), stride=(1, 1), padding=(1, 1), bias=False)\n",
       "  (33): BatchNorm2d(256, eps=1e-05, momentum=0.1, affine=True, track_running_stats=True)\n",
       "  (34): Conv2d(256, 1024, kernel_size=(1, 1), stride=(1, 1), bias=False)\n",
       "  (35): BatchNorm2d(1024, eps=1e-05, momentum=0.1, affine=True, track_running_stats=True)\n",
       "  (36): ReLU(inplace)\n",
       "  (37): Conv2d(1024, 256, kernel_size=(1, 1), stride=(1, 1), bias=False)\n",
       "  (38): BatchNorm2d(256, eps=1e-05, momentum=0.1, affine=True, track_running_stats=True)\n",
       "  (39): Conv2d(256, 256, kernel_size=(3, 3), stride=(1, 1), padding=(1, 1), bias=False)\n",
       "  (40): BatchNorm2d(256, eps=1e-05, momentum=0.1, affine=True, track_running_stats=True)\n",
       "  (41): Conv2d(256, 1024, kernel_size=(1, 1), stride=(1, 1), bias=False)\n",
       "  (42): BatchNorm2d(1024, eps=1e-05, momentum=0.1, affine=True, track_running_stats=True)\n",
       "  (43): ReLU(inplace)\n",
       "  (44): Conv2d(1024, 512, kernel_size=(1, 1), stride=(1, 1), bias=False)\n",
       "  (45): BatchNorm2d(512, eps=1e-05, momentum=0.1, affine=True, track_running_stats=True)\n",
       "  (46): Conv2d(512, 512, kernel_size=(3, 3), stride=(2, 2), padding=(1, 1), bias=False)\n",
       "  (47): BatchNorm2d(512, eps=1e-05, momentum=0.1, affine=True, track_running_stats=True)\n",
       "  (48): Conv2d(512, 2048, kernel_size=(1, 1), stride=(1, 1), bias=False)\n",
       "  (49): BatchNorm2d(2048, eps=1e-05, momentum=0.1, affine=True, track_running_stats=True)\n",
       "  (50): ReLU(inplace)\n",
       "  (51): Conv2d(1024, 2048, kernel_size=(1, 1), stride=(2, 2), bias=False)\n",
       "  (52): BatchNorm2d(2048, eps=1e-05, momentum=0.1, affine=True, track_running_stats=True)\n",
       "  (53): Conv2d(2048, 512, kernel_size=(1, 1), stride=(1, 1), bias=False)\n",
       "  (54): BatchNorm2d(512, eps=1e-05, momentum=0.1, affine=True, track_running_stats=True)\n",
       "  (55): Conv2d(512, 512, kernel_size=(3, 3), stride=(1, 1), padding=(1, 1), bias=False)\n",
       "  (56): BatchNorm2d(512, eps=1e-05, momentum=0.1, affine=True, track_running_stats=True)\n",
       "  (57): Conv2d(512, 2048, kernel_size=(1, 1), stride=(1, 1), bias=False)\n",
       "  (58): BatchNorm2d(2048, eps=1e-05, momentum=0.1, affine=True, track_running_stats=True)\n",
       "  (59): ReLU(inplace)\n",
       "  (60): Conv2d(2048, 512, kernel_size=(1, 1), stride=(1, 1), bias=False)\n",
       "  (61): BatchNorm2d(512, eps=1e-05, momentum=0.1, affine=True, track_running_stats=True)\n",
       "  (62): Conv2d(512, 512, kernel_size=(3, 3), stride=(1, 1), padding=(1, 1), bias=False)\n",
       "  (63): BatchNorm2d(512, eps=1e-05, momentum=0.1, affine=True, track_running_stats=True)\n",
       "  (64): Conv2d(512, 2048, kernel_size=(1, 1), stride=(1, 1), bias=False)\n",
       "  (65): BatchNorm2d(2048, eps=1e-05, momentum=0.1, affine=True, track_running_stats=True)\n",
       "  (66): ReLU(inplace)\n",
       "), Sequential(\n",
       "  (0): AdaptiveAvgPool2d(output_size=1)\n",
       "  (1): AdaptiveMaxPool2d(output_size=1)\n",
       "  (2): Flatten()\n",
       "  (3): BatchNorm1d(4096, eps=1e-05, momentum=0.1, affine=True, track_running_stats=True)\n",
       "  (4): Dropout(p=0.25)\n",
       "  (5): Linear(in_features=4096, out_features=512, bias=True)\n",
       "  (6): ReLU(inplace)\n",
       "  (7): BatchNorm1d(512, eps=1e-05, momentum=0.1, affine=True, track_running_stats=True)\n",
       "  (8): Dropout(p=0.5)\n",
       "  (9): Linear(in_features=512, out_features=1000, bias=True)\n",
       ")], add_time=True)"
      ]
     },
     "execution_count": 17,
     "metadata": {},
     "output_type": "execute_result"
    }
   ],
   "source": [
    "learn.load('255px_res50_frozen');"
   ]
  },
  {
   "cell_type": "code",
   "execution_count": 18,
   "metadata": {},
   "outputs": [],
   "source": [
    "learn.unfreeze()"
   ]
  },
  {
   "cell_type": "code",
   "execution_count": 19,
   "metadata": {
    "scrolled": true
   },
   "outputs": [
    {
     "data": {
      "text/html": [],
      "text/plain": [
       "<IPython.core.display.HTML object>"
      ]
     },
     "metadata": {},
     "output_type": "display_data"
    },
    {
     "name": "stdout",
     "output_type": "stream",
     "text": [
      "LR Finder is complete, type {learner_name}.recorder.plot() to see the graph.\n"
     ]
    }
   ],
   "source": [
    "learn.lr_find()"
   ]
  },
  {
   "cell_type": "code",
   "execution_count": 20,
   "metadata": {},
   "outputs": [
    {
     "data": {
      "image/png": "[encoded data removed]",
      "text/plain": [
       "<Figure size 432x288 with 1 Axes>"
      ]
     },
     "metadata": {
      "needs_background": "light"
     },
     "output_type": "display_data"
    }
   ],
   "source": [
    "learn.recorder.plot()"
   ]
  },
  {
   "cell_type": "code",
   "execution_count": null,
   "metadata": {},
   "outputs": [],
   "source": [
    "lr = 2e-4"
   ]
  },
  {
   "cell_type": "code",
   "execution_count": null,
   "metadata": {},
   "outputs": [],
   "source": [
    "lrs = learn.lr_range(slice(lr/5,lr))"
   ]
  },
  {
   "cell_type": "code",
   "execution_count": null,
   "metadata": {},
   "outputs": [],
   "source": [
    "learn.fit_one_cycle(4, max_lr=lrs)"
   ]
  },
  {
   "cell_type": "code",
   "execution_count": null,
   "metadata": {},
   "outputs": [],
   "source": [
    "learn.save('255px_res50')"
   ]
  },
  {
   "cell_type": "code",
   "execution_count": null,
   "metadata": {},
   "outputs": [],
   "source": []
  },
  {
   "cell_type": "markdown",
   "metadata": {},
   "source": [
    "## prediction "
   ]
  },
  {
   "cell_type": "code",
   "execution_count": 12,
   "metadata": {},
   "outputs": [],
   "source": [
    "cl, label, prob = learn.predict(img)"
   ]
  },
  {
   "cell_type": "code",
   "execution_count": null,
   "metadata": {},
   "outputs": [],
   "source": []
  },
  {
   "cell_type": "code",
   "execution_count": 8,
   "metadata": {},
   "outputs": [],
   "source": [
    "learn.export('export/export.pkl')"
   ]
  },
  {
   "cell_type": "code",
   "execution_count": 9,
   "metadata": {},
   "outputs": [],
   "source": [
    "learn = load_learner('export')"
   ]
  },
  {
   "cell_type": "code",
   "execution_count": null,
   "metadata": {},
   "outputs": [],
   "source": []
  },
  {
   "cell_type": "code",
   "execution_count": 12,
   "metadata": {},
   "outputs": [],
   "source": [
    "# Load Imagenet Synsets\n",
    "with open('data/imagenet_synsets.txt', 'r') as f:\n",
    "    synsets = f.readlines()\n",
    "\n",
    "# len(synsets)==1001\n",
    "# sysnets[0] == background\n",
    "synsets = [x.strip() for x in synsets]\n",
    "splits = [line.split(' ') for line in synsets]\n",
    "key_to_classname = {spl[0]:' '.join(spl[1:]) for spl in splits}\n",
    "\n",
    "with open('data/imagenet_classes.txt', 'r') as f:\n",
    "    class_id_to_key = f.readlines()\n",
    "\n",
    "class_id_to_key = np.array([x.strip() for x in class_id_to_key])"
   ]
  },
  {
   "cell_type": "code",
   "execution_count": 13,
   "metadata": {},
   "outputs": [
    {
     "data": {
      "text/plain": [
       "(1000, 1861)"
      ]
     },
     "execution_count": 13,
     "metadata": {},
     "output_type": "execute_result"
    }
   ],
   "source": [
    "len(class_id_to_key), len(key_to_classname)"
   ]
  },
  {
   "cell_type": "code",
   "execution_count": 14,
   "metadata": {},
   "outputs": [
    {
     "data": {
      "text/plain": [
       "{'?????????': 'dummy class for index 0',\n",
       " 'n02119789': 'kit fox, Vulpes macrotis',\n",
       " 'n02100735': 'English setter',\n",
       " 'n02110185': 'Siberian husky',\n",
       " 'n02096294': 'Australian terrier',\n",
       " 'n02102040': 'English springer, English springer spaniel',\n",
       " 'n02066245': 'grey whale, gray whale, devilfish, Eschrichtius gibbosus, Eschrichtius robustus',\n",
       " 'n02509815': 'lesser panda, red panda, panda, bear cat, cat bear, Ailurus fulgens',\n",
       " 'n02124075': 'Egyptian cat',\n",
       " 'n02417914': 'ibex, Capra ibex',\n",
       " 'n02123394': 'Persian cat',\n",
       " 'n02125311': 'cougar, puma, catamount, mountain lion, painter, panther, Felis concolor',\n",
       " 'n02423022': 'gazelle',\n",
       " 'n02346627': 'porcupine, hedgehog',\n",
       " 'n02077923': 'sea lion',\n",
       " 'n02110063': 'malamute, malemute, Alaskan malamute',\n",
       " 'n02447366': 'badger',\n",
       " 'n02109047': 'Great Dane',\n",
       " 'n02089867': 'Walker hound, Walker foxhound',\n",
       " 'n02102177': 'Welsh springer spaniel',\n",
       " 'n02091134': 'whippet',\n",
       " 'n02092002': 'Scottish deerhound, deerhound',\n",
       " 'n02071294': 'killer whale, killer, orca, grampus, sea wolf, Orcinus orca',\n",
       " 'n02442845': 'mink',\n",
       " 'n02504458': 'African elephant, Loxodonta africana',\n",
       " 'n02092339': 'Weimaraner',\n",
       " 'n02098105': 'soft-coated wheaten terrier',\n",
       " 'n02096437': 'Dandie Dinmont, Dandie Dinmont terrier',\n",
       " 'n02114712': 'red wolf, maned wolf, Canis rufus, Canis niger',\n",
       " 'n02105641': 'Old English sheepdog, bobtail',\n",
       " 'n02128925': 'jaguar, panther, Panthera onca, Felis onca',\n",
       " 'n02091635': 'otterhound, otter hound',\n",
       " 'n02088466': 'bloodhound, sleuthhound',\n",
       " 'n02096051': 'Airedale, Airedale terrier',\n",
       " 'n02117135': 'hyena, hyaena',\n",
       " 'n02138441': 'meerkat, mierkat',\n",
       " 'n02097130': 'giant schnauzer',\n",
       " 'n02493509': 'titi, titi monkey',\n",
       " 'n02457408': 'three-toed sloth, ai, Bradypus tridactylus',\n",
       " 'n02389026': 'sorrel',\n",
       " 'n02443484': 'black-footed ferret, ferret, Mustela nigripes',\n",
       " 'n02110341': 'dalmatian, coach dog, carriage dog',\n",
       " 'n02089078': 'black-and-tan coonhound',\n",
       " 'n02086910': 'papillon',\n",
       " 'n02445715': 'skunk, polecat, wood pussy',\n",
       " 'n02093256': 'Staffordshire bullterrier, Staffordshire bull terrier',\n",
       " 'n02113978': 'Mexican hairless',\n",
       " 'n02106382': 'Bouvier des Flandres, Bouviers des Flandres',\n",
       " 'n02441942': 'weasel',\n",
       " 'n02113712': 'miniature poodle',\n",
       " 'n02113186': 'Cardigan, Cardigan Welsh corgi',\n",
       " 'n02105162': 'malinois',\n",
       " 'n02415577': 'bighorn, bighorn sheep, cimarron, Rocky Mountain bighorn, Rocky Mountain sheep, Ovis canadensis',\n",
       " 'n02356798': 'fox squirrel, eastern fox squirrel, Sciurus niger',\n",
       " 'n02488702': 'colobus, colobus monkey',\n",
       " 'n02123159': 'tiger cat',\n",
       " 'n02098413': 'Lhasa, Lhasa apso',\n",
       " 'n02422699': 'impala, Aepyceros melampus',\n",
       " 'n02114855': 'coyote, prairie wolf, brush wolf, Canis latrans',\n",
       " 'n02094433': 'Yorkshire terrier',\n",
       " 'n02111277': 'Newfoundland, Newfoundland dog',\n",
       " 'n02132136': 'brown bear, bruin, Ursus arctos',\n",
       " 'n02119022': 'red fox, Vulpes vulpes',\n",
       " 'n02091467': 'Norwegian elkhound, elkhound',\n",
       " 'n02106550': 'Rottweiler',\n",
       " 'n02422106': 'hartebeest',\n",
       " 'n02091831': 'Saluki, gazelle hound',\n",
       " 'n02120505': 'grey fox, gray fox, Urocyon cinereoargenteus',\n",
       " 'n02104365': 'schipperke',\n",
       " 'n02086079': 'Pekinese, Pekingese, Peke',\n",
       " 'n02112706': 'Brabancon griffon',\n",
       " 'n02098286': 'West Highland white terrier',\n",
       " 'n02095889': 'Sealyham terrier, Sealyham',\n",
       " 'n02484975': 'guenon, guenon monkey',\n",
       " 'n02137549': 'mongoose',\n",
       " 'n02500267': 'indri, indris, Indri indri, Indri brevicaudatus',\n",
       " 'n02129604': 'tiger, Panthera tigris',\n",
       " 'n02090721': 'Irish wolfhound',\n",
       " 'n02396427': 'wild boar, boar, Sus scrofa',\n",
       " 'n02108000': 'EntleBucher',\n",
       " 'n02391049': 'zebra',\n",
       " 'n02412080': 'ram, tup',\n",
       " 'n02108915': 'French bulldog',\n",
       " 'n02480495': 'orangutan, orang, orangutang, Pongo pygmaeus',\n",
       " 'n02110806': 'basenji',\n",
       " 'n02128385': 'leopard, Panthera pardus',\n",
       " 'n02107683': 'Bernese mountain dog',\n",
       " 'n02085936': 'Maltese dog, Maltese terrier, Maltese',\n",
       " 'n02094114': 'Norfolk terrier',\n",
       " 'n02087046': 'toy terrier',\n",
       " 'n02100583': 'vizsla, Hungarian pointer',\n",
       " 'n02096177': 'cairn, cairn terrier',\n",
       " 'n02494079': 'squirrel monkey, Saimiri sciureus',\n",
       " 'n02105056': 'groenendael',\n",
       " 'n02101556': 'clumber, clumber spaniel',\n",
       " 'n02123597': 'Siamese cat, Siamese',\n",
       " 'n02481823': 'chimpanzee, chimp, Pan troglodytes',\n",
       " 'n02105505': 'komondor',\n",
       " 'n02088094': 'Afghan hound, Afghan',\n",
       " 'n02085782': 'Japanese spaniel',\n",
       " 'n02489166': 'proboscis monkey, Nasalis larvatus',\n",
       " 'n02364673': 'guinea pig, Cavia cobaya',\n",
       " 'n02114548': 'white wolf, Arctic wolf, Canis lupus tundrarum',\n",
       " 'n02134084': 'ice bear, polar bear, Ursus Maritimus, Thalarctos maritimus',\n",
       " 'n02480855': 'gorilla, Gorilla gorilla',\n",
       " 'n02090622': 'borzoi, Russian wolfhound',\n",
       " 'n02113624': 'toy poodle',\n",
       " 'n02093859': 'Kerry blue terrier',\n",
       " 'n02403003': 'ox',\n",
       " 'n02097298': 'Scotch terrier, Scottish terrier, Scottie',\n",
       " 'n02108551': 'Tibetan mastiff',\n",
       " 'n02493793': 'spider monkey, Ateles geoffroyi',\n",
       " 'n02107142': 'Doberman, Doberman pinscher',\n",
       " 'n02096585': 'Boston bull, Boston terrier',\n",
       " 'n02107574': 'Greater Swiss Mountain dog',\n",
       " 'n02107908': 'Appenzeller',\n",
       " 'n02086240': 'Shih-Tzu',\n",
       " 'n02102973': 'Irish water spaniel',\n",
       " 'n02112018': 'Pomeranian',\n",
       " 'n02093647': 'Bedlington terrier',\n",
       " 'n02397096': 'warthog',\n",
       " 'n02437312': 'Arabian camel, dromedary, Camelus dromedarius',\n",
       " 'n02483708': 'siamang, Hylobates syndactylus, Symphalangus syndactylus',\n",
       " 'n02097047': 'miniature schnauzer',\n",
       " 'n02106030': 'collie',\n",
       " 'n02099601': 'golden retriever',\n",
       " 'n02093991': 'Irish terrier',\n",
       " 'n02110627': 'affenpinscher, monkey pinscher, monkey dog',\n",
       " 'n02106166': 'Border collie',\n",
       " 'n02326432': 'hare',\n",
       " 'n02108089': 'boxer',\n",
       " 'n02097658': 'silky terrier, Sydney silky',\n",
       " 'n02088364': 'beagle',\n",
       " 'n02111129': 'Leonberg',\n",
       " 'n02100236': 'German short-haired pointer',\n",
       " 'n02486261': 'patas, hussar monkey, Erythrocebus patas',\n",
       " 'n02115913': 'dhole, Cuon alpinus',\n",
       " 'n02486410': 'baboon',\n",
       " 'n02487347': 'macaque',\n",
       " 'n02099849': 'Chesapeake Bay retriever',\n",
       " 'n02108422': 'bull mastiff',\n",
       " 'n02104029': 'kuvasz',\n",
       " 'n02492035': 'capuchin, ringtail, Cebus capucinus',\n",
       " 'n02110958': 'pug, pug-dog',\n",
       " 'n02099429': 'curly-coated retriever',\n",
       " 'n02094258': 'Norwich terrier',\n",
       " 'n02099267': 'flat-coated retriever',\n",
       " 'n02395406': 'hog, pig, grunter, squealer, Sus scrofa',\n",
       " 'n02112350': 'keeshond',\n",
       " 'n02109961': 'Eskimo dog, husky',\n",
       " 'n02101388': 'Brittany spaniel',\n",
       " 'n02113799': 'standard poodle',\n",
       " 'n02095570': 'Lakeland terrier',\n",
       " 'n02128757': 'snow leopard, ounce, Panthera uncia',\n",
       " 'n02101006': 'Gordon setter',\n",
       " 'n02115641': 'dingo, warrigal, warragal, Canis dingo',\n",
       " 'n02097209': 'standard schnauzer',\n",
       " 'n02342885': 'hamster',\n",
       " 'n02097474': 'Tibetan terrier, chrysanthemum dog',\n",
       " 'n02120079': 'Arctic fox, white fox, Alopex lagopus',\n",
       " 'n02095314': 'wire-haired fox terrier',\n",
       " 'n02088238': 'basset, basset hound',\n",
       " 'n02408429': 'water buffalo, water ox, Asiatic buffalo, Bubalus bubalis',\n",
       " 'n02133161': 'American black bear, black bear, Ursus americanus, Euarctos americanus',\n",
       " 'n02328150': 'Angora, Angora rabbit',\n",
       " 'n02410509': 'bison',\n",
       " 'n02492660': 'howler monkey, howler',\n",
       " 'n02398521': 'hippopotamus, hippo, river horse, Hippopotamus amphibius',\n",
       " 'n02112137': 'chow, chow chow',\n",
       " 'n02510455': 'giant panda, panda, panda bear, coon bear, Ailuropoda melanoleuca',\n",
       " 'n02093428': 'American Staffordshire terrier, Staffordshire terrier, American pit bull terrier, pit bull terrier',\n",
       " 'n02105855': 'Shetland sheepdog, Shetland sheep dog, Shetland',\n",
       " 'n02111500': 'Great Pyrenees',\n",
       " 'n02085620': 'Chihuahua',\n",
       " 'n02123045': 'tabby, tabby cat',\n",
       " 'n02490219': 'marmoset',\n",
       " 'n02099712': 'Labrador retriever',\n",
       " 'n02109525': 'Saint Bernard, St Bernard',\n",
       " 'n02454379': 'armadillo',\n",
       " 'n02111889': 'Samoyed, Samoyede',\n",
       " 'n02088632': 'bluetick',\n",
       " 'n02090379': 'redbone',\n",
       " 'n02443114': 'polecat, fitch, foulmart, foumart, Mustela putorius',\n",
       " 'n02361337': 'marmot',\n",
       " 'n02105412': 'kelpie',\n",
       " 'n02483362': 'gibbon, Hylobates lar',\n",
       " 'n02437616': 'llama',\n",
       " 'n02107312': 'miniature pinscher',\n",
       " 'n02325366': 'wood rabbit, cottontail, cottontail rabbit',\n",
       " 'n02091032': 'Italian greyhound',\n",
       " 'n02129165': 'lion, king of beasts, Panthera leo',\n",
       " 'n02102318': 'cocker spaniel, English cocker spaniel, cocker',\n",
       " 'n02100877': 'Irish setter, red setter',\n",
       " 'n02074367': 'dugong, Dugong dugon',\n",
       " 'n02504013': 'Indian elephant, Elephas maximus',\n",
       " 'n02363005': 'beaver',\n",
       " 'n02102480': 'Sussex spaniel',\n",
       " 'n02113023': 'Pembroke, Pembroke Welsh corgi',\n",
       " 'n02086646': 'Blenheim spaniel',\n",
       " 'n02497673': 'Madagascar cat, ring-tailed lemur, Lemur catta',\n",
       " 'n02087394': 'Rhodesian ridgeback',\n",
       " 'n02127052': 'lynx, catamount',\n",
       " 'n02116738': 'African hunting dog, hyena dog, Cape hunting dog, Lycaon pictus',\n",
       " 'n02488291': 'langur',\n",
       " 'n02091244': 'Ibizan hound, Ibizan Podenco',\n",
       " 'n02114367': 'timber wolf, grey wolf, gray wolf, Canis lupus',\n",
       " 'n02130308': 'cheetah, chetah, Acinonyx jubatus',\n",
       " 'n02089973': 'English foxhound',\n",
       " 'n02105251': 'briard',\n",
       " 'n02134418': 'sloth bear, Melursus ursinus, Ursus ursinus',\n",
       " 'n02093754': 'Border terrier',\n",
       " 'n02106662': 'German shepherd, German shepherd dog, German police dog, alsatian',\n",
       " 'n02444819': 'otter',\n",
       " 'n01882714': 'koala, koala bear, kangaroo bear, native bear, Phascolarctos cinereus',\n",
       " 'n01871265': 'tusker',\n",
       " 'n01872401': 'echidna, spiny anteater, anteater',\n",
       " 'n01877812': 'wallaby, brush kangaroo',\n",
       " 'n01873310': 'platypus, duckbill, duckbilled platypus, duck-billed platypus, Ornithorhynchus anatinus',\n",
       " 'n01883070': 'wombat',\n",
       " 'n04086273': 'revolver, six-gun, six-shooter',\n",
       " 'n04507155': 'umbrella',\n",
       " 'n04147183': 'schooner',\n",
       " 'n04254680': 'soccer ball',\n",
       " 'n02672831': 'accordion, piano accordion, squeeze box',\n",
       " 'n02219486': 'ant, emmet, pismire',\n",
       " 'n02317335': 'starfish, sea star',\n",
       " 'n01968897': 'chambered nautilus, pearly nautilus, nautilus',\n",
       " 'n03452741': 'grand piano, grand',\n",
       " 'n03642806': 'laptop, laptop computer',\n",
       " 'n07745940': 'strawberry',\n",
       " 'n02690373': 'airliner',\n",
       " 'n04552348': 'warplane, military plane',\n",
       " 'n02692877': 'airship, dirigible',\n",
       " 'n02782093': 'balloon',\n",
       " 'n04266014': 'space shuttle',\n",
       " 'n03344393': 'fireboat',\n",
       " 'n03447447': 'gondola',\n",
       " 'n04273569': 'speedboat',\n",
       " 'n03662601': 'lifeboat',\n",
       " 'n02951358': 'canoe',\n",
       " 'n04612504': 'yawl',\n",
       " 'n02981792': 'catamaran',\n",
       " 'n04483307': 'trimaran',\n",
       " 'n03095699': 'container ship, containership, container vessel',\n",
       " 'n03673027': 'liner, ocean liner',\n",
       " 'n03947888': 'pirate, pirate ship',\n",
       " 'n02687172': 'aircraft carrier, carrier, flattop, attack aircraft carrier',\n",
       " 'n04347754': 'submarine, pigboat, sub, U-boat',\n",
       " 'n04606251': 'wreck',\n",
       " 'n03478589': 'half track',\n",
       " 'n04389033': 'tank, army tank, armored combat vehicle, armoured combat vehicle',\n",
       " 'n03773504': 'missile',\n",
       " 'n02860847': 'bobsled, bobsleigh, bob',\n",
       " 'n03218198': 'dogsled, dog sled, dog sleigh',\n",
       " 'n02835271': 'bicycle-built-for-two, tandem bicycle, tandem',\n",
       " 'n03792782': 'mountain bike, all-terrain bike, off-roader',\n",
       " 'n03393912': 'freight car',\n",
       " 'n03895866': 'passenger car, coach, carriage',\n",
       " 'n02797295': 'barrow, garden cart, lawn cart, wheelbarrow',\n",
       " 'n04204347': 'shopping cart',\n",
       " 'n03791053': 'motor scooter, scooter',\n",
       " 'n03384352': 'forklift',\n",
       " 'n03272562': 'electric locomotive',\n",
       " 'n04310018': 'steam locomotive',\n",
       " 'n02704792': 'amphibian, amphibious vehicle',\n",
       " 'n02701002': 'ambulance',\n",
       " 'n02814533': 'beach wagon, station wagon, wagon, estate car, beach waggon, station waggon, waggon',\n",
       " 'n02930766': 'cab, hack, taxi, taxicab',\n",
       " 'n03100240': 'convertible',\n",
       " 'n03594945': 'jeep, landrover',\n",
       " 'n03670208': 'limousine, limo',\n",
       " 'n03770679': 'minivan',\n",
       " 'n03777568': 'Model T',\n",
       " 'n04037443': 'racer, race car, racing car',\n",
       " 'n04285008': 'sports car, sport car',\n",
       " 'n03444034': 'go-kart',\n",
       " 'n03445924': 'golfcart, golf cart',\n",
       " 'n03785016': 'moped',\n",
       " 'n04252225': 'snowplow, snowplough',\n",
       " 'n03345487': 'fire engine, fire truck',\n",
       " 'n03417042': 'garbage truck, dustcart',\n",
       " 'n03930630': 'pickup, pickup truck',\n",
       " 'n04461696': 'tow truck, tow car, wrecker',\n",
       " 'n04467665': 'trailer truck, tractor trailer, trucking rig, rig, articulated lorry, semi',\n",
       " 'n03796401': 'moving van',\n",
       " 'n03977966': 'police van, police wagon, paddy wagon, patrol wagon, wagon, black Maria',\n",
       " 'n04065272': 'recreational vehicle, RV, R.V.',\n",
       " 'n04335435': 'streetcar, tram, tramcar, trolley, trolley car',\n",
       " 'n04252077': 'snowmobile',\n",
       " 'n04465501': 'tractor',\n",
       " 'n03776460': 'mobile home, manufactured home',\n",
       " 'n04482393': 'tricycle, trike, velocipede',\n",
       " 'n04509417': 'unicycle, monocycle',\n",
       " 'n03538406': 'horse cart, horse-cart',\n",
       " 'n03599486': 'jinrikisha, ricksha, rickshaw',\n",
       " 'n03868242': 'oxcart',\n",
       " 'n02804414': 'bassinet',\n",
       " 'n03125729': 'cradle',\n",
       " 'n03131574': 'crib, cot',\n",
       " 'n03388549': 'four-poster',\n",
       " 'n02870880': 'bookcase',\n",
       " 'n03018349': 'china cabinet, china closet',\n",
       " 'n03742115': 'medicine chest, medicine cabinet',\n",
       " 'n03016953': 'chiffonier, commode',\n",
       " 'n04380533': 'table lamp',\n",
       " 'n03337140': 'file, file cabinet, filing cabinet',\n",
       " 'n03891251': 'park bench',\n",
       " 'n02791124': 'barber chair',\n",
       " 'n04429376': 'throne',\n",
       " 'n03376595': 'folding chair',\n",
       " 'n04099969': 'rocking chair, rocker',\n",
       " 'n04344873': 'studio couch, day bed',\n",
       " 'n04447861': 'toilet seat',\n",
       " 'n03179701': 'desk',\n",
       " 'n03982430': 'pool table, billiard table, snooker table',\n",
       " 'n03201208': 'dining table, board',\n",
       " 'n03290653': 'entertainment center',\n",
       " 'n04550184': 'wardrobe, closet, press',\n",
       " 'n07742313': 'Granny Smith',\n",
       " 'n07747607': 'orange',\n",
       " 'n07749582': 'lemon',\n",
       " 'n07753113': 'fig',\n",
       " 'n07753275': 'pineapple, ananas',\n",
       " 'n07753592': 'banana',\n",
       " 'n07754684': 'jackfruit, jak, jack',\n",
       " 'n07760859': 'custard apple',\n",
       " 'n07768694': 'pomegranate',\n",
       " 'n12267677': 'acorn',\n",
       " 'n12620546': 'hip, rose hip, rosehip',\n",
       " 'n13133613': 'ear, spike, capitulum',\n",
       " 'n11879895': 'rapeseed',\n",
       " 'n12144580': 'corn',\n",
       " 'n12768682': 'buckeye, horse chestnut, conker',\n",
       " 'n03854065': 'organ, pipe organ',\n",
       " 'n04515003': 'upright, upright piano',\n",
       " 'n03017168': 'chime, bell, gong',\n",
       " 'n03249569': 'drum, membranophone, tympan',\n",
       " 'n03447721': 'gong, tam-tam',\n",
       " 'n03720891': 'maraca',\n",
       " 'n03721384': 'marimba, xylophone',\n",
       " 'n04311174': 'steel drum',\n",
       " 'n02787622': 'banjo',\n",
       " 'n02992211': 'cello, violoncello',\n",
       " 'n04536866': 'violin, fiddle',\n",
       " 'n03495258': 'harp',\n",
       " 'n02676566': 'acoustic guitar',\n",
       " 'n03272010': 'electric guitar',\n",
       " 'n03110669': 'cornet, horn, trumpet, trump',\n",
       " 'n03394916': 'French horn, horn',\n",
       " 'n04487394': 'trombone',\n",
       " 'n03494278': 'harmonica, mouth organ, harp, mouth harp',\n",
       " 'n03840681': 'ocarina, sweet potato',\n",
       " 'n03884397': 'panpipe, pandean pipe, syrinx',\n",
       " 'n02804610': 'bassoon',\n",
       " 'n03838899': 'oboe, hautboy, hautbois',\n",
       " 'n04141076': 'sax, saxophone',\n",
       " 'n03372029': 'flute, transverse flute',\n",
       " 'n11939491': 'daisy',\n",
       " 'n12057211': \"yellow lady's slipper, yellow lady-slipper, Cypripedium calceolus, Cypripedium parviflorum\",\n",
       " 'n09246464': 'cliff, drop, drop-off',\n",
       " 'n09468604': 'valley, vale',\n",
       " 'n09193705': 'alp',\n",
       " 'n09472597': 'volcano',\n",
       " 'n09399592': 'promontory, headland, head, foreland',\n",
       " 'n09421951': 'sandbar, sand bar',\n",
       " 'n09256479': 'coral reef',\n",
       " 'n09332890': 'lakeside, lakeshore',\n",
       " 'n09428293': 'seashore, coast, seacoast, sea-coast',\n",
       " 'n09288635': 'geyser',\n",
       " 'n03498962': 'hatchet',\n",
       " 'n03041632': 'cleaver, meat cleaver, chopper',\n",
       " 'n03658185': 'letter opener, paper knife, paperknife',\n",
       " 'n03954731': \"plane, carpenter's plane, woodworking plane\",\n",
       " 'n03995372': 'power drill',\n",
       " 'n03649909': 'lawn mower, mower',\n",
       " 'n03481172': 'hammer',\n",
       " 'n03109150': 'corkscrew, bottle screw',\n",
       " 'n02951585': 'can opener, tin opener',\n",
       " 'n03970156': \"plunger, plumber's helper\",\n",
       " 'n04154565': 'screwdriver',\n",
       " 'n04208210': 'shovel',\n",
       " 'n03967562': 'plow, plough',\n",
       " 'n03000684': 'chain saw, chainsaw',\n",
       " 'n01514668': 'cock',\n",
       " 'n01514859': 'hen',\n",
       " 'n01518878': 'ostrich, Struthio camelus',\n",
       " 'n01530575': 'brambling, Fringilla montifringilla',\n",
       " 'n01531178': 'goldfinch, Carduelis carduelis',\n",
       " 'n01532829': 'house finch, linnet, Carpodacus mexicanus',\n",
       " 'n01534433': 'junco, snowbird',\n",
       " 'n01537544': 'indigo bunting, indigo finch, indigo bird, Passerina cyanea',\n",
       " 'n01558993': 'robin, American robin, Turdus migratorius',\n",
       " 'n01560419': 'bulbul',\n",
       " 'n01580077': 'jay',\n",
       " 'n01582220': 'magpie',\n",
       " 'n01592084': 'chickadee',\n",
       " 'n01601694': 'water ouzel, dipper',\n",
       " 'n01608432': 'kite',\n",
       " 'n01614925': 'bald eagle, American eagle, Haliaeetus leucocephalus',\n",
       " 'n01616318': 'vulture',\n",
       " 'n01622779': 'great grey owl, great gray owl, Strix nebulosa',\n",
       " 'n01795545': 'black grouse',\n",
       " 'n01796340': 'ptarmigan',\n",
       " 'n01797886': 'ruffed grouse, partridge, Bonasa umbellus',\n",
       " 'n01798484': 'prairie chicken, prairie grouse, prairie fowl',\n",
       " 'n01806143': 'peacock',\n",
       " 'n01806567': 'quail',\n",
       " 'n01807496': 'partridge',\n",
       " 'n01817953': 'African grey, African gray, Psittacus erithacus',\n",
       " 'n01818515': 'macaw',\n",
       " 'n01819313': 'sulphur-crested cockatoo, Kakatoe galerita, Cacatua galerita',\n",
       " 'n01820546': 'lorikeet',\n",
       " 'n01824575': 'coucal',\n",
       " 'n01828970': 'bee eater',\n",
       " 'n01829413': 'hornbill',\n",
       " 'n01833805': 'hummingbird',\n",
       " 'n01843065': 'jacamar',\n",
       " 'n01843383': 'toucan',\n",
       " 'n01847000': 'drake',\n",
       " 'n01855032': 'red-breasted merganser, Mergus serrator',\n",
       " 'n01855672': 'goose',\n",
       " 'n01860187': 'black swan, Cygnus atratus',\n",
       " 'n02002556': 'white stork, Ciconia ciconia',\n",
       " 'n02002724': 'black stork, Ciconia nigra',\n",
       " 'n02006656': 'spoonbill',\n",
       " 'n02007558': 'flamingo',\n",
       " 'n02009912': 'American egret, great white heron, Egretta albus',\n",
       " 'n02009229': 'little blue heron, Egretta caerulea',\n",
       " 'n02011460': 'bittern',\n",
       " 'n02012849': 'crane',\n",
       " 'n02013706': 'limpkin, Aramus pictus',\n",
       " 'n02018207': 'American coot, marsh hen, mud hen, water hen, Fulica americana',\n",
       " 'n02018795': 'bustard',\n",
       " 'n02025239': 'ruddy turnstone, Arenaria interpres',\n",
       " 'n02027492': 'red-backed sandpiper, dunlin, Erolia alpina',\n",
       " 'n02028035': 'redshank, Tringa totanus',\n",
       " 'n02033041': 'dowitcher',\n",
       " 'n02037110': 'oystercatcher, oyster catcher',\n",
       " 'n02017213': 'European gallinule, Porphyrio porphyrio',\n",
       " 'n02051845': 'pelican',\n",
       " 'n02056570': 'king penguin, Aptenodytes patagonica',\n",
       " 'n02058221': 'albatross, mollymawk',\n",
       " 'n01484850': 'great white shark, white shark, man-eater, man-eating shark, Carcharodon carcharias',\n",
       " 'n01491361': 'tiger shark, Galeocerdo cuvieri',\n",
       " 'n01494475': 'hammerhead, hammerhead shark',\n",
       " 'n01496331': 'electric ray, crampfish, numbfish, torpedo',\n",
       " 'n01498041': 'stingray',\n",
       " 'n02514041': 'barracouta, snoek',\n",
       " 'n02536864': 'coho, cohoe, coho salmon, blue jack, silver salmon, Oncorhynchus kisutch',\n",
       " 'n01440764': 'tench, Tinca tinca',\n",
       " 'n01443537': 'goldfish, Carassius auratus',\n",
       " 'n02526121': 'eel',\n",
       " 'n02606052': 'rock beauty, Holocanthus tricolor',\n",
       " 'n02607072': 'anemone fish',\n",
       " 'n02643566': 'lionfish',\n",
       " 'n02655020': 'puffer, pufferfish, blowfish, globefish',\n",
       " 'n02640242': 'sturgeon',\n",
       " 'n02641379': 'gar, garfish, garpike, billfish, Lepisosteus osseus',\n",
       " 'n01664065': 'loggerhead, loggerhead turtle, Caretta caretta',\n",
       " 'n01665541': 'leatherback turtle, leatherback, leathery turtle, Dermochelys coriacea',\n",
       " 'n01667114': 'mud turtle',\n",
       " 'n01667778': 'terrapin',\n",
       " 'n01669191': 'box turtle, box tortoise',\n",
       " 'n01675722': 'banded gecko',\n",
       " 'n01677366': 'common iguana, iguana, Iguana iguana',\n",
       " 'n01682714': 'American chameleon, anole, Anolis carolinensis',\n",
       " 'n01685808': 'whiptail, whiptail lizard',\n",
       " 'n01687978': 'agama',\n",
       " 'n01688243': 'frilled lizard, Chlamydosaurus kingi',\n",
       " 'n01689811': 'alligator lizard',\n",
       " 'n01692333': 'Gila monster, Heloderma suspectum',\n",
       " 'n01693334': 'green lizard, Lacerta viridis',\n",
       " 'n01694178': 'African chameleon, Chamaeleo chamaeleon',\n",
       " 'n01695060': 'Komodo dragon, Komodo lizard, dragon lizard, giant lizard, Varanus komodoensis',\n",
       " 'n01704323': 'triceratops',\n",
       " 'n01697457': 'African crocodile, Nile crocodile, Crocodylus niloticus',\n",
       " 'n01698640': 'American alligator, Alligator mississipiensis',\n",
       " 'n01728572': 'thunder snake, worm snake, Carphophis amoenus',\n",
       " 'n01728920': 'ringneck snake, ring-necked snake, ring snake',\n",
       " 'n01729322': 'hognose snake, puff adder, sand viper',\n",
       " 'n01729977': 'green snake, grass snake',\n",
       " 'n01734418': 'king snake, kingsnake',\n",
       " 'n01735189': 'garter snake, grass snake',\n",
       " 'n01737021': 'water snake',\n",
       " 'n01739381': 'vine snake',\n",
       " 'n01740131': 'night snake, Hypsiglena torquata',\n",
       " 'n01742172': 'boa constrictor, Constrictor constrictor',\n",
       " 'n01744401': 'rock python, rock snake, Python sebae',\n",
       " 'n01748264': 'Indian cobra, Naja naja',\n",
       " 'n01749939': 'green mamba',\n",
       " 'n01751748': 'sea snake',\n",
       " 'n01753488': 'horned viper, cerastes, sand viper, horned asp, Cerastes cornutus',\n",
       " 'n01755581': 'diamondback, diamondback rattlesnake, Crotalus adamanteus',\n",
       " 'n01756291': 'sidewinder, horned rattlesnake, Crotalus cerastes',\n",
       " 'n01629819': 'European fire salamander, Salamandra salamandra',\n",
       " 'n01630670': 'common newt, Triturus vulgaris',\n",
       " 'n01631663': 'eft',\n",
       " 'n01632458': 'spotted salamander, Ambystoma maculatum',\n",
       " 'n01632777': 'axolotl, mud puppy, Ambystoma mexicanum',\n",
       " 'n01641577': 'bullfrog, Rana catesbeiana',\n",
       " 'n01644373': 'tree frog, tree-frog',\n",
       " 'n01644900': 'tailed frog, bell toad, ribbed toad, tailed toad, Ascaphus trui',\n",
       " 'n04579432': 'whistle',\n",
       " 'n04592741': 'wing',\n",
       " 'n03876231': 'paintbrush',\n",
       " 'n03483316': 'hand blower, blow dryer, blow drier, hair dryer, hair drier',\n",
       " 'n03868863': 'oxygen mask',\n",
       " 'n04251144': 'snorkel',\n",
       " 'n03691459': 'loudspeaker, speaker, speaker unit, loudspeaker system, speaker system',\n",
       " 'n03759954': 'microphone, mike',\n",
       " 'n04152593': 'screen, CRT screen',\n",
       " 'n03793489': 'mouse, computer mouse',\n",
       " 'n03271574': 'electric fan, blower',\n",
       " 'n03843555': 'oil filter',\n",
       " 'n04332243': 'strainer',\n",
       " 'n04265275': 'space heater',\n",
       " 'n04330267': 'stove',\n",
       " 'n03467068': 'guillotine',\n",
       " 'n02794156': 'barometer',\n",
       " 'n04118776': 'rule, ruler',\n",
       " 'n03841143': 'odometer, hodometer, mileometer, milometer',\n",
       " 'n04141975': 'scale, weighing machine',\n",
       " 'n02708093': 'analog clock',\n",
       " 'n03196217': 'digital clock',\n",
       " 'n04548280': 'wall clock',\n",
       " 'n03544143': 'hourglass',\n",
       " 'n04355338': 'sundial',\n",
       " 'n03891332': 'parking meter',\n",
       " 'n04328186': 'stopwatch, stop watch',\n",
       " 'n03197337': 'digital watch',\n",
       " 'n04317175': 'stethoscope',\n",
       " 'n04376876': 'syringe',\n",
       " 'n03706229': 'magnetic compass',\n",
       " 'n02841315': 'binoculars, field glasses, opera glasses',\n",
       " 'n04009552': 'projector',\n",
       " 'n04356056': 'sunglasses, dark glasses, shades',\n",
       " 'n03692522': \"loupe, jeweler's loupe\",\n",
       " 'n04044716': 'radio telescope, radio reflector',\n",
       " 'n02879718': 'bow',\n",
       " 'n02950826': 'cannon',\n",
       " 'n02749479': 'assault rifle, assault gun',\n",
       " 'n04090263': 'rifle',\n",
       " 'n04008634': 'projectile, missile',\n",
       " 'n03085013': 'computer keyboard, keypad',\n",
       " 'n04505470': 'typewriter keyboard',\n",
       " 'n03126707': 'crane',\n",
       " 'n03666591': 'lighter, light, igniter, ignitor',\n",
       " 'n02666196': 'abacus',\n",
       " 'n02977058': 'cash machine, cash dispenser, automated teller machine, automatic teller machine, automated teller, automatic teller, ATM',\n",
       " 'n04238763': 'slide rule, slipstick',\n",
       " 'n03180011': 'desktop computer',\n",
       " 'n03485407': 'hand-held computer, hand-held microcomputer',\n",
       " 'n03832673': 'notebook, notebook computer',\n",
       " 'n06359193': 'web site, website, internet site, site',\n",
       " 'n03496892': 'harvester, reaper',\n",
       " 'n04428191': 'thresher, thrasher, threshing machine',\n",
       " 'n04004767': 'printer',\n",
       " 'n04243546': 'slot, one-armed bandit',\n",
       " 'n04525305': 'vending machine',\n",
       " 'n04179913': 'sewing machine',\n",
       " 'n03602883': 'joystick',\n",
       " 'n04372370': 'switch, electric switch, electrical switch',\n",
       " 'n03532672': 'hook, claw',\n",
       " 'n02974003': 'car wheel',\n",
       " 'n03874293': 'paddlewheel, paddle wheel',\n",
       " 'n03944341': 'pinwheel',\n",
       " 'n03992509': \"potter's wheel\",\n",
       " 'n03425413': 'gas pump, gasoline pump, petrol pump, island dispenser',\n",
       " 'n02966193': 'carousel, carrousel, merry-go-round, roundabout, whirligig',\n",
       " 'n04371774': 'swing',\n",
       " 'n04067472': 'reel',\n",
       " 'n04040759': 'radiator',\n",
       " 'n04019541': 'puck, hockey puck',\n",
       " 'n03492542': 'hard disc, hard disk, fixed disk',\n",
       " 'n04355933': 'sunglass',\n",
       " 'n03929660': 'pick, plectrum, plectron',\n",
       " 'n02965783': 'car mirror',\n",
       " 'n04258138': 'solar dish, solar collector, solar furnace',\n",
       " 'n04074963': 'remote control, remote',\n",
       " 'n03208938': 'disk brake, disc brake',\n",
       " 'n02910353': 'buckle',\n",
       " 'n03476684': 'hair slide',\n",
       " 'n03627232': 'knot',\n",
       " 'n03075370': 'combination lock',\n",
       " 'n03874599': 'padlock',\n",
       " 'n03804744': 'nail',\n",
       " 'n04127249': 'safety pin',\n",
       " 'n04153751': 'screw',\n",
       " 'n03803284': 'muzzle',\n",
       " 'n04162706': 'seat belt, seatbelt',\n",
       " 'n04228054': 'ski',\n",
       " 'n02948072': 'candle, taper, wax light',\n",
       " 'n03590841': \"jack-o'-lantern\",\n",
       " 'n04286575': 'spotlight, spot',\n",
       " 'n04456115': 'torch',\n",
       " 'n03814639': 'neck brace',\n",
       " 'n03933933': 'pier',\n",
       " 'n04485082': 'tripod',\n",
       " 'n03733131': 'maypole',\n",
       " 'n03794056': 'mousetrap',\n",
       " 'n04275548': \"spider web, spider's web\",\n",
       " 'n01768244': 'trilobite',\n",
       " 'n01770081': 'harvestman, daddy longlegs, Phalangium opilio',\n",
       " 'n01770393': 'scorpion',\n",
       " 'n01773157': 'black and gold garden spider, Argiope aurantia',\n",
       " 'n01773549': 'barn spider, Araneus cavaticus',\n",
       " 'n01773797': 'garden spider, Aranea diademata',\n",
       " 'n01774384': 'black widow, Latrodectus mactans',\n",
       " 'n01774750': 'tarantula',\n",
       " 'n01775062': 'wolf spider, hunting spider',\n",
       " 'n01776313': 'tick',\n",
       " 'n01784675': 'centipede',\n",
       " 'n01990800': 'isopod',\n",
       " 'n01978287': 'Dungeness crab, Cancer magister',\n",
       " 'n01978455': 'rock crab, Cancer irroratus',\n",
       " 'n01980166': 'fiddler crab',\n",
       " 'n01981276': 'king crab, Alaska crab, Alaskan king crab, Alaska king crab, Paralithodes camtschatica',\n",
       " 'n01983481': 'American lobster, Northern lobster, Maine lobster, Homarus americanus',\n",
       " 'n01984695': 'spiny lobster, langouste, rock lobster, crawfish, crayfish, sea crawfish',\n",
       " 'n01985128': 'crayfish, crawfish, crawdad, crawdaddy',\n",
       " 'n01986214': 'hermit crab',\n",
       " 'n02165105': 'tiger beetle',\n",
       " 'n02165456': 'ladybug, ladybeetle, lady beetle, ladybird, ladybird beetle',\n",
       " 'n02167151': 'ground beetle, carabid beetle',\n",
       " 'n02168699': 'long-horned beetle, longicorn, longicorn beetle',\n",
       " 'n02169497': 'leaf beetle, chrysomelid',\n",
       " 'n02172182': 'dung beetle',\n",
       " 'n02174001': 'rhinoceros beetle',\n",
       " 'n02177972': 'weevil',\n",
       " 'n02190166': 'fly',\n",
       " 'n02206856': 'bee',\n",
       " 'n02226429': 'grasshopper, hopper',\n",
       " 'n02229544': 'cricket',\n",
       " 'n02231487': 'walking stick, walkingstick, stick insect',\n",
       " 'n02233338': 'cockroach, roach',\n",
       " 'n02236044': 'mantis, mantid',\n",
       " 'n02256656': 'cicada, cicala',\n",
       " 'n02259212': 'leafhopper',\n",
       " 'n02264363': 'lacewing, lacewing fly',\n",
       " 'n02268443': \"dragonfly, darning needle, devil's darning needle, sewing needle, snake feeder, snake doctor, mosquito hawk, skeeter hawk\",\n",
       " 'n02268853': 'damselfly',\n",
       " 'n02276258': 'admiral',\n",
       " 'n02277742': 'ringlet, ringlet butterfly',\n",
       " 'n02279972': 'monarch, monarch butterfly, milkweed butterfly, Danaus plexippus',\n",
       " 'n02280649': 'cabbage butterfly',\n",
       " 'n02281406': 'sulphur butterfly, sulfur butterfly',\n",
       " 'n02281787': 'lycaenid, lycaenid butterfly',\n",
       " 'n01910747': 'jellyfish',\n",
       " 'n01914609': 'sea anemone, anemone',\n",
       " 'n01917289': 'brain coral',\n",
       " 'n01924916': 'flatworm, platyhelminth',\n",
       " 'n01930112': 'nematode, nematode worm, roundworm',\n",
       " 'n01943899': 'conch',\n",
       " 'n01944390': 'snail',\n",
       " 'n01945685': 'slug',\n",
       " 'n01950731': 'sea slug, nudibranch',\n",
       " 'n01955084': 'chiton, coat-of-mail shell, sea cradle, polyplacophore',\n",
       " 'n02319095': 'sea urchin',\n",
       " 'n02321529': 'sea cucumber, holothurian',\n",
       " 'n03584829': 'iron, smoothing iron',\n",
       " 'n03297495': 'espresso maker',\n",
       " 'n03761084': 'microwave, microwave oven',\n",
       " 'n03259280': 'Dutch oven',\n",
       " 'n04111531': 'rotisserie',\n",
       " 'n04442312': 'toaster',\n",
       " 'n04542943': 'waffle iron',\n",
       " 'n04517823': 'vacuum, vacuum cleaner',\n",
       " 'n03207941': 'dishwasher, dish washer, dishwashing machine',\n",
       " 'n04070727': 'refrigerator, icebox',\n",
       " 'n04554684': 'washer, automatic washer, washing machine',\n",
       " 'n03133878': 'Crock Pot',\n",
       " 'n03400231': 'frying pan, frypan, skillet',\n",
       " 'n04596742': 'wok',\n",
       " 'n02939185': 'caldron, cauldron',\n",
       " 'n03063689': 'coffeepot',\n",
       " 'n04398044': 'teapot',\n",
       " 'n04270147': 'spatula',\n",
       " 'n02699494': 'altar',\n",
       " 'n04486054': 'triumphal arch',\n",
       " 'n03899768': 'patio, terrace',\n",
       " 'n04311004': 'steel arch bridge',\n",
       " 'n04366367': 'suspension bridge',\n",
       " 'n04532670': 'viaduct',\n",
       " 'n02793495': 'barn',\n",
       " 'n03457902': 'greenhouse, nursery, glasshouse',\n",
       " 'n03877845': 'palace',\n",
       " 'n03781244': 'monastery',\n",
       " 'n03661043': 'library',\n",
       " 'n02727426': 'apiary, bee house',\n",
       " 'n02859443': 'boathouse',\n",
       " 'n03028079': 'church, church building',\n",
       " 'n03788195': 'mosque',\n",
       " 'n04346328': 'stupa, tope',\n",
       " 'n03956157': 'planetarium',\n",
       " 'n04081281': 'restaurant, eating house, eating place, eatery',\n",
       " 'n03032252': 'cinema, movie theater, movie theatre, movie house, picture palace',\n",
       " 'n03529860': 'home theater, home theatre',\n",
       " 'n03697007': 'lumbermill, sawmill',\n",
       " 'n03065424': 'coil, spiral, volute, whorl, helix',\n",
       " 'n03837869': 'obelisk',\n",
       " 'n04458633': 'totem pole',\n",
       " 'n02980441': 'castle',\n",
       " 'n04005630': 'prison, prison house',\n",
       " 'n03461385': 'grocery store, grocery, food market, market',\n",
       " 'n02776631': 'bakery, bakeshop, bakehouse',\n",
       " 'n02791270': 'barbershop',\n",
       " 'n02871525': 'bookshop, bookstore, bookstall',\n",
       " 'n02927161': 'butcher shop, meat market',\n",
       " 'n03089624': 'confectionery, confectionary, candy store',\n",
       " 'n04200800': 'shoe shop, shoe-shop, shoe store',\n",
       " 'n04443257': 'tobacco shop, tobacconist shop, tobacconist',\n",
       " 'n04462240': 'toyshop',\n",
       " 'n03388043': 'fountain',\n",
       " 'n03042490': 'cliff dwelling',\n",
       " 'n04613696': 'yurt',\n",
       " 'n03216828': 'dock, dockage, docking facility',\n",
       " 'n02892201': 'brass, memorial tablet, plaque',\n",
       " 'n03743016': 'megalith, megalithic structure',\n",
       " 'n02788148': 'bannister, banister, balustrade, balusters, handrail',\n",
       " 'n02894605': 'breakwater, groin, groyne, mole, bulwark, seawall, jetty',\n",
       " 'n03160309': 'dam, dike, dyke',\n",
       " 'n03000134': 'chainlink fence',\n",
       " 'n03930313': 'picket fence, paling',\n",
       " 'n04604644': 'worm fence, snake fence, snake-rail fence, Virginia fence',\n",
       " 'n04326547': 'stone wall',\n",
       " 'n03459775': 'grille, radiator grille',\n",
       " 'n04239074': 'sliding door',\n",
       " 'n04501370': 'turnstile',\n",
       " 'n03792972': 'mountain tent',\n",
       " 'n04149813': 'scoreboard',\n",
       " 'n03530642': 'honeycomb',\n",
       " 'n03961711': 'plate rack',\n",
       " 'n03903868': 'pedestal, plinth, footstall',\n",
       " 'n02814860': 'beacon, lighthouse, beacon light, pharos',\n",
       " 'n07711569': 'mashed potato',\n",
       " 'n07720875': 'bell pepper',\n",
       " 'n07714571': 'head cabbage',\n",
       " 'n07714990': 'broccoli',\n",
       " 'n07715103': 'cauliflower',\n",
       " 'n07716358': 'zucchini, courgette',\n",
       " 'n07716906': 'spaghetti squash',\n",
       " 'n07717410': 'acorn squash',\n",
       " 'n07717556': 'butternut squash',\n",
       " 'n07718472': 'cucumber, cuke',\n",
       " 'n07718747': 'artichoke, globe artichoke',\n",
       " 'n07730033': 'cardoon',\n",
       " 'n07734744': 'mushroom',\n",
       " 'n04209239': 'shower curtain',\n",
       " 'n03594734': 'jean, blue jean, denim',\n",
       " 'n02971356': 'carton',\n",
       " 'n03485794': 'handkerchief, hankie, hanky, hankey',\n",
       " 'n04133789': 'sandal',\n",
       " 'n02747177': 'ashcan, trash can, garbage can, wastebin, ash bin, ash-bin, ashbin, dustbin, trash barrel, trash bin',\n",
       " 'n04125021': 'safe',\n",
       " 'n07579787': 'plate',\n",
       " 'n03814906': 'necklace',\n",
       " 'n03134739': 'croquet ball',\n",
       " 'n03404251': 'fur coat',\n",
       " 'n04423845': 'thimble',\n",
       " 'n03877472': \"pajama, pyjama, pj's, jammies\",\n",
       " 'n04120489': 'running shoe',\n",
       " 'n03062245': 'cocktail shaker',\n",
       " 'n03014705': 'chest',\n",
       " 'n03717622': 'manhole cover',\n",
       " 'n03777754': 'modem',\n",
       " 'n04493381': 'tub, vat',\n",
       " 'n04476259': 'tray',\n",
       " 'n02777292': 'balance beam, beam',\n",
       " 'n07693725': 'bagel, beigel',\n",
       " 'n03998194': 'prayer rug, prayer mat',\n",
       " 'n03617480': 'kimono',\n",
       " 'n07590611': 'hot pot, hotpot',\n",
       " 'n04579145': 'whiskey jug',\n",
       " 'n03623198': 'knee pad',\n",
       " 'n07248320': 'book jacket, dust cover, dust jacket, dust wrapper',\n",
       " 'n04277352': 'spindle',\n",
       " 'n04229816': 'ski mask',\n",
       " 'n02823428': 'beer bottle',\n",
       " 'n03127747': 'crash helmet',\n",
       " 'n02877765': 'bottlecap',\n",
       " 'n04435653': 'tile roof',\n",
       " 'n03724870': 'mask',\n",
       " 'n03710637': 'maillot',\n",
       " 'n03920288': 'Petri dish',\n",
       " 'n03379051': 'football helmet',\n",
       " 'n02807133': 'bathing cap, swimming cap',\n",
       " 'n04399382': 'teddy, teddy bear',\n",
       " 'n03527444': 'holster',\n",
       " 'n03983396': 'pop bottle, soda bottle',\n",
       " 'n03924679': 'photocopier',\n",
       " 'n04532106': 'vestment',\n",
       " 'n06785654': 'crossword puzzle, crossword',\n",
       " 'n03445777': 'golf ball',\n",
       " 'n07613480': 'trifle',\n",
       " 'n04350905': 'suit, suit of clothes',\n",
       " 'n04562935': 'water tower',\n",
       " 'n03325584': 'feather boa, boa',\n",
       " 'n03045698': 'cloak',\n",
       " 'n07892512': 'red wine',\n",
       " 'n03250847': 'drumstick',\n",
       " 'n04192698': 'shield, buckler',\n",
       " 'n03026506': 'Christmas stocking',\n",
       " 'n03534580': 'hoopskirt, crinoline',\n",
       " 'n07565083': 'menu',\n",
       " 'n04296562': 'stage',\n",
       " 'n02869837': 'bonnet, poke bonnet',\n",
       " 'n07871810': 'meat loaf, meatloaf',\n",
       " 'n02799071': 'baseball',\n",
       " 'n03314780': 'face powder',\n",
       " 'n04141327': 'scabbard',\n",
       " 'n04357314': 'sunscreen, sunblock, sun blocker',\n",
       " 'n02823750': 'beer glass',\n",
       " 'n13052670': 'hen-of-the-woods, hen of the woods, Polyporus frondosus, Grifola frondosa',\n",
       " 'n07583066': 'guacamole',\n",
       " 'n03637318': 'lampshade, lamp shade',\n",
       " 'n04599235': 'wool, woolen, woollen',\n",
       " 'n07802026': 'hay',\n",
       " 'n02883205': 'bow tie, bow-tie, bowtie',\n",
       " 'n03709823': 'mailbag, postbag',\n",
       " 'n04560804': 'water jug',\n",
       " 'n02909870': 'bucket, pail',\n",
       " 'n03207743': 'dishrag, dishcloth',\n",
       " 'n04263257': 'soup bowl',\n",
       " 'n07932039': 'eggnog',\n",
       " 'n03786901': 'mortar',\n",
       " 'n04479046': 'trench coat',\n",
       " 'n03873416': 'paddle, boat paddle',\n",
       " 'n02999410': 'chain',\n",
       " 'n04367480': 'swab, swob, mop',\n",
       " 'n03775546': 'mixing bowl',\n",
       " 'n07875152': 'potpie',\n",
       " 'n04591713': 'wine bottle',\n",
       " 'n04201297': 'shoji',\n",
       " 'n02916936': 'bulletproof vest',\n",
       " 'n03240683': 'drilling platform, offshore rig',\n",
       " 'n02840245': 'binder, ring-binder',\n",
       " 'n02963159': 'cardigan',\n",
       " 'n04370456': 'sweatshirt',\n",
       " 'n03991062': 'pot, flowerpot',\n",
       " 'n02843684': 'birdhouse',\n",
       " 'n03482405': 'hamper',\n",
       " 'n03942813': 'ping-pong ball',\n",
       " 'n03908618': 'pencil box, pencil case',\n",
       " 'n03902125': 'pay-phone, pay-station',\n",
       " 'n07584110': 'consomme',\n",
       " 'n02730930': 'apron',\n",
       " 'n04023962': 'punching bag, punch bag, punching ball, punchball',\n",
       " 'n02769748': 'backpack, back pack, knapsack, packsack, rucksack, haversack',\n",
       " 'n10148035': 'groom, bridegroom',\n",
       " 'n02817516': 'bearskin, busby, shako',\n",
       " 'n03908714': 'pencil sharpener',\n",
       " 'n02906734': 'broom',\n",
       " 'n03788365': 'mosquito net',\n",
       " 'n02667093': 'abaya',\n",
       " 'n03787032': 'mortarboard',\n",
       " 'n03980874': 'poncho',\n",
       " 'n03141823': 'crutch',\n",
       " 'n03976467': 'Polaroid camera, Polaroid Land camera',\n",
       " 'n04264628': 'space bar',\n",
       " 'n07930864': 'cup',\n",
       " 'n04039381': 'racket, racquet',\n",
       " 'n06874185': 'traffic light, traffic signal, stoplight',\n",
       " 'n04033901': 'quill, quill pen',\n",
       " 'n04041544': 'radio, wireless',\n",
       " 'n07860988': 'dough',\n",
       " 'n03146219': 'cuirass',\n",
       " 'n03763968': 'military uniform',\n",
       " 'n03676483': 'lipstick, lip rouge',\n",
       " 'n04209133': 'shower cap',\n",
       " 'n03782006': 'monitor',\n",
       " 'n03857828': 'oscilloscope, scope, cathode-ray oscilloscope, CRO',\n",
       " 'n03775071': 'mitten',\n",
       " 'n02892767': 'brassiere, bra, bandeau',\n",
       " 'n07684084': 'French loaf',\n",
       " 'n04522168': 'vase',\n",
       " 'n03764736': 'milk can',\n",
       " 'n04118538': 'rugby ball',\n",
       " 'n03887697': 'paper towel',\n",
       " 'n13044778': 'earthstar',\n",
       " 'n03291819': 'envelope',\n",
       " 'n03770439': 'miniskirt, mini',\n",
       " 'n03124170': 'cowboy hat, ten-gallon hat',\n",
       " 'n04487081': 'trolleybus, trolley coach, trackless trolley',\n",
       " 'n03916031': 'perfume, essence',\n",
       " 'n02808440': 'bathtub, bathing tub, bath, tub',\n",
       " 'n07697537': 'hotdog, hot dog, red hot',\n",
       " 'n12985857': 'coral fungus',\n",
       " 'n02917067': 'bullet train, bullet',\n",
       " 'n03938244': 'pillow',\n",
       " 'n15075141': 'toilet tissue, toilet paper, bathroom tissue',\n",
       " 'n02978881': 'cassette',\n",
       " 'n02966687': \"carpenter's kit, tool kit\",\n",
       " 'n03633091': 'ladle',\n",
       " 'n13040303': 'stinkhorn, carrion fungus',\n",
       " 'n03690938': 'lotion',\n",
       " 'n03476991': 'hair spray',\n",
       " 'n02669723': \"academic gown, academic robe, judge's robe\",\n",
       " 'n03220513': 'dome',\n",
       " 'n03127925': 'crate',\n",
       " 'n04584207': 'wig',\n",
       " 'n07880968': 'burrito',\n",
       " 'n03937543': 'pill bottle',\n",
       " 'n03000247': 'chain mail, ring mail, mail, chain armor, chain armour, ring armor, ring armour',\n",
       " 'n04418357': 'theater curtain, theatre curtain',\n",
       " 'n04590129': 'window shade',\n",
       " 'n02795169': 'barrel, cask',\n",
       " 'n04553703': 'washbasin, handbasin, washbowl, lavabo, wash-hand basin',\n",
       " 'n02783161': 'ballpoint, ballpoint pen, ballpen, Biro',\n",
       " 'n02802426': 'basketball',\n",
       " 'n02808304': 'bath towel',\n",
       " 'n03124043': 'cowboy boot',\n",
       " 'n03450230': 'gown',\n",
       " 'n04589890': 'window screen',\n",
       " 'n12998815': 'agaric',\n",
       " 'n02992529': 'cellular telephone, cellular phone, cellphone, cell, mobile phone',\n",
       " 'n03825788': 'nipple',\n",
       " 'n02790996': 'barbell',\n",
       " 'n03710193': 'mailbox, letter box',\n",
       " 'n03630383': 'lab coat, laboratory coat',\n",
       " 'n03347037': 'fire screen, fireguard',\n",
       " 'n03769881': 'minibus',\n",
       " 'n03871628': 'packet',\n",
       " 'n03733281': 'maze, labyrinth',\n",
       " 'n03976657': 'pole',\n",
       " 'n03535780': 'horizontal bar, high bar',\n",
       " 'n04259630': 'sombrero',\n",
       " 'n03929855': 'pickelhaube',\n",
       " 'n04049303': 'rain barrel',\n",
       " 'n04548362': 'wallet, billfold, notecase, pocketbook',\n",
       " 'n02979186': 'cassette player',\n",
       " 'n06596364': 'comic book',\n",
       " 'n03935335': 'piggy bank, penny bank',\n",
       " 'n06794110': 'street sign',\n",
       " 'n02825657': 'bell cote, bell cot',\n",
       " 'n03388183': 'fountain pen',\n",
       " 'n04591157': 'Windsor tie',\n",
       " 'n04540053': 'volleyball',\n",
       " 'n03866082': 'overskirt',\n",
       " 'n04136333': 'sarong',\n",
       " 'n04026417': 'purse',\n",
       " 'n02865351': 'bolo tie, bolo, bola tie, bola',\n",
       " 'n02834397': 'bib',\n",
       " 'n03888257': 'parachute, chute',\n",
       " 'n04235860': 'sleeping bag',\n",
       " 'n04404412': 'television, television system',\n",
       " 'n04371430': 'swimming trunks, bathing trunks',\n",
       " 'n03733805': 'measuring cup',\n",
       " 'n07920052': 'espresso',\n",
       " 'n07873807': 'pizza, pizza pie',\n",
       " 'n02895154': 'breastplate, aegis, egis',\n",
       " 'n04204238': 'shopping basket',\n",
       " 'n04597913': 'wooden spoon',\n",
       " 'n04131690': 'saltshaker, salt shaker',\n",
       " 'n07836838': 'chocolate sauce, chocolate syrup',\n",
       " 'n09835506': 'ballplayer, baseball player',\n",
       " 'n03443371': 'goblet',\n",
       " 'n13037406': 'gyromitra',\n",
       " 'n04336792': 'stretcher',\n",
       " 'n04557648': 'water bottle',\n",
       " 'n03187595': 'dial telephone, dial phone',\n",
       " 'n04254120': 'soap dispenser',\n",
       " 'n03595614': 'jersey, T-shirt, tee shirt',\n",
       " 'n04146614': 'school bus',\n",
       " 'n03598930': 'jigsaw puzzle',\n",
       " 'n03958227': 'plastic bag',\n",
       " 'n04069434': 'reflex camera',\n",
       " 'n03188531': 'diaper, nappy, napkin',\n",
       " 'n02786058': 'Band Aid',\n",
       " 'n07615774': 'ice lolly, lolly, lollipop, popsicle',\n",
       " 'n04525038': 'velvet',\n",
       " 'n04409515': 'tennis ball',\n",
       " 'n03424325': 'gasmask, respirator, gas helmet',\n",
       " 'n03223299': 'doormat, welcome mat',\n",
       " 'n03680355': 'Loafer',\n",
       " 'n07614500': 'ice cream, icecream',\n",
       " 'n07695742': 'pretzel',\n",
       " 'n04033995': 'quilt, comforter, comfort, puff',\n",
       " 'n03710721': 'maillot, tank suit',\n",
       " 'n04392985': 'tape player',\n",
       " 'n03047690': 'clog, geta, patten, sabot',\n",
       " 'n03584254': 'iPod',\n",
       " 'n13054560': 'bolete',\n",
       " 'n10565667': 'scuba diver',\n",
       " 'n03950228': 'pitcher, ewer',\n",
       " 'n03729826': 'matchstick',\n",
       " 'n02837789': 'bikini, two-piece',\n",
       " 'n04254777': 'sock',\n",
       " 'n02988304': 'CD player',\n",
       " 'n03657121': 'lens cap, lens cover',\n",
       " 'n04417672': 'thatch, thatched roof',\n",
       " 'n04523525': 'vault',\n",
       " 'n02815834': 'beaker',\n",
       " 'n09229709': 'bubble',\n",
       " 'n07697313': 'cheeseburger',\n",
       " 'n03888605': 'parallel bars, bars',\n",
       " 'n03355925': 'flagpole, flagstaff',\n",
       " 'n03063599': 'coffee mug',\n",
       " 'n04116512': 'rubber eraser, rubber, pencil eraser',\n",
       " 'n04325704': 'stole',\n",
       " 'n07831146': 'carbonara',\n",
       " ...}"
      ]
     },
     "execution_count": 14,
     "metadata": {},
     "output_type": "execute_result"
    }
   ],
   "source": [
    "key_to_classname"
   ]
  },
  {
   "cell_type": "code",
   "execution_count": 15,
   "metadata": {},
   "outputs": [
    {
     "data": {
      "text/plain": [
       "array(['n01440764', 'n01443537', 'n01484850', 'n01491361', ..., 'n13052670', 'n13054560', 'n13133613', 'n15075141'],\n",
       "      dtype='<U9')"
      ]
     },
     "execution_count": 15,
     "metadata": {},
     "output_type": "execute_result"
    }
   ],
   "source": [
    "class_id_to_key"
   ]
  },
  {
   "cell_type": "code",
   "execution_count": 16,
   "metadata": {},
   "outputs": [],
   "source": [
    "classes = [key_to_classname[key] for key in class_id_to_key]"
   ]
  },
  {
   "cell_type": "code",
   "execution_count": 17,
   "metadata": {},
   "outputs": [
    {
     "data": {
      "text/plain": [
       "(1000,\n",
       " ['tench, Tinca tinca',\n",
       "  'goldfish, Carassius auratus',\n",
       "  'great white shark, white shark, man-eater, man-eating shark, Carcharodon carcharias',\n",
       "  'tiger shark, Galeocerdo cuvieri',\n",
       "  'hammerhead, hammerhead shark'])"
      ]
     },
     "execution_count": 17,
     "metadata": {},
     "output_type": "execute_result"
    }
   ],
   "source": [
    "len(classes), classes[:5]"
   ]
  }
 ],
 "metadata": {
  "kernelspec": {
   "display_name": "Python 3",
   "language": "python",
   "name": "python3"
  },
  "language_info": {
   "codemirror_mode": {
    "name": "ipython",
    "version": 3
   },
   "file_extension": ".py",
   "mimetype": "text/x-python",
   "name": "python",
   "nbconvert_exporter": "python",
   "pygments_lexer": "ipython3",
   "version": "3.7.3"
  }
 },
 "nbformat": 4,
 "nbformat_minor": 2
}
